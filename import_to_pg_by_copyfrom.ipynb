{
 "cells": [
  {
   "cell_type": "code",
   "execution_count": 38,
   "id": "8d17d820-1a6b-4bb1-820b-cb509fd9da88",
   "metadata": {},
   "outputs": [
    {
     "name": "stdout",
     "output_type": "stream",
     "text": [
      "Total number of records: 16499\n"
     ]
    },
    {
     "name": "stderr",
     "output_type": "stream",
     "text": [
      "C:\\Users\\클루커스\\AppData\\Local\\Temp\\ipykernel_17108\\2235244163.py:8: FutureWarning: DataFrame.applymap has been deprecated. Use DataFrame.map instead.\n",
      "  df = df.applymap(lambda x: x.replace('\\n', ' | ').replace('\\t', '') if isinstance(x, str) else x)\n"
     ]
    }
   ],
   "source": [
    "import pandas as pd\n",
    "\n",
    "# 파일 경로\n",
    "file_path = r'~.xlsx'\n",
    "\n",
    "# Excel 파일을 읽어들여 DataFrame에 저장\n",
    "df = pd.read_excel(file_path)\n",
    "df = df.applymap(lambda x: x.replace('\\n', ' | ').replace('\\t', '') if isinstance(x, str) else x)\n",
    "\n",
    "# 총 레코드 수 조회\n",
    "record_count = len(df)\n",
    "print(f\"Total number of records: {record_count}\")"
   ]
  },
  {
   "cell_type": "code",
   "execution_count": 40,
   "id": "b327e702-5198-4e41-a487-74ceb8e3fe57",
   "metadata": {},
   "outputs": [
    {
     "name": "stdout",
     "output_type": "stream",
     "text": [
      "Total number of records: 21681\n"
     ]
    },
    {
     "name": "stderr",
     "output_type": "stream",
     "text": [
      "C:\\Users\\클루커스\\AppData\\Local\\Temp\\ipykernel_17108\\3299896415.py:8: FutureWarning: DataFrame.applymap has been deprecated. Use DataFrame.map instead.\n",
      "  df2 = df2.applymap(lambda x: x.replace('\\n', ' | ').replace('\\t', '') if isinstance(x, str) else x)\n"
     ]
    }
   ],
   "source": [
    "import pandas as pd\n",
    "\n",
    "# 파일 경로\n",
    "file_path = r'~.xlsx'\n",
    "\n",
    "# Excel 파일을 읽어들여 DataFrame에 저장\n",
    "df2 = pd.read_excel(file_path)\n",
    "df2 = df2.applymap(lambda x: x.replace('\\n', ' | ').replace('\\t', '') if isinstance(x, str) else x)\n",
    "\n",
    "# 총 레코드 수 조회\n",
    "record_count2 = len(df2)\n",
    "print(f\"Total number of records: {record_count2}\")"
   ]
  },
  {
   "cell_type": "code",
   "execution_count": 41,
   "id": "18f06154-7131-4222-9765-437c9404f7ae",
   "metadata": {},
   "outputs": [
    {
     "name": "stdout",
     "output_type": "stream",
     "text": [
      "Total number of records: 38180\n"
     ]
    }
   ],
   "source": [
    "df3 = pd.concat([df, df2], ignore_index=True)\n",
    "\n",
    "# 총 레코드 수 조회\n",
    "record_count3 = len(df3)\n",
    "print(f\"Total number of records: {record_count3}\")"
   ]
  },
  {
   "cell_type": "markdown",
   "id": "2ae5384b-9927-4b9d-96e4-cfec2c681753",
   "metadata": {},
   "source": [
    "### copy to pg by copy_from"
   ]
  },
  {
   "cell_type": "code",
   "execution_count": 46,
   "id": "13e649c6-beaf-4c1c-a5db-2784f87b4c2f",
   "metadata": {},
   "outputs": [
    {
     "name": "stdout",
     "output_type": "stream",
     "text": [
      "Existing data has been deleted from product_code_info3.\n",
      "Data has been successfully inserted into public.product_code_info.\n"
     ]
    }
   ],
   "source": [
    "import pandas as pd\n",
    "import psycopg2\n",
    "from io import StringIO\n",
    "import csv\n",
    "\n",
    "# PostgreSQL 연결 정보 설정\n",
    "conn_params = {\n",
    "    'host': '~~',\n",
    "    'port': '5432',\n",
    "    'database': '~~',\n",
    "    'user': '~~',\n",
    "    'password': '~~'\n",
    "}\n",
    "\n",
    "# PostgreSQL 연결\n",
    "conn = psycopg2.connect(**conn_params)\n",
    "cur = conn.cursor()\n",
    "\n",
    "# 테이블 데이터 삭제\n",
    "try:\n",
    "    cur.execute(\"TRUNCATE TABLE product_code_info;\")\n",
    "    conn.commit()\n",
    "    print(\"Existing data has been deleted from product_code_info3.\")\n",
    "except Exception as e:\n",
    "    conn.rollback()\n",
    "    print(\"Error while truncating data:\", e)\n",
    "\n",
    "# DataFrame을 CSV 형식의 문자열로 변환\n",
    "output = StringIO()\n",
    "df3.to_csv(output, sep='\\t', index=False, header=False, quoting=csv.QUOTE_NONE, escapechar='\\\\')\n",
    "output.seek(0)\n",
    "\n",
    "# 테이블에 데이터 적재\n",
    "try:\n",
    "    cur.copy_from(output, 'product_code_info', null='', sep='\\t')\n",
    "    conn.commit()\n",
    "    print(\"Data has been successfully inserted into public.product_code_info.\")\n",
    "except Exception as e:\n",
    "    conn.rollback()\n",
    "    print(\"Error while inserting data:\", e)\n",
    "finally:\n",
    "    cur.close()\n",
    "    conn.close()\n"
   ]
  }
 ],
 "metadata": {
  "kernelspec": {
   "display_name": "Python 3 (ipykernel)",
   "language": "python",
   "name": "python3"
  },
  "language_info": {
   "codemirror_mode": {
    "name": "ipython",
    "version": 3
   },
   "file_extension": ".py",
   "mimetype": "text/x-python",
   "name": "python",
   "nbconvert_exporter": "python",
   "pygments_lexer": "ipython3",
   "version": "3.12.7"
  }
 },
 "nbformat": 4,
 "nbformat_minor": 5
}
