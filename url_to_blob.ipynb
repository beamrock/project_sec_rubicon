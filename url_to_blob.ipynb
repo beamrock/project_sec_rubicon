{
 "cells": [
  {
   "cell_type": "code",
   "execution_count": 5,
   "metadata": {},
   "outputs": [],
   "source": [
    "!pip install azure-functions azure-core azure-ai-documentintelligence azure-storage-blob azure-search-documents\n"
   ]
  },
  {
   "cell_type": "code",
   "execution_count": null,
   "metadata": {},
   "outputs": [
    {
     "name": "stdout",
     "output_type": "stream",
     "text": [
      "파일 업로드 중 오류가 발생했습니다: OID51746_IB_DV8700TK_SimpleUX_DV20B9760_KO_240105.pdf. 오류: ('Connection aborted.', TimeoutError('The write operation timed out'))\n",
      "파일이 업로드되었습니다: DB68-11654A-00_QG_22Y_ACR_COMMON_KR_KO_220103-D01.pdf\n"
     ]
    },
    {
     "ename": "KeyboardInterrupt",
     "evalue": "",
     "output_type": "error",
     "traceback": [
      "\u001b[1;31m---------------------------------------------------------------------------\u001b[0m",
      "\u001b[1;31mKeyboardInterrupt\u001b[0m                         Traceback (most recent call last)",
      "Cell \u001b[1;32mIn[1], line 46\u001b[0m\n\u001b[0;32m     42\u001b[0m blob_client \u001b[38;5;241m=\u001b[39m container_client\u001b[38;5;241m.\u001b[39mget_blob_client(file_name)\n\u001b[0;32m     44\u001b[0m \u001b[38;5;28;01mtry\u001b[39;00m:\n\u001b[0;32m     45\u001b[0m     \u001b[38;5;66;03m# Blob에 PDF 파일 업로드 (대용량 파일 최적화 설정 추가)\u001b[39;00m\n\u001b[1;32m---> 46\u001b[0m     blob_client\u001b[38;5;241m.\u001b[39mupload_blob(\n\u001b[0;32m     47\u001b[0m         response\u001b[38;5;241m.\u001b[39mcontent, \n\u001b[0;32m     48\u001b[0m         overwrite\u001b[38;5;241m=\u001b[39m\u001b[38;5;28;01mTrue\u001b[39;00m,\n\u001b[0;32m     49\u001b[0m         max_concurrency\u001b[38;5;241m=\u001b[39m\u001b[38;5;241m4\u001b[39m  \u001b[38;5;66;03m# 병렬 연결 수를 4로 설정하여 더 빠른 업로드 가능\u001b[39;00m\n\u001b[0;32m     50\u001b[0m     )\n\u001b[0;32m     51\u001b[0m     \u001b[38;5;28mprint\u001b[39m(\u001b[38;5;124mf\u001b[39m\u001b[38;5;124m\"\u001b[39m\u001b[38;5;124m파일이 업로드되었습니다: \u001b[39m\u001b[38;5;132;01m{\u001b[39;00mfile_name\u001b[38;5;132;01m}\u001b[39;00m\u001b[38;5;124m\"\u001b[39m)\n\u001b[0;32m     52\u001b[0m \u001b[38;5;28;01mexcept\u001b[39;00m \u001b[38;5;167;01mException\u001b[39;00m \u001b[38;5;28;01mas\u001b[39;00m e:\n",
      "File \u001b[1;32mc:\\anaconda\\Lib\\site-packages\\azure\\core\\tracing\\decorator.py:105\u001b[0m, in \u001b[0;36mdistributed_trace.<locals>.decorator.<locals>.wrapper_use_tracer\u001b[1;34m(*args, **kwargs)\u001b[0m\n\u001b[0;32m    103\u001b[0m span_impl_type \u001b[38;5;241m=\u001b[39m settings\u001b[38;5;241m.\u001b[39mtracing_implementation()\n\u001b[0;32m    104\u001b[0m \u001b[38;5;28;01mif\u001b[39;00m span_impl_type \u001b[38;5;129;01mis\u001b[39;00m \u001b[38;5;28;01mNone\u001b[39;00m:\n\u001b[1;32m--> 105\u001b[0m     \u001b[38;5;28;01mreturn\u001b[39;00m func(\u001b[38;5;241m*\u001b[39margs, \u001b[38;5;241m*\u001b[39m\u001b[38;5;241m*\u001b[39mkwargs)\n\u001b[0;32m    107\u001b[0m \u001b[38;5;66;03m# Merge span is parameter is set, but only if no explicit parent are passed\u001b[39;00m\n\u001b[0;32m    108\u001b[0m \u001b[38;5;28;01mif\u001b[39;00m merge_span \u001b[38;5;129;01mand\u001b[39;00m \u001b[38;5;129;01mnot\u001b[39;00m passed_in_parent:\n",
      "File \u001b[1;32mc:\\anaconda\\Lib\\site-packages\\azure\\storage\\blob\\_blob_client.py:596\u001b[0m, in \u001b[0;36mBlobClient.upload_blob\u001b[1;34m(self, data, blob_type, length, metadata, **kwargs)\u001b[0m\n\u001b[0;32m    580\u001b[0m options \u001b[38;5;241m=\u001b[39m _upload_blob_options(\n\u001b[0;32m    581\u001b[0m     data\u001b[38;5;241m=\u001b[39mdata,\n\u001b[0;32m    582\u001b[0m     blob_type\u001b[38;5;241m=\u001b[39mblob_type,\n\u001b[1;32m   (...)\u001b[0m\n\u001b[0;32m    593\u001b[0m     client\u001b[38;5;241m=\u001b[39m\u001b[38;5;28mself\u001b[39m\u001b[38;5;241m.\u001b[39m_client,\n\u001b[0;32m    594\u001b[0m     \u001b[38;5;241m*\u001b[39m\u001b[38;5;241m*\u001b[39mkwargs)\n\u001b[0;32m    595\u001b[0m \u001b[38;5;28;01mif\u001b[39;00m blob_type \u001b[38;5;241m==\u001b[39m BlobType\u001b[38;5;241m.\u001b[39mBlockBlob:\n\u001b[1;32m--> 596\u001b[0m     \u001b[38;5;28;01mreturn\u001b[39;00m upload_block_blob(\u001b[38;5;241m*\u001b[39m\u001b[38;5;241m*\u001b[39moptions)\n\u001b[0;32m    597\u001b[0m \u001b[38;5;28;01mif\u001b[39;00m blob_type \u001b[38;5;241m==\u001b[39m BlobType\u001b[38;5;241m.\u001b[39mPageBlob:\n\u001b[0;32m    598\u001b[0m     \u001b[38;5;28;01mreturn\u001b[39;00m upload_page_blob(\u001b[38;5;241m*\u001b[39m\u001b[38;5;241m*\u001b[39moptions)\n",
      "File \u001b[1;32mc:\\anaconda\\Lib\\site-packages\\azure\\storage\\blob\\_upload_helpers.py:105\u001b[0m, in \u001b[0;36mupload_block_blob\u001b[1;34m(client, stream, overwrite, encryption_options, blob_settings, headers, validate_content, max_concurrency, length, **kwargs)\u001b[0m\n\u001b[0;32m    102\u001b[0m     encryption_data, data \u001b[38;5;241m=\u001b[39m encrypt_blob(data, encryption_options[\u001b[38;5;124m'\u001b[39m\u001b[38;5;124mkey\u001b[39m\u001b[38;5;124m'\u001b[39m], encryption_options[\u001b[38;5;124m'\u001b[39m\u001b[38;5;124mversion\u001b[39m\u001b[38;5;124m'\u001b[39m])\n\u001b[0;32m    103\u001b[0m     headers[\u001b[38;5;124m'\u001b[39m\u001b[38;5;124mx-ms-meta-encryptiondata\u001b[39m\u001b[38;5;124m'\u001b[39m] \u001b[38;5;241m=\u001b[39m encryption_data\n\u001b[1;32m--> 105\u001b[0m response \u001b[38;5;241m=\u001b[39m client\u001b[38;5;241m.\u001b[39mupload(\n\u001b[0;32m    106\u001b[0m     body\u001b[38;5;241m=\u001b[39mdata,  \u001b[38;5;66;03m# type: ignore [arg-type]\u001b[39;00m\n\u001b[0;32m    107\u001b[0m     content_length\u001b[38;5;241m=\u001b[39madjusted_count,\n\u001b[0;32m    108\u001b[0m     blob_http_headers\u001b[38;5;241m=\u001b[39mblob_headers,\n\u001b[0;32m    109\u001b[0m     headers\u001b[38;5;241m=\u001b[39mheaders,\n\u001b[0;32m    110\u001b[0m     \u001b[38;5;28mcls\u001b[39m\u001b[38;5;241m=\u001b[39mreturn_response_headers,\n\u001b[0;32m    111\u001b[0m     validate_content\u001b[38;5;241m=\u001b[39mvalidate_content,\n\u001b[0;32m    112\u001b[0m     data_stream_total\u001b[38;5;241m=\u001b[39madjusted_count,\n\u001b[0;32m    113\u001b[0m     upload_stream_current\u001b[38;5;241m=\u001b[39m\u001b[38;5;241m0\u001b[39m,\n\u001b[0;32m    114\u001b[0m     tier\u001b[38;5;241m=\u001b[39mtier\u001b[38;5;241m.\u001b[39mvalue \u001b[38;5;28;01mif\u001b[39;00m tier \u001b[38;5;28;01melse\u001b[39;00m \u001b[38;5;28;01mNone\u001b[39;00m,\n\u001b[0;32m    115\u001b[0m     blob_tags_string\u001b[38;5;241m=\u001b[39mblob_tags_string,\n\u001b[0;32m    116\u001b[0m     immutability_policy_expiry\u001b[38;5;241m=\u001b[39mimmutability_policy_expiry,\n\u001b[0;32m    117\u001b[0m     immutability_policy_mode\u001b[38;5;241m=\u001b[39mimmutability_policy_mode,\n\u001b[0;32m    118\u001b[0m     legal_hold\u001b[38;5;241m=\u001b[39mlegal_hold,\n\u001b[0;32m    119\u001b[0m     \u001b[38;5;241m*\u001b[39m\u001b[38;5;241m*\u001b[39mkwargs)\n\u001b[0;32m    121\u001b[0m \u001b[38;5;28;01mif\u001b[39;00m progress_hook:\n\u001b[0;32m    122\u001b[0m     progress_hook(adjusted_count, adjusted_count)\n",
      "File \u001b[1;32mc:\\anaconda\\Lib\\site-packages\\azure\\core\\tracing\\decorator.py:105\u001b[0m, in \u001b[0;36mdistributed_trace.<locals>.decorator.<locals>.wrapper_use_tracer\u001b[1;34m(*args, **kwargs)\u001b[0m\n\u001b[0;32m    103\u001b[0m span_impl_type \u001b[38;5;241m=\u001b[39m settings\u001b[38;5;241m.\u001b[39mtracing_implementation()\n\u001b[0;32m    104\u001b[0m \u001b[38;5;28;01mif\u001b[39;00m span_impl_type \u001b[38;5;129;01mis\u001b[39;00m \u001b[38;5;28;01mNone\u001b[39;00m:\n\u001b[1;32m--> 105\u001b[0m     \u001b[38;5;28;01mreturn\u001b[39;00m func(\u001b[38;5;241m*\u001b[39margs, \u001b[38;5;241m*\u001b[39m\u001b[38;5;241m*\u001b[39mkwargs)\n\u001b[0;32m    107\u001b[0m \u001b[38;5;66;03m# Merge span is parameter is set, but only if no explicit parent are passed\u001b[39;00m\n\u001b[0;32m    108\u001b[0m \u001b[38;5;28;01mif\u001b[39;00m merge_span \u001b[38;5;129;01mand\u001b[39;00m \u001b[38;5;129;01mnot\u001b[39;00m passed_in_parent:\n",
      "File \u001b[1;32mc:\\anaconda\\Lib\\site-packages\\azure\\storage\\blob\\_generated\\operations\\_block_blob_operations.py:848\u001b[0m, in \u001b[0;36mBlockBlobOperations.upload\u001b[1;34m(self, content_length, body, timeout, transactional_content_md5, metadata, tier, request_id_parameter, blob_tags_string, immutability_policy_expiry, immutability_policy_mode, legal_hold, transactional_content_crc64, blob_http_headers, lease_access_conditions, cpk_info, cpk_scope_info, modified_access_conditions, **kwargs)\u001b[0m\n\u001b[0;32m    845\u001b[0m _request\u001b[38;5;241m.\u001b[39murl \u001b[38;5;241m=\u001b[39m \u001b[38;5;28mself\u001b[39m\u001b[38;5;241m.\u001b[39m_client\u001b[38;5;241m.\u001b[39mformat_url(_request\u001b[38;5;241m.\u001b[39murl)\n\u001b[0;32m    847\u001b[0m _stream \u001b[38;5;241m=\u001b[39m \u001b[38;5;28;01mFalse\u001b[39;00m\n\u001b[1;32m--> 848\u001b[0m pipeline_response: PipelineResponse \u001b[38;5;241m=\u001b[39m \u001b[38;5;28mself\u001b[39m\u001b[38;5;241m.\u001b[39m_client\u001b[38;5;241m.\u001b[39m_pipeline\u001b[38;5;241m.\u001b[39mrun(  \u001b[38;5;66;03m# pylint: disable=protected-access\u001b[39;00m\n\u001b[0;32m    849\u001b[0m     _request, stream\u001b[38;5;241m=\u001b[39m_stream, \u001b[38;5;241m*\u001b[39m\u001b[38;5;241m*\u001b[39mkwargs\n\u001b[0;32m    850\u001b[0m )\n\u001b[0;32m    852\u001b[0m response \u001b[38;5;241m=\u001b[39m pipeline_response\u001b[38;5;241m.\u001b[39mhttp_response\n\u001b[0;32m    854\u001b[0m \u001b[38;5;28;01mif\u001b[39;00m response\u001b[38;5;241m.\u001b[39mstatus_code \u001b[38;5;129;01mnot\u001b[39;00m \u001b[38;5;129;01min\u001b[39;00m [\u001b[38;5;241m201\u001b[39m]:\n",
      "File \u001b[1;32mc:\\anaconda\\Lib\\site-packages\\azure\\core\\pipeline\\_base.py:240\u001b[0m, in \u001b[0;36mPipeline.run\u001b[1;34m(self, request, **kwargs)\u001b[0m\n\u001b[0;32m    238\u001b[0m pipeline_request: PipelineRequest[HTTPRequestType] \u001b[38;5;241m=\u001b[39m PipelineRequest(request, context)\n\u001b[0;32m    239\u001b[0m first_node \u001b[38;5;241m=\u001b[39m \u001b[38;5;28mself\u001b[39m\u001b[38;5;241m.\u001b[39m_impl_policies[\u001b[38;5;241m0\u001b[39m] \u001b[38;5;28;01mif\u001b[39;00m \u001b[38;5;28mself\u001b[39m\u001b[38;5;241m.\u001b[39m_impl_policies \u001b[38;5;28;01melse\u001b[39;00m _TransportRunner(\u001b[38;5;28mself\u001b[39m\u001b[38;5;241m.\u001b[39m_transport)\n\u001b[1;32m--> 240\u001b[0m \u001b[38;5;28;01mreturn\u001b[39;00m first_node\u001b[38;5;241m.\u001b[39msend(pipeline_request)\n",
      "File \u001b[1;32mc:\\anaconda\\Lib\\site-packages\\azure\\core\\pipeline\\_base.py:96\u001b[0m, in \u001b[0;36m_SansIOHTTPPolicyRunner.send\u001b[1;34m(self, request)\u001b[0m\n\u001b[0;32m     94\u001b[0m _await_result(\u001b[38;5;28mself\u001b[39m\u001b[38;5;241m.\u001b[39m_policy\u001b[38;5;241m.\u001b[39mon_request, request)\n\u001b[0;32m     95\u001b[0m \u001b[38;5;28;01mtry\u001b[39;00m:\n\u001b[1;32m---> 96\u001b[0m     response \u001b[38;5;241m=\u001b[39m \u001b[38;5;28mself\u001b[39m\u001b[38;5;241m.\u001b[39mnext\u001b[38;5;241m.\u001b[39msend(request)\n\u001b[0;32m     97\u001b[0m \u001b[38;5;28;01mexcept\u001b[39;00m \u001b[38;5;167;01mException\u001b[39;00m:\n\u001b[0;32m     98\u001b[0m     _await_result(\u001b[38;5;28mself\u001b[39m\u001b[38;5;241m.\u001b[39m_policy\u001b[38;5;241m.\u001b[39mon_exception, request)\n",
      "File \u001b[1;32mc:\\anaconda\\Lib\\site-packages\\azure\\core\\pipeline\\_base.py:96\u001b[0m, in \u001b[0;36m_SansIOHTTPPolicyRunner.send\u001b[1;34m(self, request)\u001b[0m\n\u001b[0;32m     94\u001b[0m _await_result(\u001b[38;5;28mself\u001b[39m\u001b[38;5;241m.\u001b[39m_policy\u001b[38;5;241m.\u001b[39mon_request, request)\n\u001b[0;32m     95\u001b[0m \u001b[38;5;28;01mtry\u001b[39;00m:\n\u001b[1;32m---> 96\u001b[0m     response \u001b[38;5;241m=\u001b[39m \u001b[38;5;28mself\u001b[39m\u001b[38;5;241m.\u001b[39mnext\u001b[38;5;241m.\u001b[39msend(request)\n\u001b[0;32m     97\u001b[0m \u001b[38;5;28;01mexcept\u001b[39;00m \u001b[38;5;167;01mException\u001b[39;00m:\n\u001b[0;32m     98\u001b[0m     _await_result(\u001b[38;5;28mself\u001b[39m\u001b[38;5;241m.\u001b[39m_policy\u001b[38;5;241m.\u001b[39mon_exception, request)\n",
      "    \u001b[1;31m[... skipping similar frames: _SansIOHTTPPolicyRunner.send at line 96 (2 times)]\u001b[0m\n",
      "File \u001b[1;32mc:\\anaconda\\Lib\\site-packages\\azure\\core\\pipeline\\_base.py:96\u001b[0m, in \u001b[0;36m_SansIOHTTPPolicyRunner.send\u001b[1;34m(self, request)\u001b[0m\n\u001b[0;32m     94\u001b[0m _await_result(\u001b[38;5;28mself\u001b[39m\u001b[38;5;241m.\u001b[39m_policy\u001b[38;5;241m.\u001b[39mon_request, request)\n\u001b[0;32m     95\u001b[0m \u001b[38;5;28;01mtry\u001b[39;00m:\n\u001b[1;32m---> 96\u001b[0m     response \u001b[38;5;241m=\u001b[39m \u001b[38;5;28mself\u001b[39m\u001b[38;5;241m.\u001b[39mnext\u001b[38;5;241m.\u001b[39msend(request)\n\u001b[0;32m     97\u001b[0m \u001b[38;5;28;01mexcept\u001b[39;00m \u001b[38;5;167;01mException\u001b[39;00m:\n\u001b[0;32m     98\u001b[0m     _await_result(\u001b[38;5;28mself\u001b[39m\u001b[38;5;241m.\u001b[39m_policy\u001b[38;5;241m.\u001b[39mon_exception, request)\n",
      "File \u001b[1;32mc:\\anaconda\\Lib\\site-packages\\azure\\core\\pipeline\\policies\\_redirect.py:204\u001b[0m, in \u001b[0;36mRedirectPolicy.send\u001b[1;34m(self, request)\u001b[0m\n\u001b[0;32m    202\u001b[0m original_domain \u001b[38;5;241m=\u001b[39m get_domain(request\u001b[38;5;241m.\u001b[39mhttp_request\u001b[38;5;241m.\u001b[39murl) \u001b[38;5;28;01mif\u001b[39;00m redirect_settings[\u001b[38;5;124m\"\u001b[39m\u001b[38;5;124mallow\u001b[39m\u001b[38;5;124m\"\u001b[39m] \u001b[38;5;28;01melse\u001b[39;00m \u001b[38;5;28;01mNone\u001b[39;00m\n\u001b[0;32m    203\u001b[0m \u001b[38;5;28;01mwhile\u001b[39;00m retryable:\n\u001b[1;32m--> 204\u001b[0m     response \u001b[38;5;241m=\u001b[39m \u001b[38;5;28mself\u001b[39m\u001b[38;5;241m.\u001b[39mnext\u001b[38;5;241m.\u001b[39msend(request)\n\u001b[0;32m    205\u001b[0m     redirect_location \u001b[38;5;241m=\u001b[39m \u001b[38;5;28mself\u001b[39m\u001b[38;5;241m.\u001b[39mget_redirect_location(response)\n\u001b[0;32m    206\u001b[0m     \u001b[38;5;28;01mif\u001b[39;00m redirect_location \u001b[38;5;129;01mand\u001b[39;00m redirect_settings[\u001b[38;5;124m\"\u001b[39m\u001b[38;5;124mallow\u001b[39m\u001b[38;5;124m\"\u001b[39m]:\n",
      "File \u001b[1;32mc:\\anaconda\\Lib\\site-packages\\azure\\core\\pipeline\\_base.py:96\u001b[0m, in \u001b[0;36m_SansIOHTTPPolicyRunner.send\u001b[1;34m(self, request)\u001b[0m\n\u001b[0;32m     94\u001b[0m _await_result(\u001b[38;5;28mself\u001b[39m\u001b[38;5;241m.\u001b[39m_policy\u001b[38;5;241m.\u001b[39mon_request, request)\n\u001b[0;32m     95\u001b[0m \u001b[38;5;28;01mtry\u001b[39;00m:\n\u001b[1;32m---> 96\u001b[0m     response \u001b[38;5;241m=\u001b[39m \u001b[38;5;28mself\u001b[39m\u001b[38;5;241m.\u001b[39mnext\u001b[38;5;241m.\u001b[39msend(request)\n\u001b[0;32m     97\u001b[0m \u001b[38;5;28;01mexcept\u001b[39;00m \u001b[38;5;167;01mException\u001b[39;00m:\n\u001b[0;32m     98\u001b[0m     _await_result(\u001b[38;5;28mself\u001b[39m\u001b[38;5;241m.\u001b[39m_policy\u001b[38;5;241m.\u001b[39mon_exception, request)\n",
      "File \u001b[1;32mc:\\anaconda\\Lib\\site-packages\\azure\\storage\\blob\\_shared\\policies.py:528\u001b[0m, in \u001b[0;36mStorageRetryPolicy.send\u001b[1;34m(self, request)\u001b[0m\n\u001b[0;32m    526\u001b[0m \u001b[38;5;28;01mwhile\u001b[39;00m retries_remaining:\n\u001b[0;32m    527\u001b[0m     \u001b[38;5;28;01mtry\u001b[39;00m:\n\u001b[1;32m--> 528\u001b[0m         response \u001b[38;5;241m=\u001b[39m \u001b[38;5;28mself\u001b[39m\u001b[38;5;241m.\u001b[39mnext\u001b[38;5;241m.\u001b[39msend(request)\n\u001b[0;32m    529\u001b[0m         \u001b[38;5;28;01mif\u001b[39;00m is_retry(response, retry_settings[\u001b[38;5;124m'\u001b[39m\u001b[38;5;124mmode\u001b[39m\u001b[38;5;124m'\u001b[39m]) \u001b[38;5;129;01mor\u001b[39;00m is_checksum_retry(response):\n\u001b[0;32m    530\u001b[0m             retries_remaining \u001b[38;5;241m=\u001b[39m \u001b[38;5;28mself\u001b[39m\u001b[38;5;241m.\u001b[39mincrement(\n\u001b[0;32m    531\u001b[0m                 retry_settings,\n\u001b[0;32m    532\u001b[0m                 request\u001b[38;5;241m=\u001b[39mrequest\u001b[38;5;241m.\u001b[39mhttp_request,\n\u001b[0;32m    533\u001b[0m                 response\u001b[38;5;241m=\u001b[39mresponse\u001b[38;5;241m.\u001b[39mhttp_response)\n",
      "File \u001b[1;32mc:\\anaconda\\Lib\\site-packages\\azure\\core\\pipeline\\_base.py:96\u001b[0m, in \u001b[0;36m_SansIOHTTPPolicyRunner.send\u001b[1;34m(self, request)\u001b[0m\n\u001b[0;32m     94\u001b[0m _await_result(\u001b[38;5;28mself\u001b[39m\u001b[38;5;241m.\u001b[39m_policy\u001b[38;5;241m.\u001b[39mon_request, request)\n\u001b[0;32m     95\u001b[0m \u001b[38;5;28;01mtry\u001b[39;00m:\n\u001b[1;32m---> 96\u001b[0m     response \u001b[38;5;241m=\u001b[39m \u001b[38;5;28mself\u001b[39m\u001b[38;5;241m.\u001b[39mnext\u001b[38;5;241m.\u001b[39msend(request)\n\u001b[0;32m     97\u001b[0m \u001b[38;5;28;01mexcept\u001b[39;00m \u001b[38;5;167;01mException\u001b[39;00m:\n\u001b[0;32m     98\u001b[0m     _await_result(\u001b[38;5;28mself\u001b[39m\u001b[38;5;241m.\u001b[39m_policy\u001b[38;5;241m.\u001b[39mon_exception, request)\n",
      "File \u001b[1;32mc:\\anaconda\\Lib\\site-packages\\azure\\core\\pipeline\\_base.py:96\u001b[0m, in \u001b[0;36m_SansIOHTTPPolicyRunner.send\u001b[1;34m(self, request)\u001b[0m\n\u001b[0;32m     94\u001b[0m _await_result(\u001b[38;5;28mself\u001b[39m\u001b[38;5;241m.\u001b[39m_policy\u001b[38;5;241m.\u001b[39mon_request, request)\n\u001b[0;32m     95\u001b[0m \u001b[38;5;28;01mtry\u001b[39;00m:\n\u001b[1;32m---> 96\u001b[0m     response \u001b[38;5;241m=\u001b[39m \u001b[38;5;28mself\u001b[39m\u001b[38;5;241m.\u001b[39mnext\u001b[38;5;241m.\u001b[39msend(request)\n\u001b[0;32m     97\u001b[0m \u001b[38;5;28;01mexcept\u001b[39;00m \u001b[38;5;167;01mException\u001b[39;00m:\n\u001b[0;32m     98\u001b[0m     _await_result(\u001b[38;5;28mself\u001b[39m\u001b[38;5;241m.\u001b[39m_policy\u001b[38;5;241m.\u001b[39mon_exception, request)\n",
      "    \u001b[1;31m[... skipping similar frames: _SansIOHTTPPolicyRunner.send at line 96 (1 times)]\u001b[0m\n",
      "File \u001b[1;32mc:\\anaconda\\Lib\\site-packages\\azure\\core\\pipeline\\_base.py:96\u001b[0m, in \u001b[0;36m_SansIOHTTPPolicyRunner.send\u001b[1;34m(self, request)\u001b[0m\n\u001b[0;32m     94\u001b[0m _await_result(\u001b[38;5;28mself\u001b[39m\u001b[38;5;241m.\u001b[39m_policy\u001b[38;5;241m.\u001b[39mon_request, request)\n\u001b[0;32m     95\u001b[0m \u001b[38;5;28;01mtry\u001b[39;00m:\n\u001b[1;32m---> 96\u001b[0m     response \u001b[38;5;241m=\u001b[39m \u001b[38;5;28mself\u001b[39m\u001b[38;5;241m.\u001b[39mnext\u001b[38;5;241m.\u001b[39msend(request)\n\u001b[0;32m     97\u001b[0m \u001b[38;5;28;01mexcept\u001b[39;00m \u001b[38;5;167;01mException\u001b[39;00m:\n\u001b[0;32m     98\u001b[0m     _await_result(\u001b[38;5;28mself\u001b[39m\u001b[38;5;241m.\u001b[39m_policy\u001b[38;5;241m.\u001b[39mon_exception, request)\n",
      "File \u001b[1;32mc:\\anaconda\\Lib\\site-packages\\azure\\storage\\blob\\_shared\\policies.py:301\u001b[0m, in \u001b[0;36mStorageResponseHook.send\u001b[1;34m(self, request)\u001b[0m\n\u001b[0;32m    296\u001b[0m     upload_stream_current \u001b[38;5;241m=\u001b[39m request\u001b[38;5;241m.\u001b[39mcontext\u001b[38;5;241m.\u001b[39moptions\u001b[38;5;241m.\u001b[39mpop(\u001b[38;5;124m'\u001b[39m\u001b[38;5;124mupload_stream_current\u001b[39m\u001b[38;5;124m'\u001b[39m, \u001b[38;5;28;01mNone\u001b[39;00m)\n\u001b[0;32m    298\u001b[0m response_callback \u001b[38;5;241m=\u001b[39m request\u001b[38;5;241m.\u001b[39mcontext\u001b[38;5;241m.\u001b[39mget(\u001b[38;5;124m'\u001b[39m\u001b[38;5;124mresponse_callback\u001b[39m\u001b[38;5;124m'\u001b[39m) \u001b[38;5;129;01mor\u001b[39;00m \\\n\u001b[0;32m    299\u001b[0m     request\u001b[38;5;241m.\u001b[39mcontext\u001b[38;5;241m.\u001b[39moptions\u001b[38;5;241m.\u001b[39mpop(\u001b[38;5;124m'\u001b[39m\u001b[38;5;124mraw_response_hook\u001b[39m\u001b[38;5;124m'\u001b[39m, \u001b[38;5;28mself\u001b[39m\u001b[38;5;241m.\u001b[39m_response_callback)\n\u001b[1;32m--> 301\u001b[0m response \u001b[38;5;241m=\u001b[39m \u001b[38;5;28mself\u001b[39m\u001b[38;5;241m.\u001b[39mnext\u001b[38;5;241m.\u001b[39msend(request)\n\u001b[0;32m    303\u001b[0m will_retry \u001b[38;5;241m=\u001b[39m is_retry(response, request\u001b[38;5;241m.\u001b[39mcontext\u001b[38;5;241m.\u001b[39moptions\u001b[38;5;241m.\u001b[39mget(\u001b[38;5;124m'\u001b[39m\u001b[38;5;124mmode\u001b[39m\u001b[38;5;124m'\u001b[39m)) \u001b[38;5;129;01mor\u001b[39;00m is_checksum_retry(response)\n\u001b[0;32m    304\u001b[0m \u001b[38;5;66;03m# Auth error could come from Bearer challenge, in which case this request will be made again\u001b[39;00m\n",
      "File \u001b[1;32mc:\\anaconda\\Lib\\site-packages\\azure\\core\\pipeline\\_base.py:96\u001b[0m, in \u001b[0;36m_SansIOHTTPPolicyRunner.send\u001b[1;34m(self, request)\u001b[0m\n\u001b[0;32m     94\u001b[0m _await_result(\u001b[38;5;28mself\u001b[39m\u001b[38;5;241m.\u001b[39m_policy\u001b[38;5;241m.\u001b[39mon_request, request)\n\u001b[0;32m     95\u001b[0m \u001b[38;5;28;01mtry\u001b[39;00m:\n\u001b[1;32m---> 96\u001b[0m     response \u001b[38;5;241m=\u001b[39m \u001b[38;5;28mself\u001b[39m\u001b[38;5;241m.\u001b[39mnext\u001b[38;5;241m.\u001b[39msend(request)\n\u001b[0;32m     97\u001b[0m \u001b[38;5;28;01mexcept\u001b[39;00m \u001b[38;5;167;01mException\u001b[39;00m:\n\u001b[0;32m     98\u001b[0m     _await_result(\u001b[38;5;28mself\u001b[39m\u001b[38;5;241m.\u001b[39m_policy\u001b[38;5;241m.\u001b[39mon_exception, request)\n",
      "File \u001b[1;32mc:\\anaconda\\Lib\\site-packages\\azure\\core\\pipeline\\_base.py:96\u001b[0m, in \u001b[0;36m_SansIOHTTPPolicyRunner.send\u001b[1;34m(self, request)\u001b[0m\n\u001b[0;32m     94\u001b[0m _await_result(\u001b[38;5;28mself\u001b[39m\u001b[38;5;241m.\u001b[39m_policy\u001b[38;5;241m.\u001b[39mon_request, request)\n\u001b[0;32m     95\u001b[0m \u001b[38;5;28;01mtry\u001b[39;00m:\n\u001b[1;32m---> 96\u001b[0m     response \u001b[38;5;241m=\u001b[39m \u001b[38;5;28mself\u001b[39m\u001b[38;5;241m.\u001b[39mnext\u001b[38;5;241m.\u001b[39msend(request)\n\u001b[0;32m     97\u001b[0m \u001b[38;5;28;01mexcept\u001b[39;00m \u001b[38;5;167;01mException\u001b[39;00m:\n\u001b[0;32m     98\u001b[0m     _await_result(\u001b[38;5;28mself\u001b[39m\u001b[38;5;241m.\u001b[39m_policy\u001b[38;5;241m.\u001b[39mon_exception, request)\n",
      "File \u001b[1;32mc:\\anaconda\\Lib\\site-packages\\azure\\core\\pipeline\\_base.py:128\u001b[0m, in \u001b[0;36m_TransportRunner.send\u001b[1;34m(self, request)\u001b[0m\n\u001b[0;32m    118\u001b[0m \u001b[38;5;250m\u001b[39m\u001b[38;5;124;03m\"\"\"HTTP transport send method.\u001b[39;00m\n\u001b[0;32m    119\u001b[0m \n\u001b[0;32m    120\u001b[0m \u001b[38;5;124;03m:param request: The PipelineRequest object.\u001b[39;00m\n\u001b[1;32m   (...)\u001b[0m\n\u001b[0;32m    123\u001b[0m \u001b[38;5;124;03m:rtype: ~azure.core.pipeline.PipelineResponse\u001b[39;00m\n\u001b[0;32m    124\u001b[0m \u001b[38;5;124;03m\"\"\"\u001b[39;00m\n\u001b[0;32m    125\u001b[0m cleanup_kwargs_for_transport(request\u001b[38;5;241m.\u001b[39mcontext\u001b[38;5;241m.\u001b[39moptions)\n\u001b[0;32m    126\u001b[0m \u001b[38;5;28;01mreturn\u001b[39;00m PipelineResponse(\n\u001b[0;32m    127\u001b[0m     request\u001b[38;5;241m.\u001b[39mhttp_request,\n\u001b[1;32m--> 128\u001b[0m     \u001b[38;5;28mself\u001b[39m\u001b[38;5;241m.\u001b[39m_sender\u001b[38;5;241m.\u001b[39msend(request\u001b[38;5;241m.\u001b[39mhttp_request, \u001b[38;5;241m*\u001b[39m\u001b[38;5;241m*\u001b[39mrequest\u001b[38;5;241m.\u001b[39mcontext\u001b[38;5;241m.\u001b[39moptions),\n\u001b[0;32m    129\u001b[0m     context\u001b[38;5;241m=\u001b[39mrequest\u001b[38;5;241m.\u001b[39mcontext,\n\u001b[0;32m    130\u001b[0m )\n",
      "File \u001b[1;32mc:\\anaconda\\Lib\\site-packages\\azure\\storage\\blob\\_shared\\base_client.py:350\u001b[0m, in \u001b[0;36mTransportWrapper.send\u001b[1;34m(self, request, **kwargs)\u001b[0m\n\u001b[0;32m    349\u001b[0m \u001b[38;5;28;01mdef\u001b[39;00m \u001b[38;5;21msend\u001b[39m(\u001b[38;5;28mself\u001b[39m, request, \u001b[38;5;241m*\u001b[39m\u001b[38;5;241m*\u001b[39mkwargs):\n\u001b[1;32m--> 350\u001b[0m     \u001b[38;5;28;01mreturn\u001b[39;00m \u001b[38;5;28mself\u001b[39m\u001b[38;5;241m.\u001b[39m_transport\u001b[38;5;241m.\u001b[39msend(request, \u001b[38;5;241m*\u001b[39m\u001b[38;5;241m*\u001b[39mkwargs)\n",
      "File \u001b[1;32mc:\\anaconda\\Lib\\site-packages\\azure\\storage\\blob\\_shared\\base_client.py:350\u001b[0m, in \u001b[0;36mTransportWrapper.send\u001b[1;34m(self, request, **kwargs)\u001b[0m\n\u001b[0;32m    349\u001b[0m \u001b[38;5;28;01mdef\u001b[39;00m \u001b[38;5;21msend\u001b[39m(\u001b[38;5;28mself\u001b[39m, request, \u001b[38;5;241m*\u001b[39m\u001b[38;5;241m*\u001b[39mkwargs):\n\u001b[1;32m--> 350\u001b[0m     \u001b[38;5;28;01mreturn\u001b[39;00m \u001b[38;5;28mself\u001b[39m\u001b[38;5;241m.\u001b[39m_transport\u001b[38;5;241m.\u001b[39msend(request, \u001b[38;5;241m*\u001b[39m\u001b[38;5;241m*\u001b[39mkwargs)\n",
      "File \u001b[1;32mc:\\anaconda\\Lib\\site-packages\\azure\\core\\pipeline\\transport\\_requests_basic.py:363\u001b[0m, in \u001b[0;36mRequestsTransport.send\u001b[1;34m(self, request, proxies, **kwargs)\u001b[0m\n\u001b[0;32m    361\u001b[0m         read_timeout \u001b[38;5;241m=\u001b[39m kwargs\u001b[38;5;241m.\u001b[39mpop(\u001b[38;5;124m\"\u001b[39m\u001b[38;5;124mread_timeout\u001b[39m\u001b[38;5;124m\"\u001b[39m, \u001b[38;5;28mself\u001b[39m\u001b[38;5;241m.\u001b[39mconnection_config\u001b[38;5;241m.\u001b[39mread_timeout)\n\u001b[0;32m    362\u001b[0m         timeout \u001b[38;5;241m=\u001b[39m (connection_timeout, read_timeout)\n\u001b[1;32m--> 363\u001b[0m     response \u001b[38;5;241m=\u001b[39m \u001b[38;5;28mself\u001b[39m\u001b[38;5;241m.\u001b[39msession\u001b[38;5;241m.\u001b[39mrequest(  \u001b[38;5;66;03m# type: ignore\u001b[39;00m\n\u001b[0;32m    364\u001b[0m         request\u001b[38;5;241m.\u001b[39mmethod,\n\u001b[0;32m    365\u001b[0m         request\u001b[38;5;241m.\u001b[39murl,\n\u001b[0;32m    366\u001b[0m         headers\u001b[38;5;241m=\u001b[39mrequest\u001b[38;5;241m.\u001b[39mheaders,\n\u001b[0;32m    367\u001b[0m         data\u001b[38;5;241m=\u001b[39mrequest\u001b[38;5;241m.\u001b[39mdata,\n\u001b[0;32m    368\u001b[0m         files\u001b[38;5;241m=\u001b[39mrequest\u001b[38;5;241m.\u001b[39mfiles,\n\u001b[0;32m    369\u001b[0m         verify\u001b[38;5;241m=\u001b[39mkwargs\u001b[38;5;241m.\u001b[39mpop(\u001b[38;5;124m\"\u001b[39m\u001b[38;5;124mconnection_verify\u001b[39m\u001b[38;5;124m\"\u001b[39m, \u001b[38;5;28mself\u001b[39m\u001b[38;5;241m.\u001b[39mconnection_config\u001b[38;5;241m.\u001b[39mverify),\n\u001b[0;32m    370\u001b[0m         timeout\u001b[38;5;241m=\u001b[39mtimeout,\n\u001b[0;32m    371\u001b[0m         cert\u001b[38;5;241m=\u001b[39mkwargs\u001b[38;5;241m.\u001b[39mpop(\u001b[38;5;124m\"\u001b[39m\u001b[38;5;124mconnection_cert\u001b[39m\u001b[38;5;124m\"\u001b[39m, \u001b[38;5;28mself\u001b[39m\u001b[38;5;241m.\u001b[39mconnection_config\u001b[38;5;241m.\u001b[39mcert),\n\u001b[0;32m    372\u001b[0m         allow_redirects\u001b[38;5;241m=\u001b[39m\u001b[38;5;28;01mFalse\u001b[39;00m,\n\u001b[0;32m    373\u001b[0m         proxies\u001b[38;5;241m=\u001b[39mproxies,\n\u001b[0;32m    374\u001b[0m         \u001b[38;5;241m*\u001b[39m\u001b[38;5;241m*\u001b[39mkwargs\n\u001b[0;32m    375\u001b[0m     )\n\u001b[0;32m    376\u001b[0m     response\u001b[38;5;241m.\u001b[39mraw\u001b[38;5;241m.\u001b[39menforce_content_length \u001b[38;5;241m=\u001b[39m \u001b[38;5;28;01mTrue\u001b[39;00m\n\u001b[0;32m    378\u001b[0m \u001b[38;5;28;01mexcept\u001b[39;00m \u001b[38;5;167;01mAttributeError\u001b[39;00m \u001b[38;5;28;01mas\u001b[39;00m err:\n",
      "File \u001b[1;32mc:\\anaconda\\Lib\\site-packages\\requests\\sessions.py:589\u001b[0m, in \u001b[0;36mSession.request\u001b[1;34m(self, method, url, params, data, headers, cookies, files, auth, timeout, allow_redirects, proxies, hooks, stream, verify, cert, json)\u001b[0m\n\u001b[0;32m    584\u001b[0m send_kwargs \u001b[38;5;241m=\u001b[39m {\n\u001b[0;32m    585\u001b[0m     \u001b[38;5;124m\"\u001b[39m\u001b[38;5;124mtimeout\u001b[39m\u001b[38;5;124m\"\u001b[39m: timeout,\n\u001b[0;32m    586\u001b[0m     \u001b[38;5;124m\"\u001b[39m\u001b[38;5;124mallow_redirects\u001b[39m\u001b[38;5;124m\"\u001b[39m: allow_redirects,\n\u001b[0;32m    587\u001b[0m }\n\u001b[0;32m    588\u001b[0m send_kwargs\u001b[38;5;241m.\u001b[39mupdate(settings)\n\u001b[1;32m--> 589\u001b[0m resp \u001b[38;5;241m=\u001b[39m \u001b[38;5;28mself\u001b[39m\u001b[38;5;241m.\u001b[39msend(prep, \u001b[38;5;241m*\u001b[39m\u001b[38;5;241m*\u001b[39msend_kwargs)\n\u001b[0;32m    591\u001b[0m \u001b[38;5;28;01mreturn\u001b[39;00m resp\n",
      "File \u001b[1;32mc:\\anaconda\\Lib\\site-packages\\requests\\sessions.py:703\u001b[0m, in \u001b[0;36mSession.send\u001b[1;34m(self, request, **kwargs)\u001b[0m\n\u001b[0;32m    700\u001b[0m start \u001b[38;5;241m=\u001b[39m preferred_clock()\n\u001b[0;32m    702\u001b[0m \u001b[38;5;66;03m# Send the request\u001b[39;00m\n\u001b[1;32m--> 703\u001b[0m r \u001b[38;5;241m=\u001b[39m adapter\u001b[38;5;241m.\u001b[39msend(request, \u001b[38;5;241m*\u001b[39m\u001b[38;5;241m*\u001b[39mkwargs)\n\u001b[0;32m    705\u001b[0m \u001b[38;5;66;03m# Total elapsed time of the request (approximately)\u001b[39;00m\n\u001b[0;32m    706\u001b[0m elapsed \u001b[38;5;241m=\u001b[39m preferred_clock() \u001b[38;5;241m-\u001b[39m start\n",
      "File \u001b[1;32mc:\\anaconda\\Lib\\site-packages\\requests\\adapters.py:667\u001b[0m, in \u001b[0;36mHTTPAdapter.send\u001b[1;34m(self, request, stream, timeout, verify, cert, proxies)\u001b[0m\n\u001b[0;32m    664\u001b[0m     timeout \u001b[38;5;241m=\u001b[39m TimeoutSauce(connect\u001b[38;5;241m=\u001b[39mtimeout, read\u001b[38;5;241m=\u001b[39mtimeout)\n\u001b[0;32m    666\u001b[0m \u001b[38;5;28;01mtry\u001b[39;00m:\n\u001b[1;32m--> 667\u001b[0m     resp \u001b[38;5;241m=\u001b[39m conn\u001b[38;5;241m.\u001b[39murlopen(\n\u001b[0;32m    668\u001b[0m         method\u001b[38;5;241m=\u001b[39mrequest\u001b[38;5;241m.\u001b[39mmethod,\n\u001b[0;32m    669\u001b[0m         url\u001b[38;5;241m=\u001b[39murl,\n\u001b[0;32m    670\u001b[0m         body\u001b[38;5;241m=\u001b[39mrequest\u001b[38;5;241m.\u001b[39mbody,\n\u001b[0;32m    671\u001b[0m         headers\u001b[38;5;241m=\u001b[39mrequest\u001b[38;5;241m.\u001b[39mheaders,\n\u001b[0;32m    672\u001b[0m         redirect\u001b[38;5;241m=\u001b[39m\u001b[38;5;28;01mFalse\u001b[39;00m,\n\u001b[0;32m    673\u001b[0m         assert_same_host\u001b[38;5;241m=\u001b[39m\u001b[38;5;28;01mFalse\u001b[39;00m,\n\u001b[0;32m    674\u001b[0m         preload_content\u001b[38;5;241m=\u001b[39m\u001b[38;5;28;01mFalse\u001b[39;00m,\n\u001b[0;32m    675\u001b[0m         decode_content\u001b[38;5;241m=\u001b[39m\u001b[38;5;28;01mFalse\u001b[39;00m,\n\u001b[0;32m    676\u001b[0m         retries\u001b[38;5;241m=\u001b[39m\u001b[38;5;28mself\u001b[39m\u001b[38;5;241m.\u001b[39mmax_retries,\n\u001b[0;32m    677\u001b[0m         timeout\u001b[38;5;241m=\u001b[39mtimeout,\n\u001b[0;32m    678\u001b[0m         chunked\u001b[38;5;241m=\u001b[39mchunked,\n\u001b[0;32m    679\u001b[0m     )\n\u001b[0;32m    681\u001b[0m \u001b[38;5;28;01mexcept\u001b[39;00m (ProtocolError, \u001b[38;5;167;01mOSError\u001b[39;00m) \u001b[38;5;28;01mas\u001b[39;00m err:\n\u001b[0;32m    682\u001b[0m     \u001b[38;5;28;01mraise\u001b[39;00m \u001b[38;5;167;01mConnectionError\u001b[39;00m(err, request\u001b[38;5;241m=\u001b[39mrequest)\n",
      "File \u001b[1;32mc:\\anaconda\\Lib\\site-packages\\urllib3\\connectionpool.py:789\u001b[0m, in \u001b[0;36mHTTPConnectionPool.urlopen\u001b[1;34m(self, method, url, body, headers, retries, redirect, assert_same_host, timeout, pool_timeout, release_conn, chunked, body_pos, preload_content, decode_content, **response_kw)\u001b[0m\n\u001b[0;32m    786\u001b[0m response_conn \u001b[38;5;241m=\u001b[39m conn \u001b[38;5;28;01mif\u001b[39;00m \u001b[38;5;129;01mnot\u001b[39;00m release_conn \u001b[38;5;28;01melse\u001b[39;00m \u001b[38;5;28;01mNone\u001b[39;00m\n\u001b[0;32m    788\u001b[0m \u001b[38;5;66;03m# Make the request on the HTTPConnection object\u001b[39;00m\n\u001b[1;32m--> 789\u001b[0m response \u001b[38;5;241m=\u001b[39m \u001b[38;5;28mself\u001b[39m\u001b[38;5;241m.\u001b[39m_make_request(\n\u001b[0;32m    790\u001b[0m     conn,\n\u001b[0;32m    791\u001b[0m     method,\n\u001b[0;32m    792\u001b[0m     url,\n\u001b[0;32m    793\u001b[0m     timeout\u001b[38;5;241m=\u001b[39mtimeout_obj,\n\u001b[0;32m    794\u001b[0m     body\u001b[38;5;241m=\u001b[39mbody,\n\u001b[0;32m    795\u001b[0m     headers\u001b[38;5;241m=\u001b[39mheaders,\n\u001b[0;32m    796\u001b[0m     chunked\u001b[38;5;241m=\u001b[39mchunked,\n\u001b[0;32m    797\u001b[0m     retries\u001b[38;5;241m=\u001b[39mretries,\n\u001b[0;32m    798\u001b[0m     response_conn\u001b[38;5;241m=\u001b[39mresponse_conn,\n\u001b[0;32m    799\u001b[0m     preload_content\u001b[38;5;241m=\u001b[39mpreload_content,\n\u001b[0;32m    800\u001b[0m     decode_content\u001b[38;5;241m=\u001b[39mdecode_content,\n\u001b[0;32m    801\u001b[0m     \u001b[38;5;241m*\u001b[39m\u001b[38;5;241m*\u001b[39mresponse_kw,\n\u001b[0;32m    802\u001b[0m )\n\u001b[0;32m    804\u001b[0m \u001b[38;5;66;03m# Everything went great!\u001b[39;00m\n\u001b[0;32m    805\u001b[0m clean_exit \u001b[38;5;241m=\u001b[39m \u001b[38;5;28;01mTrue\u001b[39;00m\n",
      "File \u001b[1;32mc:\\anaconda\\Lib\\site-packages\\urllib3\\connectionpool.py:495\u001b[0m, in \u001b[0;36mHTTPConnectionPool._make_request\u001b[1;34m(self, conn, method, url, body, headers, retries, timeout, chunked, response_conn, preload_content, decode_content, enforce_content_length)\u001b[0m\n\u001b[0;32m    492\u001b[0m \u001b[38;5;66;03m# conn.request() calls http.client.*.request, not the method in\u001b[39;00m\n\u001b[0;32m    493\u001b[0m \u001b[38;5;66;03m# urllib3.request. It also calls makefile (recv) on the socket.\u001b[39;00m\n\u001b[0;32m    494\u001b[0m \u001b[38;5;28;01mtry\u001b[39;00m:\n\u001b[1;32m--> 495\u001b[0m     conn\u001b[38;5;241m.\u001b[39mrequest(\n\u001b[0;32m    496\u001b[0m         method,\n\u001b[0;32m    497\u001b[0m         url,\n\u001b[0;32m    498\u001b[0m         body\u001b[38;5;241m=\u001b[39mbody,\n\u001b[0;32m    499\u001b[0m         headers\u001b[38;5;241m=\u001b[39mheaders,\n\u001b[0;32m    500\u001b[0m         chunked\u001b[38;5;241m=\u001b[39mchunked,\n\u001b[0;32m    501\u001b[0m         preload_content\u001b[38;5;241m=\u001b[39mpreload_content,\n\u001b[0;32m    502\u001b[0m         decode_content\u001b[38;5;241m=\u001b[39mdecode_content,\n\u001b[0;32m    503\u001b[0m         enforce_content_length\u001b[38;5;241m=\u001b[39menforce_content_length,\n\u001b[0;32m    504\u001b[0m     )\n\u001b[0;32m    506\u001b[0m \u001b[38;5;66;03m# We are swallowing BrokenPipeError (errno.EPIPE) since the server is\u001b[39;00m\n\u001b[0;32m    507\u001b[0m \u001b[38;5;66;03m# legitimately able to close the connection after sending a valid response.\u001b[39;00m\n\u001b[0;32m    508\u001b[0m \u001b[38;5;66;03m# With this behaviour, the received response is still readable.\u001b[39;00m\n\u001b[0;32m    509\u001b[0m \u001b[38;5;28;01mexcept\u001b[39;00m \u001b[38;5;167;01mBrokenPipeError\u001b[39;00m:\n",
      "File \u001b[1;32mc:\\anaconda\\Lib\\site-packages\\urllib3\\connection.py:455\u001b[0m, in \u001b[0;36mHTTPConnection.request\u001b[1;34m(self, method, url, body, headers, chunked, preload_content, decode_content, enforce_content_length)\u001b[0m\n\u001b[0;32m    453\u001b[0m             \u001b[38;5;28mself\u001b[39m\u001b[38;5;241m.\u001b[39msend(\u001b[38;5;124mb\u001b[39m\u001b[38;5;124m\"\u001b[39m\u001b[38;5;132;01m%x\u001b[39;00m\u001b[38;5;130;01m\\r\u001b[39;00m\u001b[38;5;130;01m\\n\u001b[39;00m\u001b[38;5;124m%\u001b[39m\u001b[38;5;124mb\u001b[39m\u001b[38;5;130;01m\\r\u001b[39;00m\u001b[38;5;130;01m\\n\u001b[39;00m\u001b[38;5;124m\"\u001b[39m \u001b[38;5;241m%\u001b[39m (\u001b[38;5;28mlen\u001b[39m(chunk), chunk))\n\u001b[0;32m    454\u001b[0m         \u001b[38;5;28;01melse\u001b[39;00m:\n\u001b[1;32m--> 455\u001b[0m             \u001b[38;5;28mself\u001b[39m\u001b[38;5;241m.\u001b[39msend(chunk)\n\u001b[0;32m    457\u001b[0m \u001b[38;5;66;03m# Regardless of whether we have a body or not, if we're in\u001b[39;00m\n\u001b[0;32m    458\u001b[0m \u001b[38;5;66;03m# chunked mode we want to send an explicit empty chunk.\u001b[39;00m\n\u001b[0;32m    459\u001b[0m \u001b[38;5;28;01mif\u001b[39;00m chunked:\n",
      "File \u001b[1;32mc:\\anaconda\\Lib\\http\\client.py:1055\u001b[0m, in \u001b[0;36mHTTPConnection.send\u001b[1;34m(self, data)\u001b[0m\n\u001b[0;32m   1053\u001b[0m sys\u001b[38;5;241m.\u001b[39maudit(\u001b[38;5;124m\"\u001b[39m\u001b[38;5;124mhttp.client.send\u001b[39m\u001b[38;5;124m\"\u001b[39m, \u001b[38;5;28mself\u001b[39m, data)\n\u001b[0;32m   1054\u001b[0m \u001b[38;5;28;01mtry\u001b[39;00m:\n\u001b[1;32m-> 1055\u001b[0m     \u001b[38;5;28mself\u001b[39m\u001b[38;5;241m.\u001b[39msock\u001b[38;5;241m.\u001b[39msendall(data)\n\u001b[0;32m   1056\u001b[0m \u001b[38;5;28;01mexcept\u001b[39;00m \u001b[38;5;167;01mTypeError\u001b[39;00m:\n\u001b[0;32m   1057\u001b[0m     \u001b[38;5;28;01mif\u001b[39;00m \u001b[38;5;28misinstance\u001b[39m(data, collections\u001b[38;5;241m.\u001b[39mabc\u001b[38;5;241m.\u001b[39mIterable):\n",
      "File \u001b[1;32mc:\\anaconda\\Lib\\ssl.py:1210\u001b[0m, in \u001b[0;36mSSLSocket.sendall\u001b[1;34m(self, data, flags)\u001b[0m\n\u001b[0;32m   1208\u001b[0m         amount \u001b[38;5;241m=\u001b[39m \u001b[38;5;28mlen\u001b[39m(byte_view)\n\u001b[0;32m   1209\u001b[0m         \u001b[38;5;28;01mwhile\u001b[39;00m count \u001b[38;5;241m<\u001b[39m amount:\n\u001b[1;32m-> 1210\u001b[0m             v \u001b[38;5;241m=\u001b[39m \u001b[38;5;28mself\u001b[39m\u001b[38;5;241m.\u001b[39msend(byte_view[count:])\n\u001b[0;32m   1211\u001b[0m             count \u001b[38;5;241m+\u001b[39m\u001b[38;5;241m=\u001b[39m v\n\u001b[0;32m   1212\u001b[0m \u001b[38;5;28;01melse\u001b[39;00m:\n",
      "File \u001b[1;32mc:\\anaconda\\Lib\\ssl.py:1179\u001b[0m, in \u001b[0;36mSSLSocket.send\u001b[1;34m(self, data, flags)\u001b[0m\n\u001b[0;32m   1175\u001b[0m     \u001b[38;5;28;01mif\u001b[39;00m flags \u001b[38;5;241m!=\u001b[39m \u001b[38;5;241m0\u001b[39m:\n\u001b[0;32m   1176\u001b[0m         \u001b[38;5;28;01mraise\u001b[39;00m \u001b[38;5;167;01mValueError\u001b[39;00m(\n\u001b[0;32m   1177\u001b[0m             \u001b[38;5;124m\"\u001b[39m\u001b[38;5;124mnon-zero flags not allowed in calls to send() on \u001b[39m\u001b[38;5;132;01m%s\u001b[39;00m\u001b[38;5;124m\"\u001b[39m \u001b[38;5;241m%\u001b[39m\n\u001b[0;32m   1178\u001b[0m             \u001b[38;5;28mself\u001b[39m\u001b[38;5;241m.\u001b[39m\u001b[38;5;18m__class__\u001b[39m)\n\u001b[1;32m-> 1179\u001b[0m     \u001b[38;5;28;01mreturn\u001b[39;00m \u001b[38;5;28mself\u001b[39m\u001b[38;5;241m.\u001b[39m_sslobj\u001b[38;5;241m.\u001b[39mwrite(data)\n\u001b[0;32m   1180\u001b[0m \u001b[38;5;28;01melse\u001b[39;00m:\n\u001b[0;32m   1181\u001b[0m     \u001b[38;5;28;01mreturn\u001b[39;00m \u001b[38;5;28msuper\u001b[39m()\u001b[38;5;241m.\u001b[39msend(data, flags)\n",
      "\u001b[1;31mKeyboardInterrupt\u001b[0m: "
     ]
    }
   ],
   "source": [
    "import requests\n",
    "import pandas as pd\n",
    "import re\n",
    "from azure.storage.blob import BlobServiceClient\n",
    "import os\n",
    "from dotenv import load_dotenv\n",
    "\n",
    "load_dotenv()\n",
    "# Azure Blob Storage 연결 문자열 및 컨테이너 이름\n",
    "connect_str = os.getenv('CONNECT_STR')\n",
    "container_name = 'config'\n",
    "\n",
    "# BlobServiceClient 생성\n",
    "blob_service_client = BlobServiceClient.from_connection_string(connect_str)\n",
    "container_client = blob_service_client.get_container_client(container_name)\n",
    "\n",
    "# CSV 파일 경로 및 데이터 읽기\n",
    "csv_file_path = 'C:/Users/sykim/Desktop/url/url_config.csv'\n",
    "df = pd.read_csv(csv_file_path, encoding='euc-kr')\n",
    "\n",
    "for index, row in df.iterrows():\n",
    "    url = row['URL']\n",
    "    product_nm = row['PRODUCT_NM']\n",
    "    gbm = row['GBM']\n",
    "    category_grp = row['CATEGORY_GRP']\n",
    "    cdmodel = row['CDMODEL']\n",
    "\n",
    "    # URL의 파일명 부분만 추출\n",
    "    match = re.search(r'/([^/]+)\\.pdf$', url)\n",
    "    if match:\n",
    "        url_filename = match.group(1)\n",
    "    else:\n",
    "        print(f\"URL에서 파일명을 추출할 수 없습니다: {url}\")\n",
    "        continue  # URL이 유효하지 않으면 다음 행으로 넘어감\n",
    "\n",
    "    # 파일명 지정\n",
    "    url_filename = re.sub(r'[<>:\"/\\\\|?*]', \"_\", url_filename)\n",
    "    file_name = f\"{url_filename}.pdf\"\n",
    "    file_name = file_name.replace(\"/\", \"_\")  # 파일명에 '/'가 있으면 제거\n",
    "\n",
    "    # PDF 다운로드\n",
    "    response = requests.get(url)\n",
    "    if response.status_code == 200:\n",
    "        # Blob Client 생성\n",
    "        blob_client = container_client.get_blob_client(file_name)\n",
    "\n",
    "        try:\n",
    "            # Blob에 PDF 파일 업로드 (대용량 파일 최적화 설정 추가)\n",
    "            blob_client.upload_blob(\n",
    "                response.content, \n",
    "                overwrite=True,\n",
    "                max_block_size=2 * 1024 * 1024,    # 8 MiB\n",
    "                max_single_put_size=4 * 1024 * 1024,\n",
    "                max_concurrency=4  # 병렬 연결 수를 4로 설정하여 더 빠른 업로드 가능\n",
    "            )\n",
    "            print(f\"파일이 업로드되었습니다: {file_name}\")\n",
    "        except Exception as e:\n",
    "            print(f\"파일 업로드 중 오류가 발생했습니다: {file_name}. 오류: {e}\")\n",
    "    else:\n",
    "        print(f\"URL에서 파일을 다운로드하지 못했습니다: {url}\")\n"
   ]
  },
  {
   "cell_type": "code",
   "execution_count": 14,
   "metadata": {},
   "outputs": [],
   "source": [
    "import requests\n",
    "import pandas as pd\n",
    "import re\n",
    "import os\n",
    "import shutil\n",
    "\n",
    "# CSV 파일 경로 및 저장 경로\n",
    "csv_file_path = 'C:/Users/sykim/Desktop/url_blob/merged_scms.csv'\n",
    "\n",
    "# CSV 파일 읽기\n",
    "df = pd.read_csv(csv_file_path, encoding='euc-kr')"
   ]
  },
  {
   "cell_type": "code",
   "execution_count": 15,
   "metadata": {},
   "outputs": [],
   "source": [
    "df['url_check'] = df.duplicated(subset='URL', keep=False).map({True: 'O', False: 'X'})"
   ]
  },
  {
   "cell_type": "code",
   "execution_count": 16,
   "metadata": {},
   "outputs": [],
   "source": [
    "duplicate_rows = df[df['url_check'] == 'O']"
   ]
  },
  {
   "cell_type": "code",
   "execution_count": 17,
   "metadata": {},
   "outputs": [
    {
     "data": {
      "text/html": [
       "<div>\n",
       "<style scoped>\n",
       "    .dataframe tbody tr th:only-of-type {\n",
       "        vertical-align: middle;\n",
       "    }\n",
       "\n",
       "    .dataframe tbody tr th {\n",
       "        vertical-align: top;\n",
       "    }\n",
       "\n",
       "    .dataframe thead th {\n",
       "        text-align: right;\n",
       "    }\n",
       "</style>\n",
       "<table border=\"1\" class=\"dataframe\">\n",
       "  <thead>\n",
       "    <tr style=\"text-align: right;\">\n",
       "      <th></th>\n",
       "      <th>SEQ</th>\n",
       "      <th>구분</th>\n",
       "      <th>GBM</th>\n",
       "      <th>CATEGORY_GRP</th>\n",
       "      <th>PRODUCT_NM</th>\n",
       "      <th>CDMODEL</th>\n",
       "      <th>URL</th>\n",
       "      <th>STDKEY</th>\n",
       "      <th>WRITELANG</th>\n",
       "      <th>url_check</th>\n",
       "    </tr>\n",
       "  </thead>\n",
       "  <tbody>\n",
       "  </tbody>\n",
       "</table>\n",
       "</div>"
      ],
      "text/plain": [
       "Empty DataFrame\n",
       "Columns: [SEQ, 구분, GBM, CATEGORY_GRP, PRODUCT_NM, CDMODEL, URL, STDKEY, WRITELANG, url_check]\n",
       "Index: []"
      ]
     },
     "execution_count": 17,
     "metadata": {},
     "output_type": "execute_result"
    }
   ],
   "source": [
    "duplicate_rows"
   ]
  },
  {
   "cell_type": "code",
   "execution_count": null,
   "metadata": {},
   "outputs": [],
   "source": [
    "import pandas as pd\n",
    "import re\n",
    "\n",
    "# CSV 파일 경로 및 데이터 읽기\n",
    "csv_file_path = 'C:/Users/sphong/hong/merged_scms.csv'\n",
    "df = pd.read_csv(csv_file_path, encoding='euc-kr')\n",
    "\n",
    "# URL에서 파일명 추출하여 새로운 열 'filename'에 추가\n",
    "df['filename'] = df['URL'].apply(lambda x: re.search(r'/([^/]+\\.pdf)$', x).group(1) if re.search(r'/([^/]+\\.pdf)$', x) else None)\n",
    "\n",
    "# 같은 파일명을 가진 행들의 CDMODEL 값을 결합하여 새로운 파일명 생성\n",
    "df['new_filename'] = df.groupby('filename')['CDMODEL'].transform(lambda x: ','.join(x.unique()) + '_' + x.name if x.name else None)\n",
    "\n",
    "# 결과 확인용으로 'SEQ', 'CDMODEL', 'filename', 'new_filename' 열을 출력\n",
    "print(df[['SEQ', 'CDMODEL', 'filename', 'new_filename']])\n",
    "\n",
    "# 필요 시, 변경된 파일명을 포함한 데이터를 새로운 CSV 파일로 저장\n",
    "df.to_csv('C:/Users/sykim/Desktop/url/updated_url_config.csv', encoding='euc-kr', index=False)\n"
   ]
  },
  {
   "cell_type": "code",
   "execution_count": 21,
   "metadata": {},
   "outputs": [],
   "source": [
    "csv_file_path = 'C:/Users/sykim/Desktop/url_blob/updated_url_config.csv'\n",
    "df = pd.read_csv(csv_file_path, encoding='euc-kr')"
   ]
  },
  {
   "cell_type": "code",
   "execution_count": 23,
   "metadata": {},
   "outputs": [],
   "source": [
    "df1 = df[['SEQ', 'CDMODEL', 'filename', 'new_filename']]"
   ]
  },
  {
   "cell_type": "code",
   "execution_count": 24,
   "metadata": {},
   "outputs": [
    {
     "data": {
      "text/html": [
       "<div>\n",
       "<style scoped>\n",
       "    .dataframe tbody tr th:only-of-type {\n",
       "        vertical-align: middle;\n",
       "    }\n",
       "\n",
       "    .dataframe tbody tr th {\n",
       "        vertical-align: top;\n",
       "    }\n",
       "\n",
       "    .dataframe thead th {\n",
       "        text-align: right;\n",
       "    }\n",
       "</style>\n",
       "<table border=\"1\" class=\"dataframe\">\n",
       "  <thead>\n",
       "    <tr style=\"text-align: right;\">\n",
       "      <th></th>\n",
       "      <th>SEQ</th>\n",
       "      <th>CDMODEL</th>\n",
       "      <th>filename</th>\n",
       "      <th>new_filename</th>\n",
       "    </tr>\n",
       "  </thead>\n",
       "  <tbody>\n",
       "    <tr>\n",
       "      <th>0</th>\n",
       "      <td>3378</td>\n",
       "      <td>SL-M4530ND</td>\n",
       "      <td>M4530_QIG_KOR.pdf</td>\n",
       "      <td>SL-M4530ND_M4530_QIG_KOR.pdf</td>\n",
       "    </tr>\n",
       "    <tr>\n",
       "      <th>1</th>\n",
       "      <td>3377</td>\n",
       "      <td>SL-M4030ND</td>\n",
       "      <td>M4030_QIG_KOR.pdf</td>\n",
       "      <td>SL-M4030ND_M4030_QIG_KOR.pdf</td>\n",
       "    </tr>\n",
       "    <tr>\n",
       "      <th>2</th>\n",
       "      <td>3366</td>\n",
       "      <td>SL-C3010ND</td>\n",
       "      <td>C301x_QIG3_korean_for_customer.pdf</td>\n",
       "      <td>SL-C3010ND_C301x_QIG3_korean_for_customer.pdf</td>\n",
       "    </tr>\n",
       "    <tr>\n",
       "      <th>3</th>\n",
       "      <td>3361</td>\n",
       "      <td>SL-C1454FW</td>\n",
       "      <td>CLX-419x_QIG1_worldwide_for_customer.pdf</td>\n",
       "      <td>SL-C1454FW_CLX-419x_QIG1_worldwide_for_custome...</td>\n",
       "    </tr>\n",
       "    <tr>\n",
       "      <th>4</th>\n",
       "      <td>3369</td>\n",
       "      <td>SL-M2079F</td>\n",
       "      <td>M207x_QIG3_korean_for_customer.pdf</td>\n",
       "      <td>SL-M2079F_M207x_QIG3_korean_for_customer.pdf</td>\n",
       "    </tr>\n",
       "    <tr>\n",
       "      <th>...</th>\n",
       "      <td>...</td>\n",
       "      <td>...</td>\n",
       "      <td>...</td>\n",
       "      <td>...</td>\n",
       "    </tr>\n",
       "    <tr>\n",
       "      <th>1654</th>\n",
       "      <td>791, 792, 792</td>\n",
       "      <td>WA10CG5441BW, WA13CG5441BW, WA13CG5441BW</td>\n",
       "      <td>OID71048_IB_WA5000C_GOOD_KO_240614.pdf</td>\n",
       "      <td>WA10CG5441BW, WA13CG5441BW, WA13CG5441BW_OID71...</td>\n",
       "    </tr>\n",
       "    <tr>\n",
       "      <th>1655</th>\n",
       "      <td>798, 798, 799</td>\n",
       "      <td>WA16CG6741BD, WA16CG6741BD, WA16CG6741BV</td>\n",
       "      <td>OID71050_IB_WA6000C_BETTER_KO_240611.pdf</td>\n",
       "      <td>WA16CG6741BD, WA16CG6741BD, WA16CG6741BV_OID71...</td>\n",
       "    </tr>\n",
       "    <tr>\n",
       "      <th>1656</th>\n",
       "      <td>399</td>\n",
       "      <td>RB33A3662AP</td>\n",
       "      <td>RB3000_DA68-04069G-02_SVC.pdf</td>\n",
       "      <td>RB33A3662AP_RB3000_DA68-04069G-02_SVC.pdf</td>\n",
       "    </tr>\n",
       "    <tr>\n",
       "      <th>1657</th>\n",
       "      <td>1498, 1499, 1505, 1506, 1507, 1508, 1511, 1513...</td>\n",
       "      <td>NZ63DB607CABS, NZ63DB607CAWS, NZ63DB657CABS, N...</td>\n",
       "      <td>IB_FULL_NZ9000D_NZ63DB857_657_607_KO_240617.pdf</td>\n",
       "      <td>NZ63DB607CABS, NZ63DB607CAWS, NZ63DB657CABS, N...</td>\n",
       "    </tr>\n",
       "    <tr>\n",
       "      <th>1658</th>\n",
       "      <td>1604, 1604, 1605, 1605, 1606, 1607, 1607, 1608...</td>\n",
       "      <td>VS20B956D5E, VS20B956D5E, VS20B956D5G, VS20B95...</td>\n",
       "      <td>NaN</td>\n",
       "      <td>NaN</td>\n",
       "    </tr>\n",
       "  </tbody>\n",
       "</table>\n",
       "<p>1659 rows × 4 columns</p>\n",
       "</div>"
      ],
      "text/plain": [
       "                                                    SEQ  \\\n",
       "0                                                  3378   \n",
       "1                                                  3377   \n",
       "2                                                  3366   \n",
       "3                                                  3361   \n",
       "4                                                  3369   \n",
       "...                                                 ...   \n",
       "1654                                      791, 792, 792   \n",
       "1655                                      798, 798, 799   \n",
       "1656                                                399   \n",
       "1657  1498, 1499, 1505, 1506, 1507, 1508, 1511, 1513...   \n",
       "1658  1604, 1604, 1605, 1605, 1606, 1607, 1607, 1608...   \n",
       "\n",
       "                                                CDMODEL  \\\n",
       "0                                            SL-M4530ND   \n",
       "1                                            SL-M4030ND   \n",
       "2                                            SL-C3010ND   \n",
       "3                                            SL-C1454FW   \n",
       "4                                             SL-M2079F   \n",
       "...                                                 ...   \n",
       "1654           WA10CG5441BW, WA13CG5441BW, WA13CG5441BW   \n",
       "1655           WA16CG6741BD, WA16CG6741BD, WA16CG6741BV   \n",
       "1656                                        RB33A3662AP   \n",
       "1657  NZ63DB607CABS, NZ63DB607CAWS, NZ63DB657CABS, N...   \n",
       "1658  VS20B956D5E, VS20B956D5E, VS20B956D5G, VS20B95...   \n",
       "\n",
       "                                             filename  \\\n",
       "0                                   M4530_QIG_KOR.pdf   \n",
       "1                                   M4030_QIG_KOR.pdf   \n",
       "2                  C301x_QIG3_korean_for_customer.pdf   \n",
       "3            CLX-419x_QIG1_worldwide_for_customer.pdf   \n",
       "4                  M207x_QIG3_korean_for_customer.pdf   \n",
       "...                                               ...   \n",
       "1654           OID71048_IB_WA5000C_GOOD_KO_240614.pdf   \n",
       "1655         OID71050_IB_WA6000C_BETTER_KO_240611.pdf   \n",
       "1656                    RB3000_DA68-04069G-02_SVC.pdf   \n",
       "1657  IB_FULL_NZ9000D_NZ63DB857_657_607_KO_240617.pdf   \n",
       "1658                                              NaN   \n",
       "\n",
       "                                           new_filename  \n",
       "0                          SL-M4530ND_M4530_QIG_KOR.pdf  \n",
       "1                          SL-M4030ND_M4030_QIG_KOR.pdf  \n",
       "2         SL-C3010ND_C301x_QIG3_korean_for_customer.pdf  \n",
       "3     SL-C1454FW_CLX-419x_QIG1_worldwide_for_custome...  \n",
       "4          SL-M2079F_M207x_QIG3_korean_for_customer.pdf  \n",
       "...                                                 ...  \n",
       "1654  WA10CG5441BW, WA13CG5441BW, WA13CG5441BW_OID71...  \n",
       "1655  WA16CG6741BD, WA16CG6741BD, WA16CG6741BV_OID71...  \n",
       "1656          RB33A3662AP_RB3000_DA68-04069G-02_SVC.pdf  \n",
       "1657  NZ63DB607CABS, NZ63DB607CAWS, NZ63DB657CABS, N...  \n",
       "1658                                                NaN  \n",
       "\n",
       "[1659 rows x 4 columns]"
      ]
     },
     "execution_count": 24,
     "metadata": {},
     "output_type": "execute_result"
    }
   ],
   "source": [
    "df1"
   ]
  },
  {
   "cell_type": "code",
   "execution_count": 35,
   "metadata": {},
   "outputs": [],
   "source": [
    "excel_file_path = 'C:/Users/sykim/Desktop/url_blob/merged_scms_v0.3.xlsx'\n",
    "\n",
    "# 엑셀 파일을 읽어 데이터프레임으로 변환\n",
    "df_v2 = pd.read_excel(excel_file_path, sheet_name=0)"
   ]
  },
  {
   "cell_type": "code",
   "execution_count": 28,
   "metadata": {},
   "outputs": [],
   "source": [
    "df_v2['filename'] = df_v2['URL'].apply(lambda x: re.search(r'/([^/]+\\.pdf)$', x).group(1) if re.search(r'/([^/]+\\.pdf)$', x) else None)\n",
    "\n",
    "# 같은 파일명을 가진 행들의 CDMODEL 값을 결합하여 새로운 파일명 생성\n",
    "df_v2['new_filename'] = df_v2.groupby('filename')['CDMODEL'].transform(lambda x: ','.join(x.unique()) + '_' + x.name if x.name else None)"
   ]
  },
  {
   "cell_type": "code",
   "execution_count": 30,
   "metadata": {},
   "outputs": [],
   "source": [
    "df_v22 = df_v2[['CDMODEL', 'filename', 'new_filename']]"
   ]
  },
  {
   "cell_type": "code",
   "execution_count": 36,
   "metadata": {},
   "outputs": [
    {
     "data": {
      "text/html": [
       "<div>\n",
       "<style scoped>\n",
       "    .dataframe tbody tr th:only-of-type {\n",
       "        vertical-align: middle;\n",
       "    }\n",
       "\n",
       "    .dataframe tbody tr th {\n",
       "        vertical-align: top;\n",
       "    }\n",
       "\n",
       "    .dataframe thead th {\n",
       "        text-align: right;\n",
       "    }\n",
       "</style>\n",
       "<table border=\"1\" class=\"dataframe\">\n",
       "  <thead>\n",
       "    <tr style=\"text-align: right;\">\n",
       "      <th></th>\n",
       "      <th>SEQ</th>\n",
       "      <th>구분</th>\n",
       "      <th>GBM</th>\n",
       "      <th>CATEGORY_GRP</th>\n",
       "      <th>PRODUCT_NM</th>\n",
       "      <th>CDMODEL</th>\n",
       "      <th>URL</th>\n",
       "      <th>STDKEY</th>\n",
       "      <th>WRITELANG</th>\n",
       "    </tr>\n",
       "  </thead>\n",
       "  <tbody>\n",
       "    <tr>\n",
       "      <th>0</th>\n",
       "      <td>1</td>\n",
       "      <td>제품</td>\n",
       "      <td>PC/주변기기</td>\n",
       "      <td>프린터</td>\n",
       "      <td>흑백 레이저 프린터 45 ppm</td>\n",
       "      <td>SL-M4530ND</td>\n",
       "      <td>https://downloadcenter.samsung.com/content/EM/...</td>\n",
       "      <td>Quick Guide</td>\n",
       "      <td>KO</td>\n",
       "    </tr>\n",
       "    <tr>\n",
       "      <th>1</th>\n",
       "      <td>2</td>\n",
       "      <td>제품</td>\n",
       "      <td>PC/주변기기</td>\n",
       "      <td>프린터</td>\n",
       "      <td>흑백 레이저 프린터 40 ppm</td>\n",
       "      <td>SL-M4030ND</td>\n",
       "      <td>https://downloadcenter.samsung.com/content/EM/...</td>\n",
       "      <td>Quick Guide</td>\n",
       "      <td>KO</td>\n",
       "    </tr>\n",
       "    <tr>\n",
       "      <th>2</th>\n",
       "      <td>3</td>\n",
       "      <td>제품</td>\n",
       "      <td>PC/주변기기</td>\n",
       "      <td>프린터</td>\n",
       "      <td>컬러 레이저 프린터 30/30 ppm</td>\n",
       "      <td>SL-C3010ND</td>\n",
       "      <td>https://downloadcenter.samsung.com/content/EM/...</td>\n",
       "      <td>Quick Guide</td>\n",
       "      <td>KO</td>\n",
       "    </tr>\n",
       "    <tr>\n",
       "      <th>3</th>\n",
       "      <td>4</td>\n",
       "      <td>제품</td>\n",
       "      <td>PC/주변기기</td>\n",
       "      <td>프린터</td>\n",
       "      <td>컬러 레이저 복합기 14/14 ppm</td>\n",
       "      <td>SL-C1454FW</td>\n",
       "      <td>https://downloadcenter.samsung.com/content/EM/...</td>\n",
       "      <td>Quick Guide</td>\n",
       "      <td>EN</td>\n",
       "    </tr>\n",
       "    <tr>\n",
       "      <th>4</th>\n",
       "      <td>5</td>\n",
       "      <td>제품</td>\n",
       "      <td>PC/주변기기</td>\n",
       "      <td>프린터</td>\n",
       "      <td>흑백 레이저 복합기 20 ppm</td>\n",
       "      <td>SL-M2079F</td>\n",
       "      <td>https://downloadcenter.samsung.com/content/EM/...</td>\n",
       "      <td>Quick Guide</td>\n",
       "      <td>KO</td>\n",
       "    </tr>\n",
       "    <tr>\n",
       "      <th>...</th>\n",
       "      <td>...</td>\n",
       "      <td>...</td>\n",
       "      <td>...</td>\n",
       "      <td>...</td>\n",
       "      <td>...</td>\n",
       "      <td>...</td>\n",
       "      <td>...</td>\n",
       "      <td>...</td>\n",
       "      <td>...</td>\n",
       "    </tr>\n",
       "    <tr>\n",
       "      <th>1653</th>\n",
       "      <td>1654</td>\n",
       "      <td>제품</td>\n",
       "      <td>DA</td>\n",
       "      <td>세탁기</td>\n",
       "      <td>그랑데 통버블 세탁기 14 kg, 그랑데 통버블 세탁기 16 kg, 그랑데 통버블 ...</td>\n",
       "      <td>WA14CG6441BY, WA16CG6441BW, WA16CG6441BY</td>\n",
       "      <td>https://downloadcenter.samsung.com/content/UM/...</td>\n",
       "      <td>User Manual</td>\n",
       "      <td>KO</td>\n",
       "    </tr>\n",
       "    <tr>\n",
       "      <th>1654</th>\n",
       "      <td>1655</td>\n",
       "      <td>제품</td>\n",
       "      <td>DA</td>\n",
       "      <td>세탁기</td>\n",
       "      <td>그랑데 통버블 세탁기 10 kg, 그랑데 통버블 세탁기 13 kg, 그랑데 통버블 ...</td>\n",
       "      <td>WA10CG5441BW, WA13CG5441BW, WA13CG5441BW</td>\n",
       "      <td>https://downloadcenter.samsung.com/content/UM/...</td>\n",
       "      <td>User Manual</td>\n",
       "      <td>KO</td>\n",
       "    </tr>\n",
       "    <tr>\n",
       "      <th>1655</th>\n",
       "      <td>1656</td>\n",
       "      <td>제품</td>\n",
       "      <td>DA</td>\n",
       "      <td>세탁기</td>\n",
       "      <td>그랑데 통버블 세탁기 16 kg</td>\n",
       "      <td>WA16CG6741BD, WA16CG6741BD, WA16CG6741BV</td>\n",
       "      <td>https://downloadcenter.samsung.com/content/UM/...</td>\n",
       "      <td>User Manual</td>\n",
       "      <td>KO</td>\n",
       "    </tr>\n",
       "    <tr>\n",
       "      <th>1656</th>\n",
       "      <td>1657</td>\n",
       "      <td>제품</td>\n",
       "      <td>DA</td>\n",
       "      <td>냉장고</td>\n",
       "      <td>BESPOKE 냉장고 2도어 키친핏 333 L</td>\n",
       "      <td>RB33A3662AP</td>\n",
       "      <td>https://downloadcenter.samsung.com/content/UM/...</td>\n",
       "      <td>User Manual (Common)</td>\n",
       "      <td>KO</td>\n",
       "    </tr>\n",
       "    <tr>\n",
       "      <th>1657</th>\n",
       "      <td>1658</td>\n",
       "      <td>제품</td>\n",
       "      <td>DA</td>\n",
       "      <td>인덕션</td>\n",
       "      <td>BESPOKE 인덕션, BESPOKE 인덕션, BESPOKE 인덕션 (플렉스존), ...</td>\n",
       "      <td>NZ63DB607CABS, NZ63DB607CAWS, NZ63DB657CABS, N...</td>\n",
       "      <td>https://downloadcenter.samsung.com/content/UM/...</td>\n",
       "      <td>User Manual</td>\n",
       "      <td>KO</td>\n",
       "    </tr>\n",
       "  </tbody>\n",
       "</table>\n",
       "<p>1658 rows × 9 columns</p>\n",
       "</div>"
      ],
      "text/plain": [
       "       SEQ  구분      GBM CATEGORY_GRP  \\\n",
       "0        1  제품  PC/주변기기          프린터   \n",
       "1        2  제품  PC/주변기기          프린터   \n",
       "2        3  제품  PC/주변기기          프린터   \n",
       "3        4  제품  PC/주변기기          프린터   \n",
       "4        5  제품  PC/주변기기          프린터   \n",
       "...    ...  ..      ...          ...   \n",
       "1653  1654  제품       DA          세탁기   \n",
       "1654  1655  제품       DA          세탁기   \n",
       "1655  1656  제품       DA          세탁기   \n",
       "1656  1657  제품       DA          냉장고   \n",
       "1657  1658  제품       DA          인덕션   \n",
       "\n",
       "                                             PRODUCT_NM  \\\n",
       "0                                     흑백 레이저 프린터 45 ppm   \n",
       "1                                     흑백 레이저 프린터 40 ppm   \n",
       "2                                  컬러 레이저 프린터 30/30 ppm   \n",
       "3                                  컬러 레이저 복합기 14/14 ppm   \n",
       "4                                     흑백 레이저 복합기 20 ppm   \n",
       "...                                                 ...   \n",
       "1653  그랑데 통버블 세탁기 14 kg, 그랑데 통버블 세탁기 16 kg, 그랑데 통버블 ...   \n",
       "1654  그랑데 통버블 세탁기 10 kg, 그랑데 통버블 세탁기 13 kg, 그랑데 통버블 ...   \n",
       "1655                                  그랑데 통버블 세탁기 16 kg   \n",
       "1656                          BESPOKE 냉장고 2도어 키친핏 333 L   \n",
       "1657  BESPOKE 인덕션, BESPOKE 인덕션, BESPOKE 인덕션 (플렉스존), ...   \n",
       "\n",
       "                                                CDMODEL  \\\n",
       "0                                            SL-M4530ND   \n",
       "1                                            SL-M4030ND   \n",
       "2                                            SL-C3010ND   \n",
       "3                                            SL-C1454FW   \n",
       "4                                             SL-M2079F   \n",
       "...                                                 ...   \n",
       "1653           WA14CG6441BY, WA16CG6441BW, WA16CG6441BY   \n",
       "1654           WA10CG5441BW, WA13CG5441BW, WA13CG5441BW   \n",
       "1655           WA16CG6741BD, WA16CG6741BD, WA16CG6741BV   \n",
       "1656                                        RB33A3662AP   \n",
       "1657  NZ63DB607CABS, NZ63DB607CAWS, NZ63DB657CABS, N...   \n",
       "\n",
       "                                                    URL                STDKEY  \\\n",
       "0     https://downloadcenter.samsung.com/content/EM/...           Quick Guide   \n",
       "1     https://downloadcenter.samsung.com/content/EM/...           Quick Guide   \n",
       "2     https://downloadcenter.samsung.com/content/EM/...           Quick Guide   \n",
       "3     https://downloadcenter.samsung.com/content/EM/...           Quick Guide   \n",
       "4     https://downloadcenter.samsung.com/content/EM/...           Quick Guide   \n",
       "...                                                 ...                   ...   \n",
       "1653  https://downloadcenter.samsung.com/content/UM/...           User Manual   \n",
       "1654  https://downloadcenter.samsung.com/content/UM/...           User Manual   \n",
       "1655  https://downloadcenter.samsung.com/content/UM/...           User Manual   \n",
       "1656  https://downloadcenter.samsung.com/content/UM/...  User Manual (Common)   \n",
       "1657  https://downloadcenter.samsung.com/content/UM/...           User Manual   \n",
       "\n",
       "     WRITELANG  \n",
       "0           KO  \n",
       "1           KO  \n",
       "2           KO  \n",
       "3           EN  \n",
       "4           KO  \n",
       "...        ...  \n",
       "1653        KO  \n",
       "1654        KO  \n",
       "1655        KO  \n",
       "1656        KO  \n",
       "1657        KO  \n",
       "\n",
       "[1658 rows x 9 columns]"
      ]
     },
     "execution_count": 36,
     "metadata": {},
     "output_type": "execute_result"
    }
   ],
   "source": [
    "df_v2"
   ]
  },
  {
   "cell_type": "markdown",
   "metadata": {},
   "source": []
  },
  {
   "cell_type": "code",
   "execution_count": 37,
   "metadata": {},
   "outputs": [
    {
     "name": "stderr",
     "output_type": "stream",
     "text": [
      "1it [00:19, 19.11s/it]"
     ]
    },
    {
     "name": "stdout",
     "output_type": "stream",
     "text": [
      "파일이 저장되었습니다: C:/Users/sykim/Desktop/url_blob/pdf_file\\1_M4530_QIG_KOR.pdf\n"
     ]
    },
    {
     "name": "stderr",
     "output_type": "stream",
     "text": [
      "2it [00:38, 19.45s/it]"
     ]
    },
    {
     "name": "stdout",
     "output_type": "stream",
     "text": [
      "파일이 저장되었습니다: C:/Users/sykim/Desktop/url_blob/pdf_file\\2_M4030_QIG_KOR.pdf\n"
     ]
    },
    {
     "name": "stderr",
     "output_type": "stream",
     "text": [
      "3it [00:53, 17.16s/it]"
     ]
    },
    {
     "name": "stdout",
     "output_type": "stream",
     "text": [
      "파일이 저장되었습니다: C:/Users/sykim/Desktop/url_blob/pdf_file\\3_C301x_QIG3_korean_for_customer.pdf\n"
     ]
    },
    {
     "name": "stderr",
     "output_type": "stream",
     "text": [
      "4it [01:10, 17.13s/it]"
     ]
    },
    {
     "name": "stdout",
     "output_type": "stream",
     "text": [
      "파일이 저장되었습니다: C:/Users/sykim/Desktop/url_blob/pdf_file\\4_CLX-419x_QIG1_worldwide_for_customer.pdf\n"
     ]
    },
    {
     "name": "stderr",
     "output_type": "stream",
     "text": [
      "5it [01:24, 15.89s/it]"
     ]
    },
    {
     "name": "stdout",
     "output_type": "stream",
     "text": [
      "파일이 저장되었습니다: C:/Users/sykim/Desktop/url_blob/pdf_file\\5_M207x_QIG3_korean_for_customer.pdf\n"
     ]
    },
    {
     "name": "stderr",
     "output_type": "stream",
     "text": [
      "6it [01:33, 13.65s/it]"
     ]
    },
    {
     "name": "stdout",
     "output_type": "stream",
     "text": [
      "파일이 저장되었습니다: C:/Users/sykim/Desktop/url_blob/pdf_file\\6_C56x_Quick_Installation_Guide_V00.pdf\n"
     ]
    },
    {
     "name": "stderr",
     "output_type": "stream",
     "text": [
      "7it [01:42, 12.22s/it]"
     ]
    },
    {
     "name": "stdout",
     "output_type": "stream",
     "text": [
      "파일이 저장되었습니다: C:/Users/sykim/Desktop/url_blob/pdf_file\\7_M208x_Quick_Installation_Guide_V00.pdf\n"
     ]
    },
    {
     "name": "stderr",
     "output_type": "stream",
     "text": [
      "8it [01:49, 10.55s/it]"
     ]
    },
    {
     "name": "stdout",
     "output_type": "stream",
     "text": [
      "파일이 저장되었습니다: C:/Users/sykim/Desktop/url_blob/pdf_file\\8_C51x_Quick_Installation_Guide_V00.pdf\n"
     ]
    },
    {
     "name": "stderr",
     "output_type": "stream",
     "text": [
      "9it [02:04, 11.77s/it]"
     ]
    },
    {
     "name": "stdout",
     "output_type": "stream",
     "text": [
      "파일이 저장되었습니다: C:/Users/sykim/Desktop/url_blob/pdf_file\\9_M203x_Quick_Installation_Guide_V00.pdf\n"
     ]
    },
    {
     "name": "stderr",
     "output_type": "stream",
     "text": [
      "10it [02:06,  8.76s/it]"
     ]
    },
    {
     "name": "stdout",
     "output_type": "stream",
     "text": [
      "파일이 저장되었습니다: C:/Users/sykim/Desktop/url_blob/pdf_file\\10_Clean_Guide.pdf\n"
     ]
    },
    {
     "name": "stderr",
     "output_type": "stream",
     "text": [
      "11it [02:09,  7.02s/it]"
     ]
    },
    {
     "name": "stdout",
     "output_type": "stream",
     "text": [
      "파일이 저장되었습니다: C:/Users/sykim/Desktop/url_blob/pdf_file\\11_BN68-10523C-03_UM_QTQ800B_KR_KOR_200207.0.pdf\n"
     ]
    },
    {
     "name": "stderr",
     "output_type": "stream",
     "text": [
      "12it [02:09,  4.99s/it]"
     ]
    },
    {
     "name": "stdout",
     "output_type": "stream",
     "text": [
      "파일이 저장되었습니다: C:/Users/sykim/Desktop/url_blob/pdf_file\\12_BN68-10533A-00_QSG_Q800T_KOR_L01_200206.1.pdf\n"
     ]
    },
    {
     "name": "stderr",
     "output_type": "stream",
     "text": [
      "13it [02:12,  4.32s/it]"
     ]
    },
    {
     "name": "stdout",
     "output_type": "stream",
     "text": [
      "파일이 저장되었습니다: C:/Users/sykim/Desktop/url_blob/pdf_file\\13_BN68-10555A-01_UM_QTQ950SA_KR_KOR_200401.0.pdf\n"
     ]
    },
    {
     "name": "stderr",
     "output_type": "stream",
     "text": [
      "14it [02:14,  3.71s/it]"
     ]
    },
    {
     "name": "stdout",
     "output_type": "stream",
     "text": [
      "파일이 저장되었습니다: C:/Users/sykim/Desktop/url_blob/pdf_file\\14_M28_SFP_QIG_20191206_7GF47-90902.pdf\n"
     ]
    },
    {
     "name": "stderr",
     "output_type": "stream",
     "text": [
      "15it [02:20,  4.42s/it]"
     ]
    },
    {
     "name": "stdout",
     "output_type": "stream",
     "text": [
      "파일이 저장되었습니다: C:/Users/sykim/Desktop/url_blob/pdf_file\\15_M28_MFP_QIG_20191210_7GF55-90902.pdf\n"
     ]
    },
    {
     "name": "stderr",
     "output_type": "stream",
     "text": [
      "16it [02:22,  3.76s/it]"
     ]
    },
    {
     "name": "stdout",
     "output_type": "stream",
     "text": [
      "파일이 저장되었습니다: C:/Users/sykim/Desktop/url_blob/pdf_file\\16_WF6500TK_DC68-03928E-00_Label_Tag_191106b.pdf\n"
     ]
    },
    {
     "name": "stderr",
     "output_type": "stream",
     "text": [
      "17it [02:28,  4.30s/it]"
     ]
    },
    {
     "name": "stdout",
     "output_type": "stream",
     "text": [
      "파일이 저장되었습니다: C:/Users/sykim/Desktop/url_blob/pdf_file\\17_BP81-00257B-03_UM_ULSP7TBJ_ULSP9TAJ_KR_KOR_201005.0.pdf\n"
     ]
    },
    {
     "name": "stderr",
     "output_type": "stream",
     "text": [
      "18it [02:29,  3.21s/it]"
     ]
    },
    {
     "name": "stdout",
     "output_type": "stream",
     "text": [
      "파일이 저장되었습니다: C:/Users/sykim/Desktop/url_blob/pdf_file\\18_BP81-00258B-00_QSG_ULSP7TBJ_ULSP9TAJ_KR_KOR_200810.4.pdf\n"
     ]
    },
    {
     "name": "stderr",
     "output_type": "stream",
     "text": [
      "19it [02:32,  3.31s/it]"
     ]
    },
    {
     "name": "stdout",
     "output_type": "stream",
     "text": [
      "파일이 저장되었습니다: C:/Users/sykim/Desktop/url_blob/pdf_file\\19_5._Label_Tag_WF9500TK_DC68-03928H-00_0128.pdf\n"
     ]
    },
    {
     "name": "stderr",
     "output_type": "stream",
     "text": [
      "20it [02:37,  3.86s/it]"
     ]
    },
    {
     "name": "stdout",
     "output_type": "stream",
     "text": [
      "파일이 저장되었습니다: C:/Users/sykim/Desktop/url_blob/pdf_file\\20_DB68-08790A-03_QG_ACR_KR_KO_210310.pdf\n"
     ]
    },
    {
     "name": "stderr",
     "output_type": "stream",
     "text": [
      "21it [02:44,  4.85s/it]"
     ]
    },
    {
     "name": "stdout",
     "output_type": "stream",
     "text": [
      "파일이 저장되었습니다: C:/Users/sykim/Desktop/url_blob/pdf_file\\21_RWP7000AM_Quick_Guide_Ver01_210318.pdf\n"
     ]
    },
    {
     "name": "stderr",
     "output_type": "stream",
     "text": [
      "22it [02:50,  5.07s/it]"
     ]
    },
    {
     "name": "stdout",
     "output_type": "stream",
     "text": [
      "파일이 저장되었습니다: C:/Users/sykim/Desktop/url_blob/pdf_file\\22_Setup_poster_SL-T1670_T167xW.pdf\n"
     ]
    },
    {
     "name": "stderr",
     "output_type": "stream",
     "text": [
      "23it [02:51,  3.76s/it]"
     ]
    },
    {
     "name": "stdout",
     "output_type": "stream",
     "text": [
      "파일이 저장되었습니다: C:/Users/sykim/Desktop/url_blob/pdf_file\\23_DB68-11153A-00_IB_ACR_AX5500_PET_Mesh_Filter_AA_3ge_210420-D01.pdf\n"
     ]
    },
    {
     "name": "stderr",
     "output_type": "stream",
     "text": [
      "24it [02:53,  3.46s/it]"
     ]
    },
    {
     "name": "stdout",
     "output_type": "stream",
     "text": [
      "파일이 저장되었습니다: C:/Users/sykim/Desktop/url_blob/pdf_file\\24_SL-T167x_series_Management_guide.pdf\n"
     ]
    },
    {
     "name": "stderr",
     "output_type": "stream",
     "text": [
      "25it [02:58,  3.82s/it]"
     ]
    },
    {
     "name": "stdout",
     "output_type": "stream",
     "text": [
      "파일이 저장되었습니다: C:/Users/sykim/Desktop/url_blob/pdf_file\\25_SL-J168x_QIG_Install_Guide.pdf\n"
     ]
    },
    {
     "name": "stderr",
     "output_type": "stream",
     "text": [
      "26it [02:59,  2.96s/it]"
     ]
    },
    {
     "name": "stdout",
     "output_type": "stream",
     "text": [
      "파일이 저장되었습니다: C:/Users/sykim/Desktop/url_blob/pdf_file\\26_BN68-12574A-01_QSG_QTLS01N_WW_L06_210603.0.pdf\n"
     ]
    },
    {
     "name": "stderr",
     "output_type": "stream",
     "text": [
      "27it [03:06,  4.23s/it]"
     ]
    },
    {
     "name": "stdout",
     "output_type": "stream",
     "text": [
      "파일이 저장되었습니다: C:/Users/sykim/Desktop/url_blob/pdf_file\\27_RR5000_B-PJT_DA68-03893G-01_Quick_Guide_210618.pdf\n"
     ]
    },
    {
     "name": "stderr",
     "output_type": "stream",
     "text": [
      "28it [03:07,  3.24s/it]"
     ]
    },
    {
     "name": "stdout",
     "output_type": "stream",
     "text": [
      "파일이 저장되었습니다: C:/Users/sykim/Desktop/url_blob/pdf_file\\28_BN68-12574A-01_QSG_QTLS01N_WW_L06_210603.0.pdf\n"
     ]
    },
    {
     "name": "stderr",
     "output_type": "stream",
     "text": [
      "29it [03:08,  2.49s/it]"
     ]
    },
    {
     "name": "stdout",
     "output_type": "stream",
     "text": [
      "파일이 저장되었습니다: C:/Users/sykim/Desktop/url_blob/pdf_file\\29_BN68-12583C-01_QSG_Q700A Q800A Q900A 75-85inch_KOR_L01_210630.0.pdf\n"
     ]
    },
    {
     "name": "stderr",
     "output_type": "stream",
     "text": [
      "30it [03:09,  2.06s/it]"
     ]
    },
    {
     "name": "stdout",
     "output_type": "stream",
     "text": [
      "파일이 저장되었습니다: C:/Users/sykim/Desktop/url_blob/pdf_file\\30_BN68-12583C-01_QSG_Q700A Q800A Q900A 75-85inch_KOR_L01_210630.0.pdf\n"
     ]
    },
    {
     "name": "stderr",
     "output_type": "stream",
     "text": [
      "32it [03:11,  1.36s/it]"
     ]
    },
    {
     "name": "stdout",
     "output_type": "stream",
     "text": [
      "파일이 저장되었습니다: C:/Users/sykim/Desktop/url_blob/pdf_file\\31_BN68-12583C-01_QSG_Q700A Q800A Q900A 75-85inch_KOR_L01_210630.0.pdf\n",
      "파일이 저장되었습니다: C:/Users/sykim/Desktop/url_blob/pdf_file\\32_BN68-12583C-01_QSG_Q700A Q800A Q900A 75-85inch_KOR_L01_210630.0.pdf\n"
     ]
    },
    {
     "name": "stderr",
     "output_type": "stream",
     "text": [
      "33it [03:11,  1.03s/it]"
     ]
    },
    {
     "name": "stdout",
     "output_type": "stream",
     "text": [
      "파일이 저장되었습니다: C:/Users/sykim/Desktop/url_blob/pdf_file\\33_BN68-12583C-01_QSG_Q700A Q800A Q900A 75-85inch_KOR_L01_210630.0.pdf\n"
     ]
    },
    {
     "name": "stderr",
     "output_type": "stream",
     "text": [
      "34it [03:11,  1.25it/s]"
     ]
    },
    {
     "name": "stdout",
     "output_type": "stream",
     "text": [
      "파일이 저장되었습니다: C:/Users/sykim/Desktop/url_blob/pdf_file\\34_BN68-12583C-01_QSG_Q700A Q800A Q900A 75-85inch_KOR_L01_210630.0.pdf\n"
     ]
    },
    {
     "name": "stderr",
     "output_type": "stream",
     "text": [
      "35it [03:12,  1.42it/s]"
     ]
    },
    {
     "name": "stdout",
     "output_type": "stream",
     "text": [
      "파일이 저장되었습니다: C:/Users/sykim/Desktop/url_blob/pdf_file\\35_BN68-12585B-01_QSG_Q85A 55-65inch_WW_L06_210623.0.pdf\n"
     ]
    },
    {
     "name": "stderr",
     "output_type": "stream",
     "text": [
      "36it [03:13,  1.30it/s]"
     ]
    },
    {
     "name": "stdout",
     "output_type": "stream",
     "text": [
      "파일이 저장되었습니다: C:/Users/sykim/Desktop/url_blob/pdf_file\\36_BN68-12594A-01_QSG_Q700A Q800A Q900A 55-65inch_WW_L06_210818.0.pdf\n"
     ]
    },
    {
     "name": "stderr",
     "output_type": "stream",
     "text": [
      "37it [03:13,  1.54it/s]"
     ]
    },
    {
     "name": "stdout",
     "output_type": "stream",
     "text": [
      "파일이 저장되었습니다: C:/Users/sykim/Desktop/url_blob/pdf_file\\37_BN68-12594A-01_QSG_Q700A Q800A Q900A 55-65inch_WW_L06_210818.0.pdf\n"
     ]
    },
    {
     "name": "stderr",
     "output_type": "stream",
     "text": [
      "39it [03:15,  1.23it/s]"
     ]
    },
    {
     "name": "stdout",
     "output_type": "stream",
     "text": [
      "파일이 저장되었습니다: C:/Users/sykim/Desktop/url_blob/pdf_file\\38_DA68-02549P-01_QG_RQ9500A_KO_KO_210907.pdf\n",
      "파일이 저장되었습니다: C:/Users/sykim/Desktop/url_blob/pdf_file\\39_BN68-12931B-00_QSG_Q90 43-65inch_WW_L06_210712.0.pdf\n"
     ]
    },
    {
     "name": "stderr",
     "output_type": "stream",
     "text": [
      "40it [03:22,  2.59s/it]"
     ]
    },
    {
     "name": "stdout",
     "output_type": "stream",
     "text": [
      "파일이 저장되었습니다: C:/Users/sykim/Desktop/url_blob/pdf_file\\40_RR7000_B-PJT_Fridge_DA68-04350F-00_Quick_Guide.pdf\n"
     ]
    },
    {
     "name": "stderr",
     "output_type": "stream",
     "text": [
      "41it [03:23,  2.18s/it]"
     ]
    },
    {
     "name": "stdout",
     "output_type": "stream",
     "text": [
      "파일이 저장되었습니다: C:/Users/sykim/Desktop/url_blob/pdf_file\\41_RR7000_B-PJT_Freezer_DA68-04131R-00_Quick_Guide.pdf\n"
     ]
    },
    {
     "name": "stderr",
     "output_type": "stream",
     "text": [
      "42it [03:25,  1.99s/it]"
     ]
    },
    {
     "name": "stdout",
     "output_type": "stream",
     "text": [
      "파일이 저장되었습니다: C:/Users/sykim/Desktop/url_blob/pdf_file\\42_DW4000RM_Install_DD81-02849A-03_KO_210121.pdf\n"
     ]
    },
    {
     "name": "stderr",
     "output_type": "stream",
     "text": [
      "43it [03:29,  2.80s/it]"
     ]
    },
    {
     "name": "stdout",
     "output_type": "stream",
     "text": [
      "파일이 저장되었습니다: C:/Users/sykim/Desktop/url_blob/pdf_file\\43_DB68-11088A-01_QG_ACR_KR_KO_210930.pdf\n"
     ]
    },
    {
     "name": "stderr",
     "output_type": "stream",
     "text": [
      "44it [03:32,  2.65s/it]"
     ]
    },
    {
     "name": "stdout",
     "output_type": "stream",
     "text": [
      "파일이 저장되었습니다: C:/Users/sykim/Desktop/url_blob/pdf_file\\44_DW5500MM_QUICK_GUIDE_DD81_03253A_00_201103.pdf\n"
     ]
    },
    {
     "name": "stderr",
     "output_type": "stream",
     "text": [
      "45it [03:34,  2.50s/it]"
     ]
    },
    {
     "name": "stdout",
     "output_type": "stream",
     "text": [
      "파일이 저장되었습니다: C:/Users/sykim/Desktop/url_blob/pdf_file\\45_DW5500MM_install_manual_DD81_02984C_01_KO_210225.pdf\n"
     ]
    },
    {
     "name": "stderr",
     "output_type": "stream",
     "text": [
      "46it [03:35,  2.01s/it]"
     ]
    },
    {
     "name": "stdout",
     "output_type": "stream",
     "text": [
      "파일이 저장되었습니다: C:/Users/sykim/Desktop/url_blob/pdf_file\\46_BN68-11931A-04_QSG_LS03 43-50inch_KOR_L01_220103.0.pdf\n"
     ]
    },
    {
     "name": "stderr",
     "output_type": "stream",
     "text": [
      "47it [03:35,  1.47s/it]"
     ]
    },
    {
     "name": "stdout",
     "output_type": "stream",
     "text": [
      "파일이 저장되었습니다: C:/Users/sykim/Desktop/url_blob/pdf_file\\47_BN68-11931A-04_QSG_LS03 43-50inch_KOR_L01_220103.0.pdf\n"
     ]
    },
    {
     "name": "stderr",
     "output_type": "stream",
     "text": [
      "48it [03:35,  1.18s/it]"
     ]
    },
    {
     "name": "stdout",
     "output_type": "stream",
     "text": [
      "파일이 저장되었습니다: C:/Users/sykim/Desktop/url_blob/pdf_file\\48_BN68-13946A-00_QSG_BU8000 Float 75-85inch_KOR_L01_211221.0.pdf\n"
     ]
    },
    {
     "name": "stderr",
     "output_type": "stream",
     "text": [
      "49it [03:36,  1.13s/it]"
     ]
    },
    {
     "name": "stdout",
     "output_type": "stream",
     "text": [
      "파일이 저장되었습니다: C:/Users/sykim/Desktop/url_blob/pdf_file\\49_BN68-13894A-00_QSG_Q60B New Simple 75-85inch_KOR_L01_211223.0.pdf\n"
     ]
    },
    {
     "name": "stderr",
     "output_type": "stream",
     "text": [
      "50it [03:37,  1.05it/s]"
     ]
    },
    {
     "name": "stdout",
     "output_type": "stream",
     "text": [
      "파일이 저장되었습니다: C:/Users/sykim/Desktop/url_blob/pdf_file\\50_BN68-14120A-01_QSG_LS03B 75-85inch_KOR_L01_220111.0.pdf\n"
     ]
    },
    {
     "name": "stderr",
     "output_type": "stream",
     "text": [
      "51it [03:40,  1.54s/it]"
     ]
    },
    {
     "name": "stdout",
     "output_type": "stream",
     "text": [
      "파일이 저장되었습니다: C:/Users/sykim/Desktop/url_blob/pdf_file\\51_BN68-14034A-00_QSG_QN85B 75-85inch_KOR_L01_220106.0.pdf\n"
     ]
    },
    {
     "name": "stderr",
     "output_type": "stream",
     "text": [
      "52it [03:41,  1.43s/it]"
     ]
    },
    {
     "name": "stdout",
     "output_type": "stream",
     "text": [
      "파일이 저장되었습니다: C:/Users/sykim/Desktop/url_blob/pdf_file\\52_BP81-00488A-02_UM_LSP3B_KR_KOR_220204.0.pdf\n"
     ]
    },
    {
     "name": "stderr",
     "output_type": "stream",
     "text": [
      "53it [03:42,  1.29s/it]"
     ]
    },
    {
     "name": "stdout",
     "output_type": "stream",
     "text": [
      "파일이 저장되었습니다: C:/Users/sykim/Desktop/url_blob/pdf_file\\53_BN68-14034A-00_QSG_QN85B 75-85inch_KOR_L01_220106.0.pdf\n"
     ]
    },
    {
     "name": "stderr",
     "output_type": "stream",
     "text": [
      "54it [03:43,  1.12s/it]"
     ]
    },
    {
     "name": "stdout",
     "output_type": "stream",
     "text": [
      "파일이 저장되었습니다: C:/Users/sykim/Desktop/url_blob/pdf_file\\54_BN68-14120A-01_QSG_LS03B 75-85inch_KOR_L01_220111.0.pdf\n"
     ]
    },
    {
     "name": "stderr",
     "output_type": "stream",
     "text": [
      "55it [03:44,  1.17s/it]"
     ]
    },
    {
     "name": "stdout",
     "output_type": "stream",
     "text": [
      "파일이 저장되었습니다: C:/Users/sykim/Desktop/url_blob/pdf_file\\55_BN68-13933A-01_QSG_Q70B 75-85inch_KOR_L01_220117.0.pdf\n"
     ]
    },
    {
     "name": "stderr",
     "output_type": "stream",
     "text": [
      "56it [03:45,  1.02s/it]"
     ]
    },
    {
     "name": "stdout",
     "output_type": "stream",
     "text": [
      "파일이 저장되었습니다: C:/Users/sykim/Desktop/url_blob/pdf_file\\56_BN68-13894A-00_QSG_Q60B New Simple 75-85inch_KOR_L01_211223.0.pdf\n"
     ]
    },
    {
     "name": "stderr",
     "output_type": "stream",
     "text": [
      "57it [03:45,  1.06it/s]"
     ]
    },
    {
     "name": "stdout",
     "output_type": "stream",
     "text": [
      "파일이 저장되었습니다: C:/Users/sykim/Desktop/url_blob/pdf_file\\57_BN68-13894A-00_QSG_Q60B New Simple 75-85inch_KOR_L01_211223.0.pdf\n"
     ]
    },
    {
     "name": "stderr",
     "output_type": "stream",
     "text": [
      "58it [03:46,  1.12it/s]"
     ]
    },
    {
     "name": "stdout",
     "output_type": "stream",
     "text": [
      "파일이 저장되었습니다: C:/Users/sykim/Desktop/url_blob/pdf_file\\58_BN68-14385A-01_QSG_LS01B_WW_L06_220311.0.pdf\n"
     ]
    },
    {
     "name": "stderr",
     "output_type": "stream",
     "text": [
      "59it [03:47,  1.04it/s]"
     ]
    },
    {
     "name": "stdout",
     "output_type": "stream",
     "text": [
      "파일이 저장되었습니다: C:/Users/sykim/Desktop/url_blob/pdf_file\\59_BN68-14385A-01_QSG_LS01B_WW_L06_220311.0.pdf\n"
     ]
    },
    {
     "name": "stderr",
     "output_type": "stream",
     "text": [
      "60it [03:50,  1.40s/it]"
     ]
    },
    {
     "name": "stdout",
     "output_type": "stream",
     "text": [
      "파일이 저장되었습니다: C:/Users/sykim/Desktop/url_blob/pdf_file\\60_BN68-14385A-01_QSG_LS01B_WW_L06_220311.0.pdf\n"
     ]
    },
    {
     "name": "stderr",
     "output_type": "stream",
     "text": [
      "61it [03:51,  1.48s/it]"
     ]
    },
    {
     "name": "stdout",
     "output_type": "stream",
     "text": [
      "파일이 저장되었습니다: C:/Users/sykim/Desktop/url_blob/pdf_file\\61_BN68-14385A-01_QSG_LS01B_WW_L06_220311.0.pdf\n"
     ]
    },
    {
     "name": "stderr",
     "output_type": "stream",
     "text": [
      "62it [03:52,  1.10s/it]"
     ]
    },
    {
     "name": "stdout",
     "output_type": "stream",
     "text": [
      "파일이 저장되었습니다: C:/Users/sykim/Desktop/url_blob/pdf_file\\62_BN68-13898A-01_Leaflet-Remote_QLED LS03_KR_KOR_220304.0.pdf\n"
     ]
    },
    {
     "name": "stderr",
     "output_type": "stream",
     "text": [
      "63it [03:52,  1.10it/s]"
     ]
    },
    {
     "name": "stdout",
     "output_type": "stream",
     "text": [
      "파일이 저장되었습니다: C:/Users/sykim/Desktop/url_blob/pdf_file\\63_BN68-11599A-05_Leaflet-Remote_QLED LS03_KR_KOR_220304.0.pdf\n"
     ]
    },
    {
     "name": "stderr",
     "output_type": "stream",
     "text": [
      "64it [03:52,  1.32it/s]"
     ]
    },
    {
     "name": "stdout",
     "output_type": "stream",
     "text": [
      "파일이 저장되었습니다: C:/Users/sykim/Desktop/url_blob/pdf_file\\64_BN68-13898A-01_Leaflet-Remote_QLED LS03_KR_KOR_220304.0.pdf\n"
     ]
    },
    {
     "name": "stderr",
     "output_type": "stream",
     "text": [
      "65it [03:53,  1.50it/s]"
     ]
    },
    {
     "name": "stdout",
     "output_type": "stream",
     "text": [
      "파일이 저장되었습니다: C:/Users/sykim/Desktop/url_blob/pdf_file\\65_BN68-13898A-01_Leaflet-Remote_QLED LS03_KR_KOR_220304.0.pdf\n"
     ]
    },
    {
     "name": "stderr",
     "output_type": "stream",
     "text": [
      "66it [03:54,  1.26it/s]"
     ]
    },
    {
     "name": "stdout",
     "output_type": "stream",
     "text": [
      "파일이 저장되었습니다: C:/Users/sykim/Desktop/url_blob/pdf_file\\66_BN68-13898A-01_Leaflet-Remote_QLED LS03_KR_KOR_220304.0.pdf\n"
     ]
    },
    {
     "name": "stderr",
     "output_type": "stream",
     "text": [
      "67it [03:55,  1.12it/s]"
     ]
    },
    {
     "name": "stdout",
     "output_type": "stream",
     "text": [
      "파일이 저장되었습니다: C:/Users/sykim/Desktop/url_blob/pdf_file\\67_BN68-13898A-01_Leaflet-Remote_QLED LS03_KR_KOR_220304.0.pdf\n"
     ]
    },
    {
     "name": "stderr",
     "output_type": "stream",
     "text": [
      "68it [03:56,  1.17it/s]"
     ]
    },
    {
     "name": "stdout",
     "output_type": "stream",
     "text": [
      "파일이 저장되었습니다: C:/Users/sykim/Desktop/url_blob/pdf_file\\68_BN68-13898A-01_Leaflet-Remote_QLED LS03_KR_KOR_220304.0.pdf\n"
     ]
    },
    {
     "name": "stderr",
     "output_type": "stream",
     "text": [
      "69it [03:57,  1.06it/s]"
     ]
    },
    {
     "name": "stdout",
     "output_type": "stream",
     "text": [
      "파일이 저장되었습니다: C:/Users/sykim/Desktop/url_blob/pdf_file\\69_BN68-13898A-01_Leaflet-Remote_QLED LS03_KR_KOR_220304.0.pdf\n"
     ]
    },
    {
     "name": "stderr",
     "output_type": "stream",
     "text": [
      "70it [03:58,  1.14it/s]"
     ]
    },
    {
     "name": "stdout",
     "output_type": "stream",
     "text": [
      "파일이 저장되었습니다: C:/Users/sykim/Desktop/url_blob/pdf_file\\70_BN68-13898A-01_Leaflet-Remote_QLED LS03_KR_KOR_220304.0.pdf\n"
     ]
    },
    {
     "name": "stderr",
     "output_type": "stream",
     "text": [
      "71it [03:58,  1.46it/s]"
     ]
    },
    {
     "name": "stdout",
     "output_type": "stream",
     "text": [
      "파일이 저장되었습니다: C:/Users/sykim/Desktop/url_blob/pdf_file\\71_BN68-13898A-01_Leaflet-Remote_QLED LS03_KR_KOR_220304.0.pdf\n"
     ]
    },
    {
     "name": "stderr",
     "output_type": "stream",
     "text": [
      "72it [04:00,  1.03it/s]"
     ]
    },
    {
     "name": "stdout",
     "output_type": "stream",
     "text": [
      "파일이 저장되었습니다: C:/Users/sykim/Desktop/url_blob/pdf_file\\72_BN68-13898A-01_Leaflet-Remote_QLED LS03_KR_KOR_220304.0.pdf\n"
     ]
    },
    {
     "name": "stderr",
     "output_type": "stream",
     "text": [
      "73it [04:01,  1.05s/it]"
     ]
    },
    {
     "name": "stdout",
     "output_type": "stream",
     "text": [
      "파일이 저장되었습니다: C:/Users/sykim/Desktop/url_blob/pdf_file\\73_BN68-13898A-01_Leaflet-Remote_QLED LS03_KR_KOR_220304.0.pdf\n"
     ]
    },
    {
     "name": "stderr",
     "output_type": "stream",
     "text": [
      "74it [04:02,  1.02s/it]"
     ]
    },
    {
     "name": "stdout",
     "output_type": "stream",
     "text": [
      "파일이 저장되었습니다: C:/Users/sykim/Desktop/url_blob/pdf_file\\74_BN68-13898A-01_Leaflet-Remote_QLED LS03_KR_KOR_220304.0.pdf\n"
     ]
    },
    {
     "name": "stderr",
     "output_type": "stream",
     "text": [
      "75it [04:02,  1.26it/s]"
     ]
    },
    {
     "name": "stdout",
     "output_type": "stream",
     "text": [
      "파일이 저장되었습니다: C:/Users/sykim/Desktop/url_blob/pdf_file\\75_BN68-13898A-01_Leaflet-Remote_QLED LS03_KR_KOR_220304.0.pdf\n"
     ]
    },
    {
     "name": "stderr",
     "output_type": "stream",
     "text": [
      "77it [04:03,  1.97it/s]"
     ]
    },
    {
     "name": "stdout",
     "output_type": "stream",
     "text": [
      "파일이 저장되었습니다: C:/Users/sykim/Desktop/url_blob/pdf_file\\76_BN68-13898A-01_Leaflet-Remote_QLED LS03_KR_KOR_220304.0.pdf\n",
      "파일이 저장되었습니다: C:/Users/sykim/Desktop/url_blob/pdf_file\\77_BN68-14527A-01_Leaflet-Remote_32LS03 BU8_KR_KOR_220304.0.pdf\n"
     ]
    },
    {
     "name": "stderr",
     "output_type": "stream",
     "text": [
      "78it [04:03,  2.40it/s]"
     ]
    },
    {
     "name": "stdout",
     "output_type": "stream",
     "text": [
      "파일이 저장되었습니다: C:/Users/sykim/Desktop/url_blob/pdf_file\\78_BN68-11599A-05_Leaflet-Remote_QLED LS03_KR_KOR_220304.0.pdf\n"
     ]
    },
    {
     "name": "stderr",
     "output_type": "stream",
     "text": [
      "79it [04:03,  2.20it/s]"
     ]
    },
    {
     "name": "stdout",
     "output_type": "stream",
     "text": [
      "파일이 저장되었습니다: C:/Users/sykim/Desktop/url_blob/pdf_file\\79_BN68-14527A-01_Leaflet-Remote_32LS03 BU8_KR_KOR_220304.0.pdf\n"
     ]
    },
    {
     "name": "stderr",
     "output_type": "stream",
     "text": [
      "80it [04:04,  2.17it/s]"
     ]
    },
    {
     "name": "stdout",
     "output_type": "stream",
     "text": [
      "파일이 저장되었습니다: C:/Users/sykim/Desktop/url_blob/pdf_file\\80_BN68-13898A-01_Leaflet-Remote_QLED LS03_KR_KOR_220304.0.pdf\n"
     ]
    },
    {
     "name": "stderr",
     "output_type": "stream",
     "text": [
      "81it [04:04,  2.44it/s]"
     ]
    },
    {
     "name": "stdout",
     "output_type": "stream",
     "text": [
      "파일이 저장되었습니다: C:/Users/sykim/Desktop/url_blob/pdf_file\\81_BN68-13898A-01_Leaflet-Remote_QLED LS03_KR_KOR_220304.0.pdf\n"
     ]
    },
    {
     "name": "stderr",
     "output_type": "stream",
     "text": [
      "82it [04:04,  2.67it/s]"
     ]
    },
    {
     "name": "stdout",
     "output_type": "stream",
     "text": [
      "파일이 저장되었습니다: C:/Users/sykim/Desktop/url_blob/pdf_file\\82_BN68-13898A-01_Leaflet-Remote_QLED LS03_KR_KOR_220304.0.pdf\n"
     ]
    },
    {
     "name": "stderr",
     "output_type": "stream",
     "text": [
      "83it [04:05,  2.40it/s]"
     ]
    },
    {
     "name": "stdout",
     "output_type": "stream",
     "text": [
      "파일이 저장되었습니다: C:/Users/sykim/Desktop/url_blob/pdf_file\\83_BN68-11599A-05_Leaflet-Remote_QLED LS03_KR_KOR_220304.0.pdf\n"
     ]
    },
    {
     "name": "stderr",
     "output_type": "stream",
     "text": [
      "85it [04:06,  2.42it/s]"
     ]
    },
    {
     "name": "stdout",
     "output_type": "stream",
     "text": [
      "파일이 저장되었습니다: C:/Users/sykim/Desktop/url_blob/pdf_file\\84_BN68-11599A-05_Leaflet-Remote_QLED LS03_KR_KOR_220304.0.pdf\n",
      "파일이 저장되었습니다: C:/Users/sykim/Desktop/url_blob/pdf_file\\85_BN68-13898A-01_Leaflet-Remote_QLED LS03_KR_KOR_220304.0.pdf\n"
     ]
    },
    {
     "name": "stderr",
     "output_type": "stream",
     "text": [
      "86it [04:06,  2.51it/s]"
     ]
    },
    {
     "name": "stdout",
     "output_type": "stream",
     "text": [
      "파일이 저장되었습니다: C:/Users/sykim/Desktop/url_blob/pdf_file\\86_BN68-13898A-01_Leaflet-Remote_QLED LS03_KR_KOR_220304.0.pdf\n"
     ]
    },
    {
     "name": "stderr",
     "output_type": "stream",
     "text": [
      "87it [04:07,  1.77it/s]"
     ]
    },
    {
     "name": "stdout",
     "output_type": "stream",
     "text": [
      "파일이 저장되었습니다: C:/Users/sykim/Desktop/url_blob/pdf_file\\87_BN68-11599A-05_Leaflet-Remote_QLED LS03_KR_KOR_220304.0.pdf\n"
     ]
    },
    {
     "name": "stderr",
     "output_type": "stream",
     "text": [
      "88it [04:08,  2.00it/s]"
     ]
    },
    {
     "name": "stdout",
     "output_type": "stream",
     "text": [
      "파일이 저장되었습니다: C:/Users/sykim/Desktop/url_blob/pdf_file\\88_BN68-13898A-01_Leaflet-Remote_QLED LS03_KR_KOR_220304.0.pdf\n"
     ]
    },
    {
     "name": "stderr",
     "output_type": "stream",
     "text": [
      "89it [04:08,  1.64it/s]"
     ]
    },
    {
     "name": "stdout",
     "output_type": "stream",
     "text": [
      "파일이 저장되었습니다: C:/Users/sykim/Desktop/url_blob/pdf_file\\89_BN68-13898A-01_Leaflet-Remote_QLED LS03_KR_KOR_220304.0.pdf\n"
     ]
    },
    {
     "name": "stderr",
     "output_type": "stream",
     "text": [
      "90it [04:09,  1.33it/s]"
     ]
    },
    {
     "name": "stdout",
     "output_type": "stream",
     "text": [
      "파일이 저장되었습니다: C:/Users/sykim/Desktop/url_blob/pdf_file\\90_BN68-13898A-01_Leaflet-Remote_QLED LS03_KR_KOR_220304.0.pdf\n"
     ]
    },
    {
     "name": "stderr",
     "output_type": "stream",
     "text": [
      "91it [04:11,  1.14it/s]"
     ]
    },
    {
     "name": "stdout",
     "output_type": "stream",
     "text": [
      "파일이 저장되었습니다: C:/Users/sykim/Desktop/url_blob/pdf_file\\91_BN68-13898A-01_Leaflet-Remote_QLED LS03_KR_KOR_220304.0.pdf\n"
     ]
    },
    {
     "name": "stderr",
     "output_type": "stream",
     "text": [
      "92it [04:12,  1.09it/s]"
     ]
    },
    {
     "name": "stdout",
     "output_type": "stream",
     "text": [
      "파일이 저장되었습니다: C:/Users/sykim/Desktop/url_blob/pdf_file\\92_BN68-13898A-01_Leaflet-Remote_QLED LS03_KR_KOR_220304.0.pdf\n"
     ]
    },
    {
     "name": "stderr",
     "output_type": "stream",
     "text": [
      "93it [04:12,  1.33it/s]"
     ]
    },
    {
     "name": "stdout",
     "output_type": "stream",
     "text": [
      "파일이 저장되었습니다: C:/Users/sykim/Desktop/url_blob/pdf_file\\93_BN68-11599A-05_Leaflet-Remote_QLED LS03_KR_KOR_220304.0.pdf\n"
     ]
    },
    {
     "name": "stderr",
     "output_type": "stream",
     "text": [
      "94it [04:12,  1.52it/s]"
     ]
    },
    {
     "name": "stdout",
     "output_type": "stream",
     "text": [
      "파일이 저장되었습니다: C:/Users/sykim/Desktop/url_blob/pdf_file\\94_BN68-11599A-05_Leaflet-Remote_QLED LS03_KR_KOR_220304.0.pdf\n"
     ]
    },
    {
     "name": "stderr",
     "output_type": "stream",
     "text": [
      "95it [04:13,  1.38it/s]"
     ]
    },
    {
     "name": "stdout",
     "output_type": "stream",
     "text": [
      "파일이 저장되었습니다: C:/Users/sykim/Desktop/url_blob/pdf_file\\95_BN68-13898A-01_Leaflet-Remote_QLED LS03_KR_KOR_220304.0.pdf\n"
     ]
    },
    {
     "name": "stderr",
     "output_type": "stream",
     "text": [
      "96it [04:14,  1.49it/s]"
     ]
    },
    {
     "name": "stdout",
     "output_type": "stream",
     "text": [
      "파일이 저장되었습니다: C:/Users/sykim/Desktop/url_blob/pdf_file\\96_BN68-13898A-01_Leaflet-Remote_QLED LS03_KR_KOR_220304.0.pdf\n"
     ]
    },
    {
     "name": "stderr",
     "output_type": "stream",
     "text": [
      "97it [04:15,  1.35it/s]"
     ]
    },
    {
     "name": "stdout",
     "output_type": "stream",
     "text": [
      "파일이 저장되었습니다: C:/Users/sykim/Desktop/url_blob/pdf_file\\97_BN68-13898A-01_Leaflet-Remote_QLED LS03_KR_KOR_220304.0.pdf\n"
     ]
    },
    {
     "name": "stderr",
     "output_type": "stream",
     "text": [
      "98it [04:16,  1.11it/s]"
     ]
    },
    {
     "name": "stdout",
     "output_type": "stream",
     "text": [
      "파일이 저장되었습니다: C:/Users/sykim/Desktop/url_blob/pdf_file\\98_BN68-13898A-01_Leaflet-Remote_QLED LS03_KR_KOR_220304.0.pdf\n"
     ]
    },
    {
     "name": "stderr",
     "output_type": "stream",
     "text": [
      "99it [04:16,  1.37it/s]"
     ]
    },
    {
     "name": "stdout",
     "output_type": "stream",
     "text": [
      "파일이 저장되었습니다: C:/Users/sykim/Desktop/url_blob/pdf_file\\99_BN68-13898A-01_Leaflet-Remote_QLED LS03_KR_KOR_220304.0.pdf\n"
     ]
    },
    {
     "name": "stderr",
     "output_type": "stream",
     "text": [
      "100it [04:17,  1.36it/s]"
     ]
    },
    {
     "name": "stdout",
     "output_type": "stream",
     "text": [
      "파일이 저장되었습니다: C:/Users/sykim/Desktop/url_blob/pdf_file\\100_BN68-13898A-01_Leaflet-Remote_QLED LS03_KR_KOR_220304.0.pdf\n"
     ]
    },
    {
     "name": "stderr",
     "output_type": "stream",
     "text": [
      "101it [04:18,  1.45it/s]"
     ]
    },
    {
     "name": "stdout",
     "output_type": "stream",
     "text": [
      "파일이 저장되었습니다: C:/Users/sykim/Desktop/url_blob/pdf_file\\101_BN68-13898A-01_Leaflet-Remote_QLED LS03_KR_KOR_220304.0.pdf\n"
     ]
    },
    {
     "name": "stderr",
     "output_type": "stream",
     "text": [
      "102it [04:18,  1.71it/s]"
     ]
    },
    {
     "name": "stdout",
     "output_type": "stream",
     "text": [
      "파일이 저장되었습니다: C:/Users/sykim/Desktop/url_blob/pdf_file\\102_BN68-14527A-01_Leaflet-Remote_32LS03 BU8_KR_KOR_220304.0.pdf\n"
     ]
    },
    {
     "name": "stderr",
     "output_type": "stream",
     "text": [
      "103it [04:19,  1.27it/s]"
     ]
    },
    {
     "name": "stdout",
     "output_type": "stream",
     "text": [
      "파일이 저장되었습니다: C:/Users/sykim/Desktop/url_blob/pdf_file\\103_BN68-13898A-01_Leaflet-Remote_QLED LS03_KR_KOR_220304.0.pdf\n"
     ]
    },
    {
     "name": "stderr",
     "output_type": "stream",
     "text": [
      "104it [04:20,  1.18it/s]"
     ]
    },
    {
     "name": "stdout",
     "output_type": "stream",
     "text": [
      "파일이 저장되었습니다: C:/Users/sykim/Desktop/url_blob/pdf_file\\104_BN68-14493A-00_QSG_LS03B 32inch_WW_L06_220126.0.pdf\n"
     ]
    },
    {
     "name": "stderr",
     "output_type": "stream",
     "text": [
      "105it [04:21,  1.22it/s]"
     ]
    },
    {
     "name": "stdout",
     "output_type": "stream",
     "text": [
      "파일이 저장되었습니다: C:/Users/sykim/Desktop/url_blob/pdf_file\\105_BN68-14527A-01_Leaflet-Remote_32LS03 BU8_KR_KOR_220304.0.pdf\n"
     ]
    },
    {
     "name": "stderr",
     "output_type": "stream",
     "text": [
      "107it [04:22,  1.58it/s]"
     ]
    },
    {
     "name": "stdout",
     "output_type": "stream",
     "text": [
      "파일이 저장되었습니다: C:/Users/sykim/Desktop/url_blob/pdf_file\\106_BN68-13898A-01_Leaflet-Remote_QLED LS03_KR_KOR_220304.0.pdf\n",
      "파일이 저장되었습니다: C:/Users/sykim/Desktop/url_blob/pdf_file\\107_BN68-13898A-01_Leaflet-Remote_QLED LS03_KR_KOR_220304.0.pdf\n"
     ]
    },
    {
     "name": "stderr",
     "output_type": "stream",
     "text": [
      "108it [04:22,  1.96it/s]"
     ]
    },
    {
     "name": "stdout",
     "output_type": "stream",
     "text": [
      "파일이 저장되었습니다: C:/Users/sykim/Desktop/url_blob/pdf_file\\108_BN68-14034A-00_QSG_QN85B 75-85inch_KOR_L01_220106.0.pdf\n"
     ]
    },
    {
     "name": "stderr",
     "output_type": "stream",
     "text": [
      "109it [04:23,  2.18it/s]"
     ]
    },
    {
     "name": "stdout",
     "output_type": "stream",
     "text": [
      "파일이 저장되었습니다: C:/Users/sykim/Desktop/url_blob/pdf_file\\109_BN68-13898A-01_Leaflet-Remote_QLED LS03_KR_KOR_220304.0.pdf\n"
     ]
    },
    {
     "name": "stderr",
     "output_type": "stream",
     "text": [
      "110it [04:23,  2.14it/s]"
     ]
    },
    {
     "name": "stdout",
     "output_type": "stream",
     "text": [
      "파일이 저장되었습니다: C:/Users/sykim/Desktop/url_blob/pdf_file\\110_BN68-14034A-00_QSG_QN85B 75-85inch_KOR_L01_220106.0.pdf\n"
     ]
    },
    {
     "name": "stderr",
     "output_type": "stream",
     "text": [
      "112it [04:24,  2.43it/s]"
     ]
    },
    {
     "name": "stdout",
     "output_type": "stream",
     "text": [
      "파일이 저장되었습니다: C:/Users/sykim/Desktop/url_blob/pdf_file\\111_BN68-13898A-01_Leaflet-Remote_QLED LS03_KR_KOR_220304.0.pdf\n",
      "파일이 저장되었습니다: C:/Users/sykim/Desktop/url_blob/pdf_file\\112_BN68-13898A-01_Leaflet-Remote_QLED LS03_KR_KOR_220304.0.pdf\n"
     ]
    },
    {
     "name": "stderr",
     "output_type": "stream",
     "text": [
      "114it [04:24,  3.35it/s]"
     ]
    },
    {
     "name": "stdout",
     "output_type": "stream",
     "text": [
      "파일이 저장되었습니다: C:/Users/sykim/Desktop/url_blob/pdf_file\\113_BN68-13898A-01_Leaflet-Remote_QLED LS03_KR_KOR_220304.0.pdf\n",
      "파일이 저장되었습니다: C:/Users/sykim/Desktop/url_blob/pdf_file\\114_BN68-13898A-01_Leaflet-Remote_QLED LS03_KR_KOR_220304.0.pdf\n"
     ]
    },
    {
     "name": "stderr",
     "output_type": "stream",
     "text": [
      "115it [04:28,  1.29s/it]"
     ]
    },
    {
     "name": "stdout",
     "output_type": "stream",
     "text": [
      "파일이 저장되었습니다: C:/Users/sykim/Desktop/url_blob/pdf_file\\115_SL-T2170W_QIG_220119.pdf\n"
     ]
    },
    {
     "name": "stderr",
     "output_type": "stream",
     "text": [
      "116it [04:32,  2.18s/it]"
     ]
    },
    {
     "name": "stdout",
     "output_type": "stream",
     "text": [
      "파일이 저장되었습니다: C:/Users/sykim/Desktop/url_blob/pdf_file\\116_SL-T2270DW_QIG_220119.pdf\n"
     ]
    },
    {
     "name": "stderr",
     "output_type": "stream",
     "text": [
      "117it [04:37,  2.97s/it]"
     ]
    },
    {
     "name": "stdout",
     "output_type": "stream",
     "text": [
      "파일이 저장되었습니다: C:/Users/sykim/Desktop/url_blob/pdf_file\\117_SL-T2270FW_QIG_220121.pdf\n"
     ]
    },
    {
     "name": "stderr",
     "output_type": "stream",
     "text": [
      "118it [04:38,  2.41s/it]"
     ]
    },
    {
     "name": "stdout",
     "output_type": "stream",
     "text": [
      "파일이 저장되었습니다: C:/Users/sykim/Desktop/url_blob/pdf_file\\118_BN68-13931A-01_QSG_Q700B Q800B Q900B QN95B 75-85inch_KOR_L01_220422.0.pdf\n"
     ]
    },
    {
     "name": "stderr",
     "output_type": "stream",
     "text": [
      "119it [04:39,  1.99s/it]"
     ]
    },
    {
     "name": "stdout",
     "output_type": "stream",
     "text": [
      "파일이 저장되었습니다: C:/Users/sykim/Desktop/url_blob/pdf_file\\119_BN68-13931A-01_QSG_Q700B Q800B Q900B QN95B 75-85inch_KOR_L01_220422.0.pdf\n"
     ]
    },
    {
     "name": "stderr",
     "output_type": "stream",
     "text": [
      "120it [04:40,  1.78s/it]"
     ]
    },
    {
     "name": "stdout",
     "output_type": "stream",
     "text": [
      "파일이 저장되었습니다: C:/Users/sykim/Desktop/url_blob/pdf_file\\120_BN68-13931A-01_QSG_Q700B Q800B Q900B QN95B 75-85inch_KOR_L01_220422.0.pdf\n"
     ]
    },
    {
     "name": "stderr",
     "output_type": "stream",
     "text": [
      "121it [04:42,  1.69s/it]"
     ]
    },
    {
     "name": "stdout",
     "output_type": "stream",
     "text": [
      "파일이 저장되었습니다: C:/Users/sykim/Desktop/url_blob/pdf_file\\121_BN68-13931A-01_QSG_Q700B Q800B Q900B QN95B 75-85inch_KOR_L01_220422.0.pdf\n"
     ]
    },
    {
     "name": "stderr",
     "output_type": "stream",
     "text": [
      "122it [04:42,  1.36s/it]"
     ]
    },
    {
     "name": "stdout",
     "output_type": "stream",
     "text": [
      "파일이 저장되었습니다: C:/Users/sykim/Desktop/url_blob/pdf_file\\122_BN68-13931A-01_QSG_Q700B Q800B Q900B QN95B 75-85inch_KOR_L01_220422.0.pdf\n"
     ]
    },
    {
     "name": "stderr",
     "output_type": "stream",
     "text": [
      "123it [04:43,  1.13s/it]"
     ]
    },
    {
     "name": "stdout",
     "output_type": "stream",
     "text": [
      "파일이 저장되었습니다: C:/Users/sykim/Desktop/url_blob/pdf_file\\123_BN68-13689A-00_QSG_Q80B 50inch_WW_L06_220127.0.pdf\n"
     ]
    },
    {
     "name": "stderr",
     "output_type": "stream",
     "text": [
      "124it [04:44,  1.06it/s]"
     ]
    },
    {
     "name": "stdout",
     "output_type": "stream",
     "text": [
      "파일이 저장되었습니다: C:/Users/sykim/Desktop/url_blob/pdf_file\\124_BN68-13898A-01_Leaflet-Remote_QLED LS03_KR_KOR_220304.0.pdf\n"
     ]
    },
    {
     "name": "stderr",
     "output_type": "stream",
     "text": [
      "125it [04:45,  1.04it/s]"
     ]
    },
    {
     "name": "stdout",
     "output_type": "stream",
     "text": [
      "파일이 저장되었습니다: C:/Users/sykim/Desktop/url_blob/pdf_file\\125_BN68-13898A-01_Leaflet-Remote_QLED LS03_KR_KOR_220304.0.pdf\n"
     ]
    },
    {
     "name": "stderr",
     "output_type": "stream",
     "text": [
      "126it [04:46,  1.07s/it]"
     ]
    },
    {
     "name": "stdout",
     "output_type": "stream",
     "text": [
      "파일이 저장되었습니다: C:/Users/sykim/Desktop/url_blob/pdf_file\\126_BN68-13947A-00_QSG_BU8500 Simple Plus Wide 75-85inch_KOR_L01_211217.0.pdf\n"
     ]
    },
    {
     "name": "stderr",
     "output_type": "stream",
     "text": [
      "127it [04:47,  1.00s/it]"
     ]
    },
    {
     "name": "stdout",
     "output_type": "stream",
     "text": [
      "파일이 저장되었습니다: C:/Users/sykim/Desktop/url_blob/pdf_file\\127_BN68-14527A-01_Leaflet-Remote_32LS03 BU8_KR_KOR_220304.0.pdf\n"
     ]
    },
    {
     "name": "stderr",
     "output_type": "stream",
     "text": [
      "128it [04:47,  1.26it/s]"
     ]
    },
    {
     "name": "stdout",
     "output_type": "stream",
     "text": [
      "파일이 저장되었습니다: C:/Users/sykim/Desktop/url_blob/pdf_file\\128_BN68-13898A-01_Leaflet-Remote_QLED LS03_KR_KOR_220304.0.pdf\n"
     ]
    },
    {
     "name": "stderr",
     "output_type": "stream",
     "text": [
      "129it [04:49,  1.03s/it]"
     ]
    },
    {
     "name": "stdout",
     "output_type": "stream",
     "text": [
      "파일이 저장되었습니다: C:/Users/sykim/Desktop/url_blob/pdf_file\\129_BN68-13898A-01_Leaflet-Remote_QLED LS03_KR_KOR_220304.0.pdf\n"
     ]
    },
    {
     "name": "stderr",
     "output_type": "stream",
     "text": [
      "130it [04:49,  1.02it/s]"
     ]
    },
    {
     "name": "stdout",
     "output_type": "stream",
     "text": [
      "파일이 저장되었습니다: C:/Users/sykim/Desktop/url_blob/pdf_file\\130_BN68-13898A-01_Leaflet-Remote_QLED LS03_KR_KOR_220304.0.pdf\n"
     ]
    },
    {
     "name": "stderr",
     "output_type": "stream",
     "text": [
      "131it [04:50,  1.13it/s]"
     ]
    },
    {
     "name": "stdout",
     "output_type": "stream",
     "text": [
      "파일이 저장되었습니다: C:/Users/sykim/Desktop/url_blob/pdf_file\\131_BN68-13894A-00_QSG_Q60B New Simple 75-85inch_KOR_L01_211223.0.pdf\n"
     ]
    },
    {
     "name": "stderr",
     "output_type": "stream",
     "text": [
      "132it [04:51,  1.03it/s]"
     ]
    },
    {
     "name": "stdout",
     "output_type": "stream",
     "text": [
      "파일이 저장되었습니다: C:/Users/sykim/Desktop/url_blob/pdf_file\\132_BN68-13898A-01_Leaflet-Remote_QLED LS03_KR_KOR_220304.0.pdf\n"
     ]
    },
    {
     "name": "stderr",
     "output_type": "stream",
     "text": [
      "133it [04:52,  1.04it/s]"
     ]
    },
    {
     "name": "stdout",
     "output_type": "stream",
     "text": [
      "파일이 저장되었습니다: C:/Users/sykim/Desktop/url_blob/pdf_file\\133_BN68-13894A-00_QSG_Q60B New Simple 75-85inch_KOR_L01_211223.0.pdf\n"
     ]
    },
    {
     "name": "stderr",
     "output_type": "stream",
     "text": [
      "134it [04:53,  1.15it/s]"
     ]
    },
    {
     "name": "stdout",
     "output_type": "stream",
     "text": [
      "파일이 저장되었습니다: C:/Users/sykim/Desktop/url_blob/pdf_file\\134_BN68-13700A-02_UM_BU8000 Q60-90_KR_KOR_220621.0.pdf\n"
     ]
    },
    {
     "name": "stderr",
     "output_type": "stream",
     "text": [
      "135it [04:53,  1.35it/s]"
     ]
    },
    {
     "name": "stdout",
     "output_type": "stream",
     "text": [
      "파일이 저장되었습니다: C:/Users/sykim/Desktop/url_blob/pdf_file\\135_BN68-14502A-01_UM_QBLS03S_KR_KOR_220621.0.pdf\n"
     ]
    },
    {
     "name": "stderr",
     "output_type": "stream",
     "text": [
      "136it [04:54,  1.20it/s]"
     ]
    },
    {
     "name": "stdout",
     "output_type": "stream",
     "text": [
      "파일이 저장되었습니다: C:/Users/sykim/Desktop/url_blob/pdf_file\\136_BN68-13700A-02_UM_BU8000 Q60-90_KR_KOR_220621.0.pdf\n"
     ]
    },
    {
     "name": "stderr",
     "output_type": "stream",
     "text": [
      "137it [04:55,  1.23it/s]"
     ]
    },
    {
     "name": "stdout",
     "output_type": "stream",
     "text": [
      "파일이 저장되었습니다: C:/Users/sykim/Desktop/url_blob/pdf_file\\137_BN68-13700A-02_UM_BU8000 Q60-90_KR_KOR_220621.0.pdf\n"
     ]
    },
    {
     "name": "stderr",
     "output_type": "stream",
     "text": [
      "138it [04:57,  1.01s/it]"
     ]
    },
    {
     "name": "stdout",
     "output_type": "stream",
     "text": [
      "파일이 저장되었습니다: C:/Users/sykim/Desktop/url_blob/pdf_file\\138_BN68-13700A-02_UM_BU8000 Q60-90_KR_KOR_220621.0.pdf\n"
     ]
    },
    {
     "name": "stderr",
     "output_type": "stream",
     "text": [
      "139it [04:57,  1.25it/s]"
     ]
    },
    {
     "name": "stdout",
     "output_type": "stream",
     "text": [
      "파일이 저장되었습니다: C:/Users/sykim/Desktop/url_blob/pdf_file\\139_BN68-13700A-02_UM_BU8000 Q60-90_KR_KOR_220621.0.pdf\n"
     ]
    },
    {
     "name": "stderr",
     "output_type": "stream",
     "text": [
      "140it [04:57,  1.46it/s]"
     ]
    },
    {
     "name": "stdout",
     "output_type": "stream",
     "text": [
      "파일이 저장되었습니다: C:/Users/sykim/Desktop/url_blob/pdf_file\\140_BN68-13700A-02_UM_BU8000 Q60-90_KR_KOR_220621.0.pdf\n"
     ]
    },
    {
     "name": "stderr",
     "output_type": "stream",
     "text": [
      "141it [04:58,  1.78it/s]"
     ]
    },
    {
     "name": "stdout",
     "output_type": "stream",
     "text": [
      "파일이 저장되었습니다: C:/Users/sykim/Desktop/url_blob/pdf_file\\141_BN68-13700A-02_UM_BU8000 Q60-90_KR_KOR_220621.0.pdf\n"
     ]
    },
    {
     "name": "stderr",
     "output_type": "stream",
     "text": [
      "142it [04:59,  1.20it/s]"
     ]
    },
    {
     "name": "stdout",
     "output_type": "stream",
     "text": [
      "파일이 저장되었습니다: C:/Users/sykim/Desktop/url_blob/pdf_file\\142_BN68-13710A-02_UM_QBLS03M_KR_KOR_220621.0.pdf\n"
     ]
    },
    {
     "name": "stderr",
     "output_type": "stream",
     "text": [
      "143it [05:01,  1.08s/it]"
     ]
    },
    {
     "name": "stdout",
     "output_type": "stream",
     "text": [
      "파일이 저장되었습니다: C:/Users/sykim/Desktop/url_blob/pdf_file\\143_BN68-12853A-02_UM_QALS03M_KR_KOR_220621.0.pdf\n"
     ]
    },
    {
     "name": "stderr",
     "output_type": "stream",
     "text": [
      "144it [05:02,  1.11s/it]"
     ]
    },
    {
     "name": "stdout",
     "output_type": "stream",
     "text": [
      "파일이 저장되었습니다: C:/Users/sykim/Desktop/url_blob/pdf_file\\144_BN68-12939A-01_UM_AU7000-9000 Q60-90_KR_KOR_220621.0.pdf\n"
     ]
    },
    {
     "name": "stderr",
     "output_type": "stream",
     "text": [
      "145it [05:04,  1.28s/it]"
     ]
    },
    {
     "name": "stdout",
     "output_type": "stream",
     "text": [
      "파일이 저장되었습니다: C:/Users/sykim/Desktop/url_blob/pdf_file\\145_BN68-12939A-01_UM_AU7000-9000 Q60-90_KR_KOR_220621.0.pdf\n"
     ]
    },
    {
     "name": "stderr",
     "output_type": "stream",
     "text": [
      "146it [05:06,  1.51s/it]"
     ]
    },
    {
     "name": "stdout",
     "output_type": "stream",
     "text": [
      "파일이 저장되었습니다: C:/Users/sykim/Desktop/url_blob/pdf_file\\146_BN68-14347A-02_UM_QBLS01BA_KR_KOR_220621.0.pdf\n"
     ]
    },
    {
     "name": "stderr",
     "output_type": "stream",
     "text": [
      "147it [05:07,  1.57s/it]"
     ]
    },
    {
     "name": "stdout",
     "output_type": "stream",
     "text": [
      "파일이 저장되었습니다: C:/Users/sykim/Desktop/url_blob/pdf_file\\147_BN68-14347A-02_UM_QBLS01BA_KR_KOR_220621.0.pdf\n"
     ]
    },
    {
     "name": "stderr",
     "output_type": "stream",
     "text": [
      "148it [05:09,  1.54s/it]"
     ]
    },
    {
     "name": "stdout",
     "output_type": "stream",
     "text": [
      "파일이 저장되었습니다: C:/Users/sykim/Desktop/url_blob/pdf_file\\148_BN68-14347A-02_UM_QBLS01BA_KR_KOR_220621.0.pdf\n"
     ]
    },
    {
     "name": "stderr",
     "output_type": "stream",
     "text": [
      "149it [05:10,  1.37s/it]"
     ]
    },
    {
     "name": "stdout",
     "output_type": "stream",
     "text": [
      "파일이 저장되었습니다: C:/Users/sykim/Desktop/url_blob/pdf_file\\149_BN68-13700A-02_UM_BU8000 Q60-90_KR_KOR_220621.0.pdf\n"
     ]
    },
    {
     "name": "stderr",
     "output_type": "stream",
     "text": [
      "150it [05:12,  1.49s/it]"
     ]
    },
    {
     "name": "stdout",
     "output_type": "stream",
     "text": [
      "파일이 저장되었습니다: C:/Users/sykim/Desktop/url_blob/pdf_file\\150_BN68-13700A-02_UM_BU8000 Q60-90_KR_KOR_220621.0.pdf\n"
     ]
    },
    {
     "name": "stderr",
     "output_type": "stream",
     "text": [
      "151it [05:13,  1.33s/it]"
     ]
    },
    {
     "name": "stdout",
     "output_type": "stream",
     "text": [
      "파일이 저장되었습니다: C:/Users/sykim/Desktop/url_blob/pdf_file\\151_BN68-13700A-02_UM_BU8000 Q60-90_KR_KOR_220621.0.pdf\n"
     ]
    },
    {
     "name": "stderr",
     "output_type": "stream",
     "text": [
      "152it [05:14,  1.49s/it]"
     ]
    },
    {
     "name": "stdout",
     "output_type": "stream",
     "text": [
      "파일이 저장되었습니다: C:/Users/sykim/Desktop/url_blob/pdf_file\\152_BN68-13700A-02_UM_BU8000 Q60-90_KR_KOR_220621.0.pdf\n"
     ]
    },
    {
     "name": "stderr",
     "output_type": "stream",
     "text": [
      "153it [05:15,  1.24s/it]"
     ]
    },
    {
     "name": "stdout",
     "output_type": "stream",
     "text": [
      "파일이 저장되었습니다: C:/Users/sykim/Desktop/url_blob/pdf_file\\153_BN68-13700A-02_UM_BU8000 Q60-90_KR_KOR_220621.0.pdf\n"
     ]
    },
    {
     "name": "stderr",
     "output_type": "stream",
     "text": [
      "154it [05:16,  1.03s/it]"
     ]
    },
    {
     "name": "stdout",
     "output_type": "stream",
     "text": [
      "파일이 저장되었습니다: C:/Users/sykim/Desktop/url_blob/pdf_file\\154_BN68-13700A-02_UM_BU8000 Q60-90_KR_KOR_220621.0.pdf\n"
     ]
    },
    {
     "name": "stderr",
     "output_type": "stream",
     "text": [
      "155it [05:17,  1.12s/it]"
     ]
    },
    {
     "name": "stdout",
     "output_type": "stream",
     "text": [
      "파일이 저장되었습니다: C:/Users/sykim/Desktop/url_blob/pdf_file\\155_BN68-13700A-02_UM_BU8000 Q60-90_KR_KOR_220621.0.pdf\n"
     ]
    },
    {
     "name": "stderr",
     "output_type": "stream",
     "text": [
      "156it [05:18,  1.06s/it]"
     ]
    },
    {
     "name": "stdout",
     "output_type": "stream",
     "text": [
      "파일이 저장되었습니다: C:/Users/sykim/Desktop/url_blob/pdf_file\\156_BN68-13700A-02_UM_BU8000 Q60-90_KR_KOR_220621.0.pdf\n"
     ]
    },
    {
     "name": "stderr",
     "output_type": "stream",
     "text": [
      "157it [05:19,  1.05s/it]"
     ]
    },
    {
     "name": "stdout",
     "output_type": "stream",
     "text": [
      "파일이 저장되었습니다: C:/Users/sykim/Desktop/url_blob/pdf_file\\157_BN68-13700A-02_UM_BU8000 Q60-90_KR_KOR_220621.0.pdf\n"
     ]
    },
    {
     "name": "stderr",
     "output_type": "stream",
     "text": [
      "158it [05:20,  1.03it/s]"
     ]
    },
    {
     "name": "stdout",
     "output_type": "stream",
     "text": [
      "파일이 저장되었습니다: C:/Users/sykim/Desktop/url_blob/pdf_file\\158_BN68-12853A-02_UM_QALS03M_KR_KOR_220621.0.pdf\n"
     ]
    },
    {
     "name": "stderr",
     "output_type": "stream",
     "text": [
      "159it [05:26,  2.67s/it]"
     ]
    },
    {
     "name": "stdout",
     "output_type": "stream",
     "text": [
      "파일이 저장되었습니다: C:/Users/sykim/Desktop/url_blob/pdf_file\\159_BN68-12553B-02_UM_QAQN900A QAQN800B QAQN700C_KR_KOR_220621.0.pdf\n"
     ]
    },
    {
     "name": "stderr",
     "output_type": "stream",
     "text": [
      "160it [05:27,  2.21s/it]"
     ]
    },
    {
     "name": "stdout",
     "output_type": "stream",
     "text": [
      "파일이 저장되었습니다: C:/Users/sykim/Desktop/url_blob/pdf_file\\160_BN68-12553B-02_UM_QAQN900A QAQN800B QAQN700C_KR_KOR_220621.0.pdf\n"
     ]
    },
    {
     "name": "stderr",
     "output_type": "stream",
     "text": [
      "161it [05:28,  1.72s/it]"
     ]
    },
    {
     "name": "stdout",
     "output_type": "stream",
     "text": [
      "파일이 저장되었습니다: C:/Users/sykim/Desktop/url_blob/pdf_file\\161_BN68-13700A-02_UM_BU8000 Q60-90_KR_KOR_220621.0.pdf\n"
     ]
    },
    {
     "name": "stderr",
     "output_type": "stream",
     "text": [
      "162it [05:29,  1.55s/it]"
     ]
    },
    {
     "name": "stdout",
     "output_type": "stream",
     "text": [
      "파일이 저장되었습니다: C:/Users/sykim/Desktop/url_blob/pdf_file\\162_BN68-13700A-02_UM_BU8000 Q60-90_KR_KOR_220621.0.pdf\n"
     ]
    },
    {
     "name": "stderr",
     "output_type": "stream",
     "text": [
      "163it [05:30,  1.38s/it]"
     ]
    },
    {
     "name": "stdout",
     "output_type": "stream",
     "text": [
      "파일이 저장되었습니다: C:/Users/sykim/Desktop/url_blob/pdf_file\\163_BN68-13700A-02_UM_BU8000 Q60-90_KR_KOR_220621.0.pdf\n"
     ]
    },
    {
     "name": "stderr",
     "output_type": "stream",
     "text": [
      "164it [05:31,  1.36s/it]"
     ]
    },
    {
     "name": "stdout",
     "output_type": "stream",
     "text": [
      "파일이 저장되었습니다: C:/Users/sykim/Desktop/url_blob/pdf_file\\164_BN68-13700A-02_UM_BU8000 Q60-90_KR_KOR_220621.0.pdf\n"
     ]
    },
    {
     "name": "stderr",
     "output_type": "stream",
     "text": [
      "165it [05:33,  1.33s/it]"
     ]
    },
    {
     "name": "stdout",
     "output_type": "stream",
     "text": [
      "파일이 저장되었습니다: C:/Users/sykim/Desktop/url_blob/pdf_file\\165_BN68-14347A-02_UM_QBLS01BA_KR_KOR_220621.0.pdf\n"
     ]
    },
    {
     "name": "stderr",
     "output_type": "stream",
     "text": [
      "166it [05:35,  1.46s/it]"
     ]
    },
    {
     "name": "stdout",
     "output_type": "stream",
     "text": [
      "파일이 저장되었습니다: C:/Users/sykim/Desktop/url_blob/pdf_file\\166_BN68-13700A-02_UM_BU8000 Q60-90_KR_KOR_220621.0.pdf\n"
     ]
    },
    {
     "name": "stderr",
     "output_type": "stream",
     "text": [
      "167it [05:36,  1.35s/it]"
     ]
    },
    {
     "name": "stdout",
     "output_type": "stream",
     "text": [
      "파일이 저장되었습니다: C:/Users/sykim/Desktop/url_blob/pdf_file\\167_BN68-13700A-02_UM_BU8000 Q60-90_KR_KOR_220621.0.pdf\n"
     ]
    },
    {
     "name": "stderr",
     "output_type": "stream",
     "text": [
      "168it [05:37,  1.22s/it]"
     ]
    },
    {
     "name": "stdout",
     "output_type": "stream",
     "text": [
      "파일이 저장되었습니다: C:/Users/sykim/Desktop/url_blob/pdf_file\\168_BN68-13700A-02_UM_BU8000 Q60-90_KR_KOR_220621.0.pdf\n"
     ]
    },
    {
     "name": "stderr",
     "output_type": "stream",
     "text": [
      "169it [05:37,  1.12s/it]"
     ]
    },
    {
     "name": "stdout",
     "output_type": "stream",
     "text": [
      "파일이 저장되었습니다: C:/Users/sykim/Desktop/url_blob/pdf_file\\169_BN68-13700A-02_UM_BU8000 Q60-90_KR_KOR_220621.0.pdf\n"
     ]
    },
    {
     "name": "stderr",
     "output_type": "stream",
     "text": [
      "170it [05:38,  1.04it/s]"
     ]
    },
    {
     "name": "stdout",
     "output_type": "stream",
     "text": [
      "파일이 저장되었습니다: C:/Users/sykim/Desktop/url_blob/pdf_file\\170_BN68-12553B-02_UM_QAQN900A QAQN800B QAQN700C_KR_KOR_220621.0.pdf\n"
     ]
    },
    {
     "name": "stderr",
     "output_type": "stream",
     "text": [
      "171it [05:39,  1.02it/s]"
     ]
    },
    {
     "name": "stdout",
     "output_type": "stream",
     "text": [
      "파일이 저장되었습니다: C:/Users/sykim/Desktop/url_blob/pdf_file\\171_BN68-12553B-02_UM_QAQN900A QAQN800B QAQN700C_KR_KOR_220621.0.pdf\n"
     ]
    },
    {
     "name": "stderr",
     "output_type": "stream",
     "text": [
      "172it [05:39,  1.25it/s]"
     ]
    },
    {
     "name": "stdout",
     "output_type": "stream",
     "text": [
      "파일이 저장되었습니다: C:/Users/sykim/Desktop/url_blob/pdf_file\\172_BN68-12553B-02_UM_QAQN900A QAQN800B QAQN700C_KR_KOR_220621.0.pdf\n"
     ]
    },
    {
     "name": "stderr",
     "output_type": "stream",
     "text": [
      "173it [05:40,  1.48it/s]"
     ]
    },
    {
     "name": "stdout",
     "output_type": "stream",
     "text": [
      "파일이 저장되었습니다: C:/Users/sykim/Desktop/url_blob/pdf_file\\173_BN68-12553B-02_UM_QAQN900A QAQN800B QAQN700C_KR_KOR_220621.0.pdf\n"
     ]
    },
    {
     "name": "stderr",
     "output_type": "stream",
     "text": [
      "174it [05:40,  1.60it/s]"
     ]
    },
    {
     "name": "stdout",
     "output_type": "stream",
     "text": [
      "파일이 저장되었습니다: C:/Users/sykim/Desktop/url_blob/pdf_file\\174_BN68-12553B-02_UM_QAQN900A QAQN800B QAQN700C_KR_KOR_220621.0.pdf\n"
     ]
    },
    {
     "name": "stderr",
     "output_type": "stream",
     "text": [
      "175it [05:41,  1.72it/s]"
     ]
    },
    {
     "name": "stdout",
     "output_type": "stream",
     "text": [
      "파일이 저장되었습니다: C:/Users/sykim/Desktop/url_blob/pdf_file\\175_BN68-12553B-02_UM_QAQN900A QAQN800B QAQN700C_KR_KOR_220621.0.pdf\n"
     ]
    },
    {
     "name": "stderr",
     "output_type": "stream",
     "text": [
      "176it [05:41,  2.07it/s]"
     ]
    },
    {
     "name": "stdout",
     "output_type": "stream",
     "text": [
      "파일이 저장되었습니다: C:/Users/sykim/Desktop/url_blob/pdf_file\\176_BN68-13700A-02_UM_BU8000 Q60-90_KR_KOR_220621.0.pdf\n"
     ]
    },
    {
     "name": "stderr",
     "output_type": "stream",
     "text": [
      "177it [05:41,  2.11it/s]"
     ]
    },
    {
     "name": "stdout",
     "output_type": "stream",
     "text": [
      "파일이 저장되었습니다: C:/Users/sykim/Desktop/url_blob/pdf_file\\177_BN68-12939A-01_UM_AU7000-9000 Q60-90_KR_KOR_220621.0.pdf\n"
     ]
    },
    {
     "name": "stderr",
     "output_type": "stream",
     "text": [
      "178it [05:42,  2.27it/s]"
     ]
    },
    {
     "name": "stdout",
     "output_type": "stream",
     "text": [
      "파일이 저장되었습니다: C:/Users/sykim/Desktop/url_blob/pdf_file\\178_BN68-13700A-02_UM_BU8000 Q60-90_KR_KOR_220621.0.pdf\n"
     ]
    },
    {
     "name": "stderr",
     "output_type": "stream",
     "text": [
      "179it [05:42,  2.10it/s]"
     ]
    },
    {
     "name": "stdout",
     "output_type": "stream",
     "text": [
      "파일이 저장되었습니다: C:/Users/sykim/Desktop/url_blob/pdf_file\\179_BN68-13700A-02_UM_BU8000 Q60-90_KR_KOR_220621.0.pdf\n"
     ]
    },
    {
     "name": "stderr",
     "output_type": "stream",
     "text": [
      "180it [05:43,  1.56it/s]"
     ]
    },
    {
     "name": "stdout",
     "output_type": "stream",
     "text": [
      "파일이 저장되었습니다: C:/Users/sykim/Desktop/url_blob/pdf_file\\180_BN68-13700A-02_UM_BU8000 Q60-90_KR_KOR_220621.0.pdf\n"
     ]
    },
    {
     "name": "stderr",
     "output_type": "stream",
     "text": [
      "181it [05:44,  1.83it/s]"
     ]
    },
    {
     "name": "stdout",
     "output_type": "stream",
     "text": [
      "파일이 저장되었습니다: C:/Users/sykim/Desktop/url_blob/pdf_file\\181_BN68-13700A-02_UM_BU8000 Q60-90_KR_KOR_220621.0.pdf\n"
     ]
    },
    {
     "name": "stderr",
     "output_type": "stream",
     "text": [
      "182it [05:44,  1.81it/s]"
     ]
    },
    {
     "name": "stdout",
     "output_type": "stream",
     "text": [
      "파일이 저장되었습니다: C:/Users/sykim/Desktop/url_blob/pdf_file\\182_BN68-13710A-02_UM_QBLS03M_KR_KOR_220621.0.pdf\n"
     ]
    },
    {
     "name": "stderr",
     "output_type": "stream",
     "text": [
      "183it [05:45,  1.59it/s]"
     ]
    },
    {
     "name": "stdout",
     "output_type": "stream",
     "text": [
      "파일이 저장되었습니다: C:/Users/sykim/Desktop/url_blob/pdf_file\\183_BN68-13700A-02_UM_BU8000 Q60-90_KR_KOR_220621.0.pdf\n"
     ]
    },
    {
     "name": "stderr",
     "output_type": "stream",
     "text": [
      "184it [05:48,  1.39s/it]"
     ]
    },
    {
     "name": "stdout",
     "output_type": "stream",
     "text": [
      "파일이 저장되었습니다: C:/Users/sykim/Desktop/url_blob/pdf_file\\184_BN68-13700A-02_UM_BU8000 Q60-90_KR_KOR_220621.0.pdf\n"
     ]
    },
    {
     "name": "stderr",
     "output_type": "stream",
     "text": [
      "185it [05:49,  1.31s/it]"
     ]
    },
    {
     "name": "stdout",
     "output_type": "stream",
     "text": [
      "파일이 저장되었습니다: C:/Users/sykim/Desktop/url_blob/pdf_file\\185_BN68-13700A-02_UM_BU8000 Q60-90_KR_KOR_220621.0.pdf\n"
     ]
    },
    {
     "name": "stderr",
     "output_type": "stream",
     "text": [
      "186it [05:50,  1.19s/it]"
     ]
    },
    {
     "name": "stdout",
     "output_type": "stream",
     "text": [
      "파일이 저장되었습니다: C:/Users/sykim/Desktop/url_blob/pdf_file\\186_BN68-13898A-01_Leaflet-Remote_QLED LS03_KR_KOR_220304.0.pdf\n"
     ]
    },
    {
     "name": "stderr",
     "output_type": "stream",
     "text": [
      "187it [05:51,  1.18s/it]"
     ]
    },
    {
     "name": "stdout",
     "output_type": "stream",
     "text": [
      "파일이 저장되었습니다: C:/Users/sykim/Desktop/url_blob/pdf_file\\187_BN68-15031A-01_QSG_QN100BZ 98inch_WW_L06_220623.0.pdf\n"
     ]
    },
    {
     "name": "stderr",
     "output_type": "stream",
     "text": [
      "188it [05:52,  1.05s/it]"
     ]
    },
    {
     "name": "stdout",
     "output_type": "stream",
     "text": [
      "파일이 저장되었습니다: C:/Users/sykim/Desktop/url_blob/pdf_file\\188_BN68-15034B-00_UM_QN95B-QN100B QN700B-QN900B_KR_KOR_220615.0.pdf\n"
     ]
    },
    {
     "name": "stderr",
     "output_type": "stream",
     "text": [
      "189it [05:53,  1.05s/it]"
     ]
    },
    {
     "name": "stdout",
     "output_type": "stream",
     "text": [
      "파일이 저장되었습니다: C:/Users/sykim/Desktop/url_blob/pdf_file\\189_BN68-14032A-01_QSG_QN90BD 75-85inch_KOR_L01_220706.0.pdf\n"
     ]
    },
    {
     "name": "stderr",
     "output_type": "stream",
     "text": [
      "190it [05:54,  1.08it/s]"
     ]
    },
    {
     "name": "stdout",
     "output_type": "stream",
     "text": [
      "파일이 저장되었습니다: C:/Users/sykim/Desktop/url_blob/pdf_file\\190_BN68-14032A-01_QSG_QN90BD 75-85inch_KOR_L01_220706.0.pdf\n"
     ]
    },
    {
     "name": "stderr",
     "output_type": "stream",
     "text": [
      "191it [05:56,  1.13s/it]"
     ]
    },
    {
     "name": "stdout",
     "output_type": "stream",
     "text": [
      "파일이 저장되었습니다: C:/Users/sykim/Desktop/url_blob/pdf_file\\191_BN68-14385A-01_QSG_LS01B_WW_L06_220311.0.pdf\n"
     ]
    },
    {
     "name": "stderr",
     "output_type": "stream",
     "text": [
      "192it [05:56,  1.01s/it]"
     ]
    },
    {
     "name": "stdout",
     "output_type": "stream",
     "text": [
      "파일이 저장되었습니다: C:/Users/sykim/Desktop/url_blob/pdf_file\\192_BN68-13898A-01_Leaflet-Remote_QLED LS03_KR_KOR_220304.0.pdf\n"
     ]
    },
    {
     "name": "stderr",
     "output_type": "stream",
     "text": [
      "193it [05:57,  1.03s/it]"
     ]
    },
    {
     "name": "stdout",
     "output_type": "stream",
     "text": [
      "파일이 저장되었습니다: C:/Users/sykim/Desktop/url_blob/pdf_file\\193_BN68-14347A-02_UM_QBLS01BA_KR_KOR_220621.0.pdf\n"
     ]
    },
    {
     "name": "stderr",
     "output_type": "stream",
     "text": [
      "194it [06:00,  1.51s/it]"
     ]
    },
    {
     "name": "stdout",
     "output_type": "stream",
     "text": [
      "파일이 저장되었습니다: C:/Users/sykim/Desktop/url_blob/pdf_file\\194_BN68-13658E-00_QSG_QN700B QN800B QN900B QN95B 55-65inch_WW_L06_220721.0.pdf\n"
     ]
    },
    {
     "name": "stderr",
     "output_type": "stream",
     "text": [
      "195it [06:01,  1.42s/it]"
     ]
    },
    {
     "name": "stdout",
     "output_type": "stream",
     "text": [
      "파일이 저장되었습니다: C:/Users/sykim/Desktop/url_blob/pdf_file\\195_BN68-13658E-00_QSG_QN700B QN800B QN900B QN95B 55-65inch_WW_L06_220721.0.pdf\n"
     ]
    },
    {
     "name": "stderr",
     "output_type": "stream",
     "text": [
      "196it [06:04,  1.85s/it]"
     ]
    },
    {
     "name": "stdout",
     "output_type": "stream",
     "text": [
      "파일이 저장되었습니다: C:/Users/sykim/Desktop/url_blob/pdf_file\\196_MW8500A_MC35A8599LC_DE68-04357H-00_KO_210310.pdf\n"
     ]
    },
    {
     "name": "stderr",
     "output_type": "stream",
     "text": [
      "197it [06:06,  1.95s/it]"
     ]
    },
    {
     "name": "stdout",
     "output_type": "stream",
     "text": [
      "파일이 저장되었습니다: C:/Users/sykim/Desktop/url_blob/pdf_file\\197_MW5000T_MG23T5018C_DE68-04614A-00.pdf\n"
     ]
    },
    {
     "name": "stderr",
     "output_type": "stream",
     "text": [
      "198it [06:07,  1.49s/it]"
     ]
    },
    {
     "name": "stdout",
     "output_type": "stream",
     "text": [
      "파일이 저장되었습니다: C:/Users/sykim/Desktop/url_blob/pdf_file\\198_BN68-13898A-01_Leaflet-Remote_QLED LS03_KR_KOR_220304.0.pdf\n"
     ]
    },
    {
     "name": "stderr",
     "output_type": "stream",
     "text": [
      "199it [06:07,  1.19s/it]"
     ]
    },
    {
     "name": "stdout",
     "output_type": "stream",
     "text": [
      "파일이 저장되었습니다: C:/Users/sykim/Desktop/url_blob/pdf_file\\199_BN68-14385A-01_QSG_LS01B_WW_L06_220311.0.pdf\n"
     ]
    },
    {
     "name": "stderr",
     "output_type": "stream",
     "text": [
      "200it [06:08,  1.11s/it]"
     ]
    },
    {
     "name": "stdout",
     "output_type": "stream",
     "text": [
      "파일이 저장되었습니다: C:/Users/sykim/Desktop/url_blob/pdf_file\\200_BN68-14347A-02_UM_QBLS01BA_KR_KOR_220621.0.pdf\n"
     ]
    },
    {
     "name": "stderr",
     "output_type": "stream",
     "text": [
      "201it [06:08,  1.17it/s]"
     ]
    },
    {
     "name": "stdout",
     "output_type": "stream",
     "text": [
      "파일이 저장되었습니다: C:/Users/sykim/Desktop/url_blob/pdf_file\\201_BN68-13898A-01_Leaflet-Remote_QLED LS03_KR_KOR_220304.0.pdf\n"
     ]
    },
    {
     "name": "stderr",
     "output_type": "stream",
     "text": [
      "202it [06:09,  1.14it/s]"
     ]
    },
    {
     "name": "stdout",
     "output_type": "stream",
     "text": [
      "파일이 저장되었습니다: C:/Users/sykim/Desktop/url_blob/pdf_file\\202_BN68-14385A-01_QSG_LS01B_WW_L06_220311.0.pdf\n"
     ]
    },
    {
     "name": "stderr",
     "output_type": "stream",
     "text": [
      "203it [06:10,  1.03it/s]"
     ]
    },
    {
     "name": "stdout",
     "output_type": "stream",
     "text": [
      "파일이 저장되었습니다: C:/Users/sykim/Desktop/url_blob/pdf_file\\203_BN68-14347A-02_UM_QBLS01BA_KR_KOR_220621.0.pdf\n"
     ]
    },
    {
     "name": "stderr",
     "output_type": "stream",
     "text": [
      "204it [06:13,  1.59s/it]"
     ]
    },
    {
     "name": "stdout",
     "output_type": "stream",
     "text": [
      "파일이 저장되었습니다: C:/Users/sykim/Desktop/url_blob/pdf_file\\204_BN68-12963A-01_QSG_Q90 98inch_KOR_L01_220804.0.pdf\n"
     ]
    },
    {
     "name": "stderr",
     "output_type": "stream",
     "text": [
      "205it [06:21,  3.52s/it]"
     ]
    },
    {
     "name": "stdout",
     "output_type": "stream",
     "text": [
      "파일이 저장되었습니다: C:/Users/sykim/Desktop/url_blob/pdf_file\\205_DA68-02436L-02_MANUAL_USERS_RP3000_KO_220902.pdf\n"
     ]
    },
    {
     "name": "stderr",
     "output_type": "stream",
     "text": [
      "206it [06:23,  2.83s/it]"
     ]
    },
    {
     "name": "stdout",
     "output_type": "stream",
     "text": [
      "파일이 저장되었습니다: C:/Users/sykim/Desktop/url_blob/pdf_file\\206_BN68-15400A-00_UM_BU8000 Q60-90_KR_KOR_221006.0.pdf\n"
     ]
    },
    {
     "name": "stderr",
     "output_type": "stream",
     "text": [
      "207it [06:24,  2.52s/it]"
     ]
    },
    {
     "name": "stdout",
     "output_type": "stream",
     "text": [
      "파일이 저장되었습니다: C:/Users/sykim/Desktop/url_blob/pdf_file\\207_BN68-15400A-00_UM_BU8000 Q60-90_KR_KOR_221006.0.pdf\n"
     ]
    },
    {
     "name": "stderr",
     "output_type": "stream",
     "text": [
      "208it [06:27,  2.48s/it]"
     ]
    },
    {
     "name": "stdout",
     "output_type": "stream",
     "text": [
      "파일이 저장되었습니다: C:/Users/sykim/Desktop/url_blob/pdf_file\\208_BN68-15400A-00_UM_BU8000 Q60-90_KR_KOR_221006.0.pdf\n"
     ]
    },
    {
     "name": "stderr",
     "output_type": "stream",
     "text": [
      "209it [06:28,  2.17s/it]"
     ]
    },
    {
     "name": "stdout",
     "output_type": "stream",
     "text": [
      "파일이 저장되었습니다: C:/Users/sykim/Desktop/url_blob/pdf_file\\209_BN68-15400A-00_UM_BU8000 Q60-90_KR_KOR_221006.0.pdf\n"
     ]
    },
    {
     "name": "stderr",
     "output_type": "stream",
     "text": [
      "210it [06:30,  2.14s/it]"
     ]
    },
    {
     "name": "stdout",
     "output_type": "stream",
     "text": [
      "파일이 저장되었습니다: C:/Users/sykim/Desktop/url_blob/pdf_file\\210_DA68-02624H-02_MANUAL_INSTRUCTION_TTYPE_KO_220725.pdf\n"
     ]
    },
    {
     "name": "stderr",
     "output_type": "stream",
     "text": [
      "211it [06:31,  1.78s/it]"
     ]
    },
    {
     "name": "stdout",
     "output_type": "stream",
     "text": [
      "파일이 저장되었습니다: C:/Users/sykim/Desktop/url_blob/pdf_file\\211_BN68-15970M-00_QSG_QN85B 55-85inch_WW_L06_221123.0.pdf\n"
     ]
    },
    {
     "name": "stderr",
     "output_type": "stream",
     "text": [
      "212it [06:32,  1.46s/it]"
     ]
    },
    {
     "name": "stdout",
     "output_type": "stream",
     "text": [
      "파일이 저장되었습니다: C:/Users/sykim/Desktop/url_blob/pdf_file\\212_BN68-15970M-00_QSG_QN85B 55-85inch_WW_L06_221123.0.pdf\n"
     ]
    },
    {
     "name": "stderr",
     "output_type": "stream",
     "text": [
      "213it [06:32,  1.12s/it]"
     ]
    },
    {
     "name": "stdout",
     "output_type": "stream",
     "text": [
      "파일이 저장되었습니다: C:/Users/sykim/Desktop/url_blob/pdf_file\\213_BN68-15970M-00_QSG_QN85B 55-85inch_WW_L06_221123.0.pdf\n"
     ]
    },
    {
     "name": "stderr",
     "output_type": "stream",
     "text": [
      "214it [06:33,  1.16it/s]"
     ]
    },
    {
     "name": "stdout",
     "output_type": "stream",
     "text": [
      "파일이 저장되었습니다: C:/Users/sykim/Desktop/url_blob/pdf_file\\214_BN68-15970P-00_QSG_QN90BD 43-85inch_WW_L06_221123.0.pdf\n"
     ]
    },
    {
     "name": "stderr",
     "output_type": "stream",
     "text": [
      "215it [06:34,  1.04s/it]"
     ]
    },
    {
     "name": "stdout",
     "output_type": "stream",
     "text": [
      "파일이 저장되었습니다: C:/Users/sykim/Desktop/url_blob/pdf_file\\215_BN68-15970P-00_QSG_QN90BD 43-85inch_WW_L06_221123.0.pdf\n"
     ]
    },
    {
     "name": "stderr",
     "output_type": "stream",
     "text": [
      "216it [06:35,  1.12s/it]"
     ]
    },
    {
     "name": "stdout",
     "output_type": "stream",
     "text": [
      "파일이 저장되었습니다: C:/Users/sykim/Desktop/url_blob/pdf_file\\216_BN68-15970K-00_QSG_Q80B Q82B 55-85inch_WW_L06_221123.0.pdf\n"
     ]
    },
    {
     "name": "stderr",
     "output_type": "stream",
     "text": [
      "217it [06:36,  1.04it/s]"
     ]
    },
    {
     "name": "stdout",
     "output_type": "stream",
     "text": [
      "파일이 저장되었습니다: C:/Users/sykim/Desktop/url_blob/pdf_file\\217_BN68-15970K-00_QSG_Q80B Q82B 55-85inch_WW_L06_221123.0.pdf\n"
     ]
    },
    {
     "name": "stderr",
     "output_type": "stream",
     "text": [
      "218it [06:37,  1.06it/s]"
     ]
    },
    {
     "name": "stdout",
     "output_type": "stream",
     "text": [
      "파일이 저장되었습니다: C:/Users/sykim/Desktop/url_blob/pdf_file\\218_BN68-15970M-00_QSG_QN85B 55-85inch_WW_L06_221123.0.pdf\n"
     ]
    },
    {
     "name": "stderr",
     "output_type": "stream",
     "text": [
      "219it [06:39,  1.25s/it]"
     ]
    },
    {
     "name": "stdout",
     "output_type": "stream",
     "text": [
      "파일이 저장되었습니다: C:/Users/sykim/Desktop/url_blob/pdf_file\\219_BN68-15970H-00_QSG_Q70B 55-85inch_WW_L06_221121.0.pdf\n"
     ]
    },
    {
     "name": "stderr",
     "output_type": "stream",
     "text": [
      "220it [06:40,  1.31s/it]"
     ]
    },
    {
     "name": "stdout",
     "output_type": "stream",
     "text": [
      "파일이 저장되었습니다: C:/Users/sykim/Desktop/url_blob/pdf_file\\220_BN68-15970M-00_QSG_QN85B 55-85inch_WW_L06_221123.0.pdf\n"
     ]
    },
    {
     "name": "stderr",
     "output_type": "stream",
     "text": [
      "222it [06:42,  1.07it/s]"
     ]
    },
    {
     "name": "stdout",
     "output_type": "stream",
     "text": [
      "파일이 저장되었습니다: C:/Users/sykim/Desktop/url_blob/pdf_file\\221_BN68-15970E-00_QSG_Q60B New Simple 43-85inch_WW_L06_221123.0.pdf\n",
      "파일이 저장되었습니다: C:/Users/sykim/Desktop/url_blob/pdf_file\\222_BN68-15970E-00_QSG_Q60B New Simple 43-85inch_WW_L06_221123.0.pdf\n"
     ]
    },
    {
     "name": "stderr",
     "output_type": "stream",
     "text": [
      "223it [06:42,  1.20it/s]"
     ]
    },
    {
     "name": "stdout",
     "output_type": "stream",
     "text": [
      "파일이 저장되었습니다: C:/Users/sykim/Desktop/url_blob/pdf_file\\223_BN68-15970E-00_QSG_Q60B New Simple 43-85inch_WW_L06_221123.0.pdf\n"
     ]
    },
    {
     "name": "stderr",
     "output_type": "stream",
     "text": [
      "224it [06:43,  1.28it/s]"
     ]
    },
    {
     "name": "stdout",
     "output_type": "stream",
     "text": [
      "파일이 저장되었습니다: C:/Users/sykim/Desktop/url_blob/pdf_file\\224_BN68-15970E-00_QSG_Q60B New Simple 43-85inch_WW_L06_221123.0.pdf\n"
     ]
    },
    {
     "name": "stderr",
     "output_type": "stream",
     "text": [
      "225it [06:45,  1.06s/it]"
     ]
    },
    {
     "name": "stdout",
     "output_type": "stream",
     "text": [
      "파일이 저장되었습니다: C:/Users/sykim/Desktop/url_blob/pdf_file\\225_BN68-15970E-00_QSG_Q60B New Simple 43-85inch_WW_L06_221123.0.pdf\n"
     ]
    },
    {
     "name": "stderr",
     "output_type": "stream",
     "text": [
      "226it [06:45,  1.11it/s]"
     ]
    },
    {
     "name": "stdout",
     "output_type": "stream",
     "text": [
      "파일이 저장되었습니다: C:/Users/sykim/Desktop/url_blob/pdf_file\\226_BN68-15970E-00_QSG_Q60B New Simple 43-85inch_WW_L06_221123.0.pdf\n"
     ]
    },
    {
     "name": "stderr",
     "output_type": "stream",
     "text": [
      "227it [06:48,  1.52s/it]"
     ]
    },
    {
     "name": "stdout",
     "output_type": "stream",
     "text": [
      "파일이 저장되었습니다: C:/Users/sykim/Desktop/url_blob/pdf_file\\227_BN68-15970E-00_QSG_Q60B New Simple 43-85inch_WW_L06_221123.0.pdf\n"
     ]
    },
    {
     "name": "stderr",
     "output_type": "stream",
     "text": [
      "228it [06:50,  1.64s/it]"
     ]
    },
    {
     "name": "stdout",
     "output_type": "stream",
     "text": [
      "파일이 저장되었습니다: C:/Users/sykim/Desktop/url_blob/pdf_file\\228_BN68-15970E-00_QSG_Q60B New Simple 43-85inch_WW_L06_221123.0.pdf\n"
     ]
    },
    {
     "name": "stderr",
     "output_type": "stream",
     "text": [
      "229it [06:51,  1.30s/it]"
     ]
    },
    {
     "name": "stdout",
     "output_type": "stream",
     "text": [
      "파일이 저장되었습니다: C:/Users/sykim/Desktop/url_blob/pdf_file\\229_BN68-15970M-00_QSG_QN85B 55-85inch_WW_L06_221123.0.pdf\n"
     ]
    },
    {
     "name": "stderr",
     "output_type": "stream",
     "text": [
      "230it [06:52,  1.21s/it]"
     ]
    },
    {
     "name": "stdout",
     "output_type": "stream",
     "text": [
      "파일이 저장되었습니다: C:/Users/sykim/Desktop/url_blob/pdf_file\\230_BN68-15970A-00_QSG_Q60B BU8000 Float 43-85inch_WW_L06_221124.0.pdf\n"
     ]
    },
    {
     "name": "stderr",
     "output_type": "stream",
     "text": [
      "231it [06:52,  1.04it/s]"
     ]
    },
    {
     "name": "stdout",
     "output_type": "stream",
     "text": [
      "파일이 저장되었습니다: C:/Users/sykim/Desktop/url_blob/pdf_file\\231_BN68-15970A-00_QSG_Q60B BU8000 Float 43-85inch_WW_L06_221124.0.pdf\n"
     ]
    },
    {
     "name": "stderr",
     "output_type": "stream",
     "text": [
      "232it [06:53,  1.03s/it]"
     ]
    },
    {
     "name": "stdout",
     "output_type": "stream",
     "text": [
      "파일이 저장되었습니다: C:/Users/sykim/Desktop/url_blob/pdf_file\\232_BN68-11418A-00_QSG_G55T_KR_KOR_201019.0.pdf\n"
     ]
    },
    {
     "name": "stderr",
     "output_type": "stream",
     "text": [
      "233it [06:54,  1.15it/s]"
     ]
    },
    {
     "name": "stdout",
     "output_type": "stream",
     "text": [
      "파일이 저장되었습니다: C:/Users/sykim/Desktop/url_blob/pdf_file\\233_BN68-13700A-02_UM_BU8000 Q60-90_KR_KOR_220621.0.pdf\n"
     ]
    },
    {
     "name": "stderr",
     "output_type": "stream",
     "text": [
      "234it [06:54,  1.14it/s]"
     ]
    },
    {
     "name": "stdout",
     "output_type": "stream",
     "text": [
      "파일이 저장되었습니다: C:/Users/sykim/Desktop/url_blob/pdf_file\\234_BN68-13898A-01_Leaflet-Remote_QLED LS03_KR_KOR_220304.0.pdf\n"
     ]
    },
    {
     "name": "stderr",
     "output_type": "stream",
     "text": [
      "235it [06:56,  1.05it/s]"
     ]
    },
    {
     "name": "stdout",
     "output_type": "stream",
     "text": [
      "파일이 저장되었습니다: C:/Users/sykim/Desktop/url_blob/pdf_file\\235_BN68-15970K-00_QSG_Q80B Q82B 55-85inch_WW_L06_221123.0.pdf\n"
     ]
    },
    {
     "name": "stderr",
     "output_type": "stream",
     "text": [
      "236it [06:57,  1.12s/it]"
     ]
    },
    {
     "name": "stdout",
     "output_type": "stream",
     "text": [
      "파일이 저장되었습니다: C:/Users/sykim/Desktop/url_blob/pdf_file\\236_BN68-16300A-00_QSG_QN90C 43-85inch_KOR_L06_221220.0.pdf\n"
     ]
    },
    {
     "name": "stderr",
     "output_type": "stream",
     "text": [
      "237it [06:58,  1.01it/s]"
     ]
    },
    {
     "name": "stdout",
     "output_type": "stream",
     "text": [
      "파일이 저장되었습니다: C:/Users/sykim/Desktop/url_blob/pdf_file\\237_BN68-09350A-00_QSG_UN4000N_KOR_180911.0.pdf\n"
     ]
    },
    {
     "name": "stderr",
     "output_type": "stream",
     "text": [
      "238it [06:59,  1.11s/it]"
     ]
    },
    {
     "name": "stdout",
     "output_type": "stream",
     "text": [
      "파일이 저장되었습니다: C:/Users/sykim/Desktop/url_blob/pdf_file\\238_BN68-15883A-03_QSG_QN700 800 900 S95C 75-85inch_KOR_L06_230120.0.pdf\n"
     ]
    },
    {
     "name": "stderr",
     "output_type": "stream",
     "text": [
      "239it [07:00,  1.00it/s]"
     ]
    },
    {
     "name": "stdout",
     "output_type": "stream",
     "text": [
      "파일이 저장되었습니다: C:/Users/sykim/Desktop/url_blob/pdf_file\\239_BN68-15883A-03_QSG_QN700 800 900 S95C 75-85inch_KOR_L06_230120.0.pdf\n"
     ]
    },
    {
     "name": "stderr",
     "output_type": "stream",
     "text": [
      "240it [07:01,  1.03s/it]"
     ]
    },
    {
     "name": "stdout",
     "output_type": "stream",
     "text": [
      "파일이 저장되었습니다: C:/Users/sykim/Desktop/url_blob/pdf_file\\240_BN68-16034B-01_QSG_Q80C 50-85inch_KOR_L06_230113.0.pdf\n"
     ]
    },
    {
     "name": "stderr",
     "output_type": "stream",
     "text": [
      "241it [07:02,  1.15it/s]"
     ]
    },
    {
     "name": "stdout",
     "output_type": "stream",
     "text": [
      "파일이 저장되었습니다: C:/Users/sykim/Desktop/url_blob/pdf_file\\241_BN68-15677B-02_QSG_CU8000 Flat 43-85inch_KOR_L06_230105.0.pdf\n"
     ]
    },
    {
     "name": "stderr",
     "output_type": "stream",
     "text": [
      "242it [07:02,  1.14it/s]"
     ]
    },
    {
     "name": "stdout",
     "output_type": "stream",
     "text": [
      "파일이 저장되었습니다: C:/Users/sykim/Desktop/url_blob/pdf_file\\242_BN68-15677B-02_QSG_CU8000 Flat 43-85inch_KOR_L06_230105.0.pdf\n"
     ]
    },
    {
     "name": "stderr",
     "output_type": "stream",
     "text": [
      "243it [07:03,  1.23it/s]"
     ]
    },
    {
     "name": "stdout",
     "output_type": "stream",
     "text": [
      "파일이 저장되었습니다: C:/Users/sykim/Desktop/url_blob/pdf_file\\243_BN68-15677B-02_QSG_CU8000 Flat 43-85inch_KOR_L06_230105.0.pdf\n"
     ]
    },
    {
     "name": "stderr",
     "output_type": "stream",
     "text": [
      "245it [07:04,  1.93it/s]"
     ]
    },
    {
     "name": "stdout",
     "output_type": "stream",
     "text": [
      "파일이 저장되었습니다: C:/Users/sykim/Desktop/url_blob/pdf_file\\244_BN68-13700A-02_UM_BU8000 Q60-90_KR_KOR_220621.0.pdf\n",
      "파일이 저장되었습니다: C:/Users/sykim/Desktop/url_blob/pdf_file\\245_BN68-13898A-01_Leaflet-Remote_QLED LS03_KR_KOR_220304.0.pdf\n"
     ]
    },
    {
     "name": "stderr",
     "output_type": "stream",
     "text": [
      "246it [07:04,  2.17it/s]"
     ]
    },
    {
     "name": "stdout",
     "output_type": "stream",
     "text": [
      "파일이 저장되었습니다: C:/Users/sykim/Desktop/url_blob/pdf_file\\246_BN68-15970H-00_QSG_Q70B 55-85inch_WW_L06_221121.0.pdf\n"
     ]
    },
    {
     "name": "stderr",
     "output_type": "stream",
     "text": [
      "247it [07:04,  2.01it/s]"
     ]
    },
    {
     "name": "stdout",
     "output_type": "stream",
     "text": [
      "파일이 저장되었습니다: C:/Users/sykim/Desktop/url_blob/pdf_file\\247_BN68-15707A-01_QSG_Q70C Narrow Neck Plate_KOR_L06_230102.0.pdf\n"
     ]
    },
    {
     "name": "stderr",
     "output_type": "stream",
     "text": [
      "248it [07:05,  1.87it/s]"
     ]
    },
    {
     "name": "stdout",
     "output_type": "stream",
     "text": [
      "파일이 저장되었습니다: C:/Users/sykim/Desktop/url_blob/pdf_file\\248_BN68-15763A-03_QSG_QN700 800 900 S95C 55-65inch_WW_L06_230105.0.pdf\n"
     ]
    },
    {
     "name": "stderr",
     "output_type": "stream",
     "text": [
      "249it [07:05,  2.10it/s]"
     ]
    },
    {
     "name": "stdout",
     "output_type": "stream",
     "text": [
      "파일이 저장되었습니다: C:/Users/sykim/Desktop/url_blob/pdf_file\\249_BN68-16144A-01_QSG_QN95C 55-65inch_WW_L06_230119.0.pdf\n"
     ]
    },
    {
     "name": "stderr",
     "output_type": "stream",
     "text": [
      "250it [07:07,  1.15it/s]"
     ]
    },
    {
     "name": "stdout",
     "output_type": "stream",
     "text": [
      "파일이 저장되었습니다: C:/Users/sykim/Desktop/url_blob/pdf_file\\250_BN68-15883A-03_QSG_QN700 800 900 S95C 75-85inch_KOR_L06_230120.0.pdf\n"
     ]
    },
    {
     "name": "stderr",
     "output_type": "stream",
     "text": [
      "251it [07:08,  1.14it/s]"
     ]
    },
    {
     "name": "stdout",
     "output_type": "stream",
     "text": [
      "파일이 저장되었습니다: C:/Users/sykim/Desktop/url_blob/pdf_file\\251_BN68-16032C-01_QSG_QN95C 75-85inch_KOR_L06_230119.0.pdf\n"
     ]
    },
    {
     "name": "stderr",
     "output_type": "stream",
     "text": [
      "252it [07:10,  1.29s/it]"
     ]
    },
    {
     "name": "stdout",
     "output_type": "stream",
     "text": [
      "파일이 저장되었습니다: C:/Users/sykim/Desktop/url_blob/pdf_file\\252_BN68-16034B-01_QSG_Q80C 50-85inch_KOR_L06_230113.0.pdf\n"
     ]
    },
    {
     "name": "stderr",
     "output_type": "stream",
     "text": [
      "253it [07:12,  1.35s/it]"
     ]
    },
    {
     "name": "stdout",
     "output_type": "stream",
     "text": [
      "파일이 저장되었습니다: C:/Users/sykim/Desktop/url_blob/pdf_file\\253_BN68-16300A-00_QSG_QN90C 43-85inch_KOR_L06_221220.0.pdf\n"
     ]
    },
    {
     "name": "stderr",
     "output_type": "stream",
     "text": [
      "254it [07:12,  1.11s/it]"
     ]
    },
    {
     "name": "stdout",
     "output_type": "stream",
     "text": [
      "파일이 저장되었습니다: C:/Users/sykim/Desktop/url_blob/pdf_file\\254_BN68-15707A-01_QSG_Q70C Narrow Neck Plate_KOR_L06_230102.0.pdf\n"
     ]
    },
    {
     "name": "stderr",
     "output_type": "stream",
     "text": [
      "255it [07:13,  1.06s/it]"
     ]
    },
    {
     "name": "stdout",
     "output_type": "stream",
     "text": [
      "파일이 저장되었습니다: C:/Users/sykim/Desktop/url_blob/pdf_file\\255_BN68-15763A-03_QSG_QN700 800 900 S95C 55-65inch_WW_L06_230105.0.pdf\n"
     ]
    },
    {
     "name": "stderr",
     "output_type": "stream",
     "text": [
      "257it [07:14,  1.35it/s]"
     ]
    },
    {
     "name": "stdout",
     "output_type": "stream",
     "text": [
      "파일이 저장되었습니다: C:/Users/sykim/Desktop/url_blob/pdf_file\\256_BN68-16032C-01_QSG_QN95C 75-85inch_KOR_L06_230119.0.pdf\n",
      "파일이 저장되었습니다: C:/Users/sykim/Desktop/url_blob/pdf_file\\257_BN68-15701A-01_QSG_Q60C New Simple 43-85inch_KOR_L06_221222.0.pdf\n"
     ]
    },
    {
     "name": "stderr",
     "output_type": "stream",
     "text": [
      "259it [07:15,  2.18it/s]"
     ]
    },
    {
     "name": "stdout",
     "output_type": "stream",
     "text": [
      "파일이 저장되었습니다: C:/Users/sykim/Desktop/url_blob/pdf_file\\258_BN68-15701A-01_QSG_Q60C New Simple 43-85inch_KOR_L06_221222.0.pdf\n",
      "파일이 저장되었습니다: C:/Users/sykim/Desktop/url_blob/pdf_file\\259_BN68-15701A-01_QSG_Q60C New Simple 43-85inch_KOR_L06_221222.0.pdf\n"
     ]
    },
    {
     "name": "stderr",
     "output_type": "stream",
     "text": [
      "260it [07:16,  1.79it/s]"
     ]
    },
    {
     "name": "stdout",
     "output_type": "stream",
     "text": [
      "파일이 저장되었습니다: C:/Users/sykim/Desktop/url_blob/pdf_file\\260_BN68-16300A-00_QSG_QN90C 43-85inch_KOR_L06_221220.0.pdf\n"
     ]
    },
    {
     "name": "stderr",
     "output_type": "stream",
     "text": [
      "261it [07:16,  1.56it/s]"
     ]
    },
    {
     "name": "stdout",
     "output_type": "stream",
     "text": [
      "파일이 저장되었습니다: C:/Users/sykim/Desktop/url_blob/pdf_file\\261_BN68-15701A-01_QSG_Q60C New Simple 43-85inch_KOR_L06_221222.0.pdf\n"
     ]
    },
    {
     "name": "stderr",
     "output_type": "stream",
     "text": [
      "262it [07:17,  1.47it/s]"
     ]
    },
    {
     "name": "stdout",
     "output_type": "stream",
     "text": [
      "파일이 저장되었습니다: C:/Users/sykim/Desktop/url_blob/pdf_file\\262_BN68-15701A-01_QSG_Q60C New Simple 43-85inch_KOR_L06_221222.0.pdf\n"
     ]
    },
    {
     "name": "stderr",
     "output_type": "stream",
     "text": [
      "263it [07:19,  1.12it/s]"
     ]
    },
    {
     "name": "stdout",
     "output_type": "stream",
     "text": [
      "파일이 저장되었습니다: C:/Users/sykim/Desktop/url_blob/pdf_file\\263_BN68-15701A-01_QSG_Q60C New Simple 43-85inch_KOR_L06_221222.0.pdf\n"
     ]
    },
    {
     "name": "stderr",
     "output_type": "stream",
     "text": [
      "264it [07:21,  1.24s/it]"
     ]
    },
    {
     "name": "stdout",
     "output_type": "stream",
     "text": [
      "파일이 저장되었습니다: C:/Users/sykim/Desktop/url_blob/pdf_file\\264_BN68-15707A-01_QSG_Q70C Narrow Neck Plate_KOR_L06_230102.0.pdf\n"
     ]
    },
    {
     "name": "stderr",
     "output_type": "stream",
     "text": [
      "265it [07:21,  1.15s/it]"
     ]
    },
    {
     "name": "stdout",
     "output_type": "stream",
     "text": [
      "파일이 저장되었습니다: C:/Users/sykim/Desktop/url_blob/pdf_file\\265_BN68-15707A-01_QSG_Q70C Narrow Neck Plate_KOR_L06_230102.0.pdf\n"
     ]
    },
    {
     "name": "stderr",
     "output_type": "stream",
     "text": [
      "266it [07:22,  1.02it/s]"
     ]
    },
    {
     "name": "stdout",
     "output_type": "stream",
     "text": [
      "파일이 저장되었습니다: C:/Users/sykim/Desktop/url_blob/pdf_file\\266_BN68-15759C-00_Leaflet-Remote_UC7_KR_KOR_221209.0.pdf\n"
     ]
    },
    {
     "name": "stderr",
     "output_type": "stream",
     "text": [
      "267it [07:24,  1.17s/it]"
     ]
    },
    {
     "name": "stdout",
     "output_type": "stream",
     "text": [
      "파일이 저장되었습니다: C:/Users/sykim/Desktop/url_blob/pdf_file\\267_BN68-15761A-01_QSG_CU7000 SlimFeet 43-85inch_KOR_L06_221222.0.pdf\n"
     ]
    },
    {
     "name": "stderr",
     "output_type": "stream",
     "text": [
      "268it [07:25,  1.27s/it]"
     ]
    },
    {
     "name": "stdout",
     "output_type": "stream",
     "text": [
      "파일이 저장되었습니다: C:/Users/sykim/Desktop/url_blob/pdf_file\\268_BN68-15759C-00_Leaflet-Remote_UC7_KR_KOR_221209.0.pdf\n"
     ]
    },
    {
     "name": "stderr",
     "output_type": "stream",
     "text": [
      "269it [07:26,  1.01s/it]"
     ]
    },
    {
     "name": "stdout",
     "output_type": "stream",
     "text": [
      "파일이 저장되었습니다: C:/Users/sykim/Desktop/url_blob/pdf_file\\269_BN68-15761A-01_QSG_CU7000 SlimFeet 43-85inch_KOR_L06_221222.0.pdf\n"
     ]
    },
    {
     "name": "stderr",
     "output_type": "stream",
     "text": [
      "270it [07:26,  1.25it/s]"
     ]
    },
    {
     "name": "stdout",
     "output_type": "stream",
     "text": [
      "파일이 저장되었습니다: C:/Users/sykim/Desktop/url_blob/pdf_file\\270_BN68-15759C-00_Leaflet-Remote_UC7_KR_KOR_221209.0.pdf\n"
     ]
    },
    {
     "name": "stderr",
     "output_type": "stream",
     "text": [
      "271it [07:27,  1.01it/s]"
     ]
    },
    {
     "name": "stdout",
     "output_type": "stream",
     "text": [
      "파일이 저장되었습니다: C:/Users/sykim/Desktop/url_blob/pdf_file\\271_BN68-15761A-01_QSG_CU7000 SlimFeet 43-85inch_KOR_L06_221222.0.pdf\n"
     ]
    },
    {
     "name": "stderr",
     "output_type": "stream",
     "text": [
      "272it [07:28,  1.28it/s]"
     ]
    },
    {
     "name": "stdout",
     "output_type": "stream",
     "text": [
      "파일이 저장되었습니다: C:/Users/sykim/Desktop/url_blob/pdf_file\\272_BN68-15759C-00_Leaflet-Remote_UC7_KR_KOR_221209.0.pdf\n"
     ]
    },
    {
     "name": "stderr",
     "output_type": "stream",
     "text": [
      "274it [07:28,  1.96it/s]"
     ]
    },
    {
     "name": "stdout",
     "output_type": "stream",
     "text": [
      "파일이 저장되었습니다: C:/Users/sykim/Desktop/url_blob/pdf_file\\273_BN68-15761A-01_QSG_CU7000 SlimFeet 43-85inch_KOR_L06_221222.0.pdf\n",
      "파일이 저장되었습니다: C:/Users/sykim/Desktop/url_blob/pdf_file\\274_BN68-15759C-00_Leaflet-Remote_UC7_KR_KOR_221209.0.pdf\n"
     ]
    },
    {
     "name": "stderr",
     "output_type": "stream",
     "text": [
      "276it [07:29,  2.34it/s]"
     ]
    },
    {
     "name": "stdout",
     "output_type": "stream",
     "text": [
      "파일이 저장되었습니다: C:/Users/sykim/Desktop/url_blob/pdf_file\\275_BN68-15761A-01_QSG_CU7000 SlimFeet 43-85inch_KOR_L06_221222.0.pdf\n",
      "파일이 저장되었습니다: C:/Users/sykim/Desktop/url_blob/pdf_file\\276_BN68-15759C-00_Leaflet-Remote_UC7_KR_KOR_221209.0.pdf\n"
     ]
    },
    {
     "name": "stderr",
     "output_type": "stream",
     "text": [
      "277it [07:29,  2.49it/s]"
     ]
    },
    {
     "name": "stdout",
     "output_type": "stream",
     "text": [
      "파일이 저장되었습니다: C:/Users/sykim/Desktop/url_blob/pdf_file\\277_BN68-15761A-01_QSG_CU7000 SlimFeet 43-85inch_KOR_L06_221222.0.pdf\n"
     ]
    },
    {
     "name": "stderr",
     "output_type": "stream",
     "text": [
      "278it [07:30,  2.05it/s]"
     ]
    },
    {
     "name": "stdout",
     "output_type": "stream",
     "text": [
      "파일이 저장되었습니다: C:/Users/sykim/Desktop/url_blob/pdf_file\\278_BN68-15759C-00_Leaflet-Remote_UC7_KR_KOR_221209.0.pdf\n"
     ]
    },
    {
     "name": "stderr",
     "output_type": "stream",
     "text": [
      "279it [07:32,  1.02s/it]"
     ]
    },
    {
     "name": "stdout",
     "output_type": "stream",
     "text": [
      "파일이 저장되었습니다: C:/Users/sykim/Desktop/url_blob/pdf_file\\279_BN68-15761A-01_QSG_CU7000 SlimFeet 43-85inch_KOR_L06_221222.0.pdf\n"
     ]
    },
    {
     "name": "stderr",
     "output_type": "stream",
     "text": [
      "280it [07:34,  1.20s/it]"
     ]
    },
    {
     "name": "stdout",
     "output_type": "stream",
     "text": [
      "파일이 저장되었습니다: C:/Users/sykim/Desktop/url_blob/pdf_file\\280_BN68-15671A-00_QSG_LS03C 32inch_WW_L06_221223.0.pdf\n"
     ]
    },
    {
     "name": "stderr",
     "output_type": "stream",
     "text": [
      "281it [07:35,  1.14s/it]"
     ]
    },
    {
     "name": "stdout",
     "output_type": "stream",
     "text": [
      "파일이 저장되었습니다: C:/Users/sykim/Desktop/url_blob/pdf_file\\281_BN68-16034B-01_QSG_Q80C 50-85inch_KOR_L06_230113.0.pdf\n"
     ]
    },
    {
     "name": "stderr",
     "output_type": "stream",
     "text": [
      "282it [07:36,  1.03s/it]"
     ]
    },
    {
     "name": "stdout",
     "output_type": "stream",
     "text": [
      "파일이 저장되었습니다: C:/Users/sykim/Desktop/url_blob/pdf_file\\282_BN68-16144A-01_QSG_QN95C 55-65inch_WW_L06_230119.0.pdf\n"
     ]
    },
    {
     "name": "stderr",
     "output_type": "stream",
     "text": [
      "283it [07:37,  1.01it/s]"
     ]
    },
    {
     "name": "stdout",
     "output_type": "stream",
     "text": [
      "파일이 저장되었습니다: C:/Users/sykim/Desktop/url_blob/pdf_file\\283_BN68-16034B-01_QSG_Q80C 50-85inch_KOR_L06_230113.0.pdf\n"
     ]
    },
    {
     "name": "stderr",
     "output_type": "stream",
     "text": [
      "284it [07:37,  1.21it/s]"
     ]
    },
    {
     "name": "stdout",
     "output_type": "stream",
     "text": [
      "파일이 저장되었습니다: C:/Users/sykim/Desktop/url_blob/pdf_file\\284_BN68-16034B-01_QSG_Q80C 50-85inch_KOR_L06_230113.0.pdf\n"
     ]
    },
    {
     "name": "stderr",
     "output_type": "stream",
     "text": [
      "285it [07:38,  1.35it/s]"
     ]
    },
    {
     "name": "stdout",
     "output_type": "stream",
     "text": [
      "파일이 저장되었습니다: C:/Users/sykim/Desktop/url_blob/pdf_file\\285_BN68-15883A-03_QSG_QN700 800 900 S95C 75-85inch_KOR_L06_230120.0.pdf\n"
     ]
    },
    {
     "name": "stderr",
     "output_type": "stream",
     "text": [
      "286it [07:38,  1.48it/s]"
     ]
    },
    {
     "name": "stdout",
     "output_type": "stream",
     "text": [
      "파일이 저장되었습니다: C:/Users/sykim/Desktop/url_blob/pdf_file\\286_BN68-16300A-00_QSG_QN90C 43-85inch_KOR_L06_221220.0.pdf\n"
     ]
    },
    {
     "name": "stderr",
     "output_type": "stream",
     "text": [
      "287it [07:39,  1.56it/s]"
     ]
    },
    {
     "name": "stdout",
     "output_type": "stream",
     "text": [
      "파일이 저장되었습니다: C:/Users/sykim/Desktop/url_blob/pdf_file\\287_BN68-15677B-02_QSG_CU8000 Flat 43-85inch_KOR_L06_230105.0.pdf\n"
     ]
    },
    {
     "name": "stderr",
     "output_type": "stream",
     "text": [
      "288it [07:39,  1.88it/s]"
     ]
    },
    {
     "name": "stdout",
     "output_type": "stream",
     "text": [
      "파일이 저장되었습니다: C:/Users/sykim/Desktop/url_blob/pdf_file\\288_BN68-15677B-02_QSG_CU8000 Flat 43-85inch_KOR_L06_230105.0.pdf\n"
     ]
    },
    {
     "name": "stderr",
     "output_type": "stream",
     "text": [
      "289it [07:39,  2.01it/s]"
     ]
    },
    {
     "name": "stdout",
     "output_type": "stream",
     "text": [
      "파일이 저장되었습니다: C:/Users/sykim/Desktop/url_blob/pdf_file\\289_BN68-15883A-03_QSG_QN700 800 900 S95C 75-85inch_KOR_L06_230120.0.pdf\n"
     ]
    },
    {
     "name": "stderr",
     "output_type": "stream",
     "text": [
      "290it [07:40,  2.40it/s]"
     ]
    },
    {
     "name": "stdout",
     "output_type": "stream",
     "text": [
      "파일이 저장되었습니다: C:/Users/sykim/Desktop/url_blob/pdf_file\\290_BN68-15701A-01_QSG_Q60C New Simple 43-85inch_KOR_L06_221222.0.pdf\n"
     ]
    },
    {
     "name": "stderr",
     "output_type": "stream",
     "text": [
      "291it [07:41,  1.42it/s]"
     ]
    },
    {
     "name": "stdout",
     "output_type": "stream",
     "text": [
      "파일이 저장되었습니다: C:/Users/sykim/Desktop/url_blob/pdf_file\\291_BN68-16300A-00_QSG_QN90C 43-85inch_KOR_L06_221220.0.pdf\n"
     ]
    },
    {
     "name": "stderr",
     "output_type": "stream",
     "text": [
      "292it [07:42,  1.07it/s]"
     ]
    },
    {
     "name": "stdout",
     "output_type": "stream",
     "text": [
      "파일이 저장되었습니다: C:/Users/sykim/Desktop/url_blob/pdf_file\\292_BN68-15701A-01_QSG_Q60C New Simple 43-85inch_KOR_L06_221222.0.pdf\n"
     ]
    },
    {
     "name": "stderr",
     "output_type": "stream",
     "text": [
      "293it [07:44,  1.19s/it]"
     ]
    },
    {
     "name": "stdout",
     "output_type": "stream",
     "text": [
      "파일이 저장되었습니다: C:/Users/sykim/Desktop/url_blob/pdf_file\\293_BN68-15701A-01_QSG_Q60C New Simple 43-85inch_KOR_L06_221222.0.pdf\n"
     ]
    },
    {
     "name": "stderr",
     "output_type": "stream",
     "text": [
      "294it [07:47,  1.58s/it]"
     ]
    },
    {
     "name": "stdout",
     "output_type": "stream",
     "text": [
      "파일이 저장되었습니다: C:/Users/sykim/Desktop/url_blob/pdf_file\\294_BN68-15701A-01_QSG_Q60C New Simple 43-85inch_KOR_L06_221222.0.pdf\n"
     ]
    },
    {
     "name": "stderr",
     "output_type": "stream",
     "text": [
      "295it [07:49,  1.71s/it]"
     ]
    },
    {
     "name": "stdout",
     "output_type": "stream",
     "text": [
      "파일이 저장되었습니다: C:/Users/sykim/Desktop/url_blob/pdf_file\\295_BN68-15701A-01_QSG_Q60C New Simple 43-85inch_KOR_L06_221222.0.pdf\n"
     ]
    },
    {
     "name": "stderr",
     "output_type": "stream",
     "text": [
      "296it [07:50,  1.48s/it]"
     ]
    },
    {
     "name": "stdout",
     "output_type": "stream",
     "text": [
      "파일이 저장되었습니다: C:/Users/sykim/Desktop/url_blob/pdf_file\\296_BN68-15701A-01_QSG_Q60C New Simple 43-85inch_KOR_L06_221222.0.pdf\n"
     ]
    },
    {
     "name": "stderr",
     "output_type": "stream",
     "text": [
      "297it [07:51,  1.32s/it]"
     ]
    },
    {
     "name": "stdout",
     "output_type": "stream",
     "text": [
      "파일이 저장되었습니다: C:/Users/sykim/Desktop/url_blob/pdf_file\\297_BN68-15759C-00_Leaflet-Remote_UC7_KR_KOR_221209.0.pdf\n"
     ]
    },
    {
     "name": "stderr",
     "output_type": "stream",
     "text": [
      "298it [07:52,  1.32s/it]"
     ]
    },
    {
     "name": "stdout",
     "output_type": "stream",
     "text": [
      "파일이 저장되었습니다: C:/Users/sykim/Desktop/url_blob/pdf_file\\298_BN68-15761A-01_QSG_CU7000 SlimFeet 43-85inch_KOR_L06_221222.0.pdf\n"
     ]
    },
    {
     "name": "stderr",
     "output_type": "stream",
     "text": [
      "299it [07:53,  1.22s/it]"
     ]
    },
    {
     "name": "stdout",
     "output_type": "stream",
     "text": [
      "파일이 저장되었습니다: C:/Users/sykim/Desktop/url_blob/pdf_file\\299_BN68-15759C-00_Leaflet-Remote_UC7_KR_KOR_221209.0.pdf\n"
     ]
    },
    {
     "name": "stderr",
     "output_type": "stream",
     "text": [
      "300it [07:55,  1.41s/it]"
     ]
    },
    {
     "name": "stdout",
     "output_type": "stream",
     "text": [
      "파일이 저장되었습니다: C:/Users/sykim/Desktop/url_blob/pdf_file\\300_BN68-15761A-01_QSG_CU7000 SlimFeet 43-85inch_KOR_L06_221222.0.pdf\n"
     ]
    },
    {
     "name": "stderr",
     "output_type": "stream",
     "text": [
      "301it [07:56,  1.21s/it]"
     ]
    },
    {
     "name": "stdout",
     "output_type": "stream",
     "text": [
      "파일이 저장되었습니다: C:/Users/sykim/Desktop/url_blob/pdf_file\\301_BN68-15759C-00_Leaflet-Remote_UC7_KR_KOR_221209.0.pdf\n"
     ]
    },
    {
     "name": "stderr",
     "output_type": "stream",
     "text": [
      "302it [07:57,  1.23s/it]"
     ]
    },
    {
     "name": "stdout",
     "output_type": "stream",
     "text": [
      "파일이 저장되었습니다: C:/Users/sykim/Desktop/url_blob/pdf_file\\302_BN68-15761A-01_QSG_CU7000 SlimFeet 43-85inch_KOR_L06_221222.0.pdf\n"
     ]
    },
    {
     "name": "stderr",
     "output_type": "stream",
     "text": [
      "303it [07:59,  1.42s/it]"
     ]
    },
    {
     "name": "stdout",
     "output_type": "stream",
     "text": [
      "파일이 저장되었습니다: C:/Users/sykim/Desktop/url_blob/pdf_file\\303_BN68-15677B-02_QSG_CU8000 Flat 43-85inch_KOR_L06_230105.0.pdf\n"
     ]
    },
    {
     "name": "stderr",
     "output_type": "stream",
     "text": [
      "304it [07:59,  1.20s/it]"
     ]
    },
    {
     "name": "stdout",
     "output_type": "stream",
     "text": [
      "파일이 저장되었습니다: C:/Users/sykim/Desktop/url_blob/pdf_file\\304_BN68-15763A-03_QSG_QN700 800 900 S95C 55-65inch_WW_L06_230105.0.pdf\n"
     ]
    },
    {
     "name": "stderr",
     "output_type": "stream",
     "text": [
      "305it [08:00,  1.02s/it]"
     ]
    },
    {
     "name": "stdout",
     "output_type": "stream",
     "text": [
      "파일이 저장되었습니다: C:/Users/sykim/Desktop/url_blob/pdf_file\\305_BN68-15034B-00_UM_QN95B-QN100B QN700B-QN900B_KR_KOR_220615.0.pdf\n"
     ]
    },
    {
     "name": "stderr",
     "output_type": "stream",
     "text": [
      "306it [08:00,  1.16it/s]"
     ]
    },
    {
     "name": "stdout",
     "output_type": "stream",
     "text": [
      "파일이 저장되었습니다: C:/Users/sykim/Desktop/url_blob/pdf_file\\306_BN68-15034B-00_UM_QN95B-QN100B QN700B-QN900B_KR_KOR_220615.0.pdf\n"
     ]
    },
    {
     "name": "stderr",
     "output_type": "stream",
     "text": [
      "307it [08:03,  1.33s/it]"
     ]
    },
    {
     "name": "stdout",
     "output_type": "stream",
     "text": [
      "파일이 저장되었습니다: C:/Users/sykim/Desktop/url_blob/pdf_file\\307_BN68-15034B-00_UM_QN95B-QN100B QN700B-QN900B_KR_KOR_220615.0.pdf\n"
     ]
    },
    {
     "name": "stderr",
     "output_type": "stream",
     "text": [
      "308it [08:09,  2.75s/it]"
     ]
    },
    {
     "name": "stdout",
     "output_type": "stream",
     "text": [
      "파일이 저장되었습니다: C:/Users/sykim/Desktop/url_blob/pdf_file\\308_BN68-15034B-00_UM_QN95B-QN100B QN700B-QN900B_KR_KOR_220615.0.pdf\n"
     ]
    },
    {
     "name": "stderr",
     "output_type": "stream",
     "text": [
      "309it [08:10,  2.30s/it]"
     ]
    },
    {
     "name": "stdout",
     "output_type": "stream",
     "text": [
      "파일이 저장되었습니다: C:/Users/sykim/Desktop/url_blob/pdf_file\\309_BN68-15034B-00_UM_QN95B-QN100B QN700B-QN900B_KR_KOR_220615.0.pdf\n"
     ]
    },
    {
     "name": "stderr",
     "output_type": "stream",
     "text": [
      "310it [08:12,  2.02s/it]"
     ]
    },
    {
     "name": "stdout",
     "output_type": "stream",
     "text": [
      "파일이 저장되었습니다: C:/Users/sykim/Desktop/url_blob/pdf_file\\310_BN68-15034B-00_UM_QN95B-QN100B QN700B-QN900B_KR_KOR_220615.0.pdf\n"
     ]
    },
    {
     "name": "stderr",
     "output_type": "stream",
     "text": [
      "311it [08:14,  2.09s/it]"
     ]
    },
    {
     "name": "stdout",
     "output_type": "stream",
     "text": [
      "파일이 저장되었습니다: C:/Users/sykim/Desktop/url_blob/pdf_file\\311_BN68-15034B-00_UM_QN95B-QN100B QN700B-QN900B_KR_KOR_220615.0.pdf\n"
     ]
    },
    {
     "name": "stderr",
     "output_type": "stream",
     "text": [
      "312it [08:15,  1.97s/it]"
     ]
    },
    {
     "name": "stdout",
     "output_type": "stream",
     "text": [
      "파일이 저장되었습니다: C:/Users/sykim/Desktop/url_blob/pdf_file\\312_BN68-15677B-02_QSG_CU8000 Flat 43-85inch_KOR_L06_230105.0.pdf\n"
     ]
    },
    {
     "name": "stderr",
     "output_type": "stream",
     "text": [
      "313it [08:17,  1.73s/it]"
     ]
    },
    {
     "name": "stdout",
     "output_type": "stream",
     "text": [
      "파일이 저장되었습니다: C:/Users/sykim/Desktop/url_blob/pdf_file\\313_BN68-15759C-00_Leaflet-Remote_UC7_KR_KOR_221209.0.pdf\n"
     ]
    },
    {
     "name": "stderr",
     "output_type": "stream",
     "text": [
      "314it [08:18,  1.59s/it]"
     ]
    },
    {
     "name": "stdout",
     "output_type": "stream",
     "text": [
      "파일이 저장되었습니다: C:/Users/sykim/Desktop/url_blob/pdf_file\\314_BN68-15761A-01_QSG_CU7000 SlimFeet 43-85inch_KOR_L06_221222.0.pdf\n"
     ]
    },
    {
     "name": "stderr",
     "output_type": "stream",
     "text": [
      "315it [08:19,  1.59s/it]"
     ]
    },
    {
     "name": "stdout",
     "output_type": "stream",
     "text": [
      "파일이 저장되었습니다: C:/Users/sykim/Desktop/url_blob/pdf_file\\315_BN68-15677B-02_QSG_CU8000 Flat 43-85inch_KOR_L06_230105.0.pdf\n"
     ]
    },
    {
     "name": "stderr",
     "output_type": "stream",
     "text": [
      "316it [08:21,  1.54s/it]"
     ]
    },
    {
     "name": "stdout",
     "output_type": "stream",
     "text": [
      "파일이 저장되었습니다: C:/Users/sykim/Desktop/url_blob/pdf_file\\316_BN68-15761A-01_QSG_CU7000 SlimFeet 43-85inch_KOR_L06_221222.0.pdf\n"
     ]
    },
    {
     "name": "stderr",
     "output_type": "stream",
     "text": [
      "317it [08:22,  1.33s/it]"
     ]
    },
    {
     "name": "stdout",
     "output_type": "stream",
     "text": [
      "파일이 저장되었습니다: C:/Users/sykim/Desktop/url_blob/pdf_file\\317_BN68-15759C-00_Leaflet-Remote_UC7_KR_KOR_221209.0.pdf\n"
     ]
    },
    {
     "name": "stderr",
     "output_type": "stream",
     "text": [
      "318it [08:23,  1.18s/it]"
     ]
    },
    {
     "name": "stdout",
     "output_type": "stream",
     "text": [
      "파일이 저장되었습니다: C:/Users/sykim/Desktop/url_blob/pdf_file\\318_BN68-15677B-02_QSG_CU8000 Flat 43-85inch_KOR_L06_230105.0.pdf\n"
     ]
    },
    {
     "name": "stderr",
     "output_type": "stream",
     "text": [
      "319it [08:24,  1.25s/it]"
     ]
    },
    {
     "name": "stdout",
     "output_type": "stream",
     "text": [
      "파일이 저장되었습니다: C:/Users/sykim/Desktop/url_blob/pdf_file\\319_BN68-15965A-00_QSG_Q60C Simple Plus 65-85inch_KOR_L06_221230.0.pdf\n"
     ]
    },
    {
     "name": "stderr",
     "output_type": "stream",
     "text": [
      "320it [08:24,  1.03s/it]"
     ]
    },
    {
     "name": "stdout",
     "output_type": "stream",
     "text": [
      "파일이 저장되었습니다: C:/Users/sykim/Desktop/url_blob/pdf_file\\320_BN68-15677B-02_QSG_CU8000 Flat 43-85inch_KOR_L06_230105.0.pdf\n"
     ]
    },
    {
     "name": "stderr",
     "output_type": "stream",
     "text": [
      "321it [08:26,  1.19s/it]"
     ]
    },
    {
     "name": "stdout",
     "output_type": "stream",
     "text": [
      "파일이 저장되었습니다: C:/Users/sykim/Desktop/url_blob/pdf_file\\321_BN68-15761A-01_QSG_CU7000 SlimFeet 43-85inch_KOR_L06_221222.0.pdf\n"
     ]
    },
    {
     "name": "stderr",
     "output_type": "stream",
     "text": [
      "322it [08:27,  1.20s/it]"
     ]
    },
    {
     "name": "stdout",
     "output_type": "stream",
     "text": [
      "파일이 저장되었습니다: C:/Users/sykim/Desktop/url_blob/pdf_file\\322_BN68-15759C-00_Leaflet-Remote_UC7_KR_KOR_221209.0.pdf\n"
     ]
    },
    {
     "name": "stderr",
     "output_type": "stream",
     "text": [
      "323it [08:28,  1.10s/it]"
     ]
    },
    {
     "name": "stdout",
     "output_type": "stream",
     "text": [
      "파일이 저장되었습니다: C:/Users/sykim/Desktop/url_blob/pdf_file\\323_BN68-15677B-02_QSG_CU8000 Flat 43-85inch_KOR_L06_230105.0.pdf\n"
     ]
    },
    {
     "name": "stderr",
     "output_type": "stream",
     "text": [
      "324it [08:30,  1.46s/it]"
     ]
    },
    {
     "name": "stdout",
     "output_type": "stream",
     "text": [
      "파일이 저장되었습니다: C:/Users/sykim/Desktop/url_blob/pdf_file\\324_BN68-15965A-00_QSG_Q60C Simple Plus 65-85inch_KOR_L06_221230.0.pdf\n"
     ]
    },
    {
     "name": "stderr",
     "output_type": "stream",
     "text": [
      "325it [08:32,  1.38s/it]"
     ]
    },
    {
     "name": "stdout",
     "output_type": "stream",
     "text": [
      "파일이 저장되었습니다: C:/Users/sykim/Desktop/url_blob/pdf_file\\325_BN68-15965A-00_QSG_Q60C Simple Plus 65-85inch_KOR_L06_221230.0.pdf\n"
     ]
    },
    {
     "name": "stderr",
     "output_type": "stream",
     "text": [
      "326it [08:32,  1.09s/it]"
     ]
    },
    {
     "name": "stdout",
     "output_type": "stream",
     "text": [
      "파일이 저장되었습니다: C:/Users/sykim/Desktop/url_blob/pdf_file\\326_BN68-15303A-01_QSG_Q60C Simple Plus 43-55inch_WW_L06_230120.0.pdf\n"
     ]
    },
    {
     "name": "stderr",
     "output_type": "stream",
     "text": [
      "327it [08:33,  1.08it/s]"
     ]
    },
    {
     "name": "stdout",
     "output_type": "stream",
     "text": [
      "파일이 저장되었습니다: C:/Users/sykim/Desktop/url_blob/pdf_file\\327_BN68-15677B-02_QSG_CU8000 Flat 43-85inch_KOR_L06_230105.0.pdf\n"
     ]
    },
    {
     "name": "stderr",
     "output_type": "stream",
     "text": [
      "328it [08:33,  1.34it/s]"
     ]
    },
    {
     "name": "stdout",
     "output_type": "stream",
     "text": [
      "파일이 저장되었습니다: C:/Users/sykim/Desktop/url_blob/pdf_file\\328_BN68-15677B-02_QSG_CU8000 Flat 43-85inch_KOR_L06_230105.0.pdf\n"
     ]
    },
    {
     "name": "stderr",
     "output_type": "stream",
     "text": [
      "329it [08:34,  1.39it/s]"
     ]
    },
    {
     "name": "stdout",
     "output_type": "stream",
     "text": [
      "파일이 저장되었습니다: C:/Users/sykim/Desktop/url_blob/pdf_file\\329_BN68-15677B-03_QSG_CU8000 Flat 43-85inch_KOR_L06_230302.0.pdf\n"
     ]
    },
    {
     "name": "stderr",
     "output_type": "stream",
     "text": [
      "330it [08:34,  1.70it/s]"
     ]
    },
    {
     "name": "stdout",
     "output_type": "stream",
     "text": [
      "파일이 저장되었습니다: C:/Users/sykim/Desktop/url_blob/pdf_file\\330_BN68-16300B-00_QSG_S95C 77inch_KOR_L06_230131.1.pdf\n"
     ]
    },
    {
     "name": "stderr",
     "output_type": "stream",
     "text": [
      "331it [08:35,  1.67it/s]"
     ]
    },
    {
     "name": "stdout",
     "output_type": "stream",
     "text": [
      "파일이 저장되었습니다: C:/Users/sykim/Desktop/url_blob/pdf_file\\331_BN68-16300B-00_QSG_S95C 77inch_KOR_L06_230131.1.pdf\n"
     ]
    },
    {
     "name": "stderr",
     "output_type": "stream",
     "text": [
      "332it [08:38,  1.46s/it]"
     ]
    },
    {
     "name": "stdout",
     "output_type": "stream",
     "text": [
      "파일이 저장되었습니다: C:/Users/sykim/Desktop/url_blob/pdf_file\\332_BN68-16300B-00_QSG_S95C 77inch_KOR_L06_230131.1.pdf\n"
     ]
    },
    {
     "name": "stderr",
     "output_type": "stream",
     "text": [
      "333it [08:39,  1.47s/it]"
     ]
    },
    {
     "name": "stdout",
     "output_type": "stream",
     "text": [
      "파일이 저장되었습니다: C:/Users/sykim/Desktop/url_blob/pdf_file\\333_BN68-16300B-00_QSG_S95C 77inch_KOR_L06_230131.1.pdf\n"
     ]
    },
    {
     "name": "stderr",
     "output_type": "stream",
     "text": [
      "335it [08:41,  1.10s/it]"
     ]
    },
    {
     "name": "stdout",
     "output_type": "stream",
     "text": [
      "파일이 저장되었습니다: C:/Users/sykim/Desktop/url_blob/pdf_file\\334_BN68-16300B-00_QSG_S95C 77inch_KOR_L06_230131.1.pdf\n",
      "파일이 저장되었습니다: C:/Users/sykim/Desktop/url_blob/pdf_file\\335_BN68-15937A-01_UM_QCLS03S_KR_KOR_230310.0.pdf\n"
     ]
    },
    {
     "name": "stderr",
     "output_type": "stream",
     "text": [
      "336it [08:42,  1.12it/s]"
     ]
    },
    {
     "name": "stdout",
     "output_type": "stream",
     "text": [
      "파일이 저장되었습니다: C:/Users/sykim/Desktop/url_blob/pdf_file\\336_BN68-15671A-00_QSG_LS03C 32inch_WW_L06_221223.0.pdf\n"
     ]
    },
    {
     "name": "stderr",
     "output_type": "stream",
     "text": [
      "337it [08:42,  1.33it/s]"
     ]
    },
    {
     "name": "stdout",
     "output_type": "stream",
     "text": [
      "파일이 저장되었습니다: C:/Users/sykim/Desktop/url_blob/pdf_file\\337_BN68-15937A-01_UM_QCLS03S_KR_KOR_230310.0.pdf\n"
     ]
    },
    {
     "name": "stderr",
     "output_type": "stream",
     "text": [
      "338it [08:42,  1.54it/s]"
     ]
    },
    {
     "name": "stdout",
     "output_type": "stream",
     "text": [
      "파일이 저장되었습니다: C:/Users/sykim/Desktop/url_blob/pdf_file\\338_BN68-15701A-01_QSG_Q60C New Simple 43-85inch_KOR_L06_221222.0.pdf\n"
     ]
    },
    {
     "name": "stderr",
     "output_type": "stream",
     "text": [
      "339it [08:43,  1.48it/s]"
     ]
    },
    {
     "name": "stdout",
     "output_type": "stream",
     "text": [
      "파일이 저장되었습니다: C:/Users/sykim/Desktop/url_blob/pdf_file\\339_BN68-15701A-02_QSG_Q60C New Simple 43-85inch_KOR_L06_230302.0.pdf\n"
     ]
    },
    {
     "name": "stderr",
     "output_type": "stream",
     "text": [
      "340it [08:44,  1.29it/s]"
     ]
    },
    {
     "name": "stdout",
     "output_type": "stream",
     "text": [
      "파일이 저장되었습니다: C:/Users/sykim/Desktop/url_blob/pdf_file\\340_BN68-16034B-01_QSG_Q80C 50-85inch_KOR_L06_230113.0.pdf\n"
     ]
    },
    {
     "name": "stderr",
     "output_type": "stream",
     "text": [
      "341it [08:46,  1.01it/s]"
     ]
    },
    {
     "name": "stdout",
     "output_type": "stream",
     "text": [
      "파일이 저장되었습니다: C:/Users/sykim/Desktop/url_blob/pdf_file\\341_BN68-16300B-00_QSG_S95C 77inch_KOR_L06_230131.1.pdf\n"
     ]
    },
    {
     "name": "stderr",
     "output_type": "stream",
     "text": [
      "342it [08:46,  1.12it/s]"
     ]
    },
    {
     "name": "stdout",
     "output_type": "stream",
     "text": [
      "파일이 저장되었습니다: C:/Users/sykim/Desktop/url_blob/pdf_file\\342_BN68-15707A-01_QSG_Q70C Narrow Neck Plate_KOR_L06_230102.0.pdf\n"
     ]
    },
    {
     "name": "stderr",
     "output_type": "stream",
     "text": [
      "344it [08:48,  1.29it/s]"
     ]
    },
    {
     "name": "stdout",
     "output_type": "stream",
     "text": [
      "파일이 저장되었습니다: C:/Users/sykim/Desktop/url_blob/pdf_file\\343_BN68-15883A-03_QSG_QN700 800 900 S95C 75-85inch_KOR_L06_230120.0.pdf\n",
      "파일이 저장되었습니다: C:/Users/sykim/Desktop/url_blob/pdf_file\\344_BN68-15677B-02_QSG_CU8000 Flat 43-85inch_KOR_L06_230105.0.pdf\n"
     ]
    },
    {
     "name": "stderr",
     "output_type": "stream",
     "text": [
      "345it [08:49,  1.22it/s]"
     ]
    },
    {
     "name": "stdout",
     "output_type": "stream",
     "text": [
      "파일이 저장되었습니다: C:/Users/sykim/Desktop/url_blob/pdf_file\\345_BN68-15677B-03_QSG_CU8000 Flat 43-85inch_KOR_L06_230302.0.pdf\n"
     ]
    },
    {
     "name": "stderr",
     "output_type": "stream",
     "text": [
      "346it [08:50,  1.14it/s]"
     ]
    },
    {
     "name": "stdout",
     "output_type": "stream",
     "text": [
      "파일이 저장되었습니다: C:/Users/sykim/Desktop/url_blob/pdf_file\\346_BN68-15677B-02_QSG_CU8000 Flat 43-85inch_KOR_L06_230105.0.pdf\n"
     ]
    },
    {
     "name": "stderr",
     "output_type": "stream",
     "text": [
      "347it [08:50,  1.23it/s]"
     ]
    },
    {
     "name": "stdout",
     "output_type": "stream",
     "text": [
      "파일이 저장되었습니다: C:/Users/sykim/Desktop/url_blob/pdf_file\\347_BN68-15677B-03_QSG_CU8000 Flat 43-85inch_KOR_L06_230302.0.pdf\n"
     ]
    },
    {
     "name": "stderr",
     "output_type": "stream",
     "text": [
      "348it [08:51,  1.13it/s]"
     ]
    },
    {
     "name": "stdout",
     "output_type": "stream",
     "text": [
      "파일이 저장되었습니다: C:/Users/sykim/Desktop/url_blob/pdf_file\\348_BN68-15763A-03_QSG_QN700 800 900 S95C 55-65inch_WW_L06_230105.0.pdf\n"
     ]
    },
    {
     "name": "stderr",
     "output_type": "stream",
     "text": [
      "349it [08:52,  1.16it/s]"
     ]
    },
    {
     "name": "stdout",
     "output_type": "stream",
     "text": [
      "파일이 저장되었습니다: C:/Users/sykim/Desktop/url_blob/pdf_file\\349_BN68-16144A-01_QSG_QN95C 55-65inch_WW_L06_230119.0.pdf\n"
     ]
    },
    {
     "name": "stderr",
     "output_type": "stream",
     "text": [
      "350it [08:54,  1.02s/it]"
     ]
    },
    {
     "name": "stdout",
     "output_type": "stream",
     "text": [
      "파일이 저장되었습니다: C:/Users/sykim/Desktop/url_blob/pdf_file\\350_BN68-15883A-03_QSG_QN700 800 900 S95C 75-85inch_KOR_L06_230120.0.pdf\n"
     ]
    },
    {
     "name": "stderr",
     "output_type": "stream",
     "text": [
      "351it [08:57,  1.73s/it]"
     ]
    },
    {
     "name": "stdout",
     "output_type": "stream",
     "text": [
      "파일이 저장되었습니다: C:/Users/sykim/Desktop/url_blob/pdf_file\\351_QIG_J1780W_Series_230330.pdf\n"
     ]
    },
    {
     "name": "stderr",
     "output_type": "stream",
     "text": [
      "352it [09:03,  2.97s/it]"
     ]
    },
    {
     "name": "stdout",
     "output_type": "stream",
     "text": [
      "파일이 저장되었습니다: C:/Users/sykim/Desktop/url_blob/pdf_file\\352_QIG_J1780DW_Series_230330.pdf\n"
     ]
    },
    {
     "name": "stderr",
     "output_type": "stream",
     "text": [
      "353it [09:04,  2.38s/it]"
     ]
    },
    {
     "name": "stdout",
     "output_type": "stream",
     "text": [
      "파일이 저장되었습니다: C:/Users/sykim/Desktop/url_blob/pdf_file\\353_BN68-14385A-01_QSG_LS01B_WW_L06_220311.0.pdf\n"
     ]
    },
    {
     "name": "stderr",
     "output_type": "stream",
     "text": [
      "354it [09:04,  1.80s/it]"
     ]
    },
    {
     "name": "stdout",
     "output_type": "stream",
     "text": [
      "파일이 저장되었습니다: C:/Users/sykim/Desktop/url_blob/pdf_file\\354_BN68-13898A-01_Leaflet-Remote_QLED LS03_KR_KOR_220304.0.pdf\n"
     ]
    },
    {
     "name": "stderr",
     "output_type": "stream",
     "text": [
      "355it [09:05,  1.36s/it]"
     ]
    },
    {
     "name": "stdout",
     "output_type": "stream",
     "text": [
      "파일이 저장되었습니다: C:/Users/sykim/Desktop/url_blob/pdf_file\\355_BN68-14347A-02_UM_QBLS01BA_KR_KOR_220621.0.pdf\n"
     ]
    },
    {
     "name": "stderr",
     "output_type": "stream",
     "text": [
      "356it [09:07,  1.51s/it]"
     ]
    },
    {
     "name": "stdout",
     "output_type": "stream",
     "text": [
      "파일이 저장되었습니다: C:/Users/sykim/Desktop/url_blob/pdf_file\\356_MANUAL_USER_DC68-04353A-01_KO.pdf\n"
     ]
    },
    {
     "name": "stderr",
     "output_type": "stream",
     "text": [
      "357it [09:09,  1.73s/it]"
     ]
    },
    {
     "name": "stdout",
     "output_type": "stream",
     "text": [
      "파일이 저장되었습니다: C:/Users/sykim/Desktop/url_blob/pdf_file\\357_BN68-16828J-00_QSG_QN85C 55-85inch_WW_L10_230519.0.pdf\n"
     ]
    },
    {
     "name": "stderr",
     "output_type": "stream",
     "text": [
      "358it [09:10,  1.46s/it]"
     ]
    },
    {
     "name": "stdout",
     "output_type": "stream",
     "text": [
      "파일이 저장되었습니다: C:/Users/sykim/Desktop/url_blob/pdf_file\\358_BN68-16828J-00_QSG_QN85C 55-85inch_WW_L10_230519.0.pdf\n"
     ]
    },
    {
     "name": "stderr",
     "output_type": "stream",
     "text": [
      "359it [09:14,  2.23s/it]"
     ]
    },
    {
     "name": "stdout",
     "output_type": "stream",
     "text": [
      "파일이 저장되었습니다: C:/Users/sykim/Desktop/url_blob/pdf_file\\359_BN68-16828K-00_QSG_QN90C 43-85inch_WW_L10_230519.0.pdf\n"
     ]
    },
    {
     "name": "stderr",
     "output_type": "stream",
     "text": [
      "360it [09:16,  2.14s/it]"
     ]
    },
    {
     "name": "stdout",
     "output_type": "stream",
     "text": [
      "파일이 저장되었습니다: C:/Users/sykim/Desktop/url_blob/pdf_file\\360_BN68-16828J-00_QSG_QN85C 55-85inch_WW_L10_230519.0.pdf\n"
     ]
    },
    {
     "name": "stderr",
     "output_type": "stream",
     "text": [
      "361it [09:17,  1.97s/it]"
     ]
    },
    {
     "name": "stdout",
     "output_type": "stream",
     "text": [
      "파일이 저장되었습니다: C:/Users/sykim/Desktop/url_blob/pdf_file\\361_BN68-16828K-00_QSG_QN90C 43-85inch_WW_L10_230519.0.pdf\n"
     ]
    },
    {
     "name": "stderr",
     "output_type": "stream",
     "text": [
      "362it [09:20,  2.23s/it]"
     ]
    },
    {
     "name": "stdout",
     "output_type": "stream",
     "text": [
      "파일이 저장되었습니다: C:/Users/sykim/Desktop/url_blob/pdf_file\\362_BN68-16828K-00_QSG_QN90C 43-85inch_WW_L10_230519.0.pdf\n"
     ]
    },
    {
     "name": "stderr",
     "output_type": "stream",
     "text": [
      "363it [09:21,  1.76s/it]"
     ]
    },
    {
     "name": "stdout",
     "output_type": "stream",
     "text": [
      "파일이 저장되었습니다: C:/Users/sykim/Desktop/url_blob/pdf_file\\363_BN68-16828J-00_QSG_QN85C 55-85inch_WW_L10_230519.0.pdf\n"
     ]
    },
    {
     "name": "stderr",
     "output_type": "stream",
     "text": [
      "364it [09:22,  1.55s/it]"
     ]
    },
    {
     "name": "stdout",
     "output_type": "stream",
     "text": [
      "파일이 저장되었습니다: C:/Users/sykim/Desktop/url_blob/pdf_file\\364_BN68-16828J-00_QSG_QN85C 55-85inch_WW_L10_230519.0.pdf\n"
     ]
    },
    {
     "name": "stderr",
     "output_type": "stream",
     "text": [
      "365it [09:23,  1.34s/it]"
     ]
    },
    {
     "name": "stdout",
     "output_type": "stream",
     "text": [
      "파일이 저장되었습니다: C:/Users/sykim/Desktop/url_blob/pdf_file\\365_BN68-16828J-00_QSG_QN85C 55-85inch_WW_L10_230519.0.pdf\n"
     ]
    },
    {
     "name": "stderr",
     "output_type": "stream",
     "text": [
      "366it [09:24,  1.28s/it]"
     ]
    },
    {
     "name": "stdout",
     "output_type": "stream",
     "text": [
      "파일이 저장되었습니다: C:/Users/sykim/Desktop/url_blob/pdf_file\\366_BN68-16828J-00_QSG_QN85C 55-85inch_WW_L10_230519.0.pdf\n"
     ]
    },
    {
     "name": "stderr",
     "output_type": "stream",
     "text": [
      "367it [09:33,  3.63s/it]"
     ]
    },
    {
     "name": "stdout",
     "output_type": "stream",
     "text": [
      "파일이 저장되었습니다: C:/Users/sykim/Desktop/url_blob/pdf_file\\367_BN68-16828J-00_QSG_QN85C 55-85inch_WW_L10_230519.0.pdf\n"
     ]
    },
    {
     "name": "stderr",
     "output_type": "stream",
     "text": [
      "368it [09:37,  3.79s/it]"
     ]
    },
    {
     "name": "stdout",
     "output_type": "stream",
     "text": [
      "파일이 저장되었습니다: C:/Users/sykim/Desktop/url_blob/pdf_file\\368_BN68-16828J-00_QSG_QN85C 55-85inch_WW_L10_230519.0.pdf\n"
     ]
    },
    {
     "name": "stderr",
     "output_type": "stream",
     "text": [
      "369it [09:40,  3.55s/it]"
     ]
    },
    {
     "name": "stdout",
     "output_type": "stream",
     "text": [
      "파일이 저장되었습니다: C:/Users/sykim/Desktop/url_blob/pdf_file\\369_BN68-16828M-00_QSG_Q80C 50-85inch_WW_L10_230517.0.pdf\n"
     ]
    },
    {
     "name": "stderr",
     "output_type": "stream",
     "text": [
      "370it [09:43,  3.33s/it]"
     ]
    },
    {
     "name": "stdout",
     "output_type": "stream",
     "text": [
      "파일이 저장되었습니다: C:/Users/sykim/Desktop/url_blob/pdf_file\\370_BN68-16828J-00_QSG_QN85C 55-85inch_WW_L10_230519.0.pdf\n"
     ]
    },
    {
     "name": "stderr",
     "output_type": "stream",
     "text": [
      "371it [09:48,  3.79s/it]"
     ]
    },
    {
     "name": "stdout",
     "output_type": "stream",
     "text": [
      "파일이 저장되었습니다: C:/Users/sykim/Desktop/url_blob/pdf_file\\371_BN68-16828K-00_QSG_QN90C 43-85inch_WW_L10_230519.0.pdf\n"
     ]
    },
    {
     "name": "stderr",
     "output_type": "stream",
     "text": [
      "372it [09:52,  3.86s/it]"
     ]
    },
    {
     "name": "stdout",
     "output_type": "stream",
     "text": [
      "파일이 저장되었습니다: C:/Users/sykim/Desktop/url_blob/pdf_file\\372_T1680_series_QIG_T1680series_web.pdf\n"
     ]
    },
    {
     "name": "stderr",
     "output_type": "stream",
     "text": [
      "373it [09:53,  2.94s/it]"
     ]
    },
    {
     "name": "stdout",
     "output_type": "stream",
     "text": [
      "파일이 저장되었습니다: C:/Users/sykim/Desktop/url_blob/pdf_file\\373_DA68-04370A-02_Quick_Guide_Frige_KO_KO_220824.pdf\n"
     ]
    },
    {
     "name": "stderr",
     "output_type": "stream",
     "text": [
      "374it [09:53,  2.14s/it]"
     ]
    },
    {
     "name": "stdout",
     "output_type": "stream",
     "text": [
      "파일이 저장되었습니다: C:/Users/sykim/Desktop/url_blob/pdf_file\\374_BN68-15699A-01_Leaflet-Remote_Y23 QLED QD UC8 LSC03_KR_KOR_230609.0.pdf\n"
     ]
    },
    {
     "name": "stderr",
     "output_type": "stream",
     "text": [
      "375it [09:53,  1.56s/it]"
     ]
    },
    {
     "name": "stdout",
     "output_type": "stream",
     "text": [
      "파일이 저장되었습니다: C:/Users/sykim/Desktop/url_blob/pdf_file\\375_BN68-15699A-01_Leaflet-Remote_Y23 QLED QD UC8 LSC03_KR_KOR_230609.0.pdf\n"
     ]
    },
    {
     "name": "stderr",
     "output_type": "stream",
     "text": [
      "376it [09:53,  1.24s/it]"
     ]
    },
    {
     "name": "stdout",
     "output_type": "stream",
     "text": [
      "파일이 저장되었습니다: C:/Users/sykim/Desktop/url_blob/pdf_file\\376_BN68-15699A-01_Leaflet-Remote_Y23 QLED QD UC8 LSC03_KR_KOR_230609.0.pdf\n"
     ]
    },
    {
     "name": "stderr",
     "output_type": "stream",
     "text": [
      "377it [09:56,  1.62s/it]"
     ]
    },
    {
     "name": "stdout",
     "output_type": "stream",
     "text": [
      "파일이 저장되었습니다: C:/Users/sykim/Desktop/url_blob/pdf_file\\377_BN68-15699A-01_Leaflet-Remote_Y23 QLED QD UC8 LSC03_KR_KOR_230609.0.pdf\n"
     ]
    },
    {
     "name": "stderr",
     "output_type": "stream",
     "text": [
      "379it [09:57,  1.07s/it]"
     ]
    },
    {
     "name": "stdout",
     "output_type": "stream",
     "text": [
      "파일이 저장되었습니다: C:/Users/sykim/Desktop/url_blob/pdf_file\\378_BN68-15699A-01_Leaflet-Remote_Y23 QLED QD UC8 LSC03_KR_KOR_230609.0.pdf\n",
      "파일이 저장되었습니다: C:/Users/sykim/Desktop/url_blob/pdf_file\\379_BN68-15699A-01_Leaflet-Remote_Y23 QLED QD UC8 LSC03_KR_KOR_230609.0.pdf\n"
     ]
    },
    {
     "name": "stderr",
     "output_type": "stream",
     "text": [
      "380it [09:58,  1.15it/s]"
     ]
    },
    {
     "name": "stdout",
     "output_type": "stream",
     "text": [
      "파일이 저장되었습니다: C:/Users/sykim/Desktop/url_blob/pdf_file\\380_BN68-15699A-01_Leaflet-Remote_Y23 QLED QD UC8 LSC03_KR_KOR_230609.0.pdf\n"
     ]
    },
    {
     "name": "stderr",
     "output_type": "stream",
     "text": [
      "381it [09:58,  1.40it/s]"
     ]
    },
    {
     "name": "stdout",
     "output_type": "stream",
     "text": [
      "파일이 저장되었습니다: C:/Users/sykim/Desktop/url_blob/pdf_file\\381_BN68-15699A-01_Leaflet-Remote_Y23 QLED QD UC8 LSC03_KR_KOR_230609.0.pdf\n"
     ]
    },
    {
     "name": "stderr",
     "output_type": "stream",
     "text": [
      "382it [09:58,  1.64it/s]"
     ]
    },
    {
     "name": "stdout",
     "output_type": "stream",
     "text": [
      "파일이 저장되었습니다: C:/Users/sykim/Desktop/url_blob/pdf_file\\382_BN68-15699A-01_Leaflet-Remote_Y23 QLED QD UC8 LSC03_KR_KOR_230609.0.pdf\n"
     ]
    },
    {
     "name": "stderr",
     "output_type": "stream",
     "text": [
      "383it [09:59,  1.74it/s]"
     ]
    },
    {
     "name": "stdout",
     "output_type": "stream",
     "text": [
      "파일이 저장되었습니다: C:/Users/sykim/Desktop/url_blob/pdf_file\\383_BN68-15699A-01_Leaflet-Remote_Y23 QLED QD UC8 LSC03_KR_KOR_230609.0.pdf\n"
     ]
    },
    {
     "name": "stderr",
     "output_type": "stream",
     "text": [
      "384it [09:59,  1.92it/s]"
     ]
    },
    {
     "name": "stdout",
     "output_type": "stream",
     "text": [
      "파일이 저장되었습니다: C:/Users/sykim/Desktop/url_blob/pdf_file\\384_BN68-15699A-01_Leaflet-Remote_Y23 QLED QD UC8 LSC03_KR_KOR_230609.0.pdf\n"
     ]
    },
    {
     "name": "stderr",
     "output_type": "stream",
     "text": [
      "385it [10:01,  1.33it/s]"
     ]
    },
    {
     "name": "stdout",
     "output_type": "stream",
     "text": [
      "파일이 저장되었습니다: C:/Users/sykim/Desktop/url_blob/pdf_file\\385_BN68-15699A-01_Leaflet-Remote_Y23 QLED QD UC8 LSC03_KR_KOR_230609.0.pdf\n"
     ]
    },
    {
     "name": "stderr",
     "output_type": "stream",
     "text": [
      "386it [10:02,  1.16it/s]"
     ]
    },
    {
     "name": "stdout",
     "output_type": "stream",
     "text": [
      "파일이 저장되었습니다: C:/Users/sykim/Desktop/url_blob/pdf_file\\386_BN68-15699A-01_Leaflet-Remote_Y23 QLED QD UC8 LSC03_KR_KOR_230609.0.pdf\n"
     ]
    },
    {
     "name": "stderr",
     "output_type": "stream",
     "text": [
      "387it [10:02,  1.31it/s]"
     ]
    },
    {
     "name": "stdout",
     "output_type": "stream",
     "text": [
      "파일이 저장되었습니다: C:/Users/sykim/Desktop/url_blob/pdf_file\\387_BN68-15699A-01_Leaflet-Remote_Y23 QLED QD UC8 LSC03_KR_KOR_230609.0.pdf\n"
     ]
    },
    {
     "name": "stderr",
     "output_type": "stream",
     "text": [
      "388it [10:02,  1.61it/s]"
     ]
    },
    {
     "name": "stdout",
     "output_type": "stream",
     "text": [
      "파일이 저장되었습니다: C:/Users/sykim/Desktop/url_blob/pdf_file\\388_BN68-15699A-01_Leaflet-Remote_Y23 QLED QD UC8 LSC03_KR_KOR_230609.0.pdf\n"
     ]
    },
    {
     "name": "stderr",
     "output_type": "stream",
     "text": [
      "389it [10:03,  1.66it/s]"
     ]
    },
    {
     "name": "stdout",
     "output_type": "stream",
     "text": [
      "파일이 저장되었습니다: C:/Users/sykim/Desktop/url_blob/pdf_file\\389_BN68-15699A-01_Leaflet-Remote_Y23 QLED QD UC8 LSC03_KR_KOR_230609.0.pdf\n"
     ]
    },
    {
     "name": "stderr",
     "output_type": "stream",
     "text": [
      "390it [10:05,  1.15it/s]"
     ]
    },
    {
     "name": "stdout",
     "output_type": "stream",
     "text": [
      "파일이 저장되었습니다: C:/Users/sykim/Desktop/url_blob/pdf_file\\390_BN68-15699A-01_Leaflet-Remote_Y23 QLED QD UC8 LSC03_KR_KOR_230609.0.pdf\n"
     ]
    },
    {
     "name": "stderr",
     "output_type": "stream",
     "text": [
      "391it [10:05,  1.34it/s]"
     ]
    },
    {
     "name": "stdout",
     "output_type": "stream",
     "text": [
      "파일이 저장되었습니다: C:/Users/sykim/Desktop/url_blob/pdf_file\\391_BN68-15699A-01_Leaflet-Remote_Y23 QLED QD UC8 LSC03_KR_KOR_230609.0.pdf\n"
     ]
    },
    {
     "name": "stderr",
     "output_type": "stream",
     "text": [
      "392it [10:06,  1.41it/s]"
     ]
    },
    {
     "name": "stdout",
     "output_type": "stream",
     "text": [
      "파일이 저장되었습니다: C:/Users/sykim/Desktop/url_blob/pdf_file\\392_BN68-15699A-01_Leaflet-Remote_Y23 QLED QD UC8 LSC03_KR_KOR_230609.0.pdf\n"
     ]
    },
    {
     "name": "stderr",
     "output_type": "stream",
     "text": [
      "393it [10:06,  1.40it/s]"
     ]
    },
    {
     "name": "stdout",
     "output_type": "stream",
     "text": [
      "파일이 저장되었습니다: C:/Users/sykim/Desktop/url_blob/pdf_file\\393_BN68-15699A-01_Leaflet-Remote_Y23 QLED QD UC8 LSC03_KR_KOR_230609.0.pdf\n"
     ]
    },
    {
     "name": "stderr",
     "output_type": "stream",
     "text": [
      "394it [10:07,  1.74it/s]"
     ]
    },
    {
     "name": "stdout",
     "output_type": "stream",
     "text": [
      "파일이 저장되었습니다: C:/Users/sykim/Desktop/url_blob/pdf_file\\394_BN68-15699A-01_Leaflet-Remote_Y23 QLED QD UC8 LSC03_KR_KOR_230609.0.pdf\n"
     ]
    },
    {
     "name": "stderr",
     "output_type": "stream",
     "text": [
      "395it [10:07,  2.15it/s]"
     ]
    },
    {
     "name": "stdout",
     "output_type": "stream",
     "text": [
      "파일이 저장되었습니다: C:/Users/sykim/Desktop/url_blob/pdf_file\\395_BN68-15699A-01_Leaflet-Remote_Y23 QLED QD UC8 LSC03_KR_KOR_230609.0.pdf\n"
     ]
    },
    {
     "name": "stderr",
     "output_type": "stream",
     "text": [
      "396it [10:07,  2.53it/s]"
     ]
    },
    {
     "name": "stdout",
     "output_type": "stream",
     "text": [
      "파일이 저장되었습니다: C:/Users/sykim/Desktop/url_blob/pdf_file\\396_BN68-15699A-01_Leaflet-Remote_Y23 QLED QD UC8 LSC03_KR_KOR_230609.0.pdf\n"
     ]
    },
    {
     "name": "stderr",
     "output_type": "stream",
     "text": [
      "397it [10:07,  2.72it/s]"
     ]
    },
    {
     "name": "stdout",
     "output_type": "stream",
     "text": [
      "파일이 저장되었습니다: C:/Users/sykim/Desktop/url_blob/pdf_file\\397_BN68-15699A-01_Leaflet-Remote_Y23 QLED QD UC8 LSC03_KR_KOR_230609.0.pdf\n"
     ]
    },
    {
     "name": "stderr",
     "output_type": "stream",
     "text": [
      "398it [10:08,  2.71it/s]"
     ]
    },
    {
     "name": "stdout",
     "output_type": "stream",
     "text": [
      "파일이 저장되었습니다: C:/Users/sykim/Desktop/url_blob/pdf_file\\398_BN68-15699A-01_Leaflet-Remote_Y23 QLED QD UC8 LSC03_KR_KOR_230609.0.pdf\n"
     ]
    },
    {
     "name": "stderr",
     "output_type": "stream",
     "text": [
      "399it [10:08,  3.07it/s]"
     ]
    },
    {
     "name": "stdout",
     "output_type": "stream",
     "text": [
      "파일이 저장되었습니다: C:/Users/sykim/Desktop/url_blob/pdf_file\\399_BN68-15699A-01_Leaflet-Remote_Y23 QLED QD UC8 LSC03_KR_KOR_230609.0.pdf\n"
     ]
    },
    {
     "name": "stderr",
     "output_type": "stream",
     "text": [
      "400it [10:08,  2.88it/s]"
     ]
    },
    {
     "name": "stdout",
     "output_type": "stream",
     "text": [
      "파일이 저장되었습니다: C:/Users/sykim/Desktop/url_blob/pdf_file\\400_BN68-15699A-01_Leaflet-Remote_Y23 QLED QD UC8 LSC03_KR_KOR_230609.0.pdf\n"
     ]
    },
    {
     "name": "stderr",
     "output_type": "stream",
     "text": [
      "401it [10:09,  2.97it/s]"
     ]
    },
    {
     "name": "stdout",
     "output_type": "stream",
     "text": [
      "파일이 저장되었습니다: C:/Users/sykim/Desktop/url_blob/pdf_file\\401_BN68-15699A-01_Leaflet-Remote_Y23 QLED QD UC8 LSC03_KR_KOR_230609.0.pdf\n"
     ]
    },
    {
     "name": "stderr",
     "output_type": "stream",
     "text": [
      "402it [10:09,  2.70it/s]"
     ]
    },
    {
     "name": "stdout",
     "output_type": "stream",
     "text": [
      "파일이 저장되었습니다: C:/Users/sykim/Desktop/url_blob/pdf_file\\402_BN68-15699A-01_Leaflet-Remote_Y23 QLED QD UC8 LSC03_KR_KOR_230609.0.pdf\n"
     ]
    },
    {
     "name": "stderr",
     "output_type": "stream",
     "text": [
      "403it [10:09,  2.96it/s]"
     ]
    },
    {
     "name": "stdout",
     "output_type": "stream",
     "text": [
      "파일이 저장되었습니다: C:/Users/sykim/Desktop/url_blob/pdf_file\\403_BN68-15699A-01_Leaflet-Remote_Y23 QLED QD UC8 LSC03_KR_KOR_230609.0.pdf\n"
     ]
    },
    {
     "name": "stderr",
     "output_type": "stream",
     "text": [
      "405it [10:10,  3.94it/s]"
     ]
    },
    {
     "name": "stdout",
     "output_type": "stream",
     "text": [
      "파일이 저장되었습니다: C:/Users/sykim/Desktop/url_blob/pdf_file\\404_BN68-15699A-01_Leaflet-Remote_Y23 QLED QD UC8 LSC03_KR_KOR_230609.0.pdf\n",
      "파일이 저장되었습니다: C:/Users/sykim/Desktop/url_blob/pdf_file\\405_BN68-15699A-01_Leaflet-Remote_Y23 QLED QD UC8 LSC03_KR_KOR_230609.0.pdf\n"
     ]
    },
    {
     "name": "stderr",
     "output_type": "stream",
     "text": [
      "406it [10:10,  3.36it/s]"
     ]
    },
    {
     "name": "stdout",
     "output_type": "stream",
     "text": [
      "파일이 저장되었습니다: C:/Users/sykim/Desktop/url_blob/pdf_file\\406_BN68-15699A-01_Leaflet-Remote_Y23 QLED QD UC8 LSC03_KR_KOR_230609.0.pdf\n"
     ]
    },
    {
     "name": "stderr",
     "output_type": "stream",
     "text": [
      "407it [10:10,  3.66it/s]"
     ]
    },
    {
     "name": "stdout",
     "output_type": "stream",
     "text": [
      "파일이 저장되었습니다: C:/Users/sykim/Desktop/url_blob/pdf_file\\407_BN68-15699A-01_Leaflet-Remote_Y23 QLED QD UC8 LSC03_KR_KOR_230609.0.pdf\n",
      "파일이 저장되었습니다: C:/Users/sykim/Desktop/url_blob/pdf_file\\408_BN68-15699A-01_Leaflet-Remote_Y23 QLED QD UC8 LSC03_KR_KOR_230609.0.pdf\n"
     ]
    },
    {
     "name": "stderr",
     "output_type": "stream",
     "text": [
      "410it [10:11,  4.59it/s]"
     ]
    },
    {
     "name": "stdout",
     "output_type": "stream",
     "text": [
      "파일이 저장되었습니다: C:/Users/sykim/Desktop/url_blob/pdf_file\\409_BN68-15699A-01_Leaflet-Remote_Y23 QLED QD UC8 LSC03_KR_KOR_230609.0.pdf\n",
      "파일이 저장되었습니다: C:/Users/sykim/Desktop/url_blob/pdf_file\\410_BN68-15699A-01_Leaflet-Remote_Y23 QLED QD UC8 LSC03_KR_KOR_230609.0.pdf\n"
     ]
    },
    {
     "name": "stderr",
     "output_type": "stream",
     "text": [
      "412it [10:11,  5.06it/s]"
     ]
    },
    {
     "name": "stdout",
     "output_type": "stream",
     "text": [
      "파일이 저장되었습니다: C:/Users/sykim/Desktop/url_blob/pdf_file\\411_BN68-15699A-01_Leaflet-Remote_Y23 QLED QD UC8 LSC03_KR_KOR_230609.0.pdf\n",
      "파일이 저장되었습니다: C:/Users/sykim/Desktop/url_blob/pdf_file\\412_BN68-15699A-01_Leaflet-Remote_Y23 QLED QD UC8 LSC03_KR_KOR_230609.0.pdf\n"
     ]
    },
    {
     "name": "stderr",
     "output_type": "stream",
     "text": [
      "414it [10:11,  6.15it/s]"
     ]
    },
    {
     "name": "stdout",
     "output_type": "stream",
     "text": [
      "파일이 저장되었습니다: C:/Users/sykim/Desktop/url_blob/pdf_file\\413_BN68-15699A-01_Leaflet-Remote_Y23 QLED QD UC8 LSC03_KR_KOR_230609.0.pdf\n",
      "파일이 저장되었습니다: C:/Users/sykim/Desktop/url_blob/pdf_file\\414_BN68-15699A-01_Leaflet-Remote_Y23 QLED QD UC8 LSC03_KR_KOR_230609.0.pdf\n"
     ]
    },
    {
     "name": "stderr",
     "output_type": "stream",
     "text": [
      "415it [10:12,  5.18it/s]"
     ]
    },
    {
     "name": "stdout",
     "output_type": "stream",
     "text": [
      "파일이 저장되었습니다: C:/Users/sykim/Desktop/url_blob/pdf_file\\415_BN68-15699A-01_Leaflet-Remote_Y23 QLED QD UC8 LSC03_KR_KOR_230609.0.pdf\n"
     ]
    },
    {
     "name": "stderr",
     "output_type": "stream",
     "text": [
      "416it [10:12,  5.04it/s]"
     ]
    },
    {
     "name": "stdout",
     "output_type": "stream",
     "text": [
      "파일이 저장되었습니다: C:/Users/sykim/Desktop/url_blob/pdf_file\\416_BN68-15699A-01_Leaflet-Remote_Y23 QLED QD UC8 LSC03_KR_KOR_230609.0.pdf\n"
     ]
    },
    {
     "name": "stderr",
     "output_type": "stream",
     "text": [
      "417it [10:12,  4.45it/s]"
     ]
    },
    {
     "name": "stdout",
     "output_type": "stream",
     "text": [
      "파일이 저장되었습니다: C:/Users/sykim/Desktop/url_blob/pdf_file\\417_BN68-15699A-01_Leaflet-Remote_Y23 QLED QD UC8 LSC03_KR_KOR_230609.0.pdf\n"
     ]
    },
    {
     "name": "stderr",
     "output_type": "stream",
     "text": [
      "418it [10:12,  4.14it/s]"
     ]
    },
    {
     "name": "stdout",
     "output_type": "stream",
     "text": [
      "파일이 저장되었습니다: C:/Users/sykim/Desktop/url_blob/pdf_file\\418_BN68-15699A-01_Leaflet-Remote_Y23 QLED QD UC8 LSC03_KR_KOR_230609.0.pdf\n"
     ]
    },
    {
     "name": "stderr",
     "output_type": "stream",
     "text": [
      "419it [10:13,  4.03it/s]"
     ]
    },
    {
     "name": "stdout",
     "output_type": "stream",
     "text": [
      "파일이 저장되었습니다: C:/Users/sykim/Desktop/url_blob/pdf_file\\419_BN68-15699A-01_Leaflet-Remote_Y23 QLED QD UC8 LSC03_KR_KOR_230609.0.pdf\n"
     ]
    },
    {
     "name": "stderr",
     "output_type": "stream",
     "text": [
      "420it [10:13,  3.34it/s]"
     ]
    },
    {
     "name": "stdout",
     "output_type": "stream",
     "text": [
      "파일이 저장되었습니다: C:/Users/sykim/Desktop/url_blob/pdf_file\\420_BN68-15699A-01_Leaflet-Remote_Y23 QLED QD UC8 LSC03_KR_KOR_230609.0.pdf\n"
     ]
    },
    {
     "name": "stderr",
     "output_type": "stream",
     "text": [
      "421it [10:14,  2.81it/s]"
     ]
    },
    {
     "name": "stdout",
     "output_type": "stream",
     "text": [
      "파일이 저장되었습니다: C:/Users/sykim/Desktop/url_blob/pdf_file\\421_BN68-15699A-01_Leaflet-Remote_Y23 QLED QD UC8 LSC03_KR_KOR_230609.0.pdf\n"
     ]
    },
    {
     "name": "stderr",
     "output_type": "stream",
     "text": [
      "422it [10:14,  3.15it/s]"
     ]
    },
    {
     "name": "stdout",
     "output_type": "stream",
     "text": [
      "파일이 저장되었습니다: C:/Users/sykim/Desktop/url_blob/pdf_file\\422_BN68-15699A-01_Leaflet-Remote_Y23 QLED QD UC8 LSC03_KR_KOR_230609.0.pdf\n"
     ]
    },
    {
     "name": "stderr",
     "output_type": "stream",
     "text": [
      "423it [10:14,  3.49it/s]"
     ]
    },
    {
     "name": "stdout",
     "output_type": "stream",
     "text": [
      "파일이 저장되었습니다: C:/Users/sykim/Desktop/url_blob/pdf_file\\423_BN68-15699A-01_Leaflet-Remote_Y23 QLED QD UC8 LSC03_KR_KOR_230609.0.pdf\n"
     ]
    },
    {
     "name": "stderr",
     "output_type": "stream",
     "text": [
      "424it [10:14,  3.76it/s]"
     ]
    },
    {
     "name": "stdout",
     "output_type": "stream",
     "text": [
      "파일이 저장되었습니다: C:/Users/sykim/Desktop/url_blob/pdf_file\\424_BN68-15699A-01_Leaflet-Remote_Y23 QLED QD UC8 LSC03_KR_KOR_230609.0.pdf\n"
     ]
    },
    {
     "name": "stderr",
     "output_type": "stream",
     "text": [
      "425it [10:15,  3.57it/s]"
     ]
    },
    {
     "name": "stdout",
     "output_type": "stream",
     "text": [
      "파일이 저장되었습니다: C:/Users/sykim/Desktop/url_blob/pdf_file\\425_BN68-15699A-01_Leaflet-Remote_Y23 QLED QD UC8 LSC03_KR_KOR_230609.0.pdf\n"
     ]
    },
    {
     "name": "stderr",
     "output_type": "stream",
     "text": [
      "426it [10:15,  2.48it/s]"
     ]
    },
    {
     "name": "stdout",
     "output_type": "stream",
     "text": [
      "파일이 저장되었습니다: C:/Users/sykim/Desktop/url_blob/pdf_file\\426_BN68-15699A-01_Leaflet-Remote_Y23 QLED QD UC8 LSC03_KR_KOR_230609.0.pdf\n"
     ]
    },
    {
     "name": "stderr",
     "output_type": "stream",
     "text": [
      "427it [10:16,  2.72it/s]"
     ]
    },
    {
     "name": "stdout",
     "output_type": "stream",
     "text": [
      "파일이 저장되었습니다: C:/Users/sykim/Desktop/url_blob/pdf_file\\427_BN68-15699A-01_Leaflet-Remote_Y23 QLED QD UC8 LSC03_KR_KOR_230609.0.pdf\n"
     ]
    },
    {
     "name": "stderr",
     "output_type": "stream",
     "text": [
      "428it [10:16,  2.40it/s]"
     ]
    },
    {
     "name": "stdout",
     "output_type": "stream",
     "text": [
      "파일이 저장되었습니다: C:/Users/sykim/Desktop/url_blob/pdf_file\\428_BN68-15699A-01_Leaflet-Remote_Y23 QLED QD UC8 LSC03_KR_KOR_230609.0.pdf\n"
     ]
    },
    {
     "name": "stderr",
     "output_type": "stream",
     "text": [
      "430it [10:17,  2.84it/s]"
     ]
    },
    {
     "name": "stdout",
     "output_type": "stream",
     "text": [
      "파일이 저장되었습니다: C:/Users/sykim/Desktop/url_blob/pdf_file\\429_BN68-15699A-01_Leaflet-Remote_Y23 QLED QD UC8 LSC03_KR_KOR_230609.0.pdf\n",
      "파일이 저장되었습니다: C:/Users/sykim/Desktop/url_blob/pdf_file\\430_BN68-15699A-01_Leaflet-Remote_Y23 QLED QD UC8 LSC03_KR_KOR_230609.0.pdf\n"
     ]
    },
    {
     "name": "stderr",
     "output_type": "stream",
     "text": [
      "432it [10:17,  3.24it/s]"
     ]
    },
    {
     "name": "stdout",
     "output_type": "stream",
     "text": [
      "파일이 저장되었습니다: C:/Users/sykim/Desktop/url_blob/pdf_file\\431_BN68-15699A-01_Leaflet-Remote_Y23 QLED QD UC8 LSC03_KR_KOR_230609.0.pdf\n",
      "파일이 저장되었습니다: C:/Users/sykim/Desktop/url_blob/pdf_file\\432_BN68-15699A-01_Leaflet-Remote_Y23 QLED QD UC8 LSC03_KR_KOR_230609.0.pdf\n"
     ]
    },
    {
     "name": "stderr",
     "output_type": "stream",
     "text": [
      "433it [10:18,  3.16it/s]"
     ]
    },
    {
     "name": "stdout",
     "output_type": "stream",
     "text": [
      "파일이 저장되었습니다: C:/Users/sykim/Desktop/url_blob/pdf_file\\433_BN68-15699A-01_Leaflet-Remote_Y23 QLED QD UC8 LSC03_KR_KOR_230609.0.pdf\n"
     ]
    },
    {
     "name": "stderr",
     "output_type": "stream",
     "text": [
      "434it [10:18,  2.95it/s]"
     ]
    },
    {
     "name": "stdout",
     "output_type": "stream",
     "text": [
      "파일이 저장되었습니다: C:/Users/sykim/Desktop/url_blob/pdf_file\\434_BN68-15699A-01_Leaflet-Remote_Y23 QLED QD UC8 LSC03_KR_KOR_230609.0.pdf\n"
     ]
    },
    {
     "name": "stderr",
     "output_type": "stream",
     "text": [
      "435it [10:18,  3.07it/s]"
     ]
    },
    {
     "name": "stdout",
     "output_type": "stream",
     "text": [
      "파일이 저장되었습니다: C:/Users/sykim/Desktop/url_blob/pdf_file\\435_BN68-15699A-01_Leaflet-Remote_Y23 QLED QD UC8 LSC03_KR_KOR_230609.0.pdf\n"
     ]
    },
    {
     "name": "stderr",
     "output_type": "stream",
     "text": [
      "436it [10:19,  2.69it/s]"
     ]
    },
    {
     "name": "stdout",
     "output_type": "stream",
     "text": [
      "파일이 저장되었습니다: C:/Users/sykim/Desktop/url_blob/pdf_file\\436_BN68-15699A-01_Leaflet-Remote_Y23 QLED QD UC8 LSC03_KR_KOR_230609.0.pdf\n"
     ]
    },
    {
     "name": "stderr",
     "output_type": "stream",
     "text": [
      "437it [10:20,  2.16it/s]"
     ]
    },
    {
     "name": "stdout",
     "output_type": "stream",
     "text": [
      "파일이 저장되었습니다: C:/Users/sykim/Desktop/url_blob/pdf_file\\437_BN68-15699A-01_Leaflet-Remote_Y23 QLED QD UC8 LSC03_KR_KOR_230609.0.pdf\n"
     ]
    },
    {
     "name": "stderr",
     "output_type": "stream",
     "text": [
      "438it [10:20,  2.03it/s]"
     ]
    },
    {
     "name": "stdout",
     "output_type": "stream",
     "text": [
      "파일이 저장되었습니다: C:/Users/sykim/Desktop/url_blob/pdf_file\\438_BN68-15699A-01_Leaflet-Remote_Y23 QLED QD UC8 LSC03_KR_KOR_230609.0.pdf\n"
     ]
    },
    {
     "name": "stderr",
     "output_type": "stream",
     "text": [
      "439it [10:21,  1.58it/s]"
     ]
    },
    {
     "name": "stdout",
     "output_type": "stream",
     "text": [
      "파일이 저장되었습니다: C:/Users/sykim/Desktop/url_blob/pdf_file\\439_BN68-15699A-01_Leaflet-Remote_Y23 QLED QD UC8 LSC03_KR_KOR_230609.0.pdf\n"
     ]
    },
    {
     "name": "stderr",
     "output_type": "stream",
     "text": [
      "440it [10:22,  1.51it/s]"
     ]
    },
    {
     "name": "stdout",
     "output_type": "stream",
     "text": [
      "파일이 저장되었습니다: C:/Users/sykim/Desktop/url_blob/pdf_file\\440_BN68-15699A-01_Leaflet-Remote_Y23 QLED QD UC8 LSC03_KR_KOR_230609.0.pdf\n"
     ]
    },
    {
     "name": "stderr",
     "output_type": "stream",
     "text": [
      "441it [10:22,  1.62it/s]"
     ]
    },
    {
     "name": "stdout",
     "output_type": "stream",
     "text": [
      "파일이 저장되었습니다: C:/Users/sykim/Desktop/url_blob/pdf_file\\441_BN68-15699A-01_Leaflet-Remote_Y23 QLED QD UC8 LSC03_KR_KOR_230609.0.pdf\n"
     ]
    },
    {
     "name": "stderr",
     "output_type": "stream",
     "text": [
      "442it [10:23,  1.58it/s]"
     ]
    },
    {
     "name": "stdout",
     "output_type": "stream",
     "text": [
      "파일이 저장되었습니다: C:/Users/sykim/Desktop/url_blob/pdf_file\\442_BN68-15699A-01_Leaflet-Remote_Y23 QLED QD UC8 LSC03_KR_KOR_230609.0.pdf\n"
     ]
    },
    {
     "name": "stderr",
     "output_type": "stream",
     "text": [
      "443it [10:23,  1.84it/s]"
     ]
    },
    {
     "name": "stdout",
     "output_type": "stream",
     "text": [
      "파일이 저장되었습니다: C:/Users/sykim/Desktop/url_blob/pdf_file\\443_BN68-15699A-01_Leaflet-Remote_Y23 QLED QD UC8 LSC03_KR_KOR_230609.0.pdf\n"
     ]
    },
    {
     "name": "stderr",
     "output_type": "stream",
     "text": [
      "444it [10:24,  1.85it/s]"
     ]
    },
    {
     "name": "stdout",
     "output_type": "stream",
     "text": [
      "파일이 저장되었습니다: C:/Users/sykim/Desktop/url_blob/pdf_file\\444_BN68-15699A-01_Leaflet-Remote_Y23 QLED QD UC8 LSC03_KR_KOR_230609.0.pdf\n"
     ]
    },
    {
     "name": "stderr",
     "output_type": "stream",
     "text": [
      "445it [10:25,  1.62it/s]"
     ]
    },
    {
     "name": "stdout",
     "output_type": "stream",
     "text": [
      "파일이 저장되었습니다: C:/Users/sykim/Desktop/url_blob/pdf_file\\445_BN68-15699A-01_Leaflet-Remote_Y23 QLED QD UC8 LSC03_KR_KOR_230609.0.pdf\n"
     ]
    },
    {
     "name": "stderr",
     "output_type": "stream",
     "text": [
      "446it [10:25,  1.49it/s]"
     ]
    },
    {
     "name": "stdout",
     "output_type": "stream",
     "text": [
      "파일이 저장되었습니다: C:/Users/sykim/Desktop/url_blob/pdf_file\\446_BN68-15699A-01_Leaflet-Remote_Y23 QLED QD UC8 LSC03_KR_KOR_230609.0.pdf\n"
     ]
    },
    {
     "name": "stderr",
     "output_type": "stream",
     "text": [
      "447it [10:26,  1.78it/s]"
     ]
    },
    {
     "name": "stdout",
     "output_type": "stream",
     "text": [
      "파일이 저장되었습니다: C:/Users/sykim/Desktop/url_blob/pdf_file\\447_BN68-15699A-01_Leaflet-Remote_Y23 QLED QD UC8 LSC03_KR_KOR_230609.0.pdf\n"
     ]
    },
    {
     "name": "stderr",
     "output_type": "stream",
     "text": [
      "448it [10:27,  1.48it/s]"
     ]
    },
    {
     "name": "stdout",
     "output_type": "stream",
     "text": [
      "파일이 저장되었습니다: C:/Users/sykim/Desktop/url_blob/pdf_file\\448_BN68-15699A-01_Leaflet-Remote_Y23 QLED QD UC8 LSC03_KR_KOR_230609.0.pdf\n"
     ]
    },
    {
     "name": "stderr",
     "output_type": "stream",
     "text": [
      "449it [10:28,  1.31it/s]"
     ]
    },
    {
     "name": "stdout",
     "output_type": "stream",
     "text": [
      "파일이 저장되었습니다: C:/Users/sykim/Desktop/url_blob/pdf_file\\449_BN68-15699A-01_Leaflet-Remote_Y23 QLED QD UC8 LSC03_KR_KOR_230609.0.pdf\n"
     ]
    },
    {
     "name": "stderr",
     "output_type": "stream",
     "text": [
      "450it [10:29,  1.07it/s]"
     ]
    },
    {
     "name": "stdout",
     "output_type": "stream",
     "text": [
      "파일이 저장되었습니다: C:/Users/sykim/Desktop/url_blob/pdf_file\\450_BN68-15699A-01_Leaflet-Remote_Y23 QLED QD UC8 LSC03_KR_KOR_230609.0.pdf\n"
     ]
    },
    {
     "name": "stderr",
     "output_type": "stream",
     "text": [
      "451it [10:31,  1.15s/it]"
     ]
    },
    {
     "name": "stdout",
     "output_type": "stream",
     "text": [
      "파일이 저장되었습니다: C:/Users/sykim/Desktop/url_blob/pdf_file\\451_BN68-15699A-01_Leaflet-Remote_Y23 QLED QD UC8 LSC03_KR_KOR_230609.0.pdf\n"
     ]
    },
    {
     "name": "stderr",
     "output_type": "stream",
     "text": [
      "452it [10:31,  1.06s/it]"
     ]
    },
    {
     "name": "stdout",
     "output_type": "stream",
     "text": [
      "파일이 저장되었습니다: C:/Users/sykim/Desktop/url_blob/pdf_file\\452_BN68-15699A-01_Leaflet-Remote_Y23 QLED QD UC8 LSC03_KR_KOR_230609.0.pdf\n"
     ]
    },
    {
     "name": "stderr",
     "output_type": "stream",
     "text": [
      "453it [10:33,  1.07s/it]"
     ]
    },
    {
     "name": "stdout",
     "output_type": "stream",
     "text": [
      "파일이 저장되었습니다: C:/Users/sykim/Desktop/url_blob/pdf_file\\453_BN68-15699A-01_Leaflet-Remote_Y23 QLED QD UC8 LSC03_KR_KOR_230609.0.pdf\n"
     ]
    },
    {
     "name": "stderr",
     "output_type": "stream",
     "text": [
      "454it [10:33,  1.00it/s]"
     ]
    },
    {
     "name": "stdout",
     "output_type": "stream",
     "text": [
      "파일이 저장되었습니다: C:/Users/sykim/Desktop/url_blob/pdf_file\\454_BN68-15699A-01_Leaflet-Remote_Y23 QLED QD UC8 LSC03_KR_KOR_230609.0.pdf\n"
     ]
    },
    {
     "name": "stderr",
     "output_type": "stream",
     "text": [
      "455it [10:34,  1.11it/s]"
     ]
    },
    {
     "name": "stdout",
     "output_type": "stream",
     "text": [
      "파일이 저장되었습니다: C:/Users/sykim/Desktop/url_blob/pdf_file\\455_BN68-16828B-01_QSG_S95C 77inch_WW_L10_230609.0.pdf\n"
     ]
    },
    {
     "name": "stderr",
     "output_type": "stream",
     "text": [
      "456it [10:36,  1.11s/it]"
     ]
    },
    {
     "name": "stdout",
     "output_type": "stream",
     "text": [
      "파일이 저장되었습니다: C:/Users/sykim/Desktop/url_blob/pdf_file\\456_BN68-16828B-01_QSG_S95C 77inch_WW_L10_230609.0.pdf\n"
     ]
    },
    {
     "name": "stderr",
     "output_type": "stream",
     "text": [
      "457it [10:36,  1.09it/s]"
     ]
    },
    {
     "name": "stdout",
     "output_type": "stream",
     "text": [
      "파일이 저장되었습니다: C:/Users/sykim/Desktop/url_blob/pdf_file\\457_BN68-17041A-00_QSG_QE1C Float 50-85inch_KOR_L10_230612.0.pdf\n"
     ]
    },
    {
     "name": "stderr",
     "output_type": "stream",
     "text": [
      "458it [10:37,  1.21it/s]"
     ]
    },
    {
     "name": "stdout",
     "output_type": "stream",
     "text": [
      "파일이 저장되었습니다: C:/Users/sykim/Desktop/url_blob/pdf_file\\458_BN68-15699A-01_Leaflet-Remote_Y23 QLED QD UC8 LSC03_KR_KOR_230609.0.pdf\n"
     ]
    },
    {
     "name": "stderr",
     "output_type": "stream",
     "text": [
      "459it [10:37,  1.37it/s]"
     ]
    },
    {
     "name": "stdout",
     "output_type": "stream",
     "text": [
      "파일이 저장되었습니다: C:/Users/sykim/Desktop/url_blob/pdf_file\\459_BN68-17041A-00_QSG_QE1C Float 50-85inch_KOR_L10_230612.0.pdf\n"
     ]
    },
    {
     "name": "stderr",
     "output_type": "stream",
     "text": [
      "460it [10:38,  1.51it/s]"
     ]
    },
    {
     "name": "stdout",
     "output_type": "stream",
     "text": [
      "파일이 저장되었습니다: C:/Users/sykim/Desktop/url_blob/pdf_file\\460_BN68-15699A-01_Leaflet-Remote_Y23 QLED QD UC8 LSC03_KR_KOR_230609.0.pdf\n"
     ]
    },
    {
     "name": "stderr",
     "output_type": "stream",
     "text": [
      "461it [10:38,  1.75it/s]"
     ]
    },
    {
     "name": "stdout",
     "output_type": "stream",
     "text": [
      "파일이 저장되었습니다: C:/Users/sykim/Desktop/url_blob/pdf_file\\461_BN68-15699A-01_Leaflet-Remote_Y23 QLED QD UC8 LSC03_KR_KOR_230609.0.pdf\n"
     ]
    },
    {
     "name": "stderr",
     "output_type": "stream",
     "text": [
      "462it [10:39,  1.54it/s]"
     ]
    },
    {
     "name": "stdout",
     "output_type": "stream",
     "text": [
      "파일이 저장되었습니다: C:/Users/sykim/Desktop/url_blob/pdf_file\\462_BN68-17041A-00_QSG_QE1C Float 50-85inch_KOR_L10_230612.0.pdf\n"
     ]
    },
    {
     "name": "stderr",
     "output_type": "stream",
     "text": [
      "463it [10:39,  1.88it/s]"
     ]
    },
    {
     "name": "stdout",
     "output_type": "stream",
     "text": [
      "파일이 저장되었습니다: C:/Users/sykim/Desktop/url_blob/pdf_file\\463_BN68-17041A-00_QSG_QE1C Float 50-85inch_KOR_L10_230612.0.pdf\n"
     ]
    },
    {
     "name": "stderr",
     "output_type": "stream",
     "text": [
      "464it [10:39,  2.27it/s]"
     ]
    },
    {
     "name": "stdout",
     "output_type": "stream",
     "text": [
      "파일이 저장되었습니다: C:/Users/sykim/Desktop/url_blob/pdf_file\\464_BN68-15699A-01_Leaflet-Remote_Y23 QLED QD UC8 LSC03_KR_KOR_230609.0.pdf\n"
     ]
    },
    {
     "name": "stderr",
     "output_type": "stream",
     "text": [
      "465it [10:40,  2.64it/s]"
     ]
    },
    {
     "name": "stdout",
     "output_type": "stream",
     "text": [
      "파일이 저장되었습니다: C:/Users/sykim/Desktop/url_blob/pdf_file\\465_BN68-13846B-01_QSG_LS03B 55-65inch_WW_L06_220111.0.pdf\n"
     ]
    },
    {
     "name": "stderr",
     "output_type": "stream",
     "text": [
      "466it [10:40,  2.36it/s]"
     ]
    },
    {
     "name": "stdout",
     "output_type": "stream",
     "text": [
      "파일이 저장되었습니다: C:/Users/sykim/Desktop/url_blob/pdf_file\\466_BN68-13710A-02_UM_QBLS03M_KR_KOR_220621.0.pdf\n"
     ]
    },
    {
     "name": "stderr",
     "output_type": "stream",
     "text": [
      "467it [10:41,  2.57it/s]"
     ]
    },
    {
     "name": "stdout",
     "output_type": "stream",
     "text": [
      "파일이 저장되었습니다: C:/Users/sykim/Desktop/url_blob/pdf_file\\467_BN68-15699A-01_Leaflet-Remote_Y23 QLED QD UC8 LSC03_KR_KOR_230609.0.pdf\n"
     ]
    },
    {
     "name": "stderr",
     "output_type": "stream",
     "text": [
      "468it [10:42,  1.18it/s]"
     ]
    },
    {
     "name": "stdout",
     "output_type": "stream",
     "text": [
      "파일이 저장되었습니다: C:/Users/sykim/Desktop/url_blob/pdf_file\\468_MANUAL_USER_DC68-04353A-01_KO.pdf\n"
     ]
    },
    {
     "name": "stderr",
     "output_type": "stream",
     "text": [
      "469it [10:44,  1.06s/it]"
     ]
    },
    {
     "name": "stdout",
     "output_type": "stream",
     "text": [
      "파일이 저장되었습니다: C:/Users/sykim/Desktop/url_blob/pdf_file\\469_BN68-14120A-01_QSG_LS03B 75-85inch_KOR_L01_220111.0.pdf\n"
     ]
    },
    {
     "name": "stderr",
     "output_type": "stream",
     "text": [
      "470it [10:46,  1.28s/it]"
     ]
    },
    {
     "name": "stdout",
     "output_type": "stream",
     "text": [
      "파일이 저장되었습니다: C:/Users/sykim/Desktop/url_blob/pdf_file\\470_BN68-13710A-02_UM_QBLS03M_KR_KOR_220621.0.pdf\n"
     ]
    },
    {
     "name": "stderr",
     "output_type": "stream",
     "text": [
      "471it [10:46,  1.01s/it]"
     ]
    },
    {
     "name": "stdout",
     "output_type": "stream",
     "text": [
      "파일이 저장되었습니다: C:/Users/sykim/Desktop/url_blob/pdf_file\\471_BN68-15699A-01_Leaflet-Remote_Y23 QLED QD UC8 LSC03_KR_KOR_230609.0.pdf\n"
     ]
    },
    {
     "name": "stderr",
     "output_type": "stream",
     "text": [
      "472it [10:46,  1.28it/s]"
     ]
    },
    {
     "name": "stdout",
     "output_type": "stream",
     "text": [
      "파일이 저장되었습니다: C:/Users/sykim/Desktop/url_blob/pdf_file\\472_BN68-15699A-01_Leaflet-Remote_Y23 QLED QD UC8 LSC03_KR_KOR_230609.0.pdf\n"
     ]
    },
    {
     "name": "stderr",
     "output_type": "stream",
     "text": [
      "473it [10:56,  3.31s/it]"
     ]
    },
    {
     "name": "stdout",
     "output_type": "stream",
     "text": [
      "파일이 저장되었습니다: C:/Users/sykim/Desktop/url_blob/pdf_file\\473_BN68-17140A-00_UM_Y23 QLED UHD QD_KR_KOR_230720.0.pdf\n"
     ]
    },
    {
     "name": "stderr",
     "output_type": "stream",
     "text": [
      "474it [10:57,  2.67s/it]"
     ]
    },
    {
     "name": "stdout",
     "output_type": "stream",
     "text": [
      "파일이 저장되었습니다: C:/Users/sykim/Desktop/url_blob/pdf_file\\474_BN68-17140A-00_UM_Y23 QLED UHD QD_KR_KOR_230720.0.pdf\n"
     ]
    },
    {
     "name": "stderr",
     "output_type": "stream",
     "text": [
      "475it [10:57,  2.03s/it]"
     ]
    },
    {
     "name": "stdout",
     "output_type": "stream",
     "text": [
      "파일이 저장되었습니다: C:/Users/sykim/Desktop/url_blob/pdf_file\\475_BN68-17140A-00_UM_Y23 QLED UHD QD_KR_KOR_230720.0.pdf\n"
     ]
    },
    {
     "name": "stderr",
     "output_type": "stream",
     "text": [
      "476it [10:58,  1.63s/it]"
     ]
    },
    {
     "name": "stdout",
     "output_type": "stream",
     "text": [
      "파일이 저장되었습니다: C:/Users/sykim/Desktop/url_blob/pdf_file\\476_BN68-17140A-00_UM_Y23 QLED UHD QD_KR_KOR_230720.0.pdf\n"
     ]
    },
    {
     "name": "stderr",
     "output_type": "stream",
     "text": [
      "477it [10:58,  1.23s/it]"
     ]
    },
    {
     "name": "stdout",
     "output_type": "stream",
     "text": [
      "파일이 저장되었습니다: C:/Users/sykim/Desktop/url_blob/pdf_file\\477_BN68-17140A-00_UM_Y23 QLED UHD QD_KR_KOR_230720.0.pdf\n"
     ]
    },
    {
     "name": "stderr",
     "output_type": "stream",
     "text": [
      "478it [10:59,  1.08s/it]"
     ]
    },
    {
     "name": "stdout",
     "output_type": "stream",
     "text": [
      "파일이 저장되었습니다: C:/Users/sykim/Desktop/url_blob/pdf_file\\478_BN68-17140A-00_UM_Y23 QLED UHD QD_KR_KOR_230720.0.pdf\n"
     ]
    },
    {
     "name": "stderr",
     "output_type": "stream",
     "text": [
      "479it [11:00,  1.11s/it]"
     ]
    },
    {
     "name": "stdout",
     "output_type": "stream",
     "text": [
      "파일이 저장되었습니다: C:/Users/sykim/Desktop/url_blob/pdf_file\\479_BN68-17140A-00_UM_Y23 QLED UHD QD_KR_KOR_230720.0.pdf\n"
     ]
    },
    {
     "name": "stderr",
     "output_type": "stream",
     "text": [
      "480it [11:01,  1.16s/it]"
     ]
    },
    {
     "name": "stdout",
     "output_type": "stream",
     "text": [
      "파일이 저장되었습니다: C:/Users/sykim/Desktop/url_blob/pdf_file\\480_BN68-17140A-00_UM_Y23 QLED UHD QD_KR_KOR_230720.0.pdf\n"
     ]
    },
    {
     "name": "stderr",
     "output_type": "stream",
     "text": [
      "481it [11:02,  1.05s/it]"
     ]
    },
    {
     "name": "stdout",
     "output_type": "stream",
     "text": [
      "파일이 저장되었습니다: C:/Users/sykim/Desktop/url_blob/pdf_file\\481_BN68-17140A-00_UM_Y23 QLED UHD QD_KR_KOR_230720.0.pdf\n"
     ]
    },
    {
     "name": "stderr",
     "output_type": "stream",
     "text": [
      "482it [11:03,  1.03s/it]"
     ]
    },
    {
     "name": "stdout",
     "output_type": "stream",
     "text": [
      "파일이 저장되었습니다: C:/Users/sykim/Desktop/url_blob/pdf_file\\482_BN68-17140A-00_UM_Y23 QLED UHD QD_KR_KOR_230720.0.pdf\n"
     ]
    },
    {
     "name": "stderr",
     "output_type": "stream",
     "text": [
      "483it [11:04,  1.16it/s]"
     ]
    },
    {
     "name": "stdout",
     "output_type": "stream",
     "text": [
      "파일이 저장되었습니다: C:/Users/sykim/Desktop/url_blob/pdf_file\\483_BN68-17140A-00_UM_Y23 QLED UHD QD_KR_KOR_230720.0.pdf\n"
     ]
    },
    {
     "name": "stderr",
     "output_type": "stream",
     "text": [
      "484it [11:05,  1.09s/it]"
     ]
    },
    {
     "name": "stdout",
     "output_type": "stream",
     "text": [
      "파일이 저장되었습니다: C:/Users/sykim/Desktop/url_blob/pdf_file\\484_BN68-17140A-00_UM_Y23 QLED UHD QD_KR_KOR_230720.0.pdf\n"
     ]
    },
    {
     "name": "stderr",
     "output_type": "stream",
     "text": [
      "485it [11:07,  1.22s/it]"
     ]
    },
    {
     "name": "stdout",
     "output_type": "stream",
     "text": [
      "파일이 저장되었습니다: C:/Users/sykim/Desktop/url_blob/pdf_file\\485_BN68-17140A-00_UM_Y23 QLED UHD QD_KR_KOR_230720.0.pdf\n"
     ]
    },
    {
     "name": "stderr",
     "output_type": "stream",
     "text": [
      "486it [11:08,  1.04s/it]"
     ]
    },
    {
     "name": "stdout",
     "output_type": "stream",
     "text": [
      "파일이 저장되었습니다: C:/Users/sykim/Desktop/url_blob/pdf_file\\486_BN68-17140A-00_UM_Y23 QLED UHD QD_KR_KOR_230720.0.pdf\n"
     ]
    },
    {
     "name": "stderr",
     "output_type": "stream",
     "text": [
      "487it [11:08,  1.12it/s]"
     ]
    },
    {
     "name": "stdout",
     "output_type": "stream",
     "text": [
      "파일이 저장되었습니다: C:/Users/sykim/Desktop/url_blob/pdf_file\\487_BN68-17140A-00_UM_Y23 QLED UHD QD_KR_KOR_230720.0.pdf\n"
     ]
    },
    {
     "name": "stderr",
     "output_type": "stream",
     "text": [
      "488it [11:09,  1.28it/s]"
     ]
    },
    {
     "name": "stdout",
     "output_type": "stream",
     "text": [
      "파일이 저장되었습니다: C:/Users/sykim/Desktop/url_blob/pdf_file\\488_BN68-17140A-00_UM_Y23 QLED UHD QD_KR_KOR_230720.0.pdf\n"
     ]
    },
    {
     "name": "stderr",
     "output_type": "stream",
     "text": [
      "489it [11:09,  1.27it/s]"
     ]
    },
    {
     "name": "stdout",
     "output_type": "stream",
     "text": [
      "파일이 저장되었습니다: C:/Users/sykim/Desktop/url_blob/pdf_file\\489_BN68-17140A-00_UM_Y23 QLED UHD QD_KR_KOR_230720.0.pdf\n"
     ]
    },
    {
     "name": "stderr",
     "output_type": "stream",
     "text": [
      "490it [11:10,  1.29it/s]"
     ]
    },
    {
     "name": "stdout",
     "output_type": "stream",
     "text": [
      "파일이 저장되었습니다: C:/Users/sykim/Desktop/url_blob/pdf_file\\490_BN68-17140A-00_UM_Y23 QLED UHD QD_KR_KOR_230720.0.pdf\n"
     ]
    },
    {
     "name": "stderr",
     "output_type": "stream",
     "text": [
      "491it [11:11,  1.33it/s]"
     ]
    },
    {
     "name": "stdout",
     "output_type": "stream",
     "text": [
      "파일이 저장되었습니다: C:/Users/sykim/Desktop/url_blob/pdf_file\\491_BN68-17140A-00_UM_Y23 QLED UHD QD_KR_KOR_230720.0.pdf\n"
     ]
    },
    {
     "name": "stderr",
     "output_type": "stream",
     "text": [
      "492it [11:12,  1.34it/s]"
     ]
    },
    {
     "name": "stdout",
     "output_type": "stream",
     "text": [
      "파일이 저장되었습니다: C:/Users/sykim/Desktop/url_blob/pdf_file\\492_BN68-17140A-00_UM_Y23 QLED UHD QD_KR_KOR_230720.0.pdf\n"
     ]
    },
    {
     "name": "stderr",
     "output_type": "stream",
     "text": [
      "493it [11:12,  1.49it/s]"
     ]
    },
    {
     "name": "stdout",
     "output_type": "stream",
     "text": [
      "파일이 저장되었습니다: C:/Users/sykim/Desktop/url_blob/pdf_file\\493_BN68-17140A-00_UM_Y23 QLED UHD QD_KR_KOR_230720.0.pdf\n"
     ]
    },
    {
     "name": "stderr",
     "output_type": "stream",
     "text": [
      "494it [11:12,  1.70it/s]"
     ]
    },
    {
     "name": "stdout",
     "output_type": "stream",
     "text": [
      "파일이 저장되었습니다: C:/Users/sykim/Desktop/url_blob/pdf_file\\494_BN68-17140A-00_UM_Y23 QLED UHD QD_KR_KOR_230720.0.pdf\n"
     ]
    },
    {
     "name": "stderr",
     "output_type": "stream",
     "text": [
      "495it [11:13,  1.58it/s]"
     ]
    },
    {
     "name": "stdout",
     "output_type": "stream",
     "text": [
      "파일이 저장되었습니다: C:/Users/sykim/Desktop/url_blob/pdf_file\\495_BN68-17140A-00_UM_Y23 QLED UHD QD_KR_KOR_230720.0.pdf\n"
     ]
    },
    {
     "name": "stderr",
     "output_type": "stream",
     "text": [
      "496it [11:14,  1.85it/s]"
     ]
    },
    {
     "name": "stdout",
     "output_type": "stream",
     "text": [
      "파일이 저장되었습니다: C:/Users/sykim/Desktop/url_blob/pdf_file\\496_BN68-17140A-00_UM_Y23 QLED UHD QD_KR_KOR_230720.0.pdf\n"
     ]
    },
    {
     "name": "stderr",
     "output_type": "stream",
     "text": [
      "497it [11:14,  2.18it/s]"
     ]
    },
    {
     "name": "stdout",
     "output_type": "stream",
     "text": [
      "파일이 저장되었습니다: C:/Users/sykim/Desktop/url_blob/pdf_file\\497_BN68-17140A-00_UM_Y23 QLED UHD QD_KR_KOR_230720.0.pdf\n"
     ]
    },
    {
     "name": "stderr",
     "output_type": "stream",
     "text": [
      "498it [11:14,  2.03it/s]"
     ]
    },
    {
     "name": "stdout",
     "output_type": "stream",
     "text": [
      "파일이 저장되었습니다: C:/Users/sykim/Desktop/url_blob/pdf_file\\498_BN68-17140A-00_UM_Y23 QLED UHD QD_KR_KOR_230720.0.pdf\n"
     ]
    },
    {
     "name": "stderr",
     "output_type": "stream",
     "text": [
      "499it [11:15,  2.09it/s]"
     ]
    },
    {
     "name": "stdout",
     "output_type": "stream",
     "text": [
      "파일이 저장되었습니다: C:/Users/sykim/Desktop/url_blob/pdf_file\\499_BN68-17140A-00_UM_Y23 QLED UHD QD_KR_KOR_230720.0.pdf\n"
     ]
    },
    {
     "name": "stderr",
     "output_type": "stream",
     "text": [
      "500it [11:15,  2.34it/s]"
     ]
    },
    {
     "name": "stdout",
     "output_type": "stream",
     "text": [
      "파일이 저장되었습니다: C:/Users/sykim/Desktop/url_blob/pdf_file\\500_BN68-17140A-00_UM_Y23 QLED UHD QD_KR_KOR_230720.0.pdf\n"
     ]
    },
    {
     "name": "stderr",
     "output_type": "stream",
     "text": [
      "501it [11:15,  2.72it/s]"
     ]
    },
    {
     "name": "stdout",
     "output_type": "stream",
     "text": [
      "파일이 저장되었습니다: C:/Users/sykim/Desktop/url_blob/pdf_file\\501_BN68-17140A-00_UM_Y23 QLED UHD QD_KR_KOR_230720.0.pdf\n"
     ]
    },
    {
     "name": "stderr",
     "output_type": "stream",
     "text": [
      "502it [11:17,  1.41it/s]"
     ]
    },
    {
     "name": "stdout",
     "output_type": "stream",
     "text": [
      "파일이 저장되었습니다: C:/Users/sykim/Desktop/url_blob/pdf_file\\502_BN68-17140A-00_UM_Y23 QLED UHD QD_KR_KOR_230720.0.pdf\n"
     ]
    },
    {
     "name": "stderr",
     "output_type": "stream",
     "text": [
      "503it [11:18,  1.10it/s]"
     ]
    },
    {
     "name": "stdout",
     "output_type": "stream",
     "text": [
      "파일이 저장되었습니다: C:/Users/sykim/Desktop/url_blob/pdf_file\\503_BN68-17140A-00_UM_Y23 QLED UHD QD_KR_KOR_230720.0.pdf\n"
     ]
    },
    {
     "name": "stderr",
     "output_type": "stream",
     "text": [
      "504it [11:20,  1.17s/it]"
     ]
    },
    {
     "name": "stdout",
     "output_type": "stream",
     "text": [
      "파일이 저장되었습니다: C:/Users/sykim/Desktop/url_blob/pdf_file\\504_BN68-17140A-00_UM_Y23 QLED UHD QD_KR_KOR_230720.0.pdf\n"
     ]
    },
    {
     "name": "stderr",
     "output_type": "stream",
     "text": [
      "505it [11:21,  1.26s/it]"
     ]
    },
    {
     "name": "stdout",
     "output_type": "stream",
     "text": [
      "파일이 저장되었습니다: C:/Users/sykim/Desktop/url_blob/pdf_file\\505_BN68-17140A-00_UM_Y23 QLED UHD QD_KR_KOR_230720.0.pdf\n"
     ]
    },
    {
     "name": "stderr",
     "output_type": "stream",
     "text": [
      "506it [11:23,  1.48s/it]"
     ]
    },
    {
     "name": "stdout",
     "output_type": "stream",
     "text": [
      "파일이 저장되었습니다: C:/Users/sykim/Desktop/url_blob/pdf_file\\506_BN68-17140A-00_UM_Y23 QLED UHD QD_KR_KOR_230720.0.pdf\n"
     ]
    },
    {
     "name": "stderr",
     "output_type": "stream",
     "text": [
      "507it [11:25,  1.63s/it]"
     ]
    },
    {
     "name": "stdout",
     "output_type": "stream",
     "text": [
      "파일이 저장되었습니다: C:/Users/sykim/Desktop/url_blob/pdf_file\\507_BN68-17140A-00_UM_Y23 QLED UHD QD_KR_KOR_230720.0.pdf\n"
     ]
    },
    {
     "name": "stderr",
     "output_type": "stream",
     "text": [
      "508it [11:27,  1.68s/it]"
     ]
    },
    {
     "name": "stdout",
     "output_type": "stream",
     "text": [
      "파일이 저장되었습니다: C:/Users/sykim/Desktop/url_blob/pdf_file\\508_BN68-17140A-00_UM_Y23 QLED UHD QD_KR_KOR_230720.0.pdf\n"
     ]
    },
    {
     "name": "stderr",
     "output_type": "stream",
     "text": [
      "509it [11:28,  1.51s/it]"
     ]
    },
    {
     "name": "stdout",
     "output_type": "stream",
     "text": [
      "파일이 저장되었습니다: C:/Users/sykim/Desktop/url_blob/pdf_file\\509_BN68-17140A-00_UM_Y23 QLED UHD QD_KR_KOR_230720.0.pdf\n"
     ]
    },
    {
     "name": "stderr",
     "output_type": "stream",
     "text": [
      "510it [11:30,  1.51s/it]"
     ]
    },
    {
     "name": "stdout",
     "output_type": "stream",
     "text": [
      "파일이 저장되었습니다: C:/Users/sykim/Desktop/url_blob/pdf_file\\510_BN68-17140A-00_UM_Y23 QLED UHD QD_KR_KOR_230720.0.pdf\n"
     ]
    },
    {
     "name": "stderr",
     "output_type": "stream",
     "text": [
      "511it [11:32,  1.78s/it]"
     ]
    },
    {
     "name": "stdout",
     "output_type": "stream",
     "text": [
      "파일이 저장되었습니다: C:/Users/sykim/Desktop/url_blob/pdf_file\\511_BN68-17140A-00_UM_Y23 QLED UHD QD_KR_KOR_230720.0.pdf\n"
     ]
    },
    {
     "name": "stderr",
     "output_type": "stream",
     "text": [
      "512it [11:34,  1.67s/it]"
     ]
    },
    {
     "name": "stdout",
     "output_type": "stream",
     "text": [
      "파일이 저장되었습니다: C:/Users/sykim/Desktop/url_blob/pdf_file\\512_BN68-17140A-00_UM_Y23 QLED UHD QD_KR_KOR_230720.0.pdf\n"
     ]
    },
    {
     "name": "stderr",
     "output_type": "stream",
     "text": [
      "513it [11:36,  1.74s/it]"
     ]
    },
    {
     "name": "stdout",
     "output_type": "stream",
     "text": [
      "파일이 저장되었습니다: C:/Users/sykim/Desktop/url_blob/pdf_file\\513_BN68-17140A-00_UM_Y23 QLED UHD QD_KR_KOR_230720.0.pdf\n"
     ]
    },
    {
     "name": "stderr",
     "output_type": "stream",
     "text": [
      "514it [11:38,  1.90s/it]"
     ]
    },
    {
     "name": "stdout",
     "output_type": "stream",
     "text": [
      "파일이 저장되었습니다: C:/Users/sykim/Desktop/url_blob/pdf_file\\514_BN68-17140A-00_UM_Y23 QLED UHD QD_KR_KOR_230720.0.pdf\n"
     ]
    },
    {
     "name": "stderr",
     "output_type": "stream",
     "text": [
      "515it [11:39,  1.78s/it]"
     ]
    },
    {
     "name": "stdout",
     "output_type": "stream",
     "text": [
      "파일이 저장되었습니다: C:/Users/sykim/Desktop/url_blob/pdf_file\\515_BN68-17140A-00_UM_Y23 QLED UHD QD_KR_KOR_230720.0.pdf\n"
     ]
    },
    {
     "name": "stderr",
     "output_type": "stream",
     "text": [
      "516it [11:41,  1.61s/it]"
     ]
    },
    {
     "name": "stdout",
     "output_type": "stream",
     "text": [
      "파일이 저장되었습니다: C:/Users/sykim/Desktop/url_blob/pdf_file\\516_BN68-17140A-00_UM_Y23 QLED UHD QD_KR_KOR_230720.0.pdf\n"
     ]
    },
    {
     "name": "stderr",
     "output_type": "stream",
     "text": [
      "517it [11:42,  1.46s/it]"
     ]
    },
    {
     "name": "stdout",
     "output_type": "stream",
     "text": [
      "파일이 저장되었습니다: C:/Users/sykim/Desktop/url_blob/pdf_file\\517_BN68-17140A-00_UM_Y23 QLED UHD QD_KR_KOR_230720.0.pdf\n"
     ]
    },
    {
     "name": "stderr",
     "output_type": "stream",
     "text": [
      "518it [11:43,  1.43s/it]"
     ]
    },
    {
     "name": "stdout",
     "output_type": "stream",
     "text": [
      "파일이 저장되었습니다: C:/Users/sykim/Desktop/url_blob/pdf_file\\518_BN68-17140A-00_UM_Y23 QLED UHD QD_KR_KOR_230720.0.pdf\n"
     ]
    },
    {
     "name": "stderr",
     "output_type": "stream",
     "text": [
      "519it [11:44,  1.44s/it]"
     ]
    },
    {
     "name": "stdout",
     "output_type": "stream",
     "text": [
      "파일이 저장되었습니다: C:/Users/sykim/Desktop/url_blob/pdf_file\\519_BN68-17140A-00_UM_Y23 QLED UHD QD_KR_KOR_230720.0.pdf\n"
     ]
    },
    {
     "name": "stderr",
     "output_type": "stream",
     "text": [
      "520it [11:46,  1.43s/it]"
     ]
    },
    {
     "name": "stdout",
     "output_type": "stream",
     "text": [
      "파일이 저장되었습니다: C:/Users/sykim/Desktop/url_blob/pdf_file\\520_BN68-17140A-00_UM_Y23 QLED UHD QD_KR_KOR_230720.0.pdf\n"
     ]
    },
    {
     "name": "stderr",
     "output_type": "stream",
     "text": [
      "521it [11:47,  1.43s/it]"
     ]
    },
    {
     "name": "stdout",
     "output_type": "stream",
     "text": [
      "파일이 저장되었습니다: C:/Users/sykim/Desktop/url_blob/pdf_file\\521_BN68-17140A-00_UM_Y23 QLED UHD QD_KR_KOR_230720.0.pdf\n"
     ]
    },
    {
     "name": "stderr",
     "output_type": "stream",
     "text": [
      "522it [11:49,  1.38s/it]"
     ]
    },
    {
     "name": "stdout",
     "output_type": "stream",
     "text": [
      "파일이 저장되었습니다: C:/Users/sykim/Desktop/url_blob/pdf_file\\522_BN68-17140A-00_UM_Y23 QLED UHD QD_KR_KOR_230720.0.pdf\n"
     ]
    },
    {
     "name": "stderr",
     "output_type": "stream",
     "text": [
      "523it [11:50,  1.32s/it]"
     ]
    },
    {
     "name": "stdout",
     "output_type": "stream",
     "text": [
      "파일이 저장되었습니다: C:/Users/sykim/Desktop/url_blob/pdf_file\\523_BN68-17140A-00_UM_Y23 QLED UHD QD_KR_KOR_230720.0.pdf\n"
     ]
    },
    {
     "name": "stderr",
     "output_type": "stream",
     "text": [
      "524it [11:52,  1.63s/it]"
     ]
    },
    {
     "name": "stdout",
     "output_type": "stream",
     "text": [
      "파일이 저장되었습니다: C:/Users/sykim/Desktop/url_blob/pdf_file\\524_BN68-17140A-00_UM_Y23 QLED UHD QD_KR_KOR_230720.0.pdf\n"
     ]
    },
    {
     "name": "stderr",
     "output_type": "stream",
     "text": [
      "525it [11:53,  1.53s/it]"
     ]
    },
    {
     "name": "stdout",
     "output_type": "stream",
     "text": [
      "파일이 저장되었습니다: C:/Users/sykim/Desktop/url_blob/pdf_file\\525_BN68-17140A-00_UM_Y23 QLED UHD QD_KR_KOR_230720.0.pdf\n"
     ]
    },
    {
     "name": "stderr",
     "output_type": "stream",
     "text": [
      "526it [11:55,  1.42s/it]"
     ]
    },
    {
     "name": "stdout",
     "output_type": "stream",
     "text": [
      "파일이 저장되었습니다: C:/Users/sykim/Desktop/url_blob/pdf_file\\526_BN68-17140A-00_UM_Y23 QLED UHD QD_KR_KOR_230720.0.pdf\n"
     ]
    },
    {
     "name": "stderr",
     "output_type": "stream",
     "text": [
      "527it [11:56,  1.42s/it]"
     ]
    },
    {
     "name": "stdout",
     "output_type": "stream",
     "text": [
      "파일이 저장되었습니다: C:/Users/sykim/Desktop/url_blob/pdf_file\\527_BN68-17140A-00_UM_Y23 QLED UHD QD_KR_KOR_230720.0.pdf\n"
     ]
    },
    {
     "name": "stderr",
     "output_type": "stream",
     "text": [
      "528it [11:57,  1.36s/it]"
     ]
    },
    {
     "name": "stdout",
     "output_type": "stream",
     "text": [
      "파일이 저장되었습니다: C:/Users/sykim/Desktop/url_blob/pdf_file\\528_BN68-17140A-00_UM_Y23 QLED UHD QD_KR_KOR_230720.0.pdf\n"
     ]
    },
    {
     "name": "stderr",
     "output_type": "stream",
     "text": [
      "529it [11:58,  1.31s/it]"
     ]
    },
    {
     "name": "stdout",
     "output_type": "stream",
     "text": [
      "파일이 저장되었습니다: C:/Users/sykim/Desktop/url_blob/pdf_file\\529_BN68-17140A-00_UM_Y23 QLED UHD QD_KR_KOR_230720.0.pdf\n"
     ]
    },
    {
     "name": "stderr",
     "output_type": "stream",
     "text": [
      "530it [12:00,  1.38s/it]"
     ]
    },
    {
     "name": "stdout",
     "output_type": "stream",
     "text": [
      "파일이 저장되었습니다: C:/Users/sykim/Desktop/url_blob/pdf_file\\530_BN68-17140A-00_UM_Y23 QLED UHD QD_KR_KOR_230720.0.pdf\n"
     ]
    },
    {
     "name": "stderr",
     "output_type": "stream",
     "text": [
      "531it [12:02,  1.68s/it]"
     ]
    },
    {
     "name": "stdout",
     "output_type": "stream",
     "text": [
      "파일이 저장되었습니다: C:/Users/sykim/Desktop/url_blob/pdf_file\\531_BN68-17140A-00_UM_Y23 QLED UHD QD_KR_KOR_230720.0.pdf\n"
     ]
    },
    {
     "name": "stderr",
     "output_type": "stream",
     "text": [
      "532it [12:04,  1.59s/it]"
     ]
    },
    {
     "name": "stdout",
     "output_type": "stream",
     "text": [
      "파일이 저장되었습니다: C:/Users/sykim/Desktop/url_blob/pdf_file\\532_BN68-17140A-00_UM_Y23 QLED UHD QD_KR_KOR_230720.0.pdf\n"
     ]
    },
    {
     "name": "stderr",
     "output_type": "stream",
     "text": [
      "533it [12:07,  2.08s/it]"
     ]
    },
    {
     "name": "stdout",
     "output_type": "stream",
     "text": [
      "파일이 저장되었습니다: C:/Users/sykim/Desktop/url_blob/pdf_file\\533_BN68-17140A-00_UM_Y23 QLED UHD QD_KR_KOR_230720.0.pdf\n"
     ]
    },
    {
     "name": "stderr",
     "output_type": "stream",
     "text": [
      "534it [12:09,  2.16s/it]"
     ]
    },
    {
     "name": "stdout",
     "output_type": "stream",
     "text": [
      "파일이 저장되었습니다: C:/Users/sykim/Desktop/url_blob/pdf_file\\534_BN68-17140A-00_UM_Y23 QLED UHD QD_KR_KOR_230720.0.pdf\n"
     ]
    },
    {
     "name": "stderr",
     "output_type": "stream",
     "text": [
      "535it [12:12,  2.43s/it]"
     ]
    },
    {
     "name": "stdout",
     "output_type": "stream",
     "text": [
      "파일이 저장되었습니다: C:/Users/sykim/Desktop/url_blob/pdf_file\\535_BN68-17140A-00_UM_Y23 QLED UHD QD_KR_KOR_230720.0.pdf\n"
     ]
    },
    {
     "name": "stderr",
     "output_type": "stream",
     "text": [
      "536it [12:15,  2.44s/it]"
     ]
    },
    {
     "name": "stdout",
     "output_type": "stream",
     "text": [
      "파일이 저장되었습니다: C:/Users/sykim/Desktop/url_blob/pdf_file\\536_BN68-17140A-00_UM_Y23 QLED UHD QD_KR_KOR_230720.0.pdf\n"
     ]
    },
    {
     "name": "stderr",
     "output_type": "stream",
     "text": [
      "537it [12:16,  2.14s/it]"
     ]
    },
    {
     "name": "stdout",
     "output_type": "stream",
     "text": [
      "파일이 저장되었습니다: C:/Users/sykim/Desktop/url_blob/pdf_file\\537_BN68-17140A-00_UM_Y23 QLED UHD QD_KR_KOR_230720.0.pdf\n"
     ]
    },
    {
     "name": "stderr",
     "output_type": "stream",
     "text": [
      "538it [12:18,  1.96s/it]"
     ]
    },
    {
     "name": "stdout",
     "output_type": "stream",
     "text": [
      "파일이 저장되었습니다: C:/Users/sykim/Desktop/url_blob/pdf_file\\538_BN68-17140A-00_UM_Y23 QLED UHD QD_KR_KOR_230720.0.pdf\n"
     ]
    },
    {
     "name": "stderr",
     "output_type": "stream",
     "text": [
      "539it [12:19,  1.76s/it]"
     ]
    },
    {
     "name": "stdout",
     "output_type": "stream",
     "text": [
      "파일이 저장되었습니다: C:/Users/sykim/Desktop/url_blob/pdf_file\\539_BN68-17140A-00_UM_Y23 QLED UHD QD_KR_KOR_230720.0.pdf\n"
     ]
    },
    {
     "name": "stderr",
     "output_type": "stream",
     "text": [
      "540it [12:21,  1.73s/it]"
     ]
    },
    {
     "name": "stdout",
     "output_type": "stream",
     "text": [
      "파일이 저장되었습니다: C:/Users/sykim/Desktop/url_blob/pdf_file\\540_BN68-17140A-00_UM_Y23 QLED UHD QD_KR_KOR_230720.0.pdf\n"
     ]
    },
    {
     "name": "stderr",
     "output_type": "stream",
     "text": [
      "541it [12:23,  1.85s/it]"
     ]
    },
    {
     "name": "stdout",
     "output_type": "stream",
     "text": [
      "파일이 저장되었습니다: C:/Users/sykim/Desktop/url_blob/pdf_file\\541_BN68-17140A-00_UM_Y23 QLED UHD QD_KR_KOR_230720.0.pdf\n"
     ]
    },
    {
     "name": "stderr",
     "output_type": "stream",
     "text": [
      "542it [12:25,  1.86s/it]"
     ]
    },
    {
     "name": "stdout",
     "output_type": "stream",
     "text": [
      "파일이 저장되었습니다: C:/Users/sykim/Desktop/url_blob/pdf_file\\542_BN68-17140A-00_UM_Y23 QLED UHD QD_KR_KOR_230720.0.pdf\n"
     ]
    },
    {
     "name": "stderr",
     "output_type": "stream",
     "text": [
      "543it [12:28,  2.34s/it]"
     ]
    },
    {
     "name": "stdout",
     "output_type": "stream",
     "text": [
      "파일이 저장되었습니다: C:/Users/sykim/Desktop/url_blob/pdf_file\\543_BN68-17140A-00_UM_Y23 QLED UHD QD_KR_KOR_230720.0.pdf\n"
     ]
    },
    {
     "name": "stderr",
     "output_type": "stream",
     "text": [
      "544it [12:30,  2.22s/it]"
     ]
    },
    {
     "name": "stdout",
     "output_type": "stream",
     "text": [
      "파일이 저장되었습니다: C:/Users/sykim/Desktop/url_blob/pdf_file\\544_BN68-17140A-00_UM_Y23 QLED UHD QD_KR_KOR_230720.0.pdf\n"
     ]
    },
    {
     "name": "stderr",
     "output_type": "stream",
     "text": [
      "545it [12:33,  2.42s/it]"
     ]
    },
    {
     "name": "stdout",
     "output_type": "stream",
     "text": [
      "파일이 저장되었습니다: C:/Users/sykim/Desktop/url_blob/pdf_file\\545_BN68-17140A-00_UM_Y23 QLED UHD QD_KR_KOR_230720.0.pdf\n"
     ]
    },
    {
     "name": "stderr",
     "output_type": "stream",
     "text": [
      "546it [12:36,  2.43s/it]"
     ]
    },
    {
     "name": "stdout",
     "output_type": "stream",
     "text": [
      "파일이 저장되었습니다: C:/Users/sykim/Desktop/url_blob/pdf_file\\546_BN68-17140A-00_UM_Y23 QLED UHD QD_KR_KOR_230720.0.pdf\n"
     ]
    },
    {
     "name": "stderr",
     "output_type": "stream",
     "text": [
      "547it [12:37,  2.29s/it]"
     ]
    },
    {
     "name": "stdout",
     "output_type": "stream",
     "text": [
      "파일이 저장되었습니다: C:/Users/sykim/Desktop/url_blob/pdf_file\\547_BN68-17140A-00_UM_Y23 QLED UHD QD_KR_KOR_230720.0.pdf\n"
     ]
    },
    {
     "name": "stderr",
     "output_type": "stream",
     "text": [
      "548it [12:40,  2.31s/it]"
     ]
    },
    {
     "name": "stdout",
     "output_type": "stream",
     "text": [
      "파일이 저장되었습니다: C:/Users/sykim/Desktop/url_blob/pdf_file\\548_BN68-17140A-00_UM_Y23 QLED UHD QD_KR_KOR_230720.0.pdf\n"
     ]
    },
    {
     "name": "stderr",
     "output_type": "stream",
     "text": [
      "549it [12:42,  2.26s/it]"
     ]
    },
    {
     "name": "stdout",
     "output_type": "stream",
     "text": [
      "파일이 저장되었습니다: C:/Users/sykim/Desktop/url_blob/pdf_file\\549_BN68-17140A-00_UM_Y23 QLED UHD QD_KR_KOR_230720.0.pdf\n"
     ]
    },
    {
     "name": "stderr",
     "output_type": "stream",
     "text": [
      "550it [12:44,  2.07s/it]"
     ]
    },
    {
     "name": "stdout",
     "output_type": "stream",
     "text": [
      "파일이 저장되었습니다: C:/Users/sykim/Desktop/url_blob/pdf_file\\550_BN68-17140A-00_UM_Y23 QLED UHD QD_KR_KOR_230720.0.pdf\n"
     ]
    },
    {
     "name": "stderr",
     "output_type": "stream",
     "text": [
      "551it [12:46,  2.25s/it]"
     ]
    },
    {
     "name": "stdout",
     "output_type": "stream",
     "text": [
      "파일이 저장되었습니다: C:/Users/sykim/Desktop/url_blob/pdf_file\\551_BN68-17140A-00_UM_Y23 QLED UHD QD_KR_KOR_230720.0.pdf\n"
     ]
    },
    {
     "name": "stderr",
     "output_type": "stream",
     "text": [
      "552it [12:48,  2.15s/it]"
     ]
    },
    {
     "name": "stdout",
     "output_type": "stream",
     "text": [
      "파일이 저장되었습니다: C:/Users/sykim/Desktop/url_blob/pdf_file\\552_BN68-17140A-00_UM_Y23 QLED UHD QD_KR_KOR_230720.0.pdf\n"
     ]
    },
    {
     "name": "stderr",
     "output_type": "stream",
     "text": [
      "553it [12:50,  2.06s/it]"
     ]
    },
    {
     "name": "stdout",
     "output_type": "stream",
     "text": [
      "파일이 저장되었습니다: C:/Users/sykim/Desktop/url_blob/pdf_file\\553_BN68-17140A-00_UM_Y23 QLED UHD QD_KR_KOR_230720.0.pdf\n"
     ]
    },
    {
     "name": "stderr",
     "output_type": "stream",
     "text": [
      "554it [12:52,  1.91s/it]"
     ]
    },
    {
     "name": "stdout",
     "output_type": "stream",
     "text": [
      "파일이 저장되었습니다: C:/Users/sykim/Desktop/url_blob/pdf_file\\554_BN68-17140A-00_UM_Y23 QLED UHD QD_KR_KOR_230720.0.pdf\n"
     ]
    },
    {
     "name": "stderr",
     "output_type": "stream",
     "text": [
      "555it [12:54,  2.10s/it]"
     ]
    },
    {
     "name": "stdout",
     "output_type": "stream",
     "text": [
      "파일이 저장되었습니다: C:/Users/sykim/Desktop/url_blob/pdf_file\\555_BN68-17140A-00_UM_Y23 QLED UHD QD_KR_KOR_230720.0.pdf\n"
     ]
    },
    {
     "name": "stderr",
     "output_type": "stream",
     "text": [
      "556it [12:56,  2.10s/it]"
     ]
    },
    {
     "name": "stdout",
     "output_type": "stream",
     "text": [
      "파일이 저장되었습니다: C:/Users/sykim/Desktop/url_blob/pdf_file\\556_BN68-17140A-00_UM_Y23 QLED UHD QD_KR_KOR_230720.0.pdf\n"
     ]
    },
    {
     "name": "stderr",
     "output_type": "stream",
     "text": [
      "557it [13:02,  3.14s/it]"
     ]
    },
    {
     "name": "stdout",
     "output_type": "stream",
     "text": [
      "파일이 저장되었습니다: C:/Users/sykim/Desktop/url_blob/pdf_file\\557_BN68-17140A-00_UM_Y23 QLED UHD QD_KR_KOR_230720.0.pdf\n"
     ]
    },
    {
     "name": "stderr",
     "output_type": "stream",
     "text": [
      "558it [13:03,  2.61s/it]"
     ]
    },
    {
     "name": "stdout",
     "output_type": "stream",
     "text": [
      "파일이 저장되었습니다: C:/Users/sykim/Desktop/url_blob/pdf_file\\558_BN68-17140A-00_UM_Y23 QLED UHD QD_KR_KOR_230720.0.pdf\n"
     ]
    },
    {
     "name": "stderr",
     "output_type": "stream",
     "text": [
      "559it [13:05,  2.24s/it]"
     ]
    },
    {
     "name": "stdout",
     "output_type": "stream",
     "text": [
      "파일이 저장되었습니다: C:/Users/sykim/Desktop/url_blob/pdf_file\\559_BN68-17140A-00_UM_Y23 QLED UHD QD_KR_KOR_230720.0.pdf\n"
     ]
    },
    {
     "name": "stderr",
     "output_type": "stream",
     "text": [
      "560it [13:06,  1.94s/it]"
     ]
    },
    {
     "name": "stdout",
     "output_type": "stream",
     "text": [
      "파일이 저장되었습니다: C:/Users/sykim/Desktop/url_blob/pdf_file\\560_BN68-17140A-00_UM_Y23 QLED UHD QD_KR_KOR_230720.0.pdf\n"
     ]
    },
    {
     "name": "stderr",
     "output_type": "stream",
     "text": [
      "561it [13:08,  2.06s/it]"
     ]
    },
    {
     "name": "stdout",
     "output_type": "stream",
     "text": [
      "파일이 저장되었습니다: C:/Users/sykim/Desktop/url_blob/pdf_file\\561_BN68-17140A-00_UM_Y23 QLED UHD QD_KR_KOR_230720.0.pdf\n"
     ]
    },
    {
     "name": "stderr",
     "output_type": "stream",
     "text": [
      "562it [13:10,  2.12s/it]"
     ]
    },
    {
     "name": "stdout",
     "output_type": "stream",
     "text": [
      "파일이 저장되었습니다: C:/Users/sykim/Desktop/url_blob/pdf_file\\562_BN68-17140A-00_UM_Y23 QLED UHD QD_KR_KOR_230720.0.pdf\n"
     ]
    },
    {
     "name": "stderr",
     "output_type": "stream",
     "text": [
      "563it [13:13,  2.13s/it]"
     ]
    },
    {
     "name": "stdout",
     "output_type": "stream",
     "text": [
      "파일이 저장되었습니다: C:/Users/sykim/Desktop/url_blob/pdf_file\\563_BN68-17140A-00_UM_Y23 QLED UHD QD_KR_KOR_230720.0.pdf\n"
     ]
    },
    {
     "name": "stderr",
     "output_type": "stream",
     "text": [
      "564it [13:15,  2.13s/it]"
     ]
    },
    {
     "name": "stdout",
     "output_type": "stream",
     "text": [
      "파일이 저장되었습니다: C:/Users/sykim/Desktop/url_blob/pdf_file\\564_BN68-17140A-00_UM_Y23 QLED UHD QD_KR_KOR_230720.0.pdf\n"
     ]
    },
    {
     "name": "stderr",
     "output_type": "stream",
     "text": [
      "565it [13:17,  2.20s/it]"
     ]
    },
    {
     "name": "stdout",
     "output_type": "stream",
     "text": [
      "파일이 저장되었습니다: C:/Users/sykim/Desktop/url_blob/pdf_file\\565_BN68-17140A-00_UM_Y23 QLED UHD QD_KR_KOR_230720.0.pdf\n"
     ]
    },
    {
     "name": "stderr",
     "output_type": "stream",
     "text": [
      "566it [13:19,  2.00s/it]"
     ]
    },
    {
     "name": "stdout",
     "output_type": "stream",
     "text": [
      "파일이 저장되었습니다: C:/Users/sykim/Desktop/url_blob/pdf_file\\566_BN68-17140A-00_UM_Y23 QLED UHD QD_KR_KOR_230720.0.pdf\n"
     ]
    },
    {
     "name": "stderr",
     "output_type": "stream",
     "text": [
      "567it [13:21,  2.01s/it]"
     ]
    },
    {
     "name": "stdout",
     "output_type": "stream",
     "text": [
      "파일이 저장되었습니다: C:/Users/sykim/Desktop/url_blob/pdf_file\\567_BN68-17140A-00_UM_Y23 QLED UHD QD_KR_KOR_230720.0.pdf\n"
     ]
    },
    {
     "name": "stderr",
     "output_type": "stream",
     "text": [
      "568it [13:23,  2.22s/it]"
     ]
    },
    {
     "name": "stdout",
     "output_type": "stream",
     "text": [
      "파일이 저장되었습니다: C:/Users/sykim/Desktop/url_blob/pdf_file\\568_BN68-17140A-00_UM_Y23 QLED UHD QD_KR_KOR_230720.0.pdf\n"
     ]
    },
    {
     "name": "stderr",
     "output_type": "stream",
     "text": [
      "569it [13:25,  2.16s/it]"
     ]
    },
    {
     "name": "stdout",
     "output_type": "stream",
     "text": [
      "파일이 저장되었습니다: C:/Users/sykim/Desktop/url_blob/pdf_file\\569_BN68-17140A-00_UM_Y23 QLED UHD QD_KR_KOR_230720.0.pdf\n"
     ]
    },
    {
     "name": "stderr",
     "output_type": "stream",
     "text": [
      "570it [13:28,  2.29s/it]"
     ]
    },
    {
     "name": "stdout",
     "output_type": "stream",
     "text": [
      "파일이 저장되었습니다: C:/Users/sykim/Desktop/url_blob/pdf_file\\570_DE68-04727A-01_MI_MG_MW7300B_MC32B7388LE_KO_230731.pdf\n"
     ]
    },
    {
     "name": "stderr",
     "output_type": "stream",
     "text": [
      "571it [13:30,  2.19s/it]"
     ]
    },
    {
     "name": "stdout",
     "output_type": "stream",
     "text": [
      "파일이 저장되었습니다: C:/Users/sykim/Desktop/url_blob/pdf_file\\571_BN68-17147A-01_QSG_S90C 77-83inch_WW_L10_230720.0.pdf\n"
     ]
    },
    {
     "name": "stderr",
     "output_type": "stream",
     "text": [
      "572it [13:32,  2.23s/it]"
     ]
    },
    {
     "name": "stdout",
     "output_type": "stream",
     "text": [
      "파일이 저장되었습니다: C:/Users/sykim/Desktop/url_blob/pdf_file\\572_BN68-17147A-01_QSG_S90C 77-83inch_WW_L10_230720.0.pdf\n"
     ]
    },
    {
     "name": "stderr",
     "output_type": "stream",
     "text": [
      "573it [13:39,  3.51s/it]"
     ]
    },
    {
     "name": "stdout",
     "output_type": "stream",
     "text": [
      "파일이 저장되었습니다: C:/Users/sykim/Desktop/url_blob/pdf_file\\573_FTP_sFTP_Utility_Scan_Setting_Guide.pdf\n"
     ]
    },
    {
     "name": "stderr",
     "output_type": "stream",
     "text": [
      "574it [13:43,  3.73s/it]"
     ]
    },
    {
     "name": "stdout",
     "output_type": "stream",
     "text": [
      "파일이 저장되었습니다: C:/Users/sykim/Desktop/url_blob/pdf_file\\574_FTP_sFTP_Utility_Scan_Setting_Guide.pdf\n"
     ]
    },
    {
     "name": "stderr",
     "output_type": "stream",
     "text": [
      "575it [13:44,  2.94s/it]"
     ]
    },
    {
     "name": "stdout",
     "output_type": "stream",
     "text": [
      "파일이 저장되었습니다: C:/Users/sykim/Desktop/url_blob/pdf_file\\575_BN68-14385A-01_QSG_LS01B_WW_L06_220311.0.pdf\n"
     ]
    },
    {
     "name": "stderr",
     "output_type": "stream",
     "text": [
      "576it [13:46,  2.65s/it]"
     ]
    },
    {
     "name": "stdout",
     "output_type": "stream",
     "text": [
      "파일이 저장되었습니다: C:/Users/sykim/Desktop/url_blob/pdf_file\\576_BN68-13898A-01_Leaflet-Remote_QLED LS03_KR_KOR_220304.0.pdf\n"
     ]
    },
    {
     "name": "stderr",
     "output_type": "stream",
     "text": [
      "577it [13:48,  2.43s/it]"
     ]
    },
    {
     "name": "stdout",
     "output_type": "stream",
     "text": [
      "파일이 저장되었습니다: C:/Users/sykim/Desktop/url_blob/pdf_file\\577_BN68-14347A-02_UM_QBLS01BA_KR_KOR_220621.0.pdf\n"
     ]
    },
    {
     "name": "stderr",
     "output_type": "stream",
     "text": [
      "578it [13:49,  2.15s/it]"
     ]
    },
    {
     "name": "stdout",
     "output_type": "stream",
     "text": [
      "파일이 저장되었습니다: C:/Users/sykim/Desktop/url_blob/pdf_file\\578_BN68-17178H-00_QSG_S90C 55-65inch_WW_L10_230721.0.pdf\n"
     ]
    },
    {
     "name": "stderr",
     "output_type": "stream",
     "text": [
      "579it [13:51,  1.84s/it]"
     ]
    },
    {
     "name": "stdout",
     "output_type": "stream",
     "text": [
      "파일이 저장되었습니다: C:/Users/sykim/Desktop/url_blob/pdf_file\\579_BN68-17178H-00_QSG_S90C 55-65inch_WW_L10_230721.0.pdf\n"
     ]
    },
    {
     "name": "stderr",
     "output_type": "stream",
     "text": [
      "580it [13:52,  1.65s/it]"
     ]
    },
    {
     "name": "stdout",
     "output_type": "stream",
     "text": [
      "파일이 저장되었습니다: C:/Users/sykim/Desktop/url_blob/pdf_file\\580_BN68-15699A-01_Leaflet-Remote_Y23 QLED QD UC8 LSC03_KR_KOR_230609.0.pdf\n"
     ]
    },
    {
     "name": "stderr",
     "output_type": "stream",
     "text": [
      "581it [13:54,  1.78s/it]"
     ]
    },
    {
     "name": "stdout",
     "output_type": "stream",
     "text": [
      "파일이 저장되었습니다: C:/Users/sykim/Desktop/url_blob/pdf_file\\581_BN68-17140A-00_UM_Y23 QLED UHD QD_KR_KOR_230720.0.pdf\n"
     ]
    },
    {
     "name": "stderr",
     "output_type": "stream",
     "text": [
      "582it [13:57,  2.18s/it]"
     ]
    },
    {
     "name": "stdout",
     "output_type": "stream",
     "text": [
      "파일이 저장되었습니다: C:/Users/sykim/Desktop/url_blob/pdf_file\\582_BN68-17178H-00_QSG_S90C 55-65inch_WW_L10_230721.0.pdf\n"
     ]
    },
    {
     "name": "stderr",
     "output_type": "stream",
     "text": [
      "583it [13:59,  2.22s/it]"
     ]
    },
    {
     "name": "stdout",
     "output_type": "stream",
     "text": [
      "파일이 저장되었습니다: C:/Users/sykim/Desktop/url_blob/pdf_file\\583_BN68-17140A-00_UM_Y23 QLED UHD QD_KR_KOR_230720.0.pdf\n"
     ]
    },
    {
     "name": "stderr",
     "output_type": "stream",
     "text": [
      "584it [14:03,  2.67s/it]"
     ]
    },
    {
     "name": "stdout",
     "output_type": "stream",
     "text": [
      "파일이 저장되었습니다: C:/Users/sykim/Desktop/url_blob/pdf_file\\584_BN68-17147A-01_QSG_S90C 77-83inch_WW_L10_230720.0.pdf\n"
     ]
    },
    {
     "name": "stderr",
     "output_type": "stream",
     "text": [
      "585it [14:04,  2.11s/it]"
     ]
    },
    {
     "name": "stdout",
     "output_type": "stream",
     "text": [
      "파일이 저장되었습니다: C:/Users/sykim/Desktop/url_blob/pdf_file\\585_BN68-15699A-01_Leaflet-Remote_Y23 QLED QD UC8 LSC03_KR_KOR_230609.0.pdf\n"
     ]
    },
    {
     "name": "stderr",
     "output_type": "stream",
     "text": [
      "586it [14:06,  2.17s/it]"
     ]
    },
    {
     "name": "stdout",
     "output_type": "stream",
     "text": [
      "파일이 저장되었습니다: C:/Users/sykim/Desktop/url_blob/pdf_file\\586_201208__MW5300A_DE68-04661A_Domestic_MG23A5378CC.pdf\n"
     ]
    },
    {
     "name": "stderr",
     "output_type": "stream",
     "text": [
      "587it [14:07,  1.88s/it]"
     ]
    },
    {
     "name": "stdout",
     "output_type": "stream",
     "text": [
      "파일이 저장되었습니다: C:/Users/sykim/Desktop/url_blob/pdf_file\\587_BN68-17565A-00_SUG_Y24 QLED UHD QD LS03_KR_KOR_231204.0.pdf\n"
     ]
    },
    {
     "name": "stderr",
     "output_type": "stream",
     "text": [
      "588it [14:09,  1.76s/it]"
     ]
    },
    {
     "name": "stdout",
     "output_type": "stream",
     "text": [
      "파일이 저장되었습니다: C:/Users/sykim/Desktop/url_blob/pdf_file\\588_BN68-18068A-00_RG_Y24 QLED QD DU8 LS03_KR_KOR_231204.0.pdf\n"
     ]
    },
    {
     "name": "stderr",
     "output_type": "stream",
     "text": [
      "589it [14:10,  1.55s/it]"
     ]
    },
    {
     "name": "stdout",
     "output_type": "stream",
     "text": [
      "파일이 저장되었습니다: C:/Users/sykim/Desktop/url_blob/pdf_file\\589_BN68-18068A-00_RG_Y24 QLED QD DU8 LS03_KR_KOR_231204.0.pdf\n"
     ]
    },
    {
     "name": "stderr",
     "output_type": "stream",
     "text": [
      "590it [14:12,  1.65s/it]"
     ]
    },
    {
     "name": "stdout",
     "output_type": "stream",
     "text": [
      "파일이 저장되었습니다: C:/Users/sykim/Desktop/url_blob/pdf_file\\590_BN68-17565A-00_SUG_Y24 QLED UHD QD LS03_KR_KOR_231204.0.pdf\n"
     ]
    },
    {
     "name": "stderr",
     "output_type": "stream",
     "text": [
      "591it [14:13,  1.61s/it]"
     ]
    },
    {
     "name": "stdout",
     "output_type": "stream",
     "text": [
      "파일이 저장되었습니다: C:/Users/sykim/Desktop/url_blob/pdf_file\\591_BN68-18068A-00_RG_Y24 QLED QD DU8 LS03_KR_KOR_231204.0.pdf\n"
     ]
    },
    {
     "name": "stderr",
     "output_type": "stream",
     "text": [
      "592it [14:14,  1.37s/it]"
     ]
    },
    {
     "name": "stdout",
     "output_type": "stream",
     "text": [
      "파일이 저장되었습니다: C:/Users/sykim/Desktop/url_blob/pdf_file\\592_BN68-17565A-00_SUG_Y24 QLED UHD QD LS03_KR_KOR_231204.0.pdf\n"
     ]
    },
    {
     "name": "stderr",
     "output_type": "stream",
     "text": [
      "593it [14:15,  1.21s/it]"
     ]
    },
    {
     "name": "stdout",
     "output_type": "stream",
     "text": [
      "파일이 저장되었습니다: C:/Users/sykim/Desktop/url_blob/pdf_file\\593_BN68-17565A-00_SUG_Y24 QLED UHD QD LS03_KR_KOR_231204.0.pdf\n"
     ]
    },
    {
     "name": "stderr",
     "output_type": "stream",
     "text": [
      "594it [14:15,  1.02it/s]"
     ]
    },
    {
     "name": "stdout",
     "output_type": "stream",
     "text": [
      "파일이 저장되었습니다: C:/Users/sykim/Desktop/url_blob/pdf_file\\594_BN68-18068A-00_RG_Y24 QLED QD DU8 LS03_KR_KOR_231204.0.pdf\n"
     ]
    },
    {
     "name": "stderr",
     "output_type": "stream",
     "text": [
      "595it [14:16,  1.10it/s]"
     ]
    },
    {
     "name": "stdout",
     "output_type": "stream",
     "text": [
      "파일이 저장되었습니다: C:/Users/sykim/Desktop/url_blob/pdf_file\\595_BN68-18068A-00_RG_Y24 QLED QD DU8 LS03_KR_KOR_231204.0.pdf\n"
     ]
    },
    {
     "name": "stderr",
     "output_type": "stream",
     "text": [
      "596it [14:17,  1.08it/s]"
     ]
    },
    {
     "name": "stdout",
     "output_type": "stream",
     "text": [
      "파일이 저장되었습니다: C:/Users/sykim/Desktop/url_blob/pdf_file\\596_BN68-17565A-00_SUG_Y24 QLED UHD QD LS03_KR_KOR_231204.0.pdf\n"
     ]
    },
    {
     "name": "stderr",
     "output_type": "stream",
     "text": [
      "597it [14:18,  1.17it/s]"
     ]
    },
    {
     "name": "stdout",
     "output_type": "stream",
     "text": [
      "파일이 저장되었습니다: C:/Users/sykim/Desktop/url_blob/pdf_file\\597_BN68-18068A-00_RG_Y24 QLED QD DU8 LS03_KR_KOR_231204.0.pdf\n"
     ]
    },
    {
     "name": "stderr",
     "output_type": "stream",
     "text": [
      "598it [14:18,  1.25it/s]"
     ]
    },
    {
     "name": "stdout",
     "output_type": "stream",
     "text": [
      "파일이 저장되었습니다: C:/Users/sykim/Desktop/url_blob/pdf_file\\598_BN68-17565A-00_SUG_Y24 QLED UHD QD LS03_KR_KOR_231204.0.pdf\n"
     ]
    },
    {
     "name": "stderr",
     "output_type": "stream",
     "text": [
      "599it [14:19,  1.25it/s]"
     ]
    },
    {
     "name": "stdout",
     "output_type": "stream",
     "text": [
      "파일이 저장되었습니다: C:/Users/sykim/Desktop/url_blob/pdf_file\\599_BN68-18053A-00_IG_Y23 S95C Y24 S95D 55-65inch_WW_L10_231214.1.pdf\n"
     ]
    },
    {
     "name": "stderr",
     "output_type": "stream",
     "text": [
      "600it [14:20,  1.21it/s]"
     ]
    },
    {
     "name": "stdout",
     "output_type": "stream",
     "text": [
      "파일이 저장되었습니다: C:/Users/sykim/Desktop/url_blob/pdf_file\\600_BN68-18068A-00_RG_Y24 QLED QD DU8 LS03_KR_KOR_231204.0.pdf\n"
     ]
    },
    {
     "name": "stderr",
     "output_type": "stream",
     "text": [
      "601it [14:22,  1.12s/it]"
     ]
    },
    {
     "name": "stdout",
     "output_type": "stream",
     "text": [
      "파일이 저장되었습니다: C:/Users/sykim/Desktop/url_blob/pdf_file\\601_BN68-17565A-00_SUG_Y24 QLED UHD QD LS03_KR_KOR_231204.0.pdf\n"
     ]
    },
    {
     "name": "stderr",
     "output_type": "stream",
     "text": [
      "602it [14:25,  1.71s/it]"
     ]
    },
    {
     "name": "stdout",
     "output_type": "stream",
     "text": [
      "파일이 저장되었습니다: C:/Users/sykim/Desktop/url_blob/pdf_file\\602_BN68-18040A-00_IG_S90D 55-65inch_WW_L10_231211.0.pdf\n"
     ]
    },
    {
     "name": "stderr",
     "output_type": "stream",
     "text": [
      "603it [14:27,  1.87s/it]"
     ]
    },
    {
     "name": "stdout",
     "output_type": "stream",
     "text": [
      "파일이 저장되었습니다: C:/Users/sykim/Desktop/url_blob/pdf_file\\603_BN68-18068A-00_RG_Y24 QLED QD DU8 LS03_KR_KOR_231204.0.pdf\n"
     ]
    },
    {
     "name": "stderr",
     "output_type": "stream",
     "text": [
      "604it [14:28,  1.46s/it]"
     ]
    },
    {
     "name": "stdout",
     "output_type": "stream",
     "text": [
      "파일이 저장되었습니다: C:/Users/sykim/Desktop/url_blob/pdf_file\\604_BN68-17565A-00_SUG_Y24 QLED UHD QD LS03_KR_KOR_231204.0.pdf\n"
     ]
    },
    {
     "name": "stderr",
     "output_type": "stream",
     "text": [
      "605it [14:29,  1.30s/it]"
     ]
    },
    {
     "name": "stdout",
     "output_type": "stream",
     "text": [
      "파일이 저장되었습니다: C:/Users/sykim/Desktop/url_blob/pdf_file\\605_BN68-18040A-00_IG_S90D 55-65inch_WW_L10_231211.0.pdf\n"
     ]
    },
    {
     "name": "stderr",
     "output_type": "stream",
     "text": [
      "606it [14:29,  1.17s/it]"
     ]
    },
    {
     "name": "stdout",
     "output_type": "stream",
     "text": [
      "파일이 저장되었습니다: C:/Users/sykim/Desktop/url_blob/pdf_file\\606_BN68-17565A-00_SUG_Y24 QLED UHD QD LS03_KR_KOR_231204.0.pdf\n"
     ]
    },
    {
     "name": "stderr",
     "output_type": "stream",
     "text": [
      "607it [14:30,  1.02it/s]"
     ]
    },
    {
     "name": "stdout",
     "output_type": "stream",
     "text": [
      "파일이 저장되었습니다: C:/Users/sykim/Desktop/url_blob/pdf_file\\607_BN68-18068A-00_RG_Y24 QLED QD DU8 LS03_KR_KOR_231204.0.pdf\n"
     ]
    },
    {
     "name": "stderr",
     "output_type": "stream",
     "text": [
      "608it [14:31,  1.04s/it]"
     ]
    },
    {
     "name": "stdout",
     "output_type": "stream",
     "text": [
      "파일이 저장되었습니다: C:/Users/sykim/Desktop/url_blob/pdf_file\\608_BN68-18068A-00_RG_Y24 QLED QD DU8 LS03_KR_KOR_231204.0.pdf\n"
     ]
    },
    {
     "name": "stderr",
     "output_type": "stream",
     "text": [
      "609it [14:34,  1.53s/it]"
     ]
    },
    {
     "name": "stdout",
     "output_type": "stream",
     "text": [
      "파일이 저장되었습니다: C:/Users/sykim/Desktop/url_blob/pdf_file\\609_BN68-17565A-00_SUG_Y24 QLED UHD QD LS03_KR_KOR_231204.0.pdf\n"
     ]
    },
    {
     "name": "stderr",
     "output_type": "stream",
     "text": [
      "610it [14:35,  1.44s/it]"
     ]
    },
    {
     "name": "stdout",
     "output_type": "stream",
     "text": [
      "파일이 저장되었습니다: C:/Users/sykim/Desktop/url_blob/pdf_file\\610_BN68-18042A-00_IG_Y23 QN95C Y24 QN95D 55-65inch_WW_L10_231228.0.pdf\n"
     ]
    },
    {
     "name": "stderr",
     "output_type": "stream",
     "text": [
      "611it [14:36,  1.31s/it]"
     ]
    },
    {
     "name": "stdout",
     "output_type": "stream",
     "text": [
      "파일이 저장되었습니다: C:/Users/sykim/Desktop/url_blob/pdf_file\\611_BN68-17565A-00_SUG_Y24 QLED UHD QD LS03_KR_KOR_231204.0.pdf\n"
     ]
    },
    {
     "name": "stderr",
     "output_type": "stream",
     "text": [
      "612it [14:37,  1.17s/it]"
     ]
    },
    {
     "name": "stdout",
     "output_type": "stream",
     "text": [
      "파일이 저장되었습니다: C:/Users/sykim/Desktop/url_blob/pdf_file\\612_BN68-18068A-00_RG_Y24 QLED QD DU8 LS03_KR_KOR_231204.0.pdf\n"
     ]
    },
    {
     "name": "stderr",
     "output_type": "stream",
     "text": [
      "613it [14:38,  1.27s/it]"
     ]
    },
    {
     "name": "stdout",
     "output_type": "stream",
     "text": [
      "파일이 저장되었습니다: C:/Users/sykim/Desktop/url_blob/pdf_file\\613_BN68-18053A-00_IG_Y23 S95C Y24 S95D 55-65inch_WW_L10_231214.1.pdf\n"
     ]
    },
    {
     "name": "stderr",
     "output_type": "stream",
     "text": [
      "614it [14:39,  1.15s/it]"
     ]
    },
    {
     "name": "stdout",
     "output_type": "stream",
     "text": [
      "파일이 저장되었습니다: C:/Users/sykim/Desktop/url_blob/pdf_file\\614_BN68-17565A-00_SUG_Y24 QLED UHD QD LS03_KR_KOR_231204.0.pdf\n"
     ]
    },
    {
     "name": "stderr",
     "output_type": "stream",
     "text": [
      "615it [14:40,  1.00s/it]"
     ]
    },
    {
     "name": "stdout",
     "output_type": "stream",
     "text": [
      "파일이 저장되었습니다: C:/Users/sykim/Desktop/url_blob/pdf_file\\615_BN68-18068A-00_RG_Y24 QLED QD DU8 LS03_KR_KOR_231204.0.pdf\n"
     ]
    },
    {
     "name": "stderr",
     "output_type": "stream",
     "text": [
      "616it [14:41,  1.13it/s]"
     ]
    },
    {
     "name": "stdout",
     "output_type": "stream",
     "text": [
      "파일이 저장되었습니다: C:/Users/sykim/Desktop/url_blob/pdf_file\\616_BN68-17565A-00_SUG_Y24 QLED UHD QD LS03_KR_KOR_231204.0.pdf\n"
     ]
    },
    {
     "name": "stderr",
     "output_type": "stream",
     "text": [
      "617it [14:41,  1.40it/s]"
     ]
    },
    {
     "name": "stdout",
     "output_type": "stream",
     "text": [
      "파일이 저장되었습니다: C:/Users/sykim/Desktop/url_blob/pdf_file\\617_BN68-18068A-00_RG_Y24 QLED QD DU8 LS03_KR_KOR_231204.0.pdf\n"
     ]
    },
    {
     "name": "stderr",
     "output_type": "stream",
     "text": [
      "618it [14:42,  1.08it/s]"
     ]
    },
    {
     "name": "stdout",
     "output_type": "stream",
     "text": [
      "파일이 저장되었습니다: C:/Users/sykim/Desktop/url_blob/pdf_file\\618_BN68-18042A-00_IG_Y23 QN95C Y24 QN95D 55-65inch_WW_L10_231228.0.pdf\n"
     ]
    },
    {
     "name": "stderr",
     "output_type": "stream",
     "text": [
      "619it [14:43,  1.01it/s]"
     ]
    },
    {
     "name": "stdout",
     "output_type": "stream",
     "text": [
      "파일이 저장되었습니다: C:/Users/sykim/Desktop/url_blob/pdf_file\\619_BN68-17565A-00_SUG_Y24 QLED UHD QD LS03_KR_KOR_231204.0.pdf\n"
     ]
    },
    {
     "name": "stderr",
     "output_type": "stream",
     "text": [
      "620it [14:44,  1.02it/s]"
     ]
    },
    {
     "name": "stdout",
     "output_type": "stream",
     "text": [
      "파일이 저장되었습니다: C:/Users/sykim/Desktop/url_blob/pdf_file\\620_BN68-18068A-00_RG_Y24 QLED QD DU8 LS03_KR_KOR_231204.0.pdf\n"
     ]
    },
    {
     "name": "stderr",
     "output_type": "stream",
     "text": [
      "621it [14:46,  1.16s/it]"
     ]
    },
    {
     "name": "stdout",
     "output_type": "stream",
     "text": [
      "파일이 저장되었습니다: C:/Users/sykim/Desktop/url_blob/pdf_file\\621_BN68-17565A-00_SUG_Y24 QLED UHD QD LS03_KR_KOR_231204.0.pdf\n"
     ]
    },
    {
     "name": "stderr",
     "output_type": "stream",
     "text": [
      "622it [14:47,  1.03s/it]"
     ]
    },
    {
     "name": "stdout",
     "output_type": "stream",
     "text": [
      "파일이 저장되었습니다: C:/Users/sykim/Desktop/url_blob/pdf_file\\622_BN68-18068A-00_RG_Y24 QLED QD DU8 LS03_KR_KOR_231204.0.pdf\n"
     ]
    },
    {
     "name": "stderr",
     "output_type": "stream",
     "text": [
      "623it [14:48,  1.01it/s]"
     ]
    },
    {
     "name": "stdout",
     "output_type": "stream",
     "text": [
      "파일이 저장되었습니다: C:/Users/sykim/Desktop/url_blob/pdf_file\\623_BN68-18068A-00_RG_Y24 QLED QD DU8 LS03_KR_KOR_231204.0.pdf\n"
     ]
    },
    {
     "name": "stderr",
     "output_type": "stream",
     "text": [
      "624it [14:49,  1.07s/it]"
     ]
    },
    {
     "name": "stdout",
     "output_type": "stream",
     "text": [
      "파일이 저장되었습니다: C:/Users/sykim/Desktop/url_blob/pdf_file\\624_BN68-17565A-00_SUG_Y24 QLED UHD QD LS03_KR_KOR_231204.0.pdf\n"
     ]
    },
    {
     "name": "stderr",
     "output_type": "stream",
     "text": [
      "625it [14:50,  1.11s/it]"
     ]
    },
    {
     "name": "stdout",
     "output_type": "stream",
     "text": [
      "파일이 저장되었습니다: C:/Users/sykim/Desktop/url_blob/pdf_file\\625_BN68-18046A-00_IG_QN80D 55-65inch_WW_L10_231220.0.pdf\n"
     ]
    },
    {
     "name": "stderr",
     "output_type": "stream",
     "text": [
      "626it [14:51,  1.06s/it]"
     ]
    },
    {
     "name": "stdout",
     "output_type": "stream",
     "text": [
      "파일이 저장되었습니다: C:/Users/sykim/Desktop/url_blob/pdf_file\\626_BN68-17565A-00_SUG_Y24 QLED UHD QD LS03_KR_KOR_231204.0.pdf\n"
     ]
    },
    {
     "name": "stderr",
     "output_type": "stream",
     "text": [
      "627it [14:52,  1.07it/s]"
     ]
    },
    {
     "name": "stdout",
     "output_type": "stream",
     "text": [
      "파일이 저장되었습니다: C:/Users/sykim/Desktop/url_blob/pdf_file\\627_BN68-18068A-00_RG_Y24 QLED QD DU8 LS03_KR_KOR_231204.0.pdf\n"
     ]
    },
    {
     "name": "stderr",
     "output_type": "stream",
     "text": [
      "628it [14:54,  1.31s/it]"
     ]
    },
    {
     "name": "stdout",
     "output_type": "stream",
     "text": [
      "파일이 저장되었습니다: C:/Users/sykim/Desktop/url_blob/pdf_file\\628_BN68-17565A-00_SUG_Y24 QLED UHD QD LS03_KR_KOR_231204.0.pdf\n"
     ]
    },
    {
     "name": "stderr",
     "output_type": "stream",
     "text": [
      "629it [14:54,  1.04s/it]"
     ]
    },
    {
     "name": "stdout",
     "output_type": "stream",
     "text": [
      "파일이 저장되었습니다: C:/Users/sykim/Desktop/url_blob/pdf_file\\629_BN68-18068A-00_RG_Y24 QLED QD DU8 LS03_KR_KOR_231204.0.pdf\n"
     ]
    },
    {
     "name": "stderr",
     "output_type": "stream",
     "text": [
      "630it [14:55,  1.06it/s]"
     ]
    },
    {
     "name": "stdout",
     "output_type": "stream",
     "text": [
      "파일이 저장되었습니다: C:/Users/sykim/Desktop/url_blob/pdf_file\\630_BN68-18097A-00_IG_Y23 QN700C 800C 900C Y24 QN800D 55-65inch_WW_L10_231214.1.pdf\n"
     ]
    },
    {
     "name": "stderr",
     "output_type": "stream",
     "text": [
      "631it [14:56,  1.19it/s]"
     ]
    },
    {
     "name": "stdout",
     "output_type": "stream",
     "text": [
      "파일이 저장되었습니다: C:/Users/sykim/Desktop/url_blob/pdf_file\\631_BN68-18068A-00_RG_Y24 QLED QD DU8 LS03_KR_KOR_231204.0.pdf\n"
     ]
    },
    {
     "name": "stderr",
     "output_type": "stream",
     "text": [
      "632it [14:57,  1.07s/it]"
     ]
    },
    {
     "name": "stdout",
     "output_type": "stream",
     "text": [
      "파일이 저장되었습니다: C:/Users/sykim/Desktop/url_blob/pdf_file\\632_BN68-18099A-00_IG_Y23 QN700C 800C 900C Y24 QN800D 75-85inch_WW_L10_231214.1.pdf\n"
     ]
    },
    {
     "name": "stderr",
     "output_type": "stream",
     "text": [
      "633it [14:59,  1.17s/it]"
     ]
    },
    {
     "name": "stdout",
     "output_type": "stream",
     "text": [
      "파일이 저장되었습니다: C:/Users/sykim/Desktop/url_blob/pdf_file\\633_BN68-17565A-00_SUG_Y24 QLED UHD QD LS03_KR_KOR_231204.0.pdf\n"
     ]
    },
    {
     "name": "stderr",
     "output_type": "stream",
     "text": [
      "634it [14:59,  1.07s/it]"
     ]
    },
    {
     "name": "stdout",
     "output_type": "stream",
     "text": [
      "파일이 저장되었습니다: C:/Users/sykim/Desktop/url_blob/pdf_file\\634_BN68-17565A-00_SUG_Y24 QLED UHD QD LS03_KR_KOR_231204.0.pdf\n"
     ]
    },
    {
     "name": "stderr",
     "output_type": "stream",
     "text": [
      "635it [15:01,  1.16s/it]"
     ]
    },
    {
     "name": "stdout",
     "output_type": "stream",
     "text": [
      "파일이 저장되었습니다: C:/Users/sykim/Desktop/url_blob/pdf_file\\635_BN68-18068A-00_RG_Y24 QLED QD DU8 LS03_KR_KOR_231204.0.pdf\n"
     ]
    },
    {
     "name": "stderr",
     "output_type": "stream",
     "text": [
      "636it [15:03,  1.53s/it]"
     ]
    },
    {
     "name": "stdout",
     "output_type": "stream",
     "text": [
      "파일이 저장되었습니다: C:/Users/sykim/Desktop/url_blob/pdf_file\\636_BN68-18082A-00_IG_QN80D 75-85inch_WW_L10_231220.0.pdf\n"
     ]
    },
    {
     "name": "stderr",
     "output_type": "stream",
     "text": [
      "637it [15:04,  1.27s/it]"
     ]
    },
    {
     "name": "stdout",
     "output_type": "stream",
     "text": [
      "파일이 저장되었습니다: C:/Users/sykim/Desktop/url_blob/pdf_file\\637_BN68-18068A-00_RG_Y24 QLED QD DU8 LS03_KR_KOR_231204.0.pdf\n"
     ]
    },
    {
     "name": "stderr",
     "output_type": "stream",
     "text": [
      "638it [15:05,  1.18s/it]"
     ]
    },
    {
     "name": "stdout",
     "output_type": "stream",
     "text": [
      "파일이 저장되었습니다: C:/Users/sykim/Desktop/url_blob/pdf_file\\638_BN68-17565A-00_SUG_Y24 QLED UHD QD LS03_KR_KOR_231204.0.pdf\n"
     ]
    },
    {
     "name": "stderr",
     "output_type": "stream",
     "text": [
      "639it [15:06,  1.10s/it]"
     ]
    },
    {
     "name": "stdout",
     "output_type": "stream",
     "text": [
      "파일이 저장되었습니다: C:/Users/sykim/Desktop/url_blob/pdf_file\\639_BN68-18099A-00_IG_Y23 QN700C 800C 900C Y24 QN800D 75-85inch_WW_L10_231214.1.pdf\n"
     ]
    },
    {
     "name": "stderr",
     "output_type": "stream",
     "text": [
      "640it [15:07,  1.25s/it]"
     ]
    },
    {
     "name": "stdout",
     "output_type": "stream",
     "text": [
      "파일이 저장되었습니다: C:/Users/sykim/Desktop/url_blob/pdf_file\\640_BN68-17565A-00_SUG_Y24 QLED UHD QD LS03_KR_KOR_231204.0.pdf\n"
     ]
    },
    {
     "name": "stderr",
     "output_type": "stream",
     "text": [
      "641it [15:08,  1.01s/it]"
     ]
    },
    {
     "name": "stdout",
     "output_type": "stream",
     "text": [
      "파일이 저장되었습니다: C:/Users/sykim/Desktop/url_blob/pdf_file\\641_BN68-18068A-00_RG_Y24 QLED QD DU8 LS03_KR_KOR_231204.0.pdf\n"
     ]
    },
    {
     "name": "stderr",
     "output_type": "stream",
     "text": [
      "642it [15:09,  1.00s/it]"
     ]
    },
    {
     "name": "stdout",
     "output_type": "stream",
     "text": [
      "파일이 저장되었습니다: C:/Users/sykim/Desktop/url_blob/pdf_file\\642_BN68-18082A-00_IG_QN80D 75-85inch_WW_L10_231220.0.pdf\n"
     ]
    },
    {
     "name": "stderr",
     "output_type": "stream",
     "text": [
      "643it [15:10,  1.06it/s]"
     ]
    },
    {
     "name": "stdout",
     "output_type": "stream",
     "text": [
      "파일이 저장되었습니다: C:/Users/sykim/Desktop/url_blob/pdf_file\\643_BN68-17565A-00_SUG_Y24 QLED UHD QD LS03_KR_KOR_231204.0.pdf\n"
     ]
    },
    {
     "name": "stderr",
     "output_type": "stream",
     "text": [
      "644it [15:10,  1.30it/s]"
     ]
    },
    {
     "name": "stdout",
     "output_type": "stream",
     "text": [
      "파일이 저장되었습니다: C:/Users/sykim/Desktop/url_blob/pdf_file\\644_BN68-18068A-00_RG_Y24 QLED QD DU8 LS03_KR_KOR_231204.0.pdf\n"
     ]
    },
    {
     "name": "stderr",
     "output_type": "stream",
     "text": [
      "645it [15:11,  1.14it/s]"
     ]
    },
    {
     "name": "stdout",
     "output_type": "stream",
     "text": [
      "파일이 저장되었습니다: C:/Users/sykim/Desktop/url_blob/pdf_file\\645_BN68-17565A-00_SUG_Y24 QLED UHD QD LS03_KR_KOR_231204.0.pdf\n"
     ]
    },
    {
     "name": "stderr",
     "output_type": "stream",
     "text": [
      "646it [15:12,  1.08it/s]"
     ]
    },
    {
     "name": "stdout",
     "output_type": "stream",
     "text": [
      "파일이 저장되었습니다: C:/Users/sykim/Desktop/url_blob/pdf_file\\646_BN68-18068A-00_RG_Y24 QLED QD DU8 LS03_KR_KOR_231204.0.pdf\n"
     ]
    },
    {
     "name": "stderr",
     "output_type": "stream",
     "text": [
      "647it [15:13,  1.12it/s]"
     ]
    },
    {
     "name": "stdout",
     "output_type": "stream",
     "text": [
      "파일이 저장되었습니다: C:/Users/sykim/Desktop/url_blob/pdf_file\\647_BN68-18068A-00_RG_Y24 QLED QD DU8 LS03_KR_KOR_231204.0.pdf\n"
     ]
    },
    {
     "name": "stderr",
     "output_type": "stream",
     "text": [
      "648it [15:14,  1.06s/it]"
     ]
    },
    {
     "name": "stdout",
     "output_type": "stream",
     "text": [
      "파일이 저장되었습니다: C:/Users/sykim/Desktop/url_blob/pdf_file\\648_BN68-17565A-00_SUG_Y24 QLED UHD QD LS03_KR_KOR_231204.0.pdf\n"
     ]
    },
    {
     "name": "stderr",
     "output_type": "stream",
     "text": [
      "649it [15:16,  1.16s/it]"
     ]
    },
    {
     "name": "stdout",
     "output_type": "stream",
     "text": [
      "파일이 저장되었습니다: C:/Users/sykim/Desktop/url_blob/pdf_file\\649_BN68-17565A-00_SUG_Y24 QLED UHD QD LS03_KR_KOR_231204.0.pdf\n"
     ]
    },
    {
     "name": "stderr",
     "output_type": "stream",
     "text": [
      "650it [15:18,  1.49s/it]"
     ]
    },
    {
     "name": "stdout",
     "output_type": "stream",
     "text": [
      "파일이 저장되었습니다: C:/Users/sykim/Desktop/url_blob/pdf_file\\650_BN68-18068A-00_RG_Y24 QLED QD DU8 LS03_KR_KOR_231204.0.pdf\n"
     ]
    },
    {
     "name": "stderr",
     "output_type": "stream",
     "text": [
      "651it [15:19,  1.28s/it]"
     ]
    },
    {
     "name": "stdout",
     "output_type": "stream",
     "text": [
      "파일이 저장되었습니다: C:/Users/sykim/Desktop/url_blob/pdf_file\\651_BN68-18041A-00_IG_S90D 77inch_WW_L10_231212.1.pdf\n"
     ]
    },
    {
     "name": "stderr",
     "output_type": "stream",
     "text": [
      "652it [15:20,  1.24s/it]"
     ]
    },
    {
     "name": "stdout",
     "output_type": "stream",
     "text": [
      "파일이 저장되었습니다: C:/Users/sykim/Desktop/url_blob/pdf_file\\652_BN68-17565A-00_SUG_Y24 QLED UHD QD LS03_KR_KOR_231204.0.pdf\n"
     ]
    },
    {
     "name": "stderr",
     "output_type": "stream",
     "text": [
      "653it [15:21,  1.15s/it]"
     ]
    },
    {
     "name": "stdout",
     "output_type": "stream",
     "text": [
      "파일이 저장되었습니다: C:/Users/sykim/Desktop/url_blob/pdf_file\\653_BN68-18068A-00_RG_Y24 QLED QD DU8 LS03_KR_KOR_231204.0.pdf\n"
     ]
    },
    {
     "name": "stderr",
     "output_type": "stream",
     "text": [
      "654it [15:22,  1.10s/it]"
     ]
    },
    {
     "name": "stdout",
     "output_type": "stream",
     "text": [
      "파일이 저장되었습니다: C:/Users/sykim/Desktop/url_blob/pdf_file\\654_BN68-18068A-00_RG_Y24 QLED QD DU8 LS03_KR_KOR_231204.0.pdf\n"
     ]
    },
    {
     "name": "stderr",
     "output_type": "stream",
     "text": [
      "655it [15:23,  1.02s/it]"
     ]
    },
    {
     "name": "stdout",
     "output_type": "stream",
     "text": [
      "파일이 저장되었습니다: C:/Users/sykim/Desktop/url_blob/pdf_file\\655_BN68-17565A-00_SUG_Y24 QLED UHD QD LS03_KR_KOR_231204.0.pdf\n"
     ]
    },
    {
     "name": "stderr",
     "output_type": "stream",
     "text": [
      "656it [15:24,  1.08s/it]"
     ]
    },
    {
     "name": "stdout",
     "output_type": "stream",
     "text": [
      "파일이 저장되었습니다: C:/Users/sykim/Desktop/url_blob/pdf_file\\656_BN68-18068A-00_RG_Y24 QLED QD DU8 LS03_KR_KOR_231204.0.pdf\n"
     ]
    },
    {
     "name": "stderr",
     "output_type": "stream",
     "text": [
      "657it [15:25,  1.08s/it]"
     ]
    },
    {
     "name": "stdout",
     "output_type": "stream",
     "text": [
      "파일이 저장되었습니다: C:/Users/sykim/Desktop/url_blob/pdf_file\\657_BN68-17565A-00_SUG_Y24 QLED UHD QD LS03_KR_KOR_231204.0.pdf\n"
     ]
    },
    {
     "name": "stderr",
     "output_type": "stream",
     "text": [
      "658it [15:27,  1.29s/it]"
     ]
    },
    {
     "name": "stdout",
     "output_type": "stream",
     "text": [
      "파일이 저장되었습니다: C:/Users/sykim/Desktop/url_blob/pdf_file\\658_BN68-18054A-00_IG_Y23 S95C Y24 S95D 77inch_WW_L10_231215.0.pdf\n"
     ]
    },
    {
     "name": "stderr",
     "output_type": "stream",
     "text": [
      "659it [15:27,  1.09s/it]"
     ]
    },
    {
     "name": "stdout",
     "output_type": "stream",
     "text": [
      "파일이 저장되었습니다: C:/Users/sykim/Desktop/url_blob/pdf_file\\659_BN68-17565A-00_SUG_Y24 QLED UHD QD LS03_KR_KOR_231204.0.pdf\n"
     ]
    },
    {
     "name": "stderr",
     "output_type": "stream",
     "text": [
      "660it [15:28,  1.13it/s]"
     ]
    },
    {
     "name": "stdout",
     "output_type": "stream",
     "text": [
      "파일이 저장되었습니다: C:/Users/sykim/Desktop/url_blob/pdf_file\\660_BN68-18068A-00_RG_Y24 QLED QD DU8 LS03_KR_KOR_231204.0.pdf\n"
     ]
    },
    {
     "name": "stderr",
     "output_type": "stream",
     "text": [
      "661it [15:28,  1.26it/s]"
     ]
    },
    {
     "name": "stdout",
     "output_type": "stream",
     "text": [
      "파일이 저장되었습니다: C:/Users/sykim/Desktop/url_blob/pdf_file\\661_BN68-18068A-00_RG_Y24 QLED QD DU8 LS03_KR_KOR_231204.0.pdf\n"
     ]
    },
    {
     "name": "stderr",
     "output_type": "stream",
     "text": [
      "662it [15:30,  1.02s/it]"
     ]
    },
    {
     "name": "stdout",
     "output_type": "stream",
     "text": [
      "파일이 저장되었습니다: C:/Users/sykim/Desktop/url_blob/pdf_file\\662_BN68-17565A-00_SUG_Y24 QLED UHD QD LS03_KR_KOR_231204.0.pdf\n"
     ]
    },
    {
     "name": "stderr",
     "output_type": "stream",
     "text": [
      "663it [15:32,  1.22s/it]"
     ]
    },
    {
     "name": "stdout",
     "output_type": "stream",
     "text": [
      "파일이 저장되었습니다: C:/Users/sykim/Desktop/url_blob/pdf_file\\663_BN68-17565A-00_SUG_Y24 QLED UHD QD LS03_KR_KOR_231204.0.pdf\n"
     ]
    },
    {
     "name": "stderr",
     "output_type": "stream",
     "text": [
      "664it [15:32,  1.07s/it]"
     ]
    },
    {
     "name": "stdout",
     "output_type": "stream",
     "text": [
      "파일이 저장되었습니다: C:/Users/sykim/Desktop/url_blob/pdf_file\\664_BN68-18086B-00_RG_UD7_KR_KOR_240103.0.pdf\n"
     ]
    },
    {
     "name": "stderr",
     "output_type": "stream",
     "text": [
      "665it [15:35,  1.56s/it]"
     ]
    },
    {
     "name": "stdout",
     "output_type": "stream",
     "text": [
      "파일이 저장되었습니다: C:/Users/sykim/Desktop/url_blob/pdf_file\\665_BN68-17565A-00_SUG_Y24 QLED UHD QD LS03_KR_KOR_231204.0.pdf\n"
     ]
    },
    {
     "name": "stderr",
     "output_type": "stream",
     "text": [
      "666it [15:36,  1.46s/it]"
     ]
    },
    {
     "name": "stdout",
     "output_type": "stream",
     "text": [
      "파일이 저장되었습니다: C:/Users/sykim/Desktop/url_blob/pdf_file\\666_BN68-18086B-00_RG_UD7_KR_KOR_240103.0.pdf\n"
     ]
    },
    {
     "name": "stderr",
     "output_type": "stream",
     "text": [
      "667it [15:37,  1.31s/it]"
     ]
    },
    {
     "name": "stdout",
     "output_type": "stream",
     "text": [
      "파일이 저장되었습니다: C:/Users/sykim/Desktop/url_blob/pdf_file\\667_BN68-18068A-00_RG_Y24 QLED QD DU8 LS03_KR_KOR_231204.0.pdf\n"
     ]
    },
    {
     "name": "stderr",
     "output_type": "stream",
     "text": [
      "668it [15:38,  1.21s/it]"
     ]
    },
    {
     "name": "stdout",
     "output_type": "stream",
     "text": [
      "파일이 저장되었습니다: C:/Users/sykim/Desktop/url_blob/pdf_file\\668_BN68-17565A-00_SUG_Y24 QLED UHD QD LS03_KR_KOR_231204.0.pdf\n"
     ]
    },
    {
     "name": "stderr",
     "output_type": "stream",
     "text": [
      "669it [15:40,  1.42s/it]"
     ]
    },
    {
     "name": "stdout",
     "output_type": "stream",
     "text": [
      "파일이 저장되었습니다: C:/Users/sykim/Desktop/url_blob/pdf_file\\669_BN68-18047A-00_IG_Q80D 50-85inch_WW_L10_231220.0.pdf\n"
     ]
    },
    {
     "name": "stderr",
     "output_type": "stream",
     "text": [
      "670it [15:41,  1.36s/it]"
     ]
    },
    {
     "name": "stdout",
     "output_type": "stream",
     "text": [
      "파일이 저장되었습니다: C:/Users/sykim/Desktop/url_blob/pdf_file\\670_BN68-18068A-00_RG_Y24 QLED QD DU8 LS03_KR_KOR_231204.0.pdf\n"
     ]
    },
    {
     "name": "stderr",
     "output_type": "stream",
     "text": [
      "671it [15:42,  1.23s/it]"
     ]
    },
    {
     "name": "stdout",
     "output_type": "stream",
     "text": [
      "파일이 저장되었습니다: C:/Users/sykim/Desktop/url_blob/pdf_file\\671_BN68-17565A-00_SUG_Y24 QLED UHD QD LS03_KR_KOR_231204.0.pdf\n"
     ]
    },
    {
     "name": "stderr",
     "output_type": "stream",
     "text": [
      "672it [15:46,  1.87s/it]"
     ]
    },
    {
     "name": "stdout",
     "output_type": "stream",
     "text": [
      "파일이 저장되었습니다: C:/Users/sykim/Desktop/url_blob/pdf_file\\672_BN68-18047A-00_IG_Q80D 50-85inch_WW_L10_231220.0.pdf\n"
     ]
    },
    {
     "name": "stderr",
     "output_type": "stream",
     "text": [
      "673it [15:47,  1.73s/it]"
     ]
    },
    {
     "name": "stdout",
     "output_type": "stream",
     "text": [
      "파일이 저장되었습니다: C:/Users/sykim/Desktop/url_blob/pdf_file\\673_BN68-17565A-00_SUG_Y24 QLED UHD QD LS03_KR_KOR_231204.0.pdf\n"
     ]
    },
    {
     "name": "stderr",
     "output_type": "stream",
     "text": [
      "674it [15:47,  1.33s/it]"
     ]
    },
    {
     "name": "stdout",
     "output_type": "stream",
     "text": [
      "파일이 저장되었습니다: C:/Users/sykim/Desktop/url_blob/pdf_file\\674_BN68-18086B-00_RG_UD7_KR_KOR_240103.0.pdf\n"
     ]
    },
    {
     "name": "stderr",
     "output_type": "stream",
     "text": [
      "675it [15:48,  1.14s/it]"
     ]
    },
    {
     "name": "stdout",
     "output_type": "stream",
     "text": [
      "파일이 저장되었습니다: C:/Users/sykim/Desktop/url_blob/pdf_file\\675_BN68-17565A-00_SUG_Y24 QLED UHD QD LS03_KR_KOR_231204.0.pdf\n"
     ]
    },
    {
     "name": "stderr",
     "output_type": "stream",
     "text": [
      "676it [15:50,  1.29s/it]"
     ]
    },
    {
     "name": "stdout",
     "output_type": "stream",
     "text": [
      "파일이 저장되었습니다: C:/Users/sykim/Desktop/url_blob/pdf_file\\676_BN68-18086B-00_RG_UD7_KR_KOR_240103.0.pdf\n"
     ]
    },
    {
     "name": "stderr",
     "output_type": "stream",
     "text": [
      "677it [15:52,  1.56s/it]"
     ]
    },
    {
     "name": "stdout",
     "output_type": "stream",
     "text": [
      "파일이 저장되었습니다: C:/Users/sykim/Desktop/url_blob/pdf_file\\677_BN68-17565A-00_SUG_Y24 QLED UHD QD LS03_KR_KOR_231204.0.pdf\n"
     ]
    },
    {
     "name": "stderr",
     "output_type": "stream",
     "text": [
      "678it [15:53,  1.42s/it]"
     ]
    },
    {
     "name": "stdout",
     "output_type": "stream",
     "text": [
      "파일이 저장되었습니다: C:/Users/sykim/Desktop/url_blob/pdf_file\\678_BN68-18086B-00_RG_UD7_KR_KOR_240103.0.pdf\n"
     ]
    },
    {
     "name": "stderr",
     "output_type": "stream",
     "text": [
      "679it [15:55,  1.59s/it]"
     ]
    },
    {
     "name": "stdout",
     "output_type": "stream",
     "text": [
      "파일이 저장되었습니다: C:/Users/sykim/Desktop/url_blob/pdf_file\\679_BN68-17565A-00_SUG_Y24 QLED UHD QD LS03_KR_KOR_231204.0.pdf\n"
     ]
    },
    {
     "name": "stderr",
     "output_type": "stream",
     "text": [
      "680it [15:56,  1.34s/it]"
     ]
    },
    {
     "name": "stdout",
     "output_type": "stream",
     "text": [
      "파일이 저장되었습니다: C:/Users/sykim/Desktop/url_blob/pdf_file\\680_BN68-18086B-00_RG_UD7_KR_KOR_240103.0.pdf\n"
     ]
    },
    {
     "name": "stderr",
     "output_type": "stream",
     "text": [
      "681it [15:57,  1.17s/it]"
     ]
    },
    {
     "name": "stdout",
     "output_type": "stream",
     "text": [
      "파일이 저장되었습니다: C:/Users/sykim/Desktop/url_blob/pdf_file\\681_BN68-18068A-00_RG_Y24 QLED QD DU8 LS03_KR_KOR_231204.0.pdf\n"
     ]
    },
    {
     "name": "stderr",
     "output_type": "stream",
     "text": [
      "682it [15:57,  1.08s/it]"
     ]
    },
    {
     "name": "stdout",
     "output_type": "stream",
     "text": [
      "파일이 저장되었습니다: C:/Users/sykim/Desktop/url_blob/pdf_file\\682_BN68-17565A-00_SUG_Y24 QLED UHD QD LS03_KR_KOR_231204.0.pdf\n"
     ]
    },
    {
     "name": "stderr",
     "output_type": "stream",
     "text": [
      "683it [15:58,  1.02it/s]"
     ]
    },
    {
     "name": "stdout",
     "output_type": "stream",
     "text": [
      "파일이 저장되었습니다: C:/Users/sykim/Desktop/url_blob/pdf_file\\683_BN68-18068A-00_RG_Y24 QLED QD DU8 LS03_KR_KOR_231204.0.pdf\n"
     ]
    },
    {
     "name": "stderr",
     "output_type": "stream",
     "text": [
      "684it [16:00,  1.29s/it]"
     ]
    },
    {
     "name": "stdout",
     "output_type": "stream",
     "text": [
      "파일이 저장되었습니다: C:/Users/sykim/Desktop/url_blob/pdf_file\\684_BN68-17565A-00_SUG_Y24 QLED UHD QD LS03_KR_KOR_231204.0.pdf\n"
     ]
    },
    {
     "name": "stderr",
     "output_type": "stream",
     "text": [
      "685it [16:01,  1.10s/it]"
     ]
    },
    {
     "name": "stdout",
     "output_type": "stream",
     "text": [
      "파일이 저장되었습니다: C:/Users/sykim/Desktop/url_blob/pdf_file\\685_BN68-18068A-00_RG_Y24 QLED QD DU8 LS03_KR_KOR_231204.0.pdf\n"
     ]
    },
    {
     "name": "stderr",
     "output_type": "stream",
     "text": [
      "686it [16:02,  1.02s/it]"
     ]
    },
    {
     "name": "stdout",
     "output_type": "stream",
     "text": [
      "파일이 저장되었습니다: C:/Users/sykim/Desktop/url_blob/pdf_file\\686_BN68-17565A-00_SUG_Y24 QLED UHD QD LS03_KR_KOR_231204.0.pdf\n"
     ]
    },
    {
     "name": "stderr",
     "output_type": "stream",
     "text": [
      "687it [16:03,  1.00it/s]"
     ]
    },
    {
     "name": "stdout",
     "output_type": "stream",
     "text": [
      "파일이 저장되었습니다: C:/Users/sykim/Desktop/url_blob/pdf_file\\687_BN68-18046A-00_IG_QN80D 55-65inch_WW_L10_231220.0.pdf\n"
     ]
    },
    {
     "name": "stderr",
     "output_type": "stream",
     "text": [
      "688it [16:03,  1.15it/s]"
     ]
    },
    {
     "name": "stdout",
     "output_type": "stream",
     "text": [
      "파일이 저장되었습니다: C:/Users/sykim/Desktop/url_blob/pdf_file\\688_BN68-18068A-00_RG_Y24 QLED QD DU8 LS03_KR_KOR_231204.0.pdf\n"
     ]
    },
    {
     "name": "stderr",
     "output_type": "stream",
     "text": [
      "689it [16:05,  1.19s/it]"
     ]
    },
    {
     "name": "stdout",
     "output_type": "stream",
     "text": [
      "파일이 저장되었습니다: C:/Users/sykim/Desktop/url_blob/pdf_file\\689_BN68-17565A-00_SUG_Y24 QLED UHD QD LS03_KR_KOR_231204.0.pdf\n"
     ]
    },
    {
     "name": "stderr",
     "output_type": "stream",
     "text": [
      "690it [16:07,  1.38s/it]"
     ]
    },
    {
     "name": "stdout",
     "output_type": "stream",
     "text": [
      "파일이 저장되었습니다: C:/Users/sykim/Desktop/url_blob/pdf_file\\690_BN68-17565A-00_SUG_Y24 QLED UHD QD LS03_KR_KOR_231204.0.pdf\n"
     ]
    },
    {
     "name": "stderr",
     "output_type": "stream",
     "text": [
      "691it [16:10,  1.75s/it]"
     ]
    },
    {
     "name": "stdout",
     "output_type": "stream",
     "text": [
      "파일이 저장되었습니다: C:/Users/sykim/Desktop/url_blob/pdf_file\\691_BN68-18068A-00_RG_Y24 QLED QD DU8 LS03_KR_KOR_231204.0.pdf\n"
     ]
    },
    {
     "name": "stderr",
     "output_type": "stream",
     "text": [
      "692it [16:11,  1.69s/it]"
     ]
    },
    {
     "name": "stdout",
     "output_type": "stream",
     "text": [
      "파일이 저장되었습니다: C:/Users/sykim/Desktop/url_blob/pdf_file\\692_BN68-17565A-00_SUG_Y24 QLED UHD QD LS03_KR_KOR_231204.0.pdf\n"
     ]
    },
    {
     "name": "stderr",
     "output_type": "stream",
     "text": [
      "693it [16:12,  1.51s/it]"
     ]
    },
    {
     "name": "stdout",
     "output_type": "stream",
     "text": [
      "파일이 저장되었습니다: C:/Users/sykim/Desktop/url_blob/pdf_file\\693_BN68-18068A-00_RG_Y24 QLED QD DU8 LS03_KR_KOR_231204.0.pdf\n"
     ]
    },
    {
     "name": "stderr",
     "output_type": "stream",
     "text": [
      "694it [16:14,  1.44s/it]"
     ]
    },
    {
     "name": "stdout",
     "output_type": "stream",
     "text": [
      "파일이 저장되었습니다: C:/Users/sykim/Desktop/url_blob/pdf_file\\694_BN68-17565A-00_SUG_Y24 QLED UHD QD LS03_KR_KOR_231204.0.pdf\n"
     ]
    },
    {
     "name": "stderr",
     "output_type": "stream",
     "text": [
      "695it [16:14,  1.15s/it]"
     ]
    },
    {
     "name": "stdout",
     "output_type": "stream",
     "text": [
      "파일이 저장되었습니다: C:/Users/sykim/Desktop/url_blob/pdf_file\\695_BN68-18068A-00_RG_Y24 QLED QD DU8 LS03_KR_KOR_231204.0.pdf\n"
     ]
    },
    {
     "name": "stderr",
     "output_type": "stream",
     "text": [
      "696it [16:15,  1.07s/it]"
     ]
    },
    {
     "name": "stdout",
     "output_type": "stream",
     "text": [
      "파일이 저장되었습니다: C:/Users/sykim/Desktop/url_blob/pdf_file\\696_BN68-18068A-00_RG_Y24 QLED QD DU8 LS03_KR_KOR_231204.0.pdf\n"
     ]
    },
    {
     "name": "stderr",
     "output_type": "stream",
     "text": [
      "697it [16:16,  1.17s/it]"
     ]
    },
    {
     "name": "stdout",
     "output_type": "stream",
     "text": [
      "파일이 저장되었습니다: C:/Users/sykim/Desktop/url_blob/pdf_file\\697_BN68-17565A-00_SUG_Y24 QLED UHD QD LS03_KR_KOR_231204.0.pdf\n"
     ]
    },
    {
     "name": "stderr",
     "output_type": "stream",
     "text": [
      "698it [16:17,  1.03s/it]"
     ]
    },
    {
     "name": "stdout",
     "output_type": "stream",
     "text": [
      "파일이 저장되었습니다: C:/Users/sykim/Desktop/url_blob/pdf_file\\698_BN68-17565A-00_SUG_Y24 QLED UHD QD LS03_KR_KOR_231204.0.pdf\n"
     ]
    },
    {
     "name": "stderr",
     "output_type": "stream",
     "text": [
      "699it [16:18,  1.04it/s]"
     ]
    },
    {
     "name": "stdout",
     "output_type": "stream",
     "text": [
      "파일이 저장되었습니다: C:/Users/sykim/Desktop/url_blob/pdf_file\\699_BN68-18068A-00_RG_Y24 QLED QD DU8 LS03_KR_KOR_231204.0.pdf\n"
     ]
    },
    {
     "name": "stderr",
     "output_type": "stream",
     "text": [
      "700it [16:19,  1.11it/s]"
     ]
    },
    {
     "name": "stdout",
     "output_type": "stream",
     "text": [
      "파일이 저장되었습니다: C:/Users/sykim/Desktop/url_blob/pdf_file\\700_BN68-17565A-00_SUG_Y24 QLED UHD QD LS03_KR_KOR_231204.0.pdf\n"
     ]
    },
    {
     "name": "stderr",
     "output_type": "stream",
     "text": [
      "701it [16:19,  1.11it/s]"
     ]
    },
    {
     "name": "stdout",
     "output_type": "stream",
     "text": [
      "파일이 저장되었습니다: C:/Users/sykim/Desktop/url_blob/pdf_file\\701_BN68-18068A-00_RG_Y24 QLED QD DU8 LS03_KR_KOR_231204.0.pdf\n"
     ]
    },
    {
     "name": "stderr",
     "output_type": "stream",
     "text": [
      "702it [16:20,  1.30it/s]"
     ]
    },
    {
     "name": "stdout",
     "output_type": "stream",
     "text": [
      "URL에서 파일을 다운로드하지 못했습니다: https://downloadcenter.samsung.com/content/EM/202402/20240209034155001/BN68-18060A-01_IG_QN900D 75-85inch_WW_L10_240131.0.pdf\n"
     ]
    },
    {
     "name": "stderr",
     "output_type": "stream",
     "text": [
      "703it [16:20,  1.64it/s]"
     ]
    },
    {
     "name": "stdout",
     "output_type": "stream",
     "text": [
      "URL에서 파일을 다운로드하지 못했습니다: https://downloadcenter.samsung.com/content/EM/202402/20240209034156001/BN68-18060A-01_IG_QN900D 75-85inch_WW_L10_240131.0.pdf\n"
     ]
    },
    {
     "name": "stderr",
     "output_type": "stream",
     "text": [
      "704it [16:22,  1.14it/s]"
     ]
    },
    {
     "name": "stdout",
     "output_type": "stream",
     "text": [
      "파일이 저장되었습니다: C:/Users/sykim/Desktop/url_blob/pdf_file\\704_DA68-04370A-03_Quick_Guide_REF_KO_KO_240205.pdf\n"
     ]
    },
    {
     "name": "stderr",
     "output_type": "stream",
     "text": [
      "705it [16:22,  1.32it/s]"
     ]
    },
    {
     "name": "stdout",
     "output_type": "stream",
     "text": [
      "파일이 저장되었습니다: C:/Users/sykim/Desktop/url_blob/pdf_file\\705_BN68-17565A-00_SUG_Y24 QLED UHD QD LS03_KR_KOR_231204.0.pdf\n"
     ]
    },
    {
     "name": "stderr",
     "output_type": "stream",
     "text": [
      "706it [16:23,  1.26it/s]"
     ]
    },
    {
     "name": "stdout",
     "output_type": "stream",
     "text": [
      "파일이 저장되었습니다: C:/Users/sykim/Desktop/url_blob/pdf_file\\706_BN68-18086B-00_RG_UD7_KR_KOR_240103.0.pdf\n"
     ]
    },
    {
     "name": "stderr",
     "output_type": "stream",
     "text": [
      "707it [16:24,  1.05it/s]"
     ]
    },
    {
     "name": "stdout",
     "output_type": "stream",
     "text": [
      "파일이 저장되었습니다: C:/Users/sykim/Desktop/url_blob/pdf_file\\707_BN68-17565A-00_SUG_Y24 QLED UHD QD LS03_KR_KOR_231204.0.pdf\n"
     ]
    },
    {
     "name": "stderr",
     "output_type": "stream",
     "text": [
      "708it [16:25,  1.24it/s]"
     ]
    },
    {
     "name": "stdout",
     "output_type": "stream",
     "text": [
      "파일이 저장되었습니다: C:/Users/sykim/Desktop/url_blob/pdf_file\\708_BN68-18086B-00_RG_UD7_KR_KOR_240103.0.pdf\n"
     ]
    },
    {
     "name": "stderr",
     "output_type": "stream",
     "text": [
      "709it [16:26,  1.10it/s]"
     ]
    },
    {
     "name": "stdout",
     "output_type": "stream",
     "text": [
      "파일이 저장되었습니다: C:/Users/sykim/Desktop/url_blob/pdf_file\\709_BN68-17565A-00_SUG_Y24 QLED UHD QD LS03_KR_KOR_231204.0.pdf\n"
     ]
    },
    {
     "name": "stderr",
     "output_type": "stream",
     "text": [
      "710it [16:28,  1.14s/it]"
     ]
    },
    {
     "name": "stdout",
     "output_type": "stream",
     "text": [
      "파일이 저장되었습니다: C:/Users/sykim/Desktop/url_blob/pdf_file\\710_BN68-18068A-00_RG_Y24 QLED QD DU8 LS03_KR_KOR_231204.0.pdf\n"
     ]
    },
    {
     "name": "stderr",
     "output_type": "stream",
     "text": [
      "711it [16:30,  1.50s/it]"
     ]
    },
    {
     "name": "stdout",
     "output_type": "stream",
     "text": [
      "파일이 저장되었습니다: C:/Users/sykim/Desktop/url_blob/pdf_file\\711_BN68-18045A-00_IG_QN87D 55-85inch_WW_L10_240111.0.pdf\n"
     ]
    },
    {
     "name": "stderr",
     "output_type": "stream",
     "text": [
      "712it [16:31,  1.31s/it]"
     ]
    },
    {
     "name": "stdout",
     "output_type": "stream",
     "text": [
      "파일이 저장되었습니다: C:/Users/sykim/Desktop/url_blob/pdf_file\\712_BN68-17565A-00_SUG_Y24 QLED UHD QD LS03_KR_KOR_231204.0.pdf\n"
     ]
    },
    {
     "name": "stderr",
     "output_type": "stream",
     "text": [
      "713it [16:31,  1.04s/it]"
     ]
    },
    {
     "name": "stdout",
     "output_type": "stream",
     "text": [
      "파일이 저장되었습니다: C:/Users/sykim/Desktop/url_blob/pdf_file\\713_BN68-18086B-00_RG_UD7_KR_KOR_240103.0.pdf\n"
     ]
    },
    {
     "name": "stderr",
     "output_type": "stream",
     "text": [
      "714it [16:32,  1.13it/s]"
     ]
    },
    {
     "name": "stdout",
     "output_type": "stream",
     "text": [
      "파일이 저장되었습니다: C:/Users/sykim/Desktop/url_blob/pdf_file\\714_BN68-17565A-00_SUG_Y24 QLED UHD QD LS03_KR_KOR_231204.0.pdf\n"
     ]
    },
    {
     "name": "stderr",
     "output_type": "stream",
     "text": [
      "715it [16:33,  1.17it/s]"
     ]
    },
    {
     "name": "stdout",
     "output_type": "stream",
     "text": [
      "파일이 저장되었습니다: C:/Users/sykim/Desktop/url_blob/pdf_file\\715_BN68-18068A-00_RG_Y24 QLED QD DU8 LS03_KR_KOR_231204.0.pdf\n"
     ]
    },
    {
     "name": "stderr",
     "output_type": "stream",
     "text": [
      "716it [16:34,  1.10it/s]"
     ]
    },
    {
     "name": "stdout",
     "output_type": "stream",
     "text": [
      "파일이 저장되었습니다: C:/Users/sykim/Desktop/url_blob/pdf_file\\716_BN68-17565A-00_SUG_Y24 QLED UHD QD LS03_KR_KOR_231204.0.pdf\n"
     ]
    },
    {
     "name": "stderr",
     "output_type": "stream",
     "text": [
      "717it [16:34,  1.33it/s]"
     ]
    },
    {
     "name": "stdout",
     "output_type": "stream",
     "text": [
      "파일이 저장되었습니다: C:/Users/sykim/Desktop/url_blob/pdf_file\\717_BN68-18068A-00_RG_Y24 QLED QD DU8 LS03_KR_KOR_231204.0.pdf\n"
     ]
    },
    {
     "name": "stderr",
     "output_type": "stream",
     "text": [
      "718it [16:35,  1.16it/s]"
     ]
    },
    {
     "name": "stdout",
     "output_type": "stream",
     "text": [
      "파일이 저장되었습니다: C:/Users/sykim/Desktop/url_blob/pdf_file\\718_BN68-18047A-00_IG_Q80D 50-85inch_WW_L10_231220.0.pdf\n"
     ]
    },
    {
     "name": "stderr",
     "output_type": "stream",
     "text": [
      "719it [16:36,  1.07it/s]"
     ]
    },
    {
     "name": "stdout",
     "output_type": "stream",
     "text": [
      "파일이 저장되었습니다: C:/Users/sykim/Desktop/url_blob/pdf_file\\719_BN68-18068A-00_RG_Y24 QLED QD DU8 LS03_KR_KOR_231204.0.pdf\n"
     ]
    },
    {
     "name": "stderr",
     "output_type": "stream",
     "text": [
      "720it [16:37,  1.04it/s]"
     ]
    },
    {
     "name": "stdout",
     "output_type": "stream",
     "text": [
      "파일이 저장되었습니다: C:/Users/sykim/Desktop/url_blob/pdf_file\\720_BN68-17565A-00_SUG_Y24 QLED UHD QD LS03_KR_KOR_231204.0.pdf\n"
     ]
    },
    {
     "name": "stderr",
     "output_type": "stream",
     "text": [
      "721it [16:38,  1.06it/s]"
     ]
    },
    {
     "name": "stdout",
     "output_type": "stream",
     "text": [
      "파일이 저장되었습니다: C:/Users/sykim/Desktop/url_blob/pdf_file\\721_BN68-17565A-00_SUG_Y24 QLED UHD QD LS03_KR_KOR_231204.0.pdf\n"
     ]
    },
    {
     "name": "stderr",
     "output_type": "stream",
     "text": [
      "722it [16:39,  1.18it/s]"
     ]
    },
    {
     "name": "stdout",
     "output_type": "stream",
     "text": [
      "파일이 저장되었습니다: C:/Users/sykim/Desktop/url_blob/pdf_file\\722_BN68-18068A-00_RG_Y24 QLED QD DU8 LS03_KR_KOR_231204.0.pdf\n"
     ]
    },
    {
     "name": "stderr",
     "output_type": "stream",
     "text": [
      "723it [16:40,  1.11it/s]"
     ]
    },
    {
     "name": "stdout",
     "output_type": "stream",
     "text": [
      "파일이 저장되었습니다: C:/Users/sykim/Desktop/url_blob/pdf_file\\723_BN68-17565A-00_SUG_Y24 QLED UHD QD LS03_KR_KOR_231204.0.pdf\n"
     ]
    },
    {
     "name": "stderr",
     "output_type": "stream",
     "text": [
      "724it [16:40,  1.35it/s]"
     ]
    },
    {
     "name": "stdout",
     "output_type": "stream",
     "text": [
      "파일이 저장되었습니다: C:/Users/sykim/Desktop/url_blob/pdf_file\\724_BN68-18068A-00_RG_Y24 QLED QD DU8 LS03_KR_KOR_231204.0.pdf\n"
     ]
    },
    {
     "name": "stderr",
     "output_type": "stream",
     "text": [
      "725it [16:41,  1.15it/s]"
     ]
    },
    {
     "name": "stdout",
     "output_type": "stream",
     "text": [
      "파일이 저장되었습니다: C:/Users/sykim/Desktop/url_blob/pdf_file\\725_BN68-18047A-00_IG_Q80D 50-85inch_WW_L10_231220.0.pdf\n"
     ]
    },
    {
     "name": "stderr",
     "output_type": "stream",
     "text": [
      "726it [16:42,  1.18it/s]"
     ]
    },
    {
     "name": "stdout",
     "output_type": "stream",
     "text": [
      "파일이 저장되었습니다: C:/Users/sykim/Desktop/url_blob/pdf_file\\726_BN68-17565A-00_SUG_Y24 QLED UHD QD LS03_KR_KOR_231204.0.pdf\n"
     ]
    },
    {
     "name": "stderr",
     "output_type": "stream",
     "text": [
      "727it [16:43,  1.21it/s]"
     ]
    },
    {
     "name": "stdout",
     "output_type": "stream",
     "text": [
      "파일이 저장되었습니다: C:/Users/sykim/Desktop/url_blob/pdf_file\\727_BN68-18086B-00_RG_UD7_KR_KOR_240103.0.pdf\n"
     ]
    },
    {
     "name": "stderr",
     "output_type": "stream",
     "text": [
      "728it [16:44,  1.25it/s]"
     ]
    },
    {
     "name": "stdout",
     "output_type": "stream",
     "text": [
      "파일이 저장되었습니다: C:/Users/sykim/Desktop/url_blob/pdf_file\\728_BN68-18068A-00_RG_Y24 QLED QD DU8 LS03_KR_KOR_231204.0.pdf\n"
     ]
    },
    {
     "name": "stderr",
     "output_type": "stream",
     "text": [
      "729it [16:44,  1.29it/s]"
     ]
    },
    {
     "name": "stdout",
     "output_type": "stream",
     "text": [
      "파일이 저장되었습니다: C:/Users/sykim/Desktop/url_blob/pdf_file\\729_BN68-17565A-00_SUG_Y24 QLED UHD QD LS03_KR_KOR_231204.0.pdf\n"
     ]
    },
    {
     "name": "stderr",
     "output_type": "stream",
     "text": [
      "730it [16:46,  1.03it/s]"
     ]
    },
    {
     "name": "stdout",
     "output_type": "stream",
     "text": [
      "파일이 저장되었습니다: C:/Users/sykim/Desktop/url_blob/pdf_file\\730_BN68-18045A-00_IG_QN87D 55-85inch_WW_L10_240111.0.pdf\n"
     ]
    },
    {
     "name": "stderr",
     "output_type": "stream",
     "text": [
      "731it [16:47,  1.01it/s]"
     ]
    },
    {
     "name": "stdout",
     "output_type": "stream",
     "text": [
      "파일이 저장되었습니다: C:/Users/sykim/Desktop/url_blob/pdf_file\\731_BN68-17565A-00_SUG_Y24 QLED UHD QD LS03_KR_KOR_231204.0.pdf\n"
     ]
    },
    {
     "name": "stderr",
     "output_type": "stream",
     "text": [
      "732it [16:48,  1.06s/it]"
     ]
    },
    {
     "name": "stdout",
     "output_type": "stream",
     "text": [
      "파일이 저장되었습니다: C:/Users/sykim/Desktop/url_blob/pdf_file\\732_BN68-18068A-00_RG_Y24 QLED QD DU8 LS03_KR_KOR_231204.0.pdf\n"
     ]
    },
    {
     "name": "stderr",
     "output_type": "stream",
     "text": [
      "733it [16:50,  1.31s/it]"
     ]
    },
    {
     "name": "stdout",
     "output_type": "stream",
     "text": [
      "파일이 저장되었습니다: C:/Users/sykim/Desktop/url_blob/pdf_file\\733_BN68-18097A-00_IG_Y23 QN700C 800C 900C Y24 QN800D 55-65inch_WW_L10_231214.1.pdf\n"
     ]
    },
    {
     "name": "stderr",
     "output_type": "stream",
     "text": [
      "734it [16:51,  1.27s/it]"
     ]
    },
    {
     "name": "stdout",
     "output_type": "stream",
     "text": [
      "파일이 저장되었습니다: C:/Users/sykim/Desktop/url_blob/pdf_file\\734_BN68-17565A-00_SUG_Y24 QLED UHD QD LS03_KR_KOR_231204.0.pdf\n"
     ]
    },
    {
     "name": "stderr",
     "output_type": "stream",
     "text": [
      "735it [16:52,  1.04s/it]"
     ]
    },
    {
     "name": "stdout",
     "output_type": "stream",
     "text": [
      "파일이 저장되었습니다: C:/Users/sykim/Desktop/url_blob/pdf_file\\735_BN68-18068A-00_RG_Y24 QLED QD DU8 LS03_KR_KOR_231204.0.pdf\n"
     ]
    },
    {
     "name": "stderr",
     "output_type": "stream",
     "text": [
      "736it [16:55,  1.87s/it]"
     ]
    },
    {
     "name": "stdout",
     "output_type": "stream",
     "text": [
      "파일이 저장되었습니다: C:/Users/sykim/Desktop/url_blob/pdf_file\\736_BN68-18047A-00_IG_Q80D 50-85inch_WW_L10_231220.0.pdf\n"
     ]
    },
    {
     "name": "stderr",
     "output_type": "stream",
     "text": [
      "737it [16:57,  1.85s/it]"
     ]
    },
    {
     "name": "stdout",
     "output_type": "stream",
     "text": [
      "파일이 저장되었습니다: C:/Users/sykim/Desktop/url_blob/pdf_file\\737_BN68-18068A-00_RG_Y24 QLED QD DU8 LS03_KR_KOR_231204.0.pdf\n"
     ]
    },
    {
     "name": "stderr",
     "output_type": "stream",
     "text": [
      "738it [16:59,  1.84s/it]"
     ]
    },
    {
     "name": "stdout",
     "output_type": "stream",
     "text": [
      "파일이 저장되었습니다: C:/Users/sykim/Desktop/url_blob/pdf_file\\738_BN68-17565A-00_SUG_Y24 QLED UHD QD LS03_KR_KOR_231204.0.pdf\n"
     ]
    },
    {
     "name": "stderr",
     "output_type": "stream",
     "text": [
      "739it [17:03,  2.57s/it]"
     ]
    },
    {
     "name": "stdout",
     "output_type": "stream",
     "text": [
      "파일이 저장되었습니다: C:/Users/sykim/Desktop/url_blob/pdf_file\\739_BN68-18099A-00_IG_Y23 QN700C 800C 900C Y24 QN800D 75-85inch_WW_L10_231214.1.pdf\n"
     ]
    },
    {
     "name": "stderr",
     "output_type": "stream",
     "text": [
      "740it [17:06,  2.57s/it]"
     ]
    },
    {
     "name": "stdout",
     "output_type": "stream",
     "text": [
      "파일이 저장되었습니다: C:/Users/sykim/Desktop/url_blob/pdf_file\\740_BN68-17565A-00_SUG_Y24 QLED UHD QD LS03_KR_KOR_231204.0.pdf\n"
     ]
    },
    {
     "name": "stderr",
     "output_type": "stream",
     "text": [
      "741it [17:08,  2.51s/it]"
     ]
    },
    {
     "name": "stdout",
     "output_type": "stream",
     "text": [
      "파일이 저장되었습니다: C:/Users/sykim/Desktop/url_blob/pdf_file\\741_BN68-18068A-00_RG_Y24 QLED QD DU8 LS03_KR_KOR_231204.0.pdf\n"
     ]
    },
    {
     "name": "stderr",
     "output_type": "stream",
     "text": [
      "742it [17:10,  2.28s/it]"
     ]
    },
    {
     "name": "stdout",
     "output_type": "stream",
     "text": [
      "파일이 저장되었습니다: C:/Users/sykim/Desktop/url_blob/pdf_file\\742_BN68-17565A-00_SUG_Y24 QLED UHD QD LS03_KR_KOR_231204.0.pdf\n"
     ]
    },
    {
     "name": "stderr",
     "output_type": "stream",
     "text": [
      "743it [17:11,  1.78s/it]"
     ]
    },
    {
     "name": "stdout",
     "output_type": "stream",
     "text": [
      "파일이 저장되었습니다: C:/Users/sykim/Desktop/url_blob/pdf_file\\743_BN68-18068A-00_RG_Y24 QLED QD DU8 LS03_KR_KOR_231204.0.pdf\n"
     ]
    },
    {
     "name": "stderr",
     "output_type": "stream",
     "text": [
      "744it [17:12,  1.62s/it]"
     ]
    },
    {
     "name": "stdout",
     "output_type": "stream",
     "text": [
      "파일이 저장되었습니다: C:/Users/sykim/Desktop/url_blob/pdf_file\\744_BN68-17565A-00_SUG_Y24 QLED UHD QD LS03_KR_KOR_231204.0.pdf\n"
     ]
    },
    {
     "name": "stderr",
     "output_type": "stream",
     "text": [
      "745it [17:13,  1.45s/it]"
     ]
    },
    {
     "name": "stdout",
     "output_type": "stream",
     "text": [
      "파일이 저장되었습니다: C:/Users/sykim/Desktop/url_blob/pdf_file\\745_BN68-18068A-00_RG_Y24 QLED QD DU8 LS03_KR_KOR_231204.0.pdf\n"
     ]
    },
    {
     "name": "stderr",
     "output_type": "stream",
     "text": [
      "746it [17:15,  1.59s/it]"
     ]
    },
    {
     "name": "stdout",
     "output_type": "stream",
     "text": [
      "파일이 저장되었습니다: C:/Users/sykim/Desktop/url_blob/pdf_file\\746_BN68-18099A-00_IG_Y23 QN700C 800C 900C Y24 QN800D 75-85inch_WW_L10_231214.1.pdf\n"
     ]
    },
    {
     "name": "stderr",
     "output_type": "stream",
     "text": [
      "747it [17:16,  1.52s/it]"
     ]
    },
    {
     "name": "stdout",
     "output_type": "stream",
     "text": [
      "파일이 저장되었습니다: C:/Users/sykim/Desktop/url_blob/pdf_file\\747_BN68-17565A-00_SUG_Y24 QLED UHD QD LS03_KR_KOR_231204.0.pdf\n"
     ]
    },
    {
     "name": "stderr",
     "output_type": "stream",
     "text": [
      "748it [17:18,  1.65s/it]"
     ]
    },
    {
     "name": "stdout",
     "output_type": "stream",
     "text": [
      "파일이 저장되었습니다: C:/Users/sykim/Desktop/url_blob/pdf_file\\748_BN68-18068A-00_RG_Y24 QLED QD DU8 LS03_KR_KOR_231204.0.pdf\n"
     ]
    },
    {
     "name": "stderr",
     "output_type": "stream",
     "text": [
      "749it [17:19,  1.34s/it]"
     ]
    },
    {
     "name": "stdout",
     "output_type": "stream",
     "text": [
      "파일이 저장되었습니다: C:/Users/sykim/Desktop/url_blob/pdf_file\\749_BN68-18068A-00_RG_Y24 QLED QD DU8 LS03_KR_KOR_231204.0.pdf\n"
     ]
    },
    {
     "name": "stderr",
     "output_type": "stream",
     "text": [
      "750it [17:20,  1.29s/it]"
     ]
    },
    {
     "name": "stdout",
     "output_type": "stream",
     "text": [
      "파일이 저장되었습니다: C:/Users/sykim/Desktop/url_blob/pdf_file\\750_BN68-17565A-00_SUG_Y24 QLED UHD QD LS03_KR_KOR_231204.0.pdf\n"
     ]
    },
    {
     "name": "stderr",
     "output_type": "stream",
     "text": [
      "751it [17:21,  1.26s/it]"
     ]
    },
    {
     "name": "stdout",
     "output_type": "stream",
     "text": [
      "파일이 저장되었습니다: C:/Users/sykim/Desktop/url_blob/pdf_file\\751_BN68-18045A-00_IG_QN87D 55-85inch_WW_L10_240111.0.pdf\n"
     ]
    },
    {
     "name": "stderr",
     "output_type": "stream",
     "text": [
      "752it [17:22,  1.30s/it]"
     ]
    },
    {
     "name": "stdout",
     "output_type": "stream",
     "text": [
      "파일이 저장되었습니다: C:/Users/sykim/Desktop/url_blob/pdf_file\\752_BN68-17565A-00_SUG_Y24 QLED UHD QD LS03_KR_KOR_231204.0.pdf\n"
     ]
    },
    {
     "name": "stderr",
     "output_type": "stream",
     "text": [
      "753it [17:23,  1.12s/it]"
     ]
    },
    {
     "name": "stdout",
     "output_type": "stream",
     "text": [
      "파일이 저장되었습니다: C:/Users/sykim/Desktop/url_blob/pdf_file\\753_BN68-18086B-00_RG_UD7_KR_KOR_240103.0.pdf\n"
     ]
    },
    {
     "name": "stderr",
     "output_type": "stream",
     "text": [
      "754it [17:24,  1.03it/s]"
     ]
    },
    {
     "name": "stdout",
     "output_type": "stream",
     "text": [
      "파일이 저장되었습니다: C:/Users/sykim/Desktop/url_blob/pdf_file\\754_BN68-17565A-00_SUG_Y24 QLED UHD QD LS03_KR_KOR_231204.0.pdf\n"
     ]
    },
    {
     "name": "stderr",
     "output_type": "stream",
     "text": [
      "755it [17:28,  1.80s/it]"
     ]
    },
    {
     "name": "stdout",
     "output_type": "stream",
     "text": [
      "파일이 저장되었습니다: C:/Users/sykim/Desktop/url_blob/pdf_file\\755_BN68-18045A-00_IG_QN87D 55-85inch_WW_L10_240111.0.pdf\n"
     ]
    },
    {
     "name": "stderr",
     "output_type": "stream",
     "text": [
      "756it [17:28,  1.40s/it]"
     ]
    },
    {
     "name": "stdout",
     "output_type": "stream",
     "text": [
      "파일이 저장되었습니다: C:/Users/sykim/Desktop/url_blob/pdf_file\\756_BN68-18068A-00_RG_Y24 QLED QD DU8 LS03_KR_KOR_231204.0.pdf\n"
     ]
    },
    {
     "name": "stderr",
     "output_type": "stream",
     "text": [
      "757it [17:29,  1.40s/it]"
     ]
    },
    {
     "name": "stdout",
     "output_type": "stream",
     "text": [
      "파일이 저장되었습니다: C:/Users/sykim/Desktop/url_blob/pdf_file\\757_BN68-18087B-00_SUG_Y24 QLED UHD QD LS03_KR_KOR_240126.0.pdf\n"
     ]
    },
    {
     "name": "stderr",
     "output_type": "stream",
     "text": [
      "758it [17:30,  1.20s/it]"
     ]
    },
    {
     "name": "stdout",
     "output_type": "stream",
     "text": [
      "파일이 저장되었습니다: C:/Users/sykim/Desktop/url_blob/pdf_file\\758_BN68-18068A-00_RG_Y24_QLED_QD_DU8_LS03_KR_KOR_231204.0.pdf\n"
     ]
    },
    {
     "name": "stderr",
     "output_type": "stream",
     "text": [
      "759it [17:32,  1.26s/it]"
     ]
    },
    {
     "name": "stdout",
     "output_type": "stream",
     "text": [
      "파일이 저장되었습니다: C:/Users/sykim/Desktop/url_blob/pdf_file\\759_BN68-18068A-00_RG_Y24 QLED QD DU8 LS03_KR_KOR_231204.0.pdf\n"
     ]
    },
    {
     "name": "stderr",
     "output_type": "stream",
     "text": [
      "760it [17:32,  1.17s/it]"
     ]
    },
    {
     "name": "stdout",
     "output_type": "stream",
     "text": [
      "파일이 저장되었습니다: C:/Users/sykim/Desktop/url_blob/pdf_file\\760_BN68-18087B-00_SUG_Y24 QLED UHD QD LS03_KR_KOR_240126.0.pdf\n"
     ]
    },
    {
     "name": "stderr",
     "output_type": "stream",
     "text": [
      "761it [17:35,  1.45s/it]"
     ]
    },
    {
     "name": "stdout",
     "output_type": "stream",
     "text": [
      "파일이 저장되었습니다: C:/Users/sykim/Desktop/url_blob/pdf_file\\761_BN68-19146A-00_IG_S85D 77-83inch_ZC ZX KOR_L04_240216.0.pdf\n"
     ]
    },
    {
     "name": "stderr",
     "output_type": "stream",
     "text": [
      "762it [17:35,  1.28s/it]"
     ]
    },
    {
     "name": "stdout",
     "output_type": "stream",
     "text": [
      "파일이 저장되었습니다: C:/Users/sykim/Desktop/url_blob/pdf_file\\762_BN68-18068A-00_RG_Y24 QLED QD DU8 LS03_KR_KOR_231204.0.pdf\n"
     ]
    },
    {
     "name": "stderr",
     "output_type": "stream",
     "text": [
      "763it [17:38,  1.59s/it]"
     ]
    },
    {
     "name": "stdout",
     "output_type": "stream",
     "text": [
      "파일이 저장되었습니다: C:/Users/sykim/Desktop/url_blob/pdf_file\\763_BN68-18087B-00_SUG_Y24 QLED UHD QD LS03_KR_KOR_240126.0.pdf\n"
     ]
    },
    {
     "name": "stderr",
     "output_type": "stream",
     "text": [
      "764it [17:40,  1.86s/it]"
     ]
    },
    {
     "name": "stdout",
     "output_type": "stream",
     "text": [
      "파일이 저장되었습니다: C:/Users/sykim/Desktop/url_blob/pdf_file\\764_BN68-19146A-00_IG_S85D 77-83inch_ZC ZX KOR_L04_240216.0.pdf\n"
     ]
    },
    {
     "name": "stderr",
     "output_type": "stream",
     "text": [
      "765it [17:41,  1.66s/it]"
     ]
    },
    {
     "name": "stdout",
     "output_type": "stream",
     "text": [
      "파일이 저장되었습니다: C:/Users/sykim/Desktop/url_blob/pdf_file\\765_BN68-18068A-00_RG_Y24 QLED QD DU8 LS03_KR_KOR_231204.0.pdf\n"
     ]
    },
    {
     "name": "stderr",
     "output_type": "stream",
     "text": [
      "766it [17:42,  1.39s/it]"
     ]
    },
    {
     "name": "stdout",
     "output_type": "stream",
     "text": [
      "파일이 저장되었습니다: C:/Users/sykim/Desktop/url_blob/pdf_file\\766_BN68-17565A-00_SUG_Y24 QLED UHD QD LS03_KR_KOR_231204.0.pdf\n"
     ]
    },
    {
     "name": "stderr",
     "output_type": "stream",
     "text": [
      "767it [17:45,  1.70s/it]"
     ]
    },
    {
     "name": "stdout",
     "output_type": "stream",
     "text": [
      "파일이 저장되었습니다: C:/Users/sykim/Desktop/url_blob/pdf_file\\767_BN68-17565A-00_SUG_Y24 QLED UHD QD LS03_KR_KOR_231204.0.pdf\n"
     ]
    },
    {
     "name": "stderr",
     "output_type": "stream",
     "text": [
      "768it [17:46,  1.62s/it]"
     ]
    },
    {
     "name": "stdout",
     "output_type": "stream",
     "text": [
      "파일이 저장되었습니다: C:/Users/sykim/Desktop/url_blob/pdf_file\\768_BN68-18068A-00_RG_Y24 QLED QD DU8 LS03_KR_KOR_231204.0.pdf\n"
     ]
    },
    {
     "name": "stderr",
     "output_type": "stream",
     "text": [
      "769it [17:48,  1.67s/it]"
     ]
    },
    {
     "name": "stdout",
     "output_type": "stream",
     "text": [
      "파일이 저장되었습니다: C:/Users/sykim/Desktop/url_blob/pdf_file\\769_BN68-17565A-00_SUG_Y24 QLED UHD QD LS03_KR_KOR_231204.0.pdf\n"
     ]
    },
    {
     "name": "stderr",
     "output_type": "stream",
     "text": [
      "770it [17:50,  1.73s/it]"
     ]
    },
    {
     "name": "stdout",
     "output_type": "stream",
     "text": [
      "파일이 저장되었습니다: C:/Users/sykim/Desktop/url_blob/pdf_file\\770_BN68-18068A-00_RG_Y24 QLED QD DU8 LS03_KR_KOR_231204.0.pdf\n"
     ]
    },
    {
     "name": "stderr",
     "output_type": "stream",
     "text": [
      "771it [17:53,  2.32s/it]"
     ]
    },
    {
     "name": "stdout",
     "output_type": "stream",
     "text": [
      "파일이 저장되었습니다: C:/Users/sykim/Desktop/url_blob/pdf_file\\771_BN68-18068A-00_RG_Y24 QLED QD DU8 LS03_KR_KOR_231204.0.pdf\n"
     ]
    },
    {
     "name": "stderr",
     "output_type": "stream",
     "text": [
      "772it [17:56,  2.27s/it]"
     ]
    },
    {
     "name": "stdout",
     "output_type": "stream",
     "text": [
      "파일이 저장되었습니다: C:/Users/sykim/Desktop/url_blob/pdf_file\\772_BN68-17565A-00_SUG_Y24 QLED UHD QD LS03_KR_KOR_231204.0.pdf\n"
     ]
    },
    {
     "name": "stderr",
     "output_type": "stream",
     "text": [
      "773it [17:57,  2.01s/it]"
     ]
    },
    {
     "name": "stdout",
     "output_type": "stream",
     "text": [
      "파일이 저장되었습니다: C:/Users/sykim/Desktop/url_blob/pdf_file\\773_BN68-18046A-00_IG_QN80D 55-65inch_WW_L10_231220.0.pdf\n"
     ]
    },
    {
     "name": "stderr",
     "output_type": "stream",
     "text": [
      "774it [17:58,  1.84s/it]"
     ]
    },
    {
     "name": "stdout",
     "output_type": "stream",
     "text": [
      "파일이 저장되었습니다: C:/Users/sykim/Desktop/url_blob/pdf_file\\774_BN68-17565A-00_SUG_Y24 QLED UHD QD LS03_KR_KOR_231204.0.pdf\n"
     ]
    },
    {
     "name": "stderr",
     "output_type": "stream",
     "text": [
      "775it [18:00,  1.79s/it]"
     ]
    },
    {
     "name": "stdout",
     "output_type": "stream",
     "text": [
      "파일이 저장되었습니다: C:/Users/sykim/Desktop/url_blob/pdf_file\\775_BN68-18068A-00_RG_Y24 QLED QD DU8 LS03_KR_KOR_231204.0.pdf\n"
     ]
    },
    {
     "name": "stderr",
     "output_type": "stream",
     "text": [
      "776it [18:01,  1.60s/it]"
     ]
    },
    {
     "name": "stdout",
     "output_type": "stream",
     "text": [
      "파일이 저장되었습니다: C:/Users/sykim/Desktop/url_blob/pdf_file\\776_BN68-18042A-00_IG_Y23 QN95C Y24 QN95D 55-65inch_WW_L10_231228.0.pdf\n"
     ]
    },
    {
     "name": "stderr",
     "output_type": "stream",
     "text": [
      "777it [18:03,  1.52s/it]"
     ]
    },
    {
     "name": "stdout",
     "output_type": "stream",
     "text": [
      "파일이 저장되었습니다: C:/Users/sykim/Desktop/url_blob/pdf_file\\777_BN68-18068A-00_RG_Y24 QLED QD DU8 LS03_KR_KOR_231204.0.pdf\n"
     ]
    },
    {
     "name": "stderr",
     "output_type": "stream",
     "text": [
      "778it [18:04,  1.36s/it]"
     ]
    },
    {
     "name": "stdout",
     "output_type": "stream",
     "text": [
      "파일이 저장되었습니다: C:/Users/sykim/Desktop/url_blob/pdf_file\\778_BN68-17565A-00_SUG_Y24 QLED UHD QD LS03_KR_KOR_231204.0.pdf\n"
     ]
    },
    {
     "name": "stderr",
     "output_type": "stream",
     "text": [
      "779it [18:06,  1.66s/it]"
     ]
    },
    {
     "name": "stdout",
     "output_type": "stream",
     "text": [
      "파일이 저장되었습니다: C:/Users/sykim/Desktop/url_blob/pdf_file\\779_BN68-18053A-00_IG_Y23 S95C Y24 S95D 55-65inch_WW_L10_231214.1.pdf\n"
     ]
    },
    {
     "name": "stderr",
     "output_type": "stream",
     "text": [
      "780it [18:07,  1.49s/it]"
     ]
    },
    {
     "name": "stdout",
     "output_type": "stream",
     "text": [
      "파일이 저장되었습니다: C:/Users/sykim/Desktop/url_blob/pdf_file\\780_BN68-18068A-00_RG_Y24 QLED QD DU8 LS03_KR_KOR_231204.0.pdf\n"
     ]
    },
    {
     "name": "stderr",
     "output_type": "stream",
     "text": [
      "781it [18:09,  1.49s/it]"
     ]
    },
    {
     "name": "stdout",
     "output_type": "stream",
     "text": [
      "파일이 저장되었습니다: C:/Users/sykim/Desktop/url_blob/pdf_file\\781_BN68-17565A-00_SUG_Y24 QLED UHD QD LS03_KR_KOR_231204.0.pdf\n"
     ]
    },
    {
     "name": "stderr",
     "output_type": "stream",
     "text": [
      "782it [18:12,  1.97s/it]"
     ]
    },
    {
     "name": "stdout",
     "output_type": "stream",
     "text": [
      "URL에서 파일을 다운로드하지 못했습니다: https://downloadcenter.samsung.com/content/EM/202403/20240310033309001/BN68-18060A-01_IG_QN900D 75-85inch_WW_L10_240131.0.pdf\n"
     ]
    },
    {
     "name": "stderr",
     "output_type": "stream",
     "text": [
      "783it [18:12,  1.59s/it]"
     ]
    },
    {
     "name": "stdout",
     "output_type": "stream",
     "text": [
      "파일이 저장되었습니다: C:/Users/sykim/Desktop/url_blob/pdf_file\\783_BN68-17565A-00_SUG_Y24 QLED UHD QD LS03_KR_KOR_231204.0.pdf\n"
     ]
    },
    {
     "name": "stderr",
     "output_type": "stream",
     "text": [
      "784it [18:13,  1.28s/it]"
     ]
    },
    {
     "name": "stdout",
     "output_type": "stream",
     "text": [
      "파일이 저장되었습니다: C:/Users/sykim/Desktop/url_blob/pdf_file\\784_BN68-18068A-00_RG_Y24 QLED QD DU8 LS03_KR_KOR_231204.0.pdf\n"
     ]
    },
    {
     "name": "stderr",
     "output_type": "stream",
     "text": [
      "785it [18:14,  1.13s/it]"
     ]
    },
    {
     "name": "stdout",
     "output_type": "stream",
     "text": [
      "파일이 저장되었습니다: C:/Users/sykim/Desktop/url_blob/pdf_file\\785_BN68-18041A-00_IG_S90D 77inch_WW_L10_231212.1.pdf\n"
     ]
    },
    {
     "name": "stderr",
     "output_type": "stream",
     "text": [
      "786it [18:15,  1.08s/it]"
     ]
    },
    {
     "name": "stdout",
     "output_type": "stream",
     "text": [
      "파일이 저장되었습니다: C:/Users/sykim/Desktop/url_blob/pdf_file\\786_BN68-17565A-00_SUG_Y24 QLED UHD QD LS03_KR_KOR_231204.0.pdf\n"
     ]
    },
    {
     "name": "stderr",
     "output_type": "stream",
     "text": [
      "787it [18:16,  1.09s/it]"
     ]
    },
    {
     "name": "stdout",
     "output_type": "stream",
     "text": [
      "파일이 저장되었습니다: C:/Users/sykim/Desktop/url_blob/pdf_file\\787_BN68-18068A-00_RG_Y24 QLED QD DU8 LS03_KR_KOR_231204.0.pdf\n"
     ]
    },
    {
     "name": "stderr",
     "output_type": "stream",
     "text": [
      "788it [18:17,  1.01it/s]"
     ]
    },
    {
     "name": "stdout",
     "output_type": "stream",
     "text": [
      "URL에서 파일을 다운로드하지 못했습니다: https://downloadcenter.samsung.com/content/EM/202403/20240310033333001/BN68-18060A-01_IG_QN900D 75-85inch_WW_L10_240131.0.pdf\n"
     ]
    },
    {
     "name": "stderr",
     "output_type": "stream",
     "text": [
      "789it [18:17,  1.09it/s]"
     ]
    },
    {
     "name": "stdout",
     "output_type": "stream",
     "text": [
      "파일이 저장되었습니다: C:/Users/sykim/Desktop/url_blob/pdf_file\\789_BN68-17565A-00_SUG_Y24 QLED UHD QD LS03_KR_KOR_231204.0.pdf\n"
     ]
    },
    {
     "name": "stderr",
     "output_type": "stream",
     "text": [
      "790it [18:18,  1.00it/s]"
     ]
    },
    {
     "name": "stdout",
     "output_type": "stream",
     "text": [
      "파일이 저장되었습니다: C:/Users/sykim/Desktop/url_blob/pdf_file\\790_BN68-18068A-00_RG_Y24 QLED QD DU8 LS03_KR_KOR_231204.0.pdf\n"
     ]
    },
    {
     "name": "stderr",
     "output_type": "stream",
     "text": [
      "791it [18:19,  1.05it/s]"
     ]
    },
    {
     "name": "stdout",
     "output_type": "stream",
     "text": [
      "파일이 저장되었습니다: C:/Users/sykim/Desktop/url_blob/pdf_file\\791_BN68-18068A-00_RG_Y24 QLED QD DU8 LS03_KR_KOR_231204.0.pdf\n"
     ]
    },
    {
     "name": "stderr",
     "output_type": "stream",
     "text": [
      "792it [18:20,  1.16it/s]"
     ]
    },
    {
     "name": "stdout",
     "output_type": "stream",
     "text": [
      "파일이 저장되었습니다: C:/Users/sykim/Desktop/url_blob/pdf_file\\792_BN68-17565A-00_SUG_Y24 QLED UHD QD LS03_KR_KOR_231204.0.pdf\n"
     ]
    },
    {
     "name": "stderr",
     "output_type": "stream",
     "text": [
      "793it [18:22,  1.33s/it]"
     ]
    },
    {
     "name": "stdout",
     "output_type": "stream",
     "text": [
      "파일이 저장되었습니다: C:/Users/sykim/Desktop/url_blob/pdf_file\\793_BN68-18047A-00_IG_Q80D 50-85inch_WW_L10_231220.0.pdf\n"
     ]
    },
    {
     "name": "stderr",
     "output_type": "stream",
     "text": [
      "794it [18:24,  1.34s/it]"
     ]
    },
    {
     "name": "stdout",
     "output_type": "stream",
     "text": [
      "파일이 저장되었습니다: C:/Users/sykim/Desktop/url_blob/pdf_file\\794_BN68-17565A-00_SUG_Y24 QLED UHD QD LS03_KR_KOR_231204.0.pdf\n"
     ]
    },
    {
     "name": "stderr",
     "output_type": "stream",
     "text": [
      "795it [18:25,  1.16s/it]"
     ]
    },
    {
     "name": "stdout",
     "output_type": "stream",
     "text": [
      "파일이 저장되었습니다: C:/Users/sykim/Desktop/url_blob/pdf_file\\795_BN68-18068A-00_RG_Y24 QLED QD DU8 LS03_KR_KOR_231204.0.pdf\n"
     ]
    },
    {
     "name": "stderr",
     "output_type": "stream",
     "text": [
      "796it [18:25,  1.00s/it]"
     ]
    },
    {
     "name": "stdout",
     "output_type": "stream",
     "text": [
      "파일이 저장되었습니다: C:/Users/sykim/Desktop/url_blob/pdf_file\\796_BN68-18068A-00_RG_Y24 QLED QD DU8 LS03_KR_KOR_231204.0.pdf\n"
     ]
    },
    {
     "name": "stderr",
     "output_type": "stream",
     "text": [
      "797it [18:27,  1.29s/it]"
     ]
    },
    {
     "name": "stdout",
     "output_type": "stream",
     "text": [
      "파일이 저장되었습니다: C:/Users/sykim/Desktop/url_blob/pdf_file\\797_BN68-17565A-00_SUG_Y24 QLED UHD QD LS03_KR_KOR_231204.0.pdf\n"
     ]
    },
    {
     "name": "stderr",
     "output_type": "stream",
     "text": [
      "798it [18:28,  1.28s/it]"
     ]
    },
    {
     "name": "stdout",
     "output_type": "stream",
     "text": [
      "파일이 저장되었습니다: C:/Users/sykim/Desktop/url_blob/pdf_file\\798_BN68-18045A-00_IG_QN87D 55-85inch_WW_L10_240111.0.pdf\n"
     ]
    },
    {
     "name": "stderr",
     "output_type": "stream",
     "text": [
      "799it [18:29,  1.22s/it]"
     ]
    },
    {
     "name": "stdout",
     "output_type": "stream",
     "text": [
      "파일이 저장되었습니다: C:/Users/sykim/Desktop/url_blob/pdf_file\\799_BN68-18068A-00_RG_Y24 QLED QD DU8 LS03_KR_KOR_231204.0.pdf\n"
     ]
    },
    {
     "name": "stderr",
     "output_type": "stream",
     "text": [
      "800it [18:31,  1.21s/it]"
     ]
    },
    {
     "name": "stdout",
     "output_type": "stream",
     "text": [
      "파일이 저장되었습니다: C:/Users/sykim/Desktop/url_blob/pdf_file\\800_BN68-17565A-00_SUG_Y24 QLED UHD QD LS03_KR_KOR_231204.0.pdf\n"
     ]
    },
    {
     "name": "stderr",
     "output_type": "stream",
     "text": [
      "801it [18:32,  1.32s/it]"
     ]
    },
    {
     "name": "stdout",
     "output_type": "stream",
     "text": [
      "파일이 저장되었습니다: C:/Users/sykim/Desktop/url_blob/pdf_file\\801_BN68-18042A-00_IG_Y23 QN95C Y24 QN95D 55-65inch_WW_L10_231228.0.pdf\n"
     ]
    },
    {
     "name": "stderr",
     "output_type": "stream",
     "text": [
      "802it [18:34,  1.33s/it]"
     ]
    },
    {
     "name": "stdout",
     "output_type": "stream",
     "text": [
      "파일이 저장되었습니다: C:/Users/sykim/Desktop/url_blob/pdf_file\\802_BN68-18068A-00_RG_Y24 QLED QD DU8 LS03_KR_KOR_231204.0.pdf\n"
     ]
    },
    {
     "name": "stderr",
     "output_type": "stream",
     "text": [
      "803it [18:35,  1.22s/it]"
     ]
    },
    {
     "name": "stdout",
     "output_type": "stream",
     "text": [
      "파일이 저장되었습니다: C:/Users/sykim/Desktop/url_blob/pdf_file\\803_BN68-17565A-00_SUG_Y24 QLED UHD QD LS03_KR_KOR_231204.0.pdf\n"
     ]
    },
    {
     "name": "stderr",
     "output_type": "stream",
     "text": [
      "804it [18:36,  1.18s/it]"
     ]
    },
    {
     "name": "stdout",
     "output_type": "stream",
     "text": [
      "파일이 저장되었습니다: C:/Users/sykim/Desktop/url_blob/pdf_file\\804_BN68-18040A-00_IG_S90D 55-65inch_WW_L10_231211.0.pdf\n"
     ]
    },
    {
     "name": "stderr",
     "output_type": "stream",
     "text": [
      "805it [18:38,  1.40s/it]"
     ]
    },
    {
     "name": "stdout",
     "output_type": "stream",
     "text": [
      "파일이 저장되었습니다: C:/Users/sykim/Desktop/url_blob/pdf_file\\805_BN68-17565A-00_SUG_Y24 QLED UHD QD LS03_KR_KOR_231204.0.pdf\n"
     ]
    },
    {
     "name": "stderr",
     "output_type": "stream",
     "text": [
      "806it [18:39,  1.44s/it]"
     ]
    },
    {
     "name": "stdout",
     "output_type": "stream",
     "text": [
      "파일이 저장되었습니다: C:/Users/sykim/Desktop/url_blob/pdf_file\\806_BN68-18068A-00_RG_Y24 QLED QD DU8 LS03_KR_KOR_231204.0.pdf\n"
     ]
    },
    {
     "name": "stderr",
     "output_type": "stream",
     "text": [
      "807it [18:40,  1.34s/it]"
     ]
    },
    {
     "name": "stdout",
     "output_type": "stream",
     "text": [
      "파일이 저장되었습니다: C:/Users/sykim/Desktop/url_blob/pdf_file\\807_BN68-18053A-00_IG_Y23 S95C Y24 S95D 55-65inch_WW_L10_231214.1.pdf\n"
     ]
    },
    {
     "name": "stderr",
     "output_type": "stream",
     "text": [
      "808it [18:41,  1.11s/it]"
     ]
    },
    {
     "name": "stdout",
     "output_type": "stream",
     "text": [
      "파일이 저장되었습니다: C:/Users/sykim/Desktop/url_blob/pdf_file\\808_BN68-17565A-00_SUG_Y24 QLED UHD QD LS03_KR_KOR_231204.0.pdf\n"
     ]
    },
    {
     "name": "stderr",
     "output_type": "stream",
     "text": [
      "809it [18:42,  1.25s/it]"
     ]
    },
    {
     "name": "stdout",
     "output_type": "stream",
     "text": [
      "파일이 저장되었습니다: C:/Users/sykim/Desktop/url_blob/pdf_file\\809_BN68-18068A-00_RG_Y24 QLED QD DU8 LS03_KR_KOR_231204.0.pdf\n"
     ]
    },
    {
     "name": "stderr",
     "output_type": "stream",
     "text": [
      "810it [18:44,  1.52s/it]"
     ]
    },
    {
     "name": "stdout",
     "output_type": "stream",
     "text": [
      "파일이 저장되었습니다: C:/Users/sykim/Desktop/url_blob/pdf_file\\810_BN68-18097A-00_IG_Y23 QN700C 800C 900C Y24 QN800D 55-65inch_WW_L10_231214.1.pdf\n"
     ]
    },
    {
     "name": "stderr",
     "output_type": "stream",
     "text": [
      "811it [18:46,  1.49s/it]"
     ]
    },
    {
     "name": "stdout",
     "output_type": "stream",
     "text": [
      "파일이 저장되었습니다: C:/Users/sykim/Desktop/url_blob/pdf_file\\811_BN68-18068A-00_RG_Y24 QLED QD DU8 LS03_KR_KOR_231204.0.pdf\n"
     ]
    },
    {
     "name": "stderr",
     "output_type": "stream",
     "text": [
      "812it [18:48,  1.63s/it]"
     ]
    },
    {
     "name": "stdout",
     "output_type": "stream",
     "text": [
      "파일이 저장되었습니다: C:/Users/sykim/Desktop/url_blob/pdf_file\\812_BN68-17565A-00_SUG_Y24 QLED UHD QD LS03_KR_KOR_231204.0.pdf\n"
     ]
    },
    {
     "name": "stderr",
     "output_type": "stream",
     "text": [
      "813it [18:49,  1.53s/it]"
     ]
    },
    {
     "name": "stdout",
     "output_type": "stream",
     "text": [
      "파일이 저장되었습니다: C:/Users/sykim/Desktop/url_blob/pdf_file\\813_BN68-18040A-00_IG_S90D 55-65inch_WW_L10_231211.0.pdf\n"
     ]
    },
    {
     "name": "stderr",
     "output_type": "stream",
     "text": [
      "814it [18:50,  1.48s/it]"
     ]
    },
    {
     "name": "stdout",
     "output_type": "stream",
     "text": [
      "파일이 저장되었습니다: C:/Users/sykim/Desktop/url_blob/pdf_file\\814_BN68-17565A-00_SUG_Y24 QLED UHD QD LS03_KR_KOR_231204.0.pdf\n"
     ]
    },
    {
     "name": "stderr",
     "output_type": "stream",
     "text": [
      "815it [18:52,  1.41s/it]"
     ]
    },
    {
     "name": "stdout",
     "output_type": "stream",
     "text": [
      "파일이 저장되었습니다: C:/Users/sykim/Desktop/url_blob/pdf_file\\815_BN68-18068A-00_RG_Y24 QLED QD DU8 LS03_KR_KOR_231204.0.pdf\n"
     ]
    },
    {
     "name": "stderr",
     "output_type": "stream",
     "text": [
      "816it [18:53,  1.46s/it]"
     ]
    },
    {
     "name": "stdout",
     "output_type": "stream",
     "text": [
      "파일이 저장되었습니다: C:/Users/sykim/Desktop/url_blob/pdf_file\\816_BN68-18099A-00_IG_Y23 QN700C 800C 900C Y24 QN800D 75-85inch_WW_L10_231214.1.pdf\n"
     ]
    },
    {
     "name": "stderr",
     "output_type": "stream",
     "text": [
      "817it [18:54,  1.19s/it]"
     ]
    },
    {
     "name": "stdout",
     "output_type": "stream",
     "text": [
      "파일이 저장되었습니다: C:/Users/sykim/Desktop/url_blob/pdf_file\\817_BN68-18068A-00_RG_Y24 QLED QD DU8 LS03_KR_KOR_231204.0.pdf\n"
     ]
    },
    {
     "name": "stderr",
     "output_type": "stream",
     "text": [
      "818it [18:55,  1.04s/it]"
     ]
    },
    {
     "name": "stdout",
     "output_type": "stream",
     "text": [
      "파일이 저장되었습니다: C:/Users/sykim/Desktop/url_blob/pdf_file\\818_BN68-17565A-00_SUG_Y24 QLED UHD QD LS03_KR_KOR_231204.0.pdf\n"
     ]
    },
    {
     "name": "stderr",
     "output_type": "stream",
     "text": [
      "819it [18:55,  1.05it/s]"
     ]
    },
    {
     "name": "stdout",
     "output_type": "stream",
     "text": [
      "파일이 저장되었습니다: C:/Users/sykim/Desktop/url_blob/pdf_file\\819_BN68-18054A-00_IG_Y23 S95C Y24 S95D 77inch_WW_L10_231215.0.pdf\n"
     ]
    },
    {
     "name": "stderr",
     "output_type": "stream",
     "text": [
      "820it [18:56,  1.14it/s]"
     ]
    },
    {
     "name": "stdout",
     "output_type": "stream",
     "text": [
      "파일이 저장되었습니다: C:/Users/sykim/Desktop/url_blob/pdf_file\\820_BN68-17565A-00_SUG_Y24 QLED UHD QD LS03_KR_KOR_231204.0.pdf\n"
     ]
    },
    {
     "name": "stderr",
     "output_type": "stream",
     "text": [
      "821it [18:57,  1.23it/s]"
     ]
    },
    {
     "name": "stdout",
     "output_type": "stream",
     "text": [
      "파일이 저장되었습니다: C:/Users/sykim/Desktop/url_blob/pdf_file\\821_BN68-18068A-00_RG_Y24 QLED QD DU8 LS03_KR_KOR_231204.0.pdf\n"
     ]
    },
    {
     "name": "stderr",
     "output_type": "stream",
     "text": [
      "822it [18:57,  1.42it/s]"
     ]
    },
    {
     "name": "stdout",
     "output_type": "stream",
     "text": [
      "파일이 저장되었습니다: C:/Users/sykim/Desktop/url_blob/pdf_file\\822_BN68-18068A-00_RG_Y24 QLED QD DU8 LS03_KR_KOR_231204.0.pdf\n"
     ]
    },
    {
     "name": "stderr",
     "output_type": "stream",
     "text": [
      "823it [18:58,  1.60it/s]"
     ]
    },
    {
     "name": "stdout",
     "output_type": "stream",
     "text": [
      "파일이 저장되었습니다: C:/Users/sykim/Desktop/url_blob/pdf_file\\823_BN68-17565A-00_SUG_Y24 QLED UHD QD LS03_KR_KOR_231204.0.pdf\n"
     ]
    },
    {
     "name": "stderr",
     "output_type": "stream",
     "text": [
      "824it [18:59,  1.24it/s]"
     ]
    },
    {
     "name": "stdout",
     "output_type": "stream",
     "text": [
      "파일이 저장되었습니다: C:/Users/sykim/Desktop/url_blob/pdf_file\\824_BN68-17565A-00_SUG_Y24 QLED UHD QD LS03_KR_KOR_231204.0.pdf\n"
     ]
    },
    {
     "name": "stderr",
     "output_type": "stream",
     "text": [
      "825it [19:00,  1.17it/s]"
     ]
    },
    {
     "name": "stdout",
     "output_type": "stream",
     "text": [
      "파일이 저장되었습니다: C:/Users/sykim/Desktop/url_blob/pdf_file\\825_BN68-18086B-00_RG_UD7_KR_KOR_240103.0.pdf\n"
     ]
    },
    {
     "name": "stderr",
     "output_type": "stream",
     "text": [
      "826it [19:01,  1.14it/s]"
     ]
    },
    {
     "name": "stdout",
     "output_type": "stream",
     "text": [
      "파일이 저장되었습니다: C:/Users/sykim/Desktop/url_blob/pdf_file\\826_BN68-18082A-00_IG_QN80D 75-85inch_WW_L10_231220.0.pdf\n"
     ]
    },
    {
     "name": "stderr",
     "output_type": "stream",
     "text": [
      "827it [19:02,  1.03s/it]"
     ]
    },
    {
     "name": "stdout",
     "output_type": "stream",
     "text": [
      "파일이 저장되었습니다: C:/Users/sykim/Desktop/url_blob/pdf_file\\827_BN68-19268A-00_SUG_Y24 QLED UHD QD LS03_KR_KOR_240222.0.pdf\n"
     ]
    },
    {
     "name": "stderr",
     "output_type": "stream",
     "text": [
      "828it [19:04,  1.19s/it]"
     ]
    },
    {
     "name": "stdout",
     "output_type": "stream",
     "text": [
      "파일이 저장되었습니다: C:/Users/sykim/Desktop/url_blob/pdf_file\\828_BN68-17565A-00_SUG_Y24 QLED UHD QD LS03_KR_KOR_231204.0.pdf\n"
     ]
    },
    {
     "name": "stderr",
     "output_type": "stream",
     "text": [
      "829it [19:06,  1.40s/it]"
     ]
    },
    {
     "name": "stdout",
     "output_type": "stream",
     "text": [
      "파일이 저장되었습니다: C:/Users/sykim/Desktop/url_blob/pdf_file\\829_BN68-18068A-00_RG_Y24 QLED QD DU8 LS03_KR_KOR_231204.0.pdf\n"
     ]
    },
    {
     "name": "stderr",
     "output_type": "stream",
     "text": [
      "830it [19:08,  1.83s/it]"
     ]
    },
    {
     "name": "stdout",
     "output_type": "stream",
     "text": [
      "파일이 저장되었습니다: C:/Users/sykim/Desktop/url_blob/pdf_file\\830_BN68-19131A-00_IG_S90DB 77-83inch_WW_L10_240215.0.pdf\n"
     ]
    },
    {
     "name": "stderr",
     "output_type": "stream",
     "text": [
      "831it [19:10,  1.84s/it]"
     ]
    },
    {
     "name": "stdout",
     "output_type": "stream",
     "text": [
      "파일이 저장되었습니다: C:/Users/sykim/Desktop/url_blob/pdf_file\\831_BN68-17565A-00_SUG_Y24 QLED UHD QD LS03_KR_KOR_231204.0.pdf\n"
     ]
    },
    {
     "name": "stderr",
     "output_type": "stream",
     "text": [
      "832it [19:11,  1.57s/it]"
     ]
    },
    {
     "name": "stdout",
     "output_type": "stream",
     "text": [
      "파일이 저장되었습니다: C:/Users/sykim/Desktop/url_blob/pdf_file\\832_BN68-18086B-00_RG_UD7_KR_KOR_240103.0.pdf\n"
     ]
    },
    {
     "name": "stderr",
     "output_type": "stream",
     "text": [
      "833it [19:15,  2.29s/it]"
     ]
    },
    {
     "name": "stdout",
     "output_type": "stream",
     "text": [
      "파일이 저장되었습니다: C:/Users/sykim/Desktop/url_blob/pdf_file\\833_BN68-18046A-00_IG_QN80D 55-65inch_WW_L10_231220.0.pdf\n"
     ]
    },
    {
     "name": "stderr",
     "output_type": "stream",
     "text": [
      "834it [19:16,  1.88s/it]"
     ]
    },
    {
     "name": "stdout",
     "output_type": "stream",
     "text": [
      "파일이 저장되었습니다: C:/Users/sykim/Desktop/url_blob/pdf_file\\834_BN68-19268A-00_SUG_Y24 QLED UHD QD LS03_KR_KOR_240222.0.pdf\n"
     ]
    },
    {
     "name": "stderr",
     "output_type": "stream",
     "text": [
      "835it [19:17,  1.64s/it]"
     ]
    },
    {
     "name": "stdout",
     "output_type": "stream",
     "text": [
      "파일이 저장되었습니다: C:/Users/sykim/Desktop/url_blob/pdf_file\\835_BN68-18068A-00_RG_Y24 QLED QD DU8 LS03_KR_KOR_231204.0.pdf\n"
     ]
    },
    {
     "name": "stderr",
     "output_type": "stream",
     "text": [
      "836it [19:18,  1.53s/it]"
     ]
    },
    {
     "name": "stdout",
     "output_type": "stream",
     "text": [
      "파일이 저장되었습니다: C:/Users/sykim/Desktop/url_blob/pdf_file\\836_BN68-17565A-00_SUG_Y24 QLED UHD QD LS03_KR_KOR_231204.0.pdf\n"
     ]
    },
    {
     "name": "stderr",
     "output_type": "stream",
     "text": [
      "837it [19:20,  1.65s/it]"
     ]
    },
    {
     "name": "stdout",
     "output_type": "stream",
     "text": [
      "파일이 저장되었습니다: C:/Users/sykim/Desktop/url_blob/pdf_file\\837_BN68-18046A-00_IG_QN80D 55-65inch_WW_L10_231220.0.pdf\n"
     ]
    },
    {
     "name": "stderr",
     "output_type": "stream",
     "text": [
      "838it [19:22,  1.69s/it]"
     ]
    },
    {
     "name": "stdout",
     "output_type": "stream",
     "text": [
      "파일이 저장되었습니다: C:/Users/sykim/Desktop/url_blob/pdf_file\\838_BN68-19268A-00_SUG_Y24 QLED UHD QD LS03_KR_KOR_240222.0.pdf\n"
     ]
    },
    {
     "name": "stderr",
     "output_type": "stream",
     "text": [
      "839it [19:25,  1.97s/it]"
     ]
    },
    {
     "name": "stdout",
     "output_type": "stream",
     "text": [
      "파일이 저장되었습니다: C:/Users/sykim/Desktop/url_blob/pdf_file\\839_BN68-18082A-00_IG_QN80D 75-85inch_WW_L10_231220.0.pdf\n"
     ]
    },
    {
     "name": "stderr",
     "output_type": "stream",
     "text": [
      "840it [19:27,  2.08s/it]"
     ]
    },
    {
     "name": "stdout",
     "output_type": "stream",
     "text": [
      "파일이 저장되었습니다: C:/Users/sykim/Desktop/url_blob/pdf_file\\840_BN68-19268A-00_SUG_Y24 QLED UHD QD LS03_KR_KOR_240222.0.pdf\n"
     ]
    },
    {
     "name": "stderr",
     "output_type": "stream",
     "text": [
      "841it [19:30,  2.45s/it]"
     ]
    },
    {
     "name": "stdout",
     "output_type": "stream",
     "text": [
      "파일이 저장되었습니다: C:/Users/sykim/Desktop/url_blob/pdf_file\\841_BN68-19137A-01_QSG_QN990C 98inch_WW_L10_240312.0.pdf\n"
     ]
    },
    {
     "name": "stderr",
     "output_type": "stream",
     "text": [
      "842it [19:37,  3.75s/it]"
     ]
    },
    {
     "name": "stdout",
     "output_type": "stream",
     "text": [
      "파일이 저장되었습니다: C:/Users/sykim/Desktop/url_blob/pdf_file\\842_BN68-18044B-01_IG_QN90D 98inch_WW_L10_240312.0.pdf\n"
     ]
    },
    {
     "name": "stderr",
     "output_type": "stream",
     "text": [
      "843it [19:41,  3.62s/it]"
     ]
    },
    {
     "name": "stdout",
     "output_type": "stream",
     "text": [
      "파일이 저장되었습니다: C:/Users/sykim/Desktop/url_blob/pdf_file\\843_BN68-19135A-01_QSG_Q80C 98inch_WW_L10_240312.0.pdf\n"
     ]
    },
    {
     "name": "stderr",
     "output_type": "stream",
     "text": [
      "844it [19:41,  2.81s/it]"
     ]
    },
    {
     "name": "stdout",
     "output_type": "stream",
     "text": [
      "파일이 저장되었습니다: C:/Users/sykim/Desktop/url_blob/pdf_file\\844_BN68-17565A-00_SUG_Y24 QLED UHD QD LS03_KR_KOR_231204.0.pdf\n"
     ]
    },
    {
     "name": "stderr",
     "output_type": "stream",
     "text": [
      "845it [19:42,  2.28s/it]"
     ]
    },
    {
     "name": "stdout",
     "output_type": "stream",
     "text": [
      "파일이 저장되었습니다: C:/Users/sykim/Desktop/url_blob/pdf_file\\845_BN68-18068A-00_RG_Y24 QLED QD DU8 LS03_KR_KOR_231204.0.pdf\n"
     ]
    },
    {
     "name": "stderr",
     "output_type": "stream",
     "text": [
      "846it [19:45,  2.33s/it]"
     ]
    },
    {
     "name": "stdout",
     "output_type": "stream",
     "text": [
      "파일이 저장되었습니다: C:/Users/sykim/Desktop/url_blob/pdf_file\\846_BN68-18068A-00_RG_Y24 QLED QD DU8 LS03_KR_KOR_231204.0.pdf\n"
     ]
    },
    {
     "name": "stderr",
     "output_type": "stream",
     "text": [
      "847it [19:48,  2.61s/it]"
     ]
    },
    {
     "name": "stdout",
     "output_type": "stream",
     "text": [
      "파일이 저장되었습니다: C:/Users/sykim/Desktop/url_blob/pdf_file\\847_BN68-18087B-00_SUG_Y24 QLED UHD QD LS03_KR_KOR_240126.0.pdf\n"
     ]
    },
    {
     "name": "stderr",
     "output_type": "stream",
     "text": [
      "848it [19:50,  2.52s/it]"
     ]
    },
    {
     "name": "stdout",
     "output_type": "stream",
     "text": [
      "파일이 저장되었습니다: C:/Users/sykim/Desktop/url_blob/pdf_file\\848_BN68-18087B-00_SUG_Y24 QLED UHD QD LS03_KR_KOR_240126.0.pdf\n"
     ]
    },
    {
     "name": "stderr",
     "output_type": "stream",
     "text": [
      "849it [19:52,  2.26s/it]"
     ]
    },
    {
     "name": "stdout",
     "output_type": "stream",
     "text": [
      "파일이 저장되었습니다: C:/Users/sykim/Desktop/url_blob/pdf_file\\849_BN68-18068A-00_RG_Y24 QLED QD DU8 LS03_KR_KOR_231204.0.pdf\n"
     ]
    },
    {
     "name": "stderr",
     "output_type": "stream",
     "text": [
      "850it [19:53,  1.77s/it]"
     ]
    },
    {
     "name": "stdout",
     "output_type": "stream",
     "text": [
      "파일이 저장되었습니다: C:/Users/sykim/Desktop/url_blob/pdf_file\\850_BN68-18068A-00_RG_Y24 QLED QD DU8 LS03_KR_KOR_231204.0.pdf\n"
     ]
    },
    {
     "name": "stderr",
     "output_type": "stream",
     "text": [
      "851it [19:53,  1.46s/it]"
     ]
    },
    {
     "name": "stdout",
     "output_type": "stream",
     "text": [
      "파일이 저장되었습니다: C:/Users/sykim/Desktop/url_blob/pdf_file\\851_BN68-18087B-00_SUG_Y24 QLED UHD QD LS03_KR_KOR_240126.0.pdf\n"
     ]
    },
    {
     "name": "stderr",
     "output_type": "stream",
     "text": [
      "852it [19:55,  1.53s/it]"
     ]
    },
    {
     "name": "stdout",
     "output_type": "stream",
     "text": [
      "파일이 저장되었습니다: C:/Users/sykim/Desktop/url_blob/pdf_file\\852_BN68-18068A-00_RG_Y24 QLED QD DU8 LS03_KR_KOR_231204.0.pdf\n"
     ]
    },
    {
     "name": "stderr",
     "output_type": "stream",
     "text": [
      "853it [19:57,  1.58s/it]"
     ]
    },
    {
     "name": "stdout",
     "output_type": "stream",
     "text": [
      "파일이 저장되었습니다: C:/Users/sykim/Desktop/url_blob/pdf_file\\853_BN68-18087B-00_SUG_Y24 QLED UHD QD LS03_KR_KOR_240126.0.pdf\n"
     ]
    },
    {
     "name": "stderr",
     "output_type": "stream",
     "text": [
      "854it [19:59,  1.79s/it]"
     ]
    },
    {
     "name": "stdout",
     "output_type": "stream",
     "text": [
      "파일이 저장되었습니다: C:/Users/sykim/Desktop/url_blob/pdf_file\\854_BN68-18068A-00_RG_Y24 QLED QD DU8 LS03_KR_KOR_231204.0.pdf\n"
     ]
    },
    {
     "name": "stderr",
     "output_type": "stream",
     "text": [
      "855it [20:05,  3.00s/it]"
     ]
    },
    {
     "name": "stdout",
     "output_type": "stream",
     "text": [
      "파일이 저장되었습니다: C:/Users/sykim/Desktop/url_blob/pdf_file\\855_BN68-18544A-00_IG_LS01D 43-65inch_WW_L10_240319.0.pdf\n"
     ]
    },
    {
     "name": "stderr",
     "output_type": "stream",
     "text": [
      "856it [20:07,  2.62s/it]"
     ]
    },
    {
     "name": "stdout",
     "output_type": "stream",
     "text": [
      "파일이 저장되었습니다: C:/Users/sykim/Desktop/url_blob/pdf_file\\856_BN68-19204A-00_SUG_LS01D_KR_KOR_240318.0.pdf\n"
     ]
    },
    {
     "name": "stderr",
     "output_type": "stream",
     "text": [
      "857it [20:07,  1.92s/it]"
     ]
    },
    {
     "name": "stdout",
     "output_type": "stream",
     "text": [
      "파일이 저장되었습니다: C:/Users/sykim/Desktop/url_blob/pdf_file\\857_BN68-18068A-00_RG_Y24 QLED QD DU8 LS03_KR_KOR_231204.0.pdf\n"
     ]
    },
    {
     "name": "stderr",
     "output_type": "stream",
     "text": [
      "858it [20:08,  1.65s/it]"
     ]
    },
    {
     "name": "stdout",
     "output_type": "stream",
     "text": [
      "파일이 저장되었습니다: C:/Users/sykim/Desktop/url_blob/pdf_file\\858_BN68-19204A-00_SUG_LS01D_KR_KOR_240318.0.pdf\n"
     ]
    },
    {
     "name": "stderr",
     "output_type": "stream",
     "text": [
      "859it [20:09,  1.58s/it]"
     ]
    },
    {
     "name": "stdout",
     "output_type": "stream",
     "text": [
      "파일이 저장되었습니다: C:/Users/sykim/Desktop/url_blob/pdf_file\\859_BN68-18544A-00_IG_LS01D 43-65inch_WW_L10_240319.0.pdf\n"
     ]
    },
    {
     "name": "stderr",
     "output_type": "stream",
     "text": [
      "860it [20:11,  1.53s/it]"
     ]
    },
    {
     "name": "stdout",
     "output_type": "stream",
     "text": [
      "파일이 저장되었습니다: C:/Users/sykim/Desktop/url_blob/pdf_file\\860_BN68-18068A-00_RG_Y24 QLED QD DU8 LS03_KR_KOR_231204.0.pdf\n"
     ]
    },
    {
     "name": "stderr",
     "output_type": "stream",
     "text": [
      "861it [20:13,  1.62s/it]"
     ]
    },
    {
     "name": "stdout",
     "output_type": "stream",
     "text": [
      "파일이 저장되었습니다: C:/Users/sykim/Desktop/url_blob/pdf_file\\861_BN68-18544A-00_IG_LS01D 43-65inch_WW_L10_240319.0.pdf\n"
     ]
    },
    {
     "name": "stderr",
     "output_type": "stream",
     "text": [
      "862it [20:18,  2.62s/it]"
     ]
    },
    {
     "name": "stdout",
     "output_type": "stream",
     "text": [
      "파일이 저장되었습니다: C:/Users/sykim/Desktop/url_blob/pdf_file\\862_BN68-19204A-00_SUG_LS01D_KR_KOR_240318.0.pdf\n"
     ]
    },
    {
     "name": "stderr",
     "output_type": "stream",
     "text": [
      "863it [20:19,  2.24s/it]"
     ]
    },
    {
     "name": "stdout",
     "output_type": "stream",
     "text": [
      "파일이 저장되었습니다: C:/Users/sykim/Desktop/url_blob/pdf_file\\863_BN68-18068A-00_RG_Y24 QLED QD DU8 LS03_KR_KOR_231204.0.pdf\n"
     ]
    },
    {
     "name": "stderr",
     "output_type": "stream",
     "text": [
      "864it [20:21,  2.04s/it]"
     ]
    },
    {
     "name": "stdout",
     "output_type": "stream",
     "text": [
      "파일이 저장되었습니다: C:/Users/sykim/Desktop/url_blob/pdf_file\\864_BN68-18544A-00_IG_LS01D 43-65inch_WW_L10_240319.0.pdf\n"
     ]
    },
    {
     "name": "stderr",
     "output_type": "stream",
     "text": [
      "865it [20:22,  1.78s/it]"
     ]
    },
    {
     "name": "stdout",
     "output_type": "stream",
     "text": [
      "파일이 저장되었습니다: C:/Users/sykim/Desktop/url_blob/pdf_file\\865_BN68-19204A-00_SUG_LS01D_KR_KOR_240318.0.pdf\n"
     ]
    },
    {
     "name": "stderr",
     "output_type": "stream",
     "text": [
      "866it [20:23,  1.72s/it]"
     ]
    },
    {
     "name": "stdout",
     "output_type": "stream",
     "text": [
      "파일이 저장되었습니다: C:/Users/sykim/Desktop/url_blob/pdf_file\\866_BN68-18077B-01_IG_DU7000 Flat feet 75-85inch_WW_L10_240402.0.pdf\n"
     ]
    },
    {
     "name": "stderr",
     "output_type": "stream",
     "text": [
      "867it [20:24,  1.52s/it]"
     ]
    },
    {
     "name": "stdout",
     "output_type": "stream",
     "text": [
      "파일이 저장되었습니다: C:/Users/sykim/Desktop/url_blob/pdf_file\\867_BN68-18077C-01_IG_DU9000 Flat feet 98inch_WW_L10_240412.0.pdf\n"
     ]
    },
    {
     "name": "stderr",
     "output_type": "stream",
     "text": [
      "868it [20:26,  1.49s/it]"
     ]
    },
    {
     "name": "stdout",
     "output_type": "stream",
     "text": [
      "파일이 저장되었습니다: C:/Users/sykim/Desktop/url_blob/pdf_file\\868_BN68-18077B-01_IG_DU7000 Flat feet 75-85inch_WW_L10_240402.0.pdf\n"
     ]
    },
    {
     "name": "stderr",
     "output_type": "stream",
     "text": [
      "869it [20:27,  1.53s/it]"
     ]
    },
    {
     "name": "stdout",
     "output_type": "stream",
     "text": [
      "파일이 저장되었습니다: C:/Users/sykim/Desktop/url_blob/pdf_file\\869_BN68-18077B-01_IG_DU7000 Flat feet 75-85inch_WW_L10_240402.0.pdf\n"
     ]
    },
    {
     "name": "stderr",
     "output_type": "stream",
     "text": [
      "870it [20:29,  1.66s/it]"
     ]
    },
    {
     "name": "stdout",
     "output_type": "stream",
     "text": [
      "파일이 저장되었습니다: C:/Users/sykim/Desktop/url_blob/pdf_file\\870_BN68-18077B-01_IG_DU7000 Flat feet 75-85inch_WW_L10_240402.0.pdf\n"
     ]
    },
    {
     "name": "stderr",
     "output_type": "stream",
     "text": [
      "871it [20:31,  1.60s/it]"
     ]
    },
    {
     "name": "stdout",
     "output_type": "stream",
     "text": [
      "파일이 저장되었습니다: C:/Users/sykim/Desktop/url_blob/pdf_file\\871_DC68-03273W-02_QG_WASHER_KO_240306.pdf\n"
     ]
    },
    {
     "name": "stderr",
     "output_type": "stream",
     "text": [
      "872it [20:33,  1.66s/it]"
     ]
    },
    {
     "name": "stdout",
     "output_type": "stream",
     "text": [
      "파일이 저장되었습니다: C:/Users/sykim/Desktop/url_blob/pdf_file\\872_BN68-19257A-01_IG_DU7000 Flat feet 43-70inch_WW_L10_240513.0.pdf\n"
     ]
    },
    {
     "name": "stderr",
     "output_type": "stream",
     "text": [
      "873it [20:34,  1.61s/it]"
     ]
    },
    {
     "name": "stdout",
     "output_type": "stream",
     "text": [
      "파일이 저장되었습니다: C:/Users/sykim/Desktop/url_blob/pdf_file\\873_BN68-19257A-01_IG_DU7000 Flat feet 43-70inch_WW_L10_240513.0.pdf\n"
     ]
    },
    {
     "name": "stderr",
     "output_type": "stream",
     "text": [
      "874it [20:35,  1.40s/it]"
     ]
    },
    {
     "name": "stdout",
     "output_type": "stream",
     "text": [
      "파일이 저장되었습니다: C:/Users/sykim/Desktop/url_blob/pdf_file\\874_BN68-19257A-01_IG_DU7000 Flat feet 43-70inch_WW_L10_240513.0.pdf\n"
     ]
    },
    {
     "name": "stderr",
     "output_type": "stream",
     "text": [
      "875it [20:36,  1.31s/it]"
     ]
    },
    {
     "name": "stdout",
     "output_type": "stream",
     "text": [
      "파일이 저장되었습니다: C:/Users/sykim/Desktop/url_blob/pdf_file\\875_BN68-19257A-01_IG_DU7000 Flat feet 43-70inch_WW_L10_240513.0.pdf\n"
     ]
    },
    {
     "name": "stderr",
     "output_type": "stream",
     "text": [
      "876it [20:38,  1.34s/it]"
     ]
    },
    {
     "name": "stdout",
     "output_type": "stream",
     "text": [
      "파일이 저장되었습니다: C:/Users/sykim/Desktop/url_blob/pdf_file\\876_BN68-19257A-01_IG_DU7000 Flat feet 43-70inch_WW_L10_240513.0.pdf\n"
     ]
    },
    {
     "name": "stderr",
     "output_type": "stream",
     "text": [
      "877it [20:39,  1.31s/it]"
     ]
    },
    {
     "name": "stdout",
     "output_type": "stream",
     "text": [
      "파일이 저장되었습니다: C:/Users/sykim/Desktop/url_blob/pdf_file\\877_BN68-19257A-01_IG_DU7000 Flat feet 43-70inch_WW_L10_240513.0.pdf\n"
     ]
    },
    {
     "name": "stderr",
     "output_type": "stream",
     "text": [
      "878it [20:40,  1.20s/it]"
     ]
    },
    {
     "name": "stdout",
     "output_type": "stream",
     "text": [
      "파일이 저장되었습니다: C:/Users/sykim/Desktop/url_blob/pdf_file\\878_BN68-19257A-01_IG_DU7000 Flat feet 43-70inch_WW_L10_240513.0.pdf\n"
     ]
    },
    {
     "name": "stderr",
     "output_type": "stream",
     "text": [
      "879it [20:41,  1.16s/it]"
     ]
    },
    {
     "name": "stdout",
     "output_type": "stream",
     "text": [
      "파일이 저장되었습니다: C:/Users/sykim/Desktop/url_blob/pdf_file\\879_BN68-19257A-01_IG_DU7000 Flat feet 43-70inch_WW_L10_240513.0.pdf\n"
     ]
    },
    {
     "name": "stderr",
     "output_type": "stream",
     "text": [
      "880it [20:42,  1.12s/it]"
     ]
    },
    {
     "name": "stdout",
     "output_type": "stream",
     "text": [
      "파일이 저장되었습니다: C:/Users/sykim/Desktop/url_blob/pdf_file\\880_BN68-19257A-01_IG_DU7000 Flat feet 43-70inch_WW_L10_240513.0.pdf\n"
     ]
    },
    {
     "name": "stderr",
     "output_type": "stream",
     "text": [
      "881it [20:44,  1.48s/it]"
     ]
    },
    {
     "name": "stdout",
     "output_type": "stream",
     "text": [
      "파일이 저장되었습니다: C:/Users/sykim/Desktop/url_blob/pdf_file\\881_BN68-18098B-02_IG_QD60 New Simple 43-85inch_KOR_L10_240509.0.pdf\n"
     ]
    },
    {
     "name": "stderr",
     "output_type": "stream",
     "text": [
      "882it [20:45,  1.43s/it]"
     ]
    },
    {
     "name": "stdout",
     "output_type": "stream",
     "text": [
      "파일이 저장되었습니다: C:/Users/sykim/Desktop/url_blob/pdf_file\\882_BN68-18044A-01_IG_QN90D 43-85inch_WW_L10_240508.0.pdf\n"
     ]
    },
    {
     "name": "stderr",
     "output_type": "stream",
     "text": [
      "883it [20:47,  1.44s/it]"
     ]
    },
    {
     "name": "stdout",
     "output_type": "stream",
     "text": [
      "파일이 저장되었습니다: C:/Users/sykim/Desktop/url_blob/pdf_file\\883_BN68-18090A-01_IG_UD8000 Flat 43-85inch_KOR_L10_240509.0.pdf\n"
     ]
    },
    {
     "name": "stderr",
     "output_type": "stream",
     "text": [
      "884it [20:48,  1.34s/it]"
     ]
    },
    {
     "name": "stdout",
     "output_type": "stream",
     "text": [
      "파일이 저장되었습니다: C:/Users/sykim/Desktop/url_blob/pdf_file\\884_BN68-18044A-01_IG_QN90D 43-85inch_WW_L10_240508.0.pdf\n"
     ]
    },
    {
     "name": "stderr",
     "output_type": "stream",
     "text": [
      "885it [20:51,  1.96s/it]"
     ]
    },
    {
     "name": "stdout",
     "output_type": "stream",
     "text": [
      "파일이 저장되었습니다: C:/Users/sykim/Desktop/url_blob/pdf_file\\885_BN68-18044A-01_IG_QN90D 43-85inch_WW_L10_240508.0.pdf\n"
     ]
    },
    {
     "name": "stderr",
     "output_type": "stream",
     "text": [
      "886it [20:53,  1.98s/it]"
     ]
    },
    {
     "name": "stdout",
     "output_type": "stream",
     "text": [
      "파일이 저장되었습니다: C:/Users/sykim/Desktop/url_blob/pdf_file\\886_BN68-18090A-01_IG_UD8000 Flat 43-85inch_KOR_L10_240509.0.pdf\n"
     ]
    },
    {
     "name": "stderr",
     "output_type": "stream",
     "text": [
      "887it [20:56,  2.09s/it]"
     ]
    },
    {
     "name": "stdout",
     "output_type": "stream",
     "text": [
      "파일이 저장되었습니다: C:/Users/sykim/Desktop/url_blob/pdf_file\\887_BN68-18089C-02_IG_QDE1 UD8000 Float 43-85inch_KOR_L10_240509.0.pdf\n"
     ]
    },
    {
     "name": "stderr",
     "output_type": "stream",
     "text": [
      "888it [20:59,  2.27s/it]"
     ]
    },
    {
     "name": "stdout",
     "output_type": "stream",
     "text": [
      "파일이 저장되었습니다: C:/Users/sykim/Desktop/url_blob/pdf_file\\888_BN68-18089C-02_IG_QDE1 UD8000 Float 43-85inch_KOR_L10_240509.0.pdf\n"
     ]
    },
    {
     "name": "stderr",
     "output_type": "stream",
     "text": [
      "889it [21:00,  2.07s/it]"
     ]
    },
    {
     "name": "stdout",
     "output_type": "stream",
     "text": [
      "파일이 저장되었습니다: C:/Users/sykim/Desktop/url_blob/pdf_file\\889_BN68-18090A-01_IG_UD8000 Flat 43-85inch_KOR_L10_240509.0.pdf\n"
     ]
    },
    {
     "name": "stderr",
     "output_type": "stream",
     "text": [
      "890it [21:03,  2.33s/it]"
     ]
    },
    {
     "name": "stdout",
     "output_type": "stream",
     "text": [
      "파일이 저장되었습니다: C:/Users/sykim/Desktop/url_blob/pdf_file\\890_BN68-18098B-02_IG_QD60 New Simple 43-85inch_KOR_L10_240509.0.pdf\n"
     ]
    },
    {
     "name": "stderr",
     "output_type": "stream",
     "text": [
      "891it [21:04,  1.81s/it]"
     ]
    },
    {
     "name": "stdout",
     "output_type": "stream",
     "text": [
      "파일이 저장되었습니다: C:/Users/sykim/Desktop/url_blob/pdf_file\\891_BN68-18098B-02_IG_QD60 New Simple 43-85inch_KOR_L10_240509.0.pdf\n"
     ]
    },
    {
     "name": "stderr",
     "output_type": "stream",
     "text": [
      "892it [21:04,  1.51s/it]"
     ]
    },
    {
     "name": "stdout",
     "output_type": "stream",
     "text": [
      "파일이 저장되었습니다: C:/Users/sykim/Desktop/url_blob/pdf_file\\892_BN68-18090A-01_IG_UD8000 Flat 43-85inch_KOR_L10_240509.0.pdf\n"
     ]
    },
    {
     "name": "stderr",
     "output_type": "stream",
     "text": [
      "893it [21:06,  1.47s/it]"
     ]
    },
    {
     "name": "stdout",
     "output_type": "stream",
     "text": [
      "파일이 저장되었습니다: C:/Users/sykim/Desktop/url_blob/pdf_file\\893_BN68-18079A-01_IG_Q70C Q70DF Narrow Neck Plate_WW_L10_240507.0.pdf\n"
     ]
    },
    {
     "name": "stderr",
     "output_type": "stream",
     "text": [
      "894it [21:07,  1.36s/it]"
     ]
    },
    {
     "name": "stdout",
     "output_type": "stream",
     "text": [
      "파일이 저장되었습니다: C:/Users/sykim/Desktop/url_blob/pdf_file\\894_BN68-18090A-01_IG_UD8000 Flat 43-85inch_KOR_L10_240509.0.pdf\n"
     ]
    },
    {
     "name": "stderr",
     "output_type": "stream",
     "text": [
      "895it [21:08,  1.23s/it]"
     ]
    },
    {
     "name": "stdout",
     "output_type": "stream",
     "text": [
      "파일이 저장되었습니다: C:/Users/sykim/Desktop/url_blob/pdf_file\\895_BN68-18089C-02_IG_QDE1 UD8000 Float 43-85inch_KOR_L10_240509.0.pdf\n"
     ]
    },
    {
     "name": "stderr",
     "output_type": "stream",
     "text": [
      "896it [21:09,  1.15s/it]"
     ]
    },
    {
     "name": "stdout",
     "output_type": "stream",
     "text": [
      "파일이 저장되었습니다: C:/Users/sykim/Desktop/url_blob/pdf_file\\896_BN68-18090A-01_IG_UD8000 Flat 43-85inch_KOR_L10_240509.0.pdf\n"
     ]
    },
    {
     "name": "stderr",
     "output_type": "stream",
     "text": [
      "897it [21:12,  1.64s/it]"
     ]
    },
    {
     "name": "stdout",
     "output_type": "stream",
     "text": [
      "파일이 저장되었습니다: C:/Users/sykim/Desktop/url_blob/pdf_file\\897_BN68-18044A-01_IG_QN90D 43-85inch_WW_L10_240508.0.pdf\n"
     ]
    },
    {
     "name": "stderr",
     "output_type": "stream",
     "text": [
      "898it [21:15,  2.10s/it]"
     ]
    },
    {
     "name": "stdout",
     "output_type": "stream",
     "text": [
      "파일이 저장되었습니다: C:/Users/sykim/Desktop/url_blob/pdf_file\\898_BN68-18043A-01_IG_Y23 QN95C Y24 QN95D 75-85inch_WW_L10_240508.0.pdf\n"
     ]
    },
    {
     "name": "stderr",
     "output_type": "stream",
     "text": [
      "899it [21:16,  1.86s/it]"
     ]
    },
    {
     "name": "stdout",
     "output_type": "stream",
     "text": [
      "파일이 저장되었습니다: C:/Users/sykim/Desktop/url_blob/pdf_file\\899_BN68-18090A-01_IG_UD8000 Flat 43-85inch_KOR_L10_240509.0.pdf\n"
     ]
    },
    {
     "name": "stderr",
     "output_type": "stream",
     "text": [
      "900it [21:18,  1.78s/it]"
     ]
    },
    {
     "name": "stdout",
     "output_type": "stream",
     "text": [
      "파일이 저장되었습니다: C:/Users/sykim/Desktop/url_blob/pdf_file\\900_BN68-18098B-02_IG_QD60 New Simple 43-85inch_KOR_L10_240509.0.pdf\n"
     ]
    },
    {
     "name": "stderr",
     "output_type": "stream",
     "text": [
      "901it [21:21,  2.23s/it]"
     ]
    },
    {
     "name": "stdout",
     "output_type": "stream",
     "text": [
      "파일이 저장되었습니다: C:/Users/sykim/Desktop/url_blob/pdf_file\\901_BN68-18089C-02_IG_QDE1 UD8000 Float 43-85inch_KOR_L10_240509.0.pdf\n"
     ]
    },
    {
     "name": "stderr",
     "output_type": "stream",
     "text": [
      "902it [21:23,  2.14s/it]"
     ]
    },
    {
     "name": "stdout",
     "output_type": "stream",
     "text": [
      "파일이 저장되었습니다: C:/Users/sykim/Desktop/url_blob/pdf_file\\902_BN68-18079A-01_IG_Q70C Q70DF Narrow Neck Plate_WW_L10_240507.0.pdf\n"
     ]
    },
    {
     "name": "stderr",
     "output_type": "stream",
     "text": [
      "903it [21:25,  2.16s/it]"
     ]
    },
    {
     "name": "stdout",
     "output_type": "stream",
     "text": [
      "파일이 저장되었습니다: C:/Users/sykim/Desktop/url_blob/pdf_file\\903_BN68-18098B-02_IG_QD60 New Simple 43-85inch_KOR_L10_240509.0.pdf\n"
     ]
    },
    {
     "name": "stderr",
     "output_type": "stream",
     "text": [
      "904it [21:32,  3.48s/it]"
     ]
    },
    {
     "name": "stdout",
     "output_type": "stream",
     "text": [
      "파일이 저장되었습니다: C:/Users/sykim/Desktop/url_blob/pdf_file\\904_BN68-18079A-01_IG_Q70C Q70DF Narrow Neck Plate_WW_L10_240507.0.pdf\n"
     ]
    },
    {
     "name": "stderr",
     "output_type": "stream",
     "text": [
      "905it [21:34,  3.05s/it]"
     ]
    },
    {
     "name": "stdout",
     "output_type": "stream",
     "text": [
      "파일이 저장되었습니다: C:/Users/sykim/Desktop/url_blob/pdf_file\\905_BN68-18098B-02_IG_QD60 New Simple 43-85inch_KOR_L10_240509.0.pdf\n"
     ]
    },
    {
     "name": "stderr",
     "output_type": "stream",
     "text": [
      "906it [21:36,  2.89s/it]"
     ]
    },
    {
     "name": "stdout",
     "output_type": "stream",
     "text": [
      "파일이 저장되었습니다: C:/Users/sykim/Desktop/url_blob/pdf_file\\906_BN68-18043A-01_IG_Y23 QN95C Y24 QN95D 75-85inch_WW_L10_240508.0.pdf\n"
     ]
    },
    {
     "name": "stderr",
     "output_type": "stream",
     "text": [
      "907it [21:40,  3.14s/it]"
     ]
    },
    {
     "name": "stdout",
     "output_type": "stream",
     "text": [
      "파일이 저장되었습니다: C:/Users/sykim/Desktop/url_blob/pdf_file\\907_BN68-18098B-02_IG_QD60 New Simple 43-85inch_KOR_L10_240509.0.pdf\n"
     ]
    },
    {
     "name": "stderr",
     "output_type": "stream",
     "text": [
      "908it [21:43,  3.08s/it]"
     ]
    },
    {
     "name": "stdout",
     "output_type": "stream",
     "text": [
      "파일이 저장되었습니다: C:/Users/sykim/Desktop/url_blob/pdf_file\\908_BN68-18090A-01_IG_UD8000 Flat 43-85inch_KOR_L10_240509.0.pdf\n"
     ]
    },
    {
     "name": "stderr",
     "output_type": "stream",
     "text": [
      "909it [21:44,  2.38s/it]"
     ]
    },
    {
     "name": "stdout",
     "output_type": "stream",
     "text": [
      "파일이 저장되었습니다: C:/Users/sykim/Desktop/url_blob/pdf_file\\909_BN68-18098B-02_IG_QD60 New Simple 43-85inch_KOR_L10_240509.0.pdf\n"
     ]
    },
    {
     "name": "stderr",
     "output_type": "stream",
     "text": [
      "910it [21:46,  2.28s/it]"
     ]
    },
    {
     "name": "stdout",
     "output_type": "stream",
     "text": [
      "파일이 저장되었습니다: C:/Users/sykim/Desktop/url_blob/pdf_file\\910_BN68-18044A-01_IG_QN90D 43-85inch_WW_L10_240508.0.pdf\n"
     ]
    },
    {
     "name": "stderr",
     "output_type": "stream",
     "text": [
      "911it [21:50,  2.78s/it]"
     ]
    },
    {
     "name": "stdout",
     "output_type": "stream",
     "text": [
      "파일이 저장되었습니다: C:/Users/sykim/Desktop/url_blob/pdf_file\\911_BN68-18044A-01_IG_QN90D 43-85inch_WW_L10_240508.0.pdf\n"
     ]
    },
    {
     "name": "stderr",
     "output_type": "stream",
     "text": [
      "912it [21:52,  2.54s/it]"
     ]
    },
    {
     "name": "stdout",
     "output_type": "stream",
     "text": [
      "파일이 저장되었습니다: C:/Users/sykim/Desktop/url_blob/pdf_file\\912_BN68-18098B-02_IG_QD60 New Simple 43-85inch_KOR_L10_240509.0.pdf\n"
     ]
    },
    {
     "name": "stderr",
     "output_type": "stream",
     "text": [
      "913it [21:57,  3.33s/it]"
     ]
    },
    {
     "name": "stdout",
     "output_type": "stream",
     "text": [
      "파일이 저장되었습니다: C:/Users/sykim/Desktop/url_blob/pdf_file\\913_BN68-18044A-01_IG_QN90D 43-85inch_WW_L10_240508.0.pdf\n"
     ]
    },
    {
     "name": "stderr",
     "output_type": "stream",
     "text": [
      "914it [21:59,  3.13s/it]"
     ]
    },
    {
     "name": "stdout",
     "output_type": "stream",
     "text": [
      "파일이 저장되었습니다: C:/Users/sykim/Desktop/url_blob/pdf_file\\914_BN68-18044A-01_IG_QN90D 43-85inch_WW_L10_240508.0.pdf\n"
     ]
    },
    {
     "name": "stderr",
     "output_type": "stream",
     "text": [
      "915it [22:03,  3.20s/it]"
     ]
    },
    {
     "name": "stdout",
     "output_type": "stream",
     "text": [
      "파일이 저장되었습니다: C:/Users/sykim/Desktop/url_blob/pdf_file\\915_BN68-18090A-01_IG_UD8000 Flat 43-85inch_KOR_L10_240509.0.pdf\n"
     ]
    },
    {
     "name": "stderr",
     "output_type": "stream",
     "text": [
      "916it [22:04,  2.64s/it]"
     ]
    },
    {
     "name": "stdout",
     "output_type": "stream",
     "text": [
      "파일이 저장되었습니다: C:/Users/sykim/Desktop/url_blob/pdf_file\\916_BN68-18090A-01_IG_UD8000 Flat 43-85inch_KOR_L10_240509.0.pdf\n"
     ]
    },
    {
     "name": "stderr",
     "output_type": "stream",
     "text": [
      "917it [22:07,  2.58s/it]"
     ]
    },
    {
     "name": "stdout",
     "output_type": "stream",
     "text": [
      "파일이 저장되었습니다: C:/Users/sykim/Desktop/url_blob/pdf_file\\917_BN68-18090A-01_IG_UD8000 Flat 43-85inch_KOR_L10_240509.0.pdf\n"
     ]
    },
    {
     "name": "stderr",
     "output_type": "stream",
     "text": [
      "918it [22:09,  2.41s/it]"
     ]
    },
    {
     "name": "stdout",
     "output_type": "stream",
     "text": [
      "파일이 저장되었습니다: C:/Users/sykim/Desktop/url_blob/pdf_file\\918_BN68-18079A-01_IG_Q70C Q70DF Narrow Neck Plate_WW_L10_240507.0.pdf\n"
     ]
    },
    {
     "name": "stderr",
     "output_type": "stream",
     "text": [
      "919it [22:11,  2.27s/it]"
     ]
    },
    {
     "name": "stdout",
     "output_type": "stream",
     "text": [
      "파일이 저장되었습니다: C:/Users/sykim/Desktop/url_blob/pdf_file\\919_BN68-18079A-01_IG_Q70C Q70DF Narrow Neck Plate_WW_L10_240507.0.pdf\n"
     ]
    },
    {
     "name": "stderr",
     "output_type": "stream",
     "text": [
      "920it [22:12,  2.11s/it]"
     ]
    },
    {
     "name": "stdout",
     "output_type": "stream",
     "text": [
      "파일이 저장되었습니다: C:/Users/sykim/Desktop/url_blob/pdf_file\\920_BN68-18090A-01_IG_UD8000 Flat 43-85inch_KOR_L10_240509.0.pdf\n"
     ]
    },
    {
     "name": "stderr",
     "output_type": "stream",
     "text": [
      "921it [22:14,  1.97s/it]"
     ]
    },
    {
     "name": "stdout",
     "output_type": "stream",
     "text": [
      "파일이 저장되었습니다: C:/Users/sykim/Desktop/url_blob/pdf_file\\921_BN68-18090A-01_IG_UD8000 Flat 43-85inch_KOR_L10_240509.0.pdf\n"
     ]
    },
    {
     "name": "stderr",
     "output_type": "stream",
     "text": [
      "922it [22:16,  1.96s/it]"
     ]
    },
    {
     "name": "stdout",
     "output_type": "stream",
     "text": [
      "파일이 저장되었습니다: C:/Users/sykim/Desktop/url_blob/pdf_file\\922_BN68-18098B-02_IG_QD60 New Simple 43-85inch_KOR_L10_240509.0.pdf\n"
     ]
    },
    {
     "name": "stderr",
     "output_type": "stream",
     "text": [
      "923it [22:28,  5.09s/it]"
     ]
    },
    {
     "name": "stdout",
     "output_type": "stream",
     "text": [
      "파일이 저장되었습니다: C:/Users/sykim/Desktop/url_blob/pdf_file\\923_CFF-0622_1144_User_Manual.pdf\n"
     ]
    },
    {
     "name": "stderr",
     "output_type": "stream",
     "text": [
      "924it [22:30,  4.01s/it]"
     ]
    },
    {
     "name": "stdout",
     "output_type": "stream",
     "text": [
      "파일이 저장되었습니다: C:/Users/sykim/Desktop/url_blob/pdf_file\\924_C145x_C1860_CLX-4190_CLX-6260_Series_LICENSE.pdf\n"
     ]
    },
    {
     "name": "stderr",
     "output_type": "stream",
     "text": [
      "925it [24:38, 41.32s/it]"
     ]
    },
    {
     "name": "stdout",
     "output_type": "stream",
     "text": [
      "파일이 저장되었습니다: C:/Users/sykim/Desktop/url_blob/pdf_file\\925_English.pdf\n"
     ]
    },
    {
     "name": "stderr",
     "output_type": "stream",
     "text": [
      "926it [25:00, 35.53s/it]"
     ]
    },
    {
     "name": "stdout",
     "output_type": "stream",
     "text": [
      "파일이 저장되었습니다: C:/Users/sykim/Desktop/url_blob/pdf_file\\926_09_DJ68-00724H.pdf\n"
     ]
    },
    {
     "name": "stderr",
     "output_type": "stream",
     "text": [
      "927it [25:17, 30.05s/it]"
     ]
    },
    {
     "name": "stdout",
     "output_type": "stream",
     "text": [
      "파일이 저장되었습니다: C:/Users/sykim/Desktop/url_blob/pdf_file\\927_01_DJ68-00753A.pdf\n"
     ]
    },
    {
     "name": "stderr",
     "output_type": "stream",
     "text": [
      "928it [25:45, 29.20s/it]"
     ]
    },
    {
     "name": "stdout",
     "output_type": "stream",
     "text": [
      "파일이 저장되었습니다: C:/Users/sykim/Desktop/url_blob/pdf_file\\928_SEHC_02_DJ68-00753A.pdf\n"
     ]
    },
    {
     "name": "stderr",
     "output_type": "stream",
     "text": [
      "929it [25:58, 24.34s/it]"
     ]
    },
    {
     "name": "stdout",
     "output_type": "stream",
     "text": [
      "파일이 저장되었습니다: C:/Users/sykim/Desktop/url_blob/pdf_file\\929_DJ68-00724H.pdf\n"
     ]
    },
    {
     "name": "stderr",
     "output_type": "stream",
     "text": [
      "930it [26:25, 25.27s/it]"
     ]
    },
    {
     "name": "stdout",
     "output_type": "stream",
     "text": [
      "파일이 저장되었습니다: C:/Users/sykim/Desktop/url_blob/pdf_file\\930_DJ68-00753A-03.pdf\n"
     ]
    },
    {
     "name": "stderr",
     "output_type": "stream",
     "text": [
      "931it [26:36, 20.94s/it]"
     ]
    },
    {
     "name": "stdout",
     "output_type": "stream",
     "text": [
      "파일이 저장되었습니다: C:/Users/sykim/Desktop/url_blob/pdf_file\\931_DJ68-00753A-04_KO_180730.pdf\n"
     ]
    },
    {
     "name": "stderr",
     "output_type": "stream",
     "text": [
      "932it [26:38, 15.21s/it]"
     ]
    },
    {
     "name": "stdout",
     "output_type": "stream",
     "text": [
      "파일이 저장되었습니다: C:/Users/sykim/Desktop/url_blob/pdf_file\\932_BN46-00937A-Eng.pdf\n"
     ]
    },
    {
     "name": "stderr",
     "output_type": "stream",
     "text": [
      "933it [26:47, 13.34s/it]"
     ]
    },
    {
     "name": "stdout",
     "output_type": "stream",
     "text": [
      "파일이 저장되었습니다: C:/Users/sykim/Desktop/url_blob/pdf_file\\933_BN46-00937A-Kor.pdf\n"
     ]
    },
    {
     "name": "stderr",
     "output_type": "stream",
     "text": [
      "934it [26:51, 10.59s/it]"
     ]
    },
    {
     "name": "stdout",
     "output_type": "stream",
     "text": [
      "파일이 저장되었습니다: C:/Users/sykim/Desktop/url_blob/pdf_file\\934_CRFD_0621_1141_1142_1762_190401.pdf\n"
     ]
    },
    {
     "name": "stderr",
     "output_type": "stream",
     "text": [
      "935it [26:53,  8.18s/it]"
     ]
    },
    {
     "name": "stdout",
     "output_type": "stream",
     "text": [
      "파일이 저장되었습니다: C:/Users/sykim/Desktop/url_blob/pdf_file\\935_CFD_0622_0622L_1144_1766_190401.pdf\n"
     ]
    },
    {
     "name": "stderr",
     "output_type": "stream",
     "text": [
      "936it [26:57,  6.83s/it]"
     ]
    },
    {
     "name": "stdout",
     "output_type": "stream",
     "text": [
      "파일이 저장되었습니다: C:/Users/sykim/Desktop/url_blob/pdf_file\\936_CRF_0620_1140_190401.pdf\n"
     ]
    },
    {
     "name": "stderr",
     "output_type": "stream",
     "text": [
      "937it [27:03,  6.41s/it]"
     ]
    },
    {
     "name": "stdout",
     "output_type": "stream",
     "text": [
      "파일이 저장되었습니다: C:/Users/sykim/Desktop/url_blob/pdf_file\\937_CRF_0620_1140_190401.pdf\n"
     ]
    },
    {
     "name": "stderr",
     "output_type": "stream",
     "text": [
      "938it [27:12,  7.42s/it]"
     ]
    },
    {
     "name": "stdout",
     "output_type": "stream",
     "text": [
      "파일이 저장되었습니다: C:/Users/sykim/Desktop/url_blob/pdf_file\\938_CFF_0622_1144_190401.pdf\n"
     ]
    },
    {
     "name": "stderr",
     "output_type": "stream",
     "text": [
      "939it [27:20,  7.40s/it]"
     ]
    },
    {
     "name": "stdout",
     "output_type": "stream",
     "text": [
      "파일이 저장되었습니다: C:/Users/sykim/Desktop/url_blob/pdf_file\\939_CFF_0622_1144_190401.pdf\n"
     ]
    },
    {
     "name": "stderr",
     "output_type": "stream",
     "text": [
      "940it [27:27,  7.46s/it]"
     ]
    },
    {
     "name": "stdout",
     "output_type": "stream",
     "text": [
      "파일이 저장되었습니다: C:/Users/sykim/Desktop/url_blob/pdf_file\\940_CRFF_1141_1142_1762_190401.pdf\n"
     ]
    },
    {
     "name": "stderr",
     "output_type": "stream",
     "text": [
      "941it [27:48, 11.45s/it]"
     ]
    },
    {
     "name": "stdout",
     "output_type": "stream",
     "text": [
      "파일 다운로드 또는 저장 중 오류 발생: https://downloadcenter.samsung.com/content/UM/201904/20190418111503832/EN/M207x_User_Manual_Eng.pdf. 오류: HTTPSConnectionPool(host='downloadcenter.samsung.com', port=443): Max retries exceeded with url: /content/UM/201904/20190418111503832/EN/M207x_User_Manual_Eng.pdf (Caused by SSLError(SSLEOFError(8, '[SSL: UNEXPECTED_EOF_WHILE_READING] EOF occurred in violation of protocol (_ssl.c:1000)')))\n"
     ]
    },
    {
     "name": "stderr",
     "output_type": "stream",
     "text": [
      "942it [27:58, 11.07s/it]"
     ]
    },
    {
     "name": "stdout",
     "output_type": "stream",
     "text": [
      "파일이 저장되었습니다: C:/Users/sykim/Desktop/url_blob/pdf_file\\942_M207x_User_Manual.pdf\n"
     ]
    },
    {
     "name": "stderr",
     "output_type": "stream",
     "text": [
      "943it [28:08, 10.63s/it]"
     ]
    },
    {
     "name": "stdout",
     "output_type": "stream",
     "text": [
      "파일이 저장되었습니다: C:/Users/sykim/Desktop/url_blob/pdf_file\\943_VC2100_00758D-04_KO_190620.pdf\n"
     ]
    },
    {
     "name": "stderr",
     "output_type": "stream",
     "text": [
      "944it [28:23, 12.08s/it]"
     ]
    },
    {
     "name": "stdout",
     "output_type": "stream",
     "text": [
      "파일이 저장되었습니다: C:/Users/sykim/Desktop/url_blob/pdf_file\\944_VC3100_00753A-06_KO_190622.pdf\n"
     ]
    },
    {
     "name": "stderr",
     "output_type": "stream",
     "text": [
      "945it [28:29, 10.29s/it]"
     ]
    },
    {
     "name": "stdout",
     "output_type": "stream",
     "text": [
      "파일이 저장되었습니다: C:/Users/sykim/Desktop/url_blob/pdf_file\\945_DA68_03799K_00_RB4000N_RB30R4051B1_190718.pdf\n"
     ]
    },
    {
     "name": "stderr",
     "output_type": "stream",
     "text": [
      "946it [29:26, 24.24s/it]"
     ]
    },
    {
     "name": "stdout",
     "output_type": "stream",
     "text": [
      "파일이 저장되었습니다: C:/Users/sykim/Desktop/url_blob/pdf_file\\946_DJ68-00724H-12_180914.pdf\n"
     ]
    },
    {
     "name": "stderr",
     "output_type": "stream",
     "text": [
      "947it [29:46, 22.95s/it]"
     ]
    },
    {
     "name": "stdout",
     "output_type": "stream",
     "text": [
      "파일이 저장되었습니다: C:/Users/sykim/Desktop/url_blob/pdf_file\\947_280701000110-Eng.pdf\n"
     ]
    },
    {
     "name": "stderr",
     "output_type": "stream",
     "text": [
      "948it [30:10, 23.30s/it]"
     ]
    },
    {
     "name": "stdout",
     "output_type": "stream",
     "text": [
      "파일이 저장되었습니다: C:/Users/sykim/Desktop/url_blob/pdf_file\\948_280701000110-Eng_for_india.pdf\n"
     ]
    },
    {
     "name": "stderr",
     "output_type": "stream",
     "text": [
      "949it [30:30, 22.30s/it]"
     ]
    },
    {
     "name": "stdout",
     "output_type": "stream",
     "text": [
      "파일이 저장되었습니다: C:/Users/sykim/Desktop/url_blob/pdf_file\\949_280701000110-Kor.pdf\n"
     ]
    },
    {
     "name": "stderr",
     "output_type": "stream",
     "text": [
      "950it [30:38, 17.99s/it]"
     ]
    },
    {
     "name": "stdout",
     "output_type": "stream",
     "text": [
      "파일이 저장되었습니다: C:/Users/sykim/Desktop/url_blob/pdf_file\\950_BK_WG41-00003B_Rev0.4_UM_190319.pdf\n"
     ]
    },
    {
     "name": "stderr",
     "output_type": "stream",
     "text": [
      "951it [31:15, 23.58s/it]"
     ]
    },
    {
     "name": "stdout",
     "output_type": "stream",
     "text": [
      "파일이 저장되었습니다: C:/Users/sykim/Desktop/url_blob/pdf_file\\951_M2630_M2840_English_20191210.pdf\n"
     ]
    },
    {
     "name": "stderr",
     "output_type": "stream",
     "text": [
      "952it [31:42, 24.75s/it]"
     ]
    },
    {
     "name": "stdout",
     "output_type": "stream",
     "text": [
      "파일이 저장되었습니다: C:/Users/sykim/Desktop/url_blob/pdf_file\\952_M2630_M2840_Korean_20191210.pdf\n"
     ]
    },
    {
     "name": "stderr",
     "output_type": "stream",
     "text": [
      "953it [32:34, 32.79s/it]"
     ]
    },
    {
     "name": "stdout",
     "output_type": "stream",
     "text": [
      "파일이 저장되었습니다: C:/Users/sykim/Desktop/url_blob/pdf_file\\953_M2680_M2890_English_20191213.pdf\n"
     ]
    },
    {
     "name": "stderr",
     "output_type": "stream",
     "text": [
      "954it [32:37, 23.91s/it]"
     ]
    },
    {
     "name": "stdout",
     "output_type": "stream",
     "text": [
      "파일이 저장되었습니다: C:/Users/sykim/Desktop/url_blob/pdf_file\\954_Safety_information_kor_Rev.2.4.1_190705.pdf\n"
     ]
    },
    {
     "name": "stderr",
     "output_type": "stream",
     "text": [
      "955it [32:46, 19.42s/it]"
     ]
    },
    {
     "name": "stdout",
     "output_type": "stream",
     "text": [
      "파일이 저장되었습니다: C:/Users/sykim/Desktop/url_blob/pdf_file\\955_SM-P61X_UM_QQ_Kor_Rev.1.0_200424.pdf\n"
     ]
    },
    {
     "name": "stderr",
     "output_type": "stream",
     "text": [
      "956it [33:02, 18.34s/it]"
     ]
    },
    {
     "name": "stdout",
     "output_type": "stream",
     "text": [
      "파일이 저장되었습니다: C:/Users/sykim/Desktop/url_blob/pdf_file\\956_SM-P61X_UM_QQ_Kor_Rev.1.0_200424.pdf\n"
     ]
    },
    {
     "name": "stderr",
     "output_type": "stream",
     "text": [
      "957it [33:06, 14.06s/it]"
     ]
    },
    {
     "name": "stdout",
     "output_type": "stream",
     "text": [
      "파일이 저장되었습니다: C:/Users/sykim/Desktop/url_blob/pdf_file\\957_Safety_information_kor_Rev.2.4.1_190705.pdf\n"
     ]
    },
    {
     "name": "stderr",
     "output_type": "stream",
     "text": [
      "958it [33:11, 11.45s/it]"
     ]
    },
    {
     "name": "stdout",
     "output_type": "stream",
     "text": [
      "파일이 저장되었습니다: C:/Users/sykim/Desktop/url_blob/pdf_file\\958_DJ68-00724H-15_IB_VC4100K_KO_KO_200520.pdf\n"
     ]
    },
    {
     "name": "stderr",
     "output_type": "stream",
     "text": [
      "959it [33:19, 10.37s/it]"
     ]
    },
    {
     "name": "stdout",
     "output_type": "stream",
     "text": [
      "파일이 저장되었습니다: C:/Users/sykim/Desktop/url_blob/pdf_file\\959_WW90T3000KW_WW90T3100KW_2020-2-11.pdf\n"
     ]
    },
    {
     "name": "stderr",
     "output_type": "stream",
     "text": [
      "960it [33:25,  9.20s/it]"
     ]
    },
    {
     "name": "stdout",
     "output_type": "stream",
     "text": [
      "파일이 저장되었습니다: C:/Users/sykim/Desktop/url_blob/pdf_file\\960_HW-T400_KR_FullManual_00_KOR_200419.pdf\n"
     ]
    },
    {
     "name": "stderr",
     "output_type": "stream",
     "text": [
      "961it [33:52, 14.25s/it]"
     ]
    },
    {
     "name": "stdout",
     "output_type": "stream",
     "text": [
      "파일이 저장되었습니다: C:/Users/sykim/Desktop/url_blob/pdf_file\\961_C3010_english.pdf\n"
     ]
    },
    {
     "name": "stderr",
     "output_type": "stream",
     "text": [
      "962it [34:36, 23.24s/it]"
     ]
    },
    {
     "name": "stdout",
     "output_type": "stream",
     "text": [
      "파일이 저장되었습니다: C:/Users/sykim/Desktop/url_blob/pdf_file\\962_M403x_english.pdf\n"
     ]
    },
    {
     "name": "stderr",
     "output_type": "stream",
     "text": [
      "963it [34:40, 17.65s/it]"
     ]
    },
    {
     "name": "stdout",
     "output_type": "stream",
     "text": [
      "파일이 저장되었습니다: C:/Users/sykim/Desktop/url_blob/pdf_file\\963_DJ68-00605G-03_Jupiter_VW33_KO_KO_200710.pdf\n"
     ]
    },
    {
     "name": "stderr",
     "output_type": "stream",
     "text": [
      "964it [34:41, 12.63s/it]"
     ]
    },
    {
     "name": "stdout",
     "output_type": "stream",
     "text": [
      "파일이 저장되었습니다: C:/Users/sykim/Desktop/url_blob/pdf_file\\964_SM-R180_UM_EU_Eng_Rev.1.1_200814.pdf\n"
     ]
    },
    {
     "name": "stderr",
     "output_type": "stream",
     "text": [
      "965it [34:44,  9.60s/it]"
     ]
    },
    {
     "name": "stdout",
     "output_type": "stream",
     "text": [
      "파일이 저장되었습니다: C:/Users/sykim/Desktop/url_blob/pdf_file\\965_BN81-19361A-00_WEB_TU87F_KR_KOR_200917.0.pdf\n"
     ]
    },
    {
     "name": "stderr",
     "output_type": "stream",
     "text": [
      "966it [34:58, 10.88s/it]"
     ]
    },
    {
     "name": "stdout",
     "output_type": "stream",
     "text": [
      "파일이 저장되었습니다: C:/Users/sykim/Desktop/url_blob/pdf_file\\966_AH81-12830H-02_FM_HW-LST70T_KR_KOR_200917.pdf\n"
     ]
    },
    {
     "name": "stderr",
     "output_type": "stream",
     "text": [
      "967it [35:04,  9.58s/it]"
     ]
    },
    {
     "name": "stdout",
     "output_type": "stream",
     "text": [
      "파일이 저장되었습니다: C:/Users/sykim/Desktop/url_blob/pdf_file\\967_O_DJ68-00714E-00_RAMBO_KO_KO_200910-1.pdf\n"
     ]
    },
    {
     "name": "stderr",
     "output_type": "stream",
     "text": [
      "968it [35:20, 11.59s/it]"
     ]
    },
    {
     "name": "stdout",
     "output_type": "stream",
     "text": [
      "파일이 저장되었습니다: C:/Users/sykim/Desktop/url_blob/pdf_file\\968_SM-T575N_UM_QQ_Kor_D03_201026.pdf\n"
     ]
    },
    {
     "name": "stderr",
     "output_type": "stream",
     "text": [
      "969it [35:23,  8.81s/it]"
     ]
    },
    {
     "name": "stdout",
     "output_type": "stream",
     "text": [
      "파일이 저장되었습니다: C:/Users/sykim/Desktop/url_blob/pdf_file\\969_Safety_information_kor_Rev.2.4.1_190705.pdf\n"
     ]
    },
    {
     "name": "stderr",
     "output_type": "stream",
     "text": [
      "970it [35:25,  6.77s/it]"
     ]
    },
    {
     "name": "stdout",
     "output_type": "stream",
     "text": [
      "파일이 저장되었습니다: C:/Users/sykim/Desktop/url_blob/pdf_file\\970_Win10_Manual_ENG.pdf\n"
     ]
    },
    {
     "name": "stderr",
     "output_type": "stream",
     "text": [
      "971it [35:28,  5.62s/it]"
     ]
    },
    {
     "name": "stdout",
     "output_type": "stream",
     "text": [
      "파일이 저장되었습니다: C:/Users/sykim/Desktop/url_blob/pdf_file\\971_Win10_Manual_KOR.pdf\n"
     ]
    },
    {
     "name": "stderr",
     "output_type": "stream",
     "text": [
      "972it [37:59, 49.44s/it]"
     ]
    },
    {
     "name": "stdout",
     "output_type": "stream",
     "text": [
      "파일이 저장되었습니다: C:/Users/sykim/Desktop/url_blob/pdf_file\\972_M4530_V2.01_KO.pdf\n"
     ]
    },
    {
     "name": "stderr",
     "output_type": "stream",
     "text": [
      "973it [38:02, 35.35s/it]"
     ]
    },
    {
     "name": "stdout",
     "output_type": "stream",
     "text": [
      "파일이 저장되었습니다: C:/Users/sykim/Desktop/url_blob/pdf_file\\973_BN46-00904A-Eng.pdf\n"
     ]
    },
    {
     "name": "stderr",
     "output_type": "stream",
     "text": [
      "974it [38:04, 25.36s/it]"
     ]
    },
    {
     "name": "stdout",
     "output_type": "stream",
     "text": [
      "파일이 저장되었습니다: C:/Users/sykim/Desktop/url_blob/pdf_file\\974_BN46-00904A-Eng_for_india.pdf\n"
     ]
    },
    {
     "name": "stderr",
     "output_type": "stream",
     "text": [
      "975it [38:33, 26.50s/it]"
     ]
    },
    {
     "name": "stdout",
     "output_type": "stream",
     "text": [
      "파일이 저장되었습니다: C:/Users/sykim/Desktop/url_blob/pdf_file\\975_ACR013-03_IB_ACR_AX9500A_Small_KR_KO_210316-D05.pdf\n"
     ]
    },
    {
     "name": "stderr",
     "output_type": "stream",
     "text": [
      "976it [39:39, 38.35s/it]"
     ]
    },
    {
     "name": "stdout",
     "output_type": "stream",
     "text": [
      "파일이 저장되었습니다: C:/Users/sykim/Desktop/url_blob/pdf_file\\976_ACR017-03_IB_ACR_AX9500A_Med_KR_KO_210315-D03.pdf\n"
     ]
    },
    {
     "name": "stderr",
     "output_type": "stream",
     "text": [
      "977it [39:46, 28.86s/it]"
     ]
    },
    {
     "name": "stdout",
     "output_type": "stream",
     "text": [
      "파일이 저장되었습니다: C:/Users/sykim/Desktop/url_blob/pdf_file\\977_SM-P61X_UM_RR_Kor_Rev.1.0_210406.pdf\n"
     ]
    },
    {
     "name": "stderr",
     "output_type": "stream",
     "text": [
      "978it [40:00, 24.58s/it]"
     ]
    },
    {
     "name": "stdout",
     "output_type": "stream",
     "text": [
      "파일이 저장되었습니다: C:/Users/sykim/Desktop/url_blob/pdf_file\\978_SM-P61X_UM_RR_Kor_Rev.1.0_210406.pdf\n"
     ]
    },
    {
     "name": "stderr",
     "output_type": "stream",
     "text": [
      "979it [40:21, 23.28s/it]"
     ]
    },
    {
     "name": "stdout",
     "output_type": "stream",
     "text": [
      "파일이 저장되었습니다: C:/Users/sykim/Desktop/url_blob/pdf_file\\979_HW-Q600A_KR_FullManual_00_KR_210313.0.pdf\n"
     ]
    },
    {
     "name": "stderr",
     "output_type": "stream",
     "text": [
      "980it [40:34, 20.37s/it]"
     ]
    },
    {
     "name": "stdout",
     "output_type": "stream",
     "text": [
      "파일이 저장되었습니다: C:/Users/sykim/Desktop/url_blob/pdf_file\\980_DA68-03846V-00_Korea.pdf\n"
     ]
    },
    {
     "name": "stderr",
     "output_type": "stream",
     "text": [
      "981it [40:44, 17.14s/it]"
     ]
    },
    {
     "name": "stdout",
     "output_type": "stream",
     "text": [
      "파일이 저장되었습니다: C:/Users/sykim/Desktop/url_blob/pdf_file\\981_J168x_korean_UG_0125.pdf\n"
     ]
    },
    {
     "name": "stderr",
     "output_type": "stream",
     "text": [
      "982it [40:47, 12.97s/it]"
     ]
    },
    {
     "name": "stdout",
     "output_type": "stream",
     "text": [
      "파일이 저장되었습니다: C:/Users/sykim/Desktop/url_blob/pdf_file\\982_BN81-20906D-00_WEB_S80A S80UA_KR_KOR_210315.0.pdf\n"
     ]
    },
    {
     "name": "stderr",
     "output_type": "stream",
     "text": [
      "983it [40:56, 11.65s/it]"
     ]
    },
    {
     "name": "stdout",
     "output_type": "stream",
     "text": [
      "파일이 저장되었습니다: C:/Users/sykim/Desktop/url_blob/pdf_file\\983_F100K_DC68-00815C-28_201221.pdf\n"
     ]
    },
    {
     "name": "stderr",
     "output_type": "stream",
     "text": [
      "984it [41:06, 11.34s/it]"
     ]
    },
    {
     "name": "stdout",
     "output_type": "stream",
     "text": [
      "파일이 저장되었습니다: C:/Users/sykim/Desktop/url_blob/pdf_file\\984_F100K_MANUAL_DC68-00815C-21.pdf\n"
     ]
    },
    {
     "name": "stderr",
     "output_type": "stream",
     "text": [
      "985it [41:19, 11.72s/it]"
     ]
    },
    {
     "name": "stdout",
     "output_type": "stream",
     "text": [
      "파일이 저장되었습니다: C:/Users/sykim/Desktop/url_blob/pdf_file\\985_RS5000R_3Door_UM-00_210324.pdf\n"
     ]
    },
    {
     "name": "stderr",
     "output_type": "stream",
     "text": [
      "986it [41:22,  9.18s/it]"
     ]
    },
    {
     "name": "stdout",
     "output_type": "stream",
     "text": [
      "파일이 저장되었습니다: C:/Users/sykim/Desktop/url_blob/pdf_file\\986_PJ2ATSCT-2.1.0_EM_KANTS_KOR_ENG-KR_210112.0.pdf\n"
     ]
    },
    {
     "name": "stderr",
     "output_type": "stream",
     "text": [
      "987it [41:29,  8.48s/it]"
     ]
    },
    {
     "name": "stdout",
     "output_type": "stream",
     "text": [
      "파일이 저장되었습니다: C:/Users/sykim/Desktop/url_blob/pdf_file\\987_Win10_Manual_ENG.pdf\n"
     ]
    },
    {
     "name": "stderr",
     "output_type": "stream",
     "text": [
      "988it [42:09, 18.05s/it]"
     ]
    },
    {
     "name": "stdout",
     "output_type": "stream",
     "text": [
      "파일이 저장되었습니다: C:/Users/sykim/Desktop/url_blob/pdf_file\\988_Win10_Manual_KOR.pdf\n"
     ]
    },
    {
     "name": "stderr",
     "output_type": "stream",
     "text": [
      "989it [42:24, 16.97s/it]"
     ]
    },
    {
     "name": "stdout",
     "output_type": "stream",
     "text": [
      "파일이 저장되었습니다: C:/Users/sykim/Desktop/url_blob/pdf_file\\989_SM-T575N_UM_RR_Kor_Rev.1.0_210511.pdf\n"
     ]
    },
    {
     "name": "stderr",
     "output_type": "stream",
     "text": [
      "990it [42:25, 12.09s/it]"
     ]
    },
    {
     "name": "stdout",
     "output_type": "stream",
     "text": [
      "파일이 저장되었습니다: C:/Users/sykim/Desktop/url_blob/pdf_file\\990_Safety_information_kor_Rev.2.4.3_210407.pdf\n"
     ]
    },
    {
     "name": "stderr",
     "output_type": "stream",
     "text": [
      "991it [43:23, 26.10s/it]"
     ]
    },
    {
     "name": "stdout",
     "output_type": "stream",
     "text": [
      "파일이 저장되었습니다: C:/Users/sykim/Desktop/url_blob/pdf_file\\991_M403x_korean.pdf\n"
     ]
    },
    {
     "name": "stderr",
     "output_type": "stream",
     "text": [
      "992it [43:38, 22.57s/it]"
     ]
    },
    {
     "name": "stdout",
     "output_type": "stream",
     "text": [
      "파일이 저장되었습니다: C:/Users/sykim/Desktop/url_blob/pdf_file\\992_SEC__QuickGuide_DC68-03273T-01.pdf\n"
     ]
    },
    {
     "name": "stderr",
     "output_type": "stream",
     "text": [
      "993it [43:46, 18.24s/it]"
     ]
    },
    {
     "name": "stdout",
     "output_type": "stream",
     "text": [
      "파일이 저장되었습니다: C:/Users/sykim/Desktop/url_blob/pdf_file\\993_Win10_Manual_ENG.pdf\n"
     ]
    },
    {
     "name": "stderr",
     "output_type": "stream",
     "text": [
      "994it [43:53, 15.02s/it]"
     ]
    },
    {
     "name": "stdout",
     "output_type": "stream",
     "text": [
      "파일이 저장되었습니다: C:/Users/sykim/Desktop/url_blob/pdf_file\\994_Win10_Manual_KOR.pdf\n"
     ]
    },
    {
     "name": "stderr",
     "output_type": "stream",
     "text": [
      "995it [43:55, 10.91s/it]"
     ]
    },
    {
     "name": "stdout",
     "output_type": "stream",
     "text": [
      "파일이 저장되었습니다: C:/Users/sykim/Desktop/url_blob/pdf_file\\995_Compatible_Camera_WEB_Leaflet-USB_Camera_KR_KOR_210527.0.pdf\n"
     ]
    },
    {
     "name": "stderr",
     "output_type": "stream",
     "text": [
      "996it [44:59, 27.04s/it]"
     ]
    },
    {
     "name": "stdout",
     "output_type": "stream",
     "text": [
      "파일이 저장되었습니다: C:/Users/sykim/Desktop/url_blob/pdf_file\\996_C56x_series_english_210623.pdf\n"
     ]
    },
    {
     "name": "stderr",
     "output_type": "stream",
     "text": [
      "997it [45:12, 22.88s/it]"
     ]
    },
    {
     "name": "stdout",
     "output_type": "stream",
     "text": [
      "파일이 저장되었습니다: C:/Users/sykim/Desktop/url_blob/pdf_file\\997_C51x_series_english_210623.pdf\n"
     ]
    },
    {
     "name": "stderr",
     "output_type": "stream",
     "text": [
      "998it [46:07, 32.52s/it]"
     ]
    },
    {
     "name": "stdout",
     "output_type": "stream",
     "text": [
      "파일이 저장되었습니다: C:/Users/sykim/Desktop/url_blob/pdf_file\\998_M203x_series_english_210623.pdf\n"
     ]
    },
    {
     "name": "stderr",
     "output_type": "stream",
     "text": [
      "999it [46:56, 37.42s/it]"
     ]
    },
    {
     "name": "stdout",
     "output_type": "stream",
     "text": [
      "파일이 저장되었습니다: C:/Users/sykim/Desktop/url_blob/pdf_file\\999_M208x_series_english.pdf\n"
     ]
    },
    {
     "name": "stderr",
     "output_type": "stream",
     "text": [
      "1000it [47:01, 27.55s/it]"
     ]
    },
    {
     "name": "stdout",
     "output_type": "stream",
     "text": [
      "파일이 저장되었습니다: C:/Users/sykim/Desktop/url_blob/pdf_file\\1000_PJ2ATSCT-2.7.0_EM_KANTS_KOR_KOR_210430.0.pdf\n"
     ]
    },
    {
     "name": "stderr",
     "output_type": "stream",
     "text": [
      "1001it [47:03, 19.97s/it]"
     ]
    },
    {
     "name": "stdout",
     "output_type": "stream",
     "text": [
      "파일이 저장되었습니다: C:/Users/sykim/Desktop/url_blob/pdf_file\\1001_SM-R177_UM_EU_Eng_Rev.1.0_210809.pdf\n"
     ]
    },
    {
     "name": "stderr",
     "output_type": "stream",
     "text": [
      "1002it [47:04, 14.37s/it]"
     ]
    },
    {
     "name": "stdout",
     "output_type": "stream",
     "text": [
      "파일이 저장되었습니다: C:/Users/sykim/Desktop/url_blob/pdf_file\\1002_SM-R177_UM_Kor_Rev.1.0_210809.pdf\n"
     ]
    },
    {
     "name": "stderr",
     "output_type": "stream",
     "text": [
      "1003it [47:07, 10.91s/it]"
     ]
    },
    {
     "name": "stdout",
     "output_type": "stream",
     "text": [
      "파일이 저장되었습니다: C:/Users/sykim/Desktop/url_blob/pdf_file\\1003_SM-T73X_UM_EU_RR_Eng_Rev.1.0_210806.pdf\n"
     ]
    },
    {
     "name": "stderr",
     "output_type": "stream",
     "text": [
      "1004it [47:18, 10.86s/it]"
     ]
    },
    {
     "name": "stdout",
     "output_type": "stream",
     "text": [
      "파일이 저장되었습니다: C:/Users/sykim/Desktop/url_blob/pdf_file\\1004_SM-T73X_UM_RR_Kor_Rev.1.0_210805.pdf\n"
     ]
    },
    {
     "name": "stderr",
     "output_type": "stream",
     "text": [
      "1005it [47:24,  9.32s/it]"
     ]
    },
    {
     "name": "stdout",
     "output_type": "stream",
     "text": [
      "파일이 저장되었습니다: C:/Users/sykim/Desktop/url_blob/pdf_file\\1005_SM-T73X_UM_RR_Kor_Rev.1.0_210805.pdf\n"
     ]
    },
    {
     "name": "stderr",
     "output_type": "stream",
     "text": [
      "1006it [47:24,  6.71s/it]"
     ]
    },
    {
     "name": "stdout",
     "output_type": "stream",
     "text": [
      "파일이 저장되었습니다: C:/Users/sykim/Desktop/url_blob/pdf_file\\1006_Hearable_Safety_information_KOREA_Rev.1.0_210527.pdf\n"
     ]
    },
    {
     "name": "stderr",
     "output_type": "stream",
     "text": [
      "1007it [47:28,  5.84s/it]"
     ]
    },
    {
     "name": "stdout",
     "output_type": "stream",
     "text": [
      "파일이 저장되었습니다: C:/Users/sykim/Desktop/url_blob/pdf_file\\1007_VS6800AL_DJ68-00862A-03_210531b.pdf\n"
     ]
    },
    {
     "name": "stderr",
     "output_type": "stream",
     "text": [
      "1008it [47:32,  5.32s/it]"
     ]
    },
    {
     "name": "stdout",
     "output_type": "stream",
     "text": [
      "파일이 저장되었습니다: C:/Users/sykim/Desktop/url_blob/pdf_file\\1008_O_VS6800AL_DJ68-00862A-04_210927.pdf\n"
     ]
    },
    {
     "name": "stderr",
     "output_type": "stream",
     "text": [
      "1009it [47:50,  9.09s/it]"
     ]
    },
    {
     "name": "stdout",
     "output_type": "stream",
     "text": [
      "파일이 저장되었습니다: C:/Users/sykim/Desktop/url_blob/pdf_file\\1009_DA68-04147M-00.pdf\n"
     ]
    },
    {
     "name": "stderr",
     "output_type": "stream",
     "text": [
      "1010it [47:54,  7.62s/it]"
     ]
    },
    {
     "name": "stdout",
     "output_type": "stream",
     "text": [
      "파일이 저장되었습니다: C:/Users/sykim/Desktop/url_blob/pdf_file\\1010_RADIANCE_2400_OWNER.pdf\n"
     ]
    },
    {
     "name": "stderr",
     "output_type": "stream",
     "text": [
      "1011it [48:25, 14.62s/it]"
     ]
    },
    {
     "name": "stdout",
     "output_type": "stream",
     "text": [
      "파일이 저장되었습니다: C:/Users/sykim/Desktop/url_blob/pdf_file\\1011_M2680_M2890_Korean_20211213.pdf\n"
     ]
    },
    {
     "name": "stderr",
     "output_type": "stream",
     "text": [
      "1012it [48:29, 11.22s/it]"
     ]
    },
    {
     "name": "stdout",
     "output_type": "stream",
     "text": [
      "파일이 저장되었습니다: C:/Users/sykim/Desktop/url_blob/pdf_file\\1012_LUXATSCB-1.2.0_EM_KANT-SU2e_WW_KOR_211222.0.pdf\n"
     ]
    },
    {
     "name": "stderr",
     "output_type": "stream",
     "text": [
      "1013it [48:34,  9.33s/it]"
     ]
    },
    {
     "name": "stdout",
     "output_type": "stream",
     "text": [
      "파일이 저장되었습니다: C:/Users/sykim/Desktop/url_blob/pdf_file\\1013_SM-X70X_X80X_X90X_UM_EU_SS_Eng_Rev.1.0_220208.pdf\n"
     ]
    },
    {
     "name": "stderr",
     "output_type": "stream",
     "text": [
      "1014it [48:35,  6.93s/it]"
     ]
    },
    {
     "name": "stdout",
     "output_type": "stream",
     "text": [
      "파일이 저장되었습니다: C:/Users/sykim/Desktop/url_blob/pdf_file\\1014_Safety_information_kor_Rev.2.4.3_211125.pdf\n"
     ]
    },
    {
     "name": "stderr",
     "output_type": "stream",
     "text": [
      "1015it [48:36,  5.19s/it]"
     ]
    },
    {
     "name": "stdout",
     "output_type": "stream",
     "text": [
      "파일이 저장되었습니다: C:/Users/sykim/Desktop/url_blob/pdf_file\\1015_Safety_information_kor_Rev.2.4.3_211125.pdf\n"
     ]
    },
    {
     "name": "stderr",
     "output_type": "stream",
     "text": [
      "1016it [48:47,  6.90s/it]"
     ]
    },
    {
     "name": "stdout",
     "output_type": "stream",
     "text": [
      "파일이 저장되었습니다: C:/Users/sykim/Desktop/url_blob/pdf_file\\1016_SM-X70X_X80X_X90X_UM_EU_SS_Eng_Rev.1.0_220215.pdf\n"
     ]
    },
    {
     "name": "stderr",
     "output_type": "stream",
     "text": [
      "1017it [48:53,  6.56s/it]"
     ]
    },
    {
     "name": "stdout",
     "output_type": "stream",
     "text": [
      "파일이 저장되었습니다: C:/Users/sykim/Desktop/url_blob/pdf_file\\1017_SM-T73X_UM_EU_SS_Eng_Rev.1.0_220218.pdf\n"
     ]
    },
    {
     "name": "stderr",
     "output_type": "stream",
     "text": [
      "1018it [49:05,  8.35s/it]"
     ]
    },
    {
     "name": "stdout",
     "output_type": "stream",
     "text": [
      "파일이 저장되었습니다: C:/Users/sykim/Desktop/url_blob/pdf_file\\1018_SM-T73X_UM_SS_Kor_Rev.1.0_220218.pdf\n"
     ]
    },
    {
     "name": "stderr",
     "output_type": "stream",
     "text": [
      "1019it [49:13,  8.16s/it]"
     ]
    },
    {
     "name": "stdout",
     "output_type": "stream",
     "text": [
      "파일이 저장되었습니다: C:/Users/sykim/Desktop/url_blob/pdf_file\\1019_webUM_G32A_KR_KOR_210922.0.pdf\n"
     ]
    },
    {
     "name": "stderr",
     "output_type": "stream",
     "text": [
      "1020it [49:18,  7.31s/it]"
     ]
    },
    {
     "name": "stdout",
     "output_type": "stream",
     "text": [
      "파일이 저장되었습니다: C:/Users/sykim/Desktop/url_blob/pdf_file\\1020_SM-T73X_UM_SS_Kor_Rev.1.0_220218.pdf\n"
     ]
    },
    {
     "name": "stderr",
     "output_type": "stream",
     "text": [
      "1021it [49:20,  5.57s/it]"
     ]
    },
    {
     "name": "stdout",
     "output_type": "stream",
     "text": [
      "파일이 저장되었습니다: C:/Users/sykim/Desktop/url_blob/pdf_file\\1021_SL-J1780_Series_UG_220321_V1.01.pdf\n"
     ]
    },
    {
     "name": "stderr",
     "output_type": "stream",
     "text": [
      "1022it [49:31,  7.18s/it]"
     ]
    },
    {
     "name": "stdout",
     "output_type": "stream",
     "text": [
      "파일이 저장되었습니다: C:/Users/sykim/Desktop/url_blob/pdf_file\\1022_AH81-15289H-00_FM_HW-Q930B Q800B Q700B_KR_KOR_220311.0.pdf\n"
     ]
    },
    {
     "name": "stderr",
     "output_type": "stream",
     "text": [
      "1023it [49:38,  7.09s/it]"
     ]
    },
    {
     "name": "stdout",
     "output_type": "stream",
     "text": [
      "파일이 저장되었습니다: C:/Users/sykim/Desktop/url_blob/pdf_file\\1023_AH81-15289H-00_FM_HW-Q930B Q800B Q700B_KR_KOR_220311.0.pdf\n"
     ]
    },
    {
     "name": "stderr",
     "output_type": "stream",
     "text": [
      "1024it [49:45,  7.08s/it]"
     ]
    },
    {
     "name": "stdout",
     "output_type": "stream",
     "text": [
      "파일이 저장되었습니다: C:/Users/sykim/Desktop/url_blob/pdf_file\\1024_AH81-15289H-00_FM_HW-Q930B Q800B Q700B_KR_KOR_220311.0.pdf\n"
     ]
    },
    {
     "name": "stderr",
     "output_type": "stream",
     "text": [
      "1025it [49:50,  6.50s/it]"
     ]
    },
    {
     "name": "stdout",
     "output_type": "stream",
     "text": [
      "파일이 저장되었습니다: C:/Users/sykim/Desktop/url_blob/pdf_file\\1025_RW9500T_CUBE_Fridge_201204.pdf\n"
     ]
    },
    {
     "name": "stderr",
     "output_type": "stream",
     "text": [
      "1026it [50:03,  8.50s/it]"
     ]
    },
    {
     "name": "stdout",
     "output_type": "stream",
     "text": [
      "파일이 저장되었습니다: C:/Users/sykim/Desktop/url_blob/pdf_file\\1026_AH81-15288H-01_FM_HW-S800B S801B_KR_KOR_220513.0.pdf\n"
     ]
    },
    {
     "name": "stderr",
     "output_type": "stream",
     "text": [
      "1027it [50:16,  9.86s/it]"
     ]
    },
    {
     "name": "stdout",
     "output_type": "stream",
     "text": [
      "파일이 저장되었습니다: C:/Users/sykim/Desktop/url_blob/pdf_file\\1027_AH81-15288H-01_FM_HW-S800B S801B_KR_KOR_220513.0.pdf\n"
     ]
    },
    {
     "name": "stderr",
     "output_type": "stream",
     "text": [
      "1028it [50:26,  9.96s/it]"
     ]
    },
    {
     "name": "stdout",
     "output_type": "stream",
     "text": [
      "파일이 저장되었습니다: C:/Users/sykim/Desktop/url_blob/pdf_file\\1028_SL-T2x70W_DW_Series_UG_KO_220218.pdf\n"
     ]
    },
    {
     "name": "stderr",
     "output_type": "stream",
     "text": [
      "1029it [50:31,  8.40s/it]"
     ]
    },
    {
     "name": "stdout",
     "output_type": "stream",
     "text": [
      "파일이 저장되었습니다: C:/Users/sykim/Desktop/url_blob/pdf_file\\1029_BN81-22479D-03_WEB_M50B M70B M80B_KR_KOR_220526.0.pdf\n"
     ]
    },
    {
     "name": "stderr",
     "output_type": "stream",
     "text": [
      "1030it [50:33,  6.55s/it]"
     ]
    },
    {
     "name": "stdout",
     "output_type": "stream",
     "text": [
      "파일이 저장되었습니다: C:/Users/sykim/Desktop/url_blob/pdf_file\\1030_BN81-22479D-03_WEB_M50B M70B M80B_KR_KOR_220526.0.pdf\n"
     ]
    },
    {
     "name": "stderr",
     "output_type": "stream",
     "text": [
      "1031it [50:38,  6.19s/it]"
     ]
    },
    {
     "name": "stdout",
     "output_type": "stream",
     "text": [
      "파일이 저장되었습니다: C:/Users/sykim/Desktop/url_blob/pdf_file\\1031_BN81-22479D-03_WEB_M50B M70B M80B_KR_KOR_220526.0.pdf\n"
     ]
    },
    {
     "name": "stderr",
     "output_type": "stream",
     "text": [
      "1032it [50:47,  6.84s/it]"
     ]
    },
    {
     "name": "stdout",
     "output_type": "stream",
     "text": [
      "파일이 저장되었습니다: C:/Users/sykim/Desktop/url_blob/pdf_file\\1032_FULL_NZ63B1322EK_KO_220517.pdf\n"
     ]
    },
    {
     "name": "stderr",
     "output_type": "stream",
     "text": [
      "1033it [50:53,  6.49s/it]"
     ]
    },
    {
     "name": "stdout",
     "output_type": "stream",
     "text": [
      "파일이 저장되었습니다: C:/Users/sykim/Desktop/url_blob/pdf_file\\1033_AH81-15238H-01_FM_HW-S60B S61B_KR_KOR_220413.0.pdf\n"
     ]
    },
    {
     "name": "stderr",
     "output_type": "stream",
     "text": [
      "1034it [51:00,  6.65s/it]"
     ]
    },
    {
     "name": "stdout",
     "output_type": "stream",
     "text": [
      "파일이 저장되었습니다: C:/Users/sykim/Desktop/url_blob/pdf_file\\1034_AH81-15238H-01_FM_HW-S60B S61B_KR_KOR_220413.0.pdf\n"
     ]
    },
    {
     "name": "stderr",
     "output_type": "stream",
     "text": [
      "1035it [51:08,  7.11s/it]"
     ]
    },
    {
     "name": "stdout",
     "output_type": "stream",
     "text": [
      "파일이 저장되었습니다: C:/Users/sykim/Desktop/url_blob/pdf_file\\1035_HW-Q600B_KR_FullManual_01_KOR_220428.0.pdf\n"
     ]
    },
    {
     "name": "stderr",
     "output_type": "stream",
     "text": [
      "1036it [51:14,  6.74s/it]"
     ]
    },
    {
     "name": "stdout",
     "output_type": "stream",
     "text": [
      "파일이 저장되었습니다: C:/Users/sykim/Desktop/url_blob/pdf_file\\1036_HW-B450_KR_FullManual_01_KOR_220510.0.pdf\n"
     ]
    },
    {
     "name": "stderr",
     "output_type": "stream",
     "text": [
      "1037it [52:15, 23.15s/it]"
     ]
    },
    {
     "name": "stdout",
     "output_type": "stream",
     "text": [
      "파일이 저장되었습니다: C:/Users/sykim/Desktop/url_blob/pdf_file\\1037_RS5000T_3Door.pdf\n"
     ]
    },
    {
     "name": "stderr",
     "output_type": "stream",
     "text": [
      "1038it [52:20, 17.80s/it]"
     ]
    },
    {
     "name": "stdout",
     "output_type": "stream",
     "text": [
      "파일이 저장되었습니다: C:/Users/sykim/Desktop/url_blob/pdf_file\\1038_SM-X70X_X80X_X90X_UM_SS_Kor_Rev.1.1_220615.pdf\n"
     ]
    },
    {
     "name": "stderr",
     "output_type": "stream",
     "text": [
      "1039it [52:26, 14.19s/it]"
     ]
    },
    {
     "name": "stdout",
     "output_type": "stream",
     "text": [
      "파일이 저장되었습니다: C:/Users/sykim/Desktop/url_blob/pdf_file\\1039_SM-X70X_X80X_X90X_UM_SS_Kor_Rev.1.1_220615.pdf\n"
     ]
    },
    {
     "name": "stderr",
     "output_type": "stream",
     "text": [
      "1040it [52:37, 13.27s/it]"
     ]
    },
    {
     "name": "stdout",
     "output_type": "stream",
     "text": [
      "파일이 저장되었습니다: C:/Users/sykim/Desktop/url_blob/pdf_file\\1040_SM-X70X_X80X_X90X_UM_SS_Kor_Rev.1.1_220615.pdf\n"
     ]
    },
    {
     "name": "stderr",
     "output_type": "stream",
     "text": [
      "1041it [52:43, 11.06s/it]"
     ]
    },
    {
     "name": "stdout",
     "output_type": "stream",
     "text": [
      "파일이 저장되었습니다: C:/Users/sykim/Desktop/url_blob/pdf_file\\1041_SM-X70X_X80X_X90X_UM_SS_Kor_Rev.1.1_220615.pdf\n"
     ]
    },
    {
     "name": "stderr",
     "output_type": "stream",
     "text": [
      "1042it [52:46,  8.64s/it]"
     ]
    },
    {
     "name": "stdout",
     "output_type": "stream",
     "text": [
      "파일이 저장되었습니다: C:/Users/sykim/Desktop/url_blob/pdf_file\\1042_SM-X70X_X80X_X90X_UM_SS_Kor_Rev.1.1_220615.pdf\n"
     ]
    },
    {
     "name": "stderr",
     "output_type": "stream",
     "text": [
      "1043it [52:47,  6.38s/it]"
     ]
    },
    {
     "name": "stdout",
     "output_type": "stream",
     "text": [
      "파일이 저장되었습니다: C:/Users/sykim/Desktop/url_blob/pdf_file\\1043_Safety_information_kor_Rev.2.4.3_211125.pdf\n"
     ]
    },
    {
     "name": "stderr",
     "output_type": "stream",
     "text": [
      "1044it [53:11, 11.49s/it]"
     ]
    },
    {
     "name": "stdout",
     "output_type": "stream",
     "text": [
      "파일이 저장되었습니다: C:/Users/sykim/Desktop/url_blob/pdf_file\\1044_SM-X20X_UM_RR_Kor_Rev.1.1_220615.pdf\n"
     ]
    },
    {
     "name": "stderr",
     "output_type": "stream",
     "text": [
      "1045it [53:40, 16.72s/it]"
     ]
    },
    {
     "name": "stdout",
     "output_type": "stream",
     "text": [
      "파일이 저장되었습니다: C:/Users/sykim/Desktop/url_blob/pdf_file\\1045_C51x_series_KO_220603.pdf\n"
     ]
    },
    {
     "name": "stderr",
     "output_type": "stream",
     "text": [
      "1046it [54:53, 33.70s/it]"
     ]
    },
    {
     "name": "stdout",
     "output_type": "stream",
     "text": [
      "파일이 저장되었습니다: C:/Users/sykim/Desktop/url_blob/pdf_file\\1046_C419x_C626x_C145x_C186x_series_KO_220603.pdf\n"
     ]
    },
    {
     "name": "stderr",
     "output_type": "stream",
     "text": [
      "1047it [55:14, 29.89s/it]"
     ]
    },
    {
     "name": "stdout",
     "output_type": "stream",
     "text": [
      "파일이 저장되었습니다: C:/Users/sykim/Desktop/url_blob/pdf_file\\1047_C3010_KO_220603.pdf\n"
     ]
    },
    {
     "name": "stderr",
     "output_type": "stream",
     "text": [
      "1048it [55:50, 31.74s/it]"
     ]
    },
    {
     "name": "stdout",
     "output_type": "stream",
     "text": [
      "파일이 저장되었습니다: C:/Users/sykim/Desktop/url_blob/pdf_file\\1048_SL_X7xxxLXR_K7xxxLXR_Series.pdf\n"
     ]
    },
    {
     "name": "stderr",
     "output_type": "stream",
     "text": [
      "1049it [56:26, 32.91s/it]"
     ]
    },
    {
     "name": "stdout",
     "output_type": "stream",
     "text": [
      "파일이 저장되었습니다: C:/Users/sykim/Desktop/url_blob/pdf_file\\1049_SL_X7xxxLXR_K7xxxLXR_Series.pdf\n"
     ]
    },
    {
     "name": "stderr",
     "output_type": "stream",
     "text": [
      "1050it [56:29, 24.17s/it]"
     ]
    },
    {
     "name": "stdout",
     "output_type": "stream",
     "text": [
      "파일이 저장되었습니다: C:/Users/sykim/Desktop/url_blob/pdf_file\\1050_BN46-00904A-08_CD_UJ59_WW_KOR_220624.0.pdf\n"
     ]
    },
    {
     "name": "stderr",
     "output_type": "stream",
     "text": [
      "1051it [56:38, 19.42s/it]"
     ]
    },
    {
     "name": "stdout",
     "output_type": "stream",
     "text": [
      "파일이 저장되었습니다: C:/Users/sykim/Desktop/url_blob/pdf_file\\1051_SM-T575N_UM_SS_Kor_Rev.1.0_220418.pdf\n"
     ]
    },
    {
     "name": "stderr",
     "output_type": "stream",
     "text": [
      "1052it [56:41, 14.70s/it]"
     ]
    },
    {
     "name": "stdout",
     "output_type": "stream",
     "text": [
      "파일이 저장되었습니다: C:/Users/sykim/Desktop/url_blob/pdf_file\\1052_UM_RR1000M_RR05BG005WW_RR09BG014WW.pdf\n"
     ]
    },
    {
     "name": "stderr",
     "output_type": "stream",
     "text": [
      "1053it [56:50, 12.76s/it]"
     ]
    },
    {
     "name": "stdout",
     "output_type": "stream",
     "text": [
      "파일이 저장되었습니다: C:/Users/sykim/Desktop/url_blob/pdf_file\\1053_ACR029-01_ACR_AX5500B_KR_KO_220718-D01.pdf\n"
     ]
    },
    {
     "name": "stderr",
     "output_type": "stream",
     "text": [
      "1054it [59:08, 50.35s/it]"
     ]
    },
    {
     "name": "stdout",
     "output_type": "stream",
     "text": [
      "파일이 저장되었습니다: C:/Users/sykim/Desktop/url_blob/pdf_file\\1054_ACR043-01_IB_ACR_AX3100B_KR_KO-WEB_220719-D01.pdf\n"
     ]
    },
    {
     "name": "stderr",
     "output_type": "stream",
     "text": [
      "1055it [59:43, 45.73s/it]"
     ]
    },
    {
     "name": "stdout",
     "output_type": "stream",
     "text": [
      "파일이 저장되었습니다: C:/Users/sykim/Desktop/url_blob/pdf_file\\1055_HW-A550_KR_FullManual_04_KOR_220615.0.pdf\n"
     ]
    },
    {
     "name": "stderr",
     "output_type": "stream",
     "text": [
      "1056it [1:00:07, 39.34s/it]"
     ]
    },
    {
     "name": "stdout",
     "output_type": "stream",
     "text": [
      "파일이 저장되었습니다: C:/Users/sykim/Desktop/url_blob/pdf_file\\1056_WA30T2101_220722.pdf\n"
     ]
    },
    {
     "name": "stderr",
     "output_type": "stream",
     "text": [
      "1057it [1:00:10, 28.40s/it]"
     ]
    },
    {
     "name": "stdout",
     "output_type": "stream",
     "text": [
      "파일이 저장되었습니다: C:/Users/sykim/Desktop/url_blob/pdf_file\\1057_O_DJ68-00857A-02-Q_guide_VR8000_KO_KO_220426-1.pdf\n"
     ]
    },
    {
     "name": "stderr",
     "output_type": "stream",
     "text": [
      "1058it [1:00:13, 20.90s/it]"
     ]
    },
    {
     "name": "stdout",
     "output_type": "stream",
     "text": [
      "파일이 저장되었습니다: C:/Users/sykim/Desktop/url_blob/pdf_file\\1058_DA68-04147K-01_RS5000_3Door_svc_.pdf\n"
     ]
    },
    {
     "name": "stderr",
     "output_type": "stream",
     "text": [
      "1059it [1:00:17, 15.72s/it]"
     ]
    },
    {
     "name": "stdout",
     "output_type": "stream",
     "text": [
      "파일이 저장되었습니다: C:/Users/sykim/Desktop/url_blob/pdf_file\\1059_DA68-04147M-01_RS5000T_SBS__svc.pdf\n"
     ]
    },
    {
     "name": "stderr",
     "output_type": "stream",
     "text": [
      "1060it [1:02:37, 53.01s/it]"
     ]
    },
    {
     "name": "stdout",
     "output_type": "stream",
     "text": [
      "파일이 저장되었습니다: C:/Users/sykim/Desktop/url_blob/pdf_file\\1060_RS5000T_3Door.pdf\n"
     ]
    },
    {
     "name": "stderr",
     "output_type": "stream",
     "text": [
      "1061it [1:02:44, 39.12s/it]"
     ]
    },
    {
     "name": "stdout",
     "output_type": "stream",
     "text": [
      "파일이 저장되었습니다: C:/Users/sykim/Desktop/url_blob/pdf_file\\1061_VA81-01129N-00_UM_SWA-W510_KR_KOR_220121.0.pdf\n"
     ]
    },
    {
     "name": "stderr",
     "output_type": "stream",
     "text": [
      "1062it [1:02:53, 30.30s/it]"
     ]
    },
    {
     "name": "stdout",
     "output_type": "stream",
     "text": [
      "파일이 저장되었습니다: C:/Users/sykim/Desktop/url_blob/pdf_file\\1062_O_DJ68-00753A-08_VC3100_KO_KO_220805.pdf\n"
     ]
    },
    {
     "name": "stderr",
     "output_type": "stream",
     "text": [
      "1063it [1:03:01, 23.51s/it]"
     ]
    },
    {
     "name": "stdout",
     "output_type": "stream",
     "text": [
      "파일이 저장되었습니다: C:/Users/sykim/Desktop/url_blob/pdf_file\\1063_O_DJ68-00758D-05_VC2100_KO_KO_220805.pdf\n"
     ]
    },
    {
     "name": "stderr",
     "output_type": "stream",
     "text": [
      "1064it [1:03:05, 17.55s/it]"
     ]
    },
    {
     "name": "stdout",
     "output_type": "stream",
     "text": [
      "파일이 저장되었습니다: C:/Users/sykim/Desktop/url_blob/pdf_file\\1064_VA81-01146N-00_UM_SWA-9200S_KR_KOR_220408.0.pdf\n"
     ]
    },
    {
     "name": "stderr",
     "output_type": "stream",
     "text": [
      "1065it [1:03:07, 12.82s/it]"
     ]
    },
    {
     "name": "stdout",
     "output_type": "stream",
     "text": [
      "파일이 저장되었습니다: C:/Users/sykim/Desktop/url_blob/pdf_file\\1065_Hearable_Safety_information_KOREA_Rev.1.1_220608.pdf\n"
     ]
    },
    {
     "name": "stderr",
     "output_type": "stream",
     "text": [
      "1066it [1:03:12, 10.76s/it]"
     ]
    },
    {
     "name": "stdout",
     "output_type": "stream",
     "text": [
      "파일이 저장되었습니다: C:/Users/sykim/Desktop/url_blob/pdf_file\\1066_SM-F721N_UM_SS_Kor_Rev.1.1_220824.pdf\n"
     ]
    },
    {
     "name": "stderr",
     "output_type": "stream",
     "text": [
      "1067it [1:03:14,  7.99s/it]"
     ]
    },
    {
     "name": "stdout",
     "output_type": "stream",
     "text": [
      "파일이 저장되었습니다: C:/Users/sykim/Desktop/url_blob/pdf_file\\1067_Safety_information_kor_Rev.1.2.0FK_220825.pdf\n"
     ]
    },
    {
     "name": "stderr",
     "output_type": "stream",
     "text": [
      "1068it [1:03:17,  6.61s/it]"
     ]
    },
    {
     "name": "stdout",
     "output_type": "stream",
     "text": [
      "파일이 저장되었습니다: C:/Users/sykim/Desktop/url_blob/pdf_file\\1068_Win11_Manual_ENG.pdf\n"
     ]
    },
    {
     "name": "stderr",
     "output_type": "stream",
     "text": [
      "1069it [1:03:22,  5.92s/it]"
     ]
    },
    {
     "name": "stdout",
     "output_type": "stream",
     "text": [
      "파일이 저장되었습니다: C:/Users/sykim/Desktop/url_blob/pdf_file\\1069_Win11_Manual_KOR.pdf\n"
     ]
    },
    {
     "name": "stderr",
     "output_type": "stream",
     "text": [
      "1070it [1:03:24,  4.96s/it]"
     ]
    },
    {
     "name": "stdout",
     "output_type": "stream",
     "text": [
      "파일이 저장되었습니다: C:/Users/sykim/Desktop/url_blob/pdf_file\\1070_Win11_Manual_ENG.pdf\n"
     ]
    },
    {
     "name": "stderr",
     "output_type": "stream",
     "text": [
      "1071it [1:03:29,  4.83s/it]"
     ]
    },
    {
     "name": "stdout",
     "output_type": "stream",
     "text": [
      "파일이 저장되었습니다: C:/Users/sykim/Desktop/url_blob/pdf_file\\1071_Win11_Manual_KOR.pdf\n"
     ]
    },
    {
     "name": "stderr",
     "output_type": "stream",
     "text": [
      "1072it [1:03:37,  5.72s/it]"
     ]
    },
    {
     "name": "stdout",
     "output_type": "stream",
     "text": [
      "파일이 저장되었습니다: C:/Users/sykim/Desktop/url_blob/pdf_file\\1072_Win11_Manual_ENG.pdf\n"
     ]
    },
    {
     "name": "stderr",
     "output_type": "stream",
     "text": [
      "1073it [1:03:49,  7.67s/it]"
     ]
    },
    {
     "name": "stdout",
     "output_type": "stream",
     "text": [
      "파일이 저장되었습니다: C:/Users/sykim/Desktop/url_blob/pdf_file\\1073_Win11_Manual_KOR.pdf\n"
     ]
    },
    {
     "name": "stderr",
     "output_type": "stream",
     "text": [
      "1074it [1:04:16, 13.45s/it]"
     ]
    },
    {
     "name": "stdout",
     "output_type": "stream",
     "text": [
      "파일이 저장되었습니다: C:/Users/sykim/Desktop/url_blob/pdf_file\\1074_Wearable_Safety_information_Rev.1.5_220707.pdf\n"
     ]
    },
    {
     "name": "stderr",
     "output_type": "stream",
     "text": [
      "1075it [1:04:21, 10.83s/it]"
     ]
    },
    {
     "name": "stdout",
     "output_type": "stream",
     "text": [
      "파일이 저장되었습니다: C:/Users/sykim/Desktop/url_blob/pdf_file\\1075_SM-R510_UM_EU_Eng_Rev.1.0_220915.pdf\n"
     ]
    },
    {
     "name": "stderr",
     "output_type": "stream",
     "text": [
      "1076it [1:04:24,  8.57s/it]"
     ]
    },
    {
     "name": "stdout",
     "output_type": "stream",
     "text": [
      "파일이 저장되었습니다: C:/Users/sykim/Desktop/url_blob/pdf_file\\1076_SM-R510_UM_Kor_Rev.1.0_220915.pdf\n"
     ]
    },
    {
     "name": "stderr",
     "output_type": "stream",
     "text": [
      "1077it [1:04:45, 12.19s/it]"
     ]
    },
    {
     "name": "stdout",
     "output_type": "stream",
     "text": [
      "파일이 저장되었습니다: C:/Users/sykim/Desktop/url_blob/pdf_file\\1077_SM-P61X_UM_SS_Kor_Rev.1.1_220923.pdf\n"
     ]
    },
    {
     "name": "stderr",
     "output_type": "stream",
     "text": [
      "1078it [1:04:57, 12.26s/it]"
     ]
    },
    {
     "name": "stdout",
     "output_type": "stream",
     "text": [
      "파일이 저장되었습니다: C:/Users/sykim/Desktop/url_blob/pdf_file\\1078_SM-P61X_UM_SS_Kor_Rev.1.1_220923.pdf\n"
     ]
    },
    {
     "name": "stderr",
     "output_type": "stream",
     "text": [
      "1079it [1:05:00,  9.50s/it]"
     ]
    },
    {
     "name": "stdout",
     "output_type": "stream",
     "text": [
      "파일이 저장되었습니다: C:/Users/sykim/Desktop/url_blob/pdf_file\\1079_SM-X20X_UM_SS_Kor_Rev.1.0_220824.pdf\n"
     ]
    },
    {
     "name": "stderr",
     "output_type": "stream",
     "text": [
      "1080it [1:05:01,  7.09s/it]"
     ]
    },
    {
     "name": "stdout",
     "output_type": "stream",
     "text": [
      "파일이 저장되었습니다: C:/Users/sykim/Desktop/url_blob/pdf_file\\1080_Safety_information_kor_Rev.2.4.5_220823.pdf\n"
     ]
    },
    {
     "name": "stderr",
     "output_type": "stream",
     "text": [
      "1081it [1:05:16,  9.42s/it]"
     ]
    },
    {
     "name": "stdout",
     "output_type": "stream",
     "text": [
      "파일이 저장되었습니다: C:/Users/sykim/Desktop/url_blob/pdf_file\\1081_K6000_Series_GS2.0_Pearl_User_Guide_220418.pdf\n"
     ]
    },
    {
     "name": "stderr",
     "output_type": "stream",
     "text": [
      "1082it [1:05:34, 11.80s/it]"
     ]
    },
    {
     "name": "stdout",
     "output_type": "stream",
     "text": [
      "파일이 저장되었습니다: C:/Users/sykim/Desktop/url_blob/pdf_file\\1082_X6000_Series_GS2.0_Citrine_User_Guide_220418.pdf\n"
     ]
    },
    {
     "name": "stderr",
     "output_type": "stream",
     "text": [
      "1083it [1:05:58, 15.53s/it]"
     ]
    },
    {
     "name": "stdout",
     "output_type": "stream",
     "text": [
      "파일이 저장되었습니다: C:/Users/sykim/Desktop/url_blob/pdf_file\\1083_X9000_Series_GS2.0_Jasper_User_Guide_220418.pdf\n"
     ]
    },
    {
     "name": "stderr",
     "output_type": "stream",
     "text": [
      "1084it [1:06:02, 12.04s/it]"
     ]
    },
    {
     "name": "stdout",
     "output_type": "stream",
     "text": [
      "파일이 저장되었습니다: C:/Users/sykim/Desktop/url_blob/pdf_file\\1084_RR7000M_1DF_2021_UM_KO_RZ32A_221007.pdf\n"
     ]
    },
    {
     "name": "stderr",
     "output_type": "stream",
     "text": [
      "1085it [1:06:04,  9.04s/it]"
     ]
    },
    {
     "name": "stdout",
     "output_type": "stream",
     "text": [
      "파일이 저장되었습니다: C:/Users/sykim/Desktop/url_blob/pdf_file\\1085_VA81-01113T-02_UM_SWA-9500S_KR_KOR_221011.0.pdf\n"
     ]
    },
    {
     "name": "stderr",
     "output_type": "stream",
     "text": [
      "1086it [1:06:15,  9.54s/it]"
     ]
    },
    {
     "name": "stdout",
     "output_type": "stream",
     "text": [
      "파일이 저장되었습니다: C:/Users/sykim/Desktop/url_blob/pdf_file\\1086_AH81-15290H-02_FM_HW-Q990B_KR_KOR_221026.0.pdf\n"
     ]
    },
    {
     "name": "stderr",
     "output_type": "stream",
     "text": [
      "1087it [1:06:24,  9.46s/it]"
     ]
    },
    {
     "name": "stdout",
     "output_type": "stream",
     "text": [
      "파일이 저장되었습니다: C:/Users/sykim/Desktop/url_blob/pdf_file\\1087_AH81-13928E-02_FM_HW-Q950A_KR_KOR_221109.0.pdf\n"
     ]
    },
    {
     "name": "stderr",
     "output_type": "stream",
     "text": [
      "1088it [1:06:27,  7.60s/it]"
     ]
    },
    {
     "name": "stdout",
     "output_type": "stream",
     "text": [
      "파일이 저장되었습니다: C:/Users/sykim/Desktop/url_blob/pdf_file\\1088_BN81-20145A-04_WEB_G55T_KR_KOR_221130.0.pdf\n"
     ]
    },
    {
     "name": "stderr",
     "output_type": "stream",
     "text": [
      "1089it [1:06:29,  5.99s/it]"
     ]
    },
    {
     "name": "stdout",
     "output_type": "stream",
     "text": [
      "파일이 저장되었습니다: C:/Users/sykim/Desktop/url_blob/pdf_file\\1089_BN81-20145A-04_WEB_G55T_KR_KOR_221130.0.pdf\n"
     ]
    },
    {
     "name": "stderr",
     "output_type": "stream",
     "text": [
      "1090it [1:06:30,  4.31s/it]"
     ]
    },
    {
     "name": "stdout",
     "output_type": "stream",
     "text": [
      "파일이 저장되었습니다: C:/Users/sykim/Desktop/url_blob/pdf_file\\1090_SM-R180_UM_Kor_Rev.1.2_221201.pdf\n"
     ]
    },
    {
     "name": "stderr",
     "output_type": "stream",
     "text": [
      "1091it [1:06:31,  3.47s/it]"
     ]
    },
    {
     "name": "stdout",
     "output_type": "stream",
     "text": [
      "파일이 저장되었습니다: C:/Users/sykim/Desktop/url_blob/pdf_file\\1091_Hearable_Safety_information_KOREA_Rev.1.1_220608.pdf\n"
     ]
    },
    {
     "name": "stderr",
     "output_type": "stream",
     "text": [
      "1092it [1:06:33,  3.09s/it]"
     ]
    },
    {
     "name": "stdout",
     "output_type": "stream",
     "text": [
      "파일이 저장되었습니다: C:/Users/sykim/Desktop/url_blob/pdf_file\\1092_BN81-21780A-01_WEB_G55A_KR_KOR_221202.0.pdf\n"
     ]
    },
    {
     "name": "stderr",
     "output_type": "stream",
     "text": [
      "1093it [1:06:36,  3.07s/it]"
     ]
    },
    {
     "name": "stdout",
     "output_type": "stream",
     "text": [
      "파일이 저장되었습니다: C:/Users/sykim/Desktop/url_blob/pdf_file\\1093_BN81-21780A-01_WEB_G55A_KR_KOR_221202.0.pdf\n"
     ]
    },
    {
     "name": "stderr",
     "output_type": "stream",
     "text": [
      "1094it [1:06:54,  7.47s/it]"
     ]
    },
    {
     "name": "stdout",
     "output_type": "stream",
     "text": [
      "파일이 저장되었습니다: C:/Users/sykim/Desktop/url_blob/pdf_file\\1094_DJ68-00886A-02_VS9200_WEB_230104-D05.pdf\n"
     ]
    },
    {
     "name": "stderr",
     "output_type": "stream",
     "text": [
      "1095it [1:06:58,  6.28s/it]"
     ]
    },
    {
     "name": "stdout",
     "output_type": "stream",
     "text": [
      "파일이 저장되었습니다: C:/Users/sykim/Desktop/url_blob/pdf_file\\1095_O_DJ68-00886A_VS9200_QG_220210-D03.pdf\n"
     ]
    },
    {
     "name": "stderr",
     "output_type": "stream",
     "text": [
      "1096it [1:07:01,  5.44s/it]"
     ]
    },
    {
     "name": "stdout",
     "output_type": "stream",
     "text": [
      "파일이 저장되었습니다: C:/Users/sykim/Desktop/url_blob/pdf_file\\1096_Win11_Manual_KOR.pdf\n"
     ]
    },
    {
     "name": "stderr",
     "output_type": "stream",
     "text": [
      "1097it [1:07:04,  4.64s/it]"
     ]
    },
    {
     "name": "stdout",
     "output_type": "stream",
     "text": [
      "파일이 저장되었습니다: C:/Users/sykim/Desktop/url_blob/pdf_file\\1097_Win11_Manual_ENG.pdf\n"
     ]
    },
    {
     "name": "stderr",
     "output_type": "stream",
     "text": [
      "1098it [1:07:07,  4.03s/it]"
     ]
    },
    {
     "name": "stdout",
     "output_type": "stream",
     "text": [
      "파일이 저장되었습니다: C:/Users/sykim/Desktop/url_blob/pdf_file\\1098_Win11_Manual_ENG.pdf\n"
     ]
    },
    {
     "name": "stderr",
     "output_type": "stream",
     "text": [
      "1099it [1:07:10,  3.73s/it]"
     ]
    },
    {
     "name": "stdout",
     "output_type": "stream",
     "text": [
      "파일이 저장되었습니다: C:/Users/sykim/Desktop/url_blob/pdf_file\\1099_Safety_information_kor_Rev.2.4.5_220823.pdf\n"
     ]
    },
    {
     "name": "stderr",
     "output_type": "stream",
     "text": [
      "1100it [1:07:12,  3.36s/it]"
     ]
    },
    {
     "name": "stdout",
     "output_type": "stream",
     "text": [
      "파일이 저장되었습니다: C:/Users/sykim/Desktop/url_blob/pdf_file\\1100_SM-F721N_UM_TT_Kor_Rev.2.0_230126.pdf\n"
     ]
    },
    {
     "name": "stderr",
     "output_type": "stream",
     "text": [
      "1101it [1:07:15,  3.37s/it]"
     ]
    },
    {
     "name": "stdout",
     "output_type": "stream",
     "text": [
      "파일이 저장되었습니다: C:/Users/sykim/Desktop/url_blob/pdf_file\\1101_BN81-22479D-03_WEB_M50B M70B M80B_KR_KOR_220526.0.pdf\n"
     ]
    },
    {
     "name": "stderr",
     "output_type": "stream",
     "text": [
      "1102it [1:07:21,  3.99s/it]"
     ]
    },
    {
     "name": "stdout",
     "output_type": "stream",
     "text": [
      "파일이 저장되었습니다: C:/Users/sykim/Desktop/url_blob/pdf_file\\1102_Win11_Manual_KOR.pdf\n"
     ]
    },
    {
     "name": "stderr",
     "output_type": "stream",
     "text": [
      "1103it [1:07:23,  3.30s/it]"
     ]
    },
    {
     "name": "stdout",
     "output_type": "stream",
     "text": [
      "파일이 저장되었습니다: C:/Users/sykim/Desktop/url_blob/pdf_file\\1103_DB68-11654A-00_QG_22Y_ACR_COMMON_KR_KO_220103-D01.pdf\n"
     ]
    },
    {
     "name": "stderr",
     "output_type": "stream",
     "text": [
      "1104it [1:07:25,  2.96s/it]"
     ]
    },
    {
     "name": "stdout",
     "output_type": "stream",
     "text": [
      "파일이 저장되었습니다: C:/Users/sykim/Desktop/url_blob/pdf_file\\1104_Win11_Manual_KOR.pdf\n"
     ]
    },
    {
     "name": "stderr",
     "output_type": "stream",
     "text": [
      "1105it [1:07:31,  3.98s/it]"
     ]
    },
    {
     "name": "stdout",
     "output_type": "stream",
     "text": [
      "파일이 저장되었습니다: C:/Users/sykim/Desktop/url_blob/pdf_file\\1105_ACR031-00_IB_ACR_AX9500B_Small_UV_KR_KO_230112-D05.pdf\n"
     ]
    },
    {
     "name": "stderr",
     "output_type": "stream",
     "text": [
      "1106it [1:07:42,  6.09s/it]"
     ]
    },
    {
     "name": "stdout",
     "output_type": "stream",
     "text": [
      "파일이 저장되었습니다: C:/Users/sykim/Desktop/url_blob/pdf_file\\1106_ACR034-00_IB_ACR_AX9500B_Small_KR_KO_221229-D03.pdf\n"
     ]
    },
    {
     "name": "stderr",
     "output_type": "stream",
     "text": [
      "1107it [1:08:22, 16.26s/it]"
     ]
    },
    {
     "name": "stdout",
     "output_type": "stream",
     "text": [
      "파일이 저장되었습니다: C:/Users/sykim/Desktop/url_blob/pdf_file\\1107_ACR038-00_IB_ACR_AX9500B_Med_KR_KO_230112-D06.pdf\n"
     ]
    },
    {
     "name": "stderr",
     "output_type": "stream",
     "text": [
      "1108it [1:08:39, 16.43s/it]"
     ]
    },
    {
     "name": "stdout",
     "output_type": "stream",
     "text": [
      "파일이 저장되었습니다: C:/Users/sykim/Desktop/url_blob/pdf_file\\1108_ACR052_IB_ACR_AX5500C_KR_KO_221220-D03.pdf\n"
     ]
    },
    {
     "name": "stderr",
     "output_type": "stream",
     "text": [
      "1109it [1:08:49, 14.45s/it]"
     ]
    },
    {
     "name": "stdout",
     "output_type": "stream",
     "text": [
      "파일이 저장되었습니다: C:/Users/sykim/Desktop/url_blob/pdf_file\\1109_ACR053-00_IB_ACR_AX9500C_Small_UV_KR_KO_230113-D04.pdf\n"
     ]
    },
    {
     "name": "stderr",
     "output_type": "stream",
     "text": [
      "1110it [1:09:01, 13.86s/it]"
     ]
    },
    {
     "name": "stdout",
     "output_type": "stream",
     "text": [
      "파일이 저장되었습니다: C:/Users/sykim/Desktop/url_blob/pdf_file\\1110_ACR054-00_IB_ACR_AX9500C_Small_UV_KR_KO_230112-D02.pdf\n"
     ]
    },
    {
     "name": "stderr",
     "output_type": "stream",
     "text": [
      "1111it [1:09:13, 13.16s/it]"
     ]
    },
    {
     "name": "stdout",
     "output_type": "stream",
     "text": [
      "파일이 저장되었습니다: C:/Users/sykim/Desktop/url_blob/pdf_file\\1111_ACR055-00_IB_ACR_AX9500C_Small_KR_KO_230112-D02.pdf\n"
     ]
    },
    {
     "name": "stderr",
     "output_type": "stream",
     "text": [
      "1112it [1:09:26, 13.22s/it]"
     ]
    },
    {
     "name": "stdout",
     "output_type": "stream",
     "text": [
      "파일이 저장되었습니다: C:/Users/sykim/Desktop/url_blob/pdf_file\\1112_ACR056-00_IB_ACR_AX9500C_Small_UV_KR_KO_230113-D02.pdf\n"
     ]
    },
    {
     "name": "stderr",
     "output_type": "stream",
     "text": [
      "1113it [1:09:51, 16.76s/it]"
     ]
    },
    {
     "name": "stdout",
     "output_type": "stream",
     "text": [
      "파일이 저장되었습니다: C:/Users/sykim/Desktop/url_blob/pdf_file\\1113_ACR057-00_IB_ACR_AX9500C_Small_KR_KO_230112-D02.pdf\n"
     ]
    },
    {
     "name": "stderr",
     "output_type": "stream",
     "text": [
      "1114it [1:10:01, 14.73s/it]"
     ]
    },
    {
     "name": "stdout",
     "output_type": "stream",
     "text": [
      "파일이 저장되었습니다: C:/Users/sykim/Desktop/url_blob/pdf_file\\1114_ACR058-00_IB_ACR_AX9500C_Small_KR_KO_230112-D02.pdf\n"
     ]
    },
    {
     "name": "stderr",
     "output_type": "stream",
     "text": [
      "1115it [1:10:34, 20.09s/it]"
     ]
    },
    {
     "name": "stdout",
     "output_type": "stream",
     "text": [
      "파일이 저장되었습니다: C:/Users/sykim/Desktop/url_blob/pdf_file\\1115_ACR059-00_IB_ACR_AX9500C_Med_KR_KO_230112-D02.pdf\n"
     ]
    },
    {
     "name": "stderr",
     "output_type": "stream",
     "text": [
      "1116it [1:10:45, 17.41s/it]"
     ]
    },
    {
     "name": "stdout",
     "output_type": "stream",
     "text": [
      "파일이 저장되었습니다: C:/Users/sykim/Desktop/url_blob/pdf_file\\1116_ACR060-00_IB_ACR_AX9500C_Med_KR_KO_230113-D02.pdf\n"
     ]
    },
    {
     "name": "stderr",
     "output_type": "stream",
     "text": [
      "1117it [1:10:59, 16.48s/it]"
     ]
    },
    {
     "name": "stdout",
     "output_type": "stream",
     "text": [
      "파일이 저장되었습니다: C:/Users/sykim/Desktop/url_blob/pdf_file\\1117_ACR062-00_IB_ACR_AX9500C_Med_UV_KR_KO_230112-D02.pdf\n"
     ]
    },
    {
     "name": "stderr",
     "output_type": "stream",
     "text": [
      "1118it [1:11:17, 16.99s/it]"
     ]
    },
    {
     "name": "stdout",
     "output_type": "stream",
     "text": [
      "파일이 저장되었습니다: C:/Users/sykim/Desktop/url_blob/pdf_file\\1118_ShoeDresser_DJ30T9500_User_Manual_SD0001_KO_230221.pdf\n"
     ]
    },
    {
     "name": "stderr",
     "output_type": "stream",
     "text": [
      "1119it [1:11:34, 16.91s/it]"
     ]
    },
    {
     "name": "stdout",
     "output_type": "stream",
     "text": [
      "파일이 저장되었습니다: C:/Users/sykim/Desktop/url_blob/pdf_file\\1119_SM-T73X_UM_TT_Kor_Rev.2.0_230214.pdf\n"
     ]
    },
    {
     "name": "stderr",
     "output_type": "stream",
     "text": [
      "1120it [1:11:37, 12.76s/it]"
     ]
    },
    {
     "name": "stdout",
     "output_type": "stream",
     "text": [
      "파일이 저장되었습니다: C:/Users/sykim/Desktop/url_blob/pdf_file\\1120_SM-T73X_UM_EU_TT_Eng_Rev.2.0_230214.pdf\n"
     ]
    },
    {
     "name": "stderr",
     "output_type": "stream",
     "text": [
      "1121it [1:11:40,  9.80s/it]"
     ]
    },
    {
     "name": "stdout",
     "output_type": "stream",
     "text": [
      "파일이 저장되었습니다: C:/Users/sykim/Desktop/url_blob/pdf_file\\1121_SM-T73X_UM_TT_Kor_Rev.2.0_230214.pdf\n"
     ]
    },
    {
     "name": "stderr",
     "output_type": "stream",
     "text": [
      "1122it [1:11:42,  7.46s/it]"
     ]
    },
    {
     "name": "stdout",
     "output_type": "stream",
     "text": [
      "파일이 저장되었습니다: C:/Users/sykim/Desktop/url_blob/pdf_file\\1122_Win11_Manual_ENG.pdf\n"
     ]
    },
    {
     "name": "stderr",
     "output_type": "stream",
     "text": [
      "1123it [1:11:45,  5.98s/it]"
     ]
    },
    {
     "name": "stdout",
     "output_type": "stream",
     "text": [
      "파일이 저장되었습니다: C:/Users/sykim/Desktop/url_blob/pdf_file\\1123_Win11_Manual_KOR.pdf\n"
     ]
    },
    {
     "name": "stderr",
     "output_type": "stream",
     "text": [
      "1124it [1:11:48,  5.05s/it]"
     ]
    },
    {
     "name": "stdout",
     "output_type": "stream",
     "text": [
      "파일이 저장되었습니다: C:/Users/sykim/Desktop/url_blob/pdf_file\\1124_Win11_Manual_ENG.pdf\n"
     ]
    },
    {
     "name": "stderr",
     "output_type": "stream",
     "text": [
      "1125it [1:11:50,  4.27s/it]"
     ]
    },
    {
     "name": "stdout",
     "output_type": "stream",
     "text": [
      "파일이 저장되었습니다: C:/Users/sykim/Desktop/url_blob/pdf_file\\1125_Win11_Manual_KOR.pdf\n"
     ]
    },
    {
     "name": "stderr",
     "output_type": "stream",
     "text": [
      "1126it [1:11:56,  4.87s/it]"
     ]
    },
    {
     "name": "stdout",
     "output_type": "stream",
     "text": [
      "파일이 저장되었습니다: C:/Users/sykim/Desktop/url_blob/pdf_file\\1126_Win11_Manual_ENG.pdf\n"
     ]
    },
    {
     "name": "stderr",
     "output_type": "stream",
     "text": [
      "1127it [1:11:59,  4.26s/it]"
     ]
    },
    {
     "name": "stdout",
     "output_type": "stream",
     "text": [
      "파일이 저장되었습니다: C:/Users/sykim/Desktop/url_blob/pdf_file\\1127_Win11_Manual_KOR.pdf\n"
     ]
    },
    {
     "name": "stderr",
     "output_type": "stream",
     "text": [
      "1128it [1:12:18,  8.67s/it]"
     ]
    },
    {
     "name": "stdout",
     "output_type": "stream",
     "text": [
      "파일이 저장되었습니다: C:/Users/sykim/Desktop/url_blob/pdf_file\\1128_SM-T575N_UM_TT_Kor_Rev.2.0_230210.pdf\n"
     ]
    },
    {
     "name": "stderr",
     "output_type": "stream",
     "text": [
      "1129it [1:12:34, 10.82s/it]"
     ]
    },
    {
     "name": "stdout",
     "output_type": "stream",
     "text": [
      "파일이 저장되었습니다: C:/Users/sykim/Desktop/url_blob/pdf_file\\1129_SM-P61X_UM_TT_Kor_Rev.2.0_230210.pdf\n"
     ]
    },
    {
     "name": "stderr",
     "output_type": "stream",
     "text": [
      "1130it [1:12:47, 11.60s/it]"
     ]
    },
    {
     "name": "stdout",
     "output_type": "stream",
     "text": [
      "파일이 저장되었습니다: C:/Users/sykim/Desktop/url_blob/pdf_file\\1130_SM-P61X_UM_TT_Kor_Rev.2.0_230210.pdf\n"
     ]
    },
    {
     "name": "stderr",
     "output_type": "stream",
     "text": [
      "1131it [1:12:50,  9.05s/it]"
     ]
    },
    {
     "name": "stdout",
     "output_type": "stream",
     "text": [
      "파일이 저장되었습니다: C:/Users/sykim/Desktop/url_blob/pdf_file\\1131_SM-X70X_X80X_X90X_UM_TT_Kor_Rev.2.0_230208.pdf\n"
     ]
    },
    {
     "name": "stderr",
     "output_type": "stream",
     "text": [
      "1132it [1:12:53,  7.17s/it]"
     ]
    },
    {
     "name": "stdout",
     "output_type": "stream",
     "text": [
      "파일이 저장되었습니다: C:/Users/sykim/Desktop/url_blob/pdf_file\\1132_SM-X70X_X80X_X90X_UM_TT_Kor_Rev.2.0_230208.pdf\n"
     ]
    },
    {
     "name": "stderr",
     "output_type": "stream",
     "text": [
      "1133it [1:12:56,  5.87s/it]"
     ]
    },
    {
     "name": "stdout",
     "output_type": "stream",
     "text": [
      "파일이 저장되었습니다: C:/Users/sykim/Desktop/url_blob/pdf_file\\1133_SM-X70X_X80X_X90X_UM_EU_TT_Eng_Rev.2.0_230208.pdf\n"
     ]
    },
    {
     "name": "stderr",
     "output_type": "stream",
     "text": [
      "1134it [1:13:00,  5.15s/it]"
     ]
    },
    {
     "name": "stdout",
     "output_type": "stream",
     "text": [
      "파일이 저장되었습니다: C:/Users/sykim/Desktop/url_blob/pdf_file\\1134_SM-X70X_X80X_X90X_UM_TT_Kor_Rev.2.0_230208.pdf\n"
     ]
    },
    {
     "name": "stderr",
     "output_type": "stream",
     "text": [
      "1135it [1:13:02,  4.34s/it]"
     ]
    },
    {
     "name": "stdout",
     "output_type": "stream",
     "text": [
      "파일이 저장되었습니다: C:/Users/sykim/Desktop/url_blob/pdf_file\\1135_SM-X70X_X80X_X90X_UM_EU_TT_Eng_Rev.2.0_230208.pdf\n"
     ]
    },
    {
     "name": "stderr",
     "output_type": "stream",
     "text": [
      "1136it [1:13:06,  4.24s/it]"
     ]
    },
    {
     "name": "stdout",
     "output_type": "stream",
     "text": [
      "파일이 저장되었습니다: C:/Users/sykim/Desktop/url_blob/pdf_file\\1136_SM-X70X_X80X_X90X_UM_TT_Kor_Rev.2.0_230208.pdf\n"
     ]
    },
    {
     "name": "stderr",
     "output_type": "stream",
     "text": [
      "1137it [1:13:09,  4.01s/it]"
     ]
    },
    {
     "name": "stdout",
     "output_type": "stream",
     "text": [
      "파일이 저장되었습니다: C:/Users/sykim/Desktop/url_blob/pdf_file\\1137_SM-X70X_X80X_X90X_UM_TT_Kor_Rev.2.0_230208.pdf\n"
     ]
    },
    {
     "name": "stderr",
     "output_type": "stream",
     "text": [
      "1138it [1:13:13,  3.75s/it]"
     ]
    },
    {
     "name": "stdout",
     "output_type": "stream",
     "text": [
      "파일이 저장되었습니다: C:/Users/sykim/Desktop/url_blob/pdf_file\\1138_SM-X20X_UM_TT_Kor_Rev.2.0_230201.pdf\n"
     ]
    },
    {
     "name": "stderr",
     "output_type": "stream",
     "text": [
      "1139it [1:13:14,  3.16s/it]"
     ]
    },
    {
     "name": "stdout",
     "output_type": "stream",
     "text": [
      "파일이 저장되었습니다: C:/Users/sykim/Desktop/url_blob/pdf_file\\1139_SM-R90X_R91X_R92X_UM_EU_Android_Eng_Rev.2.0_230203.pdf\n"
     ]
    },
    {
     "name": "stderr",
     "output_type": "stream",
     "text": [
      "1140it [1:13:16,  2.79s/it]"
     ]
    },
    {
     "name": "stdout",
     "output_type": "stream",
     "text": [
      "파일이 저장되었습니다: C:/Users/sykim/Desktop/url_blob/pdf_file\\1140_SM-R90X_R91X_R92X_UM_Android_Kor_Rev.2.0_230203.pdf\n"
     ]
    },
    {
     "name": "stderr",
     "output_type": "stream",
     "text": [
      "1141it [1:13:20,  3.14s/it]"
     ]
    },
    {
     "name": "stdout",
     "output_type": "stream",
     "text": [
      "파일이 저장되었습니다: C:/Users/sykim/Desktop/url_blob/pdf_file\\1141_SM-R90X_R91X_R92X_UM_Android_Kor_Rev.2.0_230203.pdf\n"
     ]
    },
    {
     "name": "stderr",
     "output_type": "stream",
     "text": [
      "1142it [1:13:39,  7.77s/it]"
     ]
    },
    {
     "name": "stdout",
     "output_type": "stream",
     "text": [
      "파일이 저장되었습니다: C:/Users/sykim/Desktop/url_blob/pdf_file\\1142_AH81-16775H-00_FM_HW-Q990C_KR_KOR_230224.0.pdf\n"
     ]
    },
    {
     "name": "stderr",
     "output_type": "stream",
     "text": [
      "1143it [1:13:49,  8.57s/it]"
     ]
    },
    {
     "name": "stdout",
     "output_type": "stream",
     "text": [
      "파일이 저장되었습니다: C:/Users/sykim/Desktop/url_blob/pdf_file\\1143_AH81-16776H-00_FM_HW-Q930C Q800C Q700C_KR_KOR_230224.0.pdf\n"
     ]
    },
    {
     "name": "stderr",
     "output_type": "stream",
     "text": [
      "1144it [1:13:59,  8.82s/it]"
     ]
    },
    {
     "name": "stdout",
     "output_type": "stream",
     "text": [
      "파일이 저장되었습니다: C:/Users/sykim/Desktop/url_blob/pdf_file\\1144_AH81-16776H-00_FM_HW-Q930C Q800C Q700C_KR_KOR_230224.0.pdf\n"
     ]
    },
    {
     "name": "stderr",
     "output_type": "stream",
     "text": [
      "1145it [1:14:05,  8.21s/it]"
     ]
    },
    {
     "name": "stdout",
     "output_type": "stream",
     "text": [
      "파일이 저장되었습니다: C:/Users/sykim/Desktop/url_blob/pdf_file\\1145_AH81-16776H-00_FM_HW-Q930C Q800C Q700C_KR_KOR_230224.0.pdf\n"
     ]
    },
    {
     "name": "stderr",
     "output_type": "stream",
     "text": [
      "1146it [1:14:13,  8.06s/it]"
     ]
    },
    {
     "name": "stdout",
     "output_type": "stream",
     "text": [
      "파일이 저장되었습니다: C:/Users/sykim/Desktop/url_blob/pdf_file\\1146_BN68-15043A-01_UM_UN4000N_KR_KOR_220621.0.pdf\n"
     ]
    },
    {
     "name": "stderr",
     "output_type": "stream",
     "text": [
      "1147it [1:14:24,  8.80s/it]"
     ]
    },
    {
     "name": "stdout",
     "output_type": "stream",
     "text": [
      "파일이 저장되었습니다: C:/Users/sykim/Desktop/url_blob/pdf_file\\1147_DD81-04130A-05_IB_DW3300AM_KO_230404.pdf\n"
     ]
    },
    {
     "name": "stderr",
     "output_type": "stream",
     "text": [
      "1148it [1:14:31,  8.33s/it]"
     ]
    },
    {
     "name": "stdout",
     "output_type": "stream",
     "text": [
      "파일이 저장되었습니다: C:/Users/sykim/Desktop/url_blob/pdf_file\\1148_Drum_WF6500TK_WF21T6500K_WF23T8500K_WF24T8500K.pdf\n"
     ]
    },
    {
     "name": "stderr",
     "output_type": "stream",
     "text": [
      "1149it [1:14:36,  7.35s/it]"
     ]
    },
    {
     "name": "stdout",
     "output_type": "stream",
     "text": [
      "파일이 저장되었습니다: C:/Users/sykim/Desktop/url_blob/pdf_file\\1149_Drum_WF8000AK_WF21A9400_WF24A9500_9501.pdf\n"
     ]
    },
    {
     "name": "stderr",
     "output_type": "stream",
     "text": [
      "1150it [1:14:37,  5.37s/it]"
     ]
    },
    {
     "name": "stdout",
     "output_type": "stream",
     "text": [
      "파일이 저장되었습니다: C:/Users/sykim/Desktop/url_blob/pdf_file\\1150_Win11_Manual_ENG.pdf\n"
     ]
    },
    {
     "name": "stderr",
     "output_type": "stream",
     "text": [
      "1151it [1:14:38,  4.03s/it]"
     ]
    },
    {
     "name": "stdout",
     "output_type": "stream",
     "text": [
      "파일이 저장되었습니다: C:/Users/sykim/Desktop/url_blob/pdf_file\\1151_Win11_Manual_KOR.pdf\n"
     ]
    },
    {
     "name": "stderr",
     "output_type": "stream",
     "text": [
      "1152it [1:15:02, 10.03s/it]"
     ]
    },
    {
     "name": "stdout",
     "output_type": "stream",
     "text": [
      "파일이 저장되었습니다: C:/Users/sykim/Desktop/url_blob/pdf_file\\1152_User_Manual_DJ40_SD0003_KO_230313.pdf\n"
     ]
    },
    {
     "name": "stderr",
     "output_type": "stream",
     "text": [
      "1153it [1:15:18, 11.83s/it]"
     ]
    },
    {
     "name": "stdout",
     "output_type": "stream",
     "text": [
      "파일이 저장되었습니다: C:/Users/sykim/Desktop/url_blob/pdf_file\\1153_ACR061-01_IB_ACR_AX9500C_Med_UV_KR_KO_230324-D01.pdf\n"
     ]
    },
    {
     "name": "stderr",
     "output_type": "stream",
     "text": [
      "1154it [1:15:25, 10.49s/it]"
     ]
    },
    {
     "name": "stdout",
     "output_type": "stream",
     "text": [
      "파일이 저장되었습니다: C:/Users/sykim/Desktop/url_blob/pdf_file\\1154_IB_MW5000T_MG23T5018CC_KO_230403.pdf\n"
     ]
    },
    {
     "name": "stderr",
     "output_type": "stream",
     "text": [
      "1155it [1:15:33,  9.64s/it]"
     ]
    },
    {
     "name": "stdout",
     "output_type": "stream",
     "text": [
      "파일이 저장되었습니다: C:/Users/sykim/Desktop/url_blob/pdf_file\\1155_IB_MW5000T_MS23T5018AW_KO_230403.pdf\n"
     ]
    },
    {
     "name": "stderr",
     "output_type": "stream",
     "text": [
      "1156it [1:16:03, 15.75s/it]"
     ]
    },
    {
     "name": "stdout",
     "output_type": "stream",
     "text": [
      "파일이 저장되었습니다: C:/Users/sykim/Desktop/url_blob/pdf_file\\1156_IB_MW5300A_MG23A5378CC_KO_230403.pdf\n"
     ]
    },
    {
     "name": "stderr",
     "output_type": "stream",
     "text": [
      "1157it [1:16:35, 20.80s/it]"
     ]
    },
    {
     "name": "stdout",
     "output_type": "stream",
     "text": [
      "파일이 저장되었습니다: C:/Users/sykim/Desktop/url_blob/pdf_file\\1157_IB_MW8500A_MC35A8599LC_KO_230403.pdf\n"
     ]
    },
    {
     "name": "stderr",
     "output_type": "stream",
     "text": [
      "1158it [1:16:42, 16.52s/it]"
     ]
    },
    {
     "name": "stdout",
     "output_type": "stream",
     "text": [
      "파일이 저장되었습니다: C:/Users/sykim/Desktop/url_blob/pdf_file\\1158_IB_TRANSFORMER_MS23M4023AG_KO_230403.pdf\n"
     ]
    },
    {
     "name": "stderr",
     "output_type": "stream",
     "text": [
      "1159it [1:16:44, 12.26s/it]"
     ]
    },
    {
     "name": "stdout",
     "output_type": "stream",
     "text": [
      "파일이 저장되었습니다: C:/Users/sykim/Desktop/url_blob/pdf_file\\1159_Win11_Manual_KOR.pdf\n"
     ]
    },
    {
     "name": "stderr",
     "output_type": "stream",
     "text": [
      "1160it [1:17:12, 16.90s/it]"
     ]
    },
    {
     "name": "stdout",
     "output_type": "stream",
     "text": [
      "파일이 저장되었습니다: C:/Users/sykim/Desktop/url_blob/pdf_file\\1160_Win11_Manual_KOR.pdf\n"
     ]
    },
    {
     "name": "stderr",
     "output_type": "stream",
     "text": [
      "1161it [1:17:15, 12.70s/it]"
     ]
    },
    {
     "name": "stdout",
     "output_type": "stream",
     "text": [
      "파일이 저장되었습니다: C:/Users/sykim/Desktop/url_blob/pdf_file\\1161_DJ68-00879A-02_QG_VS9500_KR_D01_N01_KO_230412.pdf\n"
     ]
    },
    {
     "name": "stderr",
     "output_type": "stream",
     "text": [
      "1162it [1:17:18,  9.95s/it]"
     ]
    },
    {
     "name": "stdout",
     "output_type": "stream",
     "text": [
      "파일이 저장되었습니다: C:/Users/sykim/Desktop/url_blob/pdf_file\\1162_O_DJ68-00724H-18_IB_VC4100K_KO_KO_220805.pdf\n"
     ]
    },
    {
     "name": "stderr",
     "output_type": "stream",
     "text": [
      "1163it [1:17:24,  8.52s/it]"
     ]
    },
    {
     "name": "stdout",
     "output_type": "stream",
     "text": [
      "파일이 저장되었습니다: C:/Users/sykim/Desktop/url_blob/pdf_file\\1163_HW-Q600C_KR_FM_00_KOR_230116.0.pdf\n"
     ]
    },
    {
     "name": "stderr",
     "output_type": "stream",
     "text": [
      "1164it [1:17:30,  7.82s/it]"
     ]
    },
    {
     "name": "stdout",
     "output_type": "stream",
     "text": [
      "파일이 저장되었습니다: C:/Users/sykim/Desktop/url_blob/pdf_file\\1164_HW-B650_KR_FM_03_KOR_230406.0.pdf\n"
     ]
    },
    {
     "name": "stderr",
     "output_type": "stream",
     "text": [
      "1165it [1:17:37,  7.65s/it]"
     ]
    },
    {
     "name": "stdout",
     "output_type": "stream",
     "text": [
      "파일이 저장되었습니다: C:/Users/sykim/Desktop/url_blob/pdf_file\\1165_HW-B550_KR_FM_03_KOR_230405.0.pdf\n"
     ]
    },
    {
     "name": "stderr",
     "output_type": "stream",
     "text": [
      "1166it [1:17:41,  6.58s/it]"
     ]
    },
    {
     "name": "stdout",
     "output_type": "stream",
     "text": [
      "파일이 저장되었습니다: C:/Users/sykim/Desktop/url_blob/pdf_file\\1166_HW-C400_KR_FM_02_KOR_230406.0.pdf\n"
     ]
    },
    {
     "name": "stderr",
     "output_type": "stream",
     "text": [
      "1167it [1:17:50,  7.41s/it]"
     ]
    },
    {
     "name": "stdout",
     "output_type": "stream",
     "text": [
      "파일이 저장되었습니다: C:/Users/sykim/Desktop/url_blob/pdf_file\\1167_HW-C450_KR_FullManual_X10_ENG_221221.0.pdf\n"
     ]
    },
    {
     "name": "stderr",
     "output_type": "stream",
     "text": [
      "1168it [1:17:56,  6.94s/it]"
     ]
    },
    {
     "name": "stdout",
     "output_type": "stream",
     "text": [
      "파일이 저장되었습니다: C:/Users/sykim/Desktop/url_blob/pdf_file\\1168_DA68-04752G_IB_FULL_RR5000R_RZ24_KO_230426.pdf\n"
     ]
    },
    {
     "name": "stderr",
     "output_type": "stream",
     "text": [
      "1169it [1:18:06,  7.66s/it]"
     ]
    },
    {
     "name": "stdout",
     "output_type": "stream",
     "text": [
      "파일이 저장되었습니다: C:/Users/sykim/Desktop/url_blob/pdf_file\\1169_DA68-04752H_IB_FULL_RW5000A_RW24_KO_230426.pdf\n"
     ]
    },
    {
     "name": "stderr",
     "output_type": "stream",
     "text": [
      "1170it [1:18:17,  8.73s/it]"
     ]
    },
    {
     "name": "stdout",
     "output_type": "stream",
     "text": [
      "파일이 저장되었습니다: C:/Users/sykim/Desktop/url_blob/pdf_file\\1170_DA68-04752F_IB_FULL_RR7000M_RZ34_KO_230426.pdf\n"
     ]
    },
    {
     "name": "stderr",
     "output_type": "stream",
     "text": [
      "1171it [1:18:32, 10.55s/it]"
     ]
    },
    {
     "name": "stdout",
     "output_type": "stream",
     "text": [
      "파일이 저장되었습니다: C:/Users/sykim/Desktop/url_blob/pdf_file\\1171_DA68-04752S_IB_FULL_RR7000M_RR40x7_KO_230425.pdf\n"
     ]
    },
    {
     "name": "stderr",
     "output_type": "stream",
     "text": [
      "1172it [1:18:42, 10.63s/it]"
     ]
    },
    {
     "name": "stdout",
     "output_type": "stream",
     "text": [
      "파일이 저장되었습니다: C:/Users/sykim/Desktop/url_blob/pdf_file\\1172_DA68-04752A_IB_FULL_RR9_8000A_RR40x9_KO_230503.pdf\n"
     ]
    },
    {
     "name": "stderr",
     "output_type": "stream",
     "text": [
      "1173it [1:18:51,  9.96s/it]"
     ]
    },
    {
     "name": "stdout",
     "output_type": "stream",
     "text": [
      "파일이 저장되었습니다: C:/Users/sykim/Desktop/url_blob/pdf_file\\1173_DA68-04752D_IB_FULL_RW9000A_RW33_KO_230426.pdf\n"
     ]
    },
    {
     "name": "stderr",
     "output_type": "stream",
     "text": [
      "1174it [1:18:55,  8.14s/it]"
     ]
    },
    {
     "name": "stdout",
     "output_type": "stream",
     "text": [
      "파일이 저장되었습니다: C:/Users/sykim/Desktop/url_blob/pdf_file\\1174_DA68-04752E_IB_FULL_RR7000M_RR39_KO_230417a.pdf\n"
     ]
    },
    {
     "name": "stderr",
     "output_type": "stream",
     "text": [
      "1175it [1:19:00,  7.20s/it]"
     ]
    },
    {
     "name": "stdout",
     "output_type": "stream",
     "text": [
      "파일이 저장되었습니다: C:/Users/sykim/Desktop/url_blob/pdf_file\\1175_SM-A245N_UM_TT_Kor_Rev.1.0_230308.pdf\n"
     ]
    },
    {
     "name": "stderr",
     "output_type": "stream",
     "text": [
      "1176it [1:19:00,  5.21s/it]"
     ]
    },
    {
     "name": "stdout",
     "output_type": "stream",
     "text": [
      "파일이 저장되었습니다: C:/Users/sykim/Desktop/url_blob/pdf_file\\1176_Safety_information_kor_Rev.2.4.6_230406.pdf\n"
     ]
    },
    {
     "name": "stderr",
     "output_type": "stream",
     "text": [
      "1177it [1:19:05,  4.93s/it]"
     ]
    },
    {
     "name": "stdout",
     "output_type": "stream",
     "text": [
      "파일이 저장되었습니다: C:/Users/sykim/Desktop/url_blob/pdf_file\\1177_HW-S50B_KR_FM_03_KOR_230407.0.pdf\n"
     ]
    },
    {
     "name": "stderr",
     "output_type": "stream",
     "text": [
      "1178it [1:19:16,  6.88s/it]"
     ]
    },
    {
     "name": "stdout",
     "output_type": "stream",
     "text": [
      "파일이 저장되었습니다: C:/Users/sykim/Desktop/url_blob/pdf_file\\1178_NZ31T3703PW_IB_FULL_KO_230518.pdf\n"
     ]
    },
    {
     "name": "stderr",
     "output_type": "stream",
     "text": [
      "1179it [1:19:32,  9.48s/it]"
     ]
    },
    {
     "name": "stdout",
     "output_type": "stream",
     "text": [
      "파일이 저장되었습니다: C:/Users/sykim/Desktop/url_blob/pdf_file\\1179_NZ60R7703PW_NZ60R3703PK_NZ62T7703PK_IB_FULL_KO_230518.pdf\n"
     ]
    },
    {
     "name": "stderr",
     "output_type": "stream",
     "text": [
      "1180it [1:19:37,  8.31s/it]"
     ]
    },
    {
     "name": "stdout",
     "output_type": "stream",
     "text": [
      "파일이 저장되었습니다: C:/Users/sykim/Desktop/url_blob/pdf_file\\1180_NZ62T3707AK_IB_FULL_KO_230510.pdf\n"
     ]
    },
    {
     "name": "stderr",
     "output_type": "stream",
     "text": [
      "1181it [1:19:44,  7.74s/it]"
     ]
    },
    {
     "name": "stdout",
     "output_type": "stream",
     "text": [
      "파일이 저장되었습니다: C:/Users/sykim/Desktop/url_blob/pdf_file\\1181_NZ63T5607AK_IB_FULL_KO_230510.pdf\n"
     ]
    },
    {
     "name": "stderr",
     "output_type": "stream",
     "text": [
      "1182it [1:19:52,  7.86s/it]"
     ]
    },
    {
     "name": "stdout",
     "output_type": "stream",
     "text": [
      "파일이 저장되었습니다: C:/Users/sykim/Desktop/url_blob/pdf_file\\1182_NZ63T6777MR_NZ63T6707MR_IB_FULL_KO_230518.pdf\n"
     ]
    },
    {
     "name": "stderr",
     "output_type": "stream",
     "text": [
      "1183it [1:20:03,  8.90s/it]"
     ]
    },
    {
     "name": "stdout",
     "output_type": "stream",
     "text": [
      "파일이 저장되었습니다: C:/Users/sykim/Desktop/url_blob/pdf_file\\1183_NZ63A8858XU_IB_FULL_KO_230518.pdf\n"
     ]
    },
    {
     "name": "stderr",
     "output_type": "stream",
     "text": [
      "1184it [1:20:08,  7.72s/it]"
     ]
    },
    {
     "name": "stdout",
     "output_type": "stream",
     "text": [
      "파일이 저장되었습니다: C:/Users/sykim/Desktop/url_blob/pdf_file\\1184_BN81-24425D-00_WEB_M50C M70C M80C S90PC_KR_KOR_230517.0.pdf\n"
     ]
    },
    {
     "name": "stderr",
     "output_type": "stream",
     "text": [
      "1185it [1:20:15,  7.61s/it]"
     ]
    },
    {
     "name": "stdout",
     "output_type": "stream",
     "text": [
      "파일이 저장되었습니다: C:/Users/sykim/Desktop/url_blob/pdf_file\\1185_SM-S91X_UM_TT_Kor_Rev.1.3_230601.pdf\n"
     ]
    },
    {
     "name": "stderr",
     "output_type": "stream",
     "text": [
      "1186it [1:20:20,  6.88s/it]"
     ]
    },
    {
     "name": "stdout",
     "output_type": "stream",
     "text": [
      "파일이 저장되었습니다: C:/Users/sykim/Desktop/url_blob/pdf_file\\1186_BN81-24425D-00_WEB_M50C M70C M80C S90PC_KR_KOR_230517.0.pdf\n"
     ]
    },
    {
     "name": "stderr",
     "output_type": "stream",
     "text": [
      "1187it [1:20:39, 10.28s/it]"
     ]
    },
    {
     "name": "stdout",
     "output_type": "stream",
     "text": [
      "파일이 저장되었습니다: C:/Users/sykim/Desktop/url_blob/pdf_file\\1187_BN81-24425D-00_WEB_M50C M70C M80C S90PC_KR_KOR_230517.0.pdf\n"
     ]
    },
    {
     "name": "stderr",
     "output_type": "stream",
     "text": [
      "1188it [1:20:41,  8.04s/it]"
     ]
    },
    {
     "name": "stdout",
     "output_type": "stream",
     "text": [
      "파일이 저장되었습니다: C:/Users/sykim/Desktop/url_blob/pdf_file\\1188_BN81-23436D-02_WEB_G85SB_KR_KOR_221114.0.pdf\n"
     ]
    },
    {
     "name": "stderr",
     "output_type": "stream",
     "text": [
      "1189it [1:21:03, 11.97s/it]"
     ]
    },
    {
     "name": "stdout",
     "output_type": "stream",
     "text": [
      "파일이 저장되었습니다: C:/Users/sykim/Desktop/url_blob/pdf_file\\1189_O-DJ68-00857A-04_IB_VR8000-full_KO_KO_230615.pdf\n"
     ]
    },
    {
     "name": "stderr",
     "output_type": "stream",
     "text": [
      "1190it [1:21:11, 10.84s/it]"
     ]
    },
    {
     "name": "stdout",
     "output_type": "stream",
     "text": [
      "파일이 저장되었습니다: C:/Users/sykim/Desktop/url_blob/pdf_file\\1190_SM-S91X_UM_TT_Kor_Rev.1.3_230601.pdf\n"
     ]
    },
    {
     "name": "stderr",
     "output_type": "stream",
     "text": [
      "1191it [1:21:14,  8.53s/it]"
     ]
    },
    {
     "name": "stdout",
     "output_type": "stream",
     "text": [
      "파일이 저장되었습니다: C:/Users/sykim/Desktop/url_blob/pdf_file\\1191_Safety_information_kor_Rev.2.4.6_230406.pdf\n"
     ]
    },
    {
     "name": "stderr",
     "output_type": "stream",
     "text": [
      "1192it [1:22:14, 23.94s/it]"
     ]
    },
    {
     "name": "stdout",
     "output_type": "stream",
     "text": [
      "파일이 저장되었습니다: C:/Users/sykim/Desktop/url_blob/pdf_file\\1192_RS5000T_3Door_.pdf\n"
     ]
    },
    {
     "name": "stderr",
     "output_type": "stream",
     "text": [
      "1193it [1:22:23, 19.43s/it]"
     ]
    },
    {
     "name": "stdout",
     "output_type": "stream",
     "text": [
      "파일이 저장되었습니다: C:/Users/sykim/Desktop/url_blob/pdf_file\\1193_BN81-22600D-00_WEB_G65B_G70B_KR_KOR_221024.0.pdf\n"
     ]
    },
    {
     "name": "stderr",
     "output_type": "stream",
     "text": [
      "1194it [1:22:28, 15.09s/it]"
     ]
    },
    {
     "name": "stdout",
     "output_type": "stream",
     "text": [
      "파일이 저장되었습니다: C:/Users/sykim/Desktop/url_blob/pdf_file\\1194_BN81-24425D-00_WEB_M50C M70C M80C S90PC_KR_KOR_230517.0.pdf\n"
     ]
    },
    {
     "name": "stderr",
     "output_type": "stream",
     "text": [
      "1195it [1:22:34, 12.48s/it]"
     ]
    },
    {
     "name": "stdout",
     "output_type": "stream",
     "text": [
      "파일이 저장되었습니다: C:/Users/sykim/Desktop/url_blob/pdf_file\\1195_BN81-24425D-00_WEB_M50C M70C M80C S90PC_KR_KOR_230517.0.pdf\n"
     ]
    },
    {
     "name": "stderr",
     "output_type": "stream",
     "text": [
      "1196it [1:22:47, 12.51s/it]"
     ]
    },
    {
     "name": "stdout",
     "output_type": "stream",
     "text": [
      "파일이 저장되었습니다: C:/Users/sykim/Desktop/url_blob/pdf_file\\1196_IB_FULL_MW3500K_MS23C3513AK_KO_230612.pdf\n"
     ]
    },
    {
     "name": "stderr",
     "output_type": "stream",
     "text": [
      "1197it [1:22:52, 10.24s/it]"
     ]
    },
    {
     "name": "stdout",
     "output_type": "stream",
     "text": [
      "파일이 저장되었습니다: C:/Users/sykim/Desktop/url_blob/pdf_file\\1197_BN81-24425D-00_WEB_M50C M70C M80C S90PC_KR_KOR_230517.0.pdf\n"
     ]
    },
    {
     "name": "stderr",
     "output_type": "stream",
     "text": [
      "1198it [1:22:55,  8.10s/it]"
     ]
    },
    {
     "name": "stdout",
     "output_type": "stream",
     "text": [
      "파일이 저장되었습니다: C:/Users/sykim/Desktop/url_blob/pdf_file\\1198_S36C_WEB_KR_KOR_20221227.pdf\n"
     ]
    },
    {
     "name": "stderr",
     "output_type": "stream",
     "text": [
      "1199it [1:22:58,  6.67s/it]"
     ]
    },
    {
     "name": "stdout",
     "output_type": "stream",
     "text": [
      "파일이 저장되었습니다: C:/Users/sykim/Desktop/url_blob/pdf_file\\1199_DA68-04752T_KO.pdf\n"
     ]
    },
    {
     "name": "stderr",
     "output_type": "stream",
     "text": [
      "1200it [1:23:05,  6.81s/it]"
     ]
    },
    {
     "name": "stdout",
     "output_type": "stream",
     "text": [
      "파일이 저장되었습니다: C:/Users/sykim/Desktop/url_blob/pdf_file\\1200_AH81-16773T-00_UM_HW-Q990C_KR_KOR_230106.0.pdf\n"
     ]
    },
    {
     "name": "stderr",
     "output_type": "stream",
     "text": [
      "1201it [1:23:13,  7.20s/it]"
     ]
    },
    {
     "name": "stdout",
     "output_type": "stream",
     "text": [
      "파일이 저장되었습니다: C:/Users/sykim/Desktop/url_blob/pdf_file\\1201_AH81-16777T-00_UM_HW-Q700C_KR_KOR_230106.0.pdf\n"
     ]
    },
    {
     "name": "stderr",
     "output_type": "stream",
     "text": [
      "1202it [1:23:25,  8.40s/it]"
     ]
    },
    {
     "name": "stdout",
     "output_type": "stream",
     "text": [
      "파일이 저장되었습니다: C:/Users/sykim/Desktop/url_blob/pdf_file\\1202_AH81-16774T-00_UM_HW-Q930C_Q800C_KR_KOR_230106.0.pdf\n"
     ]
    },
    {
     "name": "stderr",
     "output_type": "stream",
     "text": [
      "1203it [1:23:32,  8.26s/it]"
     ]
    },
    {
     "name": "stdout",
     "output_type": "stream",
     "text": [
      "파일이 저장되었습니다: C:/Users/sykim/Desktop/url_blob/pdf_file\\1203_AH81-16774T-00_UM_HW-Q930C_Q800C_KR_KOR_230106.0.pdf\n"
     ]
    },
    {
     "name": "stderr",
     "output_type": "stream",
     "text": [
      "1204it [1:23:38,  7.40s/it]"
     ]
    },
    {
     "name": "stdout",
     "output_type": "stream",
     "text": [
      "파일이 저장되었습니다: C:/Users/sykim/Desktop/url_blob/pdf_file\\1204_IB_FULL_MC32B7388_KO_230629.pdf\n"
     ]
    },
    {
     "name": "stderr",
     "output_type": "stream",
     "text": [
      "1205it [1:23:58, 11.10s/it]"
     ]
    },
    {
     "name": "stdout",
     "output_type": "stream",
     "text": [
      "파일이 저장되었습니다: C:/Users/sykim/Desktop/url_blob/pdf_file\\1205_IB_FULL_NZ64B9899R_KO_230718.pdf\n"
     ]
    },
    {
     "name": "stderr",
     "output_type": "stream",
     "text": [
      "1206it [1:24:12, 12.03s/it]"
     ]
    },
    {
     "name": "stdout",
     "output_type": "stream",
     "text": [
      "파일이 저장되었습니다: C:/Users/sykim/Desktop/url_blob/pdf_file\\1206_SM-X71X_X81X_X91X_UM_TT_Kor_Rev.1.0_230720.pdf\n"
     ]
    },
    {
     "name": "stderr",
     "output_type": "stream",
     "text": [
      "1207it [1:24:14,  9.06s/it]"
     ]
    },
    {
     "name": "stdout",
     "output_type": "stream",
     "text": [
      "파일이 저장되었습니다: C:/Users/sykim/Desktop/url_blob/pdf_file\\1207_Safety_information_kor_Rev.2.4.6_230406.pdf\n"
     ]
    },
    {
     "name": "stderr",
     "output_type": "stream",
     "text": [
      "1208it [1:24:17,  7.21s/it]"
     ]
    },
    {
     "name": "stdout",
     "output_type": "stream",
     "text": [
      "파일이 저장되었습니다: C:/Users/sykim/Desktop/url_blob/pdf_file\\1208_Safety_information_kor_Rev.2.4.6_230406.pdf\n"
     ]
    },
    {
     "name": "stderr",
     "output_type": "stream",
     "text": [
      "1209it [1:24:25,  7.61s/it]"
     ]
    },
    {
     "name": "stdout",
     "output_type": "stream",
     "text": [
      "파일이 저장되었습니다: C:/Users/sykim/Desktop/url_blob/pdf_file\\1209_SM-X71X_X81X_X91X_UM_TT_Kor_Rev.1.0_230720.pdf\n"
     ]
    },
    {
     "name": "stderr",
     "output_type": "stream",
     "text": [
      "1210it [1:24:27,  5.74s/it]"
     ]
    },
    {
     "name": "stdout",
     "output_type": "stream",
     "text": [
      "파일이 저장되었습니다: C:/Users/sykim/Desktop/url_blob/pdf_file\\1210_Safety_information_kor_Rev.2.4.6_230406.pdf\n"
     ]
    },
    {
     "name": "stderr",
     "output_type": "stream",
     "text": [
      "1211it [1:24:32,  5.58s/it]"
     ]
    },
    {
     "name": "stdout",
     "output_type": "stream",
     "text": [
      "파일이 저장되었습니다: C:/Users/sykim/Desktop/url_blob/pdf_file\\1211_SM-X71X_X81X_X91X_UM_TT_Kor_Rev.1.0_230720.pdf\n"
     ]
    },
    {
     "name": "stderr",
     "output_type": "stream",
     "text": [
      "1212it [1:24:33,  4.12s/it]"
     ]
    },
    {
     "name": "stdout",
     "output_type": "stream",
     "text": [
      "파일이 저장되었습니다: C:/Users/sykim/Desktop/url_blob/pdf_file\\1212_Safety_information_kor_Rev.2.4.6_230406.pdf\n"
     ]
    },
    {
     "name": "stderr",
     "output_type": "stream",
     "text": [
      "1213it [1:24:43,  5.99s/it]"
     ]
    },
    {
     "name": "stdout",
     "output_type": "stream",
     "text": [
      "파일이 저장되었습니다: C:/Users/sykim/Desktop/url_blob/pdf_file\\1213_DA68-04752U_IB_FULL_RQ7000_RQ33x71_KO_230727.pdf\n"
     ]
    },
    {
     "name": "stderr",
     "output_type": "stream",
     "text": [
      "1214it [1:24:46,  5.02s/it]"
     ]
    },
    {
     "name": "stdout",
     "output_type": "stream",
     "text": [
      "파일이 저장되었습니다: C:/Users/sykim/Desktop/url_blob/pdf_file\\1214_MX-ST50B_KR_FULL_230608.pdf\n"
     ]
    },
    {
     "name": "stderr",
     "output_type": "stream",
     "text": [
      "1215it [1:24:57,  6.97s/it]"
     ]
    },
    {
     "name": "stdout",
     "output_type": "stream",
     "text": [
      "파일이 저장되었습니다: C:/Users/sykim/Desktop/url_blob/pdf_file\\1215_SM-X71X_X81X_X91X_UM_TT_Kor_Rev.1.0_230720.pdf\n"
     ]
    },
    {
     "name": "stderr",
     "output_type": "stream",
     "text": [
      "1216it [1:25:05,  7.04s/it]"
     ]
    },
    {
     "name": "stdout",
     "output_type": "stream",
     "text": [
      "파일이 저장되었습니다: C:/Users/sykim/Desktop/url_blob/pdf_file\\1216_SM-F946N_UM_TT_Kor_Rev.1.0_230721.pdf\n"
     ]
    },
    {
     "name": "stderr",
     "output_type": "stream",
     "text": [
      "1217it [1:25:06,  5.26s/it]"
     ]
    },
    {
     "name": "stdout",
     "output_type": "stream",
     "text": [
      "파일이 저장되었습니다: C:/Users/sykim/Desktop/url_blob/pdf_file\\1217_Safety_information_Foldable_Kor_Rev.1.2.1_230413.pdf\n"
     ]
    },
    {
     "name": "stderr",
     "output_type": "stream",
     "text": [
      "1218it [1:25:09,  4.82s/it]"
     ]
    },
    {
     "name": "stdout",
     "output_type": "stream",
     "text": [
      "파일이 저장되었습니다: C:/Users/sykim/Desktop/url_blob/pdf_file\\1218_SM-F731N_UM_TT_Kor_Rev.1.0_230727.pdf\n"
     ]
    },
    {
     "name": "stderr",
     "output_type": "stream",
     "text": [
      "1219it [1:25:14,  4.65s/it]"
     ]
    },
    {
     "name": "stdout",
     "output_type": "stream",
     "text": [
      "파일이 저장되었습니다: C:/Users/sykim/Desktop/url_blob/pdf_file\\1219_SM-F731N_UM_TT_Eng_Rev.1.0_230721.pdf\n"
     ]
    },
    {
     "name": "stderr",
     "output_type": "stream",
     "text": [
      "1220it [1:25:14,  3.39s/it]"
     ]
    },
    {
     "name": "stdout",
     "output_type": "stream",
     "text": [
      "파일이 저장되었습니다: C:/Users/sykim/Desktop/url_blob/pdf_file\\1220_Safety_information_Foldable_Kor_Rev.1.2.1_230413.pdf\n"
     ]
    },
    {
     "name": "stderr",
     "output_type": "stream",
     "text": [
      "1221it [1:25:15,  2.75s/it]"
     ]
    },
    {
     "name": "stdout",
     "output_type": "stream",
     "text": [
      "파일이 저장되었습니다: C:/Users/sykim/Desktop/url_blob/pdf_file\\1221_BN81-24599D-00_WEB_G95SC_KR_KOR_230621.0.pdf\n"
     ]
    },
    {
     "name": "stderr",
     "output_type": "stream",
     "text": [
      "1222it [1:25:18,  2.79s/it]"
     ]
    },
    {
     "name": "stdout",
     "output_type": "stream",
     "text": [
      "파일이 저장되었습니다: C:/Users/sykim/Desktop/url_blob/pdf_file\\1222_DA68-04752K_IB_FULL_RQ7000B_RQ33A74_KO_230809.pdf\n"
     ]
    },
    {
     "name": "stderr",
     "output_type": "stream",
     "text": [
      "1223it [1:25:23,  3.26s/it]"
     ]
    },
    {
     "name": "stdout",
     "output_type": "stream",
     "text": [
      "파일이 저장되었습니다: C:/Users/sykim/Desktop/url_blob/pdf_file\\1223_DA68-04752L_IB_FULL_RP3000_RP22A_KO_230809.pdf\n"
     ]
    },
    {
     "name": "stderr",
     "output_type": "stream",
     "text": [
      "1224it [1:25:26,  3.24s/it]"
     ]
    },
    {
     "name": "stdout",
     "output_type": "stream",
     "text": [
      "파일이 저장되었습니다: C:/Users/sykim/Desktop/url_blob/pdf_file\\1224_DE68_04586A_09_QG_Convection_Oven_KO_230403.pdf\n"
     ]
    },
    {
     "name": "stderr",
     "output_type": "stream",
     "text": [
      "1225it [1:25:29,  3.16s/it]"
     ]
    },
    {
     "name": "stdout",
     "output_type": "stream",
     "text": [
      "파일이 저장되었습니다: C:/Users/sykim/Desktop/url_blob/pdf_file\\1225_DE68_04590A_09_QG_MWO_KO_230403.pdf\n"
     ]
    },
    {
     "name": "stderr",
     "output_type": "stream",
     "text": [
      "1226it [1:25:31,  3.03s/it]"
     ]
    },
    {
     "name": "stdout",
     "output_type": "stream",
     "text": [
      "파일이 저장되었습니다: C:/Users/sykim/Desktop/url_blob/pdf_file\\1226_DE68_04726A_05_QG_Convection_Oven_KO_230403.pdf\n"
     ]
    },
    {
     "name": "stderr",
     "output_type": "stream",
     "text": [
      "1227it [1:25:39,  4.52s/it]"
     ]
    },
    {
     "name": "stdout",
     "output_type": "stream",
     "text": [
      "파일이 저장되었습니다: C:/Users/sykim/Desktop/url_blob/pdf_file\\1227_IB_MW5000T_MS23T5018AW_KO_230403.pdf\n"
     ]
    },
    {
     "name": "stderr",
     "output_type": "stream",
     "text": [
      "1228it [1:25:48,  5.62s/it]"
     ]
    },
    {
     "name": "stdout",
     "output_type": "stream",
     "text": [
      "파일이 저장되었습니다: C:/Users/sykim/Desktop/url_blob/pdf_file\\1228_DG68_01182A_08_QG_Built_In_Oven_SCO_KO_230403.pdf\n"
     ]
    },
    {
     "name": "stderr",
     "output_type": "stream",
     "text": [
      "1229it [1:25:52,  5.21s/it]"
     ]
    },
    {
     "name": "stdout",
     "output_type": "stream",
     "text": [
      "파일이 저장되었습니다: C:/Users/sykim/Desktop/url_blob/pdf_file\\1229_MX-ST40B_KR_FULL_230608.pdf\n"
     ]
    },
    {
     "name": "stderr",
     "output_type": "stream",
     "text": [
      "1230it [1:26:12,  9.78s/it]"
     ]
    },
    {
     "name": "stdout",
     "output_type": "stream",
     "text": [
      "파일이 저장되었습니다: C:/Users/sykim/Desktop/url_blob/pdf_file\\1230_C56x_series_KO_20230825.pdf\n"
     ]
    },
    {
     "name": "stderr",
     "output_type": "stream",
     "text": [
      "1231it [1:26:13,  7.11s/it]"
     ]
    },
    {
     "name": "stdout",
     "output_type": "stream",
     "text": [
      "파일이 저장되었습니다: C:/Users/sykim/Desktop/url_blob/pdf_file\\1231_SM-R400N_UM_EU_Eng_Rev.1.0_230906.pdf\n"
     ]
    },
    {
     "name": "stderr",
     "output_type": "stream",
     "text": [
      "1232it [1:26:24,  8.23s/it]"
     ]
    },
    {
     "name": "stdout",
     "output_type": "stream",
     "text": [
      "파일이 저장되었습니다: C:/Users/sykim/Desktop/url_blob/pdf_file\\1232_M203x_series_korean_20230906.pdf\n"
     ]
    },
    {
     "name": "stderr",
     "output_type": "stream",
     "text": [
      "1233it [1:26:48, 13.06s/it]"
     ]
    },
    {
     "name": "stdout",
     "output_type": "stream",
     "text": [
      "파일이 저장되었습니다: C:/Users/sykim/Desktop/url_blob/pdf_file\\1233_M208x_series_ug_korean_20230906.pdf\n"
     ]
    },
    {
     "name": "stderr",
     "output_type": "stream",
     "text": [
      "1234it [1:27:01, 13.05s/it]"
     ]
    },
    {
     "name": "stdout",
     "output_type": "stream",
     "text": [
      "파일이 저장되었습니다: C:/Users/sykim/Desktop/url_blob/pdf_file\\1234_OID64408_IB_AD3050_LED_KO_230905.pdf\n"
     ]
    },
    {
     "name": "stderr",
     "output_type": "stream",
     "text": [
      "1235it [1:27:17, 13.67s/it]"
     ]
    },
    {
     "name": "stdout",
     "output_type": "stream",
     "text": [
      "파일이 저장되었습니다: C:/Users/sykim/Desktop/url_blob/pdf_file\\1235_RWP7000AM_UM_Water_Purifier_KO_KO_230829.pdf\n"
     ]
    },
    {
     "name": "stderr",
     "output_type": "stream",
     "text": [
      "1236it [1:27:20, 10.47s/it]"
     ]
    },
    {
     "name": "stdout",
     "output_type": "stream",
     "text": [
      "파일이 저장되었습니다: C:/Users/sykim/Desktop/url_blob/pdf_file\\1236_BN81-25142D-00_WEB_G97NC_KR_KOR_230824.0.pdf\n"
     ]
    },
    {
     "name": "stderr",
     "output_type": "stream",
     "text": [
      "1237it [1:27:23,  8.48s/it]"
     ]
    },
    {
     "name": "stdout",
     "output_type": "stream",
     "text": [
      "파일이 저장되었습니다: C:/Users/sykim/Desktop/url_blob/pdf_file\\1237_Hearable_Safety_information_KOREA_Rev.1.1_220608.pdf\n"
     ]
    },
    {
     "name": "stderr",
     "output_type": "stream",
     "text": [
      "1238it [1:27:37, 10.09s/it]"
     ]
    },
    {
     "name": "stdout",
     "output_type": "stream",
     "text": [
      "파일이 저장되었습니다: C:/Users/sykim/Desktop/url_blob/pdf_file\\1238_SL-T2270FW_Series_UG_KO_230914.pdf\n"
     ]
    },
    {
     "name": "stderr",
     "output_type": "stream",
     "text": [
      "1239it [1:27:53, 11.87s/it]"
     ]
    },
    {
     "name": "stdout",
     "output_type": "stream",
     "text": [
      "파일이 저장되었습니다: C:/Users/sykim/Desktop/url_blob/pdf_file\\1239_IB_FULL_MW3500K_MS23C3535AK_KO_230612.pdf\n"
     ]
    },
    {
     "name": "stderr",
     "output_type": "stream",
     "text": [
      "1240it [1:27:54,  8.66s/it]"
     ]
    },
    {
     "name": "stdout",
     "output_type": "stream",
     "text": [
      "파일이 저장되었습니다: C:/Users/sykim/Desktop/url_blob/pdf_file\\1240_SM-R400N_UM_Kor_Rev.1.1_231006.pdf\n"
     ]
    },
    {
     "name": "stderr",
     "output_type": "stream",
     "text": [
      "1241it [1:27:59,  7.51s/it]"
     ]
    },
    {
     "name": "stdout",
     "output_type": "stream",
     "text": [
      "파일이 저장되었습니다: C:/Users/sykim/Desktop/url_blob/pdf_file\\1241_SM-R93X_R94X_R95X_R96X_UM_Android_Kor_Rev.1.1_231006.pdf\n"
     ]
    },
    {
     "name": "stderr",
     "output_type": "stream",
     "text": [
      "1242it [1:28:02,  5.97s/it]"
     ]
    },
    {
     "name": "stdout",
     "output_type": "stream",
     "text": [
      "파일이 저장되었습니다: C:/Users/sykim/Desktop/url_blob/pdf_file\\1242_WEB_S33GC_KR_KOR_230706.0.pdf\n"
     ]
    },
    {
     "name": "stderr",
     "output_type": "stream",
     "text": [
      "1243it [1:28:13,  7.50s/it]"
     ]
    },
    {
     "name": "stdout",
     "output_type": "stream",
     "text": [
      "파일이 저장되었습니다: C:/Users/sykim/Desktop/url_blob/pdf_file\\1243_DA68-04752C_IB_FULL_RR9_8000A_RQ38_34_KO_231011a.pdf\n"
     ]
    },
    {
     "name": "stderr",
     "output_type": "stream",
     "text": [
      "1244it [1:28:29, 10.05s/it]"
     ]
    },
    {
     "name": "stdout",
     "output_type": "stream",
     "text": [
      "파일이 저장되었습니다: C:/Users/sykim/Desktop/url_blob/pdf_file\\1244_DA68-04752M_IB_FULL_RR7000_RQ34_KO_231011a.pdf\n"
     ]
    },
    {
     "name": "stderr",
     "output_type": "stream",
     "text": [
      "1245it [1:28:33,  8.34s/it]"
     ]
    },
    {
     "name": "stdout",
     "output_type": "stream",
     "text": [
      "파일이 저장되었습니다: C:/Users/sykim/Desktop/url_blob/pdf_file\\1245_DA68-04752N_IB_FULL_RR7000_RQ32_KO_231011a.pdf\n"
     ]
    },
    {
     "name": "stderr",
     "output_type": "stream",
     "text": [
      "1246it [1:28:36,  6.70s/it]"
     ]
    },
    {
     "name": "stdout",
     "output_type": "stream",
     "text": [
      "파일이 저장되었습니다: C:/Users/sykim/Desktop/url_blob/pdf_file\\1246_WEB_S33GC_KR_KOR_230706.0.pdf\n"
     ]
    },
    {
     "name": "stderr",
     "output_type": "stream",
     "text": [
      "1247it [1:28:52,  9.56s/it]"
     ]
    },
    {
     "name": "stdout",
     "output_type": "stream",
     "text": [
      "파일이 저장되었습니다: C:/Users/sykim/Desktop/url_blob/pdf_file\\1247_MX_Pro_X6000_series_User_Guide_20231023.pdf\n"
     ]
    },
    {
     "name": "stderr",
     "output_type": "stream",
     "text": [
      "1248it [1:29:09, 11.77s/it]"
     ]
    },
    {
     "name": "stdout",
     "output_type": "stream",
     "text": [
      "파일이 저장되었습니다: C:/Users/sykim/Desktop/url_blob/pdf_file\\1248_MX_Pro_X9000_series_User_Guide_20231023.pdf\n"
     ]
    },
    {
     "name": "stderr",
     "output_type": "stream",
     "text": [
      "1249it [1:29:30, 14.51s/it]"
     ]
    },
    {
     "name": "stdout",
     "output_type": "stream",
     "text": [
      "파일이 저장되었습니다: C:/Users/sykim/Desktop/url_blob/pdf_file\\1249_MX_Pro_K9000_series_User_Guide_20231023.pdf\n"
     ]
    },
    {
     "name": "stderr",
     "output_type": "stream",
     "text": [
      "1250it [1:29:46, 15.04s/it]"
     ]
    },
    {
     "name": "stdout",
     "output_type": "stream",
     "text": [
      "파일이 저장되었습니다: C:/Users/sykim/Desktop/url_blob/pdf_file\\1250_MX_Pro_K9000_series_User_Guide_20231023.pdf\n"
     ]
    },
    {
     "name": "stderr",
     "output_type": "stream",
     "text": [
      "1251it [1:29:55, 13.01s/it]"
     ]
    },
    {
     "name": "stdout",
     "output_type": "stream",
     "text": [
      "파일이 저장되었습니다: C:/Users/sykim/Desktop/url_blob/pdf_file\\1251_HW-C410_KR_FM_00_KOR_230630.0.pdf\n"
     ]
    },
    {
     "name": "stderr",
     "output_type": "stream",
     "text": [
      "1252it [1:30:05, 12.15s/it]"
     ]
    },
    {
     "name": "stdout",
     "output_type": "stream",
     "text": [
      "파일이 저장되었습니다: C:/Users/sykim/Desktop/url_blob/pdf_file\\1252_SM-X21X_UM_TT_Kor_Rev.1.0_230922.pdf\n"
     ]
    },
    {
     "name": "stderr",
     "output_type": "stream",
     "text": [
      "1253it [1:30:06,  8.94s/it]"
     ]
    },
    {
     "name": "stdout",
     "output_type": "stream",
     "text": [
      "파일이 저장되었습니다: C:/Users/sykim/Desktop/url_blob/pdf_file\\1253_Safety_information_kor_Rev.2.4.6_230406.pdf\n"
     ]
    },
    {
     "name": "stderr",
     "output_type": "stream",
     "text": [
      "1254it [1:30:16,  9.28s/it]"
     ]
    },
    {
     "name": "stdout",
     "output_type": "stream",
     "text": [
      "파일이 저장되었습니다: C:/Users/sykim/Desktop/url_blob/pdf_file\\1254_OID63938_IB_AD3050_BEST_SimpleUX_KO_231024.pdf\n"
     ]
    },
    {
     "name": "stderr",
     "output_type": "stream",
     "text": [
      "1255it [1:30:21,  7.91s/it]"
     ]
    },
    {
     "name": "stdout",
     "output_type": "stream",
     "text": [
      "파일이 저장되었습니다: C:/Users/sykim/Desktop/url_blob/pdf_file\\1255_BN81-23924C-00_WEB_G70NC_KR_KOR_221212.0.pdf\n"
     ]
    },
    {
     "name": "stderr",
     "output_type": "stream",
     "text": [
      "1256it [1:30:29,  7.86s/it]"
     ]
    },
    {
     "name": "stdout",
     "output_type": "stream",
     "text": [
      "파일이 저장되었습니다: C:/Users/sykim/Desktop/url_blob/pdf_file\\1256_Win11_Manual_ENG.pdf\n"
     ]
    },
    {
     "name": "stderr",
     "output_type": "stream",
     "text": [
      "1257it [1:30:35,  7.40s/it]"
     ]
    },
    {
     "name": "stdout",
     "output_type": "stream",
     "text": [
      "파일이 저장되었습니다: C:/Users/sykim/Desktop/url_blob/pdf_file\\1257_Win11_Manual_KOR.pdf\n"
     ]
    },
    {
     "name": "stderr",
     "output_type": "stream",
     "text": [
      "1258it [1:30:58, 12.22s/it]"
     ]
    },
    {
     "name": "stdout",
     "output_type": "stream",
     "text": [
      "파일이 저장되었습니다: C:/Users/sykim/Desktop/url_blob/pdf_file\\1258_DA68-04752J_IB_FULL_RQ9500_RQ58_49_48_42_KO_231026.pdf\n"
     ]
    },
    {
     "name": "stderr",
     "output_type": "stream",
     "text": [
      "1259it [1:31:08, 11.44s/it]"
     ]
    },
    {
     "name": "stdout",
     "output_type": "stream",
     "text": [
      "파일이 저장되었습니다: C:/Users/sykim/Desktop/url_blob/pdf_file\\1259_HW-S55B_KR_FM_00_KOR_230630.0.pdf\n"
     ]
    },
    {
     "name": "stderr",
     "output_type": "stream",
     "text": [
      "1260it [1:31:12,  9.14s/it]"
     ]
    },
    {
     "name": "stdout",
     "output_type": "stream",
     "text": [
      "파일이 저장되었습니다: C:/Users/sykim/Desktop/url_blob/pdf_file\\1260_BN81-23593F-01_WEB_G55TQB_KR_KOR_231102.0.pdf\n"
     ]
    },
    {
     "name": "stderr",
     "output_type": "stream",
     "text": [
      "1261it [1:31:14,  7.07s/it]"
     ]
    },
    {
     "name": "stdout",
     "output_type": "stream",
     "text": [
      "파일이 저장되었습니다: C:/Users/sykim/Desktop/url_blob/pdf_file\\1261_BN81-23921E-01_WEB_S39C_KR_KOR_231102.0.pdf\n"
     ]
    },
    {
     "name": "stderr",
     "output_type": "stream",
     "text": [
      "1262it [1:31:19,  6.40s/it]"
     ]
    },
    {
     "name": "stdout",
     "output_type": "stream",
     "text": [
      "파일이 저장되었습니다: C:/Users/sykim/Desktop/url_blob/pdf_file\\1262_BN81-22824D-02_WEB_S80PB_KR_KOR_231102.0.pdf\n"
     ]
    },
    {
     "name": "stderr",
     "output_type": "stream",
     "text": [
      "1263it [1:31:25,  6.18s/it]"
     ]
    },
    {
     "name": "stdout",
     "output_type": "stream",
     "text": [
      "파일이 저장되었습니다: C:/Users/sykim/Desktop/url_blob/pdf_file\\1263_BN81-23921E-01_WEB_S39C_KR_KOR_231102.0.pdf\n"
     ]
    },
    {
     "name": "stderr",
     "output_type": "stream",
     "text": [
      "1264it [1:31:32,  6.62s/it]"
     ]
    },
    {
     "name": "stdout",
     "output_type": "stream",
     "text": [
      "파일이 저장되었습니다: C:/Users/sykim/Desktop/url_blob/pdf_file\\1264_BN81-22824D-02_WEB_S80PB_KR_KOR_231102.0.pdf\n"
     ]
    },
    {
     "name": "stderr",
     "output_type": "stream",
     "text": [
      "1265it [1:31:42,  7.42s/it]"
     ]
    },
    {
     "name": "stdout",
     "output_type": "stream",
     "text": [
      "파일이 저장되었습니다: C:/Users/sykim/Desktop/url_blob/pdf_file\\1265_HW-Q60C_KR_FM_00_KOR_230630.0.pdf\n"
     ]
    },
    {
     "name": "stderr",
     "output_type": "stream",
     "text": [
      "1266it [1:31:48,  7.24s/it]"
     ]
    },
    {
     "name": "stdout",
     "output_type": "stream",
     "text": [
      "파일이 저장되었습니다: C:/Users/sykim/Desktop/url_blob/pdf_file\\1266_Drum_WW7000T_WW10T_231114.pdf\n"
     ]
    },
    {
     "name": "stderr",
     "output_type": "stream",
     "text": [
      "1267it [1:32:03,  9.34s/it]"
     ]
    },
    {
     "name": "stdout",
     "output_type": "stream",
     "text": [
      "파일이 저장되었습니다: C:/Users/sykim/Desktop/url_blob/pdf_file\\1267_Drum_WF6_8000TK_WF16T6000K_WF19T6000K_WF21T600_WF23T8000K_WF24T8000K_WF24T8000K-231114.pdf\n"
     ]
    },
    {
     "name": "stderr",
     "output_type": "stream",
     "text": [
      "1268it [1:32:06,  7.44s/it]"
     ]
    },
    {
     "name": "stdout",
     "output_type": "stream",
     "text": [
      "파일이 저장되었습니다: C:/Users/sykim/Desktop/url_blob/pdf_file\\1268_BN81-24708F-02_WEB_G95NC_G93SC_KR_KOR_231102.0.pdf\n"
     ]
    },
    {
     "name": "stderr",
     "output_type": "stream",
     "text": [
      "1269it [1:32:08,  5.98s/it]"
     ]
    },
    {
     "name": "stdout",
     "output_type": "stream",
     "text": [
      "파일이 저장되었습니다: C:/Users/sykim/Desktop/url_blob/pdf_file\\1269_BN81-24647D-01_WEB_S65UC S65VC S65TC_KR_KOR_231020.0.pdf\n"
     ]
    },
    {
     "name": "stderr",
     "output_type": "stream",
     "text": [
      "1270it [1:32:12,  5.33s/it]"
     ]
    },
    {
     "name": "stdout",
     "output_type": "stream",
     "text": [
      "파일이 저장되었습니다: C:/Users/sykim/Desktop/url_blob/pdf_file\\1270_RZ4000CM_FREEZER_RZ22_UM_KO.pdf\n"
     ]
    },
    {
     "name": "stderr",
     "output_type": "stream",
     "text": [
      "1271it [1:32:20,  6.13s/it]"
     ]
    },
    {
     "name": "stdout",
     "output_type": "stream",
     "text": [
      "파일이 저장되었습니다: C:/Users/sykim/Desktop/url_blob/pdf_file\\1271_SM-X71X_X81X_X91X_UM_UU_Kor_Rev.1.0_231128.pdf\n"
     ]
    },
    {
     "name": "stderr",
     "output_type": "stream",
     "text": [
      "1272it [1:32:26,  6.04s/it]"
     ]
    },
    {
     "name": "stdout",
     "output_type": "stream",
     "text": [
      "파일이 저장되었습니다: C:/Users/sykim/Desktop/url_blob/pdf_file\\1272_SM-X71X_X81X_X91X_UM_UU_Kor_Rev.1.0_231128.pdf\n"
     ]
    },
    {
     "name": "stderr",
     "output_type": "stream",
     "text": [
      "1273it [1:32:32,  6.05s/it]"
     ]
    },
    {
     "name": "stdout",
     "output_type": "stream",
     "text": [
      "파일이 저장되었습니다: C:/Users/sykim/Desktop/url_blob/pdf_file\\1273_SM-F946N_UM_UU_Kor_Rev.1.1_231128.pdf\n"
     ]
    },
    {
     "name": "stderr",
     "output_type": "stream",
     "text": [
      "1274it [1:32:39,  6.32s/it]"
     ]
    },
    {
     "name": "stdout",
     "output_type": "stream",
     "text": [
      "파일이 저장되었습니다: C:/Users/sykim/Desktop/url_blob/pdf_file\\1274_SM-X71X_X81X_X91X_UM_UU_Kor_Rev.1.0_231128.pdf\n"
     ]
    },
    {
     "name": "stderr",
     "output_type": "stream",
     "text": [
      "1275it [1:32:42,  5.42s/it]"
     ]
    },
    {
     "name": "stdout",
     "output_type": "stream",
     "text": [
      "파일이 저장되었습니다: C:/Users/sykim/Desktop/url_blob/pdf_file\\1275_SM-S91X_UM_UU_Kor_Rev.1.1_231205.pdf\n"
     ]
    },
    {
     "name": "stderr",
     "output_type": "stream",
     "text": [
      "1276it [1:32:45,  4.62s/it]"
     ]
    },
    {
     "name": "stdout",
     "output_type": "stream",
     "text": [
      "파일이 저장되었습니다: C:/Users/sykim/Desktop/url_blob/pdf_file\\1276_SM-S91X_UM_UU_Kor_Rev.1.1_231205.pdf\n"
     ]
    },
    {
     "name": "stderr",
     "output_type": "stream",
     "text": [
      "1277it [1:32:49,  4.51s/it]"
     ]
    },
    {
     "name": "stdout",
     "output_type": "stream",
     "text": [
      "파일이 저장되었습니다: C:/Users/sykim/Desktop/url_blob/pdf_file\\1277_SM-X70X_X80X_X90X_T73X_P61X_UM_EU_UU_Eng_Rev.1.0_231101.pdf\n"
     ]
    },
    {
     "name": "stderr",
     "output_type": "stream",
     "text": [
      "1278it [1:32:55,  4.82s/it]"
     ]
    },
    {
     "name": "stdout",
     "output_type": "stream",
     "text": [
      "파일이 저장되었습니다: C:/Users/sykim/Desktop/url_blob/pdf_file\\1278_SM-X71X_X81X_X91X_UM_UU_Kor_Rev.1.0_231128.pdf\n"
     ]
    },
    {
     "name": "stderr",
     "output_type": "stream",
     "text": [
      "1279it [1:33:01,  5.12s/it]"
     ]
    },
    {
     "name": "stdout",
     "output_type": "stream",
     "text": [
      "파일이 저장되었습니다: C:/Users/sykim/Desktop/url_blob/pdf_file\\1279_SM-X70X_X80X_X90X_T73X_P61X_UM_EU_UU_Eng_Rev.1.0_231101.pdf\n"
     ]
    },
    {
     "name": "stderr",
     "output_type": "stream",
     "text": [
      "1280it [1:33:09,  6.11s/it]"
     ]
    },
    {
     "name": "stdout",
     "output_type": "stream",
     "text": [
      "파일이 저장되었습니다: C:/Users/sykim/Desktop/url_blob/pdf_file\\1280_IB_FULL_NQ8300T_RK_NQ50T9539BE_KO_231206.pdf\n"
     ]
    },
    {
     "name": "stderr",
     "output_type": "stream",
     "text": [
      "1281it [1:33:27,  9.71s/it]"
     ]
    },
    {
     "name": "stdout",
     "output_type": "stream",
     "text": [
      "파일이 저장되었습니다: C:/Users/sykim/Desktop/url_blob/pdf_file\\1281_IB_FULL_NV75T9879CE_KO_231206.pdf\n"
     ]
    },
    {
     "name": "stderr",
     "output_type": "stream",
     "text": [
      "1282it [1:33:31,  7.84s/it]"
     ]
    },
    {
     "name": "stdout",
     "output_type": "stream",
     "text": [
      "파일이 저장되었습니다: C:/Users/sykim/Desktop/url_blob/pdf_file\\1282_SM-F731N_UM_UU_Kor_Rev.1.1_231206.pdf\n"
     ]
    },
    {
     "name": "stderr",
     "output_type": "stream",
     "text": [
      "1283it [1:33:33,  6.11s/it]"
     ]
    },
    {
     "name": "stdout",
     "output_type": "stream",
     "text": [
      "파일이 저장되었습니다: C:/Users/sykim/Desktop/url_blob/pdf_file\\1283_BN81-22591D-03_WEB_G97NB_KR_KOR_231207.0.pdf\n"
     ]
    },
    {
     "name": "stderr",
     "output_type": "stream",
     "text": [
      "1284it [1:33:59, 12.11s/it]"
     ]
    },
    {
     "name": "stdout",
     "output_type": "stream",
     "text": [
      "파일이 저장되었습니다: C:/Users/sykim/Desktop/url_blob/pdf_file\\1284_RF9000C_CC_2023_UM_DA68-04671A_KO_UA_230804.pdf\n"
     ]
    },
    {
     "name": "stderr",
     "output_type": "stream",
     "text": [
      "1285it [1:34:01,  9.24s/it]"
     ]
    },
    {
     "name": "stdout",
     "output_type": "stream",
     "text": [
      "파일이 저장되었습니다: C:/Users/sykim/Desktop/url_blob/pdf_file\\1285_O_DJ68-00914A-00_IB_VS20C95_KR_KO_231110.pdf\n"
     ]
    },
    {
     "name": "stderr",
     "output_type": "stream",
     "text": [
      "1286it [1:34:07,  8.32s/it]"
     ]
    },
    {
     "name": "stdout",
     "output_type": "stream",
     "text": [
      "파일이 저장되었습니다: C:/Users/sykim/Desktop/url_blob/pdf_file\\1286_O_DJ68-00724H-19_IB_VC4100K_KO_KO_231205.pdf\n"
     ]
    },
    {
     "name": "stderr",
     "output_type": "stream",
     "text": [
      "1287it [1:34:11,  6.94s/it]"
     ]
    },
    {
     "name": "stdout",
     "output_type": "stream",
     "text": [
      "파일이 저장되었습니다: C:/Users/sykim/Desktop/url_blob/pdf_file\\1287_O-DJ68-00753A-09_IB_VC3100_KO_KO_231107.pdf\n"
     ]
    },
    {
     "name": "stderr",
     "output_type": "stream",
     "text": [
      "1288it [1:34:14,  5.85s/it]"
     ]
    },
    {
     "name": "stdout",
     "output_type": "stream",
     "text": [
      "파일이 저장되었습니다: C:/Users/sykim/Desktop/url_blob/pdf_file\\1288_SM-S711N_UM_UU_Kor_Rev.1.0_231128.pdf\n"
     ]
    },
    {
     "name": "stderr",
     "output_type": "stream",
     "text": [
      "1289it [1:34:20,  5.67s/it]"
     ]
    },
    {
     "name": "stdout",
     "output_type": "stream",
     "text": [
      "파일이 저장되었습니다: C:/Users/sykim/Desktop/url_blob/pdf_file\\1289_IB_MW7500AM_MO22A7797CWR_KO_231130.pdf\n"
     ]
    },
    {
     "name": "stderr",
     "output_type": "stream",
     "text": [
      "1290it [1:34:21,  4.43s/it]"
     ]
    },
    {
     "name": "stdout",
     "output_type": "stream",
     "text": [
      "파일이 저장되었습니다: C:/Users/sykim/Desktop/url_blob/pdf_file\\1290_BN81-25347D-00_WEB_S95UC_KR_KOR_231208.0.pdf\n"
     ]
    },
    {
     "name": "stderr",
     "output_type": "stream",
     "text": [
      "1291it [1:34:23,  3.48s/it]"
     ]
    },
    {
     "name": "stdout",
     "output_type": "stream",
     "text": [
      "파일이 저장되었습니다: C:/Users/sykim/Desktop/url_blob/pdf_file\\1291_96xQGK_Win11_UM_ENG_Rev.1.0_231109.pdf\n"
     ]
    },
    {
     "name": "stderr",
     "output_type": "stream",
     "text": [
      "1292it [1:34:25,  3.10s/it]"
     ]
    },
    {
     "name": "stdout",
     "output_type": "stream",
     "text": [
      "파일이 저장되었습니다: C:/Users/sykim/Desktop/url_blob/pdf_file\\1292_96xQGK_Win11_UM_KOR_Rev.1.0_231109.pdf\n"
     ]
    },
    {
     "name": "stderr",
     "output_type": "stream",
     "text": [
      "1293it [1:34:27,  2.90s/it]"
     ]
    },
    {
     "name": "stdout",
     "output_type": "stream",
     "text": [
      "파일이 저장되었습니다: C:/Users/sykim/Desktop/url_blob/pdf_file\\1293_94xXGK_96xXGK_96xXGL_Win11_UM_ENG_Rev.1.0_231124.pdf\n"
     ]
    },
    {
     "name": "stderr",
     "output_type": "stream",
     "text": [
      "1294it [1:34:30,  3.02s/it]"
     ]
    },
    {
     "name": "stdout",
     "output_type": "stream",
     "text": [
      "파일이 저장되었습니다: C:/Users/sykim/Desktop/url_blob/pdf_file\\1294_94xXGK_96xXGK_96xXGL_Win11_UM_KOR_Rev.1.0_231124.pdf\n"
     ]
    },
    {
     "name": "stderr",
     "output_type": "stream",
     "text": [
      "1295it [1:34:32,  2.47s/it]"
     ]
    },
    {
     "name": "stdout",
     "output_type": "stream",
     "text": [
      "파일이 저장되었습니다: C:/Users/sykim/Desktop/url_blob/pdf_file\\1295_94xXGK_96xXGK_96xXGL_Win11_UM_ENG_Rev.1.0_231124.pdf\n"
     ]
    },
    {
     "name": "stderr",
     "output_type": "stream",
     "text": [
      "1296it [1:34:34,  2.43s/it]"
     ]
    },
    {
     "name": "stdout",
     "output_type": "stream",
     "text": [
      "파일이 저장되었습니다: C:/Users/sykim/Desktop/url_blob/pdf_file\\1296_94xXGK_96xXGK_96xXGL_Win11_UM_KOR_Rev.1.0_231124.pdf\n"
     ]
    },
    {
     "name": "stderr",
     "output_type": "stream",
     "text": [
      "1297it [1:34:39,  3.25s/it]"
     ]
    },
    {
     "name": "stdout",
     "output_type": "stream",
     "text": [
      "파일이 저장되었습니다: C:/Users/sykim/Desktop/url_blob/pdf_file\\1297_SM-X51X_X61X_UM_UU_Kor_Rev.1.0_231214.pdf\n"
     ]
    },
    {
     "name": "stderr",
     "output_type": "stream",
     "text": [
      "1298it [1:34:40,  2.46s/it]"
     ]
    },
    {
     "name": "stdout",
     "output_type": "stream",
     "text": [
      "파일이 저장되었습니다: C:/Users/sykim/Desktop/url_blob/pdf_file\\1298_Safety_information_kor_Rev.2.4.6_230406.pdf\n"
     ]
    },
    {
     "name": "stderr",
     "output_type": "stream",
     "text": [
      "1299it [1:34:45,  3.25s/it]"
     ]
    },
    {
     "name": "stdout",
     "output_type": "stream",
     "text": [
      "파일이 저장되었습니다: C:/Users/sykim/Desktop/url_blob/pdf_file\\1299_SM-X51X_X61X_UM_UU_Kor_Rev.1.0_231214.pdf\n"
     ]
    },
    {
     "name": "stderr",
     "output_type": "stream",
     "text": [
      "1300it [1:34:45,  2.39s/it]"
     ]
    },
    {
     "name": "stdout",
     "output_type": "stream",
     "text": [
      "파일이 저장되었습니다: C:/Users/sykim/Desktop/url_blob/pdf_file\\1300_Safety_information_kor_Rev.2.4.6_230406.pdf\n"
     ]
    },
    {
     "name": "stderr",
     "output_type": "stream",
     "text": [
      "1301it [1:34:48,  2.47s/it]"
     ]
    },
    {
     "name": "stdout",
     "output_type": "stream",
     "text": [
      "파일이 저장되었습니다: C:/Users/sykim/Desktop/url_blob/pdf_file\\1301_94xXGK_96xXGK_96xXGL_Win11_UM_ENG_Rev.1.0_231124.pdf\n"
     ]
    },
    {
     "name": "stderr",
     "output_type": "stream",
     "text": [
      "1302it [1:34:49,  2.14s/it]"
     ]
    },
    {
     "name": "stdout",
     "output_type": "stream",
     "text": [
      "파일이 저장되었습니다: C:/Users/sykim/Desktop/url_blob/pdf_file\\1302_94xXGK_96xXGK_96xXGL_Win11_UM_KOR_Rev.1.0_231124.pdf\n"
     ]
    },
    {
     "name": "stderr",
     "output_type": "stream",
     "text": [
      "1303it [1:34:57,  3.88s/it]"
     ]
    },
    {
     "name": "stdout",
     "output_type": "stream",
     "text": [
      "파일이 저장되었습니다: C:/Users/sykim/Desktop/url_blob/pdf_file\\1303_RP1000C_USER_MANUAL_REV0.0_230302.pdf\n"
     ]
    },
    {
     "name": "stderr",
     "output_type": "stream",
     "text": [
      "1304it [1:34:59,  3.35s/it]"
     ]
    },
    {
     "name": "stdout",
     "output_type": "stream",
     "text": [
      "파일이 저장되었습니다: C:/Users/sykim/Desktop/url_blob/pdf_file\\1304_SM-F721N_F711N_UM_UU_Kor_Rev.1.0_231208.pdf\n"
     ]
    },
    {
     "name": "stderr",
     "output_type": "stream",
     "text": [
      "1305it [1:35:02,  3.29s/it]"
     ]
    },
    {
     "name": "stdout",
     "output_type": "stream",
     "text": [
      "파일이 저장되었습니다: C:/Users/sykim/Desktop/url_blob/pdf_file\\1305_Safety_information_kor_Rev.2.4.6_230406.pdf\n"
     ]
    },
    {
     "name": "stderr",
     "output_type": "stream",
     "text": [
      "1306it [1:35:05,  3.11s/it]"
     ]
    },
    {
     "name": "stdout",
     "output_type": "stream",
     "text": [
      "파일이 저장되었습니다: C:/Users/sykim/Desktop/url_blob/pdf_file\\1306_SM-X51X_X61X_UM_UU_Kor_Rev.1.0_231214.pdf\n"
     ]
    },
    {
     "name": "stderr",
     "output_type": "stream",
     "text": [
      "1307it [1:35:07,  2.87s/it]"
     ]
    },
    {
     "name": "stdout",
     "output_type": "stream",
     "text": [
      "파일이 저장되었습니다: C:/Users/sykim/Desktop/url_blob/pdf_file\\1307_SM-X51X_X61X_UM_UU_Kor_Rev.1.0_231214.pdf\n"
     ]
    },
    {
     "name": "stderr",
     "output_type": "stream",
     "text": [
      "1308it [1:35:08,  2.10s/it]"
     ]
    },
    {
     "name": "stdout",
     "output_type": "stream",
     "text": [
      "파일이 저장되었습니다: C:/Users/sykim/Desktop/url_blob/pdf_file\\1308_Safety_information_kor_Rev.2.4.6_230406.pdf\n"
     ]
    },
    {
     "name": "stderr",
     "output_type": "stream",
     "text": [
      "1309it [1:35:21,  5.40s/it]"
     ]
    },
    {
     "name": "stdout",
     "output_type": "stream",
     "text": [
      "파일이 저장되었습니다: C:/Users/sykim/Desktop/url_blob/pdf_file\\1309_AD0002_IB_DF10A_AIRDRESSER_DF10A9500_KO_230725.pdf\n"
     ]
    },
    {
     "name": "stderr",
     "output_type": "stream",
     "text": [
      "1310it [1:35:24,  4.71s/it]"
     ]
    },
    {
     "name": "stdout",
     "output_type": "stream",
     "text": [
      "파일이 저장되었습니다: C:/Users/sykim/Desktop/url_blob/pdf_file\\1310_SM-A256N_UM_UU_Kor_Rev.1.0_231221.pdf\n"
     ]
    },
    {
     "name": "stderr",
     "output_type": "stream",
     "text": [
      "1311it [1:35:25,  3.60s/it]"
     ]
    },
    {
     "name": "stdout",
     "output_type": "stream",
     "text": [
      "파일이 저장되었습니다: C:/Users/sykim/Desktop/url_blob/pdf_file\\1311_Safety_information_kor_Rev.2.4.6_230406.pdf\n"
     ]
    },
    {
     "name": "stderr",
     "output_type": "stream",
     "text": [
      "1312it [1:35:40,  7.15s/it]"
     ]
    },
    {
     "name": "stdout",
     "output_type": "stream",
     "text": [
      "파일이 저장되었습니다: C:/Users/sykim/Desktop/url_blob/pdf_file\\1312_O-DJ68-00846A-13_IB_VR9500_KO_KO_240104.pdf\n"
     ]
    },
    {
     "name": "stderr",
     "output_type": "stream",
     "text": [
      "1313it [1:35:43,  5.79s/it]"
     ]
    },
    {
     "name": "stdout",
     "output_type": "stream",
     "text": [
      "파일이 저장되었습니다: C:/Users/sykim/Desktop/url_blob/pdf_file\\1313_O-DJ68-00858A-10_IB_VR8500_KO_KO_240104.pdf\n"
     ]
    },
    {
     "name": "stderr",
     "output_type": "stream",
     "text": [
      "1314it [1:35:45,  4.66s/it]"
     ]
    },
    {
     "name": "stdout",
     "output_type": "stream",
     "text": [
      "파일이 저장되었습니다: C:/Users/sykim/Desktop/url_blob/pdf_file\\1314_O_DJ68-00879A-07_IB_VS9500_Renewal_D01_KO_240105.pdf\n"
     ]
    },
    {
     "name": "stderr",
     "output_type": "stream",
     "text": [
      "1315it [1:35:48,  4.15s/it]"
     ]
    },
    {
     "name": "stdout",
     "output_type": "stream",
     "text": [
      "파일이 저장되었습니다: C:/Users/sykim/Desktop/url_blob/pdf_file\\1315_OID51746_IB_DV8700TK_SimpleUX_DV20B9760_KO_240105.pdf\n"
     ]
    },
    {
     "name": "stderr",
     "output_type": "stream",
     "text": [
      "1316it [1:35:52,  4.21s/it]"
     ]
    },
    {
     "name": "stdout",
     "output_type": "stream",
     "text": [
      "파일이 저장되었습니다: C:/Users/sykim/Desktop/url_blob/pdf_file\\1316_OID57640_IB_DV8700TK_SimpleUX_DV20B9750_KO_240105.pdf\n"
     ]
    },
    {
     "name": "stderr",
     "output_type": "stream",
     "text": [
      "1317it [1:35:57,  4.36s/it]"
     ]
    },
    {
     "name": "stdout",
     "output_type": "stream",
     "text": [
      "파일이 저장되었습니다: C:/Users/sykim/Desktop/url_blob/pdf_file\\1317_OID64711_IB_DV9400B_SimpleUX_KO_240105.pdf\n"
     ]
    },
    {
     "name": "stderr",
     "output_type": "stream",
     "text": [
      "1318it [1:36:00,  4.03s/it]"
     ]
    },
    {
     "name": "stdout",
     "output_type": "stream",
     "text": [
      "파일이 저장되었습니다: C:/Users/sykim/Desktop/url_blob/pdf_file\\1318_WM0001_IB_DV8700K_DV19T8745_SimpleUX_KO_240105.pdf\n"
     ]
    },
    {
     "name": "stderr",
     "output_type": "stream",
     "text": [
      "1319it [1:36:03,  3.64s/it]"
     ]
    },
    {
     "name": "stdout",
     "output_type": "stream",
     "text": [
      "파일이 저장되었습니다: C:/Users/sykim/Desktop/url_blob/pdf_file\\1319_WM0013_IB_DV8700TK_DV19A9740_KO_240105.pdf\n"
     ]
    },
    {
     "name": "stderr",
     "output_type": "stream",
     "text": [
      "1320it [1:36:04,  2.95s/it]"
     ]
    },
    {
     "name": "stdout",
     "output_type": "stream",
     "text": [
      "파일이 저장되었습니다: C:/Users/sykim/Desktop/url_blob/pdf_file\\1320_DA68-02832B-15_UM_KO_KO.pdf\n"
     ]
    },
    {
     "name": "stderr",
     "output_type": "stream",
     "text": [
      "1321it [1:36:07,  2.71s/it]"
     ]
    },
    {
     "name": "stdout",
     "output_type": "stream",
     "text": [
      "파일이 저장되었습니다: C:/Users/sykim/Desktop/url_blob/pdf_file\\1321_DA68-03383G-15_UM_RT6000K_THAI_KO.pdf\n"
     ]
    },
    {
     "name": "stderr",
     "output_type": "stream",
     "text": [
      "1322it [1:36:09,  2.52s/it]"
     ]
    },
    {
     "name": "stdout",
     "output_type": "stream",
     "text": [
      "파일이 저장되었습니다: C:/Users/sykim/Desktop/url_blob/pdf_file\\1322_DA68-03570L-03_UM_RT6500M_KO_KO.pdf\n"
     ]
    },
    {
     "name": "stderr",
     "output_type": "stream",
     "text": [
      "1323it [1:36:17,  4.18s/it]"
     ]
    },
    {
     "name": "stdout",
     "output_type": "stream",
     "text": [
      "파일이 저장되었습니다: C:/Users/sykim/Desktop/url_blob/pdf_file\\1323_FULL_NK90B8770A_KO.pdf\n"
     ]
    },
    {
     "name": "stderr",
     "output_type": "stream",
     "text": [
      "1324it [1:36:21,  4.23s/it]"
     ]
    },
    {
     "name": "stdout",
     "output_type": "stream",
     "text": [
      "파일이 저장되었습니다: C:/Users/sykim/Desktop/url_blob/pdf_file\\1324_FULL_NK90B8970A_KO.pdf\n"
     ]
    },
    {
     "name": "stderr",
     "output_type": "stream",
     "text": [
      "1325it [1:36:23,  3.57s/it]"
     ]
    },
    {
     "name": "stdout",
     "output_type": "stream",
     "text": [
      "파일이 저장되었습니다: C:/Users/sykim/Desktop/url_blob/pdf_file\\1325_SM-A245N_UM_UU_Kor_Rev.1.1_240109.pdf\n"
     ]
    },
    {
     "name": "stderr",
     "output_type": "stream",
     "text": [
      "1326it [1:36:28,  4.01s/it]"
     ]
    },
    {
     "name": "stdout",
     "output_type": "stream",
     "text": [
      "파일이 저장되었습니다: C:/Users/sykim/Desktop/url_blob/pdf_file\\1326_OSNATSCA-8.7.0_EM_Oscar-Nike-Kant-SU2e_KOR_ENG-KR_230626.0.pdf\n"
     ]
    },
    {
     "name": "stderr",
     "output_type": "stream",
     "text": [
      "1327it [1:36:31,  3.60s/it]"
     ]
    },
    {
     "name": "stdout",
     "output_type": "stream",
     "text": [
      "파일이 저장되었습니다: C:/Users/sykim/Desktop/url_blob/pdf_file\\1327_NIKATSCT-4.2.0_EM_NIKE_KOR_ENG-KR_230626.0.pdf\n"
     ]
    },
    {
     "name": "stderr",
     "output_type": "stream",
     "text": [
      "1328it [1:36:34,  3.52s/it]"
     ]
    },
    {
     "name": "stdout",
     "output_type": "stream",
     "text": [
      "파일이 저장되었습니다: C:/Users/sykim/Desktop/url_blob/pdf_file\\1328_NIKATSCT-4.2.0_EM_NIKE_KOR_KOR_230626.0.pdf\n"
     ]
    },
    {
     "name": "stderr",
     "output_type": "stream",
     "text": [
      "1329it [1:36:36,  2.99s/it]"
     ]
    },
    {
     "name": "stdout",
     "output_type": "stream",
     "text": [
      "파일이 저장되었습니다: C:/Users/sykim/Desktop/url_blob/pdf_file\\1329_345XPA_5G_Win11_UM_KOR_Rev.1.0_230824.pdf\n"
     ]
    },
    {
     "name": "stderr",
     "output_type": "stream",
     "text": [
      "1330it [1:36:39,  2.99s/it]"
     ]
    },
    {
     "name": "stdout",
     "output_type": "stream",
     "text": [
      "파일이 저장되었습니다: C:/Users/sykim/Desktop/url_blob/pdf_file\\1330_OSNATSCA-8.7.0_EM_Oscar-Nike-Kant-SU2e_KOR_KOR_230626.0.pdf\n"
     ]
    },
    {
     "name": "stderr",
     "output_type": "stream",
     "text": [
      "1331it [1:36:42,  3.11s/it]"
     ]
    },
    {
     "name": "stdout",
     "output_type": "stream",
     "text": [
      "파일이 저장되었습니다: C:/Users/sykim/Desktop/url_blob/pdf_file\\1331_SM-X70X_X80X_X90X_T73X_P61X_UM_EU_UU_Eng_Rev.1.0_231101.pdf\n"
     ]
    },
    {
     "name": "stderr",
     "output_type": "stream",
     "text": [
      "1332it [1:36:47,  3.61s/it]"
     ]
    },
    {
     "name": "stdout",
     "output_type": "stream",
     "text": [
      "파일이 저장되었습니다: C:/Users/sykim/Desktop/url_blob/pdf_file\\1332_DA68-04752B_IB_FULL_RR9_8000A_RZ3_34_KO_240124.pdf\n"
     ]
    },
    {
     "name": "stderr",
     "output_type": "stream",
     "text": [
      "1333it [1:36:50,  3.37s/it]"
     ]
    },
    {
     "name": "stdout",
     "output_type": "stream",
     "text": [
      "파일이 저장되었습니다: C:/Users/sykim/Desktop/url_blob/pdf_file\\1333_WM0006_DV5000T_DV90TA040AE_KO.pdf\n"
     ]
    },
    {
     "name": "stderr",
     "output_type": "stream",
     "text": [
      "1334it [1:36:52,  3.13s/it]"
     ]
    },
    {
     "name": "stdout",
     "output_type": "stream",
     "text": [
      "파일이 저장되었습니다: C:/Users/sykim/Desktop/url_blob/pdf_file\\1334_OID51730_WF6000BK_GOOD_SimpleUX_WF21B6200_KO_240112.pdf\n"
     ]
    },
    {
     "name": "stderr",
     "output_type": "stream",
     "text": [
      "1335it [1:36:56,  3.13s/it]"
     ]
    },
    {
     "name": "stdout",
     "output_type": "stream",
     "text": [
      "파일이 저장되었습니다: C:/Users/sykim/Desktop/url_blob/pdf_file\\1335_OID54108_WF8000BK_BETTER_SimpleUX_WF21B6400_KO_240112.pdf\n"
     ]
    },
    {
     "name": "stderr",
     "output_type": "stream",
     "text": [
      "1336it [1:36:57,  2.75s/it]"
     ]
    },
    {
     "name": "stdout",
     "output_type": "stream",
     "text": [
      "파일이 저장되었습니다: C:/Users/sykim/Desktop/url_blob/pdf_file\\1336_SM-X70X_X80X_X90X_T73X_P61X_UM_UU_Kor_Rev.1.0_231128.pdf\n"
     ]
    },
    {
     "name": "stderr",
     "output_type": "stream",
     "text": [
      "1337it [1:36:59,  2.51s/it]"
     ]
    },
    {
     "name": "stdout",
     "output_type": "stream",
     "text": [
      "파일이 저장되었습니다: C:/Users/sykim/Desktop/url_blob/pdf_file\\1337_OID55554_WF8000BK_BEST_SimpleUX_WF25B9600_KO_240112.pdf\n"
     ]
    },
    {
     "name": "stderr",
     "output_type": "stream",
     "text": [
      "1338it [1:37:07,  4.06s/it]"
     ]
    },
    {
     "name": "stdout",
     "output_type": "stream",
     "text": [
      "파일이 저장되었습니다: C:/Users/sykim/Desktop/url_blob/pdf_file\\1338_OID57643_WF8000BK-MD_GOOD_SimpleUX_WF25B9250_KO_240112.pdf\n"
     ]
    },
    {
     "name": "stderr",
     "output_type": "stream",
     "text": [
      "1339it [1:37:13,  4.55s/it]"
     ]
    },
    {
     "name": "stdout",
     "output_type": "stream",
     "text": [
      "파일이 저장되었습니다: C:/Users/sykim/Desktop/url_blob/pdf_file\\1339_OID63540_IB_WF8000CK-AD_BEST_SimpleUX_WF25CB8895_KO_240112.pdf\n"
     ]
    },
    {
     "name": "stderr",
     "output_type": "stream",
     "text": [
      "1340it [1:37:16,  4.11s/it]"
     ]
    },
    {
     "name": "stdout",
     "output_type": "stream",
     "text": [
      "파일이 저장되었습니다: C:/Users/sykim/Desktop/url_blob/pdf_file\\1340_OID64712_IB_WF8000CK-MD_GOOD_SimpleUX_WF24CB8850_KO_240112.pdf\n"
     ]
    },
    {
     "name": "stderr",
     "output_type": "stream",
     "text": [
      "1341it [1:37:19,  3.87s/it]"
     ]
    },
    {
     "name": "stdout",
     "output_type": "stream",
     "text": [
      "파일이 저장되었습니다: C:/Users/sykim/Desktop/url_blob/pdf_file\\1341_OID64713_IB_WF8000CK-AD_BEST_SimpleUX_WF25CB8695_KO_240112.pdf\n"
     ]
    },
    {
     "name": "stderr",
     "output_type": "stream",
     "text": [
      "1342it [1:37:22,  3.58s/it]"
     ]
    },
    {
     "name": "stdout",
     "output_type": "stream",
     "text": [
      "파일이 저장되었습니다: C:/Users/sykim/Desktop/url_blob/pdf_file\\1342_OID64753_IB_WF8000CK-MD_GOOD_SimpleUX_WF25CB8650_KO_240112.pdf\n"
     ]
    },
    {
     "name": "stderr",
     "output_type": "stream",
     "text": [
      "1343it [1:37:26,  3.59s/it]"
     ]
    },
    {
     "name": "stdout",
     "output_type": "stream",
     "text": [
      "파일이 저장되었습니다: C:/Users/sykim/Desktop/url_blob/pdf_file\\1343_IB_NZ63CB6556X_KO_240129.pdf\n"
     ]
    },
    {
     "name": "stderr",
     "output_type": "stream",
     "text": [
      "1344it [1:37:31,  4.24s/it]"
     ]
    },
    {
     "name": "stdout",
     "output_type": "stream",
     "text": [
      "파일이 저장되었습니다: C:/Users/sykim/Desktop/url_blob/pdf_file\\1344_IB_FULL_NZ63B6502XH_NZ63B6507XH_KO_240129.pdf\n"
     ]
    },
    {
     "name": "stderr",
     "output_type": "stream",
     "text": [
      "1345it [1:37:33,  3.47s/it]"
     ]
    },
    {
     "name": "stdout",
     "output_type": "stream",
     "text": [
      "파일이 저장되었습니다: C:/Users/sykim/Desktop/url_blob/pdf_file\\1345_T1680series__Wi-Fi_Direct_Manual.pdf\n"
     ]
    },
    {
     "name": "stderr",
     "output_type": "stream",
     "text": [
      "1346it [1:37:37,  3.47s/it]"
     ]
    },
    {
     "name": "stdout",
     "output_type": "stream",
     "text": [
      "파일이 저장되었습니다: C:/Users/sykim/Desktop/url_blob/pdf_file\\1346_BN81-21300E-02_WEB_G50A G52A G70A G95NA_KR_KOR_240214.0.pdf\n"
     ]
    },
    {
     "name": "stderr",
     "output_type": "stream",
     "text": [
      "1347it [1:37:39,  3.22s/it]"
     ]
    },
    {
     "name": "stdout",
     "output_type": "stream",
     "text": [
      "파일이 저장되었습니다: C:/Users/sykim/Desktop/url_blob/pdf_file\\1347_BN81-21300E-02_WEB_G50A G52A G70A G95NA_KR_KOR_240214.0.pdf\n"
     ]
    },
    {
     "name": "stderr",
     "output_type": "stream",
     "text": [
      "1348it [1:37:41,  2.68s/it]"
     ]
    },
    {
     "name": "stdout",
     "output_type": "stream",
     "text": [
      "파일이 저장되었습니다: C:/Users/sykim/Desktop/url_blob/pdf_file\\1348_BN81-22836D-06_WEB_G75NB G85NB_KR_KOR_240214.0.pdf\n"
     ]
    },
    {
     "name": "stderr",
     "output_type": "stream",
     "text": [
      "1349it [1:37:45,  3.11s/it]"
     ]
    },
    {
     "name": "stdout",
     "output_type": "stream",
     "text": [
      "파일이 저장되었습니다: C:/Users/sykim/Desktop/url_blob/pdf_file\\1349_WM0014_DV5000T_DV90T5740_SimpleUX_KO_240205.pdf\n"
     ]
    },
    {
     "name": "stderr",
     "output_type": "stream",
     "text": [
      "1350it [1:37:50,  3.71s/it]"
     ]
    },
    {
     "name": "stdout",
     "output_type": "stream",
     "text": [
      "파일이 저장되었습니다: C:/Users/sykim/Desktop/url_blob/pdf_file\\1350_Safety_information_Rev.2.0.0_231013.pdf\n"
     ]
    },
    {
     "name": "stderr",
     "output_type": "stream",
     "text": [
      "1351it [1:37:52,  3.19s/it]"
     ]
    },
    {
     "name": "stdout",
     "output_type": "stream",
     "text": [
      "파일이 저장되었습니다: C:/Users/sykim/Desktop/url_blob/pdf_file\\1351_SM-R86X_R87X_R88X_R89X_R90X_R91X_R92X_UM_Android_D0_Kor_Rev.1.0_230908.pdf\n"
     ]
    },
    {
     "name": "stderr",
     "output_type": "stream",
     "text": [
      "1352it [1:37:54,  2.99s/it]"
     ]
    },
    {
     "name": "stdout",
     "output_type": "stream",
     "text": [
      "파일이 저장되었습니다: C:/Users/sykim/Desktop/url_blob/pdf_file\\1352_WM0012_IB_DV8700TK_DV17T8520B_KO_240221.pdf\n"
     ]
    },
    {
     "name": "stderr",
     "output_type": "stream",
     "text": [
      "1353it [1:37:58,  3.25s/it]"
     ]
    },
    {
     "name": "stdout",
     "output_type": "stream",
     "text": [
      "파일이 저장되었습니다: C:/Users/sykim/Desktop/url_blob/pdf_file\\1353_WM0003_DV8700TK_DV16T8740BV_SimpleUX_KO_240221.pdf\n"
     ]
    },
    {
     "name": "stderr",
     "output_type": "stream",
     "text": [
      "1354it [1:38:00,  2.80s/it]"
     ]
    },
    {
     "name": "stdout",
     "output_type": "stream",
     "text": [
      "파일이 저장되었습니다: C:/Users/sykim/Desktop/url_blob/pdf_file\\1354_SM-R86X_R87X_R88X_R89X_R90X_R91X_R92X_UM_EU_Android_D0_Eng_Rev.1.0_230908.pdf\n"
     ]
    },
    {
     "name": "stderr",
     "output_type": "stream",
     "text": [
      "1355it [1:38:01,  2.22s/it]"
     ]
    },
    {
     "name": "stdout",
     "output_type": "stream",
     "text": [
      "파일이 저장되었습니다: C:/Users/sykim/Desktop/url_blob/pdf_file\\1355_75xXGK_75xXGJ_75xXGL_Win11_UM_ENG_Rev.1.1_240201.pdf\n"
     ]
    },
    {
     "name": "stderr",
     "output_type": "stream",
     "text": [
      "1356it [1:38:02,  2.04s/it]"
     ]
    },
    {
     "name": "stdout",
     "output_type": "stream",
     "text": [
      "파일이 저장되었습니다: C:/Users/sykim/Desktop/url_blob/pdf_file\\1356_75xXGK_75xXGJ_75xXGL_Win11_UM_KOR_Rev.1.1_240201.pdf\n"
     ]
    },
    {
     "name": "stderr",
     "output_type": "stream",
     "text": [
      "1357it [1:38:03,  1.66s/it]"
     ]
    },
    {
     "name": "stdout",
     "output_type": "stream",
     "text": [
      "파일이 저장되었습니다: C:/Users/sykim/Desktop/url_blob/pdf_file\\1357_75xXGK_75xXGJ_75xXGL_Win11_UM_ENG_Rev.1.1_240201.pdf\n"
     ]
    },
    {
     "name": "stderr",
     "output_type": "stream",
     "text": [
      "1358it [1:38:04,  1.36s/it]"
     ]
    },
    {
     "name": "stdout",
     "output_type": "stream",
     "text": [
      "파일이 저장되었습니다: C:/Users/sykim/Desktop/url_blob/pdf_file\\1358_75xXGK_75xXGJ_75xXGL_Win11_UM_KOR_Rev.1.1_240201.pdf\n"
     ]
    },
    {
     "name": "stderr",
     "output_type": "stream",
     "text": [
      "1359it [1:38:08,  2.26s/it]"
     ]
    },
    {
     "name": "stdout",
     "output_type": "stream",
     "text": [
      "파일이 저장되었습니다: C:/Users/sykim/Desktop/url_blob/pdf_file\\1359_IB_FULL_MW4000D_MS23DG4504A_KO.pdf\n"
     ]
    },
    {
     "name": "stderr",
     "output_type": "stream",
     "text": [
      "1360it [1:38:10,  2.23s/it]"
     ]
    },
    {
     "name": "stdout",
     "output_type": "stream",
     "text": [
      "파일이 저장되었습니다: C:/Users/sykim/Desktop/url_blob/pdf_file\\1360_IB_FULL_DW3300AM_DW30CB300_DW30CB305_KO_240227.pdf\n"
     ]
    },
    {
     "name": "stderr",
     "output_type": "stream",
     "text": [
      "1361it [1:38:14,  2.69s/it]"
     ]
    },
    {
     "name": "stdout",
     "output_type": "stream",
     "text": [
      "파일이 저장되었습니다: C:/Users/sykim/Desktop/url_blob/pdf_file\\1361_AH81-17413J-00_WUG_HW-Q930D_Q800D_Q700D_KR_KOR_240305.0.pdf\n"
     ]
    },
    {
     "name": "stderr",
     "output_type": "stream",
     "text": [
      "1362it [1:38:18,  2.93s/it]"
     ]
    },
    {
     "name": "stdout",
     "output_type": "stream",
     "text": [
      "파일이 저장되었습니다: C:/Users/sykim/Desktop/url_blob/pdf_file\\1362_AH81-17413J-00_WUG_HW-Q930D_Q800D_Q700D_KR_KOR_240305.0.pdf\n"
     ]
    },
    {
     "name": "stderr",
     "output_type": "stream",
     "text": [
      "1363it [1:38:21,  2.99s/it]"
     ]
    },
    {
     "name": "stdout",
     "output_type": "stream",
     "text": [
      "파일이 저장되었습니다: C:/Users/sykim/Desktop/url_blob/pdf_file\\1363_AH81-17413J-00_WUG_HW-Q930D_Q800D_Q700D_KR_KOR_240305.0.pdf\n"
     ]
    },
    {
     "name": "stderr",
     "output_type": "stream",
     "text": [
      "1364it [1:38:27,  4.06s/it]"
     ]
    },
    {
     "name": "stdout",
     "output_type": "stream",
     "text": [
      "파일이 저장되었습니다: C:/Users/sykim/Desktop/url_blob/pdf_file\\1364_AH81-17412K-00_WUG_HW-Q990D_KR_KOR_240306.0.pdf\n"
     ]
    },
    {
     "name": "stderr",
     "output_type": "stream",
     "text": [
      "1365it [1:38:32,  4.15s/it]"
     ]
    },
    {
     "name": "stdout",
     "output_type": "stream",
     "text": [
      "파일이 저장되었습니다: C:/Users/sykim/Desktop/url_blob/pdf_file\\1365_RF9000D_2023_UM_DA68-04789A_KO_240304.pdf\n"
     ]
    },
    {
     "name": "stderr",
     "output_type": "stream",
     "text": [
      "1366it [1:38:33,  3.29s/it]"
     ]
    },
    {
     "name": "stdout",
     "output_type": "stream",
     "text": [
      "파일이 저장되었습니다: C:/Users/sykim/Desktop/url_blob/pdf_file\\1366_BN81-25307D-00_WEB_G55C_KR_KOR_240105.0.pdf\n"
     ]
    },
    {
     "name": "stderr",
     "output_type": "stream",
     "text": [
      "1367it [1:38:35,  2.96s/it]"
     ]
    },
    {
     "name": "stdout",
     "output_type": "stream",
     "text": [
      "파일이 저장되었습니다: C:/Users/sykim/Desktop/url_blob/pdf_file\\1367_BN81-25307D-00_WEB_G55C_KR_KOR_240105.0.pdf\n"
     ]
    },
    {
     "name": "stderr",
     "output_type": "stream",
     "text": [
      "1368it [1:38:37,  2.59s/it]"
     ]
    },
    {
     "name": "stdout",
     "output_type": "stream",
     "text": [
      "파일이 저장되었습니다: C:/Users/sykim/Desktop/url_blob/pdf_file\\1368_SM-X70X_X80X_X90X_T73X_P61X_UM_UU_Kor_Rev.1.0_231106.pdf\n"
     ]
    },
    {
     "name": "stderr",
     "output_type": "stream",
     "text": [
      "1369it [1:38:39,  2.52s/it]"
     ]
    },
    {
     "name": "stdout",
     "output_type": "stream",
     "text": [
      "파일이 저장되었습니다: C:/Users/sykim/Desktop/url_blob/pdf_file\\1369_SM-A155N_UM_UU_Kor_Rev.1.0_240219.pdf\n"
     ]
    },
    {
     "name": "stderr",
     "output_type": "stream",
     "text": [
      "1370it [1:38:40,  2.05s/it]"
     ]
    },
    {
     "name": "stdout",
     "output_type": "stream",
     "text": [
      "파일이 저장되었습니다: C:/Users/sykim/Desktop/url_blob/pdf_file\\1370_BN81-25307D-00_WEB_G55C_KR_KOR_240105.0.pdf\n"
     ]
    },
    {
     "name": "stderr",
     "output_type": "stream",
     "text": [
      "1371it [1:38:47,  3.43s/it]"
     ]
    },
    {
     "name": "stdout",
     "output_type": "stream",
     "text": [
      "파일이 저장되었습니다: C:/Users/sykim/Desktop/url_blob/pdf_file\\1371_T1680series_UG_KR_20240305.pdf\n"
     ]
    },
    {
     "name": "stderr",
     "output_type": "stream",
     "text": [
      "1372it [1:38:50,  3.23s/it]"
     ]
    },
    {
     "name": "stdout",
     "output_type": "stream",
     "text": [
      "파일이 저장되었습니다: C:/Users/sykim/Desktop/url_blob/pdf_file\\1372_O_DJ68-00900A-06_IB_VS9700CL_KR_240307.pdf\n"
     ]
    },
    {
     "name": "stderr",
     "output_type": "stream",
     "text": [
      "1373it [1:38:52,  3.04s/it]"
     ]
    },
    {
     "name": "stdout",
     "output_type": "stream",
     "text": [
      "파일이 저장되었습니다: C:/Users/sykim/Desktop/url_blob/pdf_file\\1373_SM-T22X_X20X_UM_UU_Kor_Rev.1.0_231227.pdf\n"
     ]
    },
    {
     "name": "stderr",
     "output_type": "stream",
     "text": [
      "1374it [1:38:57,  3.51s/it]"
     ]
    },
    {
     "name": "stdout",
     "output_type": "stream",
     "text": [
      "파일이 저장되었습니다: C:/Users/sykim/Desktop/url_blob/pdf_file\\1374_SM-X70X_X80X_X90X_T73X_P61X_UM_UU_Kor_Rev.1.0_231128.pdf\n"
     ]
    },
    {
     "name": "stderr",
     "output_type": "stream",
     "text": [
      "1375it [1:39:01,  3.59s/it]"
     ]
    },
    {
     "name": "stdout",
     "output_type": "stream",
     "text": [
      "파일이 저장되었습니다: C:/Users/sykim/Desktop/url_blob/pdf_file\\1375_SM-X70X_X80X_X90X_T73X_P61X_UM_UU_Kor_Rev.1.0_231128.pdf\n"
     ]
    },
    {
     "name": "stderr",
     "output_type": "stream",
     "text": [
      "1376it [1:39:06,  4.02s/it]"
     ]
    },
    {
     "name": "stdout",
     "output_type": "stream",
     "text": [
      "파일이 저장되었습니다: C:/Users/sykim/Desktop/url_blob/pdf_file\\1376_SM-X70X_X80X_X90X_T73X_P61X_UM_UU_Kor_Rev.1.0_231128.pdf\n"
     ]
    },
    {
     "name": "stderr",
     "output_type": "stream",
     "text": [
      "1377it [1:39:08,  3.65s/it]"
     ]
    },
    {
     "name": "stdout",
     "output_type": "stream",
     "text": [
      "파일이 저장되었습니다: C:/Users/sykim/Desktop/url_blob/pdf_file\\1377_SM-X11X_X21X_UM_UU_Kor_Rev.1.0_231219.pdf\n"
     ]
    },
    {
     "name": "stderr",
     "output_type": "stream",
     "text": [
      "1378it [1:39:11,  3.23s/it]"
     ]
    },
    {
     "name": "stdout",
     "output_type": "stream",
     "text": [
      "파일이 저장되었습니다: C:/Users/sykim/Desktop/url_blob/pdf_file\\1378_SM-X70X_X80X_X90X_T73X_P61X_UM_UU_Kor_Rev.1.0_231128.pdf\n"
     ]
    },
    {
     "name": "stderr",
     "output_type": "stream",
     "text": [
      "1379it [1:39:16,  3.81s/it]"
     ]
    },
    {
     "name": "stdout",
     "output_type": "stream",
     "text": [
      "파일이 저장되었습니다: C:/Users/sykim/Desktop/url_blob/pdf_file\\1379_Auto_A2_WA19A8370K_240318.pdf\n"
     ]
    },
    {
     "name": "stderr",
     "output_type": "stream",
     "text": [
      "1380it [1:39:19,  3.56s/it]"
     ]
    },
    {
     "name": "stdout",
     "output_type": "stream",
     "text": [
      "파일이 저장되었습니다: C:/Users/sykim/Desktop/url_blob/pdf_file\\1380_Auto_A2_WA21A8376_WA19A8376_240318.pdf\n"
     ]
    },
    {
     "name": "stderr",
     "output_type": "stream",
     "text": [
      "1381it [1:39:24,  3.98s/it]"
     ]
    },
    {
     "name": "stdout",
     "output_type": "stream",
     "text": [
      "파일이 저장되었습니다: C:/Users/sykim/Desktop/url_blob/pdf_file\\1381_Auto_WA5000T_WA10T5262_WA13T5262_WA14T6262_WA16T6262_WA16T6264_240318.pdf\n"
     ]
    },
    {
     "name": "stderr",
     "output_type": "stream",
     "text": [
      "1382it [1:39:28,  4.07s/it]"
     ]
    },
    {
     "name": "stdout",
     "output_type": "stream",
     "text": [
      "파일이 저장되었습니다: C:/Users/sykim/Desktop/url_blob/pdf_file\\1382_Auto_WA6300A_WA16A6374_WA16A6354-240318.pdf\n"
     ]
    },
    {
     "name": "stderr",
     "output_type": "stream",
     "text": [
      "1383it [1:39:30,  3.50s/it]"
     ]
    },
    {
     "name": "stdout",
     "output_type": "stream",
     "text": [
      "파일이 저장되었습니다: C:/Users/sykim/Desktop/url_blob/pdf_file\\1383_AH81-17453J-X7_WUG_HW-LS60D_KR_KOR_240321.0.pdf\n"
     ]
    },
    {
     "name": "stderr",
     "output_type": "stream",
     "text": [
      "1384it [1:39:36,  4.27s/it]"
     ]
    },
    {
     "name": "stdout",
     "output_type": "stream",
     "text": [
      "파일이 저장되었습니다: C:/Users/sykim/Desktop/url_blob/pdf_file\\1384_SM-X70X_X80X_X90X_T73X_P61X_UM_UU_Kor_Rev.1.0_231106.pdf\n"
     ]
    },
    {
     "name": "stderr",
     "output_type": "stream",
     "text": [
      "1385it [1:39:40,  4.24s/it]"
     ]
    },
    {
     "name": "stdout",
     "output_type": "stream",
     "text": [
      "파일이 저장되었습니다: C:/Users/sykim/Desktop/url_blob/pdf_file\\1385_ACR066-00_IB_AX9600D_Better_Web_KR_KO_240319-D04.pdf\n"
     ]
    },
    {
     "name": "stderr",
     "output_type": "stream",
     "text": [
      "1386it [1:39:45,  4.46s/it]"
     ]
    },
    {
     "name": "stdout",
     "output_type": "stream",
     "text": [
      "파일이 저장되었습니다: C:/Users/sykim/Desktop/url_blob/pdf_file\\1386_ACR063-00_IB_AX9600D_Better_Web_KR_KO_240329-D13.pdf\n"
     ]
    },
    {
     "name": "stderr",
     "output_type": "stream",
     "text": [
      "1387it [1:39:50,  4.45s/it]"
     ]
    },
    {
     "name": "stdout",
     "output_type": "stream",
     "text": [
      "파일이 저장되었습니다: C:/Users/sykim/Desktop/url_blob/pdf_file\\1387_OID64570_IB_DV8000CK_SimpleUX_KO_240308.pdf\n"
     ]
    },
    {
     "name": "stderr",
     "output_type": "stream",
     "text": [
      "1388it [1:39:52,  3.72s/it]"
     ]
    },
    {
     "name": "stdout",
     "output_type": "stream",
     "text": [
      "파일이 저장되었습니다: C:/Users/sykim/Desktop/url_blob/pdf_file\\1388_ACR064-01_IB_ACR_AX9600D_Good_Small_Web_KR_KO_240329-D03.pdf\n"
     ]
    },
    {
     "name": "stderr",
     "output_type": "stream",
     "text": [
      "1389it [1:39:54,  3.29s/it]"
     ]
    },
    {
     "name": "stdout",
     "output_type": "stream",
     "text": [
      "파일이 저장되었습니다: C:/Users/sykim/Desktop/url_blob/pdf_file\\1389_ACR065-01_IB_ACR_AX9600D_Good_Large_Web_KR_KO_240329-D02.pdf\n"
     ]
    },
    {
     "name": "stderr",
     "output_type": "stream",
     "text": [
      "1390it [1:40:00,  3.99s/it]"
     ]
    },
    {
     "name": "stdout",
     "output_type": "stream",
     "text": [
      "파일이 저장되었습니다: C:/Users/sykim/Desktop/url_blob/pdf_file\\1390_DHM006-01_IB_23Y_AY7100C_TSE_KR_KO_240404-D04.pdf\n"
     ]
    },
    {
     "name": "stderr",
     "output_type": "stream",
     "text": [
      "1391it [1:40:02,  3.46s/it]"
     ]
    },
    {
     "name": "stdout",
     "output_type": "stream",
     "text": [
      "파일이 저장되었습니다: C:/Users/sykim/Desktop/url_blob/pdf_file\\1391_AH81-17427J-00_WUG_SBS800D S720D_KR_KOR_240308.0.pdf\n"
     ]
    },
    {
     "name": "stderr",
     "output_type": "stream",
     "text": [
      "1392it [1:40:04,  3.14s/it]"
     ]
    },
    {
     "name": "stdout",
     "output_type": "stream",
     "text": [
      "파일이 저장되었습니다: C:/Users/sykim/Desktop/url_blob/pdf_file\\1392_BN81-25561B-200_EUG_ROPATSCD_KR_ENG-KR_240320.0.pdf\n"
     ]
    },
    {
     "name": "stderr",
     "output_type": "stream",
     "text": [
      "1393it [1:40:11,  4.16s/it]"
     ]
    },
    {
     "name": "stdout",
     "output_type": "stream",
     "text": [
      "파일이 저장되었습니다: C:/Users/sykim/Desktop/url_blob/pdf_file\\1393_AH81-17427J-00_WUG_SBS800D_S720D_KR_KOR_240308.0.pdf\n"
     ]
    },
    {
     "name": "stderr",
     "output_type": "stream",
     "text": [
      "1394it [1:40:17,  4.86s/it]"
     ]
    },
    {
     "name": "stdout",
     "output_type": "stream",
     "text": [
      "파일이 저장되었습니다: C:/Users/sykim/Desktop/url_blob/pdf_file\\1394_HW-B750D_KR_WUG_00_240130.0.pdf\n"
     ]
    },
    {
     "name": "stderr",
     "output_type": "stream",
     "text": [
      "1395it [1:40:24,  5.25s/it]"
     ]
    },
    {
     "name": "stdout",
     "output_type": "stream",
     "text": [
      "파일이 저장되었습니다: C:/Users/sykim/Desktop/url_blob/pdf_file\\1395_WA30DG2120.pdf\n"
     ]
    },
    {
     "name": "stderr",
     "output_type": "stream",
     "text": [
      "1396it [1:40:26,  4.48s/it]"
     ]
    },
    {
     "name": "stdout",
     "output_type": "stream",
     "text": [
      "파일이 저장되었습니다: C:/Users/sykim/Desktop/url_blob/pdf_file\\1396_BN81-25824D-00_WUG_G55C G50D_KR_KOR_240405.0.pdf\n"
     ]
    },
    {
     "name": "stderr",
     "output_type": "stream",
     "text": [
      "1397it [1:40:28,  3.66s/it]"
     ]
    },
    {
     "name": "stdout",
     "output_type": "stream",
     "text": [
      "파일이 저장되었습니다: C:/Users/sykim/Desktop/url_blob/pdf_file\\1397_BN81-25824D-00_WUG_G55C G50D_KR_KOR_240405.0.pdf\n"
     ]
    },
    {
     "name": "stderr",
     "output_type": "stream",
     "text": [
      "1398it [1:40:45,  7.57s/it]"
     ]
    },
    {
     "name": "stdout",
     "output_type": "stream",
     "text": [
      "파일이 저장되었습니다: C:/Users/sykim/Desktop/url_blob/pdf_file\\1398_HW-B650D_KR_WUG_00_KOR_240207.0.pdf\n"
     ]
    },
    {
     "name": "stderr",
     "output_type": "stream",
     "text": [
      "1399it [1:40:46,  5.74s/it]"
     ]
    },
    {
     "name": "stdout",
     "output_type": "stream",
     "text": [
      "파일이 저장되었습니다: C:/Users/sykim/Desktop/url_blob/pdf_file\\1399_97xAGA_Win11_UM_KOR_Rev.1.2_240320.pdf\n"
     ]
    },
    {
     "name": "stderr",
     "output_type": "stream",
     "text": [
      "1400it [1:41:05,  9.60s/it]"
     ]
    },
    {
     "name": "stdout",
     "output_type": "stream",
     "text": [
      "파일이 저장되었습니다: C:/Users/sykim/Desktop/url_blob/pdf_file\\1400_IB_FULL_NZ8500BM_NZ63D650AXH_KO_240507.pdf\n"
     ]
    },
    {
     "name": "stderr",
     "output_type": "stream",
     "text": [
      "1401it [1:41:08,  7.82s/it]"
     ]
    },
    {
     "name": "stdout",
     "output_type": "stream",
     "text": [
      "파일이 저장되었습니다: C:/Users/sykim/Desktop/url_blob/pdf_file\\1401_AH81-17454U-01_SUG_HW-LS60D_KR_KOR_240502.0.pdf\n"
     ]
    },
    {
     "name": "stderr",
     "output_type": "stream",
     "text": [
      "1402it [1:41:22,  9.51s/it]"
     ]
    },
    {
     "name": "stdout",
     "output_type": "stream",
     "text": [
      "파일이 저장되었습니다: C:/Users/sykim/Desktop/url_blob/pdf_file\\1402_500xGA_Win11_UM_KOR_Rev.1.2_240509.pdf\n"
     ]
    },
    {
     "name": "stderr",
     "output_type": "stream",
     "text": [
      "1403it [1:41:30,  9.06s/it]"
     ]
    },
    {
     "name": "stdout",
     "output_type": "stream",
     "text": [
      "파일이 저장되었습니다: C:/Users/sykim/Desktop/url_blob/pdf_file\\1403_IB_FULL_NZ9000D_4500D_NZ63D_5_C_NZ63D_4_C_KO_240326.pdf\n"
     ]
    },
    {
     "name": "stderr",
     "output_type": "stream",
     "text": [
      "1404it [1:41:35,  7.75s/it]"
     ]
    },
    {
     "name": "stdout",
     "output_type": "stream",
     "text": [
      "파일이 저장되었습니다: C:/Users/sykim/Desktop/url_blob/pdf_file\\1404_Samsung_SL-T167x_T167xW_series_240509.pdf\n"
     ]
    },
    {
     "name": "stderr",
     "output_type": "stream",
     "text": [
      "1405it [1:41:40,  7.08s/it]"
     ]
    },
    {
     "name": "stdout",
     "output_type": "stream",
     "text": [
      "파일이 저장되었습니다: C:/Users/sykim/Desktop/url_blob/pdf_file\\1405_IB_FULL_VR9700DL_VR9600_KO_240514.pdf\n"
     ]
    },
    {
     "name": "stderr",
     "output_type": "stream",
     "text": [
      "1406it [1:41:42,  5.58s/it]"
     ]
    },
    {
     "name": "stdout",
     "output_type": "stream",
     "text": [
      "파일이 저장되었습니다: C:/Users/sykim/Desktop/url_blob/pdf_file\\1406_BN81-24055B-480_EM_OSPATSCC_KR_ENG-KR_240416.0.pdf\n"
     ]
    },
    {
     "name": "stderr",
     "output_type": "stream",
     "text": [
      "1407it [1:41:44,  4.47s/it]"
     ]
    },
    {
     "name": "stdout",
     "output_type": "stream",
     "text": [
      "파일이 저장되었습니다: C:/Users/sykim/Desktop/url_blob/pdf_file\\1407_BN81-24055B-480_EM_OSPATSCC_KR_KOR_240416.0.pdf\n"
     ]
    },
    {
     "name": "stderr",
     "output_type": "stream",
     "text": [
      "1408it [1:41:46,  3.65s/it]"
     ]
    },
    {
     "name": "stdout",
     "output_type": "stream",
     "text": [
      "파일이 저장되었습니다: C:/Users/sykim/Desktop/url_blob/pdf_file\\1408_BN81-22795B-650_EM_OSNATSCB_KR_ENG-KR_240416.0.pdf\n"
     ]
    },
    {
     "name": "stderr",
     "output_type": "stream",
     "text": [
      "1409it [1:41:50,  3.96s/it]"
     ]
    },
    {
     "name": "stdout",
     "output_type": "stream",
     "text": [
      "파일이 저장되었습니다: C:/Users/sykim/Desktop/url_blob/pdf_file\\1409_BN81-22795B-650_EM_OSNATSCB_KR_KOR_240416.0.pdf\n"
     ]
    },
    {
     "name": "stderr",
     "output_type": "stream",
     "text": [
      "1410it [1:41:53,  3.39s/it]"
     ]
    },
    {
     "name": "stdout",
     "output_type": "stream",
     "text": [
      "파일이 저장되었습니다: C:/Users/sykim/Desktop/url_blob/pdf_file\\1410_BP81-00686B-180_EM_PJFATSCC_KR_ENG-KR_231207.0.pdf\n"
     ]
    },
    {
     "name": "stderr",
     "output_type": "stream",
     "text": [
      "1411it [1:41:54,  2.95s/it]"
     ]
    },
    {
     "name": "stdout",
     "output_type": "stream",
     "text": [
      "파일이 저장되었습니다: C:/Users/sykim/Desktop/url_blob/pdf_file\\1411_BP81-00686B-180_EM_PJFATSCC_KR_KOR_231207.0.pdf\n"
     ]
    },
    {
     "name": "stderr",
     "output_type": "stream",
     "text": [
      "1412it [1:41:57,  2.80s/it]"
     ]
    },
    {
     "name": "stdout",
     "output_type": "stream",
     "text": [
      "파일이 저장되었습니다: C:/Users/sykim/Desktop/url_blob/pdf_file\\1412_BN81-25561B-204_EUG_ROPATSCD_KR_KOR_240412.0.pdf\n"
     ]
    },
    {
     "name": "stderr",
     "output_type": "stream",
     "text": [
      "1413it [1:42:01,  3.15s/it]"
     ]
    },
    {
     "name": "stdout",
     "output_type": "stream",
     "text": [
      "파일이 저장되었습니다: C:/Users/sykim/Desktop/url_blob/pdf_file\\1413_BN81-25561B-204_EUG_ROPATSCD_KR_ENG-KR_240412.0.pdf\n"
     ]
    },
    {
     "name": "stderr",
     "output_type": "stream",
     "text": [
      "1414it [1:42:05,  3.51s/it]"
     ]
    },
    {
     "name": "stdout",
     "output_type": "stream",
     "text": [
      "파일이 저장되었습니다: C:/Users/sykim/Desktop/url_blob/pdf_file\\1414_BN81-25561B-204_EUG_ROPATSCD_KR_ENG-KR_240412.0.pdf\n"
     ]
    },
    {
     "name": "stderr",
     "output_type": "stream",
     "text": [
      "1415it [1:42:08,  3.32s/it]"
     ]
    },
    {
     "name": "stdout",
     "output_type": "stream",
     "text": [
      "파일이 저장되었습니다: C:/Users/sykim/Desktop/url_blob/pdf_file\\1415_BN81-25561B-204_EUG_ROPATSCD_KR_ENG-KR_240412.0.pdf\n"
     ]
    },
    {
     "name": "stderr",
     "output_type": "stream",
     "text": [
      "1416it [1:42:10,  3.00s/it]"
     ]
    },
    {
     "name": "stdout",
     "output_type": "stream",
     "text": [
      "파일이 저장되었습니다: C:/Users/sykim/Desktop/url_blob/pdf_file\\1416_BN81-25561B-204_EUG_ROPATSCD_KR_KOR_240412.0.pdf\n"
     ]
    },
    {
     "name": "stderr",
     "output_type": "stream",
     "text": [
      "1417it [1:42:14,  3.15s/it]"
     ]
    },
    {
     "name": "stdout",
     "output_type": "stream",
     "text": [
      "파일이 저장되었습니다: C:/Users/sykim/Desktop/url_blob/pdf_file\\1417_BN81-25561B-204_EUG_ROPATSCD_KR_ENG-KR_240412.0.pdf\n"
     ]
    },
    {
     "name": "stderr",
     "output_type": "stream",
     "text": [
      "1418it [1:42:18,  3.48s/it]"
     ]
    },
    {
     "name": "stdout",
     "output_type": "stream",
     "text": [
      "파일이 저장되었습니다: C:/Users/sykim/Desktop/url_blob/pdf_file\\1418_BN81-25561B-204_EUG_ROPATSCD_KR_KOR_240412.0.pdf\n"
     ]
    },
    {
     "name": "stderr",
     "output_type": "stream",
     "text": [
      "1419it [1:42:20,  3.02s/it]"
     ]
    },
    {
     "name": "stdout",
     "output_type": "stream",
     "text": [
      "파일이 저장되었습니다: C:/Users/sykim/Desktop/url_blob/pdf_file\\1419_BN81-25561B-204_EUG_ROPATSCD_KR_KOR_240412.0.pdf\n"
     ]
    },
    {
     "name": "stderr",
     "output_type": "stream",
     "text": [
      "1420it [1:42:23,  2.94s/it]"
     ]
    },
    {
     "name": "stdout",
     "output_type": "stream",
     "text": [
      "파일이 저장되었습니다: C:/Users/sykim/Desktop/url_blob/pdf_file\\1420_BN81-25561B-204_EUG_ROPATSCD_KR_ENG-KR_240412.0.pdf\n"
     ]
    },
    {
     "name": "stderr",
     "output_type": "stream",
     "text": [
      "1421it [1:42:24,  2.34s/it]"
     ]
    },
    {
     "name": "stdout",
     "output_type": "stream",
     "text": [
      "파일이 저장되었습니다: C:/Users/sykim/Desktop/url_blob/pdf_file\\1421_BN81-25561B-204_EUG_ROPATSCD_KR_ENG-KR_240412.0.pdf\n"
     ]
    },
    {
     "name": "stderr",
     "output_type": "stream",
     "text": [
      "1422it [1:42:26,  2.29s/it]"
     ]
    },
    {
     "name": "stdout",
     "output_type": "stream",
     "text": [
      "파일이 저장되었습니다: C:/Users/sykim/Desktop/url_blob/pdf_file\\1422_BN81-25561B-204_EUG_ROPATSCD_KR_KOR_240412.0.pdf\n"
     ]
    },
    {
     "name": "stderr",
     "output_type": "stream",
     "text": [
      "1423it [1:42:27,  2.07s/it]"
     ]
    },
    {
     "name": "stdout",
     "output_type": "stream",
     "text": [
      "파일이 저장되었습니다: C:/Users/sykim/Desktop/url_blob/pdf_file\\1423_BN81-25561B-204_EUG_ROPATSCD_KR_ENG-KR_240412.0.pdf\n"
     ]
    },
    {
     "name": "stderr",
     "output_type": "stream",
     "text": [
      "1424it [1:42:29,  2.05s/it]"
     ]
    },
    {
     "name": "stdout",
     "output_type": "stream",
     "text": [
      "파일이 저장되었습니다: C:/Users/sykim/Desktop/url_blob/pdf_file\\1424_BN81-25561B-204_EUG_ROPATSCD_KR_KOR_240412.0.pdf\n"
     ]
    },
    {
     "name": "stderr",
     "output_type": "stream",
     "text": [
      "1425it [1:42:30,  1.67s/it]"
     ]
    },
    {
     "name": "stdout",
     "output_type": "stream",
     "text": [
      "파일이 저장되었습니다: C:/Users/sykim/Desktop/url_blob/pdf_file\\1425_BN81-25561B-204_EUG_ROPATSCD_KR_KOR_240412.0.pdf\n"
     ]
    },
    {
     "name": "stderr",
     "output_type": "stream",
     "text": [
      "1426it [1:42:32,  1.59s/it]"
     ]
    },
    {
     "name": "stdout",
     "output_type": "stream",
     "text": [
      "파일이 저장되었습니다: C:/Users/sykim/Desktop/url_blob/pdf_file\\1426_BN81-25561B-204_EUG_ROPATSCD_KR_KOR_240412.0.pdf\n"
     ]
    },
    {
     "name": "stderr",
     "output_type": "stream",
     "text": [
      "1427it [1:42:33,  1.59s/it]"
     ]
    },
    {
     "name": "stdout",
     "output_type": "stream",
     "text": [
      "파일이 저장되었습니다: C:/Users/sykim/Desktop/url_blob/pdf_file\\1427_BN81-25561B-204_EUG_ROPATSCD_KR_KOR_240412.0.pdf\n"
     ]
    },
    {
     "name": "stderr",
     "output_type": "stream",
     "text": [
      "1428it [1:42:37,  2.35s/it]"
     ]
    },
    {
     "name": "stdout",
     "output_type": "stream",
     "text": [
      "파일이 저장되었습니다: C:/Users/sykim/Desktop/url_blob/pdf_file\\1428_BN81-25561B-204_EUG_ROPATSCD_KR_ENG-KR_240412.0.pdf\n"
     ]
    },
    {
     "name": "stderr",
     "output_type": "stream",
     "text": [
      "1429it [1:42:40,  2.51s/it]"
     ]
    },
    {
     "name": "stdout",
     "output_type": "stream",
     "text": [
      "파일이 저장되었습니다: C:/Users/sykim/Desktop/url_blob/pdf_file\\1429_BN81-25561B-204_EUG_ROPATSCD_KR_KOR_240412.0.pdf\n"
     ]
    },
    {
     "name": "stderr",
     "output_type": "stream",
     "text": [
      "1430it [1:42:42,  2.13s/it]"
     ]
    },
    {
     "name": "stdout",
     "output_type": "stream",
     "text": [
      "파일이 저장되었습니다: C:/Users/sykim/Desktop/url_blob/pdf_file\\1430_BN81-25561B-204_EUG_ROPATSCD_KR_ENG-KR_240412.0.pdf\n"
     ]
    },
    {
     "name": "stderr",
     "output_type": "stream",
     "text": [
      "1431it [1:42:43,  2.08s/it]"
     ]
    },
    {
     "name": "stdout",
     "output_type": "stream",
     "text": [
      "파일이 저장되었습니다: C:/Users/sykim/Desktop/url_blob/pdf_file\\1431_BN81-25561B-204_EUG_ROPATSCD_KR_KOR_240412.0.pdf\n"
     ]
    },
    {
     "name": "stderr",
     "output_type": "stream",
     "text": [
      "1432it [1:42:45,  1.93s/it]"
     ]
    },
    {
     "name": "stdout",
     "output_type": "stream",
     "text": [
      "파일이 저장되었습니다: C:/Users/sykim/Desktop/url_blob/pdf_file\\1432_BN81-25561B-204_EUG_ROPATSCD_KR_KOR_240412.0.pdf\n"
     ]
    },
    {
     "name": "stderr",
     "output_type": "stream",
     "text": [
      "1433it [1:42:46,  1.53s/it]"
     ]
    },
    {
     "name": "stdout",
     "output_type": "stream",
     "text": [
      "파일이 저장되었습니다: C:/Users/sykim/Desktop/url_blob/pdf_file\\1433_BN81-25561B-204_EUG_ROPATSCD_KR_ENG-KR_240412.0.pdf\n"
     ]
    },
    {
     "name": "stderr",
     "output_type": "stream",
     "text": [
      "1434it [1:42:47,  1.43s/it]"
     ]
    },
    {
     "name": "stdout",
     "output_type": "stream",
     "text": [
      "파일이 저장되었습니다: C:/Users/sykim/Desktop/url_blob/pdf_file\\1434_BN81-25561B-204_EUG_ROPATSCD_KR_ENG-KR_240412.0.pdf\n"
     ]
    },
    {
     "name": "stderr",
     "output_type": "stream",
     "text": [
      "1435it [1:42:49,  1.74s/it]"
     ]
    },
    {
     "name": "stdout",
     "output_type": "stream",
     "text": [
      "파일이 저장되었습니다: C:/Users/sykim/Desktop/url_blob/pdf_file\\1435_BN81-25561B-204_EUG_ROPATSCD_KR_ENG-KR_240412.0.pdf\n"
     ]
    },
    {
     "name": "stderr",
     "output_type": "stream",
     "text": [
      "1436it [1:42:51,  1.76s/it]"
     ]
    },
    {
     "name": "stdout",
     "output_type": "stream",
     "text": [
      "파일이 저장되었습니다: C:/Users/sykim/Desktop/url_blob/pdf_file\\1436_BN81-25561B-204_EUG_ROPATSCD_KR_ENG-KR_240412.0.pdf\n"
     ]
    },
    {
     "name": "stderr",
     "output_type": "stream",
     "text": [
      "1437it [1:42:56,  2.84s/it]"
     ]
    },
    {
     "name": "stdout",
     "output_type": "stream",
     "text": [
      "파일이 저장되었습니다: C:/Users/sykim/Desktop/url_blob/pdf_file\\1437_BN81-25561B-204_EUG_ROPATSCD_KR_ENG-KR_240412.0.pdf\n"
     ]
    },
    {
     "name": "stderr",
     "output_type": "stream",
     "text": [
      "1438it [1:42:58,  2.47s/it]"
     ]
    },
    {
     "name": "stdout",
     "output_type": "stream",
     "text": [
      "파일이 저장되었습니다: C:/Users/sykim/Desktop/url_blob/pdf_file\\1438_BN81-25561B-204_EUG_ROPATSCD_KR_KOR_240412.0.pdf\n"
     ]
    },
    {
     "name": "stderr",
     "output_type": "stream",
     "text": [
      "1439it [1:43:00,  2.18s/it]"
     ]
    },
    {
     "name": "stdout",
     "output_type": "stream",
     "text": [
      "파일이 저장되었습니다: C:/Users/sykim/Desktop/url_blob/pdf_file\\1439_BN81-25561B-204_EUG_ROPATSCD_KR_KOR_240412.0.pdf\n"
     ]
    },
    {
     "name": "stderr",
     "output_type": "stream",
     "text": [
      "1440it [1:43:04,  2.73s/it]"
     ]
    },
    {
     "name": "stdout",
     "output_type": "stream",
     "text": [
      "파일이 저장되었습니다: C:/Users/sykim/Desktop/url_blob/pdf_file\\1440_BN81-25561B-204_EUG_ROPATSCD_KR_ENG-KR_240412.0.pdf\n"
     ]
    },
    {
     "name": "stderr",
     "output_type": "stream",
     "text": [
      "1441it [1:43:05,  2.20s/it]"
     ]
    },
    {
     "name": "stdout",
     "output_type": "stream",
     "text": [
      "파일이 저장되었습니다: C:/Users/sykim/Desktop/url_blob/pdf_file\\1441_BN81-25561B-204_EUG_ROPATSCD_KR_ENG-KR_240412.0.pdf\n"
     ]
    },
    {
     "name": "stderr",
     "output_type": "stream",
     "text": [
      "1442it [1:43:08,  2.73s/it]"
     ]
    },
    {
     "name": "stdout",
     "output_type": "stream",
     "text": [
      "파일이 저장되었습니다: C:/Users/sykim/Desktop/url_blob/pdf_file\\1442_BN81-25561B-204_EUG_ROPATSCD_KR_KOR_240412.0.pdf\n"
     ]
    },
    {
     "name": "stderr",
     "output_type": "stream",
     "text": [
      "1443it [1:43:10,  2.46s/it]"
     ]
    },
    {
     "name": "stdout",
     "output_type": "stream",
     "text": [
      "파일이 저장되었습니다: C:/Users/sykim/Desktop/url_blob/pdf_file\\1443_BN81-25561B-204_EUG_ROPATSCD_KR_ENG-KR_240412.0.pdf\n"
     ]
    },
    {
     "name": "stderr",
     "output_type": "stream",
     "text": [
      "1444it [1:43:13,  2.45s/it]"
     ]
    },
    {
     "name": "stdout",
     "output_type": "stream",
     "text": [
      "파일이 저장되었습니다: C:/Users/sykim/Desktop/url_blob/pdf_file\\1444_BN81-25561B-204_EUG_ROPATSCD_KR_KOR_240412.0.pdf\n"
     ]
    },
    {
     "name": "stderr",
     "output_type": "stream",
     "text": [
      "1445it [1:43:15,  2.46s/it]"
     ]
    },
    {
     "name": "stdout",
     "output_type": "stream",
     "text": [
      "파일이 저장되었습니다: C:/Users/sykim/Desktop/url_blob/pdf_file\\1445_BN81-25561B-204_EUG_ROPATSCD_KR_ENG-KR_240412.0.pdf\n"
     ]
    },
    {
     "name": "stderr",
     "output_type": "stream",
     "text": [
      "1446it [1:43:17,  2.12s/it]"
     ]
    },
    {
     "name": "stdout",
     "output_type": "stream",
     "text": [
      "파일이 저장되었습니다: C:/Users/sykim/Desktop/url_blob/pdf_file\\1446_BN81-25561B-204_EUG_ROPATSCD_KR_KOR_240412.0.pdf\n"
     ]
    },
    {
     "name": "stderr",
     "output_type": "stream",
     "text": [
      "1447it [1:43:18,  2.06s/it]"
     ]
    },
    {
     "name": "stdout",
     "output_type": "stream",
     "text": [
      "파일이 저장되었습니다: C:/Users/sykim/Desktop/url_blob/pdf_file\\1447_BN81-25561B-204_EUG_ROPATSCD_KR_KOR_240412.0.pdf\n"
     ]
    },
    {
     "name": "stderr",
     "output_type": "stream",
     "text": [
      "1448it [1:43:23,  2.71s/it]"
     ]
    },
    {
     "name": "stdout",
     "output_type": "stream",
     "text": [
      "파일이 저장되었습니다: C:/Users/sykim/Desktop/url_blob/pdf_file\\1448_BN81-25561B-204_EUG_ROPATSCD_KR_KOR_240412.0.pdf\n"
     ]
    },
    {
     "name": "stderr",
     "output_type": "stream",
     "text": [
      "1449it [1:43:27,  3.32s/it]"
     ]
    },
    {
     "name": "stdout",
     "output_type": "stream",
     "text": [
      "파일이 저장되었습니다: C:/Users/sykim/Desktop/url_blob/pdf_file\\1449_BN81-25561B-204_EUG_ROPATSCD_KR_KOR_240412.0.pdf\n"
     ]
    },
    {
     "name": "stderr",
     "output_type": "stream",
     "text": [
      "1450it [1:43:32,  3.70s/it]"
     ]
    },
    {
     "name": "stdout",
     "output_type": "stream",
     "text": [
      "파일이 저장되었습니다: C:/Users/sykim/Desktop/url_blob/pdf_file\\1450_BN81-25561B-204_EUG_ROPATSCD_KR_KOR_240412.0.pdf\n"
     ]
    },
    {
     "name": "stderr",
     "output_type": "stream",
     "text": [
      "1451it [1:43:35,  3.53s/it]"
     ]
    },
    {
     "name": "stdout",
     "output_type": "stream",
     "text": [
      "파일이 저장되었습니다: C:/Users/sykim/Desktop/url_blob/pdf_file\\1451_BN81-25561B-204_EUG_ROPATSCD_KR_KOR_240412.0.pdf\n"
     ]
    },
    {
     "name": "stderr",
     "output_type": "stream",
     "text": [
      "1452it [1:43:38,  3.22s/it]"
     ]
    },
    {
     "name": "stdout",
     "output_type": "stream",
     "text": [
      "파일이 저장되었습니다: C:/Users/sykim/Desktop/url_blob/pdf_file\\1452_BN81-25561B-204_EUG_ROPATSCD_KR_KOR_240412.0.pdf\n"
     ]
    },
    {
     "name": "stderr",
     "output_type": "stream",
     "text": [
      "1453it [1:43:39,  2.65s/it]"
     ]
    },
    {
     "name": "stdout",
     "output_type": "stream",
     "text": [
      "파일이 저장되었습니다: C:/Users/sykim/Desktop/url_blob/pdf_file\\1453_BN81-25561B-204_EUG_ROPATSCD_KR_KOR_240412.0.pdf\n"
     ]
    },
    {
     "name": "stderr",
     "output_type": "stream",
     "text": [
      "1454it [1:43:42,  2.76s/it]"
     ]
    },
    {
     "name": "stdout",
     "output_type": "stream",
     "text": [
      "파일이 저장되었습니다: C:/Users/sykim/Desktop/url_blob/pdf_file\\1454_BN81-25561B-204_EUG_ROPATSCD_KR_ENG-KR_240412.0.pdf\n"
     ]
    },
    {
     "name": "stderr",
     "output_type": "stream",
     "text": [
      "1455it [1:43:44,  2.59s/it]"
     ]
    },
    {
     "name": "stdout",
     "output_type": "stream",
     "text": [
      "파일이 저장되었습니다: C:/Users/sykim/Desktop/url_blob/pdf_file\\1455_BN81-25561B-204_EUG_ROPATSCD_KR_ENG-KR_240412.0.pdf\n"
     ]
    },
    {
     "name": "stderr",
     "output_type": "stream",
     "text": [
      "1456it [1:43:46,  2.34s/it]"
     ]
    },
    {
     "name": "stdout",
     "output_type": "stream",
     "text": [
      "파일이 저장되었습니다: C:/Users/sykim/Desktop/url_blob/pdf_file\\1456_BN81-25561B-204_EUG_ROPATSCD_KR_KOR_240412.0.pdf\n"
     ]
    },
    {
     "name": "stderr",
     "output_type": "stream",
     "text": [
      "1457it [1:43:50,  2.82s/it]"
     ]
    },
    {
     "name": "stdout",
     "output_type": "stream",
     "text": [
      "파일이 저장되었습니다: C:/Users/sykim/Desktop/url_blob/pdf_file\\1457_BN81-25561B-204_EUG_ROPATSCD_KR_ENG-KR_240412.0.pdf\n"
     ]
    },
    {
     "name": "stderr",
     "output_type": "stream",
     "text": [
      "1458it [1:43:53,  2.77s/it]"
     ]
    },
    {
     "name": "stdout",
     "output_type": "stream",
     "text": [
      "파일이 저장되었습니다: C:/Users/sykim/Desktop/url_blob/pdf_file\\1458_BN81-25561B-204_EUG_ROPATSCD_KR_KOR_240412.0.pdf\n"
     ]
    },
    {
     "name": "stderr",
     "output_type": "stream",
     "text": [
      "1459it [1:43:55,  2.68s/it]"
     ]
    },
    {
     "name": "stdout",
     "output_type": "stream",
     "text": [
      "파일이 저장되었습니다: C:/Users/sykim/Desktop/url_blob/pdf_file\\1459_BN81-25561B-204_EUG_ROPATSCD_KR_KOR_240412.0.pdf\n"
     ]
    },
    {
     "name": "stderr",
     "output_type": "stream",
     "text": [
      "1460it [1:43:57,  2.52s/it]"
     ]
    },
    {
     "name": "stdout",
     "output_type": "stream",
     "text": [
      "파일이 저장되었습니다: C:/Users/sykim/Desktop/url_blob/pdf_file\\1460_BN81-25561B-204_EUG_ROPATSCD_KR_KOR_240412.0.pdf\n"
     ]
    },
    {
     "name": "stderr",
     "output_type": "stream",
     "text": [
      "1461it [1:43:58,  2.14s/it]"
     ]
    },
    {
     "name": "stdout",
     "output_type": "stream",
     "text": [
      "파일이 저장되었습니다: C:/Users/sykim/Desktop/url_blob/pdf_file\\1461_BN81-25561B-204_EUG_ROPATSCD_KR_KOR_240412.0.pdf\n"
     ]
    },
    {
     "name": "stderr",
     "output_type": "stream",
     "text": [
      "1462it [1:44:00,  2.00s/it]"
     ]
    },
    {
     "name": "stdout",
     "output_type": "stream",
     "text": [
      "파일이 저장되었습니다: C:/Users/sykim/Desktop/url_blob/pdf_file\\1462_BN81-25561B-204_EUG_ROPATSCD_KR_KOR_240412.0.pdf\n"
     ]
    },
    {
     "name": "stderr",
     "output_type": "stream",
     "text": [
      "1463it [1:44:02,  1.92s/it]"
     ]
    },
    {
     "name": "stdout",
     "output_type": "stream",
     "text": [
      "파일이 저장되었습니다: C:/Users/sykim/Desktop/url_blob/pdf_file\\1463_BN81-25561B-204_EUG_ROPATSCD_KR_KOR_240412.0.pdf\n"
     ]
    },
    {
     "name": "stderr",
     "output_type": "stream",
     "text": [
      "1464it [1:44:05,  2.34s/it]"
     ]
    },
    {
     "name": "stdout",
     "output_type": "stream",
     "text": [
      "파일이 저장되었습니다: C:/Users/sykim/Desktop/url_blob/pdf_file\\1464_BN81-25561B-204_EUG_ROPATSCD_KR_KOR_240412.0.pdf\n"
     ]
    },
    {
     "name": "stderr",
     "output_type": "stream",
     "text": [
      "1465it [1:44:07,  2.23s/it]"
     ]
    },
    {
     "name": "stdout",
     "output_type": "stream",
     "text": [
      "파일이 저장되었습니다: C:/Users/sykim/Desktop/url_blob/pdf_file\\1465_BN81-25561B-204_EUG_ROPATSCD_KR_ENG-KR_240412.0.pdf\n"
     ]
    },
    {
     "name": "stderr",
     "output_type": "stream",
     "text": [
      "1466it [1:44:08,  1.97s/it]"
     ]
    },
    {
     "name": "stdout",
     "output_type": "stream",
     "text": [
      "파일이 저장되었습니다: C:/Users/sykim/Desktop/url_blob/pdf_file\\1466_BN81-25561B-204_EUG_ROPATSCD_KR_KOR_240412.0.pdf\n"
     ]
    },
    {
     "name": "stderr",
     "output_type": "stream",
     "text": [
      "1467it [1:44:14,  2.97s/it]"
     ]
    },
    {
     "name": "stdout",
     "output_type": "stream",
     "text": [
      "파일이 저장되었습니다: C:/Users/sykim/Desktop/url_blob/pdf_file\\1467_BN81-25561B-204_EUG_ROPATSCD_KR_ENG-KR_240412.0.pdf\n"
     ]
    },
    {
     "name": "stderr",
     "output_type": "stream",
     "text": [
      "1468it [1:44:16,  2.84s/it]"
     ]
    },
    {
     "name": "stdout",
     "output_type": "stream",
     "text": [
      "파일이 저장되었습니다: C:/Users/sykim/Desktop/url_blob/pdf_file\\1468_BN81-25561B-204_EUG_ROPATSCD_KR_ENG-KR_240412.0.pdf\n"
     ]
    },
    {
     "name": "stderr",
     "output_type": "stream",
     "text": [
      "1469it [1:44:18,  2.47s/it]"
     ]
    },
    {
     "name": "stdout",
     "output_type": "stream",
     "text": [
      "파일이 저장되었습니다: C:/Users/sykim/Desktop/url_blob/pdf_file\\1469_BN81-25561B-204_EUG_ROPATSCD_KR_ENG-KR_240412.0.pdf\n"
     ]
    },
    {
     "name": "stderr",
     "output_type": "stream",
     "text": [
      "1470it [1:44:20,  2.37s/it]"
     ]
    },
    {
     "name": "stdout",
     "output_type": "stream",
     "text": [
      "파일이 저장되었습니다: C:/Users/sykim/Desktop/url_blob/pdf_file\\1470_BN81-25561B-204_EUG_ROPATSCD_KR_KOR_240412.0.pdf\n"
     ]
    },
    {
     "name": "stderr",
     "output_type": "stream",
     "text": [
      "1471it [1:44:26,  3.45s/it]"
     ]
    },
    {
     "name": "stdout",
     "output_type": "stream",
     "text": [
      "파일이 저장되었습니다: C:/Users/sykim/Desktop/url_blob/pdf_file\\1471_BN81-25561B-204_EUG_ROPATSCD_KR_KOR_240412.0.pdf\n"
     ]
    },
    {
     "name": "stderr",
     "output_type": "stream",
     "text": [
      "1472it [1:44:29,  3.44s/it]"
     ]
    },
    {
     "name": "stdout",
     "output_type": "stream",
     "text": [
      "파일이 저장되었습니다: C:/Users/sykim/Desktop/url_blob/pdf_file\\1472_BN81-25561B-204_EUG_ROPATSCD_KR_KOR_240412.0.pdf\n"
     ]
    },
    {
     "name": "stderr",
     "output_type": "stream",
     "text": [
      "1473it [1:44:31,  2.86s/it]"
     ]
    },
    {
     "name": "stdout",
     "output_type": "stream",
     "text": [
      "파일이 저장되었습니다: C:/Users/sykim/Desktop/url_blob/pdf_file\\1473_BN81-25561B-204_EUG_ROPATSCD_KR_KOR_240412.0.pdf\n"
     ]
    },
    {
     "name": "stderr",
     "output_type": "stream",
     "text": [
      "1474it [1:44:35,  3.10s/it]"
     ]
    },
    {
     "name": "stdout",
     "output_type": "stream",
     "text": [
      "파일이 저장되었습니다: C:/Users/sykim/Desktop/url_blob/pdf_file\\1474_BN81-25561B-204_EUG_ROPATSCD_KR_KOR_240412.0.pdf\n"
     ]
    },
    {
     "name": "stderr",
     "output_type": "stream",
     "text": [
      "1475it [1:44:37,  2.86s/it]"
     ]
    },
    {
     "name": "stdout",
     "output_type": "stream",
     "text": [
      "파일이 저장되었습니다: C:/Users/sykim/Desktop/url_blob/pdf_file\\1475_BN81-25561B-204_EUG_ROPATSCD_KR_ENG-KR_240412.0.pdf\n"
     ]
    },
    {
     "name": "stderr",
     "output_type": "stream",
     "text": [
      "1476it [1:44:38,  2.43s/it]"
     ]
    },
    {
     "name": "stdout",
     "output_type": "stream",
     "text": [
      "파일이 저장되었습니다: C:/Users/sykim/Desktop/url_blob/pdf_file\\1476_BN81-25561B-204_EUG_ROPATSCD_KR_ENG-KR_240412.0.pdf\n"
     ]
    },
    {
     "name": "stderr",
     "output_type": "stream",
     "text": [
      "1477it [1:44:39,  2.04s/it]"
     ]
    },
    {
     "name": "stdout",
     "output_type": "stream",
     "text": [
      "파일이 저장되었습니다: C:/Users/sykim/Desktop/url_blob/pdf_file\\1477_BN81-25561B-204_EUG_ROPATSCD_KR_KOR_240412.0.pdf\n"
     ]
    },
    {
     "name": "stderr",
     "output_type": "stream",
     "text": [
      "1478it [1:44:41,  1.99s/it]"
     ]
    },
    {
     "name": "stdout",
     "output_type": "stream",
     "text": [
      "파일이 저장되었습니다: C:/Users/sykim/Desktop/url_blob/pdf_file\\1478_BN81-25561B-204_EUG_ROPATSCD_KR_ENG-KR_240412.0.pdf\n"
     ]
    },
    {
     "name": "stderr",
     "output_type": "stream",
     "text": [
      "1479it [1:44:45,  2.39s/it]"
     ]
    },
    {
     "name": "stdout",
     "output_type": "stream",
     "text": [
      "파일이 저장되었습니다: C:/Users/sykim/Desktop/url_blob/pdf_file\\1479_BN81-25561B-204_EUG_ROPATSCD_KR_KOR_240412.0.pdf\n"
     ]
    },
    {
     "name": "stderr",
     "output_type": "stream",
     "text": [
      "1480it [1:44:47,  2.27s/it]"
     ]
    },
    {
     "name": "stdout",
     "output_type": "stream",
     "text": [
      "파일이 저장되었습니다: C:/Users/sykim/Desktop/url_blob/pdf_file\\1480_BN81-25561B-204_EUG_ROPATSCD_KR_KOR_240412.0.pdf\n"
     ]
    },
    {
     "name": "stderr",
     "output_type": "stream",
     "text": [
      "1481it [1:44:48,  2.08s/it]"
     ]
    },
    {
     "name": "stdout",
     "output_type": "stream",
     "text": [
      "파일이 저장되었습니다: C:/Users/sykim/Desktop/url_blob/pdf_file\\1481_BN81-25561B-204_EUG_ROPATSCD_KR_KOR_240412.0.pdf\n"
     ]
    },
    {
     "name": "stderr",
     "output_type": "stream",
     "text": [
      "1482it [1:44:49,  1.79s/it]"
     ]
    },
    {
     "name": "stdout",
     "output_type": "stream",
     "text": [
      "파일이 저장되었습니다: C:/Users/sykim/Desktop/url_blob/pdf_file\\1482_BN81-25561B-204_EUG_ROPATSCD_KR_ENG-KR_240412.0.pdf\n"
     ]
    },
    {
     "name": "stderr",
     "output_type": "stream",
     "text": [
      "1483it [1:44:50,  1.58s/it]"
     ]
    },
    {
     "name": "stdout",
     "output_type": "stream",
     "text": [
      "파일이 저장되었습니다: C:/Users/sykim/Desktop/url_blob/pdf_file\\1483_BN81-25561B-204_EUG_ROPATSCD_KR_KOR_240412.0.pdf\n"
     ]
    },
    {
     "name": "stderr",
     "output_type": "stream",
     "text": [
      "1484it [1:44:53,  1.77s/it]"
     ]
    },
    {
     "name": "stdout",
     "output_type": "stream",
     "text": [
      "파일이 저장되었습니다: C:/Users/sykim/Desktop/url_blob/pdf_file\\1484_BN81-25561B-204_EUG_ROPATSCD_KR_KOR_240412.0.pdf\n"
     ]
    },
    {
     "name": "stderr",
     "output_type": "stream",
     "text": [
      "1485it [1:44:54,  1.60s/it]"
     ]
    },
    {
     "name": "stdout",
     "output_type": "stream",
     "text": [
      "파일이 저장되었습니다: C:/Users/sykim/Desktop/url_blob/pdf_file\\1485_BN81-25561B-204_EUG_ROPATSCD_KR_ENG-KR_240412.0.pdf\n"
     ]
    },
    {
     "name": "stderr",
     "output_type": "stream",
     "text": [
      "1486it [1:44:56,  1.73s/it]"
     ]
    },
    {
     "name": "stdout",
     "output_type": "stream",
     "text": [
      "파일이 저장되었습니다: C:/Users/sykim/Desktop/url_blob/pdf_file\\1486_BN81-25561B-204_EUG_ROPATSCD_KR_KOR_240412.0.pdf\n"
     ]
    },
    {
     "name": "stderr",
     "output_type": "stream",
     "text": [
      "1487it [1:45:02,  2.91s/it]"
     ]
    },
    {
     "name": "stdout",
     "output_type": "stream",
     "text": [
      "파일이 저장되었습니다: C:/Users/sykim/Desktop/url_blob/pdf_file\\1487_BN81-25561B-204_EUG_ROPATSCD_KR_ENG-KR_240412.0.pdf\n"
     ]
    },
    {
     "name": "stderr",
     "output_type": "stream",
     "text": [
      "1488it [1:45:08,  3.96s/it]"
     ]
    },
    {
     "name": "stdout",
     "output_type": "stream",
     "text": [
      "파일이 저장되었습니다: C:/Users/sykim/Desktop/url_blob/pdf_file\\1488_BN81-25561B-204_EUG_ROPATSCD_KR_ENG-KR_240412.0.pdf\n"
     ]
    },
    {
     "name": "stderr",
     "output_type": "stream",
     "text": [
      "1489it [1:45:16,  5.08s/it]"
     ]
    },
    {
     "name": "stdout",
     "output_type": "stream",
     "text": [
      "파일이 저장되었습니다: C:/Users/sykim/Desktop/url_blob/pdf_file\\1489_BN81-25561B-204_EUG_ROPATSCD_KR_ENG-KR_240412.0.pdf\n"
     ]
    },
    {
     "name": "stderr",
     "output_type": "stream",
     "text": [
      "1490it [1:45:18,  4.39s/it]"
     ]
    },
    {
     "name": "stdout",
     "output_type": "stream",
     "text": [
      "파일이 저장되었습니다: C:/Users/sykim/Desktop/url_blob/pdf_file\\1490_BN81-25561B-204_EUG_ROPATSCD_KR_KOR_240412.0.pdf\n"
     ]
    },
    {
     "name": "stderr",
     "output_type": "stream",
     "text": [
      "1491it [1:45:21,  3.82s/it]"
     ]
    },
    {
     "name": "stdout",
     "output_type": "stream",
     "text": [
      "파일이 저장되었습니다: C:/Users/sykim/Desktop/url_blob/pdf_file\\1491_BN81-25561B-204_EUG_ROPATSCD_KR_KOR_240412.0.pdf\n"
     ]
    },
    {
     "name": "stderr",
     "output_type": "stream",
     "text": [
      "1492it [1:45:24,  3.52s/it]"
     ]
    },
    {
     "name": "stdout",
     "output_type": "stream",
     "text": [
      "파일이 저장되었습니다: C:/Users/sykim/Desktop/url_blob/pdf_file\\1492_BN81-25561B-204_EUG_ROPATSCD_KR_KOR_240412.0.pdf\n"
     ]
    },
    {
     "name": "stderr",
     "output_type": "stream",
     "text": [
      "1493it [1:45:26,  3.14s/it]"
     ]
    },
    {
     "name": "stdout",
     "output_type": "stream",
     "text": [
      "파일이 저장되었습니다: C:/Users/sykim/Desktop/url_blob/pdf_file\\1493_BN81-25561B-204_EUG_ROPATSCD_KR_KOR_240412.0.pdf\n"
     ]
    },
    {
     "name": "stderr",
     "output_type": "stream",
     "text": [
      "1494it [1:45:28,  2.84s/it]"
     ]
    },
    {
     "name": "stdout",
     "output_type": "stream",
     "text": [
      "파일이 저장되었습니다: C:/Users/sykim/Desktop/url_blob/pdf_file\\1494_BN81-25561B-204_EUG_ROPATSCD_KR_KOR_240412.0.pdf\n"
     ]
    },
    {
     "name": "stderr",
     "output_type": "stream",
     "text": [
      "1495it [1:45:30,  2.61s/it]"
     ]
    },
    {
     "name": "stdout",
     "output_type": "stream",
     "text": [
      "파일이 저장되었습니다: C:/Users/sykim/Desktop/url_blob/pdf_file\\1495_BN81-25561B-204_EUG_ROPATSCD_KR_KOR_240412.0.pdf\n"
     ]
    },
    {
     "name": "stderr",
     "output_type": "stream",
     "text": [
      "1496it [1:45:36,  3.53s/it]"
     ]
    },
    {
     "name": "stdout",
     "output_type": "stream",
     "text": [
      "파일이 저장되었습니다: C:/Users/sykim/Desktop/url_blob/pdf_file\\1496_BN81-25561B-204_EUG_ROPATSCD_KR_ENG-KR_240412.0.pdf\n"
     ]
    },
    {
     "name": "stderr",
     "output_type": "stream",
     "text": [
      "1497it [1:45:38,  3.03s/it]"
     ]
    },
    {
     "name": "stdout",
     "output_type": "stream",
     "text": [
      "파일이 저장되었습니다: C:/Users/sykim/Desktop/url_blob/pdf_file\\1497_BN81-25561B-204_EUG_ROPATSCD_KR_KOR_240412.0.pdf\n"
     ]
    },
    {
     "name": "stderr",
     "output_type": "stream",
     "text": [
      "1498it [1:45:41,  3.10s/it]"
     ]
    },
    {
     "name": "stdout",
     "output_type": "stream",
     "text": [
      "파일이 저장되었습니다: C:/Users/sykim/Desktop/url_blob/pdf_file\\1498_BN81-25561B-204_EUG_ROPATSCD_KR_ENG-KR_240412.0.pdf\n"
     ]
    },
    {
     "name": "stderr",
     "output_type": "stream",
     "text": [
      "1499it [1:45:45,  3.25s/it]"
     ]
    },
    {
     "name": "stdout",
     "output_type": "stream",
     "text": [
      "파일이 저장되었습니다: C:/Users/sykim/Desktop/url_blob/pdf_file\\1499_BN81-25561B-204_EUG_ROPATSCD_KR_ENG-KR_240412.0.pdf\n"
     ]
    },
    {
     "name": "stderr",
     "output_type": "stream",
     "text": [
      "1500it [1:45:47,  2.95s/it]"
     ]
    },
    {
     "name": "stdout",
     "output_type": "stream",
     "text": [
      "파일이 저장되었습니다: C:/Users/sykim/Desktop/url_blob/pdf_file\\1500_BN81-25561B-204_EUG_ROPATSCD_KR_ENG-KR_240412.0.pdf\n"
     ]
    },
    {
     "name": "stderr",
     "output_type": "stream",
     "text": [
      "1501it [1:45:49,  2.72s/it]"
     ]
    },
    {
     "name": "stdout",
     "output_type": "stream",
     "text": [
      "파일이 저장되었습니다: C:/Users/sykim/Desktop/url_blob/pdf_file\\1501_BN81-25561B-204_EUG_ROPATSCD_KR_ENG-KR_240412.0.pdf\n"
     ]
    },
    {
     "name": "stderr",
     "output_type": "stream",
     "text": [
      "1502it [1:45:52,  2.77s/it]"
     ]
    },
    {
     "name": "stdout",
     "output_type": "stream",
     "text": [
      "파일이 저장되었습니다: C:/Users/sykim/Desktop/url_blob/pdf_file\\1502_BN81-25561B-204_EUG_ROPATSCD_KR_KOR_240412.0.pdf\n"
     ]
    },
    {
     "name": "stderr",
     "output_type": "stream",
     "text": [
      "1503it [1:45:55,  2.78s/it]"
     ]
    },
    {
     "name": "stdout",
     "output_type": "stream",
     "text": [
      "파일이 저장되었습니다: C:/Users/sykim/Desktop/url_blob/pdf_file\\1503_BN81-25561B-204_EUG_ROPATSCD_KR_KOR_240412.0.pdf\n"
     ]
    },
    {
     "name": "stderr",
     "output_type": "stream",
     "text": [
      "1504it [1:45:58,  2.84s/it]"
     ]
    },
    {
     "name": "stdout",
     "output_type": "stream",
     "text": [
      "파일이 저장되었습니다: C:/Users/sykim/Desktop/url_blob/pdf_file\\1504_BN81-25561B-204_EUG_ROPATSCD_KR_KOR_240412.0.pdf\n"
     ]
    },
    {
     "name": "stderr",
     "output_type": "stream",
     "text": [
      "1505it [1:46:00,  2.76s/it]"
     ]
    },
    {
     "name": "stdout",
     "output_type": "stream",
     "text": [
      "파일이 저장되었습니다: C:/Users/sykim/Desktop/url_blob/pdf_file\\1505_BN81-25561B-204_EUG_ROPATSCD_KR_KOR_240412.0.pdf\n"
     ]
    },
    {
     "name": "stderr",
     "output_type": "stream",
     "text": [
      "1506it [1:46:02,  2.39s/it]"
     ]
    },
    {
     "name": "stdout",
     "output_type": "stream",
     "text": [
      "파일이 저장되었습니다: C:/Users/sykim/Desktop/url_blob/pdf_file\\1506_BN81-25561B-204_EUG_ROPATSCD_KR_KOR_240412.0.pdf\n"
     ]
    },
    {
     "name": "stderr",
     "output_type": "stream",
     "text": [
      "1507it [1:46:04,  2.29s/it]"
     ]
    },
    {
     "name": "stdout",
     "output_type": "stream",
     "text": [
      "파일이 저장되었습니다: C:/Users/sykim/Desktop/url_blob/pdf_file\\1507_BN81-25561B-204_EUG_ROPATSCD_KR_KOR_240412.0.pdf\n"
     ]
    },
    {
     "name": "stderr",
     "output_type": "stream",
     "text": [
      "1508it [1:46:05,  1.91s/it]"
     ]
    },
    {
     "name": "stdout",
     "output_type": "stream",
     "text": [
      "파일이 저장되었습니다: C:/Users/sykim/Desktop/url_blob/pdf_file\\1508_BN81-25561B-204_EUG_ROPATSCD_KR_ENG-KR_240412.0.pdf\n"
     ]
    },
    {
     "name": "stderr",
     "output_type": "stream",
     "text": [
      "1509it [1:46:07,  1.86s/it]"
     ]
    },
    {
     "name": "stdout",
     "output_type": "stream",
     "text": [
      "파일이 저장되었습니다: C:/Users/sykim/Desktop/url_blob/pdf_file\\1509_BN81-25561B-204_EUG_ROPATSCD_KR_KOR_240412.0.pdf\n"
     ]
    },
    {
     "name": "stderr",
     "output_type": "stream",
     "text": [
      "1510it [1:46:09,  1.97s/it]"
     ]
    },
    {
     "name": "stdout",
     "output_type": "stream",
     "text": [
      "파일이 저장되었습니다: C:/Users/sykim/Desktop/url_blob/pdf_file\\1510_BN81-25561B-204_EUG_ROPATSCD_KR_KOR_240412.0.pdf\n"
     ]
    },
    {
     "name": "stderr",
     "output_type": "stream",
     "text": [
      "1511it [1:46:10,  1.76s/it]"
     ]
    },
    {
     "name": "stdout",
     "output_type": "stream",
     "text": [
      "파일이 저장되었습니다: C:/Users/sykim/Desktop/url_blob/pdf_file\\1511_BN81-25561B-204_EUG_ROPATSCD_KR_KOR_240412.0.pdf\n"
     ]
    },
    {
     "name": "stderr",
     "output_type": "stream",
     "text": [
      "1512it [1:46:13,  2.15s/it]"
     ]
    },
    {
     "name": "stdout",
     "output_type": "stream",
     "text": [
      "파일이 저장되었습니다: C:/Users/sykim/Desktop/url_blob/pdf_file\\1512_BN81-25561B-204_EUG_ROPATSCD_KR_KOR_240412.0.pdf\n"
     ]
    },
    {
     "name": "stderr",
     "output_type": "stream",
     "text": [
      "1513it [1:46:15,  1.94s/it]"
     ]
    },
    {
     "name": "stdout",
     "output_type": "stream",
     "text": [
      "파일이 저장되었습니다: C:/Users/sykim/Desktop/url_blob/pdf_file\\1513_BN81-25561B-204_EUG_ROPATSCD_KR_ENG-KR_240412.0.pdf\n"
     ]
    },
    {
     "name": "stderr",
     "output_type": "stream",
     "text": [
      "1514it [1:46:17,  2.01s/it]"
     ]
    },
    {
     "name": "stdout",
     "output_type": "stream",
     "text": [
      "파일이 저장되었습니다: C:/Users/sykim/Desktop/url_blob/pdf_file\\1514_BN81-25561B-204_EUG_ROPATSCD_KR_ENG-KR_240412.0.pdf\n"
     ]
    },
    {
     "name": "stderr",
     "output_type": "stream",
     "text": [
      "1515it [1:46:22,  2.89s/it]"
     ]
    },
    {
     "name": "stdout",
     "output_type": "stream",
     "text": [
      "파일이 저장되었습니다: C:/Users/sykim/Desktop/url_blob/pdf_file\\1515_BN81-25561B-204_EUG_ROPATSCD_KR_ENG-KR_240412.0.pdf\n"
     ]
    },
    {
     "name": "stderr",
     "output_type": "stream",
     "text": [
      "1516it [1:46:23,  2.32s/it]"
     ]
    },
    {
     "name": "stdout",
     "output_type": "stream",
     "text": [
      "파일이 저장되었습니다: C:/Users/sykim/Desktop/url_blob/pdf_file\\1516_BN81-25561B-204_EUG_ROPATSCD_KR_KOR_240412.0.pdf\n"
     ]
    },
    {
     "name": "stderr",
     "output_type": "stream",
     "text": [
      "1517it [1:46:24,  2.00s/it]"
     ]
    },
    {
     "name": "stdout",
     "output_type": "stream",
     "text": [
      "파일이 저장되었습니다: C:/Users/sykim/Desktop/url_blob/pdf_file\\1517_BN81-25561B-204_EUG_ROPATSCD_KR_ENG-KR_240412.0.pdf\n"
     ]
    },
    {
     "name": "stderr",
     "output_type": "stream",
     "text": [
      "1518it [1:46:26,  1.97s/it]"
     ]
    },
    {
     "name": "stdout",
     "output_type": "stream",
     "text": [
      "파일이 저장되었습니다: C:/Users/sykim/Desktop/url_blob/pdf_file\\1518_BN81-25561B-204_EUG_ROPATSCD_KR_KOR_240412.0.pdf\n"
     ]
    },
    {
     "name": "stderr",
     "output_type": "stream",
     "text": [
      "1519it [1:46:27,  1.82s/it]"
     ]
    },
    {
     "name": "stdout",
     "output_type": "stream",
     "text": [
      "파일이 저장되었습니다: C:/Users/sykim/Desktop/url_blob/pdf_file\\1519_BN81-25561B-204_EUG_ROPATSCD_KR_ENG-KR_240412.0.pdf\n"
     ]
    },
    {
     "name": "stderr",
     "output_type": "stream",
     "text": [
      "1520it [1:46:29,  1.72s/it]"
     ]
    },
    {
     "name": "stdout",
     "output_type": "stream",
     "text": [
      "파일이 저장되었습니다: C:/Users/sykim/Desktop/url_blob/pdf_file\\1520_BN81-25561B-204_EUG_ROPATSCD_KR_ENG-KR_240412.0.pdf\n"
     ]
    },
    {
     "name": "stderr",
     "output_type": "stream",
     "text": [
      "1521it [1:46:31,  1.96s/it]"
     ]
    },
    {
     "name": "stdout",
     "output_type": "stream",
     "text": [
      "파일이 저장되었습니다: C:/Users/sykim/Desktop/url_blob/pdf_file\\1521_BN81-25561B-204_EUG_ROPATSCD_KR_KOR_240412.0.pdf\n"
     ]
    },
    {
     "name": "stderr",
     "output_type": "stream",
     "text": [
      "1522it [1:46:37,  2.97s/it]"
     ]
    },
    {
     "name": "stdout",
     "output_type": "stream",
     "text": [
      "파일이 저장되었습니다: C:/Users/sykim/Desktop/url_blob/pdf_file\\1522_BN81-25561B-204_EUG_ROPATSCD_KR_KOR_240412.0.pdf\n"
     ]
    },
    {
     "name": "stderr",
     "output_type": "stream",
     "text": [
      "1523it [1:46:39,  2.87s/it]"
     ]
    },
    {
     "name": "stdout",
     "output_type": "stream",
     "text": [
      "파일이 저장되었습니다: C:/Users/sykim/Desktop/url_blob/pdf_file\\1523_BN81-25561B-204_EUG_ROPATSCD_KR_KOR_240412.0.pdf\n"
     ]
    },
    {
     "name": "stderr",
     "output_type": "stream",
     "text": [
      "1524it [1:46:42,  2.76s/it]"
     ]
    },
    {
     "name": "stdout",
     "output_type": "stream",
     "text": [
      "파일이 저장되었습니다: C:/Users/sykim/Desktop/url_blob/pdf_file\\1524_BN81-25561B-204_EUG_ROPATSCD_KR_KOR_240412.0.pdf\n"
     ]
    },
    {
     "name": "stderr",
     "output_type": "stream",
     "text": [
      "1525it [1:46:44,  2.58s/it]"
     ]
    },
    {
     "name": "stdout",
     "output_type": "stream",
     "text": [
      "파일이 저장되었습니다: C:/Users/sykim/Desktop/url_blob/pdf_file\\1525_BN81-25561B-204_EUG_ROPATSCD_KR_KOR_240412.0.pdf\n"
     ]
    },
    {
     "name": "stderr",
     "output_type": "stream",
     "text": [
      "1526it [1:46:46,  2.33s/it]"
     ]
    },
    {
     "name": "stdout",
     "output_type": "stream",
     "text": [
      "파일이 저장되었습니다: C:/Users/sykim/Desktop/url_blob/pdf_file\\1526_BN81-25561B-204_EUG_ROPATSCD_KR_KOR_240412.0.pdf\n"
     ]
    },
    {
     "name": "stderr",
     "output_type": "stream",
     "text": [
      "1527it [1:46:48,  2.42s/it]"
     ]
    },
    {
     "name": "stdout",
     "output_type": "stream",
     "text": [
      "파일이 저장되었습니다: C:/Users/sykim/Desktop/url_blob/pdf_file\\1527_BN81-25561B-204_EUG_ROPATSCD_KR_ENG-KR_240412.0.pdf\n"
     ]
    },
    {
     "name": "stderr",
     "output_type": "stream",
     "text": [
      "1528it [1:46:51,  2.33s/it]"
     ]
    },
    {
     "name": "stdout",
     "output_type": "stream",
     "text": [
      "파일이 저장되었습니다: C:/Users/sykim/Desktop/url_blob/pdf_file\\1528_BN81-25561B-204_EUG_ROPATSCD_KR_KOR_240412.0.pdf\n"
     ]
    },
    {
     "name": "stderr",
     "output_type": "stream",
     "text": [
      "1529it [1:46:53,  2.26s/it]"
     ]
    },
    {
     "name": "stdout",
     "output_type": "stream",
     "text": [
      "파일이 저장되었습니다: C:/Users/sykim/Desktop/url_blob/pdf_file\\1529_BN81-25561B-204_EUG_ROPATSCD_KR_KOR_240412.0.pdf\n"
     ]
    },
    {
     "name": "stderr",
     "output_type": "stream",
     "text": [
      "1530it [1:46:55,  2.24s/it]"
     ]
    },
    {
     "name": "stdout",
     "output_type": "stream",
     "text": [
      "파일이 저장되었습니다: C:/Users/sykim/Desktop/url_blob/pdf_file\\1530_BN81-25561B-204_EUG_ROPATSCD_KR_ENG-KR_240412.0.pdf\n"
     ]
    },
    {
     "name": "stderr",
     "output_type": "stream",
     "text": [
      "1531it [1:46:57,  2.13s/it]"
     ]
    },
    {
     "name": "stdout",
     "output_type": "stream",
     "text": [
      "파일이 저장되었습니다: C:/Users/sykim/Desktop/url_blob/pdf_file\\1531_BN81-25561B-204_EUG_ROPATSCD_KR_KOR_240412.0.pdf\n"
     ]
    },
    {
     "name": "stderr",
     "output_type": "stream",
     "text": [
      "1532it [1:47:02,  2.98s/it]"
     ]
    },
    {
     "name": "stdout",
     "output_type": "stream",
     "text": [
      "파일이 저장되었습니다: C:/Users/sykim/Desktop/url_blob/pdf_file\\1532_BN81-25561B-204_EUG_ROPATSCD_KR_KOR_240412.0.pdf\n"
     ]
    },
    {
     "name": "stderr",
     "output_type": "stream",
     "text": [
      "1533it [1:47:05,  3.02s/it]"
     ]
    },
    {
     "name": "stdout",
     "output_type": "stream",
     "text": [
      "파일이 저장되었습니다: C:/Users/sykim/Desktop/url_blob/pdf_file\\1533_BN81-25561B-204_EUG_ROPATSCD_KR_ENG-KR_240412.0.pdf\n"
     ]
    },
    {
     "name": "stderr",
     "output_type": "stream",
     "text": [
      "1534it [1:47:08,  3.06s/it]"
     ]
    },
    {
     "name": "stdout",
     "output_type": "stream",
     "text": [
      "파일이 저장되었습니다: C:/Users/sykim/Desktop/url_blob/pdf_file\\1534_BN81-25561B-204_EUG_ROPATSCD_KR_KOR_240412.0.pdf\n"
     ]
    },
    {
     "name": "stderr",
     "output_type": "stream",
     "text": [
      "1535it [1:47:13,  3.53s/it]"
     ]
    },
    {
     "name": "stdout",
     "output_type": "stream",
     "text": [
      "파일이 저장되었습니다: C:/Users/sykim/Desktop/url_blob/pdf_file\\1535_BN81-25561B-204_EUG_ROPATSCD_KR_KOR_240412.0.pdf\n"
     ]
    },
    {
     "name": "stderr",
     "output_type": "stream",
     "text": [
      "1536it [1:47:15,  3.13s/it]"
     ]
    },
    {
     "name": "stdout",
     "output_type": "stream",
     "text": [
      "파일이 저장되었습니다: C:/Users/sykim/Desktop/url_blob/pdf_file\\1536_BN81-25561B-204_EUG_ROPATSCD_KR_ENG-KR_240412.0.pdf\n"
     ]
    },
    {
     "name": "stderr",
     "output_type": "stream",
     "text": [
      "1537it [1:47:18,  3.27s/it]"
     ]
    },
    {
     "name": "stdout",
     "output_type": "stream",
     "text": [
      "파일이 저장되었습니다: C:/Users/sykim/Desktop/url_blob/pdf_file\\1537_BN81-25561B-204_EUG_ROPATSCD_KR_ENG-KR_240412.0.pdf\n"
     ]
    },
    {
     "name": "stderr",
     "output_type": "stream",
     "text": [
      "1538it [1:47:23,  3.76s/it]"
     ]
    },
    {
     "name": "stdout",
     "output_type": "stream",
     "text": [
      "파일이 저장되었습니다: C:/Users/sykim/Desktop/url_blob/pdf_file\\1538_BN81-25561B-204_EUG_ROPATSCD_KR_ENG-KR_240412.0.pdf\n"
     ]
    },
    {
     "name": "stderr",
     "output_type": "stream",
     "text": [
      "1539it [1:47:28,  4.12s/it]"
     ]
    },
    {
     "name": "stdout",
     "output_type": "stream",
     "text": [
      "파일이 저장되었습니다: C:/Users/sykim/Desktop/url_blob/pdf_file\\1539_BN81-25561B-204_EUG_ROPATSCD_KR_ENG-KR_240412.0.pdf\n"
     ]
    },
    {
     "name": "stderr",
     "output_type": "stream",
     "text": [
      "1540it [1:47:30,  3.41s/it]"
     ]
    },
    {
     "name": "stdout",
     "output_type": "stream",
     "text": [
      "파일이 저장되었습니다: C:/Users/sykim/Desktop/url_blob/pdf_file\\1540_BN81-25561B-204_EUG_ROPATSCD_KR_ENG-KR_240412.0.pdf\n"
     ]
    },
    {
     "name": "stderr",
     "output_type": "stream",
     "text": [
      "1541it [1:47:32,  2.87s/it]"
     ]
    },
    {
     "name": "stdout",
     "output_type": "stream",
     "text": [
      "파일이 저장되었습니다: C:/Users/sykim/Desktop/url_blob/pdf_file\\1541_BN81-25561B-204_EUG_ROPATSCD_KR_KOR_240412.0.pdf\n"
     ]
    },
    {
     "name": "stderr",
     "output_type": "stream",
     "text": [
      "1542it [1:47:36,  3.35s/it]"
     ]
    },
    {
     "name": "stdout",
     "output_type": "stream",
     "text": [
      "파일이 저장되었습니다: C:/Users/sykim/Desktop/url_blob/pdf_file\\1542_BN81-25561B-204_EUG_ROPATSCD_KR_KOR_240412.0.pdf\n"
     ]
    },
    {
     "name": "stderr",
     "output_type": "stream",
     "text": [
      "1543it [1:47:38,  2.94s/it]"
     ]
    },
    {
     "name": "stdout",
     "output_type": "stream",
     "text": [
      "파일이 저장되었습니다: C:/Users/sykim/Desktop/url_blob/pdf_file\\1543_BN81-25561B-204_EUG_ROPATSCD_KR_ENG-KR_240412.0.pdf\n"
     ]
    },
    {
     "name": "stderr",
     "output_type": "stream",
     "text": [
      "1544it [1:47:40,  2.75s/it]"
     ]
    },
    {
     "name": "stdout",
     "output_type": "stream",
     "text": [
      "파일이 저장되었습니다: C:/Users/sykim/Desktop/url_blob/pdf_file\\1544_BN81-25561B-204_EUG_ROPATSCD_KR_ENG-KR_240412.0.pdf\n"
     ]
    },
    {
     "name": "stderr",
     "output_type": "stream",
     "text": [
      "1545it [1:47:45,  3.25s/it]"
     ]
    },
    {
     "name": "stdout",
     "output_type": "stream",
     "text": [
      "파일이 저장되었습니다: C:/Users/sykim/Desktop/url_blob/pdf_file\\1545_BN81-25561B-204_EUG_ROPATSCD_KR_ENG-KR_240412.0.pdf\n"
     ]
    },
    {
     "name": "stderr",
     "output_type": "stream",
     "text": [
      "1546it [1:47:46,  2.75s/it]"
     ]
    },
    {
     "name": "stdout",
     "output_type": "stream",
     "text": [
      "파일이 저장되었습니다: C:/Users/sykim/Desktop/url_blob/pdf_file\\1546_BN81-25561B-204_EUG_ROPATSCD_KR_ENG-KR_240412.0.pdf\n"
     ]
    },
    {
     "name": "stderr",
     "output_type": "stream",
     "text": [
      "1547it [1:47:48,  2.55s/it]"
     ]
    },
    {
     "name": "stdout",
     "output_type": "stream",
     "text": [
      "파일이 저장되었습니다: C:/Users/sykim/Desktop/url_blob/pdf_file\\1547_BN81-25561B-204_EUG_ROPATSCD_KR_KOR_240412.0.pdf\n"
     ]
    },
    {
     "name": "stderr",
     "output_type": "stream",
     "text": [
      "1548it [1:47:50,  2.26s/it]"
     ]
    },
    {
     "name": "stdout",
     "output_type": "stream",
     "text": [
      "파일이 저장되었습니다: C:/Users/sykim/Desktop/url_blob/pdf_file\\1548_BN81-25561B-204_EUG_ROPATSCD_KR_KOR_240412.0.pdf\n"
     ]
    },
    {
     "name": "stderr",
     "output_type": "stream",
     "text": [
      "1549it [1:47:52,  2.24s/it]"
     ]
    },
    {
     "name": "stdout",
     "output_type": "stream",
     "text": [
      "파일이 저장되었습니다: C:/Users/sykim/Desktop/url_blob/pdf_file\\1549_BN81-25561B-204_EUG_ROPATSCD_KR_ENG-KR_240412.0.pdf\n"
     ]
    },
    {
     "name": "stderr",
     "output_type": "stream",
     "text": [
      "1550it [1:47:55,  2.46s/it]"
     ]
    },
    {
     "name": "stdout",
     "output_type": "stream",
     "text": [
      "파일이 저장되었습니다: C:/Users/sykim/Desktop/url_blob/pdf_file\\1550_BN81-25561B-204_EUG_ROPATSCD_KR_ENG-KR_240412.0.pdf\n"
     ]
    },
    {
     "name": "stderr",
     "output_type": "stream",
     "text": [
      "1551it [1:47:58,  2.46s/it]"
     ]
    },
    {
     "name": "stdout",
     "output_type": "stream",
     "text": [
      "파일이 저장되었습니다: C:/Users/sykim/Desktop/url_blob/pdf_file\\1551_BN81-25561B-204_EUG_ROPATSCD_KR_ENG-KR_240412.0.pdf\n"
     ]
    },
    {
     "name": "stderr",
     "output_type": "stream",
     "text": [
      "1552it [1:48:00,  2.28s/it]"
     ]
    },
    {
     "name": "stdout",
     "output_type": "stream",
     "text": [
      "파일이 저장되었습니다: C:/Users/sykim/Desktop/url_blob/pdf_file\\1552_BN81-25561B-204_EUG_ROPATSCD_KR_KOR_240412.0.pdf\n"
     ]
    },
    {
     "name": "stderr",
     "output_type": "stream",
     "text": [
      "1553it [1:48:02,  2.19s/it]"
     ]
    },
    {
     "name": "stdout",
     "output_type": "stream",
     "text": [
      "파일이 저장되었습니다: C:/Users/sykim/Desktop/url_blob/pdf_file\\1553_BN81-25561B-204_EUG_ROPATSCD_KR_KOR_240412.0.pdf\n"
     ]
    },
    {
     "name": "stderr",
     "output_type": "stream",
     "text": [
      "1554it [1:48:05,  2.53s/it]"
     ]
    },
    {
     "name": "stdout",
     "output_type": "stream",
     "text": [
      "파일이 저장되었습니다: C:/Users/sykim/Desktop/url_blob/pdf_file\\1554_BN81-25561B-204_EUG_ROPATSCD_KR_ENG-KR_240412.0.pdf\n"
     ]
    },
    {
     "name": "stderr",
     "output_type": "stream",
     "text": [
      "1555it [1:48:07,  2.50s/it]"
     ]
    },
    {
     "name": "stdout",
     "output_type": "stream",
     "text": [
      "파일이 저장되었습니다: C:/Users/sykim/Desktop/url_blob/pdf_file\\1555_BN81-25561B-204_EUG_ROPATSCD_KR_KOR_240412.0.pdf\n"
     ]
    },
    {
     "name": "stderr",
     "output_type": "stream",
     "text": [
      "1556it [1:48:09,  2.30s/it]"
     ]
    },
    {
     "name": "stdout",
     "output_type": "stream",
     "text": [
      "파일이 저장되었습니다: C:/Users/sykim/Desktop/url_blob/pdf_file\\1556_BN81-25561B-204_EUG_ROPATSCD_KR_ENG-KR_240412.0.pdf\n"
     ]
    },
    {
     "name": "stderr",
     "output_type": "stream",
     "text": [
      "1557it [1:48:11,  2.19s/it]"
     ]
    },
    {
     "name": "stdout",
     "output_type": "stream",
     "text": [
      "파일이 저장되었습니다: C:/Users/sykim/Desktop/url_blob/pdf_file\\1557_BN81-25561B-204_EUG_ROPATSCD_KR_ENG-KR_240412.0.pdf\n"
     ]
    },
    {
     "name": "stderr",
     "output_type": "stream",
     "text": [
      "1558it [1:48:15,  2.61s/it]"
     ]
    },
    {
     "name": "stdout",
     "output_type": "stream",
     "text": [
      "파일이 저장되었습니다: C:/Users/sykim/Desktop/url_blob/pdf_file\\1558_BN81-25561B-204_EUG_ROPATSCD_KR_ENG-KR_240412.0.pdf\n"
     ]
    },
    {
     "name": "stderr",
     "output_type": "stream",
     "text": [
      "1559it [1:48:16,  2.25s/it]"
     ]
    },
    {
     "name": "stdout",
     "output_type": "stream",
     "text": [
      "파일이 저장되었습니다: C:/Users/sykim/Desktop/url_blob/pdf_file\\1559_BN81-25561B-204_EUG_ROPATSCD_KR_KOR_240412.0.pdf\n"
     ]
    },
    {
     "name": "stderr",
     "output_type": "stream",
     "text": [
      "1560it [1:48:18,  2.17s/it]"
     ]
    },
    {
     "name": "stdout",
     "output_type": "stream",
     "text": [
      "파일이 저장되었습니다: C:/Users/sykim/Desktop/url_blob/pdf_file\\1560_BN81-25561B-204_EUG_ROPATSCD_KR_KOR_240412.0.pdf\n"
     ]
    },
    {
     "name": "stderr",
     "output_type": "stream",
     "text": [
      "1561it [1:48:22,  2.66s/it]"
     ]
    },
    {
     "name": "stdout",
     "output_type": "stream",
     "text": [
      "파일이 저장되었습니다: C:/Users/sykim/Desktop/url_blob/pdf_file\\1561_BN81-25561B-204_EUG_ROPATSCD_KR_ENG-KR_240412.0.pdf\n"
     ]
    },
    {
     "name": "stderr",
     "output_type": "stream",
     "text": [
      "1562it [1:48:23,  2.23s/it]"
     ]
    },
    {
     "name": "stdout",
     "output_type": "stream",
     "text": [
      "파일이 저장되었습니다: C:/Users/sykim/Desktop/url_blob/pdf_file\\1562_BN81-25561B-204_EUG_ROPATSCD_KR_KOR_240412.0.pdf\n"
     ]
    },
    {
     "name": "stderr",
     "output_type": "stream",
     "text": [
      "1563it [1:48:26,  2.44s/it]"
     ]
    },
    {
     "name": "stdout",
     "output_type": "stream",
     "text": [
      "파일이 저장되었습니다: C:/Users/sykim/Desktop/url_blob/pdf_file\\1563_BN81-25561B-204_EUG_ROPATSCD_KR_KOR_240412.0.pdf\n"
     ]
    },
    {
     "name": "stderr",
     "output_type": "stream",
     "text": [
      "1564it [1:48:29,  2.50s/it]"
     ]
    },
    {
     "name": "stdout",
     "output_type": "stream",
     "text": [
      "파일이 저장되었습니다: C:/Users/sykim/Desktop/url_blob/pdf_file\\1564_BN81-25561B-204_EUG_ROPATSCD_KR_KOR_240412.0.pdf\n"
     ]
    },
    {
     "name": "stderr",
     "output_type": "stream",
     "text": [
      "1565it [1:48:31,  2.35s/it]"
     ]
    },
    {
     "name": "stdout",
     "output_type": "stream",
     "text": [
      "파일이 저장되었습니다: C:/Users/sykim/Desktop/url_blob/pdf_file\\1565_BN81-25561B-204_EUG_ROPATSCD_KR_KOR_240412.0.pdf\n"
     ]
    },
    {
     "name": "stderr",
     "output_type": "stream",
     "text": [
      "1566it [1:48:32,  2.04s/it]"
     ]
    },
    {
     "name": "stdout",
     "output_type": "stream",
     "text": [
      "파일이 저장되었습니다: C:/Users/sykim/Desktop/url_blob/pdf_file\\1566_BN81-25561B-204_EUG_ROPATSCD_KR_KOR_240412.0.pdf\n"
     ]
    },
    {
     "name": "stderr",
     "output_type": "stream",
     "text": [
      "1567it [1:48:34,  2.09s/it]"
     ]
    },
    {
     "name": "stdout",
     "output_type": "stream",
     "text": [
      "파일이 저장되었습니다: C:/Users/sykim/Desktop/url_blob/pdf_file\\1567_BN81-25561B-204_EUG_ROPATSCD_KR_ENG-KR_240412.0.pdf\n"
     ]
    },
    {
     "name": "stderr",
     "output_type": "stream",
     "text": [
      "1568it [1:48:36,  1.92s/it]"
     ]
    },
    {
     "name": "stdout",
     "output_type": "stream",
     "text": [
      "파일이 저장되었습니다: C:/Users/sykim/Desktop/url_blob/pdf_file\\1568_BN81-25561B-204_EUG_ROPATSCD_KR_KOR_240412.0.pdf\n"
     ]
    },
    {
     "name": "stderr",
     "output_type": "stream",
     "text": [
      "1569it [1:48:38,  2.06s/it]"
     ]
    },
    {
     "name": "stdout",
     "output_type": "stream",
     "text": [
      "파일이 저장되었습니다: C:/Users/sykim/Desktop/url_blob/pdf_file\\1569_BN81-25561B-204_EUG_ROPATSCD_KR_ENG-KR_240412.0.pdf\n"
     ]
    },
    {
     "name": "stderr",
     "output_type": "stream",
     "text": [
      "1570it [1:48:41,  2.29s/it]"
     ]
    },
    {
     "name": "stdout",
     "output_type": "stream",
     "text": [
      "파일이 저장되었습니다: C:/Users/sykim/Desktop/url_blob/pdf_file\\1570_BN81-25561B-204_EUG_ROPATSCD_KR_ENG-KR_240412.0.pdf\n"
     ]
    },
    {
     "name": "stderr",
     "output_type": "stream",
     "text": [
      "1571it [1:48:44,  2.60s/it]"
     ]
    },
    {
     "name": "stdout",
     "output_type": "stream",
     "text": [
      "파일이 저장되었습니다: C:/Users/sykim/Desktop/url_blob/pdf_file\\1571_BN81-25561B-204_EUG_ROPATSCD_KR_KOR_240412.0.pdf\n"
     ]
    },
    {
     "name": "stderr",
     "output_type": "stream",
     "text": [
      "1572it [1:48:46,  2.30s/it]"
     ]
    },
    {
     "name": "stdout",
     "output_type": "stream",
     "text": [
      "파일이 저장되었습니다: C:/Users/sykim/Desktop/url_blob/pdf_file\\1572_BN81-25561B-204_EUG_ROPATSCD_KR_ENG-KR_240412.0.pdf\n"
     ]
    },
    {
     "name": "stderr",
     "output_type": "stream",
     "text": [
      "1573it [1:48:49,  2.70s/it]"
     ]
    },
    {
     "name": "stdout",
     "output_type": "stream",
     "text": [
      "파일이 저장되었습니다: C:/Users/sykim/Desktop/url_blob/pdf_file\\1573_BN81-25561B-204_EUG_ROPATSCD_KR_ENG-KR_240412.0.pdf\n"
     ]
    },
    {
     "name": "stderr",
     "output_type": "stream",
     "text": [
      "1574it [1:48:54,  3.13s/it]"
     ]
    },
    {
     "name": "stdout",
     "output_type": "stream",
     "text": [
      "파일이 저장되었습니다: C:/Users/sykim/Desktop/url_blob/pdf_file\\1574_BN81-25561B-204_EUG_ROPATSCD_KR_ENG-KR_240412.0.pdf\n"
     ]
    },
    {
     "name": "stderr",
     "output_type": "stream",
     "text": [
      "1575it [1:48:56,  3.04s/it]"
     ]
    },
    {
     "name": "stdout",
     "output_type": "stream",
     "text": [
      "파일이 저장되었습니다: C:/Users/sykim/Desktop/url_blob/pdf_file\\1575_BN81-25561B-204_EUG_ROPATSCD_KR_ENG-KR_240412.0.pdf\n"
     ]
    },
    {
     "name": "stderr",
     "output_type": "stream",
     "text": [
      "1576it [1:48:58,  2.73s/it]"
     ]
    },
    {
     "name": "stdout",
     "output_type": "stream",
     "text": [
      "파일이 저장되었습니다: C:/Users/sykim/Desktop/url_blob/pdf_file\\1576_BN81-25561B-204_EUG_ROPATSCD_KR_KOR_240412.0.pdf\n"
     ]
    },
    {
     "name": "stderr",
     "output_type": "stream",
     "text": [
      "1577it [1:49:02,  2.86s/it]"
     ]
    },
    {
     "name": "stdout",
     "output_type": "stream",
     "text": [
      "파일이 저장되었습니다: C:/Users/sykim/Desktop/url_blob/pdf_file\\1577_BN81-25561B-204_EUG_ROPATSCD_KR_ENG-KR_240412.0.pdf\n"
     ]
    },
    {
     "name": "stderr",
     "output_type": "stream",
     "text": [
      "1578it [1:49:05,  3.01s/it]"
     ]
    },
    {
     "name": "stdout",
     "output_type": "stream",
     "text": [
      "파일이 저장되었습니다: C:/Users/sykim/Desktop/url_blob/pdf_file\\1578_BN81-25561B-204_EUG_ROPATSCD_KR_ENG-KR_240412.0.pdf\n"
     ]
    },
    {
     "name": "stderr",
     "output_type": "stream",
     "text": [
      "1579it [1:49:06,  2.51s/it]"
     ]
    },
    {
     "name": "stdout",
     "output_type": "stream",
     "text": [
      "파일이 저장되었습니다: C:/Users/sykim/Desktop/url_blob/pdf_file\\1579_BN81-25561B-204_EUG_ROPATSCD_KR_KOR_240412.0.pdf\n"
     ]
    },
    {
     "name": "stderr",
     "output_type": "stream",
     "text": [
      "1580it [1:49:11,  3.10s/it]"
     ]
    },
    {
     "name": "stdout",
     "output_type": "stream",
     "text": [
      "파일이 저장되었습니다: C:/Users/sykim/Desktop/url_blob/pdf_file\\1580_BN81-25561B-204_EUG_ROPATSCD_KR_KOR_240412.0.pdf\n"
     ]
    },
    {
     "name": "stderr",
     "output_type": "stream",
     "text": [
      "1581it [1:49:20,  4.99s/it]"
     ]
    },
    {
     "name": "stdout",
     "output_type": "stream",
     "text": [
      "파일이 저장되었습니다: C:/Users/sykim/Desktop/url_blob/pdf_file\\1581_BN81-25561B-204_EUG_ROPATSCD_KR_KOR_240412.0.pdf\n"
     ]
    },
    {
     "name": "stderr",
     "output_type": "stream",
     "text": [
      "1582it [1:49:24,  4.57s/it]"
     ]
    },
    {
     "name": "stdout",
     "output_type": "stream",
     "text": [
      "파일이 저장되었습니다: C:/Users/sykim/Desktop/url_blob/pdf_file\\1582_BN81-25561B-204_EUG_ROPATSCD_KR_KOR_240412.0.pdf\n"
     ]
    },
    {
     "name": "stderr",
     "output_type": "stream",
     "text": [
      "1583it [1:49:25,  3.71s/it]"
     ]
    },
    {
     "name": "stdout",
     "output_type": "stream",
     "text": [
      "파일이 저장되었습니다: C:/Users/sykim/Desktop/url_blob/pdf_file\\1583_BN81-25561B-204_EUG_ROPATSCD_KR_KOR_240412.0.pdf\n"
     ]
    },
    {
     "name": "stderr",
     "output_type": "stream",
     "text": [
      "1584it [1:49:29,  3.69s/it]"
     ]
    },
    {
     "name": "stdout",
     "output_type": "stream",
     "text": [
      "파일이 저장되었습니다: C:/Users/sykim/Desktop/url_blob/pdf_file\\1584_BN81-25561B-204_EUG_ROPATSCD_KR_KOR_240412.0.pdf\n"
     ]
    },
    {
     "name": "stderr",
     "output_type": "stream",
     "text": [
      "1585it [1:49:31,  3.22s/it]"
     ]
    },
    {
     "name": "stdout",
     "output_type": "stream",
     "text": [
      "파일이 저장되었습니다: C:/Users/sykim/Desktop/url_blob/pdf_file\\1585_BN81-25561B-204_EUG_ROPATSCD_KR_KOR_240412.0.pdf\n"
     ]
    },
    {
     "name": "stderr",
     "output_type": "stream",
     "text": [
      "1586it [1:49:33,  2.80s/it]"
     ]
    },
    {
     "name": "stdout",
     "output_type": "stream",
     "text": [
      "파일이 저장되었습니다: C:/Users/sykim/Desktop/url_blob/pdf_file\\1586_BN81-25561B-204_EUG_ROPATSCD_KR_KOR_240412.0.pdf\n"
     ]
    },
    {
     "name": "stderr",
     "output_type": "stream",
     "text": [
      "1587it [1:49:36,  2.76s/it]"
     ]
    },
    {
     "name": "stdout",
     "output_type": "stream",
     "text": [
      "파일이 저장되었습니다: C:/Users/sykim/Desktop/url_blob/pdf_file\\1587_BN81-25561B-204_EUG_ROPATSCD_KR_ENG-KR_240412.0.pdf\n"
     ]
    },
    {
     "name": "stderr",
     "output_type": "stream",
     "text": [
      "1588it [1:49:39,  2.85s/it]"
     ]
    },
    {
     "name": "stdout",
     "output_type": "stream",
     "text": [
      "파일이 저장되었습니다: C:/Users/sykim/Desktop/url_blob/pdf_file\\1588_BN81-25561B-204_EUG_ROPATSCD_KR_KOR_240412.0.pdf\n"
     ]
    },
    {
     "name": "stderr",
     "output_type": "stream",
     "text": [
      "1589it [1:49:41,  2.79s/it]"
     ]
    },
    {
     "name": "stdout",
     "output_type": "stream",
     "text": [
      "파일이 저장되었습니다: C:/Users/sykim/Desktop/url_blob/pdf_file\\1589_BN81-25561B-204_EUG_ROPATSCD_KR_KOR_240412.0.pdf\n"
     ]
    },
    {
     "name": "stderr",
     "output_type": "stream",
     "text": [
      "1590it [1:49:46,  3.19s/it]"
     ]
    },
    {
     "name": "stdout",
     "output_type": "stream",
     "text": [
      "파일이 저장되었습니다: C:/Users/sykim/Desktop/url_blob/pdf_file\\1590_BN81-25561B-204_EUG_ROPATSCD_KR_ENG-KR_240412.0.pdf\n"
     ]
    },
    {
     "name": "stderr",
     "output_type": "stream",
     "text": [
      "1591it [1:49:48,  2.91s/it]"
     ]
    },
    {
     "name": "stdout",
     "output_type": "stream",
     "text": [
      "파일이 저장되었습니다: C:/Users/sykim/Desktop/url_blob/pdf_file\\1591_BN81-25561B-204_EUG_ROPATSCD_KR_KOR_240412.0.pdf\n"
     ]
    },
    {
     "name": "stderr",
     "output_type": "stream",
     "text": [
      "1592it [1:49:49,  2.53s/it]"
     ]
    },
    {
     "name": "stdout",
     "output_type": "stream",
     "text": [
      "파일이 저장되었습니다: C:/Users/sykim/Desktop/url_blob/pdf_file\\1592_BN81-25561B-204_EUG_ROPATSCD_KR_KOR_240412.0.pdf\n"
     ]
    },
    {
     "name": "stderr",
     "output_type": "stream",
     "text": [
      "1593it [1:49:52,  2.49s/it]"
     ]
    },
    {
     "name": "stdout",
     "output_type": "stream",
     "text": [
      "파일이 저장되었습니다: C:/Users/sykim/Desktop/url_blob/pdf_file\\1593_BN81-25561B-204_EUG_ROPATSCD_KR_KOR_240412.0.pdf\n"
     ]
    },
    {
     "name": "stderr",
     "output_type": "stream",
     "text": [
      "1594it [1:49:56,  3.14s/it]"
     ]
    },
    {
     "name": "stdout",
     "output_type": "stream",
     "text": [
      "파일이 저장되었습니다: C:/Users/sykim/Desktop/url_blob/pdf_file\\1594_BN81-25561B-204_EUG_ROPATSCD_KR_ENG-KR_240412.0.pdf\n"
     ]
    },
    {
     "name": "stderr",
     "output_type": "stream",
     "text": [
      "1595it [1:50:00,  3.12s/it]"
     ]
    },
    {
     "name": "stdout",
     "output_type": "stream",
     "text": [
      "파일이 저장되었습니다: C:/Users/sykim/Desktop/url_blob/pdf_file\\1595_BN81-25561B-204_EUG_ROPATSCD_KR_ENG-KR_240412.0.pdf\n"
     ]
    },
    {
     "name": "stderr",
     "output_type": "stream",
     "text": [
      "1596it [1:50:02,  2.85s/it]"
     ]
    },
    {
     "name": "stdout",
     "output_type": "stream",
     "text": [
      "파일이 저장되었습니다: C:/Users/sykim/Desktop/url_blob/pdf_file\\1596_BN81-25561B-204_EUG_ROPATSCD_KR_KOR_240412.0.pdf\n"
     ]
    },
    {
     "name": "stderr",
     "output_type": "stream",
     "text": [
      "1597it [1:50:06,  3.16s/it]"
     ]
    },
    {
     "name": "stdout",
     "output_type": "stream",
     "text": [
      "파일이 저장되었습니다: C:/Users/sykim/Desktop/url_blob/pdf_file\\1597_BN81-25561B-204_EUG_ROPATSCD_KR_KOR_240412.0.pdf\n"
     ]
    },
    {
     "name": "stderr",
     "output_type": "stream",
     "text": [
      "1598it [1:50:10,  3.52s/it]"
     ]
    },
    {
     "name": "stdout",
     "output_type": "stream",
     "text": [
      "파일이 저장되었습니다: C:/Users/sykim/Desktop/url_blob/pdf_file\\1598_BN81-25561B-204_EUG_ROPATSCD_KR_ENG-KR_240412.0.pdf\n"
     ]
    },
    {
     "name": "stderr",
     "output_type": "stream",
     "text": [
      "1599it [1:50:14,  3.58s/it]"
     ]
    },
    {
     "name": "stdout",
     "output_type": "stream",
     "text": [
      "파일이 저장되었습니다: C:/Users/sykim/Desktop/url_blob/pdf_file\\1599_BN81-25561B-204_EUG_ROPATSCD_KR_KOR_240412.0.pdf\n"
     ]
    },
    {
     "name": "stderr",
     "output_type": "stream",
     "text": [
      "1600it [1:50:17,  3.44s/it]"
     ]
    },
    {
     "name": "stdout",
     "output_type": "stream",
     "text": [
      "파일이 저장되었습니다: C:/Users/sykim/Desktop/url_blob/pdf_file\\1600_BN81-25561B-204_EUG_ROPATSCD_KR_KOR_240412.0.pdf\n"
     ]
    },
    {
     "name": "stderr",
     "output_type": "stream",
     "text": [
      "1601it [1:50:19,  3.07s/it]"
     ]
    },
    {
     "name": "stdout",
     "output_type": "stream",
     "text": [
      "파일이 저장되었습니다: C:/Users/sykim/Desktop/url_blob/pdf_file\\1601_BN81-25561B-204_EUG_ROPATSCD_KR_KOR_240412.0.pdf\n"
     ]
    },
    {
     "name": "stderr",
     "output_type": "stream",
     "text": [
      "1602it [1:50:22,  2.95s/it]"
     ]
    },
    {
     "name": "stdout",
     "output_type": "stream",
     "text": [
      "파일이 저장되었습니다: C:/Users/sykim/Desktop/url_blob/pdf_file\\1602_BN81-25561B-204_EUG_ROPATSCD_KR_ENG-KR_240412.0.pdf\n"
     ]
    },
    {
     "name": "stderr",
     "output_type": "stream",
     "text": [
      "1603it [1:50:24,  2.79s/it]"
     ]
    },
    {
     "name": "stdout",
     "output_type": "stream",
     "text": [
      "파일이 저장되었습니다: C:/Users/sykim/Desktop/url_blob/pdf_file\\1603_BN81-25561B-204_EUG_ROPATSCD_KR_KOR_240412.0.pdf\n"
     ]
    },
    {
     "name": "stderr",
     "output_type": "stream",
     "text": [
      "1604it [1:50:26,  2.53s/it]"
     ]
    },
    {
     "name": "stdout",
     "output_type": "stream",
     "text": [
      "파일이 저장되었습니다: C:/Users/sykim/Desktop/url_blob/pdf_file\\1604_BN81-25561B-204_EUG_ROPATSCD_KR_ENG-KR_240412.0.pdf\n"
     ]
    },
    {
     "name": "stderr",
     "output_type": "stream",
     "text": [
      "1605it [1:50:30,  2.83s/it]"
     ]
    },
    {
     "name": "stdout",
     "output_type": "stream",
     "text": [
      "파일이 저장되었습니다: C:/Users/sykim/Desktop/url_blob/pdf_file\\1605_BN81-25561B-204_EUG_ROPATSCD_KR_ENG-KR_240412.0.pdf\n"
     ]
    },
    {
     "name": "stderr",
     "output_type": "stream",
     "text": [
      "1606it [1:50:31,  2.46s/it]"
     ]
    },
    {
     "name": "stdout",
     "output_type": "stream",
     "text": [
      "파일이 저장되었습니다: C:/Users/sykim/Desktop/url_blob/pdf_file\\1606_BN81-25561B-204_EUG_ROPATSCD_KR_ENG-KR_240412.0.pdf\n"
     ]
    },
    {
     "name": "stderr",
     "output_type": "stream",
     "text": [
      "1607it [1:50:32,  1.97s/it]"
     ]
    },
    {
     "name": "stdout",
     "output_type": "stream",
     "text": [
      "파일이 저장되었습니다: C:/Users/sykim/Desktop/url_blob/pdf_file\\1607_SM-R390_UM_EU_Eng_Rev.1.2_240430.pdf\n"
     ]
    },
    {
     "name": "stderr",
     "output_type": "stream",
     "text": [
      "1608it [1:50:33,  1.69s/it]"
     ]
    },
    {
     "name": "stdout",
     "output_type": "stream",
     "text": [
      "파일이 저장되었습니다: C:/Users/sykim/Desktop/url_blob/pdf_file\\1608_SM-R390_UM_Kor_Rev.1.1_240430.pdf\n"
     ]
    },
    {
     "name": "stderr",
     "output_type": "stream",
     "text": [
      "1609it [1:50:36,  2.02s/it]"
     ]
    },
    {
     "name": "stdout",
     "output_type": "stream",
     "text": [
      "파일이 저장되었습니다: C:/Users/sykim/Desktop/url_blob/pdf_file\\1609_SM-R93X_R94X_R95X_R96X_UM_Android_Kor_Rev.1.2_240430.pdf\n"
     ]
    },
    {
     "name": "stderr",
     "output_type": "stream",
     "text": [
      "1610it [1:50:37,  1.85s/it]"
     ]
    },
    {
     "name": "stdout",
     "output_type": "stream",
     "text": [
      "파일이 저장되었습니다: C:/Users/sykim/Desktop/url_blob/pdf_file\\1610_SM-R93X_R94X_R95X_R96X_UM_EU_Android_Eng_Rev.1.2_240430.pdf\n"
     ]
    },
    {
     "name": "stderr",
     "output_type": "stream",
     "text": [
      "1611it [1:50:45,  3.67s/it]"
     ]
    },
    {
     "name": "stdout",
     "output_type": "stream",
     "text": [
      "파일이 저장되었습니다: C:/Users/sykim/Desktop/url_blob/pdf_file\\1611_Manual_User_NZ62DG300CFK_NZ62DG300CFW.pdf\n"
     ]
    },
    {
     "name": "stderr",
     "output_type": "stream",
     "text": [
      "1612it [1:51:00,  7.10s/it]"
     ]
    },
    {
     "name": "stdout",
     "output_type": "stream",
     "text": [
      "파일이 저장되었습니다: C:/Users/sykim/Desktop/url_blob/pdf_file\\1612_Manual_User_NZ31DG200CFH_NZ31DG200CFK.pdf\n"
     ]
    },
    {
     "name": "stderr",
     "output_type": "stream",
     "text": [
      "1613it [1:51:05,  6.35s/it]"
     ]
    },
    {
     "name": "stdout",
     "output_type": "stream",
     "text": [
      "파일이 저장되었습니다: C:/Users/sykim/Desktop/url_blob/pdf_file\\1613_OID76616_IB_T-PJT_WD8000D_7LCD_KO_240530.pdf\n"
     ]
    },
    {
     "name": "stderr",
     "output_type": "stream",
     "text": [
      "1614it [1:51:16,  7.80s/it]"
     ]
    },
    {
     "name": "stdout",
     "output_type": "stream",
     "text": [
      "파일 다운로드 또는 저장 중 오류 발생: https://downloadcenter.samsung.com/content/UM/202405/20240531033616001/BN81-25972D-00_WPG_M50D M70D M80D_KR_KOR_240411.0.pdf. 오류: HTTPSConnectionPool(host='downloadcenter.samsung.com', port=443): Max retries exceeded with url: /content/UM/202405/20240531033616001/BN81-25972D-00_WPG_M50D%20M70D%20M80D_KR_KOR_240411.0.pdf (Caused by NameResolutionError(\"<urllib3.connection.HTTPSConnection object at 0x000002A16E421D00>: Failed to resolve 'downloadcenter.samsung.com' ([Errno 11001] getaddrinfo failed)\"))\n"
     ]
    },
    {
     "name": "stderr",
     "output_type": "stream",
     "text": [
      "1615it [1:51:20,  6.65s/it]"
     ]
    },
    {
     "name": "stdout",
     "output_type": "stream",
     "text": [
      "파일이 저장되었습니다: C:/Users/sykim/Desktop/url_blob/pdf_file\\1615_BN81-25971A-210_EUG_SMGRPNAKD_NA SA KR_KOR_240425.0.pdf\n"
     ]
    },
    {
     "name": "stderr",
     "output_type": "stream",
     "text": [
      "1616it [1:51:22,  5.27s/it]"
     ]
    },
    {
     "name": "stdout",
     "output_type": "stream",
     "text": [
      "파일이 저장되었습니다: C:/Users/sykim/Desktop/url_blob/pdf_file\\1616_BN81-25972D-00_WPG_M50D M70D M80D_KR_KOR_240411.0.pdf\n"
     ]
    },
    {
     "name": "stderr",
     "output_type": "stream",
     "text": [
      "1617it [1:51:25,  4.60s/it]"
     ]
    },
    {
     "name": "stdout",
     "output_type": "stream",
     "text": [
      "파일이 저장되었습니다: C:/Users/sykim/Desktop/url_blob/pdf_file\\1617_BN81-25971A-210_EUG_SMGRPNAKD_NA SA KR_KOR_240425.0.pdf\n"
     ]
    },
    {
     "name": "stderr",
     "output_type": "stream",
     "text": [
      "1618it [1:51:28,  4.10s/it]"
     ]
    },
    {
     "name": "stdout",
     "output_type": "stream",
     "text": [
      "파일이 저장되었습니다: C:/Users/sykim/Desktop/url_blob/pdf_file\\1618_BN81-25972D-00_WPG_M50D M70D M80D_KR_KOR_240411.0.pdf\n"
     ]
    },
    {
     "name": "stderr",
     "output_type": "stream",
     "text": [
      "1619it [1:51:31,  3.81s/it]"
     ]
    },
    {
     "name": "stdout",
     "output_type": "stream",
     "text": [
      "파일이 저장되었습니다: C:/Users/sykim/Desktop/url_blob/pdf_file\\1619_BN81-25971A-210_EUG_SMGRPNAKD_NA SA KR_KOR_240425.0.pdf\n"
     ]
    },
    {
     "name": "stderr",
     "output_type": "stream",
     "text": [
      "1620it [1:51:33,  3.22s/it]"
     ]
    },
    {
     "name": "stdout",
     "output_type": "stream",
     "text": [
      "파일이 저장되었습니다: C:/Users/sykim/Desktop/url_blob/pdf_file\\1620_BN81-25972D-00_WPG_M50D M70D M80D_KR_KOR_240411.0.pdf\n"
     ]
    },
    {
     "name": "stderr",
     "output_type": "stream",
     "text": [
      "1621it [1:51:39,  3.91s/it]"
     ]
    },
    {
     "name": "stdout",
     "output_type": "stream",
     "text": [
      "파일이 저장되었습니다: C:/Users/sykim/Desktop/url_blob/pdf_file\\1621_BN81-25971A-210_EUG_SMGRPNAKD_NA SA KR_KOR_240425.0.pdf\n"
     ]
    },
    {
     "name": "stderr",
     "output_type": "stream",
     "text": [
      "1622it [1:51:43,  3.99s/it]"
     ]
    },
    {
     "name": "stdout",
     "output_type": "stream",
     "text": [
      "파일이 저장되었습니다: C:/Users/sykim/Desktop/url_blob/pdf_file\\1622_BN81-25972D-00_WPG_M50D M70D M80D_KR_KOR_240411.0.pdf\n"
     ]
    },
    {
     "name": "stderr",
     "output_type": "stream",
     "text": [
      "1623it [1:51:46,  3.74s/it]"
     ]
    },
    {
     "name": "stdout",
     "output_type": "stream",
     "text": [
      "파일이 저장되었습니다: C:/Users/sykim/Desktop/url_blob/pdf_file\\1623_BN81-25971A-210_EUG_SMGRPNAKD_NA SA KR_KOR_240425.0.pdf\n"
     ]
    },
    {
     "name": "stderr",
     "output_type": "stream",
     "text": [
      "1624it [1:51:47,  2.95s/it]"
     ]
    },
    {
     "name": "stdout",
     "output_type": "stream",
     "text": [
      "파일이 저장되었습니다: C:/Users/sykim/Desktop/url_blob/pdf_file\\1624_BN81-25972D-00_WPG_M50D M70D M80D_KR_KOR_240411.0.pdf\n"
     ]
    },
    {
     "name": "stderr",
     "output_type": "stream",
     "text": [
      "1625it [1:51:49,  2.70s/it]"
     ]
    },
    {
     "name": "stdout",
     "output_type": "stream",
     "text": [
      "파일이 저장되었습니다: C:/Users/sykim/Desktop/url_blob/pdf_file\\1625_BN81-25971A-210_EUG_SMGRPNAKD_NA SA KR_KOR_240425.0.pdf\n"
     ]
    },
    {
     "name": "stderr",
     "output_type": "stream",
     "text": [
      "1626it [1:51:50,  2.17s/it]"
     ]
    },
    {
     "name": "stdout",
     "output_type": "stream",
     "text": [
      "파일이 저장되었습니다: C:/Users/sykim/Desktop/url_blob/pdf_file\\1626_BN81-25972D-00_WPG_M50D M70D M80D_KR_KOR_240411.0.pdf\n"
     ]
    },
    {
     "name": "stderr",
     "output_type": "stream",
     "text": [
      "1627it [1:51:53,  2.41s/it]"
     ]
    },
    {
     "name": "stdout",
     "output_type": "stream",
     "text": [
      "파일이 저장되었습니다: C:/Users/sykim/Desktop/url_blob/pdf_file\\1627_BN81-25971A-210_EUG_SMGRPNAKD_NA SA KR_KOR_240425.0.pdf\n"
     ]
    },
    {
     "name": "stderr",
     "output_type": "stream",
     "text": [
      "1628it [1:51:55,  2.33s/it]"
     ]
    },
    {
     "name": "stdout",
     "output_type": "stream",
     "text": [
      "파일이 저장되었습니다: C:/Users/sykim/Desktop/url_blob/pdf_file\\1628_BN81-25972D-00_WPG_M50D M70D M80D_KR_KOR_240411.0.pdf\n"
     ]
    },
    {
     "name": "stderr",
     "output_type": "stream",
     "text": [
      "1629it [1:51:57,  2.26s/it]"
     ]
    },
    {
     "name": "stdout",
     "output_type": "stream",
     "text": [
      "파일이 저장되었습니다: C:/Users/sykim/Desktop/url_blob/pdf_file\\1629_BN81-25971A-210_EUG_SMGRPNAKD_NA SA KR_KOR_240425.0.pdf\n"
     ]
    },
    {
     "name": "stderr",
     "output_type": "stream",
     "text": [
      "1630it [1:51:59,  1.98s/it]"
     ]
    },
    {
     "name": "stdout",
     "output_type": "stream",
     "text": [
      "파일이 저장되었습니다: C:/Users/sykim/Desktop/url_blob/pdf_file\\1630_BN81-25972D-00_WPG_M50D M70D M80D_KR_KOR_240411.0.pdf\n"
     ]
    },
    {
     "name": "stderr",
     "output_type": "stream",
     "text": [
      "1631it [1:52:01,  2.23s/it]"
     ]
    },
    {
     "name": "stdout",
     "output_type": "stream",
     "text": [
      "파일이 저장되었습니다: C:/Users/sykim/Desktop/url_blob/pdf_file\\1631_BN81-25971A-210_EUG_SMGRPNAKD_NA SA KR_KOR_240425.0.pdf\n"
     ]
    },
    {
     "name": "stderr",
     "output_type": "stream",
     "text": [
      "1632it [1:52:06,  3.04s/it]"
     ]
    },
    {
     "name": "stdout",
     "output_type": "stream",
     "text": [
      "파일이 저장되었습니다: C:/Users/sykim/Desktop/url_blob/pdf_file\\1632_AH81-17409U-01_SUG_HW-Q990D_KR_KOR_240419.0.pdf\n"
     ]
    },
    {
     "name": "stderr",
     "output_type": "stream",
     "text": [
      "1633it [1:52:08,  2.74s/it]"
     ]
    },
    {
     "name": "stdout",
     "output_type": "stream",
     "text": [
      "파일이 저장되었습니다: C:/Users/sykim/Desktop/url_blob/pdf_file\\1633_AH81-17410U-01_SUG_HW-Q930D Q800D_KR_KOR_240419.0.pdf\n"
     ]
    },
    {
     "name": "stderr",
     "output_type": "stream",
     "text": [
      "1634it [1:52:11,  2.65s/it]"
     ]
    },
    {
     "name": "stdout",
     "output_type": "stream",
     "text": [
      "파일이 저장되었습니다: C:/Users/sykim/Desktop/url_blob/pdf_file\\1634_AH81-17410U-01_SUG_HW-Q930D Q800D_KR_KOR_240419.0.pdf\n"
     ]
    },
    {
     "name": "stderr",
     "output_type": "stream",
     "text": [
      "1635it [1:52:14,  2.78s/it]"
     ]
    },
    {
     "name": "stdout",
     "output_type": "stream",
     "text": [
      "파일이 저장되었습니다: C:/Users/sykim/Desktop/url_blob/pdf_file\\1635_AH81-17411T-01_SUG_HW-Q700D_KR_KOR_240419.0.pdf\n"
     ]
    },
    {
     "name": "stderr",
     "output_type": "stream",
     "text": [
      "1636it [1:52:17,  2.76s/it]"
     ]
    },
    {
     "name": "stdout",
     "output_type": "stream",
     "text": [
      "파일이 저장되었습니다: C:/Users/sykim/Desktop/url_blob/pdf_file\\1636_AH81-17428U-01_SUG_HW-S800D S720D_KR_KOR_240517.0.pdf\n"
     ]
    },
    {
     "name": "stderr",
     "output_type": "stream",
     "text": [
      "1637it [1:52:19,  2.67s/it]"
     ]
    },
    {
     "name": "stdout",
     "output_type": "stream",
     "text": [
      "파일이 저장되었습니다: C:/Users/sykim/Desktop/url_blob/pdf_file\\1637_AH81-17428U-01_SUG_HW-S800D S720D_KR_KOR_240517.0.pdf\n"
     ]
    },
    {
     "name": "stderr",
     "output_type": "stream",
     "text": [
      "1638it [1:52:22,  2.89s/it]"
     ]
    },
    {
     "name": "stdout",
     "output_type": "stream",
     "text": [
      "파일이 저장되었습니다: C:/Users/sykim/Desktop/url_blob/pdf_file\\1638_AH81-17427J-00_WUG_SBS800D S720D_KR_KOR_240308.0.pdf\n"
     ]
    },
    {
     "name": "stderr",
     "output_type": "stream",
     "text": [
      "1639it [1:52:27,  3.45s/it]"
     ]
    },
    {
     "name": "stdout",
     "output_type": "stream",
     "text": [
      "파일이 저장되었습니다: C:/Users/sykim/Desktop/url_blob/pdf_file\\1639_AH81-17428U-01_SUG_HW-S800D S720D_KR_KOR_240517.0.pdf\n"
     ]
    },
    {
     "name": "stderr",
     "output_type": "stream",
     "text": [
      "1640it [1:52:29,  3.06s/it]"
     ]
    },
    {
     "name": "stdout",
     "output_type": "stream",
     "text": [
      "파일이 저장되었습니다: C:/Users/sykim/Desktop/url_blob/pdf_file\\1640_AH81-17430U-00_SUG_HW-S60D S61D_KR_KOR_240103.0.pdf\n"
     ]
    },
    {
     "name": "stderr",
     "output_type": "stream",
     "text": [
      "1641it [1:52:32,  3.07s/it]"
     ]
    },
    {
     "name": "stdout",
     "output_type": "stream",
     "text": [
      "파일이 저장되었습니다: C:/Users/sykim/Desktop/url_blob/pdf_file\\1641_AH81-17431J-00_WUG_HW-S60D S61D_KR_KOR_240320.0.pdf\n"
     ]
    },
    {
     "name": "stderr",
     "output_type": "stream",
     "text": [
      "1642it [1:52:40,  4.52s/it]"
     ]
    },
    {
     "name": "stdout",
     "output_type": "stream",
     "text": [
      "파일이 저장되었습니다: C:/Users/sykim/Desktop/url_blob/pdf_file\\1642_AH81-17427J-00_WUG_SBS800D S720D_KR_KOR_240308.0.pdf\n"
     ]
    },
    {
     "name": "stderr",
     "output_type": "stream",
     "text": [
      "1643it [1:52:45,  4.45s/it]"
     ]
    },
    {
     "name": "stdout",
     "output_type": "stream",
     "text": [
      "파일이 저장되었습니다: C:/Users/sykim/Desktop/url_blob/pdf_file\\1643_AH81-17428U-01_SUG_HW-S800D S720D_KR_KOR_240517.0.pdf\n"
     ]
    },
    {
     "name": "stderr",
     "output_type": "stream",
     "text": [
      "1644it [1:52:48,  4.01s/it]"
     ]
    },
    {
     "name": "stdout",
     "output_type": "stream",
     "text": [
      "파일이 저장되었습니다: C:/Users/sykim/Desktop/url_blob/pdf_file\\1644_AH81-17430U-00_SUG_HW-S60D S61D_KR_KOR_240103.0.pdf\n"
     ]
    },
    {
     "name": "stderr",
     "output_type": "stream",
     "text": [
      "1645it [1:52:51,  3.86s/it]"
     ]
    },
    {
     "name": "stdout",
     "output_type": "stream",
     "text": [
      "파일이 저장되었습니다: C:/Users/sykim/Desktop/url_blob/pdf_file\\1645_AH81-17431J-00_WUG_HW-S60D S61D_KR_KOR_240320.0.pdf\n"
     ]
    },
    {
     "name": "stderr",
     "output_type": "stream",
     "text": [
      "1646it [1:52:53,  3.36s/it]"
     ]
    },
    {
     "name": "stdout",
     "output_type": "stream",
     "text": [
      "파일이 저장되었습니다: C:/Users/sykim/Desktop/url_blob/pdf_file\\1646_BN81-25285D-00_WEB_G95C_KR_KOR_231103.0.pdf\n"
     ]
    },
    {
     "name": "stderr",
     "output_type": "stream",
     "text": [
      "1647it [1:53:02,  4.81s/it]"
     ]
    },
    {
     "name": "stdout",
     "output_type": "stream",
     "text": [
      "파일이 저장되었습니다: C:/Users/sykim/Desktop/url_blob/pdf_file\\1647_NZ63B4026AK_IB_FULL_KO_240614.pdf\n"
     ]
    },
    {
     "name": "stderr",
     "output_type": "stream",
     "text": [
      "1648it [1:53:08,  5.43s/it]"
     ]
    },
    {
     "name": "stdout",
     "output_type": "stream",
     "text": [
      "파일이 저장되었습니다: C:/Users/sykim/Desktop/url_blob/pdf_file\\1648_NZ63B5056CB_IB_FULL_KO_240614.pdf\n"
     ]
    },
    {
     "name": "stderr",
     "output_type": "stream",
     "text": [
      "1649it [1:53:12,  5.01s/it]"
     ]
    },
    {
     "name": "stdout",
     "output_type": "stream",
     "text": [
      "파일이 저장되었습니다: C:/Users/sykim/Desktop/url_blob/pdf_file\\1649_OID58090_IB_A2_WA23A8377K_KO_240612.pdf\n"
     ]
    },
    {
     "name": "stderr",
     "output_type": "stream",
     "text": [
      "1650it [1:53:18,  5.05s/it]"
     ]
    },
    {
     "name": "stdout",
     "output_type": "stream",
     "text": [
      "파일이 저장되었습니다: C:/Users/sykim/Desktop/url_blob/pdf_file\\1650_OID63033_IB_A2_WA21A8370KV_KO_240611.pdf\n"
     ]
    },
    {
     "name": "stderr",
     "output_type": "stream",
     "text": [
      "1651it [1:53:21,  4.43s/it]"
     ]
    },
    {
     "name": "stdout",
     "output_type": "stream",
     "text": [
      "파일이 저장되었습니다: C:/Users/sykim/Desktop/url_blob/pdf_file\\1651_OID63035_IB_A2_WA23A8375KV_KO_240611.pdf\n"
     ]
    },
    {
     "name": "stderr",
     "output_type": "stream",
     "text": [
      "1652it [1:53:25,  4.55s/it]"
     ]
    },
    {
     "name": "stdout",
     "output_type": "stream",
     "text": [
      "파일이 저장되었습니다: C:/Users/sykim/Desktop/url_blob/pdf_file\\1652_OID67916_IB_WA6000C_BEST_KO_240611.pdf\n"
     ]
    },
    {
     "name": "stderr",
     "output_type": "stream",
     "text": [
      "1653it [1:53:29,  4.19s/it]"
     ]
    },
    {
     "name": "stdout",
     "output_type": "stream",
     "text": [
      "파일이 저장되었습니다: C:/Users/sykim/Desktop/url_blob/pdf_file\\1653_OID69914_IB_WA6000C_BETTER_KO_240611.pdf\n"
     ]
    },
    {
     "name": "stderr",
     "output_type": "stream",
     "text": [
      "1654it [1:53:34,  4.60s/it]"
     ]
    },
    {
     "name": "stdout",
     "output_type": "stream",
     "text": [
      "파일이 저장되었습니다: C:/Users/sykim/Desktop/url_blob/pdf_file\\1654_OID69916_IB_WA6000C_GOOD_KO_240611.pdf\n"
     ]
    },
    {
     "name": "stderr",
     "output_type": "stream",
     "text": [
      "1655it [1:53:38,  4.25s/it]"
     ]
    },
    {
     "name": "stdout",
     "output_type": "stream",
     "text": [
      "파일이 저장되었습니다: C:/Users/sykim/Desktop/url_blob/pdf_file\\1655_OID71048_IB_WA5000C_GOOD_KO_240614.pdf\n"
     ]
    },
    {
     "name": "stderr",
     "output_type": "stream",
     "text": [
      "1656it [1:53:41,  4.00s/it]"
     ]
    },
    {
     "name": "stdout",
     "output_type": "stream",
     "text": [
      "파일이 저장되었습니다: C:/Users/sykim/Desktop/url_blob/pdf_file\\1656_OID71050_IB_WA6000C_BETTER_KO_240611.pdf\n"
     ]
    },
    {
     "name": "stderr",
     "output_type": "stream",
     "text": [
      "1657it [1:53:42,  3.05s/it]"
     ]
    },
    {
     "name": "stdout",
     "output_type": "stream",
     "text": [
      "파일이 저장되었습니다: C:/Users/sykim/Desktop/url_blob/pdf_file\\1657_RB3000_DA68-04069G-02_SVC.pdf\n"
     ]
    },
    {
     "name": "stderr",
     "output_type": "stream",
     "text": [
      "1658it [1:53:48,  4.12s/it]"
     ]
    },
    {
     "name": "stdout",
     "output_type": "stream",
     "text": [
      "파일이 저장되었습니다: C:/Users/sykim/Desktop/url_blob/pdf_file\\1658_IB_FULL_NZ9000D_NZ63DB857_657_607_KO_240617.pdf\n"
     ]
    },
    {
     "name": "stderr",
     "output_type": "stream",
     "text": [
      "\n"
     ]
    }
   ],
   "source": [
    "import requests\n",
    "import pandas as pd\n",
    "import re\n",
    "import os\n",
    "import shutil\n",
    "from tqdm import tqdm\n",
    "\n",
    "# CSV 파일 경로 및 저장 경로\n",
    "excel_file_path = 'C:/Users/sykim/Desktop/url_blob/merged_scms_v0.3.xlsx'\n",
    "save_dir = 'C:/Users/sykim/Desktop/url_blob/pdf_file'\n",
    "\n",
    "# 디렉토리가 존재하지 않으면 생성\n",
    "os.makedirs(save_dir, exist_ok=True)\n",
    "\n",
    "# CSV 파일 읽기\n",
    "df = pd.read_excel(excel_file_path, sheet_name=0)\n",
    "\n",
    "# URL 컬럼을 순회하면서 PDF 다운로드 및 파일명 저장\n",
    "for index, row in tqdm(df.iterrows()):\n",
    "    url = row['URL']\n",
    "    seq = row['SEQ']  # SEQ 값을 가져옴\n",
    "\n",
    "    # 정규식을 사용해 URL의 파일명 부분만 추출\n",
    "    match = re.search(r'/([^/]+)\\.pdf$', url)\n",
    "    if match:\n",
    "        url_filename = match.group(1)  # url_filename을 파일명으로 사용\n",
    "    else:\n",
    "        print(f\"URL에서 파일명을 추출할 수 없습니다: {url}\")\n",
    "        continue\n",
    "\n",
    "    # 파일명에서 허용되지 않는 문자 제거 (Windows 시스템 호환)\n",
    "    url_filename = re.sub(r'[<>:\"/\\\\|?*]', \"_\", url_filename)\n",
    "\n",
    "    # SEQ 값을 포함한 파일명 지정\n",
    "    file_name = f\"{seq}_{url_filename}.pdf\"\n",
    "    file_path = os.path.join(save_dir, file_name)\n",
    "\n",
    "    try:\n",
    "        # PDF 다운로드 및 저장\n",
    "        response = requests.get(url, stream=True)  # 스트림 모드로 다운로드하여 효율적 저장\n",
    "        if response.status_code == 200:\n",
    "            with open(file_path, 'wb') as file:\n",
    "                shutil.copyfileobj(response.raw, file)  # 빠른 저장을 위해 shutil 사용\n",
    "            print(f\"파일이 저장되었습니다: {file_path}\")\n",
    "        else:\n",
    "            print(f\"URL에서 파일을 다운로드하지 못했습니다: {url}\")\n",
    "    except Exception as e:\n",
    "        print(f\"파일 다운로드 또는 저장 중 오류 발생: {url}. 오류: {e}\")\n",
    "    finally:\n",
    "        response.close()  # 리소스 해제\n"
   ]
  },
  {
   "cell_type": "code",
   "execution_count": null,
   "metadata": {},
   "outputs": [],
   "source": []
  }
 ],
 "metadata": {
  "kernelspec": {
   "display_name": "test",
   "language": "python",
   "name": "python3"
  },
  "language_info": {
   "codemirror_mode": {
    "name": "ipython",
    "version": 3
   },
   "file_extension": ".py",
   "mimetype": "text/x-python",
   "name": "python",
   "nbconvert_exporter": "python",
   "pygments_lexer": "ipython3",
   "version": "3.11.4"
  }
 },
 "nbformat": 4,
 "nbformat_minor": 2
}
