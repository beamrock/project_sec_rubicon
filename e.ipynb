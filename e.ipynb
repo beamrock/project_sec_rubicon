{
 "cells": [
  {
   "cell_type": "markdown",
   "metadata": {},
   "source": [
    "# execute_values 사용 \n",
    "    - 줄바꿈 천처리 사용 x 그대로 삽입"
   ]
  },
  {
   "cell_type": "code",
   "execution_count": null,
   "metadata": {},
   "outputs": [
    {
     "name": "stdout",
     "output_type": "stream",
     "text": [
      "DataFrame has been successfully loaded to the PostgreSQL database using execute_values.\n"
     ]
    }
   ],
   "source": [
    "import pandas as pd\n",
    "from psycopg2 import connect\n",
    "from psycopg2.extras import execute_values\n",
    "\n",
    "import os\n",
    "from dotenv import load_dotenv\n",
    "\n",
    "# .env 파일 로드\n",
    "load_dotenv()\n",
    "# PostgreSQL 연결 설정\n",
    "conn_params = {\n",
    "    'host': os.getenv('DB_HOST'),\n",
    "    'port': os.getenv('DB_PORT'),\n",
    "    'database': os.getenv('DB_DATABASE'),\n",
    "    'user': os.getenv('DB_USER'),\n",
    "    'password': os.getenv('DB_PASSWORD')\n",
    "}\n",
    "\n",
    "# 엑셀 파일을 읽어 데이터프레임으로 변환\n",
    "excel_file_path = 'C:/Users/sphong/hong/GOODS_BASE_202410301537_2.xlsx'\n",
    "df = pd.read_excel(excel_file_path, sheet_name=0)\n",
    "\n",
    "# 칼럼 이름을 소문자로 변환\n",
    "df.columns = [col.lower() for col in df.columns]\n",
    "\n",
    "# 테이블 이름 설정\n",
    "table_name = 'product_code_info'  # 실제 적재할 테이블 이름을 입력하세요\n",
    "\n",
    "# PostgreSQL 연결\n",
    "try:\n",
    "    # 데이터베이스 연결 설정\n",
    "    conn = connect(\n",
    "        host=conn_params['host'],\n",
    "        port=conn_params['port'],\n",
    "        database=conn_params['database'],\n",
    "        user=conn_params['user'],\n",
    "        password=conn_params['password']\n",
    "    )\n",
    "    cursor = conn.cursor()\n",
    "    \n",
    "    # SQL 구문과 값을 생성\n",
    "    columns = ', '.join(df.columns)\n",
    "    sql = f\"INSERT INTO {table_name} ({columns}) VALUES %s\"\n",
    "    values = [tuple(row) for row in df.to_numpy()]  # 데이터프레임의 각 행을 튜플로 변환하여 리스트에 저장\n",
    "\n",
    "    # execute_values를 사용하여 여러 행 삽입\n",
    "    execute_values(cursor, sql, values)\n",
    "    \n",
    "    # 커밋하여 변경 사항 저장\n",
    "    conn.commit()\n",
    "    print(\"DataFrame has been successfully loaded to the PostgreSQL database using execute_values.\")\n",
    "\n",
    "except Exception as e:\n",
    "    print(f\"An error occurred: {e}\")\n",
    "finally:\n",
    "    # 커서와 연결 닫기\n",
    "    if cursor:\n",
    "        cursor.close()\n",
    "    if conn:\n",
    "        conn.close()\n"
   ]
  },
  {
   "cell_type": "markdown",
   "metadata": {},
   "source": [
    "    - 줄바꿈 천처리 사용하여 데이터 삽입\n",
    "    - df = df.applymap(lambda x: x.replace('\\n', '').replace('\\t', '') if isinstance(x, str) else x)"
   ]
  },
  {
   "cell_type": "code",
   "execution_count": null,
   "metadata": {},
   "outputs": [
    {
     "name": "stderr",
     "output_type": "stream",
     "text": [
      "C:\\Users\\클루커스\\AppData\\Local\\Temp\\ipykernel_12108\\2793459269.py:22: FutureWarning: DataFrame.applymap has been deprecated. Use DataFrame.map instead.\n",
      "  df = df.applymap(lambda x: x.replace('\\n', '').replace('\\t', '') if isinstance(x, str) else x)\n"
     ]
    },
    {
     "name": "stdout",
     "output_type": "stream",
     "text": [
      "DataFrame has been successfully loaded to the PostgreSQL database using execute_values.\n"
     ]
    }
   ],
   "source": [
    "import pandas as pd\n",
    "from psycopg2 import connect\n",
    "from psycopg2.extras import execute_values\n",
    "\n",
    "load_dotenv()\n",
    "# PostgreSQL 연결 설정\n",
    "conn_params = {\n",
    "    'host': os.getenv('DB_HOST'),\n",
    "    'port': os.getenv('DB_PORT'),\n",
    "    'database': os.getenv('DB_DATABASE'),\n",
    "    'user': os.getenv('DB_USER'),\n",
    "    'password': os.getenv('DB_PASSWORD')\n",
    "}\n",
    "\n",
    "# 엑셀 파일을 읽어 데이터프레임으로 변환\n",
    "excel_file_path = 'C:/Users/sphong/hong/GOODS_BASE_202410301537_1.xlsx'\n",
    "df = pd.read_excel(excel_file_path, sheet_name=0)\n",
    "\n",
    "# 칼럼 이름을 소문자로 변환\n",
    "df.columns = [col.lower() for col in df.columns]\n",
    "\n",
    "# 줄바꿈(\\n)과 탭(\\t) 제거\n",
    "df = df.applymap(lambda x: x.replace('\\n', '').replace('\\t', '') if isinstance(x, str) else x)\n",
    "\n",
    "# 테이블 이름 설정\n",
    "table_name = 'product_code_info2'  # 실제 적재할 테이블 이름을 입력하세요\n",
    "\n",
    "# PostgreSQL 연결\n",
    "try:\n",
    "    # 데이터베이스 연결 설정\n",
    "    conn = connect(\n",
    "        host=conn_params['host'],\n",
    "        port=conn_params['port'],\n",
    "        database=conn_params['database'],\n",
    "        user=conn_params['user'],\n",
    "        password=conn_params['password']\n",
    "    )\n",
    "    cursor = conn.cursor()\n",
    "    \n",
    "    # SQL 구문과 값을 생성\n",
    "    columns = ', '.join(df.columns)\n",
    "    sql = f\"INSERT INTO {table_name} ({columns}) VALUES %s\"\n",
    "    values = [tuple(row) for row in df.to_numpy()]  # 데이터프레임의 각 행을 튜플로 변환하여 리스트에 저장\n",
    "\n",
    "    # execute_values를 사용하여 여러 행 삽입\n",
    "    execute_values(cursor, sql, values)\n",
    "    \n",
    "    # 커밋하여 변경 사항 저장\n",
    "    conn.commit()\n",
    "    print(\"DataFrame has been successfully loaded to the PostgreSQL database using execute_values.\")\n",
    "\n",
    "except Exception as e:\n",
    "    print(f\"An error occurred: {e}\")\n",
    "finally:\n",
    "    # 커서와 연결 닫기\n",
    "    if cursor:\n",
    "        cursor.close()\n",
    "    if conn:\n",
    "        conn.close()\n"
   ]
  },
  {
   "cell_type": "markdown",
   "metadata": {},
   "source": [
    "# COPY FROM 사용 및 전처리"
   ]
  },
  {
   "cell_type": "code",
   "execution_count": null,
   "metadata": {},
   "outputs": [
    {
     "name": "stderr",
     "output_type": "stream",
     "text": [
      "C:\\Users\\클루커스\\AppData\\Local\\Temp\\ipykernel_12108\\3183981303.py:11: FutureWarning: DataFrame.applymap has been deprecated. Use DataFrame.map instead.\n",
      "  df = df.applymap(lambda x: x.replace('\\n', '|').replace('\\t', '') if isinstance(x, str) else x)\n"
     ]
    },
    {
     "name": "stdout",
     "output_type": "stream",
     "text": [
      "Data has been successfully inserted into product_code_info4.\n"
     ]
    }
   ],
   "source": [
    "import pandas as pd\n",
    "import psycopg2\n",
    "from io import StringIO\n",
    "import csv\n",
    "\n",
    "# 파일 경로 설정\n",
    "excel_file_path = 'C:/Users/sphong/hong/GOODS_BASE_202410301537_2.xlsx'\n",
    "df = pd.read_excel(excel_file_path, sheet_name=0)\n",
    "\n",
    "# 줄바꿈(\\n)을 '|'로, 탭(\\t)은 빈 문자열로 변경\n",
    "df = df.applymap(lambda x: x.replace('\\n', '|').replace('\\t', '') if isinstance(x, str) else x)\n",
    "\n",
    "load_dotenv()\n",
    "# PostgreSQL 연결 설정\n",
    "conn_params = {\n",
    "    'host': os.getenv('DB_HOST'),\n",
    "    'port': os.getenv('DB_PORT'),\n",
    "    'database': os.getenv('DB_DATABASE'),\n",
    "    'user': os.getenv('DB_USER'),\n",
    "    'password': os.getenv('DB_PASSWORD')\n",
    "}\n",
    "\n",
    "# PostgreSQL 연결\n",
    "conn = psycopg2.connect(**conn_params)\n",
    "cur = conn.cursor()\n",
    "\n",
    "# DataFrame을 CSV 형식의 문자열로 변환 (quotechar 제거)\n",
    "output = StringIO()\n",
    "df.to_csv(output, sep='\\t', index=False, header=False, quoting=csv.QUOTE_NONE, escapechar='\\\\')  # 따옴표 없이 저장\n",
    "output.seek(0)  # StringIO 버퍼를 처음으로 되돌림\n",
    "\n",
    "# 테이블에 데이터 적재\n",
    "try:\n",
    "    cur.copy_from(output, 'product_code_info4', null='', sep='\\t')\n",
    "    conn.commit()\n",
    "    print(\"Data has been successfully inserted into product_code_info4.\")\n",
    "except Exception as e:\n",
    "    conn.rollback()\n",
    "    print(\"Error while inserting data:\", e)\n",
    "finally:\n",
    "    cur.close()\n",
    "    conn.close()\n"
   ]
  },
  {
   "cell_type": "code",
   "execution_count": null,
   "metadata": {},
   "outputs": [],
   "source": []
  }
 ],
 "metadata": {
  "kernelspec": {
   "display_name": ".venv",
   "language": "python",
   "name": "python3"
  },
  "language_info": {
   "codemirror_mode": {
    "name": "ipython",
    "version": 3
   },
   "file_extension": ".py",
   "mimetype": "text/x-python",
   "name": "python",
   "nbconvert_exporter": "python",
   "pygments_lexer": "ipython3",
   "version": "3.11.4"
  }
 },
 "nbformat": 4,
 "nbformat_minor": 2
}
